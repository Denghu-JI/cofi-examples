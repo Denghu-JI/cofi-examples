{
 "cells": [
  {
   "cell_type": "markdown",
   "id": "88fce9c5-7736-448c-bed0-aea7c0636d74",
   "metadata": {},
   "source": [
    "# PyGIMLi - DCIP (Century Deposit Dataset)\n",
    "\n",
    "Using the DCIP (Direct Current, Induced Polarization) solver implemented provided by [PyGIMLi](https://www.pygimli.org/), \n",
    "we use different `cofi` solvers to solve problem with a real dataset."
   ]
  },
  {
   "cell_type": "markdown",
   "id": "5f9f127a-3e07-4529-aeb0-50fd8c5a3853",
   "metadata": {},
   "source": [
    "<!--<badge>--><a href=\"https://colab.research.google.com/github/inlab-geo/cofi-examples/blob/main/notebooks/pygimli_dcip/pygimli_century_dcip.ipynb\" target=\"_parent\"><img src=\"https://colab.research.google.com/assets/colab-badge.svg\" alt=\"Open In Colab\"/></a><!--</badge>-->"
   ]
  },
  {
   "cell_type": "markdown",
   "id": "6425a48b-871d-4599-8505-1cfc8b215e31",
   "metadata": {},
   "source": [
    "<!-- Again, please don't touch the markdown cell above. We'll generate badge \n",
    "     automatically from the above cell. -->\n",
    "\n",
    "<!-- This cell describes things related to environment setup, so please add more text \n",
    "     if something special (not listed below) is needed to run this notebook -->\n",
    "\n",
    "> If you are running this notebook locally, make sure you've followed [steps here](https://github.com/inlab-geo/cofi-examples#run-the-examples-with-cofi-locally)\n",
    "to set up the environment. (This [environment.yml](https://github.com/inlab-geo/cofi-examples/blob/main/envs/environment.yml) file\n",
    "specifies a list of packages required to run the notebooks)\n",
    "\n",
    "Note: This notebook is adapted from a SimPEG example authored by Lindsey Heagy and presented at Transform 2020. [Original Materials](https://curvenote.com/@simpeg/transform-2020-simpeg-tutorial/!6DDumb03Le6D8N8xuJNs)"
   ]
  },
  {
   "cell_type": "markdown",
   "id": "e8d2c6a8",
   "metadata": {},
   "source": [
    "### Frequency domain vs Time domain measurements of chargeability\n",
    "\n",
    "References:\n",
    "- https://gpg.geosci.xyz/content/induced_polarization/induced_polarization_data.html\n",
    "- Martin, T., Günther, T., Orozco, A. F., & Dahlin, T. (2020). Evaluation of spectral induced polarization field measurements in time and frequency domain. Journal of Applied Geophysics, 180. https://doi.org/10.1016/j.jappgeo.2020.104141\n",
    "- Mutton, A. J. (2000). The application of geophysics during evaluation of the Century zinc deposit. Geophysics, 65(6), 1946–1960. https://doi.org/10.1190/1.1444878"
   ]
  },
  {
   "cell_type": "markdown",
   "id": "e9e5f6ba-c5eb-47b3-ab06-4c00dc9112e6",
   "metadata": {},
   "source": [
    "## 0. Set up environment"
   ]
  },
  {
   "cell_type": "code",
   "execution_count": 1,
   "id": "b9242759-8a6f-445a-9819-0c5e229e1624",
   "metadata": {},
   "outputs": [],
   "source": [
    "# -------------------------------------------------------- #\n",
    "#                                                          #\n",
    "#     Uncomment below to set up environment on \"colab\"     #\n",
    "#                                                          #\n",
    "# -------------------------------------------------------- #\n",
    "\n",
    "# !pip install -U cofi\n",
    "\n",
    "# !pip install -q condacolab\n",
    "# import condacolab\n",
    "# condacolab.install()\n",
    "# !mamba install -c gimli pygimli=1.3"
   ]
  },
  {
   "cell_type": "code",
   "execution_count": 27,
   "id": "098639a1-308f-4c9a-8a3b-87018091d5ef",
   "metadata": {},
   "outputs": [],
   "source": [
    "# -------------------------------------------------------- #\n",
    "#                                                          #\n",
    "#     Uncomment below to set up environment on \"colab\"     #\n",
    "#                                                          #\n",
    "# -------------------------------------------------------- #\n",
    "\n",
    "# !git clone https://github.com/inlab-geo/cofi-examples.git\n",
    "# %cd cofi-examples/notebooks/pygimli_dcip"
   ]
  },
  {
   "cell_type": "markdown",
   "id": "e48ed473-8175-4101-b13f-995131163f78",
   "metadata": {},
   "source": [
    "We will need the following packages:\n",
    "\n",
    "- `os` to list and load dataset\n",
    "- `numpy` for matrices and matrix-related functions\n",
    "- `matplotlib` for plotting\n",
    "- `pygimli` for forward modelling of the problem\n",
    "- `cofi` for accessing different inference solvers"
   ]
  },
  {
   "cell_type": "code",
   "execution_count": 2,
   "id": "d077c161-f1f8-4bde-a15c-e7d92d01197f",
   "metadata": {},
   "outputs": [],
   "source": [
    "import os\n",
    "import numpy as np\n",
    "import matplotlib.pyplot as plt\n",
    "import pygimli\n",
    "import cofi"
   ]
  },
  {
   "cell_type": "markdown",
   "id": "28365023-1fba-4848-affc-31a7286d989b",
   "metadata": {},
   "source": [
    "## 1. Load the data\n",
    "\n",
    "We will need to load the preprocessed dataset first. This notebook [century_data_preprocessing.ipynb](century_data_preprocessing.ipynb) contains the code for data preprocessing."
   ]
  },
  {
   "cell_type": "code",
   "execution_count": 3,
   "id": "6d45611b-f10f-4e73-9587-d37a30b1d5b7",
   "metadata": {},
   "outputs": [],
   "source": [
    "dc_data = np.loadtxt(\"century_dc_data.txt\")"
   ]
  },
  {
   "cell_type": "code",
   "execution_count": 5,
   "id": "1cb9d2b6",
   "metadata": {},
   "outputs": [],
   "source": [
    "def load_leapfrog_geologic_section(filename=\"transform-2020-simpeg/century/geologic_section.csv\"):\n",
    "    \"\"\"\n",
    "    Load the geologic cross section. \n",
    "    \"\"\"\n",
    "    fid = open(filename, 'r')\n",
    "    lines = fid.readlines()\n",
    "    data = []\n",
    "    data_tmp = []\n",
    "    for line in lines[2:]:\n",
    "        line_data = (line.split(',')[:3])\n",
    "        if 'End' in line:\n",
    "            data.append(np.vstack(data_tmp)[:,[0, 2]])\n",
    "            data_tmp = []\n",
    "        else:\n",
    "            data_tmp.append(np.array(line_data, dtype=float))\n",
    "    return data\n",
    "geologic_section = load_leapfrog_geologic_section()"
   ]
  },
  {
   "cell_type": "code",
   "execution_count": 6,
   "id": "3b730a10-05f3-47ff-9720-9117077cffd3",
   "metadata": {},
   "outputs": [],
   "source": [
    "a_locs = dc_data[:,0]\n",
    "b_locs = dc_data[:,1]\n",
    "m_locs = dc_data[:,2]\n",
    "n_locs = dc_data[:,3]\n",
    "dc_obs = dc_data[:,4]\n",
    "ip_obs = dc_data[:,5]*0.7 # https://gpg.geosci.xyz/content/induced_polarization/induced_polarization_data.html\n",
    "geo_factors = dc_data[:,6]\n",
    "\n",
    "# pygimli uses radians internally"
   ]
  },
  {
   "cell_type": "code",
   "execution_count": 7,
   "id": "1c762077-2377-4a93-a533-5ba993154afb",
   "metadata": {},
   "outputs": [
    {
     "data": {
      "text/plain": [
       "(26000.0, 29200.0, 100.0, 33)"
      ]
     },
     "execution_count": 7,
     "metadata": {},
     "output_type": "execute_result"
    }
   ],
   "source": [
    "location_start = np.min(a_locs)\n",
    "location_stop = np.max(n_locs)\n",
    "location_interval = m_locs[1] - m_locs[0]\n",
    "location_num = int((location_stop - location_start) / location_interval + 1)\n",
    "\n",
    "location_start, location_stop, location_interval, location_num"
   ]
  },
  {
   "cell_type": "markdown",
   "id": "61588e8f-cd10-4de5-bf81-5a4f0b117034",
   "metadata": {},
   "source": [
    "## 2. Create a PyGIMLi measuring scheme and fill in the data"
   ]
  },
  {
   "cell_type": "code",
   "execution_count": 8,
   "id": "21a5d500-ee15-45fd-a3c3-87d06cb8c915",
   "metadata": {},
   "outputs": [
    {
     "data": {
      "text/plain": [
       "Data: Sensors: 33 data: 151, nonzero entries: ['a', 'b', 'm', 'n', 'valid']"
      ]
     },
     "execution_count": 8,
     "metadata": {},
     "output_type": "execute_result"
    }
   ],
   "source": [
    "data = pygimli.DataContainerERT()\n",
    "\n",
    "for sensor in np.linspace(location_start, location_stop, location_num):\n",
    "    data.createSensor((sensor, 0.0, 0.0))\n",
    "\n",
    "locs_sources = np.vstack((a_locs, b_locs)).T\n",
    "locs_receivers = np.vstack((m_locs, n_locs)).T\n",
    "for i in range(len(locs_sources)):\n",
    "    src = locs_sources[i]\n",
    "    src_idx = (src - location_start) / location_interval\n",
    "    rec = locs_receivers[i]\n",
    "    rec_idx = (rec - location_start) / location_interval\n",
    "    data.createFourPointData(i, src_idx[0], src_idx[1], rec_idx[0], rec_idx[1])\n",
    "data"
   ]
  },
  {
   "cell_type": "code",
   "execution_count": 9,
   "id": "b544ce1b",
   "metadata": {},
   "outputs": [
    {
     "data": {
      "text/plain": [
       "38.999738552941224"
      ]
     },
     "execution_count": 9,
     "metadata": {},
     "output_type": "execute_result"
    }
   ],
   "source": [
    "np.min(dc_obs)"
   ]
  },
  {
   "cell_type": "code",
   "execution_count": 10,
   "id": "69fbfd1e-e696-4102-be8e-1ad2e60af12d",
   "metadata": {},
   "outputs": [
    {
     "name": "stdout",
     "output_type": "stream",
     "text": [
      "ModellingBase::setMesh() copying new mesh ... Found datafile: 33 electrodes\n",
      "Found: 33 node-electrodes\n",
      "rMin = 50, rMax = 6400\n",
      "NGauLeg + NGauLag for inverse Fouriertransformation: 12 + 4\n",
      "Found non-Neumann domain\n",
      "0.005 s\n",
      "FOP updating mesh dependencies ... 0 s\n",
      "Assembling system matrix ... CHOLMOD sparse:  A:  5657-by-5657, nz 63545, upper.  OK\n",
      "CHOLMOD analyzed preordering: 2\n",
      "CHOLMOD factor:  L:  5657-by-5657  supernodal, LL'.  nz 185400  OK\n",
      "Factorizing (Cholmod) system matrix ... Assembling system matrix ... CHOLMOD sparse:  A:  5657-by-5657, nz 63545, upper.  OK\n",
      "CHOLMOD analyzed preordering: 2\n",
      "CHOLMOD factor:  L:  5657-by-5657  supernodal, LL'.  nz 185400  OK\n",
      "Factorizing (Cholmod) system matrix ... Assembling system matrix ... CHOLMOD sparse:  A:  5657-by-5657, nz 63545, upper.  OK\n",
      "CHOLMOD analyzed preordering: 2\n",
      "CHOLMOD factor:  L:  5657-by-5657  supernodal, LL'.  nz 185400  OK\n",
      "Factorizing (Cholmod) system matrix ... Assembling system matrix ... CHOLMOD sparse:  A:  5657-by-5657, nz 63545, upper.  OK\n",
      "CHOLMOD analyzed preordering: 2\n",
      "CHOLMOD factor:  L:  5657-by-5657  supernodal, LL'.  nz 185400  OK\n",
      "Factorizing (Cholmod) system matrix ... Assembling system matrix ... CHOLMOD sparse:  A:  5657-by-5657, nz 63545, upper.  OK\n",
      "CHOLMOD analyzed preordering: 2\n",
      "CHOLMOD factor:  L:  5657-by-5657  supernodal, LL'.  nz 185400  OK\n",
      "Factorizing (Cholmod) system matrix ... Assembling system matrix ... CHOLMOD sparse:  A:  5657-by-5657, nz 63545, upper.  OK\n",
      "CHOLMOD analyzed preordering: 2\n",
      "CHOLMOD factor:  L:  5657-by-5657  supernodal, LL'.  nz 185400  OK\n",
      "Factorizing (Cholmod) system matrix ... Assembling system matrix ... CHOLMOD sparse:  A:  5657-by-5657, nz 63545, upper.  OK\n",
      "CHOLMOD analyzed preordering: 2\n",
      "CHOLMOD factor:  L:  5657-by-5657  supernodal, LL'.  nz 185400  OK\n",
      "Factorizing (Cholmod) system matrix ... Assembling system matrix ... CHOLMOD sparse:  A:  5657-by-5657, nz 63545, upper.  OK\n",
      "CHOLMOD analyzed preordering: 2\n",
      "CHOLMOD factor:  L:  5657-by-5657  supernodal, LL'.  nz 185400  OK\n",
      "Factorizing (Cholmod) system matrix ... Assembling system matrix ... CHOLMOD sparse:  A:  5657-by-5657, nz 63545, upper.  OK\n",
      "CHOLMOD analyzed preordering: 2\n",
      "CHOLMOD factor:  L:  5657-by-5657  supernodal, LL'.  nz 185400  OK\n",
      "Factorizing (Cholmod) system matrix ... Assembling system matrix ... CHOLMOD sparse:  A:  5657-by-5657, nz 63545, upper.  OK\n",
      "CHOLMOD analyzed preordering: 2\n",
      "CHOLMOD factor:  L:  5657-by-5657  supernodal, LL'.  nz 185400  OK\n",
      "Factorizing (Cholmod) system matrix ... Assembling system matrix ... CHOLMOD sparse:  A:  5657-by-5657, nz 63545, upper.  OK\n",
      "CHOLMOD analyzed preordering: 2\n",
      "CHOLMOD factor:  L:  5657-by-5657  supernodal, LL'.  nz 185400  OK\n",
      "Factorizing (Cholmod) system matrix ... Assembling system matrix ... CHOLMOD sparse:  A:  5657-by-5657, nz 63545, upper.  OK\n",
      "CHOLMOD analyzed preordering: 2\n",
      "CHOLMOD factor:  L:  5657-by-5657  supernodal, LL'.  nz 185400  OK\n",
      "Factorizing (Cholmod) system matrix ... Assembling system matrix ... CHOLMOD sparse:  A:  5657-by-5657, nz 63545, upper.  OK\n",
      "CHOLMOD analyzed preordering: 2\n",
      "CHOLMOD factor:  L:  5657-by-5657  supernodal, LL'.  nz 185400  OK\n",
      "Factorizing (Cholmod) system matrix ... Assembling system matrix ... CHOLMOD sparse:  A:  5657-by-5657, nz 63545, upper.  OK\n",
      "CHOLMOD analyzed preordering: 2\n",
      "CHOLMOD factor:  L:  5657-by-5657  supernodal, LL'.  nz 185400  OK\n",
      "Factorizing (Cholmod) system matrix ... Assembling system matrix ... CHOLMOD sparse:  A:  5657-by-5657, nz 63545, upper.  OK\n",
      "CHOLMOD analyzed preordering: 2\n",
      "CHOLMOD factor:  L:  5657-by-5657  supernodal, LL'.  nz 185400  OK\n",
      "Factorizing (Cholmod) system matrix ... Assembling system matrix ... CHOLMOD sparse:  A:  5657-by-5657, nz 63545, upper.  OK\n",
      "CHOLMOD analyzed preordering: 2\n",
      "CHOLMOD factor:  L:  5657-by-5657  supernodal, LL'.  nz 185400  OK\n",
      "Factorizing (Cholmod) system matrix ... Forward: time: 6.098s\n"
     ]
    },
    {
     "name": "stderr",
     "output_type": "stream",
     "text": [
      "11/11/22 - 13:50:22 - pyGIMLi - \u001b[0;32;49mINFO\u001b[0m - Save RVector binary\n",
      "11/11/22 - 13:50:22 - pyGIMLi - \u001b[0;32;49mINFO\u001b[0m - Cache stored: /home/jiawen/.cache/pygimli/9400953270437419382\n"
     ]
    }
   ],
   "source": [
    "data[\"rhoa\"] = dc_obs\n",
    "data[\"phia\"] = -ip_obs/1000. # to make me happy\n",
    "data[\"k\"] = pygimli.physics.ert.createGeometricFactors(data, numerical=True)\n",
    "\n",
    "data_complex_vals = data[\"rhoa\"].array() * np.exp(1j * data[\"phia\"].array())"
   ]
  },
  {
   "cell_type": "code",
   "execution_count": 11,
   "id": "71574720-5a14-46d7-ac0f-566255ea982e",
   "metadata": {},
   "outputs": [
    {
     "data": {
      "image/png": "[encoded data removed]",
      "text/plain": [
       "<Figure size 1000x400 with 4 Axes>"
      ]
     },
     "metadata": {},
     "output_type": "display_data"
    }
   ],
   "source": [
    "# def plot_data(data, data_vals, title):\n",
    "#     fig, ax = plt.subplots(1, 1)\n",
    "#     pygimli.physics.ert.showERTData(\n",
    "#         data, \n",
    "#         vals=data_vals, \n",
    "#         label=r\"$\\Omega$m\", \n",
    "#         ax=ax, \n",
    "#     )\n",
    "def plot_data(pg_data, data, title):\n",
    "    fig, axes = plt.subplots(1,2,figsize=(10,4))\n",
    "    pygimli.physics.ert.showERTData(pg_data, vals=np.real(data), label=r\"$\\Omega$m\", ax=axes[0])\n",
    "    axes[0].set_title(\"Apparent Resistivity\")\n",
    "    pygimli.physics.ert.showERTData(pg_data, vals=np.arctan2(np.imag(data), np.real(data))*1000, label=r\"mrad\", ax=axes[1])\n",
    "    #pygimli.physics.ert.showERTData(pg_data, vals=ip_obs, label=r\"mrad\", ax=axes[1])\n",
    "\n",
    "    axes[1].set_title(\"Apparent Chargeability\")\n",
    "    fig.suptitle(title)\n",
    "\n",
    "plot_data(data, data_complex_vals, \"test\")"
   ]
  },
  {
   "cell_type": "markdown",
   "id": "21f37cae-7bdb-4149-939f-fe75bc4b2e17",
   "metadata": {},
   "source": [
    "## 3. Create inversion mesh"
   ]
  },
  {
   "cell_type": "code",
   "execution_count": 12,
   "id": "259c3f8d-87a2-4869-af5c-c4f9c7b1a175",
   "metadata": {},
   "outputs": [
    {
     "name": "stdout",
     "output_type": "stream",
     "text": [
      "Mesh dimension: (25.0, 25.0)\n",
      "Mesh range x: (26000.0, 29200.0)\n",
      "Mesh range z: (-266.6666666666667, 0.0)\n"
     ]
    }
   ],
   "source": [
    "# calculate dimension in x and z directions\n",
    "n_cells_per_spacing = 4\n",
    "dx = location_interval / n_cells_per_spacing\n",
    "dz = dx\n",
    "\n",
    "# calculate x range\n",
    "x_range = (location_start, location_stop)\n",
    "\n",
    "# calculate z range\n",
    "ab_midpoints = (a_locs + b_locs) / 2\n",
    "mn_midpoints = (m_locs + n_locs) / 2\n",
    "ab_mn_separation = np.abs(ab_midpoints - mn_midpoints)\n",
    "max_separation = np.max(ab_mn_separation)\n",
    "z_depth = - max_separation / 3.\n",
    "z_range = (z_depth, 0.)\n",
    "\n",
    "# print\n",
    "print(f\"Mesh dimension: ({dx}, {dz})\")\n",
    "print(f\"Mesh range x: {x_range}\")\n",
    "print(f\"Mesh range z: {z_range}\")"
   ]
  },
  {
   "cell_type": "code",
   "execution_count": 13,
   "id": "eaad8659-c787-4476-abd3-839dc6d41ffe",
   "metadata": {},
   "outputs": [],
   "source": [
    "# params for creating mesh nodes\n",
    "n_midd_extra = 4\n",
    "n_midd_x = np.ceil(np.diff(x_range)/dx) + n_midd_extra*2\n",
    "n_top_z = np.ceil(np.diff(z_range)/dz) + n_midd_extra\n",
    "n_side = 10         # number of nodes extending in x and z\n",
    "extending_factor = 1.3\n",
    "extending_list = (np.ones(n_side) * extending_factor) ** (np.arange(n_side) + 1)\n",
    "\n",
    "# create nodes in x direction\n",
    "dist_x_left = (extending_list * dx)[::-1]\n",
    "dist_x_midd = int(n_midd_x) * [dx]\n",
    "dist_x_right = extending_list * dx\n",
    "dist_x = np.hstack((dist_x_left, dist_x_midd, dist_x_right))\n",
    "nodes_x = np.r_[(x_range[1]+x_range[0])/2-np.sum(dist_x)/2, dist_x].cumsum()\n",
    "\n",
    "# create nodes in z direction\n",
    "dist_z_bot = (extending_list * dz)[::-1]\n",
    "dist_z_top = int(n_top_z) * [dz]\n",
    "dist_z = np.hstack((dist_z_bot, dist_z_top))\n",
    "nodes_z = np.r_[-np.sum(dist_z), dist_z].cumsum()"
   ]
  },
  {
   "cell_type": "code",
   "execution_count": 14,
   "id": "750fc0d5-adfa-47b8-ab2c-e385ac313d07",
   "metadata": {},
   "outputs": [
    {
     "data": {
      "image/png": "[encoded data removed]",
      "text/plain": [
       "<Figure size 1000x800 with 1 Axes>"
      ]
     },
     "metadata": {},
     "output_type": "display_data"
    }
   ],
   "source": [
    "inv_mesh = pygimli.meshtools.createGrid(x=nodes_x, y=nodes_z)\n",
    "\n",
    "_, ax = plt.subplots(figsize=(10,8))\n",
    "pygimli.show(inv_mesh, showMesh=True, markers=True, colorBar=False, ax=ax)\n",
    "ax.set_title(\"Mesh used for inversion\");\n",
    "ax.set_xlabel(\"Northing (m)\");\n",
    "ax.set_ylabel(\"Elevation (m)\");"
   ]
  },
  {
   "cell_type": "markdown",
   "id": "6209c60a-78d5-45b1-9a90-c92557e8e1c9",
   "metadata": {},
   "source": [
    "## 4. Set up forward operator and regularization matrix"
   ]
  },
  {
   "cell_type": "code",
   "execution_count": 15,
   "id": "5b888733-d173-4abb-8a6f-a3e7534cc480",
   "metadata": {},
   "outputs": [
    {
     "name": "stderr",
     "output_type": "stream",
     "text": [
      "11/11/22 - 13:50:23 - pyGIMLi - \u001b[0;32;49mINFO\u001b[0m - Found 1 regions.\n"
     ]
    }
   ],
   "source": [
    "ert_mgr = pygimli.physics.ert.ERTManager(data)\n",
    "ert_mgr.setMesh(inv_mesh)\n",
    "\n",
    "forward_oprt = ert_mgr.fop\n",
    "forward_oprt.setComplex(True)\n",
    "forward_oprt.setData(data)\n",
    "forward_oprt.setMesh(inv_mesh, ignoreRegionManager=True)\n",
    "\n",
    "region_manager = forward_oprt.regionManager()\n",
    "region_manager.setConstraintType(2)\n",
    "Wm = pygimli.matrix.SparseMapMatrix()\n",
    "region_manager.fillConstraints(Wm)\n",
    "Wm = pygimli.utils.sparseMatrix2coo(Wm)"
   ]
  },
  {
   "cell_type": "code",
   "execution_count": 23,
   "id": "003fa8de",
   "metadata": {},
   "outputs": [],
   "source": [
    "def starting_model(ert_manager, inv_mesh, rhoa_val=None, phia_val=None):\n",
    "    data = ert_manager.data\n",
    "    rhoa = np.median(data[\"rhoa\"]) if rhoa_val is None else rhoa_val\n",
    "    phia = np.median(data[\"phia\"]) if phia_val is None else phia_val\n",
    "    start_val = pygimli.utils.complex.toComplex(rhoa, phia)\n",
    "    start_model = np.ones(inv_mesh.cellCount()) * start_val\n",
    "    start_model_log = np.log(start_model)\n",
    "    start_model_log_real = np.concatenate((np.real(start_model_log), np.imag(start_model_log)))\n",
    "    return start_model, start_model_log, start_model_log_real\n",
    "\n",
    "def plot_model(mesh, model_vec, title):\n",
    "    fig, axes = plt.subplots(1,2,figsize=(10,3))\n",
    "    pygimli.show(mesh, data=np.abs(model_vec), label=r\"$\\Omega m$\", ax=axes[0])\n",
    "    #axes[0].set_xlim(x_inv_start, x_inv_stop)\n",
    "    #axes[0].set_ylim(y_inv_start, y_inv_stop)\n",
    "    axes[0].set_title(\"Resistivity\")\n",
    "    pygimli.show(mesh, data=np.arctan2(np.imag(model_vec), np.real(model_vec)) * 1000, label=r\"mrad\", ax=axes[1])\n",
    "    #axes[1].set_xlim(x_inv_start, x_inv_stop)\n",
    "    #axes[1].set_ylim(y_inv_start, y_inv_stop)\n",
    "    axes[1].set_title(\"Chargeability\")\n",
    "    fig.suptitle(title)"
   ]
  },
  {
   "cell_type": "code",
   "execution_count": 24,
   "id": "8f5405cb-2713-4e33-a670-cb9b7ec3a1f0",
   "metadata": {},
   "outputs": [
    {
     "data": {
      "image/png": "[encoded data removed]",
      "text/plain": [
       "<Figure size 1000x300 with 4 Axes>"
      ]
     },
     "metadata": {},
     "output_type": "display_data"
    }
   ],
   "source": [
    "start_model, start_model_log, start_model_log_real = starting_model(ert_mgr, inv_mesh)\n",
    "plot_model(ert_mgr.paraDomain, start_model, \"Starting model\")"
   ]
  },
  {
   "cell_type": "markdown",
   "id": "b338da22-0d85-4ff5-b27f-01f5bc3d903b",
   "metadata": {},
   "source": [
    "## 5. Create utility functions to pass to CoFI"
   ]
  },
  {
   "cell_type": "code",
   "execution_count": 25,
   "id": "0e7c6ae0-b9f3-439a-8d5a-7d8eebb03c57",
   "metadata": {
    "jupyter": {
     "source_hidden": true
    },
    "tags": []
   },
   "outputs": [],
   "source": [
    "# Utility Functions (additional)\n",
    "\n",
    "def _ensure_numpy(model):\n",
    "    if \"torch.Tensor\" in str(type(model)):\n",
    "        model = model.cpu().detach().numpy()\n",
    "    return model\n",
    "\n",
    "# accepts model in log complex space -> produces y in log complex space\n",
    "def get_response(model_log, fop):\n",
    "    model = np.exp(model_log)\n",
    "    model = _ensure_numpy(model)\n",
    "    model_re_im = pygimli.utils.squeezeComplex(model)\n",
    "    synth = np.array(fop.response(model_re_im))\n",
    "    return np.log(pygimli.utils.toComplex(synth))\n",
    "\n",
    "# accepts model in log complex space -> produces Jac in log-log complex space\n",
    "def get_jacobian(model_log, fop):\n",
    "    model = np.exp(model_log)\n",
    "    model = _ensure_numpy(model)\n",
    "    model_re_im = pygimli.utils.squeezeComplex(model)\n",
    "    J_block = fop.createJacobian(model_re_im)\n",
    "    J_re = np.array(J_block.mat(0))\n",
    "    J_im = np.array(J_block.mat(1))\n",
    "    J = J_re + 1j * J_im\n",
    "    y_synth_log = get_response(model_log, fop)\n",
    "    J_loglog = J / np.exp(y_synth_log[:,np.newaxis]) * model[np.newaxis,:]\n",
    "    return J_loglog\n",
    "\n",
    "# accepts model/data in log complex space -> produces residuals in log complex space\n",
    "def get_residuals(model_log, data_log, fop):\n",
    "    y_synth_log = get_response(model_log, fop)\n",
    "    return data_log - y_synth_log\n",
    "\n",
    "# accepts model/data in log complex space -> produces data misfit in log complex space\n",
    "def get_data_misfit(model_log, data_log, fop):\n",
    "    res = get_residuals(model_log, data_log, fop)\n",
    "    return res.T.dot(res)\n",
    "\n",
    "# accepts model in log complex space -> produces regularizaton value in log complex space\n",
    "def get_regularization(model_log, lamda, Wm):\n",
    "    weighted_model_log = Wm.dot(model_log)\n",
    "    return lamda * weigted_model_log.T.dot(weighted_model_log)\n",
    "\n",
    "# accepts model in log real space -> produces objective value in log real space\n",
    "def get_objective(model_log_real, data_log, fop, lamda, Wm):\n",
    "    # convert model_log_real into complex numbers\n",
    "    nparams = int(len(model_log_real) // 2)\n",
    "    model_log = model_log_real[:nparams] + 1j * model_log_real[nparams:]\n",
    "    # calculate data misfit\n",
    "    res = get_residuals(model_log, data_log, fop)\n",
    "    data_misfit = res.T.dot(res)\n",
    "    # calculate regularization term\n",
    "    weighted_model_log = Wm.dot(model_log)\n",
    "    reg = lamda * weighted_model_log.T.dot(weighted_model_log)\n",
    "    # sum up\n",
    "    result = np.abs(data_misfit + reg)\n",
    "    return result\n",
    "\n",
    "# accepts model in log real space -> produces gradient vector in log real space\n",
    "def get_gradient(model_log_real, data_log, fop, lamda, Wm):\n",
    "    # convert model_log_real into complex numbers\n",
    "    nparams = int(len(model_log_real) // 2)\n",
    "    model_log = model_log_real[:nparams] + 1j * model_log_real[nparams:]\n",
    "    # calculate gradient for data misfit\n",
    "    res = get_residuals(model_log, data_log, fop)\n",
    "    jac = get_jacobian(model_log, fop)\n",
    "    data_misfit_grad = - jac.conj().T.dot(res)\n",
    "    # calculate gradient for regularization term\n",
    "    reg_grad = lamda * Wm.T.dot(Wm).dot(model_log)\n",
    "    # sum up\n",
    "    grad_complex = data_misfit_grad + reg_grad\n",
    "    grad_real = np.concatenate((np.real(grad_complex), np.imag(grad_complex)))\n",
    "    return grad_real\n",
    "\n",
    "# accepts model in log real space -> produces hessian matrix in log real space\n",
    "def get_hessian(model_log_real, data_log, fop, lamda, Wm):\n",
    "    # convert model_log_real into complex numbers\n",
    "    nparams = int(len(model_log_real) // 2)\n",
    "    model_log = model_log_real[:nparams] + 1j * model_log_real[nparams:]\n",
    "    # calculate hessian for data misfit\n",
    "    res = get_residuals(model_log, data_log, fop)\n",
    "    jac = get_jacobian(model_log, fop)\n",
    "    data_misfit_hessian = - jac.conj().T.dot(jac)\n",
    "    # calculate hessian for regularization term\n",
    "    reg_hessian = lamda * Wm.T.dot(Wm)\n",
    "    # sum up\n",
    "    hessian_complex = data_misfit_hessian + reg_hessian\n",
    "    hessian_real = np.zeros((2*nparams, 2*nparams))\n",
    "    hessian_real[:nparams,:nparams] = np.real(hessian_complex)\n",
    "    hessian_real[:nparams,nparams:] = -np.imag(hessian_complex)\n",
    "    hessian_real[nparams:,:nparams] = np.imag(hessian_complex)\n",
    "    hessian_real[nparams:,nparams:] = np.real(hessian_complex)\n",
    "    return hessian_real\n",
    "\n",
    "# accepts model in log real space -> produces model in normal complex space\n",
    "def post_process(model_log_real):\n",
    "    nparams = int(model_log_real.shape[0]/2)\n",
    "    return np.exp(model_log_real[:nparams] + 1j * model_log_real[nparams:])"
   ]
  },
  {
   "cell_type": "code",
   "execution_count": 26,
   "id": "a218d724-c5d9-4fa2-93d2-50f275073179",
   "metadata": {},
   "outputs": [
    {
     "data": {
      "text/plain": [
       "array([4.89578   +0.00732294j, 4.88914808+0.00732294j,\n",
       "       4.90147184+0.00732294j, 4.89647011+0.00732294j,\n",
       "       4.89013964+0.00732294j, 4.90533059+0.00732294j,\n",
       "       4.90184843+0.00732294j, 4.89708465+0.00732294j,\n",
       "       4.89090722+0.00732294j, 4.90740218+0.00732294j,\n",
       "       4.90544444+0.00732294j, 4.90218731+0.00732294j,\n",
       "       4.89750627+0.00732294j, 4.89158902+0.00732294j,\n",
       "       4.90735594+0.00732294j, 4.9073663 +0.00732294j,\n",
       "       4.90565671+0.00732294j, 4.90240972+0.00732294j,\n",
       "       4.89796177+0.00732294j, 4.89210603+0.00732294j,\n",
       "       4.90185605+0.00732294j, 4.9070536 +0.00732294j,\n",
       "       4.90751076+0.00732294j, 4.90574251+0.00732294j,\n",
       "       4.90273009+0.00732294j, 4.89825776+0.00732294j,\n",
       "       4.89254665+0.00732294j, 4.89954229+0.00732294j,\n",
       "       4.90713424+0.00732294j, 4.90749184+0.00732294j,\n",
       "       4.9060128 +0.00732294j, 4.90286923+0.00732294j,\n",
       "       4.89852149+0.00732294j, 4.89293082+0.00732294j,\n",
       "       4.90285561+0.00732294j, 4.907465  +0.00732294j,\n",
       "       4.90794495+0.00732294j, 4.90607987+0.00732294j,\n",
       "       4.90303605+0.00732294j, 4.89878281+0.00732294j,\n",
       "       4.90228156+0.00732294j, 4.90795984+0.00732294j,\n",
       "       4.90776301+0.00732294j, 4.90609116+0.00732294j,\n",
       "       4.90316643+0.00732294j, 4.89893046+0.00732294j,\n",
       "       4.90517473+0.00732294j, 4.90767371+0.00732294j,\n",
       "       4.90779008+0.00732294j, 4.90623641+0.00732294j,\n",
       "       4.90328402+0.00732294j, 4.89902528+0.00732294j,\n",
       "       4.90001655+0.00732294j, 4.90698832+0.00732294j,\n",
       "       4.9076454 +0.00732294j, 4.90614922+0.00732294j,\n",
       "       4.90319109+0.00732294j, 4.89906117+0.00732294j,\n",
       "       4.90064526+0.00732294j, 4.90747398+0.00732294j,\n",
       "       4.90788732+0.00732294j, 4.90620324+0.00732294j,\n",
       "       4.90334017+0.00732294j, 4.89921445+0.00732294j,\n",
       "       4.90241136+0.00732294j, 4.90776148+0.00732294j,\n",
       "       4.90779704+0.00732294j, 4.90627923+0.00732294j,\n",
       "       4.90342462+0.00732294j, 4.8992116 +0.00732294j,\n",
       "       4.901966  +0.00732294j, 4.90717774+0.00732294j,\n",
       "       4.90772797+0.00732294j, 4.90627382+0.00732294j,\n",
       "       4.90333204+0.00732294j, 4.89918112+0.00732294j,\n",
       "       4.89975784+0.00732294j, 4.90716766+0.00732294j,\n",
       "       4.90777543+0.00732294j, 4.90617958+0.00732294j,\n",
       "       4.90332407+0.00732294j, 4.89907823+0.00732294j,\n",
       "       4.90150845+0.00732294j, 4.9074766 +0.00732294j,\n",
       "       4.90774494+0.00732294j, 4.90624981+0.00732294j,\n",
       "       4.90325555+0.00732294j, 4.89907954+0.00732294j,\n",
       "       4.90088272+0.00732294j, 4.90730389+0.00732294j,\n",
       "       4.90778777+0.00732294j, 4.90612273+0.00732294j,\n",
       "       4.90326881+0.00732294j, 4.89893187+0.00732294j,\n",
       "       4.90201726+0.00732294j, 4.9074851 +0.00732294j,\n",
       "       4.90764535+0.00732294j, 4.9062125 +0.00732294j,\n",
       "       4.90315497+0.00732294j, 4.89877893+0.00732294j,\n",
       "       4.90233423+0.00732294j, 4.90734584+0.00732294j,\n",
       "       4.90792509+0.00732294j, 4.9061694 +0.00732294j,\n",
       "       4.90309031+0.00732294j, 4.89847267+0.00732294j,\n",
       "       4.90039697+0.00732294j, 4.90771156+0.00732294j,\n",
       "       4.90777562+0.00732294j, 4.90608532+0.00732294j,\n",
       "       4.90274898+0.00732294j, 4.89827205+0.00732294j,\n",
       "       4.90549789+0.00732294j, 4.90797666+0.00732294j,\n",
       "       4.90794154+0.00732294j, 4.9058261 +0.00732294j,\n",
       "       4.90274339+0.00732294j, 4.89800103+0.00732294j,\n",
       "       4.90183302+0.00732294j, 4.90736783+0.00732294j,\n",
       "       4.90715581+0.00732294j, 4.9057278 +0.00732294j,\n",
       "       4.90243782+0.00732294j, 4.89754143+0.00732294j,\n",
       "       4.90200321+0.00732294j, 4.90655901+0.00732294j,\n",
       "       4.90749687+0.00732294j, 4.90569132+0.00732294j,\n",
       "       4.90222384+0.00732294j, 4.89710687+0.00732294j,\n",
       "       4.89801735+0.00732294j, 4.90721006+0.00732294j,\n",
       "       4.90744665+0.00732294j, 4.90549837+0.00732294j,\n",
       "       4.90188447+0.00732294j, 4.89651134+0.00732294j,\n",
       "       4.90681918+0.00732294j, 4.90819402+0.00732294j,\n",
       "       4.90764856+0.00732294j, 4.905447  +0.00732294j,\n",
       "       4.9015658 +0.00732294j, 4.89586726+0.00732294j,\n",
       "       4.90277399+0.00732294j, 4.9070709 +0.00732294j,\n",
       "       4.90718255+0.00732294j, 4.90498146+0.00732294j,\n",
       "       4.9009654 +0.00732294j, 4.90038479+0.00732294j,\n",
       "       4.90720651+0.00732294j, 4.9070909 +0.00732294j,\n",
       "       4.90476232+0.00732294j])"
      ]
     },
     "execution_count": 26,
     "metadata": {},
     "output_type": "execute_result"
    }
   ],
   "source": [
    "# test\n",
    "get_response(start_model_log_real, forward_oprt)"
   ]
  },
  {
   "cell_type": "markdown",
   "id": "60c929a0-ad45-4c6a-aba5-b5f99d0e46a7",
   "metadata": {},
   "source": [
    "## 6. Run inversion with CoFI"
   ]
  },
  {
   "cell_type": "code",
   "execution_count": null,
   "id": "d42c53a0-14a7-4979-841e-4f33eb1b19a0",
   "metadata": {},
   "outputs": [],
   "source": [
    "dc_start_model = np.ones(inv_mesh.cellCount()) * np.median(data[\"rhoa\"])\n",
    "dc_start_model_log = np.log(start_model)\n",
    "\n"
   ]
  },
  {
   "cell_type": "code",
   "execution_count": null,
   "id": "8416eee4-be3a-453f-9797-513dc1f088e2",
   "metadata": {},
   "outputs": [],
   "source": [
    "# hyperparameters\n",
    "lamda=0.001\n",
    "\n",
    "# CoFI - define BaseProblem\n",
    "dcip_problem = cofi.BaseProblem()\n",
    "dcip_problem.name = \"DC-IP defined through PyGIMLi\"\n",
    "dcip_problem.set_objective(get_objective, args=[log_data, forward_oprt, 0.001, Wm])\n",
    "dcip_problem.set_gradient(get_gradient, args=[log_data, forward_oprt, 0.001, Wm])\n",
    "dcip_problem.set_hessian(get_hessian, args=[log_data, forward_oprt, 0.001, Wm])\n",
    "dcip_problem.set_initial_model(start_model_log_real)"
   ]
  },
  {
   "cell_type": "code",
   "execution_count": null,
   "id": "5e2a6bf7-f967-4540-8550-f17c82c37eee",
   "metadata": {},
   "outputs": [],
   "source": [
    "# test\n",
    "dcip_problem.objective(start_model_log_real)"
   ]
  },
  {
   "cell_type": "code",
   "execution_count": null,
   "id": "5d825a33-fbab-4dab-8858-6e0e3e259331",
   "metadata": {},
   "outputs": [],
   "source": [
    "# CoFI - define InversionOptions\n",
    "inv_options = cofi.InversionOptions()\n",
    "inv_options.set_tool(\"cofi.simple_newton\")\n",
    "inv_options.set_params(max_iterations=2, step_length=0.0001)\n",
    "\n",
    "# CoFI - define Inversion and run\n",
    "inv = cofi.Inversion(dcip_problem, inv_options)\n",
    "inv_result = inv.run()\n",
    "\n",
    "print(f\"\\nNumber of objective function evaluations: {inv_result.n_obj_evaluations}\")\n",
    "print(f\"Number of gradient function evaluations: {inv_result.n_grad_evaluations}\")\n",
    "print(f\"Number of hessian function evaluations: {inv_result.n_hess_evaluations}\")"
   ]
  },
  {
   "cell_type": "code",
   "execution_count": null,
   "id": "e859e7df",
   "metadata": {},
   "outputs": [],
   "source": []
  },
  {
   "cell_type": "code",
   "execution_count": null,
   "id": "660a3330-27de-4998-be97-dea611f9c767",
   "metadata": {},
   "outputs": [],
   "source": [
    "_, ax = plt.subplots(figsize=(10,8))\n",
    "pygimli.show(ert_mgr.paraDomain, data=np.exp(inv_result.model), label=\"$\\Omega m$\", showMesh=True, ax=ax)\n",
    "ax.set_xlim([26000,29500])\n",
    "ax.set_ylim([-500,0])\n",
    "\n",
    "for data in geologic_section:\n",
    "    ax.plot(data[:,0], data[:,1], 'k--', alpha=0.5)"
   ]
  },
  {
   "cell_type": "code",
   "execution_count": null,
   "id": "35694425",
   "metadata": {},
   "outputs": [],
   "source": []
  }
 ],
 "metadata": {
  "kernelspec": {
   "display_name": "Python 3 (ipykernel)",
   "language": "python",
   "name": "python3"
  },
  "language_info": {
   "codemirror_mode": {
    "name": "ipython",
    "version": 3
   },
   "file_extension": ".py",
   "mimetype": "text/x-python",
   "name": "python",
   "nbconvert_exporter": "python",
   "pygments_lexer": "ipython3",
   "version": "3.10.6"
  }
 },
 "nbformat": 4,
 "nbformat_minor": 5
}
