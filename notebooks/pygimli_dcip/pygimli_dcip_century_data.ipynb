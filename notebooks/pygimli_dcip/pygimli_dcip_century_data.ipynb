{
 "cells": [
  {
   "cell_type": "markdown",
   "id": "88fce9c5-7736-448c-bed0-aea7c0636d74",
   "metadata": {},
   "source": [
    "# PyGIMLi - DCIP (real dataset)\n",
    "\n",
    "Using the DCIP (Direct Current, Induced Polarization) solver implemented provided by [PyGIMLi](https://www.pygimli.org/), \n",
    "we use different `cofi` solvers to solve problem with a real dataset."
   ]
  },
  {
   "cell_type": "markdown",
   "id": "5f9f127a-3e07-4529-aeb0-50fd8c5a3853",
   "metadata": {},
   "source": [
    "<!--<badge>--><a href=\"https://colab.research.google.com/github/inlab-geo/cofi-examples/blob/main/notebooks/pygimli_dcip/pygimli_dcip_century_data.ipynb\" target=\"_parent\"><img src=\"https://colab.research.google.com/assets/colab-badge.svg\" alt=\"Open In Colab\"/></a><!--</badge>-->"
   ]
  },
  {
   "cell_type": "markdown",
   "id": "6425a48b-871d-4599-8505-1cfc8b215e31",
   "metadata": {},
   "source": [
    "<!-- Again, please don't touch the markdown cell above. We'll generate badge \n",
    "     automatically from the above cell. -->\n",
    "\n",
    "<!-- This cell describes things related to environment setup, so please add more text \n",
    "     if something special (not listed below) is needed to run this notebook -->\n",
    "\n",
    "> If you are running this notebook locally, make sure you've followed [steps here](https://github.com/inlab-geo/cofi-examples#run-the-examples-with-cofi-locally)\n",
    "to set up the environment. (This [environment.yml](https://github.com/inlab-geo/cofi-examples/blob/main/envs/environment.yml) file\n",
    "specifies a list of packages required to run the notebooks)\n",
    "\n",
    "Note: This notebook is adapted from a SimPEG example authored by Lindsey Heagy and presented at Transform 2020. [Original Materials](https://curvenote.com/@simpeg/transform-2020-simpeg-tutorial/!6DDumb03Le6D8N8xuJNs)"
   ]
  },
  {
   "cell_type": "markdown",
   "id": "e9e5f6ba-c5eb-47b3-ab06-4c00dc9112e6",
   "metadata": {},
   "source": [
    "## 0. Set up environment"
   ]
  },
  {
   "cell_type": "code",
   "execution_count": 1,
   "id": "b9242759-8a6f-445a-9819-0c5e229e1624",
   "metadata": {},
   "outputs": [],
   "source": [
    "# -------------------------------------------------------- #\n",
    "#                                                          #\n",
    "#     Uncomment below to set up environment on \"colab\"     #\n",
    "#                                                          #\n",
    "# -------------------------------------------------------- #\n",
    "\n",
    "# !pip install -U cofi\n",
    "\n",
    "# !pip install -q condacolab\n",
    "# import condacolab\n",
    "# condacolab.install()\n",
    "# !mamba install -c gimli pygimli=1.3"
   ]
  },
  {
   "cell_type": "markdown",
   "id": "e48ed473-8175-4101-b13f-995131163f78",
   "metadata": {},
   "source": [
    "We will need the following packages:\n",
    "\n",
    "- `os` to list and load dataset\n",
    "- `numpy` for matrices and matrix-related functions\n",
    "- `matplotlib` for plotting\n",
    "- `pygimli` for forward modelling of the problem\n",
    "- `cofi` for accessing different inference solvers"
   ]
  },
  {
   "cell_type": "code",
   "execution_count": 2,
   "id": "d077c161-f1f8-4bde-a15c-e7d92d01197f",
   "metadata": {},
   "outputs": [],
   "source": [
    "import os\n",
    "import numpy as np\n",
    "import matplotlib.pyplot as plt\n",
    "import pygimli\n",
    "import cofi"
   ]
  },
  {
   "cell_type": "markdown",
   "id": "28365023-1fba-4848-affc-31a7286d989b",
   "metadata": {},
   "source": [
    "## 1. Load the data\n",
    "\n",
    "We will need to download the preprocessed dataset first. This notebook [century_data_preprocessing.ipynb](century_data_preprocessing.ipynb) contains the code for data preprocessing."
   ]
  },
  {
   "cell_type": "code",
   "execution_count": null,
   "id": "5f676dc4-d1b4-419b-b5a2-ec5ee31d1f50",
   "metadata": {},
   "outputs": [
    {
     "data": {
      "text/plain": [
       "['27750N',\n",
       " '46800E',\n",
       " '46200E',\n",
       " 'gmt',\n",
       " '47200E',\n",
       " '47000E',\n",
       " '47700E',\n",
       " 'geologic_section.csv',\n",
       " 'Data_in_3D_format']"
      ]
     },
     "execution_count": 4,
     "metadata": {},
     "output_type": "execute_result"
    }
   ],
   "source": [
    "os.listdir('century')"
   ]
  },
  {
   "cell_type": "code",
   "execution_count": null,
   "id": "784fabb7-c1ec-4e07-bf75-e5410ac6e40a",
   "metadata": {},
   "outputs": [
    {
     "name": "stdout",
     "output_type": "stream",
     "text": [
      "['46800IP.OBS', 'IPMODA.CHG', '468MESH.DAT', '46800POT.OBS', '.ipynb_checkpoints', 'DCMODA.CON', 'IPMODA.PRE', 'DCMODA.PRE']\n"
     ]
    }
   ],
   "source": [
    "line = \"46800E\"\n",
    "print(os.listdir(os.path.join('century',line)))\n",
    "\n",
    "dc_data_file = f\"./century/{line}/{line[:-1]}POT.OBS\""
   ]
  },
  {
   "cell_type": "code",
   "execution_count": null,
   "id": "22079f58-48cd-4e5b-ac3b-74ea63fecd53",
   "metadata": {},
   "outputs": [],
   "source": [
    "def read_dcip_data(filename, verbose=True):\n",
    "    \"\"\"\n",
    "    Read in a .OBS file from the Century data set into a python dictionary. \n",
    "    The format is the old UBC-GIF DCIP format.\n",
    "    \n",
    "    Parameters\n",
    "    ----------\n",
    "    filename : str\n",
    "        Path to the file to be parsed\n",
    "    \n",
    "    verbose: bool\n",
    "        Print some things? \n",
    "    \n",
    "    \n",
    "    Returns\n",
    "    -------\n",
    "    dict\n",
    "        A dictionary with the locations of\n",
    "        - a_locations: the positive source electrode locations (numpy array) \n",
    "        - b_locations: the negative source electrode locations (numpy array) \n",
    "        - m_locations: the receiver locations (list of numpy arrays)\n",
    "        - n_locations: the receiver locations (list of numpy arrays)\n",
    "        - observed_data: observed data (list of numpy arrays)\n",
    "        - standard_deviations: assigned standard deviations (list of numpy arrays)\n",
    "        - n_sources: number of sources (int)\n",
    "    \n",
    "    \"\"\"\n",
    "    \n",
    "    # read in the text file as a numpy array of strings (each row is an entry)\n",
    "    contents = np.genfromtxt(filename, delimiter=' \\n', dtype=str)\n",
    "    \n",
    "    # the second line has the number of sources, current, and data type (voltages if 1)\n",
    "    n_sources = int(contents[1].split()[0])\n",
    "    \n",
    "    if verbose is True: \n",
    "        print(f\"number of sources: {n_sources}\")\n",
    "    \n",
    "    # initialize storage for the electrode locations and data\n",
    "    a_locations = []\n",
    "    b_locations = []\n",
    "    m_locations = []\n",
    "    n_locations = []\n",
    "    observed_data = []\n",
    "    standard_deviations = []\n",
    "    \n",
    "    # index to track where we have read in content \n",
    "    content_index = 1 \n",
    "    \n",
    "    # loop over sources \n",
    "    for i in range(n_sources):\n",
    "        # start by reading in the source info \n",
    "        content_index = content_index + 1  # read the next line\n",
    "        a_location, b_location, nrx = contents[content_index].split()  # this is a string\n",
    "\n",
    "        # convert the strings to a float for locations and an int for the number of receivers\n",
    "        a_loc = float(a_location)\n",
    "        b_loc = float(b_location)\n",
    "        nrx = int(nrx)\n",
    "\n",
    "        if verbose is True: \n",
    "            print(f\"Source {i}: A-loc: {a_location}, B-loc: {b_location}, N receivers: {nrx}\")\n",
    "\n",
    "        # initialize space for receiver locations, observed data associated with this source\n",
    "        # m_locations_i, n_locations_i = np.zeros(nrx), np.zeros(nrx)\n",
    "        # observed_data_i, standard_deviations_i = np.zeros(nrx), np.zeros(nrx)\n",
    "\n",
    "        # read in the receiver info \n",
    "        for j in range(nrx):\n",
    "            content_index = content_index + 1  # read the next line\n",
    "            m_location, n_location, datum, std = contents[content_index].split()\n",
    "\n",
    "            # convert the locations and data to floats, and store them\n",
    "            m_loc = float(m_location)\n",
    "            n_loc = float(n_location)\n",
    "            dt = float(datum)\n",
    "            std = float(std)\n",
    "            \n",
    "            # append sources (a, b), receivers (m, n), datum and std\n",
    "            a_locations.append(a_loc)\n",
    "            b_locations.append(b_loc)\n",
    "            m_locations.append(m_loc)\n",
    "            n_locations.append(n_loc)\n",
    "            observed_data.append(dt)\n",
    "            standard_deviations.append(std)\n",
    "    \n",
    "    return {\n",
    "        \"a_locations\": a_locations,\n",
    "        \"b_locations\": b_locations, \n",
    "        \"m_locations\": m_locations,\n",
    "        \"n_locations\": n_locations,\n",
    "        \"observed_data\": observed_data, \n",
    "        \"standard_deviations\": standard_deviations,\n",
    "        \"n_sources\": n_sources, \n",
    "    }"
   ]
  },
  {
   "cell_type": "code",
   "execution_count": 7,
   "id": "ba73daf7-7868-4b0e-b7e9-ca3c35ce00ae",
   "metadata": {},
   "outputs": [
    {
     "name": "stdout",
     "output_type": "stream",
     "text": [
      "number of sources: 27\n",
      "Source 0: A-loc: 26000.000000, B-loc: 26100.000000, N receivers: 2\n",
      "Source 1: A-loc: 26100.000000, B-loc: 26200.000000, N receivers: 3\n",
      "Source 2: A-loc: 26200.000000, B-loc: 26300.000000, N receivers: 4\n",
      "Source 3: A-loc: 26300.000000, B-loc: 26400.000000, N receivers: 5\n",
      "Source 4: A-loc: 26400.000000, B-loc: 26500.000000, N receivers: 6\n",
      "Source 5: A-loc: 26500.000000, B-loc: 26600.000000, N receivers: 7\n",
      "Source 6: A-loc: 26600.000000, B-loc: 26700.000000, N receivers: 7\n",
      "Source 7: A-loc: 26700.000000, B-loc: 26800.000000, N receivers: 6\n",
      "Source 8: A-loc: 26800.000000, B-loc: 26900.000000, N receivers: 6\n",
      "Source 9: A-loc: 26900.000000, B-loc: 27000.000000, N receivers: 6\n",
      "Source 10: A-loc: 27000.000000, B-loc: 27100.000000, N receivers: 6\n",
      "Source 11: A-loc: 27100.000000, B-loc: 27200.000000, N receivers: 6\n",
      "Source 12: A-loc: 27200.000000, B-loc: 27300.000000, N receivers: 6\n",
      "Source 13: A-loc: 27300.000000, B-loc: 27400.000000, N receivers: 6\n",
      "Source 14: A-loc: 27400.000000, B-loc: 27500.000000, N receivers: 6\n",
      "Source 15: A-loc: 27500.000000, B-loc: 27600.000000, N receivers: 6\n",
      "Source 16: A-loc: 27600.000000, B-loc: 27700.000000, N receivers: 6\n",
      "Source 17: A-loc: 27700.000000, B-loc: 27800.000000, N receivers: 6\n",
      "Source 18: A-loc: 27800.000000, B-loc: 27900.000000, N receivers: 6\n",
      "Source 19: A-loc: 27900.000000, B-loc: 28000.000000, N receivers: 6\n",
      "Source 20: A-loc: 28000.000000, B-loc: 28100.000000, N receivers: 6\n",
      "Source 21: A-loc: 28100.000000, B-loc: 28200.000000, N receivers: 6\n",
      "Source 22: A-loc: 28200.000000, B-loc: 28300.000000, N receivers: 6\n",
      "Source 23: A-loc: 28300.000000, B-loc: 28400.000000, N receivers: 6\n",
      "Source 24: A-loc: 28400.000000, B-loc: 28500.000000, N receivers: 6\n",
      "Source 25: A-loc: 28500.000000, B-loc: 28600.000000, N receivers: 5\n",
      "Source 26: A-loc: 28600.000000, B-loc: 28700.000000, N receivers: 4\n"
     ]
    }
   ],
   "source": [
    "dc_data_dict = read_dcip_data(dc_data_file)"
   ]
  },
  {
   "cell_type": "code",
   "execution_count": 8,
   "id": "54c65be4-8426-4141-96d5-99b1c09ee9d7",
   "metadata": {},
   "outputs": [
    {
     "data": {
      "text/plain": [
       "'./century/46800E/46800POT.OBS'"
      ]
     },
     "execution_count": 8,
     "metadata": {},
     "output_type": "execute_result"
    }
   ],
   "source": [
    "dc_data_file"
   ]
  },
  {
   "cell_type": "code",
   "execution_count": 90,
   "id": "a5906c3e-1556-4bec-ab51-e33038b83d8c",
   "metadata": {},
   "outputs": [
    {
     "data": {
      "text/plain": [
       "151"
      ]
     },
     "execution_count": 90,
     "metadata": {},
     "output_type": "execute_result"
    }
   ],
   "source": [
    "len(dc_data_dict[\"a_locations\"])"
   ]
  },
  {
   "cell_type": "code",
   "execution_count": 95,
   "id": "607facc2-0b14-4195-b8bd-187da191b4e8",
   "metadata": {},
   "outputs": [
    {
     "name": "stdout",
     "output_type": "stream",
     "text": [
      "a_locations         : <class 'list'> (length: 151)\n",
      "b_locations         : <class 'list'> (length: 151)\n",
      "m_locations         : <class 'list'> (length: 151)\n",
      "n_locations         : <class 'list'> (length: 151)\n",
      "observed_data       : <class 'list'> (length: 151)\n",
      "standard_deviations : <class 'list'> (length: 151)\n",
      "n_sources           : <class 'int'>\n"
     ]
    }
   ],
   "source": [
    "for key, value in dc_data_dict.items():\n",
    "    if key == \"n_sources\":\n",
    "        print(f\"{key:<20}: {type(value)}\")\n",
    "    else:\n",
    "        print(f\"{key:<20}: {type(value)} (length: {len(value)})\")"
   ]
  },
  {
   "cell_type": "code",
   "execution_count": 96,
   "id": "1c762077-2377-4a93-a533-5ba993154afb",
   "metadata": {},
   "outputs": [],
   "source": [
    "location_start = np.min(dc_data_dict[\"a_locations\"])\n",
    "location_stop = np.max(dc_data_dict[\"n_locations\"])\n",
    "location_interval = 100\n",
    "location_num = int((location_stop - location_start) / location_interval + 1)"
   ]
  },
  {
   "cell_type": "markdown",
   "id": "61588e8f-cd10-4de5-bf81-5a4f0b117034",
   "metadata": {},
   "source": [
    "## Step 2: Create a PyGIMLi measuring scheme"
   ]
  },
  {
   "cell_type": "code",
   "execution_count": 211,
   "id": "21a5d500-ee15-45fd-a3c3-87d06cb8c915",
   "metadata": {},
   "outputs": [
    {
     "data": {
      "text/plain": [
       "Data: Sensors: 33 data: 151, nonzero entries: ['a', 'b', 'm', 'n', 'valid']"
      ]
     },
     "execution_count": 211,
     "metadata": {},
     "output_type": "execute_result"
    }
   ],
   "source": [
    "scheme = pygimli.DataContainerERT()\n",
    "\n",
    "for sensor in np.linspace(location_start, location_stop, location_num):\n",
    "    scheme.createSensor((sensor, 0.0, 0.0))\n",
    "\n",
    "locs_sources = np.vstack((dc_data_dict[\"a_locations\"], dc_data_dict[\"b_locations\"])).T\n",
    "locs_receivers = np.vstack((dc_data_dict[\"m_locations\"], dc_data_dict[\"n_locations\"])).T\n",
    "for i in range(len(locs_sources)):\n",
    "    src = locs_sources[i]\n",
    "    src_idx = (src - location_start) / location_interval\n",
    "    rec = locs_receivers[i]\n",
    "    rec_idx = (rec - location_start) / location_interval\n",
    "    scheme.createFourPointData(i, src_idx[0], src_idx[1], rec_idx[0], rec_idx[1])\n",
    "scheme"
   ]
  },
  {
   "cell_type": "code",
   "execution_count": 212,
   "id": "69fbfd1e-e696-4102-be8e-1ad2e60af12d",
   "metadata": {},
   "outputs": [],
   "source": [
    "scheme[\"rhoa\"] = dc_data_dict[\"observed_data\"]\n",
    "scheme[\"err\"] = dc_data_dict[\"standard_deviations\"]"
   ]
  },
  {
   "cell_type": "code",
   "execution_count": 213,
   "id": "14dd696e-299b-440f-b2cf-ff7299947b2b",
   "metadata": {},
   "outputs": [
    {
     "data": {
      "text/plain": [
       "Data: Sensors: 33 data: 151, nonzero entries: ['a', 'b', 'err', 'm', 'n', 'rhoa', 'valid']"
      ]
     },
     "execution_count": 213,
     "metadata": {},
     "output_type": "execute_result"
    }
   ],
   "source": [
    "scheme"
   ]
  },
  {
   "cell_type": "code",
   "execution_count": 214,
   "id": "71574720-5a14-46d7-ac0f-566255ea982e",
   "metadata": {},
   "outputs": [
    {
     "data": {
      "image/png": "[encoded data removed]",
      "text/plain": [
       "<Figure size 640x480 with 2 Axes>"
      ]
     },
     "metadata": {},
     "output_type": "display_data"
    }
   ],
   "source": [
    "def plot_data(scheme, data_vals, title):\n",
    "    pygimli.physics.ert.showERTData(scheme, vals=data_vals, label=r\"$\\Omega$m\")\n",
    "\n",
    "plot_data(scheme, scheme[\"rhoa\"], \"test\")\n",
    "# scheme[\"rhoa\"]"
   ]
  },
  {
   "cell_type": "code",
   "execution_count": null,
   "id": "342fd169-1129-4f5d-ad12-d4ce4d30c3a5",
   "metadata": {},
   "outputs": [],
   "source": []
  }
 ],
 "metadata": {
  "kernelspec": {
   "display_name": "Python 3 (ipykernel)",
   "language": "python",
   "name": "python3"
  },
  "language_info": {
   "codemirror_mode": {
    "name": "ipython",
    "version": 3
   },
   "file_extension": ".py",
   "mimetype": "text/x-python",
   "name": "python",
   "nbconvert_exporter": "python",
   "pygments_lexer": "ipython3",
   "version": "3.10.6"
  }
 },
 "nbformat": 4,
 "nbformat_minor": 5
}
