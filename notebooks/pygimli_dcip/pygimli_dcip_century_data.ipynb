{
 "cells": [
  {
   "cell_type": "markdown",
   "id": "88fce9c5-7736-448c-bed0-aea7c0636d74",
   "metadata": {},
   "source": [
    "# PyGIMLi - DCIP (real dataset)\n",
    "\n",
    "Using the DCIP (Direct Current, Induced Polarization) solver implemented provided by [PyGIMLi](https://www.pygimli.org/), \n",
    "we use different `cofi` solvers to solve problem with a real dataset."
   ]
  },
  {
   "cell_type": "markdown",
   "id": "5f9f127a-3e07-4529-aeb0-50fd8c5a3853",
   "metadata": {},
   "source": [
    "<!--<badge>--><a href=\"https://colab.research.google.com/github/inlab-geo/cofi-examples/blob/main/notebooks/pygimli_dcip/pygimli_dcip_century_data.ipynb\" target=\"_parent\"><img src=\"https://colab.research.google.com/assets/colab-badge.svg\" alt=\"Open In Colab\"/></a><!--</badge>-->"
   ]
  },
  {
   "cell_type": "markdown",
   "id": "6425a48b-871d-4599-8505-1cfc8b215e31",
   "metadata": {},
   "source": [
    "<!-- Again, please don't touch the markdown cell above. We'll generate badge \n",
    "     automatically from the above cell. -->\n",
    "\n",
    "<!-- This cell describes things related to environment setup, so please add more text \n",
    "     if something special (not listed below) is needed to run this notebook -->\n",
    "\n",
    "> If you are running this notebook locally, make sure you've followed [steps here](https://github.com/inlab-geo/cofi-examples#run-the-examples-with-cofi-locally)\n",
    "to set up the environment. (This [environment.yml](https://github.com/inlab-geo/cofi-examples/blob/main/envs/environment.yml) file\n",
    "specifies a list of packages required to run the notebooks)\n",
    "\n",
    "Note: This notebook is adapted from a SimPEG example authored by Lindsey Heagy and presented at Transform 2020. [Original Materials](https://curvenote.com/@simpeg/transform-2020-simpeg-tutorial/!6DDumb03Le6D8N8xuJNs)"
   ]
  },
  {
   "cell_type": "markdown",
   "id": "e9e5f6ba-c5eb-47b3-ab06-4c00dc9112e6",
   "metadata": {},
   "source": [
    "## 0. Set up environment"
   ]
  },
  {
   "cell_type": "code",
   "execution_count": 1,
   "id": "b9242759-8a6f-445a-9819-0c5e229e1624",
   "metadata": {},
   "outputs": [],
   "source": [
    "# -------------------------------------------------------- #\n",
    "#                                                          #\n",
    "#     Uncomment below to set up environment on \"colab\"     #\n",
    "#                                                          #\n",
    "# -------------------------------------------------------- #\n",
    "\n",
    "# !pip install -U cofi\n",
    "\n",
    "# !pip install -q condacolab\n",
    "# import condacolab\n",
    "# condacolab.install()\n",
    "# !mamba install -c gimli pygimli=1.3"
   ]
  },
  {
   "cell_type": "markdown",
   "id": "e48ed473-8175-4101-b13f-995131163f78",
   "metadata": {},
   "source": [
    "We will need the following packages:\n",
    "\n",
    "- `os` to list and load dataset\n",
    "- `numpy` for matrices and matrix-related functions\n",
    "- `matplotlib` for plotting\n",
    "- `pygimli` for forward modelling of the problem\n",
    "- `cofi` for accessing different inference solvers"
   ]
  },
  {
   "cell_type": "code",
   "execution_count": 2,
   "id": "d077c161-f1f8-4bde-a15c-e7d92d01197f",
   "metadata": {},
   "outputs": [],
   "source": [
    "import os\n",
    "import numpy as np\n",
    "import matplotlib.pyplot as plt\n",
    "import pygimli\n",
    "import cofi"
   ]
  },
  {
   "cell_type": "markdown",
   "id": "28365023-1fba-4848-affc-31a7286d989b",
   "metadata": {},
   "source": [
    "## 1. Load the data\n",
    "\n",
    "We will need to download the preprocessed dataset first. This notebook [century_data_preprocessing.ipynb](century_data_preprocessing.ipynb) contains the code for data preprocessing."
   ]
  },
  {
   "cell_type": "code",
   "execution_count": 3,
   "id": "6d45611b-f10f-4e73-9587-d37a30b1d5b7",
   "metadata": {},
   "outputs": [],
   "source": [
    "dc_data = np.loadtxt(\"century_dc_data.txt\")"
   ]
  },
  {
   "cell_type": "code",
   "execution_count": 4,
   "id": "3b730a10-05f3-47ff-9720-9117077cffd3",
   "metadata": {},
   "outputs": [],
   "source": [
    "a_locs = dc_data[:,0]\n",
    "b_locs = dc_data[:,1]\n",
    "m_locs = dc_data[:,2]\n",
    "n_locs = dc_data[:,3]\n",
    "dc_obs = dc_data[:,4]\n",
    "geo_factors = dc_data[:,5]"
   ]
  },
  {
   "cell_type": "code",
   "execution_count": 5,
   "id": "1c762077-2377-4a93-a533-5ba993154afb",
   "metadata": {},
   "outputs": [
    {
     "data": {
      "text/plain": [
       "(26000.0, 29200.0, 100.0, 33)"
      ]
     },
     "execution_count": 5,
     "metadata": {},
     "output_type": "execute_result"
    }
   ],
   "source": [
    "location_start = np.min(a_locs)\n",
    "location_stop = np.max(n_locs)\n",
    "location_interval = m_locs[1] - m_locs[0]\n",
    "location_num = int((location_stop - location_start) / location_interval + 1)\n",
    "\n",
    "location_start, location_stop, location_interval, location_num"
   ]
  },
  {
   "cell_type": "markdown",
   "id": "61588e8f-cd10-4de5-bf81-5a4f0b117034",
   "metadata": {},
   "source": [
    "## 2. Create a PyGIMLi measuring scheme and fill in the data"
   ]
  },
  {
   "cell_type": "code",
   "execution_count": 6,
   "id": "21a5d500-ee15-45fd-a3c3-87d06cb8c915",
   "metadata": {},
   "outputs": [
    {
     "data": {
      "text/plain": [
       "Data: Sensors: 33 data: 151, nonzero entries: ['a', 'b', 'm', 'n', 'valid']"
      ]
     },
     "execution_count": 6,
     "metadata": {},
     "output_type": "execute_result"
    }
   ],
   "source": [
    "data = pygimli.DataContainerERT()\n",
    "\n",
    "for sensor in np.linspace(location_start, location_stop, location_num):\n",
    "    data.createSensor((sensor, 0.0, 0.0))\n",
    "\n",
    "locs_sources = np.vstack((a_locs, b_locs)).T\n",
    "locs_receivers = np.vstack((m_locs, n_locs)).T\n",
    "for i in range(len(locs_sources)):\n",
    "    src = locs_sources[i]\n",
    "    src_idx = (src - location_start) / location_interval\n",
    "    rec = locs_receivers[i]\n",
    "    rec_idx = (rec - location_start) / location_interval\n",
    "    data.createFourPointData(i, src_idx[0], src_idx[1], rec_idx[0], rec_idx[1])\n",
    "data"
   ]
  },
  {
   "cell_type": "code",
   "execution_count": 18,
   "id": "69fbfd1e-e696-4102-be8e-1ad2e60af12d",
   "metadata": {},
   "outputs": [
    {
     "name": "stderr",
     "output_type": "stream",
     "text": [
      "11/11/22 - 00:05:15 - pyGIMLi - \u001b[0;32;49mINFO\u001b[0m - Save RVector binary\n",
      "11/11/22 - 00:05:15 - pyGIMLi - \u001b[0;32;49mINFO\u001b[0m - Cache stored: /home/jiawen/.cache/pygimli/13351996435702061756\n"
     ]
    },
    {
     "name": "stdout",
     "output_type": "stream",
     "text": [
      "ModellingBase::setMesh() copying new mesh ... Found datafile: 33 electrodes\n",
      "Found: 33 node-electrodes\n",
      "rMin = 50, rMax = 6400\n",
      "NGauLeg + NGauLag for inverse Fouriertransformation: 12 + 4\n",
      "Found non-Neumann domain\n",
      "0.005 s\n",
      "FOP updating mesh dependencies ... 0 s\n",
      "Assembling system matrix ... CHOLMOD sparse:  A:  5657-by-5657, nz 63545, upper.  OK\n",
      "CHOLMOD analyzed preordering: 2\n",
      "CHOLMOD factor:  L:  5657-by-5657  supernodal, LL'.  nz 185400  OK\n",
      "Factorizing (Cholmod) system matrix ... Assembling system matrix ... CHOLMOD sparse:  A:  5657-by-5657, nz 63545, upper.  OK\n",
      "CHOLMOD analyzed preordering: 2\n",
      "CHOLMOD factor:  L:  5657-by-5657  supernodal, LL'.  nz 185400  OK\n",
      "Factorizing (Cholmod) system matrix ... Assembling system matrix ... CHOLMOD sparse:  A:  5657-by-5657, nz 63545, upper.  OK\n",
      "CHOLMOD analyzed preordering: 2\n",
      "CHOLMOD factor:  L:  5657-by-5657  supernodal, LL'.  nz 185400  OK\n",
      "Factorizing (Cholmod) system matrix ... Assembling system matrix ... CHOLMOD sparse:  A:  5657-by-5657, nz 63545, upper.  OK\n",
      "CHOLMOD analyzed preordering: 2\n",
      "CHOLMOD factor:  L:  5657-by-5657  supernodal, LL'.  nz 185400  OK\n",
      "Factorizing (Cholmod) system matrix ... Assembling system matrix ... CHOLMOD sparse:  A:  5657-by-5657, nz 63545, upper.  OK\n",
      "CHOLMOD analyzed preordering: 2\n",
      "CHOLMOD factor:  L:  5657-by-5657  supernodal, LL'.  nz 185400  OK\n",
      "Factorizing (Cholmod) system matrix ... Assembling system matrix ... CHOLMOD sparse:  A:  5657-by-5657, nz 63545, upper.  OK\n",
      "CHOLMOD analyzed preordering: 2\n",
      "CHOLMOD factor:  L:  5657-by-5657  supernodal, LL'.  nz 185400  OK\n",
      "Factorizing (Cholmod) system matrix ... Assembling system matrix ... CHOLMOD sparse:  A:  5657-by-5657, nz 63545, upper.  OK\n",
      "CHOLMOD analyzed preordering: 2\n",
      "CHOLMOD factor:  L:  5657-by-5657  supernodal, LL'.  nz 185400  OK\n",
      "Factorizing (Cholmod) system matrix ... Assembling system matrix ... CHOLMOD sparse:  A:  5657-by-5657, nz 63545, upper.  OK\n",
      "CHOLMOD analyzed preordering: 2\n",
      "CHOLMOD factor:  L:  5657-by-5657  supernodal, LL'.  nz 185400  OK\n",
      "Factorizing (Cholmod) system matrix ... Assembling system matrix ... CHOLMOD sparse:  A:  5657-by-5657, nz 63545, upper.  OK\n",
      "CHOLMOD analyzed preordering: 2\n",
      "CHOLMOD factor:  L:  5657-by-5657  supernodal, LL'.  nz 185400  OK\n",
      "Factorizing (Cholmod) system matrix ... Assembling system matrix ... CHOLMOD sparse:  A:  5657-by-5657, nz 63545, upper.  OK\n",
      "CHOLMOD analyzed preordering: 2\n",
      "CHOLMOD factor:  L:  5657-by-5657  supernodal, LL'.  nz 185400  OK\n",
      "Factorizing (Cholmod) system matrix ... Assembling system matrix ... CHOLMOD sparse:  A:  5657-by-5657, nz 63545, upper.  OK\n",
      "CHOLMOD analyzed preordering: 2\n",
      "CHOLMOD factor:  L:  5657-by-5657  supernodal, LL'.  nz 185400  OK\n",
      "Factorizing (Cholmod) system matrix ... Assembling system matrix ... CHOLMOD sparse:  A:  5657-by-5657, nz 63545, upper.  OK\n",
      "CHOLMOD analyzed preordering: 2\n",
      "CHOLMOD factor:  L:  5657-by-5657  supernodal, LL'.  nz 185400  OK\n",
      "Factorizing (Cholmod) system matrix ... Assembling system matrix ... CHOLMOD sparse:  A:  5657-by-5657, nz 63545, upper.  OK\n",
      "CHOLMOD analyzed preordering: 2\n",
      "CHOLMOD factor:  L:  5657-by-5657  supernodal, LL'.  nz 185400  OK\n",
      "Factorizing (Cholmod) system matrix ... Assembling system matrix ... CHOLMOD sparse:  A:  5657-by-5657, nz 63545, upper.  OK\n",
      "CHOLMOD analyzed preordering: 2\n",
      "CHOLMOD factor:  L:  5657-by-5657  supernodal, LL'.  nz 185400  OK\n",
      "Factorizing (Cholmod) system matrix ... Assembling system matrix ... CHOLMOD sparse:  A:  5657-by-5657, nz 63545, upper.  OK\n",
      "CHOLMOD analyzed preordering: 2\n",
      "CHOLMOD factor:  L:  5657-by-5657  supernodal, LL'.  nz 185400  OK\n",
      "Factorizing (Cholmod) system matrix ... Assembling system matrix ... CHOLMOD sparse:  A:  5657-by-5657, nz 63545, upper.  OK\n",
      "CHOLMOD analyzed preordering: 2\n",
      "CHOLMOD factor:  L:  5657-by-5657  supernodal, LL'.  nz 185400  OK\n",
      "Factorizing (Cholmod) system matrix ... Forward: time: 6.39s\n"
     ]
    }
   ],
   "source": [
    "data[\"rhoa\"] = dc_obs\n",
    "data[\"k\"] = pygimli.physics.ert.createGeometricFactors(data, numerical=True)"
   ]
  },
  {
   "cell_type": "code",
   "execution_count": 19,
   "id": "14dd696e-299b-440f-b2cf-ff7299947b2b",
   "metadata": {},
   "outputs": [
    {
     "data": {
      "text/plain": [
       "Data: Sensors: 33 data: 151, nonzero entries: ['a', 'b', 'k', 'm', 'n', 'rhoa', 'valid']"
      ]
     },
     "execution_count": 19,
     "metadata": {},
     "output_type": "execute_result"
    }
   ],
   "source": [
    "data"
   ]
  },
  {
   "cell_type": "code",
   "execution_count": 9,
   "id": "71574720-5a14-46d7-ac0f-566255ea982e",
   "metadata": {},
   "outputs": [
    {
     "data": {
      "image/png": "[encoded data removed]",
      "text/plain": [
       "<Figure size 640x480 with 2 Axes>"
      ]
     },
     "metadata": {},
     "output_type": "display_data"
    }
   ],
   "source": [
    "def plot_data(data, data_vals, title):\n",
    "    fig, ax = plt.subplots(1, 1)\n",
    "    pygimli.physics.ert.showERTData(\n",
    "        data, \n",
    "        vals=data_vals, \n",
    "        label=r\"$\\Omega$m\", \n",
    "        ax=ax, \n",
    "    )\n",
    "\n",
    "plot_data(data, data[\"rhoa\"], \"test\")"
   ]
  },
  {
   "cell_type": "markdown",
   "id": "21f37cae-7bdb-4149-939f-fe75bc4b2e17",
   "metadata": {},
   "source": [
    "## 3. Create inversion mesh"
   ]
  },
  {
   "cell_type": "code",
   "execution_count": 10,
   "id": "259c3f8d-87a2-4869-af5c-c4f9c7b1a175",
   "metadata": {},
   "outputs": [
    {
     "name": "stdout",
     "output_type": "stream",
     "text": [
      "Mesh dimension: (25.0, 25.0)\n",
      "Mesh range x: (26000.0, 29200.0)\n",
      "Mesh range z: (-266.6666666666667, 0.0)\n"
     ]
    }
   ],
   "source": [
    "# calculate dimension in x and z directions\n",
    "n_cells_per_spacing = 4\n",
    "dx = location_interval / n_cells_per_spacing\n",
    "dz = dx\n",
    "\n",
    "# calculate x range\n",
    "x_range = (location_start, location_stop)\n",
    "\n",
    "# calculate z range\n",
    "ab_midpoints = (a_locs + b_locs) / 2\n",
    "mn_midpoints = (m_locs + n_locs) / 2\n",
    "ab_mn_separation = np.abs(ab_midpoints - mn_midpoints)\n",
    "max_separation = np.max(ab_mn_separation)\n",
    "z_depth = - max_separation / 3.\n",
    "z_range = (z_depth, 0.)\n",
    "\n",
    "# print\n",
    "print(f\"Mesh dimension: ({dx}, {dz})\")\n",
    "print(f\"Mesh range x: {x_range}\")\n",
    "print(f\"Mesh range z: {z_range}\")"
   ]
  },
  {
   "cell_type": "code",
   "execution_count": 11,
   "id": "eaad8659-c787-4476-abd3-839dc6d41ffe",
   "metadata": {},
   "outputs": [],
   "source": [
    "# params for creating mesh nodes\n",
    "n_midd_extra = 4\n",
    "n_midd_x = np.ceil(np.diff(x_range)/dx) + n_midd_extra*2\n",
    "n_top_z = np.ceil(np.diff(z_range)/dz) + n_midd_extra\n",
    "n_side = 10         # number of nodes extending in x and z\n",
    "extending_factor = 1.3\n",
    "extending_list = (np.ones(n_side) * extending_factor) ** (np.arange(n_side) + 1)\n",
    "\n",
    "# create nodes in x direction\n",
    "dist_x_left = (extending_list * dx)[::-1]\n",
    "dist_x_midd = int(n_midd_x) * [dx]\n",
    "dist_x_right = extending_list * dx\n",
    "dist_x = np.hstack((dist_x_left, dist_x_midd, dist_x_right))\n",
    "nodes_x = np.r_[(x_range[1]+x_range[0])/2-np.sum(dist_x)/2, dist_x].cumsum()\n",
    "\n",
    "# create nodes in z direction\n",
    "dist_z_bot = (extending_list * dz)[::-1]\n",
    "dist_z_top = int(n_top_z) * [dz]\n",
    "dist_z = np.hstack((dist_z_bot, dist_z_top))\n",
    "nodes_z = np.r_[-np.sum(dist_z), dist_z].cumsum()"
   ]
  },
  {
   "cell_type": "code",
   "execution_count": 12,
   "id": "750fc0d5-adfa-47b8-ab2c-e385ac313d07",
   "metadata": {},
   "outputs": [
    {
     "data": {
      "image/png": "[encoded data removed]",
      "text/plain": [
       "<Figure size 1000x800 with 1 Axes>"
      ]
     },
     "metadata": {},
     "output_type": "display_data"
    }
   ],
   "source": [
    "inv_mesh = pygimli.meshtools.createGrid(x=nodes_x, y=nodes_z)\n",
    "\n",
    "_, ax = plt.subplots(figsize=(10,8))\n",
    "pygimli.show(inv_mesh, showMesh=True, markers=True, colorBar=False, ax=ax)\n",
    "ax.set_title(\"Mesh used for inversion\");\n",
    "ax.set_xlabel(\"Northing (m)\");\n",
    "ax.set_ylabel(\"Elevation (m)\");"
   ]
  },
  {
   "cell_type": "markdown",
   "id": "6209c60a-78d5-45b1-9a90-c92557e8e1c9",
   "metadata": {},
   "source": [
    "## 4. Set up forward operator and regularization matrix"
   ]
  },
  {
   "cell_type": "code",
   "execution_count": 13,
   "id": "5b888733-d173-4abb-8a6f-a3e7534cc480",
   "metadata": {},
   "outputs": [
    {
     "name": "stderr",
     "output_type": "stream",
     "text": [
      "11/11/22 - 00:03:09 - pyGIMLi - \u001b[0;32;49mINFO\u001b[0m - Found 1 regions.\n"
     ]
    }
   ],
   "source": [
    "ert_mgr = pygimli.physics.ert.ERTManager(data)\n",
    "ert_mgr.setMesh(inv_mesh)\n",
    "\n",
    "forward_oprt = ert_mgr.fop\n",
    "forward_oprt.setComplex(False)\n",
    "forward_oprt.setData(data)\n",
    "forward_oprt.setMesh(inv_mesh, ignoreRegionManager=True)\n",
    "\n",
    "region_manager = forward_oprt.regionManager()\n",
    "region_manager.setConstraintType(2)\n",
    "Wm = pygimli.matrix.SparseMapMatrix()\n",
    "region_manager.fillConstraints(Wm)\n",
    "Wm = pygimli.utils.sparseMatrix2coo(Wm)"
   ]
  },
  {
   "cell_type": "code",
   "execution_count": 14,
   "id": "8f5405cb-2713-4e33-a670-cb9b7ec3a1f0",
   "metadata": {},
   "outputs": [],
   "source": [
    "start_model = np.ones(inv_mesh.cellCount()) * np.median(data[\"rhoa\"])\n",
    "start_model_log = np.log(start_model)"
   ]
  },
  {
   "cell_type": "code",
   "execution_count": 15,
   "id": "f262593d-d3b9-46ee-829b-e1dcb9fd0ea3",
   "metadata": {},
   "outputs": [
    {
     "name": "stderr",
     "output_type": "stream",
     "text": [
      "11/11/22 - 00:03:11 - pyGIMLi - \u001b[0;32;49mINFO\u001b[0m - Creating forward mesh from region infos.\n",
      "11/11/22 - 00:03:11 - pyGIMLi - \u001b[0;32;49mINFO\u001b[0m - Creating refined mesh (H2) to solve forward task.\n"
     ]
    },
    {
     "data": {
      "image/png": "[encoded data removed]",
      "text/plain": [
       "<Figure size 1000x800 with 2 Axes>"
      ]
     },
     "metadata": {},
     "output_type": "display_data"
    }
   ],
   "source": [
    "_, ax = plt.subplots(figsize=(10,8))\n",
    "pygimli.show(ert_mgr.paraDomain, data=start_model, label=\"$\\Omega m$\", showMesh=True, ax=ax)\n",
    "ax.set_title(\"Starting model\")\n",
    "ax.set_xlabel(\"Northing (m)\");\n",
    "ax.set_ylabel(\"Elevation (m)\");"
   ]
  },
  {
   "cell_type": "markdown",
   "id": "b338da22-0d85-4ff5-b27f-01f5bc3d903b",
   "metadata": {},
   "source": [
    "## 5. Create utility functions to pass to CoFI"
   ]
  },
  {
   "cell_type": "code",
   "execution_count": 23,
   "id": "0e7c6ae0-b9f3-439a-8d5a-7d8eebb03c57",
   "metadata": {},
   "outputs": [],
   "source": [
    "#@title additional utility functions (hidden)\n",
    "############# Functions provided to CoFI ##############################################\n",
    "\n",
    "## Note: all functions below assume the model in log space!\n",
    "\n",
    "def _ensure_numpy(model):\n",
    "    if \"torch.Tensor\" in str(type(model)):\n",
    "        model = model.cpu().detach().numpy()\n",
    "    return model\n",
    "\n",
    "def get_response(model, forward_operator):\n",
    "    # model = _ensure_numpy(model)\n",
    "    return np.log(np.array(forward_operator.response(np.exp(model))))\n",
    "\n",
    "def get_residual(model, log_data, forward_operator):\n",
    "    response = get_response(model, forward_operator)\n",
    "    residual = log_data - response\n",
    "    return residual\n",
    "\n",
    "def get_jacobian(model, forward_operator):\n",
    "    response = get_response(model, forward_operator)\n",
    "    model = _ensure_numpy(model)\n",
    "    forward_operator.createJacobian(np.exp(model))\n",
    "    J = np.array(forward_operator.jacobian())\n",
    "    jac = J / np.exp(response[:, np.newaxis]) * np.exp(model)[np.newaxis, :]\n",
    "    return jac\n",
    "\n",
    "def get_jac_residual(model, log_data, forward_operator):\n",
    "    response = get_response(model, forward_operator)\n",
    "    residual = log_data - response\n",
    "    model = _ensure_numpy(model)\n",
    "    forward_operator.createJacobian(np.exp(model))\n",
    "    J = np.array(forward_operator.jacobian())\n",
    "    jac = J / np.exp(response[:, np.newaxis]) * np.exp(model)[np.newaxis, :]\n",
    "    return jac, residual\n",
    "\n",
    "def get_data_misfit(model, log_data, forward_operator, data_cov_inv=None):\n",
    "    residual = get_residual(model, log_data, forward_operator)\n",
    "    data_cov_inv = np.eye(log_data.shape[0]) if data_cov_inv is None else data_cov_inv\n",
    "    return np.abs(residual.T @ data_cov_inv @ residual)\n",
    "\n",
    "def get_regularization(model, Wm, lamda):\n",
    "    model = _ensure_numpy(model)\n",
    "    model = np.exp(model)\n",
    "    return lamda * (Wm @ model).T @ (Wm @ model)\n",
    "\n",
    "def get_objective(model, log_data, forward_operator, Wm, lamda, data_cov_inv=None):\n",
    "    data_misfit = get_data_misfit(model, log_data, forward_operator, data_cov_inv)\n",
    "    regularization = get_regularization(model, Wm, lamda)\n",
    "    obj = data_misfit + regularization\n",
    "    return obj\n",
    "\n",
    "def get_gradient(model, log_data, forward_operator, Wm, lamda, data_cov_inv=None):\n",
    "    jac, residual = get_jac_residual(model, log_data, forward_operator)\n",
    "    data_cov_inv = np.eye(log_data.shape[0]) if data_cov_inv is None else data_cov_inv\n",
    "    data_misfit_grad =  - residual.T @ data_cov_inv @ jac\n",
    "    regularization_grad = lamda * Wm.T @ Wm @ np.exp(model)\n",
    "    return data_misfit_grad + regularization_grad\n",
    "\n",
    "def get_hessian(model, log_data, forward_operator, Wm, lamda, data_cov_inv=None):\n",
    "    jac = get_jacobian(model, forward_operator)\n",
    "    data_cov_inv = np.eye(log_data.shape[0]) if data_cov_inv is None else data_cov_inv\n",
    "    hess = jac.T @ data_cov_inv @ jac + lamda * Wm.T @ Wm\n",
    "    return hess"
   ]
  },
  {
   "cell_type": "code",
   "execution_count": 24,
   "id": "a218d724-c5d9-4fa2-93d2-50f275073179",
   "metadata": {},
   "outputs": [
    {
     "data": {
      "text/plain": [
       "array([4.89628512, 4.88953445, 4.90223496, 4.8970275 , 4.89057917,\n",
       "       4.90647465, 4.90263337, 4.89766657, 4.89137344, 4.90924635,\n",
       "       4.90659707, 4.9029831 , 4.89810104, 4.8920698 , 4.91095433,\n",
       "       4.90921346, 4.90681378, 4.90321147, 4.89856392, 4.89259538,\n",
       "       4.91270032, 4.91065279, 4.90935951, 4.90690212, 4.90353531,\n",
       "       4.89886425, 4.89304137, 4.91038666, 4.91073386, 4.90934151,\n",
       "       4.90717389, 4.90367656, 4.89913072, 4.89342887, 4.91370001,\n",
       "       4.91106487, 4.90979516, 4.9072419 , 4.90384471, 4.89939385,\n",
       "       4.91312597, 4.91155984, 4.90961357, 4.90725377, 4.90397598,\n",
       "       4.89954263, 4.91601914, 4.9112738 , 4.90964084, 4.90739939,\n",
       "       4.90409412, 4.8996382 , 4.91086094, 4.91058845, 4.90949629,\n",
       "       4.90731243, 4.9040015 , 4.89967451, 4.91148964, 4.91107414,\n",
       "       4.90973829, 4.90736658, 4.90415083, 4.89982804, 4.91325574,\n",
       "       4.91136165, 4.90964806, 4.90744265, 4.90423534, 4.89982527,\n",
       "       4.91281037, 4.91077791, 4.909579  , 4.90743727, 4.90414276,\n",
       "       4.89979471, 4.91060221, 4.91076784, 4.90962646, 4.90734301,\n",
       "       4.90413472, 4.89969157, 4.91235281, 4.91107678, 4.90959596,\n",
       "       4.90741316, 4.90406597, 4.89969245, 4.91172709, 4.91090406,\n",
       "       4.90963873, 4.90728594, 4.90407891, 4.89954405, 4.91286164,\n",
       "       4.91108526, 4.90949624, 4.90737547, 4.90396452, 4.89938997,\n",
       "       4.91317861, 4.91094597, 4.90977586, 4.907332  , 4.90389897,\n",
       "       4.89908191, 4.91124136, 4.91131165, 4.90962618, 4.90724735,\n",
       "       4.90355631, 4.89887854, 4.9163423 , 4.91157666, 4.90979175,\n",
       "       4.90698719, 4.90354861, 4.89860318, 4.91267743, 4.9109677 ,\n",
       "       4.90900547, 4.90688741, 4.90323957, 4.8981362 , 4.91284761,\n",
       "       4.91015864, 4.90934562, 4.9068484 , 4.90301962, 4.89768879,\n",
       "       4.90886171, 4.91080925, 4.9092938 , 4.90665099, 4.90266941,\n",
       "       4.89706873, 4.91766345, 4.91179241, 4.90949273, 4.90659107,\n",
       "       4.90232892, 4.89637237, 4.91361805, 4.91066769, 4.90902067,\n",
       "       4.90610718, 4.90167823, 4.91122835, 4.91079978, 4.90891495,\n",
       "       4.90584137])"
      ]
     },
     "execution_count": 24,
     "metadata": {},
     "output_type": "execute_result"
    }
   ],
   "source": [
    "# test\n",
    "get_response(start_model_log, forward_oprt)"
   ]
  },
  {
   "cell_type": "markdown",
   "id": "60c929a0-ad45-4c6a-aba5-b5f99d0e46a7",
   "metadata": {},
   "source": [
    "## 6. Run inversion with CoFI"
   ]
  },
  {
   "cell_type": "code",
   "execution_count": 27,
   "id": "8416eee4-be3a-453f-9797-513dc1f088e2",
   "metadata": {},
   "outputs": [],
   "source": [
    "# hyperparameters\n",
    "lamda = 0.0001\n",
    "\n",
    "log_data = np.log(data[\"rhoa\"])\n",
    "\n",
    "# CoFI - define BaseProblem\n",
    "ert_problem = cofi.BaseProblem()\n",
    "ert_problem.name = \"Electrical Resistivity Tomography with Century Dataset\"\n",
    "ert_problem.set_forward(get_response, args=[forward_oprt])\n",
    "ert_problem.set_jacobian(get_jacobian, args=[forward_oprt])\n",
    "ert_problem.set_residual(get_residual, args=[log_data, forward_oprt])\n",
    "ert_problem.set_data_misfit(get_data_misfit, args=[log_data, forward_oprt])\n",
    "ert_problem.set_regularization(get_regularization, args=[Wm, lamda])\n",
    "ert_problem.set_gradient(get_gradient, args=[log_data, forward_oprt, Wm, lamda])\n",
    "ert_problem.set_hessian(get_hessian, args=[log_data, forward_oprt, Wm, lamda])\n",
    "ert_problem.set_initial_model(start_model_log)"
   ]
  },
  {
   "cell_type": "code",
   "execution_count": 29,
   "id": "5e2a6bf7-f967-4540-8550-f17c82c37eee",
   "metadata": {},
   "outputs": [
    {
     "data": {
      "text/plain": [
       "(42.796333334095834, 7.148973067474899e-29)"
      ]
     },
     "execution_count": 29,
     "metadata": {},
     "output_type": "execute_result"
    }
   ],
   "source": [
    "# test\n",
    "ert_problem.data_misfit(start_model_log), ert_problem.regularization(start_model_log)"
   ]
  },
  {
   "cell_type": "code",
   "execution_count": 32,
   "id": "5d825a33-fbab-4dab-8858-6e0e3e259331",
   "metadata": {},
   "outputs": [
    {
     "name": "stdout",
     "output_type": "stream",
     "text": [
      "Iteration #0, objective function value: 42.796333334095834\n",
      "Iteration #1, objective function value: 41.98196892838072\n",
      "Iteration #2, objective function value: 41.224224664045565\n",
      "Iteration #3, objective function value: 40.51928421486141\n",
      "Iteration #4, objective function value: 39.8631377672569\n",
      "Iteration #5, objective function value: 39.25271741654828\n",
      "Iteration #6, objective function value: 38.685268143986924\n",
      "Iteration #7, objective function value: 38.158358449331786\n",
      "Iteration #8, objective function value: 37.669802438497186\n",
      "Iteration #9, objective function value: 37.217608082515774\n",
      "\n",
      "Number of objective function evaluations: 10\n",
      "Number of gradient function evaluations: 10\n",
      "Number of hessian function evaluations: 10\n"
     ]
    }
   ],
   "source": [
    "# CoFI - define InversionOptions\n",
    "inv_options = cofi.InversionOptions()\n",
    "inv_options.set_tool(\"cofi.simple_newton\")\n",
    "inv_options.set_params(max_iterations=10, step_length=0.01)\n",
    "\n",
    "# CoFI - define Inversion and run\n",
    "inv = cofi.Inversion(ert_problem, inv_options)\n",
    "inv_result = inv.run()\n",
    "\n",
    "print(f\"\\nNumber of objective function evaluations: {inv_result.n_obj_evaluations}\")\n",
    "print(f\"Number of gradient function evaluations: {inv_result.n_grad_evaluations}\")\n",
    "print(f\"Number of hessian function evaluations: {inv_result.n_hess_evaluations}\")"
   ]
  },
  {
   "cell_type": "code",
   "execution_count": null,
   "id": "660a3330-27de-4998-be97-dea611f9c767",
   "metadata": {},
   "outputs": [],
   "source": []
  }
 ],
 "metadata": {
  "kernelspec": {
   "display_name": "Python 3 (ipykernel)",
   "language": "python",
   "name": "python3"
  },
  "language_info": {
   "codemirror_mode": {
    "name": "ipython",
    "version": 3
   },
   "file_extension": ".py",
   "mimetype": "text/x-python",
   "name": "python",
   "nbconvert_exporter": "python",
   "pygments_lexer": "ipython3",
   "version": "3.10.6"
  }
 },
 "nbformat": 4,
 "nbformat_minor": 5
}
