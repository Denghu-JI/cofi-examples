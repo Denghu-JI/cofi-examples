{
 "cells": [
  {
   "cell_type": "markdown",
   "id": "88fce9c5-7736-448c-bed0-aea7c0636d74",
   "metadata": {},
   "source": [
    "# PyGIMLi - DCIP (Century Deposit Dataset)\n",
    "\n",
    "Using the DCIP (Direct Current, Induced Polarization) solver implemented provided by [PyGIMLi](https://www.pygimli.org/), \n",
    "we use different `cofi` solvers to solve problem with a real dataset."
   ]
  },
  {
   "cell_type": "markdown",
   "id": "5f9f127a-3e07-4529-aeb0-50fd8c5a3853",
   "metadata": {},
   "source": [
    "<!--<badge>--><a href=\"https://colab.research.google.com/github/inlab-geo/cofi-examples/blob/main/notebooks/pygimli_dcip/pygimli_century_dcip.ipynb\" target=\"_parent\"><img src=\"https://colab.research.google.com/assets/colab-badge.svg\" alt=\"Open In Colab\"/></a><!--</badge>-->"
   ]
  },
  {
   "cell_type": "markdown",
   "id": "6425a48b-871d-4599-8505-1cfc8b215e31",
   "metadata": {},
   "source": [
    "<!-- Again, please don't touch the markdown cell above. We'll generate badge \n",
    "     automatically from the above cell. -->\n",
    "\n",
    "<!-- This cell describes things related to environment setup, so please add more text \n",
    "     if something special (not listed below) is needed to run this notebook -->\n",
    "\n",
    "> If you are running this notebook locally, make sure you've followed [steps here](https://github.com/inlab-geo/cofi-examples#run-the-examples-with-cofi-locally)\n",
    "to set up the environment. (This [environment.yml](https://github.com/inlab-geo/cofi-examples/blob/main/envs/environment.yml) file\n",
    "specifies a list of packages required to run the notebooks)\n",
    "\n",
    "Note: This notebook is adapted from a SimPEG example authored by Lindsey Heagy and presented at Transform 2020. [Original Materials](https://curvenote.com/@simpeg/transform-2020-simpeg-tutorial/!6DDumb03Le6D8N8xuJNs)"
   ]
  },
  {
   "cell_type": "markdown",
   "id": "25f0ba44-f494-431b-bbf8-7dabacc9d9fc",
   "metadata": {},
   "source": [
    "### Frequency domain vs Time domain measurements of chargeability\n",
    "\n",
    "References:\n",
    "- https://gpg.geosci.xyz/content/induced_polarization/induced_polarization_data.html\n",
    "- Martin, T., Günther, T., Orozco, A. F., & Dahlin, T. (2020). Evaluation of spectral induced polarization field measurements in time and frequency domain. Journal of Applied Geophysics, 180. https://doi.org/10.1016/j.jappgeo.2020.104141\n",
    "- Mutton, A. J. (2000). The application of geophysics during evaluation of the Century zinc deposit. Geophysics, 65(6), 1946–1960. https://doi.org/10.1190/1.1444878"
   ]
  },
  {
   "cell_type": "markdown",
   "id": "e9e5f6ba-c5eb-47b3-ab06-4c00dc9112e6",
   "metadata": {},
   "source": [
    "## 1. Set up environment\n",
    "\n",
    "We'll do the following:\n",
    "1. Install PyGIMLi (if on CoLab)\n",
    "2. Download processed dataset (if on CoLab)\n",
    "3. Import modules"
   ]
  },
  {
   "cell_type": "code",
   "execution_count": 1,
   "id": "b9242759-8a6f-445a-9819-0c5e229e1624",
   "metadata": {},
   "outputs": [],
   "source": [
    "# -------------------------------------------------------- #\n",
    "#                                                          #\n",
    "#     Uncomment below to set up environment on \"colab\"     #\n",
    "#                                                          #\n",
    "# -------------------------------------------------------- #\n",
    "\n",
    "# !pip install -U cofi\n",
    "\n",
    "# !pip install -q condacolab\n",
    "# import condacolab\n",
    "# condacolab.install()\n",
    "# !mamba install -c gimli pygimli=1.3"
   ]
  },
  {
   "cell_type": "code",
   "execution_count": 2,
   "id": "b307a57d-74ec-4448-9acb-20495610b85f",
   "metadata": {},
   "outputs": [],
   "source": [
    "# -------------------------------------------------------- #\n",
    "#                                                          #\n",
    "#     Uncomment below to set up environment on \"colab\"     #\n",
    "#                                                          #\n",
    "# -------------------------------------------------------- #\n",
    "\n",
    "# !git clone https://github.com/inlab-geo/cofi-examples.git\n",
    "# %cd notebooks/pygimli_dcip/"
   ]
  },
  {
   "cell_type": "markdown",
   "id": "e48ed473-8175-4101-b13f-995131163f78",
   "metadata": {},
   "source": [
    "We will need the following packages:\n",
    "\n",
    "- `os` to list and load dataset\n",
    "- `numpy` for matrices and matrix-related functions\n",
    "- `matplotlib` for plotting\n",
    "- `pygimli` for forward modelling of the problem\n",
    "- `cofi` for accessing different inference solvers"
   ]
  },
  {
   "cell_type": "code",
   "execution_count": 3,
   "id": "d077c161-f1f8-4bde-a15c-e7d92d01197f",
   "metadata": {},
   "outputs": [],
   "source": [
    "import os\n",
    "import numpy as np\n",
    "import matplotlib.pyplot as plt\n",
    "import matplotlib as mpl\n",
    "import pygimli\n",
    "import cofi"
   ]
  },
  {
   "cell_type": "markdown",
   "id": "28365023-1fba-4848-affc-31a7286d989b",
   "metadata": {},
   "source": [
    "## 2. Load the data\n",
    "\n",
    "We will need to download the preprocessed dataset first. This notebook [century_data_preprocessing.ipynb](century_data_preprocessing.ipynb) contains the code for data preprocessing."
   ]
  },
  {
   "cell_type": "code",
   "execution_count": 4,
   "id": "6d45611b-f10f-4e73-9587-d37a30b1d5b7",
   "metadata": {},
   "outputs": [],
   "source": [
    "dcip_data = np.loadtxt(\"century_dcip_data.txt\")"
   ]
  },
  {
   "cell_type": "code",
   "execution_count": 5,
   "id": "3b730a10-05f3-47ff-9720-9117077cffd3",
   "metadata": {},
   "outputs": [
    {
     "data": {
      "text/plain": [
       "(26000.0, 29200.0, 100.0, 33)"
      ]
     },
     "execution_count": 5,
     "metadata": {},
     "output_type": "execute_result"
    }
   ],
   "source": [
    "a_locs = dcip_data[:,0]\n",
    "b_locs = dcip_data[:,1]\n",
    "m_locs = dcip_data[:,2]\n",
    "n_locs = dcip_data[:,3]\n",
    "dc_obs = dcip_data[:,4]\n",
    "dc_err = dcip_data[:,5]\n",
    "ip_obs = dcip_data[:,6]*0.7   # https://gpg.geosci.xyz/content/induced_polarization/induced_polarization_data.html\n",
    "ip_err = dcip_data[:,7]*0.7\n",
    "geo_factors = dcip_data[:,8]\n",
    "\n",
    "location_start = np.min(a_locs)\n",
    "location_stop = np.max(n_locs)\n",
    "location_interval = m_locs[1] - m_locs[0]\n",
    "location_num = int((location_stop - location_start) / location_interval + 1)\n",
    "\n",
    "location_start, location_stop, location_interval, location_num"
   ]
  },
  {
   "cell_type": "code",
   "execution_count": 6,
   "id": "1cb9d2b6",
   "metadata": {},
   "outputs": [],
   "source": [
    "def load_leapfrog_geologic_section(filename=\"century_geologic_section.csv\"):\n",
    "    \"\"\"\n",
    "    Load the geologic cross section. \n",
    "    \"\"\"\n",
    "    fid = open(filename, 'r')\n",
    "    lines = fid.readlines()\n",
    "    data = []\n",
    "    data_tmp = []\n",
    "    for line in lines[2:]:\n",
    "        line_data = (line.split(',')[:3])\n",
    "        if 'End' in line:\n",
    "            data.append(np.vstack(data_tmp)[:,[0, 2]])\n",
    "            data_tmp = []\n",
    "        else:\n",
    "            data_tmp.append(np.array(line_data, dtype=float))\n",
    "    return data\n",
    "\n",
    "geologic_section = load_leapfrog_geologic_section()"
   ]
  },
  {
   "cell_type": "markdown",
   "id": "193177fd-7966-4cb6-bdb0-2876956082ee",
   "metadata": {},
   "source": [
    "## 3. Utility wrappers to PyGIMLi functions"
   ]
  },
  {
   "cell_type": "markdown",
   "id": "8a779520-0690-41c8-9341-aab2f44002bd",
   "metadata": {},
   "source": [
    "### 3.1. Data container, mesh and forward operator"
   ]
  },
  {
   "cell_type": "code",
   "execution_count": 26,
   "id": "e3372292-4364-45f8-8a0a-2fc5b51c3371",
   "metadata": {
    "tags": []
   },
   "outputs": [],
   "source": [
    "# inversion mesh bound\n",
    "x_inv_start = location_start - 1000\n",
    "x_inv_stop = location_stop + 1000\n",
    "y_inv_start = -400\n",
    "y_inv_stop = 0\n",
    "x_gridmesh = np.linspace(start=x_inv_start, stop=x_inv_stop, num=40)\n",
    "y_gridmesh = np.linspace(start=y_inv_start, stop=y_inv_stop, num=10)\n",
    "\n",
    "def data_to_complex(rhoa, phia):\n",
    "    return rhoa * np.exp(1j * phia)\n",
    "\n",
    "def data_from_complex(data_complex):\n",
    "    return np.abs(data_complex), np.arctan2(data_complex.imag, data_complex.real)\n",
    "\n",
    "# PyGIMLi DataContainerERT\n",
    "def pygimli_data(a_locs, b_locs, m_locs, n_locs, dc_obs, dc_err, ip_obs, ip_err):\n",
    "    # --- create empty data container object ---\n",
    "    pg_data = pygimli.DataContainerERT()\n",
    "    # create sensor locations\n",
    "    for sensor in np.linspace(location_start, location_stop, location_num):\n",
    "        pg_data.createSensor((sensor, 0.0, 0.0))\n",
    "    # --- add indices for data points ---\n",
    "    locs_sources = np.vstack((a_locs, b_locs)).T\n",
    "    locs_receivers = np.vstack((m_locs, n_locs)).T\n",
    "    for i in range(len(locs_sources)):\n",
    "        src = locs_sources[i]\n",
    "        src_idx = (src - location_start) / location_interval\n",
    "        rec = locs_receivers[i]\n",
    "        rec_idx = (rec - location_start) / location_interval\n",
    "        pg_data.createFourPointData(i, src_idx[0], src_idx[1], rec_idx[0], rec_idx[1])\n",
    "    # --- fill in the observed data and error estimation ---\n",
    "    pg_data[\"rhoa\"] = dc_obs\n",
    "    pg_data[\"err\"] = dc_err\n",
    "    pg_data[\"phia\"] = -ip_obs/1000.     # to make me happy CHECKME\n",
    "    pg_data[\"iperr\"] = -ip_err/1000.\n",
    "    # --- create geometric factor k ---\n",
    "    pg_data[\"k\"] = pygimli.physics.ert.createGeometricFactors(pg_data, numerical=True)\n",
    "    # --- generate data vals and diag vals of covariance inv matrix in log complex space ---\n",
    "    data_complex = data_to_complex(pg_data[\"rhoa\"].array(), pg_data[\"phia\"].array())\n",
    "    # data_complex = pg_data[\"rhoa\"].array() * np.exp(1j * pg_data[\"phia\"].array())\n",
    "    data_complex_log = np.log(data_complex)\n",
    "    dc_err_cov_log_inv = 1 / np.log(pg_data[\"err\"]**2)\n",
    "    ip_err_cov_log_inv = 1 / np.log(pg_data[\"iperr\"]**2)\n",
    "    data_cov_inv_complex_log = data_to_complex(dc_err_cov_log_inv, ip_err_cov_log_inv)\n",
    "    # data_cov_inv_complex_log = dc_err_cov_log_inv * np.exp(1j * ip_err_cov_log_inv)\n",
    "    return pg_data, data_complex_log, data_cov_inv_complex_log\n",
    "\n",
    "# PyGIMLi ert.ERTManager\n",
    "def ert_manager(data, verbose=False):\n",
    "    return pygimli.physics.ert.ERTManager(data, verbose=verbose, useBert=True)\n",
    "\n",
    "# inversion mesh\n",
    "def inversion_mesh(ert_mgr):\n",
    "    inv_mesh = ert_mgr.createMesh(ert_mgr.data)\n",
    "    # inv_mesh = inv_mesh.createH2()\n",
    "    ert_mgr.setMesh(inv_mesh)\n",
    "    return inv_mesh\n",
    "\n",
    "# mesh used for the original paper\n",
    "def inversion_mesh_ubc(ert_mgr):\n",
    "    mesh_ubc = pygimli.meshtools.readMeshIO(\"century_mesh.vtk\")\n",
    "    ert_mgr.setMesh(mesh_ubc)\n",
    "    return mesh_ubc\n",
    "\n",
    "# PyGIMLi ert.ERTModelling\n",
    "def ert_forward_operator(ert_mgr, data_scheme, inv_mesh):\n",
    "    forward_operator = ert_mgr.fop\n",
    "    forward_operator.setComplex(True)\n",
    "    forward_operator.setData(data_scheme)\n",
    "    forward_operator.setMesh(inv_mesh, ignoreRegionManager=True)\n",
    "    return forward_operator\n",
    "\n",
    "# regularization matrix\n",
    "def reg_matrix(forward_oprt):\n",
    "    region_manager = forward_oprt.regionManager()\n",
    "    region_manager.setConstraintType(2)\n",
    "    Wm = pygimli.matrix.SparseMapMatrix()\n",
    "    region_manager.fillConstraints(Wm)\n",
    "    Wm = pygimli.utils.sparseMatrix2coo(Wm)\n",
    "    return Wm\n",
    "\n",
    "def starting_model(ert_mgr, rhoa_val=None, phia_val=None):\n",
    "    pg_data = ert_mgr.data\n",
    "    rhoa = np.median(pg_data[\"rhoa\"]) if rhoa_val is None else rhoa_val\n",
    "    phia = np.median(pg_data[\"phia\"]) if phia_val is None else phia_val\n",
    "    start_val = pygimli.utils.complex.toComplex(rhoa, phia)\n",
    "    start_model = np.ones(ert_mgr.paraDomain.cellCount()) * start_val\n",
    "    start_model_log = np.log(start_model)\n",
    "    start_model_log_real = pygimli.utils.squeezeComplex(start_model_log)\n",
    "    return start_model, start_model_log, start_model_log_real\n",
    "\n",
    "def reference_dc_model():\n",
    "    return np.loadtxt(\"century_dc_model.txt\")\n",
    "\n",
    "def reference_ip_model():\n",
    "    return np.loadtxt(\"century_ip_model.txt\")\n",
    "\n",
    "# initialise model to have same resistivities as the original inversion result\n",
    "def starting_model_ref(ert_mgr):\n",
    "    dc_model_ref = np.loadtxt(\"century_dc_model.txt\")\n",
    "    assert ert_mgr.paraDomain.cellCount() == len(dc_model_ref), \\\n",
    "        \"mesh cell count has to match century reference model length\"\n",
    "    return starting_model(ert_mgr, rhoa_val=dc_model_ref)"
   ]
  },
  {
   "cell_type": "markdown",
   "id": "78fdcc98-03d2-4255-8c58-69efcd9d8523",
   "metadata": {},
   "source": [
    "### 3.2. Plotting utilities\n",
    "\n",
    "*Colorbars are plotted separately for compatibility to Colab mpl version."
   ]
  },
  {
   "cell_type": "code",
   "execution_count": 8,
   "id": "5cb21fd1-839d-4226-84f8-09c40c0df083",
   "metadata": {
    "tags": []
   },
   "outputs": [],
   "source": [
    "# plot colorbar for data\n",
    "def colorbar(ax, cMin, cMax, label, orientation=\"horizontal\"):\n",
    "    norm = mpl.colors.Normalize(cMin, cMax)\n",
    "    sm = plt.cm.ScalarMappable(norm=norm)\n",
    "    cb = plt.colorbar(sm, orientation=orientation, ax=ax)\n",
    "    cb.set_label(label)\n",
    "    cb.set_ticks(np.arange(cMin, cMax+0.1, (cMax-cMin)/5))\n",
    "    \n",
    "def plot_data(pg_data, data_complex, title):      # takes in data in complex normal space\n",
    "    fig, axes = plt.subplots(1, 2, figsize=(10,4))\n",
    "    data_dc, data_ip = data_from_complex(data_complex)\n",
    "    data_ip *= 1000\n",
    "    # apparent resistivity\n",
    "    # data_dc = np.abs(data_complex)\n",
    "    pygimli.physics.ert.showERTData(\n",
    "        pg_data, \n",
    "        vals=data_dc, \n",
    "        # label=r'$\\rho_a~[\\Omega$m]', \n",
    "        ax=axes[0], \n",
    "        colorBar=False,\n",
    "    )\n",
    "    colorbar(axes[0], min(data_dc), max(data_dc), r'$\\rho_a~[\\Omega$m]')\n",
    "    axes[0].set_xlabel(\"Horizontal Distance (m)\")\n",
    "    axes[0].set_ylabel(\"Dipole Dipole Separation (m)\")\n",
    "    axes[0].set_title(\"Apparent Resistivity\")\n",
    "    # apparent chargeability\n",
    "    # data_ip = np.arctan2(data_complex.imag, data_complex.real) * 1000\n",
    "    pygimli.physics.ert.showERTData(\n",
    "        pg_data,\n",
    "        vals=data_ip,\n",
    "        # label=r'$\\phi_a~[mrad]$',\n",
    "        ax=axes[1],\n",
    "        colorBar=False,\n",
    "    )\n",
    "    colorbar(axes[1], min(data_ip), max(data_ip), r'$\\phi_a~[mrad]$')\n",
    "    axes[1].set_xlabel(\"Horizontal Distance (m)\")\n",
    "    axes[1].set_ylabel(\"Dipole Dipole Separation (m)\")\n",
    "    axes[1].set_title(\"Apparent Chargeability\")\n",
    "    \n",
    "def plot_mesh(mesh, title=\"Mesh used for inversion\"):\n",
    "    _, ax = plt.subplots(1, 1)\n",
    "    pygimli.show(mesh, showMesh=True, markers=True, colorBar=False, ax=ax)\n",
    "    ax.set_title(title)\n",
    "    ax.set_xlabel(\"Northing (m)\")\n",
    "    ax.set_ylabel(\"Elevation (m)\")\n",
    "\n",
    "def plot_model(mesh, model_vec, title):\n",
    "    fig, axes = plt.subplots(2, 1,figsize=(12,5))\n",
    "    pygimli.show(mesh, data=np.abs(model_vec), label=r\"$\\Omega m$\", ax=axes[0])\n",
    "    axes[0].set_xlim(x_inv_start, x_inv_stop)\n",
    "    axes[0].set_ylim(y_inv_start, y_inv_stop)\n",
    "    axes[0].set_title(\"Resistivity\")\n",
    "    pygimli.show(mesh, data=np.arctan2(np.imag(model_vec), np.real(model_vec)) * 1000, label=r\"mrad\", ax=axes[1])\n",
    "    axes[1].set_xlim(x_inv_start, x_inv_stop)\n",
    "    axes[1].set_ylim(y_inv_start, y_inv_stop)\n",
    "    axes[1].set_title(\"Chargeability\")\n",
    "    fig.suptitle(title)\n",
    "\n",
    "def plot_result(inv_result, ert_mgr, title=None):\n",
    "    # convert back to normal space from log space\n",
    "    model = np.exp(inv_result.model)\n",
    "    # add title\n",
    "    fig, ax = plt.subplots(1, 1, figsize=(10,7))\n",
    "    if title is not None:\n",
    "        fig.suptitle(title, fontsize=16)\n",
    "    # plot inferred model\n",
    "    plot_model(ert_mgr.paraDomain, model, \"Inferred model\", False, ax)\n",
    "    ax.set_ylim(y_inv_start, y_inv_stop)\n",
    "    # plot the data\n",
    "    _, axes = plt.subplots(1, 2, figsize=(12,4))\n",
    "    # plot synthetic data\n",
    "    d_scheme = ert_mgr.data\n",
    "    dobs = d_scheme[\"rhoa\"]\n",
    "    d = forward_oprt.response(model)\n",
    "    plot_data(d_scheme, data_vals=d, title=\"Synthetic data\", ax=axes[0], cMin=min(dobs), cMax=max(dobs))\n",
    "    # plot observed data\n",
    "    plot_data(d_scheme, data_vals=dobs, title=\"Observed data\", ax=axes[1])\n",
    "\n",
    "def plot_comparison(mesh1, model1, title1, mesh2, model2, title2, color_range):\n",
    "    fig, axes = plt.subplots(2, 1, figsize=(10,6))\n",
    "    pygimli.show(\n",
    "        mesh1, \n",
    "        data=model1,\n",
    "        ax=axes[0],\n",
    "        label=r\"$\\Omega m$\", \n",
    "        cMin=color_range[0],\n",
    "        cMax=color_range[1],\n",
    "        colorBar=False\n",
    "    )\n",
    "    axes[0].set_xlabel(\"Horizontal Distance (m)\")\n",
    "    axes[0].set_ylabel(\"Elevation (m)\")\n",
    "    axes[0].set_xlim(mesh2.xMin(), mesh2.xMax())\n",
    "    axes[0].set_ylim(y_inv_start, y_inv_stop)\n",
    "    axes[0].set_title(title1)\n",
    "    pygimli.show(\n",
    "        mesh2, \n",
    "        data=model2,\n",
    "        ax=axes[1],\n",
    "        label=r\"$\\Omega m$\", \n",
    "        cMin=color_range[0],\n",
    "        cMax=color_range[1],\n",
    "        colorBar=False\n",
    "    )\n",
    "    axes[1].set_xlabel(\"Horizontal Distance (m)\")\n",
    "    axes[1].set_ylabel(\"Elevation (m)\")\n",
    "    axes[1].set_ylim(y_inv_start, y_inv_stop)\n",
    "    axes[1].set_title(title2)\n",
    "    colorbar(axes, color_range[0], color_range[1], r\"$\\Omega$m\")"
   ]
  },
  {
   "cell_type": "markdown",
   "id": "61588e8f-cd10-4de5-bf81-5a4f0b117034",
   "metadata": {},
   "source": [
    "## 4. PyGIMLi problem setup\n",
    "\n",
    "### 4.1. Data container"
   ]
  },
  {
   "cell_type": "code",
   "execution_count": 9,
   "id": "21a5d500-ee15-45fd-a3c3-87d06cb8c915",
   "metadata": {},
   "outputs": [
    {
     "name": "stderr",
     "output_type": "stream",
     "text": [
      "16/11/22 - 14:12:30 - pyGIMLi - \u001b[0;32;49mINFO\u001b[0m - Cache /home/jiawen/opt/mambaforge/envs/cofi_env/lib/python3.10/site-packages/pygimli/physics/ert/ert.py:createGeometricFactors restored (6.0s x 6): /home/jiawen/.cache/pygimli/17680588544488343495\n"
     ]
    },
    {
     "data": {
      "text/plain": [
       "Data: Sensors: 33 data: 151, nonzero entries: ['a', 'b', 'err', 'iperr', 'k', 'm', 'n', 'phia', 'rhoa', 'valid']"
      ]
     },
     "execution_count": 9,
     "metadata": {},
     "output_type": "execute_result"
    }
   ],
   "source": [
    "pg_data, data_complex_log, data_cov_inv_complex_log = pygimli_data(a_locs, b_locs, m_locs, n_locs, dc_obs, dc_err, ip_obs, ip_err)\n",
    "pg_data"
   ]
  },
  {
   "cell_type": "code",
   "execution_count": 10,
   "id": "71574720-5a14-46d7-ac0f-566255ea982e",
   "metadata": {},
   "outputs": [
    {
     "data": {
      "image/png": "[encoded data removed]",
      "text/plain": [
       "<Figure size 1000x400 with 4 Axes>"
      ]
     },
     "metadata": {},
     "output_type": "display_data"
    },
    {
     "data": {
      "image/png": "[encoded data removed]",
      "text/plain": [
       "<Figure size 1000x400 with 4 Axes>"
      ]
     },
     "metadata": {},
     "output_type": "display_data"
    }
   ],
   "source": [
    "plot_data(pg_data, np.exp(data_complex_log), \"Observed Data\")\n",
    "plot_data(pg_data, data_cov_inv_complex_log, \"Data covariance inverse weighting in log space\")"
   ]
  },
  {
   "cell_type": "markdown",
   "id": "b56312c1-7f4d-4a2f-ae70-18fbd4c21176",
   "metadata": {},
   "source": [
    "### 4.2. ERT manager"
   ]
  },
  {
   "cell_type": "code",
   "execution_count": 11,
   "id": "0c4fb10b-98b7-4632-be8d-00eb69838487",
   "metadata": {},
   "outputs": [],
   "source": [
    "ert_mgr = ert_manager(pg_data)"
   ]
  },
  {
   "cell_type": "markdown",
   "id": "9dd309ce-d2df-4fa1-a7d9-86745f0b7013",
   "metadata": {},
   "source": [
    "### 4.3. Inversion mesh"
   ]
  },
  {
   "cell_type": "code",
   "execution_count": 12,
   "id": "2b19305c-136a-4cc8-a9d1-6862f6cef88c",
   "metadata": {},
   "outputs": [
    {
     "name": "stderr",
     "output_type": "stream",
     "text": [
      "16/11/22 - 14:12:31 - pyGIMLi - \u001b[0;32;49mINFO\u001b[0m - Found 1 regions.\n"
     ]
    }
   ],
   "source": [
    "# inv_mesh = inversion_mesh(ert_mgr)\n",
    "inv_mesh = inversion_mesh_ubc(ert_mgr)"
   ]
  },
  {
   "cell_type": "code",
   "execution_count": 13,
   "id": "6f3a5192-483a-409b-b42b-ddf3bb32f579",
   "metadata": {},
   "outputs": [
    {
     "data": {
      "image/png": "[encoded data removed]",
      "text/plain": [
       "<Figure size 640x480 with 1 Axes>"
      ]
     },
     "metadata": {},
     "output_type": "display_data"
    }
   ],
   "source": [
    "plot_mesh(inv_mesh)"
   ]
  },
  {
   "cell_type": "markdown",
   "id": "493d677c-6a43-4c9c-b434-885a8901f7bb",
   "metadata": {},
   "source": [
    "### 4.4. Forward operator"
   ]
  },
  {
   "cell_type": "code",
   "execution_count": 14,
   "id": "b505a200-0744-4d35-884a-26a783066109",
   "metadata": {},
   "outputs": [],
   "source": [
    "forward_oprt = ert_forward_operator(ert_mgr, pg_data, inv_mesh)"
   ]
  },
  {
   "cell_type": "markdown",
   "id": "370f5c01-2161-43b5-b302-37f0153b7c02",
   "metadata": {},
   "source": [
    "### 4.5. Regularization matrix"
   ]
  },
  {
   "cell_type": "code",
   "execution_count": 15,
   "id": "5945e473-075d-4de3-9a2d-857ec6ac7a87",
   "metadata": {},
   "outputs": [],
   "source": [
    "Wm = reg_matrix(forward_oprt)"
   ]
  },
  {
   "cell_type": "markdown",
   "id": "2ed20fc3-902a-49cb-a9b3-814c4092d0d2",
   "metadata": {},
   "source": [
    "### 4.6. Starting model"
   ]
  },
  {
   "cell_type": "code",
   "execution_count": 16,
   "id": "12fdb054-8bcf-4cfa-a903-810ca3877c96",
   "metadata": {},
   "outputs": [
    {
     "name": "stderr",
     "output_type": "stream",
     "text": [
      "16/11/22 - 14:12:31 - pyGIMLi - \u001b[0;32;49mINFO\u001b[0m - Creating forward mesh from region infos.\n",
      "16/11/22 - 14:12:31 - pyGIMLi - \u001b[0;32;49mINFO\u001b[0m - Creating refined mesh (H2) to solve forward task.\n"
     ]
    },
    {
     "data": {
      "image/png": "[encoded data removed]",
      "text/plain": [
       "<Figure size 1200x500 with 4 Axes>"
      ]
     },
     "metadata": {},
     "output_type": "display_data"
    }
   ],
   "source": [
    "start_model, start_model_log, start_model_log_real = starting_model(ert_mgr)\n",
    "\n",
    "plot_model(ert_mgr.paraDomain, start_model, \"Starting model\")"
   ]
  },
  {
   "cell_type": "markdown",
   "id": "b338da22-0d85-4ff5-b27f-01f5bc3d903b",
   "metadata": {},
   "source": [
    "## 5. Create utility functions to pass to CoFI"
   ]
  },
  {
   "cell_type": "code",
   "execution_count": 17,
   "id": "d7f2ead1-61d3-49c6-b52d-c14c23a1abe3",
   "metadata": {},
   "outputs": [],
   "source": [
    "# Utility Functions (additional)\n",
    "\n",
    "def _ensure_numpy(model):\n",
    "    if \"torch.Tensor\" in str(type(model)):\n",
    "        model = model.cpu().detach().numpy()\n",
    "    return model\n",
    "\n",
    "# accepts model in log complex space -> produces y in log complex space\n",
    "def get_response(model_log, fop):\n",
    "    model = np.exp(model_log)\n",
    "    model = _ensure_numpy(model)\n",
    "    model_re_im = pygimli.utils.squeezeComplex(model)\n",
    "    synth = np.array(fop.response(model_re_im))\n",
    "    return np.log(pygimli.utils.toComplex(synth))\n",
    "\n",
    "# accepts model in log complex space -> produces Jac in log-log complex space\n",
    "def get_jacobian(model_log, fop):\n",
    "    model = np.exp(model_log)\n",
    "    model = _ensure_numpy(model)\n",
    "    model_re_im = pygimli.utils.squeezeComplex(model)\n",
    "    J_block = fop.createJacobian(model_re_im)\n",
    "    J_re = np.array(J_block.mat(0))\n",
    "    J_im = np.array(J_block.mat(1))\n",
    "    J = J_re + 1j * J_im\n",
    "    y_synth_log = get_response(model_log, fop)\n",
    "    J_loglog = J / np.exp(y_synth_log[:,np.newaxis]) * model[np.newaxis,:]\n",
    "    return J_loglog\n",
    "\n",
    "# accepts model/data in log complex space -> produces residuals in log complex space\n",
    "def get_residuals(model_log, data_log, fop):\n",
    "    y_synth_log = get_response(model_log, fop)\n",
    "    return data_log - y_synth_log\n",
    "\n",
    "# accepts model in log real space -> produces objective value in log real space\n",
    "def get_objective(model_log_real, data_log, fop, lamda, Wm, data_cov_inv_complex_log):\n",
    "    # model_log_real to complex space\n",
    "    model_log = pygimli.utils.complex.toComplex(model_log_real)\n",
    "    # calculate data misfit\n",
    "    res = get_residuals(model_log, data_log, fop)\n",
    "    data_misfit = res.T.dot(res * data_cov_inv_complex_log)\n",
    "    # calculate regularization term\n",
    "    weighted_model_log = Wm.dot(model_log)\n",
    "    reg = lamda * weighted_model_log.T.dot(weighted_model_log)\n",
    "    # sum up\n",
    "    result = np.abs(data_misfit + reg)\n",
    "    return result\n",
    "\n",
    "# accepts model in log real space -> produces gradient vector in log real space\n",
    "def get_gradient(model_log_real, data_log, fop, lamda, Wm, data_cov_inv_complex_log):\n",
    "    # model_log_real to complex space\n",
    "    model_log = pygimli.utils.complex.toComplex(model_log_real)\n",
    "    # calculate gradient for data misfit\n",
    "    res = get_residuals(model_log, data_log, fop)\n",
    "    jac = get_jacobian(model_log, fop)\n",
    "    data_misfit_grad = - jac.conj().T.dot(res)\n",
    "    # calculate gradient for regularization term\n",
    "    reg_grad = lamda * Wm.T.dot(Wm).dot(model_log)\n",
    "    # sum up\n",
    "    grad_complex = data_misfit_grad + reg_grad\n",
    "    grad_real = pygimli.utils.squeezeComplex(grad_complex)\n",
    "    grad_real = np.concatenate((np.real(grad_complex), np.imag(grad_complex)))\n",
    "    return grad_real\n",
    "\n",
    "# accepts model in log real space -> produces hessian matrix in log real space\n",
    "def get_hessian(model_log_real, data_log, fop, lamda, Wm, data_cov_inv_complex_log):\n",
    "    # model_log_real to complex space\n",
    "    nparams = len(model_log_real)//2\n",
    "    model_log = pygimli.utils.complex.toComplex(model_log_real)\n",
    "    # calculate hessian for data misfit\n",
    "    res = get_residuals(model_log, data_log, fop)\n",
    "    jac = get_jacobian(model_log, fop)\n",
    "    data_misfit_hessian = - jac.conj().T.dot(jac)\n",
    "    # calculate hessian for regularization term\n",
    "    reg_hessian = lamda * Wm.T.dot(Wm)\n",
    "    # sum up\n",
    "    hessian_complex = data_misfit_hessian + reg_hessian\n",
    "    hessian_real = np.zeros((2*nparams, 2*nparams))\n",
    "    hessian_real[:nparams,:nparams] = np.real(hessian_complex)\n",
    "    hessian_real[:nparams,nparams:] = -np.imag(hessian_complex)\n",
    "    hessian_real[nparams:,:nparams] = np.imag(hessian_complex)\n",
    "    hessian_real[nparams:,nparams:] = np.real(hessian_complex)\n",
    "    return hessian_real"
   ]
  },
  {
   "cell_type": "code",
   "execution_count": 25,
   "id": "a218d724-c5d9-4fa2-93d2-50f275073179",
   "metadata": {},
   "outputs": [],
   "source": [
    "# test\n",
    "try:\n",
    "    get_response(start_model_log, forward_oprt)\n",
    "except RuntimeError:\n",
    "    print(\"run again\")\n",
    "    get_response(start_model_log, forward_oprt)"
   ]
  },
  {
   "cell_type": "code",
   "execution_count": 19,
   "id": "7d706da7-8eff-4d3b-b34f-c1ca99c86b4a",
   "metadata": {},
   "outputs": [
    {
     "data": {
      "text/plain": [
       "42.906898683610684"
      ]
     },
     "execution_count": 19,
     "metadata": {},
     "output_type": "execute_result"
    }
   ],
   "source": [
    "# test\n",
    "obj_val = get_objective(start_model_log_real, data_complex_log, forward_oprt, 0.0001, Wm, data_cov_inv_complex_log)\n",
    "obj_val"
   ]
  },
  {
   "cell_type": "code",
   "execution_count": 20,
   "id": "24354650-bb20-4b78-aee8-2bf321271895",
   "metadata": {},
   "outputs": [
    {
     "name": "stdout",
     "output_type": "stream",
     "text": [
      "*** check /home/florian/miniconda3/conda-bld/pgcore_1645022399690/work/gimli/core/src/bert/dcfemmodelling.cpp:1424\t\n"
     ]
    },
    {
     "data": {
      "text/plain": [
       "((4408,),\n",
       " array([-5.10695300e-04, -3.95393128e-04, -2.65589724e-04, ...,\n",
       "        -1.25448139e-05, -2.18941014e-06,  6.36493612e-07]))"
      ]
     },
     "execution_count": 20,
     "metadata": {},
     "output_type": "execute_result"
    }
   ],
   "source": [
    "# test\n",
    "gradient = get_gradient(start_model_log_real, data_complex_log, forward_oprt, 0.0001, Wm, data_cov_inv_complex_log)\n",
    "gradient.shape, gradient"
   ]
  },
  {
   "cell_type": "code",
   "execution_count": 21,
   "id": "ca13f428-126c-4008-af78-49ba3aee5d03",
   "metadata": {},
   "outputs": [
    {
     "name": "stdout",
     "output_type": "stream",
     "text": [
      "*** check /home/florian/miniconda3/conda-bld/pgcore_1645022399690/work/gimli/core/src/bert/dcfemmodelling.cpp:1424\t\n"
     ]
    },
    {
     "data": {
      "text/plain": [
       "((4408, 4408),\n",
       " array([[ 5.97613862e-04, -5.01660419e-04,  9.89611775e-05, ...,\n",
       "          6.37378308e-18,  1.11736069e-18,  4.60366718e-20],\n",
       "        [-5.01660419e-04,  1.19884129e-03, -6.00725221e-04, ...,\n",
       "          2.42297999e-18,  3.50788324e-19, -2.33706021e-20],\n",
       "        [ 9.89611775e-05, -6.00725221e-04,  1.19954596e-03, ...,\n",
       "          8.06617181e-19,  7.38466497e-20, -3.18282445e-20],\n",
       "        ...,\n",
       "        [ 6.37378308e-18,  2.42297999e-18,  8.06617181e-19, ...,\n",
       "          1.10853030e-03, -6.25995570e-04,  9.55492152e-05],\n",
       "        [ 1.11736069e-18,  3.50788324e-19,  7.38466497e-20, ...,\n",
       "         -6.25995570e-04,  1.19233852e-03, -5.01370440e-04],\n",
       "        [ 4.60366718e-20, -2.33706021e-20, -3.18282445e-20, ...,\n",
       "          9.55492152e-05, -5.01370440e-04,  5.99740338e-04]]))"
      ]
     },
     "execution_count": 21,
     "metadata": {},
     "output_type": "execute_result"
    }
   ],
   "source": [
    "# test\n",
    "hessian = get_hessian(start_model_log_real, data_complex_log, forward_oprt, 0.0001, Wm, data_cov_inv_complex_log)\n",
    "hessian.shape, hessian"
   ]
  },
  {
   "cell_type": "markdown",
   "id": "60c929a0-ad45-4c6a-aba5-b5f99d0e46a7",
   "metadata": {},
   "source": [
    "## 6. Run inversion with CoFI\n",
    "\n",
    "### 6.1. Simple Newton"
   ]
  },
  {
   "cell_type": "code",
   "execution_count": 22,
   "id": "8416eee4-be3a-453f-9797-513dc1f088e2",
   "metadata": {},
   "outputs": [],
   "source": [
    "# hyperparameters\n",
    "lamda = 0.00001\n",
    "\n",
    "# CoFI - define BaseProblem\n",
    "dcip_problem = cofi.BaseProblem()\n",
    "dcip_problem.name = \"DC-IP defined through PyGIMLi\"\n",
    "dcip_problem.set_objective(get_objective, args=[data_complex_log, forward_oprt, Wm, lamda, data_cov_inv_complex_log])\n",
    "dcip_problem.set_gradient(get_gradient, args=[data_complex_log, forward_oprt, Wm, lamda, data_cov_inv_complex_log])\n",
    "dcip_problem.set_hessian(get_hessian, args=[data_complex_log, forward_oprt, Wm, lamda, data_cov_inv_complex_log])\n",
    "dcip_problem.set_initial_model(start_model_log_real)"
   ]
  },
  {
   "cell_type": "code",
   "execution_count": null,
   "id": "5e2a6bf7-f967-4540-8550-f17c82c37eee",
   "metadata": {},
   "outputs": [],
   "source": [
    "# test\n",
    "dcip_problem.objective(start_model_log_real)"
   ]
  },
  {
   "cell_type": "code",
   "execution_count": 23,
   "id": "5d825a33-fbab-4dab-8858-6e0e3e259331",
   "metadata": {},
   "outputs": [
    {
     "ename": "InvocationError",
     "evalue": "exception while calling your objective. Check exception details from message above. If not sure, please report this issue at https://github.com/inlab-geo/cofi/issues",
     "output_type": "error",
     "traceback": [
      "\u001b[0;31m---------------------------------------------------------------------------\u001b[0m",
      "\u001b[0;31mAttributeError\u001b[0m                            Traceback (most recent call last)",
      "File \u001b[0;32m~/opt/mambaforge/envs/cofi_env/lib/python3.10/site-packages/cofi/base_problem.py:1967\u001b[0m, in \u001b[0;36m_FunctionWrapper.__call__\u001b[0;34m(self, model, *extra_args)\u001b[0m\n\u001b[1;32m   1966\u001b[0m \u001b[38;5;28;01mtry\u001b[39;00m:\n\u001b[0;32m-> 1967\u001b[0m     \u001b[38;5;28;01mreturn\u001b[39;00m \u001b[38;5;28;43mself\u001b[39;49m\u001b[38;5;241;43m.\u001b[39;49m\u001b[43mfunc\u001b[49m\u001b[43m(\u001b[49m\u001b[43mmodel\u001b[49m\u001b[43m,\u001b[49m\u001b[43m \u001b[49m\u001b[38;5;241;43m*\u001b[39;49m\u001b[43mextra_args\u001b[49m\u001b[43m,\u001b[49m\u001b[43m \u001b[49m\u001b[38;5;241;43m*\u001b[39;49m\u001b[38;5;28;43mself\u001b[39;49m\u001b[38;5;241;43m.\u001b[39;49m\u001b[43margs\u001b[49m\u001b[43m,\u001b[49m\u001b[43m \u001b[49m\u001b[38;5;241;43m*\u001b[39;49m\u001b[38;5;241;43m*\u001b[39;49m\u001b[38;5;28;43mself\u001b[39;49m\u001b[38;5;241;43m.\u001b[39;49m\u001b[43mkwargs\u001b[49m\u001b[43m)\u001b[49m\n\u001b[1;32m   1968\u001b[0m \u001b[38;5;28;01mexcept\u001b[39;00m \u001b[38;5;167;01mException\u001b[39;00m \u001b[38;5;28;01mas\u001b[39;00m exception:\n",
      "Cell \u001b[0;32mIn [17], line 52\u001b[0m, in \u001b[0;36mget_objective\u001b[0;34m(model_log_real, data_log, fop, lamda, Wm, data_cov_inv_complex_log)\u001b[0m\n\u001b[1;32m     51\u001b[0m \u001b[38;5;66;03m# calculate regularization term\u001b[39;00m\n\u001b[0;32m---> 52\u001b[0m weighted_model_log \u001b[38;5;241m=\u001b[39m \u001b[43mWm\u001b[49m\u001b[38;5;241;43m.\u001b[39;49m\u001b[43mdot\u001b[49m(model_log)\n\u001b[1;32m     53\u001b[0m reg \u001b[38;5;241m=\u001b[39m lamda \u001b[38;5;241m*\u001b[39m weighted_model_log\u001b[38;5;241m.\u001b[39mT\u001b[38;5;241m.\u001b[39mdot(weighted_model_log)\n",
      "\u001b[0;31mAttributeError\u001b[0m: 'float' object has no attribute 'dot'",
      "\nThe above exception was the direct cause of the following exception:\n",
      "\u001b[0;31mInvocationError\u001b[0m                           Traceback (most recent call last)",
      "Cell \u001b[0;32mIn [23], line 8\u001b[0m\n\u001b[1;32m      6\u001b[0m \u001b[38;5;66;03m# CoFI - define Inversion and run\u001b[39;00m\n\u001b[1;32m      7\u001b[0m inv \u001b[38;5;241m=\u001b[39m cofi\u001b[38;5;241m.\u001b[39mInversion(dcip_problem, inv_options)\n\u001b[0;32m----> 8\u001b[0m inv_result \u001b[38;5;241m=\u001b[39m \u001b[43minv\u001b[49m\u001b[38;5;241;43m.\u001b[39;49m\u001b[43mrun\u001b[49m\u001b[43m(\u001b[49m\u001b[43m)\u001b[49m\n\u001b[1;32m     10\u001b[0m \u001b[38;5;28mprint\u001b[39m(\u001b[38;5;124mf\u001b[39m\u001b[38;5;124m\"\u001b[39m\u001b[38;5;130;01m\\n\u001b[39;00m\u001b[38;5;124mNumber of objective function evaluations: \u001b[39m\u001b[38;5;132;01m{\u001b[39;00minv_result\u001b[38;5;241m.\u001b[39mn_obj_evaluations\u001b[38;5;132;01m}\u001b[39;00m\u001b[38;5;124m\"\u001b[39m)\n\u001b[1;32m     11\u001b[0m \u001b[38;5;28mprint\u001b[39m(\u001b[38;5;124mf\u001b[39m\u001b[38;5;124m\"\u001b[39m\u001b[38;5;124mNumber of gradient function evaluations: \u001b[39m\u001b[38;5;132;01m{\u001b[39;00minv_result\u001b[38;5;241m.\u001b[39mn_grad_evaluations\u001b[38;5;132;01m}\u001b[39;00m\u001b[38;5;124m\"\u001b[39m)\n",
      "File \u001b[0;32m~/opt/mambaforge/envs/cofi_env/lib/python3.10/site-packages/cofi/inversion.py:211\u001b[0m, in \u001b[0;36mInversion.run\u001b[0;34m(self)\u001b[0m\n\u001b[1;32m    199\u001b[0m \u001b[38;5;28;01mdef\u001b[39;00m \u001b[38;5;21mrun\u001b[39m(\u001b[38;5;28mself\u001b[39m) \u001b[38;5;241m-\u001b[39m\u001b[38;5;241m>\u001b[39m InversionResult:\n\u001b[1;32m    200\u001b[0m     \u001b[38;5;124;03m\"\"\"Starts the inversion and returns an :class:`InversionResult` object.\u001b[39;00m\n\u001b[1;32m    201\u001b[0m \n\u001b[1;32m    202\u001b[0m \u001b[38;5;124;03m    The inversion will be entirely based on the setup defined in ``BaseProblem`` and\u001b[39;00m\n\u001b[0;32m   (...)\u001b[0m\n\u001b[1;32m    209\u001b[0m \u001b[38;5;124;03m        minimally. Check :class:`InversionResult` for details.\u001b[39;00m\n\u001b[1;32m    210\u001b[0m \u001b[38;5;124;03m    \"\"\"\u001b[39;00m\n\u001b[0;32m--> 211\u001b[0m     res_dict \u001b[38;5;241m=\u001b[39m \u001b[38;5;28;43mself\u001b[39;49m\u001b[38;5;241;43m.\u001b[39;49m\u001b[43minv_solve\u001b[49m\u001b[43m(\u001b[49m\u001b[43m)\u001b[49m\n\u001b[1;32m    212\u001b[0m     \u001b[38;5;28;01mif\u001b[39;00m \u001b[38;5;124m\"\u001b[39m\u001b[38;5;124msampler\u001b[39m\u001b[38;5;124m\"\u001b[39m \u001b[38;5;129;01min\u001b[39;00m res_dict:\n\u001b[1;32m    213\u001b[0m         \u001b[38;5;28mself\u001b[39m\u001b[38;5;241m.\u001b[39minv_result \u001b[38;5;241m=\u001b[39m SamplingResult(res_dict)\n",
      "File \u001b[0;32m~/opt/mambaforge/envs/cofi_env/lib/python3.10/site-packages/cofi/solvers/cofi_simple_newton.py:36\u001b[0m, in \u001b[0;36mCoFISimpleNewtonSolver.__call__\u001b[0;34m(self)\u001b[0m\n\u001b[1;32m     32\u001b[0m \u001b[38;5;28;01mfor\u001b[39;00m i \u001b[38;5;129;01min\u001b[39;00m \u001b[38;5;28mrange\u001b[39m(\u001b[38;5;28mself\u001b[39m\u001b[38;5;241m.\u001b[39m_params[\u001b[38;5;124m\"\u001b[39m\u001b[38;5;124mmax_iterations\u001b[39m\u001b[38;5;124m\"\u001b[39m]):\n\u001b[1;32m     33\u001b[0m     \u001b[38;5;28;01mif\u001b[39;00m \u001b[38;5;28mself\u001b[39m\u001b[38;5;241m.\u001b[39m_params[\u001b[38;5;124m\"\u001b[39m\u001b[38;5;124mverbose\u001b[39m\u001b[38;5;124m\"\u001b[39m]:\n\u001b[1;32m     34\u001b[0m         \u001b[38;5;28mprint\u001b[39m(\n\u001b[1;32m     35\u001b[0m             \u001b[38;5;124mf\u001b[39m\u001b[38;5;124m\"\u001b[39m\u001b[38;5;124mIteration #\u001b[39m\u001b[38;5;132;01m{\u001b[39;00mi\u001b[38;5;132;01m}\u001b[39;00m\u001b[38;5;124m, objective function value:\u001b[39m\u001b[38;5;124m\"\u001b[39m\n\u001b[0;32m---> 36\u001b[0m             \u001b[38;5;124mf\u001b[39m\u001b[38;5;124m\"\u001b[39m\u001b[38;5;124m \u001b[39m\u001b[38;5;132;01m{\u001b[39;00m\u001b[38;5;28mself\u001b[39m\u001b[38;5;241m.\u001b[39minv_problem\u001b[38;5;241m.\u001b[39mobjective(m)\u001b[38;5;132;01m}\u001b[39;00m\u001b[38;5;124m\"\u001b[39m\n\u001b[1;32m     37\u001b[0m         )\n\u001b[1;32m     38\u001b[0m         n_obj_evaluations \u001b[38;5;241m+\u001b[39m\u001b[38;5;241m=\u001b[39m \u001b[38;5;241m1\u001b[39m\n\u001b[1;32m     39\u001b[0m     grad \u001b[38;5;241m=\u001b[39m \u001b[38;5;28mself\u001b[39m\u001b[38;5;241m.\u001b[39minv_problem\u001b[38;5;241m.\u001b[39mgradient(m)\n",
      "File \u001b[0;32m~/opt/mambaforge/envs/cofi_env/lib/python3.10/site-packages/cofi/base_problem.py:1972\u001b[0m, in \u001b[0;36m_FunctionWrapper.__call__\u001b[0;34m(self, model, *extra_args)\u001b[0m\n\u001b[1;32m   1970\u001b[0m     \u001b[38;5;28;01mraise\u001b[39;00m exception\n\u001b[1;32m   1971\u001b[0m \u001b[38;5;28;01melse\u001b[39;00m:\n\u001b[0;32m-> 1972\u001b[0m     \u001b[38;5;28;01mraise\u001b[39;00m InvocationError(\n\u001b[1;32m   1973\u001b[0m         func_name\u001b[38;5;241m=\u001b[39m\u001b[38;5;28mself\u001b[39m\u001b[38;5;241m.\u001b[39mname, autogen\u001b[38;5;241m=\u001b[39m\u001b[38;5;28mself\u001b[39m\u001b[38;5;241m.\u001b[39mautogen\n\u001b[1;32m   1974\u001b[0m     ) \u001b[38;5;28;01mfrom\u001b[39;00m \u001b[38;5;21;01mexception\u001b[39;00m\n",
      "\u001b[0;31mInvocationError\u001b[0m: exception while calling your objective. Check exception details from message above. If not sure, please report this issue at https://github.com/inlab-geo/cofi/issues"
     ]
    }
   ],
   "source": [
    "# CoFI - define InversionOptions\n",
    "inv_options = cofi.InversionOptions()\n",
    "inv_options.set_tool(\"cofi.simple_newton\")\n",
    "inv_options.set_params(max_iterations=60, step_length=0.01)\n",
    "\n",
    "# CoFI - define Inversion and run\n",
    "inv = cofi.Inversion(dcip_problem, inv_options)\n",
    "inv_result = inv.run()\n",
    "\n",
    "print(f\"\\nNumber of objective function evaluations: {inv_result.n_obj_evaluations}\")\n",
    "print(f\"Number of gradient function evaluations: {inv_result.n_grad_evaluations}\")\n",
    "print(f\"Number of hessian function evaluations: {inv_result.n_hess_evaluations}\")"
   ]
  },
  {
   "cell_type": "code",
   "execution_count": null,
   "id": "7d0a3c40-7f14-40c0-830e-43eb336f6636",
   "metadata": {},
   "outputs": [],
   "source": [
    "plot_result(inv_result, ert_mgr)"
   ]
  },
  {
   "cell_type": "markdown",
   "id": "b8e2394c-a695-45c8-98db-fdb1eae9d143",
   "metadata": {},
   "source": [
    "#### 6.1.1 Compare with UBC results"
   ]
  },
  {
   "cell_type": "code",
   "execution_count": null,
   "id": "ccf50efe-da67-437d-893f-d4d2bba845b1",
   "metadata": {},
   "outputs": [],
   "source": [
    "import meshio\n",
    "\n",
    "mesh_ubc = pygimli.meshtools.readMeshIO(\"century_mesh.vtk\")\n",
    "model_ubc = np.loadtxt(\"century_ubc_model.txt\")"
   ]
  },
  {
   "cell_type": "code",
   "execution_count": null,
   "id": "0bd53666-7d57-4bba-aab4-e717c093a753",
   "metadata": {},
   "outputs": [],
   "source": [
    "model = np.exp(inv_result.model)"
   ]
  },
  {
   "cell_type": "code",
   "execution_count": null,
   "id": "20e41dcd-6261-4d8d-a0b6-5872443be4b0",
   "metadata": {},
   "outputs": [],
   "source": [
    "color_range = (30, 1000)\n",
    "\n",
    "plot_comparison(\n",
    "    mesh_ubc, \n",
    "    model_ubc, \n",
    "    \"UBC reference model\", \n",
    "    ert_mgr.paraDomain, \n",
    "    model, \n",
    "    \"Our inferred model\",\n",
    "    color_range\n",
    ")"
   ]
  },
  {
   "cell_type": "markdown",
   "id": "b6991ae0-7908-4209-9f75-3e8493e15177",
   "metadata": {},
   "source": [
    "### 6.2. SciPy trust-ncg optimizer"
   ]
  },
  {
   "cell_type": "code",
   "execution_count": null,
   "id": "600a9918-5070-416d-a005-fe02d5a85141",
   "metadata": {
    "tags": []
   },
   "outputs": [],
   "source": [
    "#@title Utility Callback Function (hidden, no need to change)\n",
    "\n",
    "class CallbackFunction:\n",
    "    def __init__(self):\n",
    "        self.x = None\n",
    "        self.i = 0\n",
    "\n",
    "    def __call__(self, xk):\n",
    "        print(f\"Iteration #{self.i+1}\")\n",
    "        if self.x is not None:\n",
    "            print(f\"  model change: {np.linalg.norm(xk - self.x)}\")\n",
    "        print(f\"  objective value: {ert_problem.objective(xk)}\")\n",
    "        self.x = xk\n",
    "        self.i += 1"
   ]
  },
  {
   "cell_type": "code",
   "execution_count": null,
   "id": "35694425",
   "metadata": {},
   "outputs": [],
   "source": [
    "# CoFI - define InversionOptions\n",
    "inv_options2 = cofi.InversionOptions()\n",
    "inv_options2.set_tool(\"torch.optim\")\n",
    "inv_options2.set_params(algorithm=\"Rprop\", num_iterations=30)\n",
    "\n",
    "# CoFI - define Inversion and run\n",
    "inv = cofi.Inversion(ert_problem, inv_options2)\n",
    "inv_result2 = inv.run()\n",
    "\n",
    "print(f\"\\nNumber of objective function evaluations: {inv_result.n_obj_evaluations}\")\n",
    "print(f\"Number of gradient function evaluations: {inv_result.n_grad_evaluations}\")"
   ]
  },
  {
   "cell_type": "code",
   "execution_count": null,
   "id": "99401574-e276-4594-848c-ee695601ffa6",
   "metadata": {},
   "outputs": [],
   "source": [
    "plot_result(inv_result2, ert_mgr)"
   ]
  },
  {
   "cell_type": "markdown",
   "id": "dc638033-15ef-445b-afcd-5c6719132524",
   "metadata": {},
   "source": [
    "#### 6.2.1 Compare with UBC results"
   ]
  },
  {
   "cell_type": "code",
   "execution_count": null,
   "id": "f012989a-9574-48c9-b4ea-4c56e312bb23",
   "metadata": {},
   "outputs": [],
   "source": [
    "plot_comparison(\n",
    "    mesh_ubc, \n",
    "    model_ubc, \n",
    "    \"UBC reference model\", \n",
    "    ert_mgr.paraDomain, \n",
    "    np.exp(inv_result2.model), \n",
    "    \"Our inferred model\",\n",
    "    color_range\n",
    ")"
   ]
  },
  {
   "cell_type": "markdown",
   "id": "dac3ee8f-1092-4e27-afa2-5f41e6e4e6bf",
   "metadata": {},
   "source": [
    "---\n",
    "## Watermark"
   ]
  },
  {
   "cell_type": "code",
   "execution_count": 31,
   "id": "d180c667-a2be-4054-b3ef-faa7e8bc6054",
   "metadata": {},
   "outputs": [
    {
     "name": "stdout",
     "output_type": "stream",
     "text": [
      "cofi 0.1.2.dev21\n",
      "numpy 1.21.6\n",
      "scipy 1.9.1\n",
      "pygimli 1.2.6\n",
      "matplotlib 3.5.3\n"
     ]
    }
   ],
   "source": [
    "watermark_list = [\"cofi\", \"numpy\", \"scipy\", \"pygimli\", \"matplotlib\"]\n",
    "for pkg in watermark_list:\n",
    "    pkg_var = __import__(pkg)\n",
    "    print(pkg, getattr(pkg_var, \"__version__\"))"
   ]
  }
 ],
 "metadata": {
  "kernelspec": {
   "display_name": "Python 3 (ipykernel)",
   "language": "python",
   "name": "python3"
  },
  "language_info": {
   "codemirror_mode": {
    "name": "ipython",
    "version": 3
   },
   "file_extension": ".py",
   "mimetype": "text/x-python",
   "name": "python",
   "nbconvert_exporter": "python",
   "pygments_lexer": "ipython3",
   "version": "3.10.6"
  }
 },
 "nbformat": 4,
 "nbformat_minor": 5
}
