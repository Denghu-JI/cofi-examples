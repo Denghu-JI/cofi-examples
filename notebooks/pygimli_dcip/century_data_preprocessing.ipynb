{
 "cells": [
  {
   "cell_type": "markdown",
   "id": "ec292475-dd13-458b-8e39-0c0925cb921a",
   "metadata": {},
   "source": [
    "# Pre-processing Century Deposit Data\n",
    "\n",
    "This notebook is not meant to be a working example of CoFI. It's rather a notebook that prepares the dataset needed for the [Century Data DCIP example](pygimli_dcip_century_data.ipynb).\n",
    "\n",
    "Note: The preprocessing code is adapted from a SimPEG example authored by Lindsey Heagy and presented at Transform 2020. [Original Materials](https://curvenote.com/@simpeg/transform-2020-simpeg-tutorial/!6DDumb03Le6D8N8xuJNs)"
   ]
  },
  {
   "cell_type": "markdown",
   "id": "14998473-5eb8-45b3-9f2f-a962da575758",
   "metadata": {},
   "source": [
    "## Load the dataset"
   ]
  },
  {
   "cell_type": "code",
   "execution_count": 1,
   "id": "7970f6d3-56b8-4b7e-8aaf-bc7444cc2ca5",
   "metadata": {},
   "outputs": [
    {
     "name": "stdout",
     "output_type": "stream",
     "text": [
      "fatal: destination path 'transform-2020-simpeg' already exists and is not an empty directory.\n",
      "/home/jiawen/cofi/docs/source/cofi-examples/notebooks/pygimli_dcip/transform-2020-simpeg\n"
     ]
    }
   ],
   "source": [
    "# download the dataset\n",
    "\n",
    "!git clone https://github.com/simpeg/transform-2020-simpeg.git\n",
    "%cd transform-2020-simpeg/"
   ]
  },
  {
   "cell_type": "code",
   "execution_count": 4,
   "id": "66ef9bcf-e635-4b2f-8231-5c6e559023a7",
   "metadata": {},
   "outputs": [],
   "source": [
    "import os\n",
    "import numpy as np"
   ]
  },
  {
   "cell_type": "code",
   "execution_count": 5,
   "id": "400f951f-b08e-4860-a689-3ebf9083508b",
   "metadata": {},
   "outputs": [
    {
     "data": {
      "text/plain": [
       "['27750N',\n",
       " '46200E',\n",
       " '46800E',\n",
       " '47700E',\n",
       " '47200E',\n",
       " 'Data_in_3D_format',\n",
       " 'geologic_section.csv',\n",
       " 'gmt',\n",
       " '47000E']"
      ]
     },
     "execution_count": 5,
     "metadata": {},
     "output_type": "execute_result"
    }
   ],
   "source": [
    "os.listdir('century')"
   ]
  },
  {
   "cell_type": "code",
   "execution_count": 6,
   "id": "f28b1be8-7a20-470a-bcea-eabd3b5bca12",
   "metadata": {},
   "outputs": [
    {
     "name": "stdout",
     "output_type": "stream",
     "text": [
      "['468MESH.DAT', '46800POT.OBS', '46800IP.OBS', 'DCMODA.PRE', 'DCMODA.CON', 'IPMODA.CHG', 'IPMODA.PRE']\n"
     ]
    }
   ],
   "source": [
    "line = \"46800E\"\n",
    "print(os.listdir(os.path.join('century',line)))\n",
    "\n",
    "dc_data_file = f\"./century/{line}/{line[:-1]}POT.OBS\"\n",
    "ip_data_file = f\"./century/{line}/{line[:-1]}IP.OBS\""
   ]
  },
  {
   "cell_type": "code",
   "execution_count": 9,
   "id": "8b89fe63-e074-4ba7-82a4-896cc194d818",
   "metadata": {},
   "outputs": [],
   "source": [
    "def read_dcip_data(filename, verbose=True):\n",
    "    \"\"\"\n",
    "    Read in a .OBS file from the Century data set into a python dictionary. \n",
    "    The format is the old UBC-GIF DCIP format.\n",
    "    \n",
    "    Parameters\n",
    "    ----------\n",
    "    filename : str\n",
    "        Path to the file to be parsed\n",
    "    \n",
    "    verbose: bool\n",
    "        Print some things? \n",
    "    \n",
    "    \n",
    "    Returns\n",
    "    -------\n",
    "    dict\n",
    "        A dictionary with the locations of\n",
    "        - a_locations: the positive source electrode locations (numpy array) \n",
    "        - b_locations: the negative source electrode locations (numpy array) \n",
    "        - m_locations: the receiver locations (list of numpy arrays)\n",
    "        - n_locations: the receiver locations (list of numpy arrays)\n",
    "        - observed_data: observed data (list of numpy arrays)\n",
    "        - standard_deviations: assigned standard deviations (list of numpy arrays)\n",
    "        - n_sources: number of sources (int)\n",
    "    \n",
    "    \"\"\"\n",
    "    \n",
    "    # read in the text file as a numpy array of strings (each row is an entry)\n",
    "    contents = np.genfromtxt(filename, delimiter=' \\n', dtype=str)\n",
    "    \n",
    "    # the second line has the number of sources, current, and data type (voltages if 1)\n",
    "    n_sources = int(contents[1].split()[0])\n",
    "    \n",
    "    if verbose is True: \n",
    "        print(f\"number of sources: {n_sources}\")\n",
    "    \n",
    "    # initialize storage for the electrode locations and data\n",
    "    a_locations = np.zeros(n_sources)\n",
    "    b_locations = np.zeros(n_sources)\n",
    "    m_locations = []\n",
    "    n_locations = []\n",
    "    observed_data = []\n",
    "    standard_deviations = []\n",
    "    \n",
    "    # index to track where we have read in content \n",
    "    content_index = 1 \n",
    "    \n",
    "    # loop over sources \n",
    "    for i in range(n_sources):\n",
    "        # start by reading in the source info \n",
    "        content_index = content_index + 1  # read the next line\n",
    "        a_location, b_location, nrx = contents[content_index].split()  # this is a string\n",
    "        \n",
    "        # convert the strings to a float for locations and an int for the number of receivers\n",
    "        a_locations[i] = float(a_location)\n",
    "        b_locations[i] = float(b_location)\n",
    "        nrx = int(nrx)\n",
    "\n",
    "        if verbose is True: \n",
    "            print(f\"Source {i}: A-loc: {a_location}, B-loc: {b_location}, N receivers: {nrx}\")\n",
    "\n",
    "        # initialize space for receiver locations, observed data associated with this source\n",
    "        m_locations_i, n_locations_i = np.zeros(nrx), np.zeros(nrx)\n",
    "        observed_data_i, standard_deviations_i = np.zeros(nrx), np.zeros(nrx)\n",
    "\n",
    "        # read in the receiver info \n",
    "        for j in range(nrx):\n",
    "            content_index = content_index + 1  # read the next line\n",
    "            m_location, n_location, datum, std = contents[content_index].split()\n",
    "\n",
    "            # convert the locations and data to floats, and store them\n",
    "            m_locations_i[j] = float(m_location)\n",
    "            n_locations_i[j] = float(n_location)\n",
    "            observed_data_i[j] = float(datum)\n",
    "            standard_deviations_i[j] = float(std)\n",
    "\n",
    "        # append the receiver info to the lists\n",
    "        m_locations.append(m_locations_i)\n",
    "        n_locations.append(n_locations_i)\n",
    "        observed_data.append(observed_data_i)\n",
    "        standard_deviations.append(standard_deviations_i)\n",
    "    \n",
    "    return {\n",
    "        \"a_locations\": a_locations,\n",
    "        \"b_locations\": b_locations, \n",
    "        \"m_locations\": m_locations,\n",
    "        \"n_locations\": n_locations,\n",
    "        \"observed_data\": observed_data, \n",
    "        \"standard_deviations\": standard_deviations,\n",
    "        \"n_sources\": n_sources, \n",
    "    }"
   ]
  },
  {
   "cell_type": "markdown",
   "id": "17bb0a1e",
   "metadata": {},
   "source": [
    "# Apparent Resistivity"
   ]
  },
  {
   "cell_type": "code",
   "execution_count": 10,
   "id": "8e475f80-7fa0-441c-a0cf-03987ac82e6a",
   "metadata": {},
   "outputs": [
    {
     "name": "stdout",
     "output_type": "stream",
     "text": [
      "number of sources: 27\n",
      "Source 0: A-loc: 26000.000000, B-loc: 26100.000000, N receivers: 2\n",
      "Source 1: A-loc: 26100.000000, B-loc: 26200.000000, N receivers: 3\n",
      "Source 2: A-loc: 26200.000000, B-loc: 26300.000000, N receivers: 4\n",
      "Source 3: A-loc: 26300.000000, B-loc: 26400.000000, N receivers: 5\n",
      "Source 4: A-loc: 26400.000000, B-loc: 26500.000000, N receivers: 6\n",
      "Source 5: A-loc: 26500.000000, B-loc: 26600.000000, N receivers: 7\n",
      "Source 6: A-loc: 26600.000000, B-loc: 26700.000000, N receivers: 7\n",
      "Source 7: A-loc: 26700.000000, B-loc: 26800.000000, N receivers: 6\n",
      "Source 8: A-loc: 26800.000000, B-loc: 26900.000000, N receivers: 6\n",
      "Source 9: A-loc: 26900.000000, B-loc: 27000.000000, N receivers: 6\n",
      "Source 10: A-loc: 27000.000000, B-loc: 27100.000000, N receivers: 6\n",
      "Source 11: A-loc: 27100.000000, B-loc: 27200.000000, N receivers: 6\n",
      "Source 12: A-loc: 27200.000000, B-loc: 27300.000000, N receivers: 6\n",
      "Source 13: A-loc: 27300.000000, B-loc: 27400.000000, N receivers: 6\n",
      "Source 14: A-loc: 27400.000000, B-loc: 27500.000000, N receivers: 6\n",
      "Source 15: A-loc: 27500.000000, B-loc: 27600.000000, N receivers: 6\n",
      "Source 16: A-loc: 27600.000000, B-loc: 27700.000000, N receivers: 6\n",
      "Source 17: A-loc: 27700.000000, B-loc: 27800.000000, N receivers: 6\n",
      "Source 18: A-loc: 27800.000000, B-loc: 27900.000000, N receivers: 6\n",
      "Source 19: A-loc: 27900.000000, B-loc: 28000.000000, N receivers: 6\n",
      "Source 20: A-loc: 28000.000000, B-loc: 28100.000000, N receivers: 6\n",
      "Source 21: A-loc: 28100.000000, B-loc: 28200.000000, N receivers: 6\n",
      "Source 22: A-loc: 28200.000000, B-loc: 28300.000000, N receivers: 6\n",
      "Source 23: A-loc: 28300.000000, B-loc: 28400.000000, N receivers: 6\n",
      "Source 24: A-loc: 28400.000000, B-loc: 28500.000000, N receivers: 6\n",
      "Source 25: A-loc: 28500.000000, B-loc: 28600.000000, N receivers: 5\n",
      "Source 26: A-loc: 28600.000000, B-loc: 28700.000000, N receivers: 4\n"
     ]
    }
   ],
   "source": [
    "dc_data_dict = read_dcip_data(dc_data_file)"
   ]
  },
  {
   "cell_type": "code",
   "execution_count": 11,
   "id": "4c5ee29f-6e8f-44eb-a486-93807f7c6c9e",
   "metadata": {},
   "outputs": [
    {
     "name": "stdout",
     "output_type": "stream",
     "text": [
      "a_locations         : <class 'numpy.ndarray'>\n",
      "b_locations         : <class 'numpy.ndarray'>\n",
      "m_locations         : <class 'list'>\n",
      "n_locations         : <class 'list'>\n",
      "observed_data       : <class 'list'>\n",
      "standard_deviations : <class 'list'>\n",
      "n_sources           : <class 'int'>\n"
     ]
    }
   ],
   "source": [
    "for key, value in dc_data_dict.items():\n",
    "    print(f\"{key:<20}: {type(value)}\")"
   ]
  },
  {
   "cell_type": "code",
   "execution_count": 12,
   "id": "7bf57a8a-a84a-4641-a6a8-94e7a1618847",
   "metadata": {},
   "outputs": [
    {
     "data": {
      "text/plain": [
       "array([26000., 26100., 26200., 26300., 26400., 26500., 26600., 26700.,\n",
       "       26800., 26900., 27000., 27100., 27200., 27300., 27400., 27500.,\n",
       "       27600., 27700., 27800., 27900., 28000., 28100., 28200., 28300.,\n",
       "       28400., 28500., 28600.])"
      ]
     },
     "execution_count": 12,
     "metadata": {},
     "output_type": "execute_result"
    }
   ],
   "source": [
    "dc_data_dict[\"a_locations\"]"
   ]
  },
  {
   "cell_type": "markdown",
   "id": "b655d604-76de-4700-91cb-cbe27182763d",
   "metadata": {},
   "source": [
    "## Create SimPEG Data and Survey"
   ]
  },
  {
   "cell_type": "code",
   "execution_count": 29,
   "id": "6e73fa13-ea6d-433c-ac4e-d2db9118caf6",
   "metadata": {},
   "outputs": [],
   "source": [
    "import matplotlib.pyplot as plt\n",
    "import ipywidgets\n",
    "\n",
    "from SimPEG import (\n",
    "    Data, maps,\n",
    "    data_misfit, regularization, optimization, inverse_problem, \n",
    "    inversion, directives\n",
    ") \n",
    "from SimPEG.electromagnetics import resistivity as dc\n",
    "from SimPEG.electromagnetics import induced_polarization as ip"
   ]
  },
  {
   "cell_type": "code",
   "execution_count": 14,
   "id": "30961e76-6e37-4a48-9335-a14f12d65090",
   "metadata": {},
   "outputs": [],
   "source": [
    "# initialize an empty list for each \n",
    "source_list = []\n",
    "\n",
    "for i in range(dc_data_dict[\"n_sources\"]):\n",
    "    \n",
    "    # receiver electrode locations in 2D \n",
    "    m_locs = np.vstack([\n",
    "        dc_data_dict[\"m_locations\"][i], \n",
    "        np.zeros_like(dc_data_dict[\"m_locations\"][i])\n",
    "    ]).T\n",
    "    n_locs = np.vstack([\n",
    "        dc_data_dict[\"n_locations\"][i],\n",
    "        np.zeros_like(dc_data_dict[\"n_locations\"][i])\n",
    "    ]).T\n",
    "    \n",
    "    # construct the receiver object \n",
    "    receivers = dc.receivers.Dipole(locations_m=m_locs, locations_n=n_locs)\n",
    "    \n",
    "    # construct the source \n",
    "    source = dc.sources.Dipole(\n",
    "        location_a=np.r_[dc_data_dict[\"a_locations\"][i], 0.],\n",
    "        location_b=np.r_[dc_data_dict[\"b_locations\"][i], 0.],\n",
    "        receiver_list=[receivers]\n",
    "    )\n",
    "    \n",
    "    # append the new source to the source list\n",
    "    source_list.append(source)\n"
   ]
  },
  {
   "cell_type": "code",
   "execution_count": 15,
   "id": "5d2bb202-fccc-4da5-b6b7-54b9795313c3",
   "metadata": {},
   "outputs": [],
   "source": [
    "dc_survey = dc.Survey(source_list=source_list)"
   ]
  },
  {
   "cell_type": "code",
   "execution_count": 16,
   "id": "4c63bae7-8385-4315-9dc4-13d1dcbbe938",
   "metadata": {},
   "outputs": [],
   "source": [
    "dc_data = Data(\n",
    "    survey=dc_survey, \n",
    "    dobs=np.hstack(dc_data_dict[\"observed_data\"]),\n",
    "    standard_deviation=np.hstack(dc_data_dict[\"standard_deviations\"])\n",
    ")"
   ]
  },
  {
   "cell_type": "code",
   "execution_count": 17,
   "id": "b26f0806-3f81-45d9-8669-f99347bfffc7",
   "metadata": {},
   "outputs": [
    {
     "data": {
      "image/png": "[encoded data removed]",
      "text/plain": [
       "<Figure size 1200x400 with 2 Axes>"
      ]
     },
     "metadata": {},
     "output_type": "display_data"
    }
   ],
   "source": [
    "fig, ax = plt.subplots(1, 1, figsize=(12, 4))\n",
    "dc.utils.plot_pseudosection(\n",
    "    dc_data, data_type=\"potential\",\n",
    "    plot_type=\"contourf\", data_locations=True, ax=ax,\n",
    ")\n",
    "ax.set_aspect(1.5)"
   ]
  },
  {
   "cell_type": "markdown",
   "id": "b4330ba9-32dc-44e2-8a41-75d9d59774e7",
   "metadata": {},
   "source": [
    "### Preprocess into apparent resistivity\n",
    "\n",
    "We've loaded measurements data in units of volts above. Now we translate them into apparent resistivity.\n",
    "\n",
    "See [this SimPEG notebook](https://github.com/simpeg/transform-2020-simpeg/blob/main/1-century-dcip-inversion.ipynb) for more details."
   ]
  },
  {
   "cell_type": "code",
   "execution_count": 18,
   "id": "9dc5ee00-d48c-4c70-9dcf-74de2d573879",
   "metadata": {},
   "outputs": [
    {
     "data": {
      "image/png": "[encoded data removed]",
      "text/plain": [
       "<Figure size 1200x400 with 2 Axes>"
      ]
     },
     "metadata": {},
     "output_type": "display_data"
    }
   ],
   "source": [
    "# plot psuedosection\n",
    "fig, ax = plt.subplots(1, 1, figsize=(12, 4))\n",
    "dc.utils.plot_pseudosection(\n",
    "    dc_data, data_type=\"apparent resistivity\", \n",
    "    plot_type=\"contourf\", data_locations=True, ax=ax, cbar_opts={\"pad\":0.25}\n",
    ")\n",
    "ax.set_aspect(1.5)  # some vertical exxageration\n",
    "ax.set_title(f\"DC: {line} Pseudosection\")\n",
    "ax.set_xlabel(\"Northing (m)\");"
   ]
  },
  {
   "cell_type": "code",
   "execution_count": 19,
   "id": "bf34cf6a-b2f2-4727-94ab-04b643f59dea",
   "metadata": {},
   "outputs": [],
   "source": [
    "apparent_resistivity = dc.utils.apparent_resistivity_from_voltage(dc_survey, dc_data.dobs)\n",
    "geometric_factor = dc.utils.geometric_factor(dc_survey)"
   ]
  },
  {
   "cell_type": "code",
   "execution_count": 20,
   "id": "9b1fed78-5c2e-4e3e-804d-489ba8c3af1e",
   "metadata": {},
   "outputs": [
    {
     "data": {
      "image/png": "[encoded data removed]",
      "text/plain": [
       "<Figure size 640x480 with 1 Axes>"
      ]
     },
     "metadata": {},
     "output_type": "display_data"
    }
   ],
   "source": [
    "fig, ax = plt.subplots(1, 1)\n",
    "out = ax.hist(np.log10(apparent_resistivity), bins=30)\n",
    "ax.set_xlabel(\"log$_{10}(\\\\rho_a)$\");"
   ]
  },
  {
   "cell_type": "code",
   "execution_count": 21,
   "id": "3c269fc6-c155-4e56-ab15-5597d4226ada",
   "metadata": {},
   "outputs": [
    {
     "data": {
      "text/plain": [
       "135.90619481429147"
      ]
     },
     "execution_count": 21,
     "metadata": {},
     "output_type": "execute_result"
    }
   ],
   "source": [
    "rho0 = np.median(apparent_resistivity)\n",
    "rho0"
   ]
  },
  {
   "cell_type": "code",
   "execution_count": 22,
   "id": "d22d039b-4889-4aab-8c3a-281d6baa9e3d",
   "metadata": {},
   "outputs": [
    {
     "data": {
      "text/plain": [
       "151"
      ]
     },
     "execution_count": 22,
     "metadata": {},
     "output_type": "execute_result"
    }
   ],
   "source": [
    "len(apparent_resistivity)"
   ]
  },
  {
   "cell_type": "code",
   "execution_count": 23,
   "id": "bdda6f3a-9b1b-4b16-849b-96f0557560f4",
   "metadata": {},
   "outputs": [
    {
     "data": {
      "text/plain": [
       "array([134.05945681, 126.67102145, 108.1971648 , 104.50304114,\n",
       "        99.7534294 ,  95.00211999,  96.32186623,  92.89159212,\n",
       "       197.92347102,  95.00194092])"
      ]
     },
     "execution_count": 23,
     "metadata": {},
     "output_type": "execute_result"
    }
   ],
   "source": [
    "apparent_resistivity[:10]"
   ]
  },
  {
   "cell_type": "markdown",
   "id": "93269414",
   "metadata": {},
   "source": [
    "# Apparent Chargeability"
   ]
  },
  {
   "cell_type": "code",
   "execution_count": 37,
   "id": "fc127645",
   "metadata": {},
   "outputs": [
    {
     "name": "stdout",
     "output_type": "stream",
     "text": [
      "number of sources: 27\n",
      "Source 0: A-loc: 26000, B-loc: 26100, N receivers: 2\n",
      "Source 1: A-loc: 26100, B-loc: 26200, N receivers: 3\n",
      "Source 2: A-loc: 26200, B-loc: 26300, N receivers: 4\n",
      "Source 3: A-loc: 26300, B-loc: 26400, N receivers: 5\n",
      "Source 4: A-loc: 26400, B-loc: 26500, N receivers: 6\n",
      "Source 5: A-loc: 26500, B-loc: 26600, N receivers: 7\n",
      "Source 6: A-loc: 26600, B-loc: 26700, N receivers: 7\n",
      "Source 7: A-loc: 26700, B-loc: 26800, N receivers: 6\n",
      "Source 8: A-loc: 26800, B-loc: 26900, N receivers: 6\n",
      "Source 9: A-loc: 26900, B-loc: 27000, N receivers: 6\n",
      "Source 10: A-loc: 27000, B-loc: 27100, N receivers: 6\n",
      "Source 11: A-loc: 27100, B-loc: 27200, N receivers: 6\n",
      "Source 12: A-loc: 27200, B-loc: 27300, N receivers: 6\n",
      "Source 13: A-loc: 27300, B-loc: 27400, N receivers: 6\n",
      "Source 14: A-loc: 27400, B-loc: 27500, N receivers: 6\n",
      "Source 15: A-loc: 27500, B-loc: 27600, N receivers: 6\n",
      "Source 16: A-loc: 27600, B-loc: 27700, N receivers: 6\n",
      "Source 17: A-loc: 27700, B-loc: 27800, N receivers: 6\n",
      "Source 18: A-loc: 27800, B-loc: 27900, N receivers: 6\n",
      "Source 19: A-loc: 27900, B-loc: 28000, N receivers: 6\n",
      "Source 20: A-loc: 28000, B-loc: 28100, N receivers: 6\n",
      "Source 21: A-loc: 28100, B-loc: 28200, N receivers: 6\n",
      "Source 22: A-loc: 28200, B-loc: 28300, N receivers: 6\n",
      "Source 23: A-loc: 28300, B-loc: 28400, N receivers: 6\n",
      "Source 24: A-loc: 28400, B-loc: 28500, N receivers: 6\n",
      "Source 25: A-loc: 28500, B-loc: 28600, N receivers: 5\n",
      "Source 26: A-loc: 28600, B-loc: 28700, N receivers: 4\n"
     ]
    }
   ],
   "source": [
    "ip_data_dict = read_dcip_data(ip_data_file)"
   ]
  },
  {
   "cell_type": "code",
   "execution_count": 38,
   "id": "c9649865",
   "metadata": {},
   "outputs": [
    {
     "name": "stdout",
     "output_type": "stream",
     "text": [
      "a_locations         : <class 'numpy.ndarray'>\n",
      "b_locations         : <class 'numpy.ndarray'>\n",
      "m_locations         : <class 'list'>\n",
      "n_locations         : <class 'list'>\n",
      "observed_data       : <class 'list'>\n",
      "standard_deviations : <class 'list'>\n",
      "n_sources           : <class 'int'>\n"
     ]
    }
   ],
   "source": [
    "for key, value in ip_data_dict.items():\n",
    "    print(f\"{key:<20}: {type(value)}\")"
   ]
  },
  {
   "cell_type": "code",
   "execution_count": 39,
   "id": "281b8f38",
   "metadata": {},
   "outputs": [
    {
     "data": {
      "text/plain": [
       "array([26000., 26100., 26200., 26300., 26400., 26500., 26600., 26700.,\n",
       "       26800., 26900., 27000., 27100., 27200., 27300., 27400., 27500.,\n",
       "       27600., 27700., 27800., 27900., 28000., 28100., 28200., 28300.,\n",
       "       28400., 28500., 28600.])"
      ]
     },
     "execution_count": 39,
     "metadata": {},
     "output_type": "execute_result"
    }
   ],
   "source": [
    "ip_data_dict[\"a_locations\"]"
   ]
  },
  {
   "cell_type": "code",
   "execution_count": 40,
   "id": "6d4f70f5",
   "metadata": {},
   "outputs": [],
   "source": [
    "# initialize an empty list for each \n",
    "source_list_ip = []\n",
    "\n",
    "for i in range(ip_data_dict[\"n_sources\"]):\n",
    "    \n",
    "    # receiver electrode locations in 2D \n",
    "    m_locs = np.vstack([\n",
    "        ip_data_dict[\"m_locations\"][i], \n",
    "        np.zeros_like(ip_data_dict[\"m_locations\"][i])\n",
    "    ]).T\n",
    "    n_locs = np.vstack([\n",
    "        ip_data_dict[\"n_locations\"][i],\n",
    "        np.zeros_like(ip_data_dict[\"n_locations\"][i])\n",
    "    ]).T\n",
    "    \n",
    "    # construct the receiver object \n",
    "    receivers = ip.receivers.Dipole(\n",
    "        locations_m=m_locs, locations_n=n_locs, data_type=\"apparent_chargeability\"\n",
    "    )\n",
    "    \n",
    "    # construct the source \n",
    "    source = ip.sources.Dipole(\n",
    "        location_a=np.r_[ip_data_dict[\"a_locations\"][i], 0.],\n",
    "        location_b=np.r_[ip_data_dict[\"b_locations\"][i], 0.],\n",
    "        receiver_list=[receivers]\n",
    "    )\n",
    "    \n",
    "    # append the new source to the source list\n",
    "    source_list_ip.append(source)"
   ]
  },
  {
   "cell_type": "code",
   "execution_count": 41,
   "id": "b650c021",
   "metadata": {},
   "outputs": [],
   "source": [
    "survey_ip = ip.Survey(source_list_ip)"
   ]
  },
  {
   "cell_type": "code",
   "execution_count": 42,
   "id": "686164f8",
   "metadata": {},
   "outputs": [],
   "source": [
    "ip_data = Data(\n",
    "    survey=dc_survey, \n",
    "    dobs=np.hstack(ip_data_dict[\"observed_data\"]), \n",
    "    standard_deviation=np.hstack(ip_data_dict[\"standard_deviations\"])\n",
    ")"
   ]
  },
  {
   "cell_type": "code",
   "execution_count": 43,
   "id": "7b374393",
   "metadata": {},
   "outputs": [
    {
     "data": {
      "image/png": "[encoded data removed]",
      "text/plain": [
       "<Figure size 1200x400 with 2 Axes>"
      ]
     },
     "metadata": {},
     "output_type": "display_data"
    }
   ],
   "source": [
    "fig, ax = plt.subplots(1, 1, figsize=(12, 4))\n",
    "dc.utils.plot_pseudosection(\n",
    "    ip_data, data_type=\"potential\",\n",
    "    plot_type=\"contourf\", data_locations=True, ax=ax,\n",
    ")\n",
    "ax.set_aspect(1.5)"
   ]
  },
  {
   "cell_type": "code",
   "execution_count": 47,
   "id": "ce1b9e5e",
   "metadata": {},
   "outputs": [
    {
     "data": {
      "text/plain": [
       "151"
      ]
     },
     "execution_count": 47,
     "metadata": {},
     "output_type": "execute_result"
    }
   ],
   "source": [
    "len(ip_data.dobs)"
   ]
  },
  {
   "cell_type": "markdown",
   "id": "b6902a44-8166-4b96-9ce7-6bf3bb6ea3d0",
   "metadata": {},
   "source": [
    "## Write data to file"
   ]
  },
  {
   "cell_type": "code",
   "execution_count": 48,
   "id": "6d0aeb9c-6fbc-45c5-8ef6-0568a1da2de6",
   "metadata": {},
   "outputs": [
    {
     "data": {
      "text/plain": [
       "array([[ 2.60000000e+04,  2.61000000e+04,  2.67000000e+04,\n",
       "         2.68000000e+04,  1.34059457e+02,  4.30000000e+00,\n",
       "        -9.47350852e-06],\n",
       "       [ 2.60000000e+04,  2.61000000e+04,  2.68000000e+04,\n",
       "         2.69000000e+04,  1.26671021e+02,  2.40000000e+00,\n",
       "        -6.31567234e-06],\n",
       "       [ 2.61000000e+04,  2.62000000e+04,  2.67000000e+04,\n",
       "         2.68000000e+04,  1.08197165e+02,  4.30000000e+00,\n",
       "        -1.51576136e-05],\n",
       "       [ 2.61000000e+04,  2.62000000e+04,  2.68000000e+04,\n",
       "         2.69000000e+04,  1.04503041e+02,  2.50000000e+00,\n",
       "        -9.47350852e-06],\n",
       "       [ 2.61000000e+04,  2.62000000e+04,  2.69000000e+04,\n",
       "         2.70000000e+04,  9.97534294e+01,  1.00000000e+00,\n",
       "        -6.31567234e-06]])"
      ]
     },
     "execution_count": 48,
     "metadata": {},
     "output_type": "execute_result"
    }
   ],
   "source": [
    "processed_data = np.zeros((len(apparent_resistivity), 7))\n",
    "processed_data[:,4] = apparent_resistivity\n",
    "processed_data[:,5] = ip_data.dobs\n",
    "processed_data[:,6] = geometric_factor\n",
    "\n",
    "data_idx = 0\n",
    "for i in range(len(dc_data_dict[\"a_locations\"])):\n",
    "    a_loc = dc_data_dict[\"a_locations\"][i]\n",
    "    b_loc = dc_data_dict[\"b_locations\"][i]\n",
    "    m_locs = dc_data_dict[\"m_locations\"][i]\n",
    "    n_locs = dc_data_dict[\"n_locations\"][i]\n",
    "    for j in range(len(m_locs)):\n",
    "        processed_data[data_idx,0] = a_loc\n",
    "        processed_data[data_idx,1] = b_loc\n",
    "        processed_data[data_idx,2] = m_locs[j]\n",
    "        processed_data[data_idx,3] = n_locs[j]\n",
    "        data_idx += 1\n",
    "\n",
    "processed_data[:5]"
   ]
  },
  {
   "cell_type": "code",
   "execution_count": 49,
   "id": "532d1741-b5ba-4661-b25d-27494df1652a",
   "metadata": {},
   "outputs": [],
   "source": [
    "np.savetxt(\n",
    "    \"../century_dc_data.txt\", \n",
    "    processed_data, \n",
    "    header=\"# a_loc, b_loc, m_loc, n_loc, apparent_resistivity, apparent_chargeability, geometric_factor\"\n",
    ")"
   ]
  },
  {
   "cell_type": "markdown",
   "id": "1104bd27-2169-49d6-8b73-20181810eb67",
   "metadata": {},
   "source": [
    "---\n",
    "\n",
    "## Watermark"
   ]
  },
  {
   "cell_type": "code",
   "execution_count": 22,
   "id": "4d53f90c-d612-401e-bf0f-c3b895c448b2",
   "metadata": {},
   "outputs": [
    {
     "data": {
      "text/plain": [
       "'0.17.0'"
      ]
     },
     "execution_count": 22,
     "metadata": {},
     "output_type": "execute_result"
    }
   ],
   "source": [
    "import SimPEG\n",
    "SimPEG.__version__"
   ]
  }
 ],
 "metadata": {
  "kernelspec": {
   "display_name": "Python 3 (ipykernel)",
   "language": "python",
   "name": "python3"
  },
  "language_info": {
   "codemirror_mode": {
    "name": "ipython",
    "version": 3
   },
   "file_extension": ".py",
   "mimetype": "text/x-python",
   "name": "python",
   "nbconvert_exporter": "python",
   "pygments_lexer": "ipython3",
   "version": "3.10.7"
  }
 },
 "nbformat": 4,
 "nbformat_minor": 5
}
