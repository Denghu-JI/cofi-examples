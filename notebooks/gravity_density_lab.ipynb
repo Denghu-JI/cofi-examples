{
 "cells": [
  {
   "cell_type": "markdown",
   "id": "1a72cc1f-410a-403c-b00e-8d66130413ff",
   "metadata": {},
   "source": [
    "# Gravity Density Model - Interactive Lab\n",
    "\n",
    "Adapted from [gravity forward code](https://github.com/inlab-geo/inversion-test-problems/blob/main/GravityForward.ipynb) written in inversion-test-problems"
   ]
  },
  {
   "cell_type": "code",
   "execution_count": 1,
   "id": "137d8a9c-c0e3-4fb1-b522-9c8da05bff89",
   "metadata": {},
   "outputs": [],
   "source": [
    "%%capture\n",
    "%run ./gravity_density.ipynb"
   ]
  },
  {
   "cell_type": "code",
   "execution_count": 2,
   "id": "c90b98c8-945f-405d-b469-acf2bd2e86c7",
   "metadata": {},
   "outputs": [],
   "source": [
    "import json\n",
    "from contextlib import contextmanager\n",
    "from cofi.solvers import solvers_table\n",
    "\n",
    "# clear optional parameters\n",
    "grav_problem.set_initial_model(None)\n",
    "grav_problem.set_regularisation(reg_l1)\n",
    "\n",
    "def adjust_problem(initial_model, regularisation_factor):\n",
    "    grav_problem.set_initial_model(initial_model)\n",
    "    grav_problem.set_regularisation(reg_l1, regularisation_factor)\n",
    "    grav_problem.set_gradient(lambda m: data_misfit_gradient(m) + regularisation_factor*reg_gradient_l1(m))\n",
    "    return grav_problem\n",
    "\n",
    "def adjust_options(solving_method, tool, solver_params):\n",
    "    inv_options = InversionOptions()\n",
    "    inv_options.set_solving_method(solving_method)\n",
    "    inv_options.set_tool(tool)\n",
    "    inv_options.set_params(**solver_params)\n",
    "    return inv_options\n",
    "\n",
    "def plot_from_result(inv_result):\n",
    "    result_model = inv_result.model.reshape(12,12,12)\n",
    "    plt.imshow(result_model[::-1,5,:])\n",
    "    plt.colorbar()\n",
    "\n",
    "tmp_model = np.array(Starting_model1)\n",
    "tmp_model[tmp_model>0] = 10\n",
    "initial_models_table = {\n",
    "    \"Starting_model1\": Starting_model1,\n",
    "    \"Starting_model2\": Starting_model2,\n",
    "    \"Starting_model1(1000->10)\": tmp_model,\n",
    "    \"all zeros\": np.zeros((12**3)),\n",
    "    \"all ones\": np.ones((12**3)),\n",
    "}\n",
    "\n",
    "def inversion(initial_model_id, reg_factor, method, tool, solver_params):\n",
    "    initial_model = initial_models_table[initial_model_id]\n",
    "    grav_problem = adjust_problem(initial_model, reg_factor)\n",
    "    inv_options = adjust_options(method, tool, solver_params)\n",
    "    inv_runner = InversionRunner(grav_problem, inv_options)\n",
    "    result = inv_runner.run()\n",
    "    # plot_from_result(result)\n",
    "    return result\n",
    "\n",
    "# inversion(\"Starting_model1\", 1, \"optimisation\", \"scipy.optimize.least_squares\")"
   ]
  },
  {
   "cell_type": "code",
   "execution_count": 4,
   "id": "8b7167ba-8b1a-4a3f-b096-f6fa56e6424c",
   "metadata": {},
   "outputs": [
    {
     "data": {
      "application/vnd.jupyter.widget-view+json": {
       "model_id": "ac1d3e11a1ce4e628adad617fa793896",
       "version_major": 2,
       "version_minor": 0
      },
      "text/plain": [
       "VBox(children=(ToggleButtons(description='method', options=('optimisation', 'linear least square'), value='opt…"
      ]
     },
     "metadata": {},
     "output_type": "display_data"
    }
   ],
   "source": [
    "from ipywidgets import interactive\n",
    "import ipywidgets as widgets\n",
    "\n",
    "method_widget = widgets.ToggleButtons(options=solvers_table.keys(), description=\"method\")\n",
    "tool_widget = widgets.RadioButtons(options=solvers_table[\"optimisation\"].keys(), description=\"tool\")\n",
    "initial_model_widget = widgets.RadioButtons(options=initial_models_table.keys(), description=\"intial_model\")\n",
    "reg_factor_widget = widgets.FloatLogSlider(base=10,value=0.0001,min=-15,max=1,step=0.2, description=\"reg_factor\")\n",
    "solver_specific_params_widget = widgets.VBox(children=[])\n",
    "run_widget = widgets.Button(description=\"Run Inversion\")\n",
    "\n",
    "def update_params_widgets(tool_solver):\n",
    "    params_children = []\n",
    "    required_in_options = tool_solver.required_in_options\n",
    "    for param in required_in_options:\n",
    "        params_children.append(widgets.Text(value=\"\", placeholder=\"required\", description=param))\n",
    "    optional_in_options = tool_solver.optional_in_options\n",
    "    for param, dft in optional_in_options.items():\n",
    "        params_children.append(widgets.Text(value=str(dft), placeholder=\"optional\", description=param))\n",
    "    solver_specific_params_widget.children = params_children\n",
    "\n",
    "def method_updated(*args):\n",
    "    tool_widget.options = solvers_table[method_widget.value].keys()\n",
    "method_widget.observe(method_updated, 'value')\n",
    "\n",
    "def tool_updated(*args):\n",
    "    tool = tool_widget.value\n",
    "    tool_solver = solvers_table[method_widget.value][tool]\n",
    "    required_in_problem = tool_solver.required_in_problem\n",
    "    initial_model_widget.layout.visibility = \"visible\" if \"initial_model\" in required_in_problem else \"hidden\"\n",
    "    reg_factor_widget.layout.visibility = \"visible\" if \"objective\" in required_in_problem else \"hidden\"\n",
    "    update_params_widgets(tool_solver)\n",
    "tool_widget.observe(tool_updated, 'value')\n",
    "update_params_widgets(solvers_table[\"optimisation\"][\"scipy.optimize.minimize\"])\n",
    "\n",
    "def button_on_click(*args): \n",
    "    method = method_widget.value\n",
    "    tool = tool_widget.value\n",
    "    initial_model_id = initial_model_widget.value\n",
    "    reg_factor = reg_factor_widget.value\n",
    "    solver_params = {}\n",
    "    for widget in solver_specific_params_widget.children:\n",
    "        val = widget.value\n",
    "        if val == \"None\": val = None\n",
    "        elif val == \"True\" or val == \"true\": val = True\n",
    "        elif val == \"False\" or val == \"False\": val = False\n",
    "        elif \"{\" in val and \"}\" in val: val = json.loads(val)\n",
    "        else:\n",
    "            try:\n",
    "                val = float(val)\n",
    "            except:\n",
    "                pass\n",
    "        solver_params[widget.description] = val\n",
    "    with show_loading():\n",
    "        res = inversion(initial_model_id, reg_factor, method, tool, solver_params)\n",
    "        args[0].result = res\n",
    "        args[0].settings = {\"initial_model\":initial_model_id, \"reg_factor\":reg_factor, \n",
    "                            \"method\":method, \"tool\":tool, \"solver_params\":solver_params}\n",
    "run_widget.on_click(button_on_click)\n",
    "\n",
    "label = widgets.Label('Ready')\n",
    "@contextmanager\n",
    "def show_loading():\n",
    "    label.value = 'Running...'\n",
    "    yield\n",
    "    label.value = 'Ready'\n",
    "\n",
    "w = widgets.VBox(children=[method_widget, tool_widget, initial_model_widget, reg_factor_widget,\n",
    "                          solver_specific_params_widget, run_widget, label])\n",
    "display(w)"
   ]
  },
  {
   "cell_type": "code",
   "execution_count": 14,
   "id": "05263544-0834-46fa-8d99-f3b8edf232d5",
   "metadata": {},
   "outputs": [
    {
     "data": {
      "image/png": "[encoded data removed]",
      "text/plain": [
       "<Figure size 432x288 with 2 Axes>"
      ]
     },
     "metadata": {
      "needs_background": "light"
     },
     "output_type": "display_data"
    }
   ],
   "source": [
    "inv_res = run_widget.result\n",
    "plot_from_result(inv_res)"
   ]
  },
  {
   "cell_type": "markdown",
   "id": "6aae31fc-8bbf-4e44-9d38-625d28daf86f",
   "metadata": {},
   "source": [
    "---"
   ]
  }
 ],
 "metadata": {
  "kernelspec": {
   "display_name": "Python 3 (ipykernel)",
   "language": "python",
   "name": "python3"
  },
  "language_info": {
   "codemirror_mode": {
    "name": "ipython",
    "version": 3
   },
   "file_extension": ".py",
   "mimetype": "text/x-python",
   "name": "python",
   "nbconvert_exporter": "python",
   "pygments_lexer": "ipython3",
   "version": "3.9.12"
  }
 },
 "nbformat": 4,
 "nbformat_minor": 5
}
