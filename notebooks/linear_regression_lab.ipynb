{
 "cells": [
  {
   "cell_type": "markdown",
   "id": "92199065-061b-4f14-b753-2ca0f6d2b002",
   "metadata": {},
   "source": [
    "# Polynomial Linear Regression - Interactive Lab\n",
    "\n",
    "Following the linear regression example described in [linear_regression.ipynb](linear_regression.ipynb), here let's relax and play around!"
   ]
  },
  {
   "cell_type": "markdown",
   "id": "806aa27e-0b81-44cf-9c99-153beeca681a",
   "metadata": {},
   "source": [
    "---\n",
    "### Import modules and get prepared\n",
    "\n",
    "Still, some steps are necessary in preparation for the coming interactive lab."
   ]
  },
  {
   "cell_type": "code",
   "execution_count": 1,
   "id": "1524cfba-1da7-4aef-acc4-afb4c86f53dd",
   "metadata": {},
   "outputs": [],
   "source": [
    "######## Import required modules\n",
    "import numpy as np\n",
    "import matplotlib.pyplot as plt\n",
    "from cofi import BaseProblem, InversionOptions, InversionRunner\n",
    "from cofi.solvers import solvers_table\n",
    "\n",
    "######## Set random seed (to ensure consistent results in different runs)\n",
    "np.random.seed(42)\n",
    "\n",
    "######## Define the polynomial linear regression problem\n",
    "_basis_func = lambda x: np.array([x**i for i in range(4)]).T\n",
    "_m_true = np.array([-6,-5,2,1])                                            # m\n",
    "_sample_size = 20                                                          # N\n",
    "x = np.random.choice(np.linspace(-3.5,2.5), size=_sample_size)             # x\n",
    "forward_func = lambda m: (np.array([x**i for i in range(4)]).T) @ m        # m -> y_synthetic\n",
    "y_observed = forward_func(_m_true) + np.random.normal(0,1,_sample_size)    # d\n",
    "\n",
    "inv_problem = BaseProblem()\n",
    "inv_problem.name = \"Polynomial Regression\"\n",
    "inv_problem.set_dataset(x, y_observed)\n",
    "inv_problem.set_forward(forward_func)\n",
    "inv_problem.set_jacobian(_basis_func(x))\n",
    "\n",
    "######## Review the basic/fixed problem setup\n",
    "# inv_problem.summary()"
   ]
  },
  {
   "cell_type": "code",
   "execution_count": 2,
   "id": "5728cdce-4409-4854-b56f-d1c55b7a1ec3",
   "metadata": {},
   "outputs": [],
   "source": [
    "def adjust_problem(initial_model, data_misfit, regularisation, regularisation_factor):\n",
    "    inv_problem.set_initial_model(initial_model)\n",
    "    inv_problem.set_data_misfit(data_misfit)\n",
    "    inv_problem.set_regularisation(regularisation, regularisation_factor)\n",
    "    return inv_problem\n",
    "    \n",
    "def adjust_options(solving_method, tool, **kwargs):\n",
    "    inv_options = InversionOptions()\n",
    "    inv_options.set_solving_method(solving_method)\n",
    "    inv_options.set_tool(tool)\n",
    "    inv_options.set_params(**kwargs)\n",
    "    return inv_options\n",
    "\n",
    "def plot_from_model(model):\n",
    "    _x_plot = np.linspace(-3.5, 2.5)\n",
    "    _G_plot = _basis_func(_x_plot)\n",
    "    _y_plot_true = _G_plot @ _m_true\n",
    "    _y_plot_synth = _G_plot @ model\n",
    "    plt.figure(figsize=(12,8))\n",
    "    plt.plot(_x_plot, _y_plot_true, color=\"darkorange\", label=\"true model\")\n",
    "    plt.plot(_x_plot, _y_plot_synth, color=\"seagreen\", label=\"inversion result\")\n",
    "    plt.scatter(x, y_observed, color=\"lightcoral\", label=\"original data\")\n",
    "    plt.title(\"Polynomial linear regression: comparison between true model, dataset & inversion result\")\n",
    "    plt.xlabel(\"X\")\n",
    "    plt.ylabel(\"Y\")\n",
    "    plt.legend()\n",
    "\n",
    "def inversion(m0, m1, m2, m3, data_misfit, reg, reg_factor, method, tool, verbose):\n",
    "    initial_model = np.array([m0, m1, m2, m3])\n",
    "    inv_problem = adjust_problem(initial_model, data_misfit, reg, reg_factor)\n",
    "    inv_options = adjust_options(method, tool)\n",
    "    inv_options.set_params(verbose=verbose)\n",
    "    inv_runner = InversionRunner(inv_problem, inv_options)\n",
    "    result = inv_runner.run()\n",
    "    # result.summary()\n",
    "    plot_from_model(result.model)\n",
    "    return result\n",
    "    \n",
    "# inversion(1, 1, 1, 1, \"L2\", \"L2\", 0.05, \"optimisation\", \"scipy.optimize.minimize\")"
   ]
  },
  {
   "cell_type": "markdown",
   "id": "5e436b08-044a-4716-8e4f-21b988b2af10",
   "metadata": {},
   "source": [
    "---\n",
    "### Start the lab"
   ]
  },
  {
   "cell_type": "code",
   "execution_count": 3,
   "id": "d73a4516-6ce2-4bd0-a544-7dea35357b28",
   "metadata": {},
   "outputs": [
    {
     "data": {
      "application/vnd.jupyter.widget-view+json": {
       "model_id": "35d51fea21ca4a8f9c431cd9d88a16b8",
       "version_major": 2,
       "version_minor": 0
      },
      "text/plain": [
       "interactive(children=(FloatSlider(value=0.0, description='m0', max=10.0, min=-10.0), FloatSlider(value=0.0, de…"
      ]
     },
     "metadata": {},
     "output_type": "display_data"
    }
   ],
   "source": [
    "from ipywidgets import interact, interactive, fixed, interact_manual\n",
    "import ipywidgets as widgets\n",
    "\n",
    "m0_widget = widgets.FloatSlider(min=-10,max=10)\n",
    "m1_widget = widgets.FloatSlider(min=-10,max=10)\n",
    "m2_widget = widgets.FloatSlider(min=-10,max=10)\n",
    "m3_widget = widgets.FloatSlider(min=-10,max=10)\n",
    "reg_widget = widgets.Dropdown(value=\"L2\",options=[\"L0\",\"L1\",\"L2\"])\n",
    "reg_factor_widget = widgets.FloatLogSlider(base=10,value=0.08,min=-5,max=1,step=0.2)\n",
    "method_widget = widgets.ToggleButtons(options=[\"optimisation\", \"linear least square\"])\n",
    "tool_widget = widgets.RadioButtons(options=[\"scipy.optimize.minimize\", \"scipy.optimize.least_squares\"])\n",
    "verbose_widget = widgets.IntSlider(value=0,min=0,max=2,layout={\"visibility\":\"hidden\"})\n",
    "\n",
    "def method_updated(*args):\n",
    "    tool_widget.options = solvers_table[method_widget.value].keys()\n",
    "method_widget.observe(method_updated, 'value')\n",
    "\n",
    "def tool_updated(*args):\n",
    "    if tool_widget.value == \"scipy.linalg.lstsq\":\n",
    "        m0_widget.layout.visibility = \"hidden\"\n",
    "        m1_widget.layout.visibility = \"hidden\"\n",
    "        m2_widget.layout.visibility = \"hidden\"\n",
    "        m3_widget.layout.visibility = \"hidden\"\n",
    "        reg_widget.layout.visibility = \"hidden\"\n",
    "        reg_factor_widget.layout.visibility = \"hidden\"\n",
    "    else:\n",
    "        m0_widget.layout.visibility = \"visible\"\n",
    "        m1_widget.layout.visibility = \"visible\"\n",
    "        m2_widget.layout.visibility = \"visible\"\n",
    "        m3_widget.layout.visibility = \"visible\"\n",
    "        reg_widget.layout.visibility = \"visible\"\n",
    "        reg_factor_widget.layout.visibility = \"visible\"\n",
    "    if tool_widget.value == \"scipy.optimize.least_squares\":\n",
    "        verbose_widget.layout.visibility = \"visible\"\n",
    "    else:\n",
    "        verbose_widget.layout.visibility = \"hidden\"\n",
    "tool_widget.observe(tool_updated, 'value')\n",
    "        \n",
    "w = interactive(inversion, {'manual': True, 'manual_name': \"Run Inversion\"},\n",
    "                m0=m0_widget, m1=m1_widget, m2=m2_widget, m3=m3_widget,\n",
    "                data_misfit=[\"L2\"], reg=reg_widget, reg_factor=reg_factor_widget,\n",
    "                method=method_widget, tool=tool_widget, verbose=verbose_widget)\n",
    "display(w)"
   ]
  },
  {
   "cell_type": "code",
   "execution_count": 68,
   "id": "e6dea0f3-aad4-4450-a84c-c2498e2e20ed",
   "metadata": {},
   "outputs": [
    {
     "name": "stdout",
     "output_type": "stream",
     "text": [
      "Summary for inversion result\n",
      "============================\n",
      "SUCCESS\n",
      "----------------------------\n",
      "fun: 0.7594892249388809\n",
      "jac: [-8.94069672e-08 -7.45058060e-08  5.96046448e-07 -2.63750553e-06]\n",
      "hess_inv: [[ 42.84977763  21.45055019 -19.67071293  -6.9177068 ]\n",
      " [ 21.45055019  20.22885918 -10.94922363  -4.69094406]\n",
      " [-19.67071293 -10.94922363  11.29497569   4.0061848 ]\n",
      " [ -6.9177068   -4.69094406   4.0061848    1.56500359]]\n",
      "nfev: 120\n",
      "njev: 24\n",
      "status: 0\n",
      "message: Optimization terminated successfully.\n",
      "nit: 20\n",
      "model: [-3.95450497 -4.08782542  0.98028576  0.65621771]\n"
     ]
    }
   ],
   "source": [
    "inv_result = w.result\n",
    "inv_result.summary()"
   ]
  },
  {
   "cell_type": "markdown",
   "id": "fe670f5e-4965-4ac5-a51d-01fbcfd470d8",
   "metadata": {},
   "source": [
    "---"
   ]
  }
 ],
 "metadata": {
  "kernelspec": {
   "display_name": "Python 3 (ipykernel)",
   "language": "python",
   "name": "python3"
  },
  "language_info": {
   "codemirror_mode": {
    "name": "ipython",
    "version": 3
   },
   "file_extension": ".py",
   "mimetype": "text/x-python",
   "name": "python",
   "nbconvert_exporter": "python",
   "pygments_lexer": "ipython3",
   "version": "3.9.12"
  }
 },
 "nbformat": 4,
 "nbformat_minor": 5
}
