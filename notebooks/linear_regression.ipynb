{
 "cells": [
  {
   "cell_type": "markdown",
   "metadata": {},
   "source": [
    "# Polynomial Linear Regression\n",
    "\n",
    "To get started, we look at a simple linear regression example with `cofi`.\n",
    "\n",
    "We have a set of noisy data values, Y, measured at known locations, X, and wish to find the best fit degree 3 polynomial.\n",
    "\n",
    "## Table of contents\n",
    "- [Introduction](#introduction)\n",
    "- Step 0 - [Import modules](#import)\n",
    "- Step 1 - [Define the problem](#problem)\n",
    "- Step 2 - [Define the inversion options](#options)\n",
    "- Step 3 - [Run the inversion](#inversion)\n",
    "- Step 4 - [Check out the result](#result)\n",
    "- Summary - [a clean version of code above](#review)\n",
    "- Next -   [switching to a different inversion approach](#switch)\n",
    "\n",
    "\n",
    "## Introduction <a name=\"introduction\"></a>\n",
    "In the workflow of `cofi`, there are three main \n",
    "components: `BaseProblem`, `InversionOptions`, and `InversionRunner`.\n",
    "\n",
    "- `BaseProblem` defines three things: 1) the forward problem; 2) the inversion parameter (model) space; and 3) the objective function to be optimised\n",
    "- `InversionOptions` describes details about how one wants to run the inversion, including the\n",
    "  inversion approach, backend tool and solver-specific parameters.\n",
    "- `InversionRunner` can be seen as an inversion engine that takes in the above two as information,\n",
    "  and will produce an `InversionResult` upon running.\n",
    "  \n",
    "For each of the above components, there's a `summary()` method to check the current status.\n",
    "  \n",
    "So a common workflow includes 4 steps:\n",
    "1. define `BaseProblem`. This can be done:\n",
    "    - either: through a series of set functions\n",
    "      ```\n",
    "      inv_problem = BaseProblem()\n",
    "      inv_problem.set_objective(some_function_here)\n",
    "      inv_problem.set_initial_model(a_starting_point)\n",
    "      ```\n",
    "    - or: by subclassing `BaseProblem`\n",
    "      ```\n",
    "      class MyOwnProblem(BaseProblem):\n",
    "          def __init__(self, initial_model, whatever_I_want_to_pass_in):\n",
    "              self.initial_model = initial_model\n",
    "              self.whatever_I_want_to_pass_in = whatever_I_want_to_pass_in\n",
    "          def objective(self, model):\n",
    "              return some_objective_function_value\n",
    "      ```\n",
    "  \n",
    "2. define `InversionOptions`. Some useful methods include:\n",
    "    - `set_solving_method()` and `suggest_tools()`. Once you've set a solving method (from \"least squares\"\n",
    "      and \"optimisation\", more will be supported), you can use `suggest_tools()` to see a list of backend tools\n",
    "      to choose from.\n",
    "      \n",
    "3. start an `InversionRunner`. This step is common:\n",
    "   ```\n",
    "   inv_runner = InversionRunner(inv_problem, inv_options)\n",
    "   result = inv_runner.run()\n",
    "   ```\n",
    "   \n",
    "4. analyse the result, workflow and redo your experiments with different `InversionOptions`"
   ]
  },
  {
   "cell_type": "markdown",
   "metadata": {},
   "source": [
    "---\n",
    "## 0. Import modules <a name=\"import\"></a>"
   ]
  },
  {
   "cell_type": "code",
   "execution_count": 1,
   "metadata": {},
   "outputs": [],
   "source": [
    "import numpy as np\n",
    "import matplotlib.pyplot as plt\n",
    "\n",
    "from cofi import BaseProblem, InversionOptions, InversionRunner\n",
    "\n",
    "np.random.seed(42)"
   ]
  },
  {
   "cell_type": "markdown",
   "metadata": {},
   "source": [
    "---\n",
    "## 1. Define the problem <a name=\"problem\"></a>\n",
    "\n",
    "A list of functions/properties that can be set to `BaseProblem` so far:\n",
    "- `set_objective()`\n",
    "- `set_gradient()`\n",
    "- `set_hessian()`\n",
    "- `set_hessian_times_vector()`\n",
    "- `set_residual()`\n",
    "- `set_jacobian()`\n",
    "- `set_jacobian_times_vector()`\n",
    "- `set_data_misfit()`\n",
    "- `set_regularisation()`\n",
    "- `set_dataset()`\n",
    "- `set_dataset_from_file()`\n",
    "- `set_initial_model()`\n",
    "- `set_model_shape()`\n",
    "- `set_bounds`\n",
    "- `set_constraints`\n",
    "- `name` (only useful when displaying this problem, no functional use)\n",
    "\n",
    "Other useful functions:\n",
    "- `defined_components()` (review what have been set)\n",
    "- `summary()` (better displayed information)\n",
    "- `suggest_solvers()` (not implemented yet)"
   ]
  },
  {
   "cell_type": "code",
   "execution_count": 2,
   "metadata": {},
   "outputs": [
    {
     "data": {
      "image/png": "[encoded data removed]",
      "text/plain": [
       "<Figure size 864x576 with 1 Axes>"
      ]
     },
     "metadata": {
      "needs_background": "light"
     },
     "output_type": "display_data"
    }
   ],
   "source": [
    "# generate data with random Gaussian noise\n",
    "basis_func = lambda x: np.array([x**i for i in range(4)]).T               # x -> G\n",
    "_m_true = np.array([-6,-5,2,1])                                           # m\n",
    "\n",
    "sample_size = 20                                                          # N\n",
    "x = np.random.choice(np.linspace(-3.5,2.5), size=sample_size)             # x\n",
    "forward_func = lambda m: basis_func(x) @ m                                # m -> y_synthetic\n",
    "y_observed = forward_func(_m_true) + np.random.normal(0,1,sample_size)    # d\n",
    "\n",
    "############## PLOTTING ###############################################################\n",
    "_x_plot = np.linspace(-3.5,2.5)\n",
    "_G_plot = basis_func(_x_plot)\n",
    "_y_plot = _G_plot @ _m_true\n",
    "plt.figure(figsize=(12,8))\n",
    "plt.plot(_x_plot, _y_plot, color=\"darkorange\", label=\"true model\")\n",
    "plt.scatter(x, y_observed, color=\"lightcoral\", label=\"observed data\")\n",
    "plt.xlabel(\"X\")\n",
    "plt.ylabel(\"Y\")\n",
    "_=plt.legend()"
   ]
  },
  {
   "cell_type": "code",
   "execution_count": 3,
   "metadata": {},
   "outputs": [
    {
     "name": "stdout",
     "output_type": "stream",
     "text": [
      "Summary for inversion problem: Polynomial Regression\n",
      "=====================================================================\n",
      "Model shape: Unknown\n",
      "---------------------------------------------------------------------\n",
      "List of functions/properties set by you:\n",
      "['jacobian', 'forward', 'dataset']\n",
      "---------------------------------------------------------------------\n",
      "List of functions/properties created based on what you have provided:\n",
      "['residual', 'jacobian_times_vector']\n",
      "---------------------------------------------------------------------\n",
      "List of functions/properties not set by you\n",
      "['objective', 'gradient', 'hessian', 'hessian_times_vector', 'residual', 'jacobian_times_vector', 'data_misfit', 'regularisation', 'initial_model', 'model_shape', 'bounds', 'constraints']\n"
     ]
    }
   ],
   "source": [
    "# define the problem\n",
    "inv_problem = BaseProblem()\n",
    "inv_problem.name = \"Polynomial Regression\"\n",
    "inv_problem.set_dataset(x, y_observed)\n",
    "inv_problem.set_forward(forward_func)\n",
    "inv_problem.set_jacobian(basis_func(x))\n",
    "\n",
    "inv_problem.summary()"
   ]
  },
  {
   "cell_type": "markdown",
   "metadata": {},
   "source": [
    "---\n",
    "## 2. Define the inversion options <a name=\"options\"></a>"
   ]
  },
  {
   "cell_type": "code",
   "execution_count": 4,
   "metadata": {},
   "outputs": [
    {
     "name": "stdout",
     "output_type": "stream",
     "text": [
      "Summary for inversion options\n",
      "=============================\n",
      "Solving method: None set\n",
      "Use `suggest_solving_methods()` to check available solving methods.\n",
      "-----------------------------\n",
      "Backend tool: scipy.optimize.minimize (by default)\n",
      "Backend tool description: SciPy's optimisers that minimises a scalar function with respect to one or more variables, check SciPy's documentation page for a list of methods\n",
      "Backend tool documentation: https://docs.scipy.org/doc/scipy/reference/generated/scipy.optimize.minimize.html\n",
      "Use `suggest_tools()` to check available backend tools.\n",
      "-----------------------------\n",
      "Solver-specific parameters: None set\n",
      "Use `suggest_solver_params()` to check required/optional solver-specific parameters.\n"
     ]
    }
   ],
   "source": [
    "inv_options = InversionOptions()\n",
    "inv_options.summary()"
   ]
  },
  {
   "cell_type": "code",
   "execution_count": 5,
   "metadata": {},
   "outputs": [
    {
     "name": "stdout",
     "output_type": "stream",
     "text": [
      "Here's a complete list of inversion solvers supported by CoFI (grouped by methods):\n",
      "{\n",
      "    \"optimisation\": [\n",
      "        \"scipy.optimize.minimize\",\n",
      "        \"scipy.optimize.least_squares\"\n",
      "    ],\n",
      "    \"linear least square\": [\n",
      "        \"scipy.linalg.lstsq\"\n",
      "    ]\n",
      "}\n"
     ]
    }
   ],
   "source": [
    "inv_options.suggest_tools()"
   ]
  },
  {
   "cell_type": "code",
   "execution_count": 6,
   "metadata": {},
   "outputs": [
    {
     "name": "stdout",
     "output_type": "stream",
     "text": [
      "Summary for inversion options\n",
      "=============================\n",
      "Solving method: linear least square\n",
      "Use `suggest_solving_methods()` to check available solving methods.\n",
      "-----------------------------\n",
      "Backend tool: scipy.linalg.lstsq (by default)\n",
      "Backend tool description: SciPy's wrapper function over LAPACK's linear least-squares solver, using 'gelsd', 'gelsy' (default), or 'gelss' as backend driver\n",
      "Backend tool documentation: https://docs.scipy.org/doc/scipy/reference/generated/scipy.linalg.lstsq.html\n",
      "Use `suggest_tools()` to check available backend tools.\n",
      "-----------------------------\n",
      "Solver-specific parameters: None set\n",
      "Use `suggest_solver_params()` to check required/optional solver-specific parameters.\n"
     ]
    }
   ],
   "source": [
    "inv_options.set_solving_method(\"linear least square\")\n",
    "inv_options.summary()"
   ]
  },
  {
   "cell_type": "markdown",
   "metadata": {},
   "source": [
    "---\n",
    "\n",
    "As the \"summary\" suggested, you've set the solving method, so you can skip the step of\n",
    "setting a backend tool because there's a default one.\n",
    "\n",
    "If there are more backend tool options, then use the following function to see available\n",
    "options and set your desired backend solver."
   ]
  },
  {
   "cell_type": "code",
   "execution_count": 7,
   "metadata": {},
   "outputs": [
    {
     "name": "stdout",
     "output_type": "stream",
     "text": [
      "Based on the solving method you've set, the following tools are suggested:\n",
      "['scipy.linalg.lstsq']\n",
      "\n",
      "Use `InversionOptions.set_tool(tool_name)` to set a specific tool from above\n",
      "Use `InversionOptions.set_solving_method(method_name)` to change solving method\n",
      "Use `InversionOptions.unset_solving_method()` if you'd like to see more options\n",
      "Check CoFI documentation 'Advanced Usage' section for how to plug in your own solver\n"
     ]
    }
   ],
   "source": [
    "inv_options.suggest_tools()"
   ]
  },
  {
   "cell_type": "code",
   "execution_count": 8,
   "metadata": {},
   "outputs": [
    {
     "name": "stdout",
     "output_type": "stream",
     "text": [
      "Summary for inversion options\n",
      "=============================\n",
      "Solving method: linear least square\n",
      "Use `suggest_solving_methods()` to check available solving methods.\n",
      "-----------------------------\n",
      "Backend tool: scipy.linalg.lstsq\n",
      "Backend tool description: SciPy's wrapper function over LAPACK's linear least-squares solver, using 'gelsd', 'gelsy' (default), or 'gelss' as backend driver\n",
      "Backend tool documentation: https://docs.scipy.org/doc/scipy/reference/generated/scipy.linalg.lstsq.html\n",
      "Use `suggest_tools()` to check available backend tools.\n",
      "-----------------------------\n",
      "Solver-specific parameters: None set\n",
      "Use `suggest_solver_params()` to check required/optional solver-specific parameters.\n"
     ]
    }
   ],
   "source": [
    "inv_options.set_tool(\"scipy.linalg.lstsq\")\n",
    "inv_options.summary()"
   ]
  },
  {
   "cell_type": "markdown",
   "metadata": {},
   "source": [
    "---\n",
    "## 3. Start an inversion <a name=\"inversion\"></a>"
   ]
  },
  {
   "cell_type": "code",
   "execution_count": 9,
   "metadata": {},
   "outputs": [
    {
     "name": "stdout",
     "output_type": "stream",
     "text": [
      "Summary for inversion runner\n",
      "=======================================\n",
      "Inversion hasn't started, try `runner.run()` to see result\n",
      "---------------------------------------\n",
      "With inversion solver defined as below:\n",
      "\n",
      "Summary for inversion options\n",
      "Solving method: linear least square\n",
      "Use `suggest_solving_methods()` to check available solving methods.\n",
      "Backend tool: scipy.linalg.lstsq\n",
      "Backend tool description: SciPy's wrapper function over LAPACK's linear least-squares solver, using 'gelsd', 'gelsy' (default), or 'gelss' as backend driver\n",
      "Backend tool documentation: https://docs.scipy.org/doc/scipy/reference/generated/scipy.linalg.lstsq.html\n",
      "Use `suggest_tools()` to check available backend tools.\n",
      "Solver-specific parameters: None set\n",
      "Use `suggest_solver_params()` to check required/optional solver-specific parameters.\n",
      "---------------------------------------\n",
      "For inversion problem defined as below:\n",
      "\n",
      "Summary for inversion problem: Polynomial Regression\n",
      "Model shape: Unknown\n",
      "List of functions/properties set by you:\n",
      "['jacobian', 'forward', 'dataset']\n",
      "List of functions/properties created based on what you have provided:\n",
      "['residual', 'jacobian_times_vector']\n",
      "List of functions/properties not set by you\n",
      "['objective', 'gradient', 'hessian', 'hessian_times_vector', 'residual', 'jacobian_times_vector', 'data_misfit', 'regularisation', 'initial_model', 'model_shape', 'bounds', 'constraints']\n"
     ]
    }
   ],
   "source": [
    "inv_runner = InversionRunner(inv_problem, inv_options)\n",
    "inv_runner.summary()"
   ]
  },
  {
   "cell_type": "code",
   "execution_count": 10,
   "metadata": {},
   "outputs": [
    {
     "data": {
      "text/plain": [
       "True"
      ]
     },
     "execution_count": 10,
     "metadata": {},
     "output_type": "execute_result"
    }
   ],
   "source": [
    "inv_result = inv_runner.run()\n",
    "inv_result.success"
   ]
  },
  {
   "cell_type": "code",
   "execution_count": 11,
   "metadata": {},
   "outputs": [
    {
     "name": "stdout",
     "output_type": "stream",
     "text": [
      "Summary for inversion result\n",
      "============================\n",
      "SUCCESS\n",
      "----------------------------\n",
      "model: [-5.71964359 -5.10903808  1.82553662  0.97472374]\n",
      "sum of squared residuals: 14.961507878871263\n",
      "effective rank: 4\n",
      "singular values: [61.36381472  8.31821387  4.03376312  1.96325721]\n"
     ]
    }
   ],
   "source": [
    "inv_result.summary()"
   ]
  },
  {
   "cell_type": "markdown",
   "metadata": {},
   "source": [
    "---\n",
    "## 4. Check back your problem setting, inversion setting & result <a name=\"result\"></a>"
   ]
  },
  {
   "cell_type": "code",
   "execution_count": 12,
   "metadata": {},
   "outputs": [
    {
     "name": "stdout",
     "output_type": "stream",
     "text": [
      "Summary for inversion runner\n",
      "=======================================\n",
      "Trained with the following result:\n",
      "\n",
      "Summary for inversion result\n",
      "SUCCESS\n",
      "model: [-5.71964359 -5.10903808  1.82553662  0.97472374]\n",
      "sum of squared residuals: 14.961507878871263\n",
      "effective rank: 4\n",
      "singular values: [61.36381472  8.31821387  4.03376312  1.96325721]\n",
      "---------------------------------------\n",
      "With inversion solver defined as below:\n",
      "\n",
      "Summary for inversion options\n",
      "Solving method: linear least square\n",
      "Use `suggest_solving_methods()` to check available solving methods.\n",
      "Backend tool: scipy.linalg.lstsq\n",
      "Backend tool description: SciPy's wrapper function over LAPACK's linear least-squares solver, using 'gelsd', 'gelsy' (default), or 'gelss' as backend driver\n",
      "Backend tool documentation: https://docs.scipy.org/doc/scipy/reference/generated/scipy.linalg.lstsq.html\n",
      "Use `suggest_tools()` to check available backend tools.\n",
      "Solver-specific parameters: None set\n",
      "Use `suggest_solver_params()` to check required/optional solver-specific parameters.\n",
      "---------------------------------------\n",
      "For inversion problem defined as below:\n",
      "\n",
      "Summary for inversion problem: Polynomial Regression\n",
      "Model shape: Unknown\n",
      "List of functions/properties set by you:\n",
      "['jacobian', 'forward', 'dataset']\n",
      "List of functions/properties created based on what you have provided:\n",
      "['residual', 'jacobian_times_vector']\n",
      "List of functions/properties not set by you\n",
      "['objective', 'gradient', 'hessian', 'hessian_times_vector', 'residual', 'jacobian_times_vector', 'data_misfit', 'regularisation', 'initial_model', 'model_shape', 'bounds', 'constraints']\n"
     ]
    }
   ],
   "source": [
    "inv_runner.summary()"
   ]
  },
  {
   "cell_type": "code",
   "execution_count": 13,
   "metadata": {},
   "outputs": [
    {
     "data": {
      "image/png": "[encoded data removed]",
      "text/plain": [
       "<Figure size 864x576 with 1 Axes>"
      ]
     },
     "metadata": {
      "needs_background": "light"
     },
     "output_type": "display_data"
    }
   ],
   "source": [
    "y_synthetic = inv_problem.forward(inv_result.model)\n",
    "\n",
    "############## PLOTTING ###############################################################\n",
    "_x_plot = np.linspace(-3.5,2.5)\n",
    "_G_plot = basis_func(_x_plot)\n",
    "_y_plot = _G_plot @ _m_true\n",
    "_y_synth = _G_plot @ inv_result.model\n",
    "plt.figure(figsize=(12,8))\n",
    "plt.plot(_x_plot, _y_plot, color=\"darkorange\", label=\"true model\")\n",
    "plt.plot(_x_plot, _y_synth, color=\"seagreen\", label=\"least squares solution\")\n",
    "plt.scatter(x, y_observed, color=\"lightcoral\", label=\"original data\")\n",
    "plt.xlabel(\"X\")\n",
    "plt.ylabel(\"Y\")\n",
    "_=plt.legend()"
   ]
  },
  {
   "cell_type": "markdown",
   "metadata": {},
   "source": [
    "Here we see the least squares solver (green curve) fits all of the data well and is a close approximation of the true curve (orange)."
   ]
  },
  {
   "cell_type": "markdown",
   "metadata": {},
   "source": [
    "---\n",
    "## 5. Summary: a cleaner version of the above example <a name=\"review\"></a>\n",
    "\n",
    "For review purpose, here are the minimal set of commands we've used to produce the above result:"
   ]
  },
  {
   "cell_type": "code",
   "execution_count": 14,
   "metadata": {},
   "outputs": [
    {
     "name": "stdout",
     "output_type": "stream",
     "text": [
      "The inversion result from `scipy.linalg.lstsq`: [-5.71964359 -5.10903808  1.82553662  0.97472374]\n",
      "\n",
      "Summary for inversion result\n",
      "============================\n",
      "SUCCESS\n",
      "----------------------------\n",
      "model: [-5.71964359 -5.10903808  1.82553662  0.97472374]\n",
      "sum of squared residuals: 14.961507878871263\n",
      "effective rank: 4\n",
      "singular values: [61.36381472  8.31821387  4.03376312  1.96325721]\n"
     ]
    }
   ],
   "source": [
    "######## Import and set random seed\n",
    "import numpy as np\n",
    "from cofi import BaseProblem, InversionOptions, InversionRunner\n",
    "\n",
    "np.random.seed(42)\n",
    "\n",
    "######## Write code for your forward problem\n",
    "_m_true = np.array([-6,-5,2,1])                                            # m\n",
    "_sample_size = 20                                                          # N\n",
    "x = np.random.choice(np.linspace(-3.5,2.5), size=_sample_size)             # x\n",
    "forward_func = lambda m: (np.array([x**i for i in range(4)]).T) @ m        # m -> y_synthetic\n",
    "y_observed = forward_func(_m_true) + np.random.normal(0,1,_sample_size)    # d\n",
    "\n",
    "######## Attach above information to a `BaseProblem`\n",
    "inv_problem = BaseProblem()\n",
    "inv_problem.name = \"Polynomial Regression\"\n",
    "inv_problem.set_dataset(x, y_observed)\n",
    "inv_problem.set_forward(forward_func)\n",
    "inv_problem.set_jacobian(basis_func(x))\n",
    "\n",
    "######## Specify how you'd like the inversion to run (via an `InversionOptions`)\n",
    "inv_options = InversionOptions()\n",
    "inv_options.set_tool(\"scipy.linalg.lstsq\")\n",
    "\n",
    "######## Pass `BaseProblem` and `InversionOptions` into `InversionRunner` and run\n",
    "inv_runner = InversionRunner(inv_problem, inv_options)\n",
    "inv_result = inv_runner.run()\n",
    "\n",
    "######## Now check out the result\n",
    "print(f\"The inversion result from `scipy.linalg.lstsq`: {inv_result.model}\\n\")\n",
    "inv_result.summary()"
   ]
  },
  {
   "cell_type": "markdown",
   "metadata": {},
   "source": [
    "---\n",
    "## 6. Switching to a different inversion approach <a name=\"switching\"></a>\n",
    "Alternatively, you can switch to a different inversion solver easily. Here we use a plain optimizer \n",
    "`scipy.optimize.minimize` to demonstrate this ability.\n",
    "\n",
    "For this backend solver to run successfully, some additional information should be provided, otherwise\n",
    "we will raise an error to notify what additional information is required by the solver.\n",
    "\n",
    "There are different ways of defining information -\n",
    "Here in the code below, after we make clear how to calculate the data misfit and regularisation, the \n",
    "objective function is generated for you based on the forward function and dataset. Alternatively, you \n",
    "can pass in an objective function directly using `inv_problem.set_objective(your_objective_func)`"
   ]
  },
  {
   "cell_type": "code",
   "execution_count": 15,
   "metadata": {},
   "outputs": [
    {
     "name": "stdout",
     "output_type": "stream",
     "text": [
      "The inversion result from `scipy.optimize.minimize`: [-5.71964267 -5.10903753  1.82553603  0.97472352]\n",
      "\n",
      "Summary for inversion result\n",
      "============================\n",
      "SUCCESS\n",
      "----------------------------\n",
      "fun: 0.19340054213263716\n",
      "jac: [ 1.67638063e-08 -2.79396772e-08  9.31322575e-08 -2.98023224e-07]\n",
      "hess_inv: [[15.11587128  4.63868196 -6.398192   -1.99933676]\n",
      " [ 4.63868196  6.76140321 -2.59043553 -1.41139273]\n",
      " [-6.398192   -2.59043553  4.03449042  1.3279463 ]\n",
      " [-1.99933676 -1.41139273  1.3279463   0.52725994]]\n",
      "nfev: 140\n",
      "njev: 28\n",
      "status: 0\n",
      "message: Optimization terminated successfully.\n",
      "nit: 24\n",
      "model: [-5.71964267 -5.10903753  1.82553603  0.97472352]\n"
     ]
    }
   ],
   "source": [
    "######## Provide additional information\n",
    "inv_problem.set_initial_model(np.ones(4))\n",
    "inv_problem.set_data_misfit(\"L2\")\n",
    "inv_problem.set_regularisation(\"L2\", 0)\n",
    "\n",
    "######## Set a different tool\n",
    "inv_options_2 = InversionOptions()\n",
    "inv_options_2.set_tool(\"scipy.optimize.minimize\")\n",
    "\n",
    "######## Run it\n",
    "inv_runner_2 = InversionRunner(inv_problem, inv_options_2)\n",
    "inv_result_2 = inv_runner_2.run()\n",
    "\n",
    "######## Check result\n",
    "print(f\"The inversion result from `scipy.optimize.minimize`: {inv_result_2.model}\\n\")\n",
    "inv_result_2.summary()"
   ]
  },
  {
   "cell_type": "code",
   "execution_count": 16,
   "metadata": {},
   "outputs": [
    {
     "data": {
      "image/png": "[encoded data removed]",
      "text/plain": [
       "<Figure size 864x576 with 1 Axes>"
      ]
     },
     "metadata": {
      "needs_background": "light"
     },
     "output_type": "display_data"
    }
   ],
   "source": [
    "######## Plot all together\n",
    "_x_plot = np.linspace(-3.5,2.5)\n",
    "_G_plot = basis_func(_x_plot)\n",
    "_y_plot = _G_plot @ _m_true\n",
    "_y_synth_2 = _G_plot @ inv_result_2.model\n",
    "plt.figure(figsize=(12,8))\n",
    "plt.plot(_x_plot, _y_plot, color=\"darkorange\", label=\"true model\")\n",
    "plt.plot(_x_plot, _y_synth, color=\"seagreen\", label=\"least squares solution\")\n",
    "plt.plot(_x_plot, _y_synth_2, color=\"cornflowerblue\", label=\"optimisation solution\")\n",
    "plt.scatter(x, y_observed, color=\"lightcoral\", label=\"original data\")\n",
    "plt.xlabel(\"X\")\n",
    "plt.ylabel(\"Y\")\n",
    "_=plt.legend()"
   ]
  },
  {
   "cell_type": "markdown",
   "metadata": {},
   "source": [
    "Here we see the  (blue curve) is also a relatively good approximation of the true curve (orange)."
   ]
  },
  {
   "cell_type": "markdown",
   "metadata": {},
   "source": [
    "---"
   ]
  }
 ],
 "metadata": {
  "interpreter": {
   "hash": "82521f8c6d46dbe13b9e99c6a95164e7b000b3cca9173433679abe48ca711ce5"
  },
  "kernelspec": {
   "display_name": "Python 3 (ipykernel)",
   "language": "python",
   "name": "python3"
  },
  "language_info": {
   "codemirror_mode": {
    "name": "ipython",
    "version": 3
   },
   "file_extension": ".py",
   "mimetype": "text/x-python",
   "name": "python",
   "nbconvert_exporter": "python",
   "pygments_lexer": "ipython3",
   "version": "3.9.12"
  }
 },
 "nbformat": 4,
 "nbformat_minor": 4
}
