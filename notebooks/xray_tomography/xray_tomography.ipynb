{
 "cells": [
  {
   "cell_type": "markdown",
   "id": "25e146d8",
   "metadata": {
    "papermill": {
     "duration": 0.003799,
     "end_time": "2022-09-14T03:07:57.222491",
     "exception": false,
     "start_time": "2022-09-14T03:07:57.218692",
     "status": "completed"
    },
    "tags": []
   },
   "source": [
    "# Xray Tomography\n"
   ]
  },
  {
   "cell_type": "markdown",
   "id": "8fd1f050",
   "metadata": {
    "papermill": {
     "duration": 0.039165,
     "end_time": "2022-09-14T03:07:57.298021",
     "exception": false,
     "start_time": "2022-09-14T03:07:57.258856",
     "status": "completed"
    },
    "tags": []
   },
   "source": [
    "Linear travel time tomography based on x-ray tracers. \n",
    "In this notebook, we use `cofi` to run a linear system solver for this problem."
   ]
  },
  {
   "cell_type": "markdown",
   "id": "511f0c49",
   "metadata": {
    "papermill": {
     "duration": 0.002211,
     "end_time": "2022-09-14T03:07:57.302559",
     "exception": false,
     "start_time": "2022-09-14T03:07:57.300348",
     "status": "completed"
    },
    "tags": []
   },
   "source": [
    "{{ badge }}"
   ]
  },
  {
   "cell_type": "markdown",
   "id": "a0e17e58",
   "metadata": {
    "papermill": {
     "duration": 0.002248,
     "end_time": "2022-09-14T03:07:57.307024",
     "exception": false,
     "start_time": "2022-09-14T03:07:57.304776",
     "status": "completed"
    },
    "tags": []
   },
   "source": [
    "<!-- Again, please don't touch the markdown cell above. We'll generate badge \n",
    "     automatically from the above cell. -->\n",
    "\n",
    "<!-- This cell describes things related to environment setup, so please add more text \n",
    "     if something special (not listed below) is needed to run this notebook -->\n",
    "\n",
    "> If you are running this notebook locally, make sure you've followed [steps here](https://github.com/inlab-geo/cofi-examples#run-the-examples-with-cofi-locally)\n",
    "to set up the environment. (This [environment.yml](https://github.com/inlab-geo/cofi-examples/blob/main/envs/environment.yml) file\n",
    "specifies a list of packages required to run the notebooks)"
   ]
  },
  {
   "cell_type": "markdown",
   "id": "e231b034",
   "metadata": {
    "papermill": {
     "duration": 0.002197,
     "end_time": "2022-09-14T03:07:57.311469",
     "exception": false,
     "start_time": "2022-09-14T03:07:57.309272",
     "status": "completed"
    },
    "tags": []
   },
   "source": [
    "## 0. Import modules"
   ]
  },
  {
   "cell_type": "code",
   "execution_count": 1,
   "id": "44f335e1",
   "metadata": {
    "execution": {
     "iopub.execute_input": "2022-09-14T03:07:57.316750Z",
     "iopub.status.busy": "2022-09-14T03:07:57.316537Z",
     "iopub.status.idle": "2022-09-14T03:07:57.319024Z",
     "shell.execute_reply": "2022-09-14T03:07:57.318704Z"
    },
    "papermill": {
     "duration": 0.006157,
     "end_time": "2022-09-14T03:07:57.319833",
     "exception": false,
     "start_time": "2022-09-14T03:07:57.313676",
     "status": "completed"
    },
    "tags": []
   },
   "outputs": [],
   "source": [
    "# -------------------------------------------------------- #\n",
    "#                                                          #\n",
    "#     Uncomment below to set up environment on \"colab\"     #\n",
    "#                                                          #\n",
    "# -------------------------------------------------------- #\n",
    "\n",
    "# !pip install -U cofi\n",
    "# !pip install -U cofi-espresso"
   ]
  },
  {
   "cell_type": "code",
   "execution_count": 2,
   "id": "54bc910e",
   "metadata": {
    "execution": {
     "iopub.execute_input": "2022-09-14T03:07:57.324983Z",
     "iopub.status.busy": "2022-09-14T03:07:57.324726Z",
     "iopub.status.idle": "2022-09-14T03:07:58.058151Z",
     "shell.execute_reply": "2022-09-14T03:07:58.057716Z"
    },
    "papermill": {
     "duration": 0.737426,
     "end_time": "2022-09-14T03:07:58.059503",
     "exception": false,
     "start_time": "2022-09-14T03:07:57.322077",
     "status": "completed"
    },
    "tags": []
   },
   "outputs": [],
   "source": [
    "import numpy as np\n",
    "import matplotlib.pyplot as plt\n",
    "\n",
    "from cofi import BaseProblem, InversionOptions, Inversion\n",
    "\n",
    "np.random.seed(42)"
   ]
  },
  {
   "cell_type": "markdown",
   "id": "6210bbd2",
   "metadata": {
    "papermill": {
     "duration": 0.019885,
     "end_time": "2022-09-14T03:07:58.083133",
     "exception": false,
     "start_time": "2022-09-14T03:07:58.063248",
     "status": "completed"
    },
    "tags": []
   },
   "source": [
    "## 1. Define the problem"
   ]
  },
  {
   "cell_type": "code",
   "execution_count": 3,
   "id": "8673617c",
   "metadata": {
    "execution": {
     "iopub.execute_input": "2022-09-14T03:07:58.088765Z",
     "iopub.status.busy": "2022-09-14T03:07:58.088444Z",
     "iopub.status.idle": "2022-09-14T03:07:58.189761Z",
     "shell.execute_reply": "2022-09-14T03:07:58.189350Z"
    },
    "papermill": {
     "duration": 0.105812,
     "end_time": "2022-09-14T03:07:58.191170",
     "exception": false,
     "start_time": "2022-09-14T03:07:58.085358",
     "status": "completed"
    },
    "tags": []
   },
   "outputs": [],
   "source": [
    "xrt = XrayTomography()"
   ]
  },
  {
   "cell_type": "code",
   "execution_count": 4,
   "id": "fdbbee81",
   "metadata": {
    "execution": {
     "iopub.execute_input": "2022-09-14T03:07:58.197233Z",
     "iopub.status.busy": "2022-09-14T03:07:58.197003Z",
     "iopub.status.idle": "2022-09-14T03:07:58.714038Z",
     "shell.execute_reply": "2022-09-14T03:07:58.713568Z"
    },
    "papermill": {
     "duration": 0.520979,
     "end_time": "2022-09-14T03:07:58.714898",
     "exception": false,
     "start_time": "2022-09-14T03:07:58.193919",
     "status": "completed"
    },
    "tags": []
   },
   "outputs": [
    {
     "name": "stderr",
     "output_type": "stream",
     "text": [
      "\r",
      "Evaluating paths:   0%|                                                                                                                                                                                                 | 0/3969 [00:00<?, ?it/s]"
     ]
    },
    {
     "name": "stderr",
     "output_type": "stream",
     "text": [
      "\r",
      "Evaluating paths:  18%|████████████████████████████████▎                                                                                                                                                    | 708/3969 [00:00<00:00, 7078.88it/s]"
     ]
    },
    {
     "name": "stderr",
     "output_type": "stream",
     "text": [
      "\r",
      "Evaluating paths:  38%|████████████████████████████████████████████████████████████████████▊                                                                                                               | 1518/3969 [00:00<00:00, 7671.82it/s]"
     ]
    },
    {
     "name": "stderr",
     "output_type": "stream",
     "text": [
      "\r",
      "Evaluating paths:  58%|███████████████████████████████████████████████████████████████████████████████████████████████████████▊                                                                            | 2289/3969 [00:00<00:00, 7685.51it/s]"
     ]
    },
    {
     "name": "stderr",
     "output_type": "stream",
     "text": [
      "\r",
      "Evaluating paths:  77%|██████████████████████████████████████████████████████████████████████████████████████████████████████████████████████████████████████████▉                                         | 3064/3969 [00:00<00:00, 7707.85it/s]"
     ]
    },
    {
     "name": "stderr",
     "output_type": "stream",
     "text": [
      "\r",
      "Evaluating paths:  98%|████████████████████████████████████████████████████████████████████████████████████████████████████████████████████████████████████████████████████████████████████████████████▍   | 3891/3969 [00:00<00:00, 7908.49it/s]"
     ]
    },
    {
     "name": "stderr",
     "output_type": "stream",
     "text": [
      "\r",
      "Evaluating paths: 100%|████████████████████████████████████████████████████████████████████████████████████████████████████████████████████████████████████████████████████████████████████████████████████| 3969/3969 [00:00<00:00, 7784.61it/s]"
     ]
    },
    {
     "name": "stderr",
     "output_type": "stream",
     "text": [
      "\n"
     ]
    }
   ],
   "source": [
    "xrt_problem = BaseProblem()\n",
    "xrt_problem.set_data(xrt.data)\n",
    "xrt_problem.set_jacobian(xrt.jacobian(xrt.starting_model))"
   ]
  },
  {
   "cell_type": "code",
   "execution_count": 5,
   "id": "88104d1d",
   "metadata": {
    "execution": {
     "iopub.execute_input": "2022-09-14T03:07:58.722498Z",
     "iopub.status.busy": "2022-09-14T03:07:58.722293Z",
     "iopub.status.idle": "2022-09-14T03:07:58.754686Z",
     "shell.execute_reply": "2022-09-14T03:07:58.754266Z"
    },
    "papermill": {
     "duration": 0.03665,
     "end_time": "2022-09-14T03:07:58.755646",
     "exception": false,
     "start_time": "2022-09-14T03:07:58.718996",
     "status": "completed"
    },
    "tags": []
   },
   "outputs": [],
   "source": [
    "sigma = 0.01\n",
    "lamda = 0.5\n",
    "data_cov = np.identity(xrt.data_size) * sigma\n",
    "reg_matrix = np.identity(xrt.model_size)"
   ]
  },
  {
   "cell_type": "code",
   "execution_count": 6,
   "id": "333e598c",
   "metadata": {
    "execution": {
     "iopub.execute_input": "2022-09-14T03:07:58.780427Z",
     "iopub.status.busy": "2022-09-14T03:07:58.780206Z",
     "iopub.status.idle": "2022-09-14T03:07:58.782649Z",
     "shell.execute_reply": "2022-09-14T03:07:58.782293Z"
    },
    "papermill": {
     "duration": 0.024989,
     "end_time": "2022-09-14T03:07:58.783466",
     "exception": false,
     "start_time": "2022-09-14T03:07:58.758477",
     "status": "completed"
    },
    "tags": []
   },
   "outputs": [],
   "source": [
    "xrt_problem.set_data_covariance(data_cov)\n",
    "xrt_problem.set_regularization(2, lamda, reg_matrix)"
   ]
  },
  {
   "cell_type": "markdown",
   "id": "1412dd10",
   "metadata": {
    "papermill": {
     "duration": 0.002682,
     "end_time": "2022-09-14T03:07:58.788890",
     "exception": false,
     "start_time": "2022-09-14T03:07:58.786208",
     "status": "completed"
    },
    "tags": []
   },
   "source": [
    "Review what information is included in the `BaseProblem` object:"
   ]
  },
  {
   "cell_type": "code",
   "execution_count": 7,
   "id": "156b4476",
   "metadata": {
    "execution": {
     "iopub.execute_input": "2022-09-14T03:07:58.795190Z",
     "iopub.status.busy": "2022-09-14T03:07:58.794882Z",
     "iopub.status.idle": "2022-09-14T03:07:58.797466Z",
     "shell.execute_reply": "2022-09-14T03:07:58.797114Z"
    },
    "papermill": {
     "duration": 0.006682,
     "end_time": "2022-09-14T03:07:58.798296",
     "exception": false,
     "start_time": "2022-09-14T03:07:58.791614",
     "status": "completed"
    },
    "tags": []
   },
   "outputs": [
    {
     "name": "stdout",
     "output_type": "stream",
     "text": [
      "=====================================================================\n",
      "Summary for inversion problem: BaseProblem\n",
      "=====================================================================\n",
      "Model shape: Unknown\n",
      "---------------------------------------------------------------------\n",
      "List of functions/properties set by you:\n",
      "['jacobian', 'regularization', 'regularization_matrix', 'regularization_factor', 'data', 'data_covariance']\n",
      "---------------------------------------------------------------------\n",
      "List of functions/properties created based on what you have provided:\n",
      "['jacobian_times_vector']\n",
      "---------------------------------------------------------------------\n",
      "List of functions/properties not set by you:\n",
      "['objective', 'log_posterior', 'log_posterior_with_blobs', 'log_likelihood', 'log_prior', 'gradient', 'hessian', 'hessian_times_vector', 'residual', 'jacobian_times_vector', 'data_misfit', 'forward', 'data_covariance_inv', 'initial_model', 'model_shape', 'walkers_starting_pos', 'blobs_dtype', 'bounds', 'constraints']\n"
     ]
    }
   ],
   "source": [
    "xrt_problem.summary()"
   ]
  },
  {
   "cell_type": "markdown",
   "id": "40ec4ef2",
   "metadata": {
    "papermill": {
     "duration": 0.002729,
     "end_time": "2022-09-14T03:07:58.803837",
     "exception": false,
     "start_time": "2022-09-14T03:07:58.801108",
     "status": "completed"
    },
    "tags": []
   },
   "source": [
    "## 2. Define the inversion options"
   ]
  },
  {
   "cell_type": "code",
   "execution_count": 8,
   "id": "3c5a4b83",
   "metadata": {
    "execution": {
     "iopub.execute_input": "2022-09-14T03:07:58.823386Z",
     "iopub.status.busy": "2022-09-14T03:07:58.823186Z",
     "iopub.status.idle": "2022-09-14T03:07:58.825399Z",
     "shell.execute_reply": "2022-09-14T03:07:58.825059Z"
    },
    "papermill": {
     "duration": 0.019576,
     "end_time": "2022-09-14T03:07:58.826214",
     "exception": false,
     "start_time": "2022-09-14T03:07:58.806638",
     "status": "completed"
    },
    "tags": []
   },
   "outputs": [],
   "source": [
    "my_options = InversionOptions()\n",
    "my_options.set_tool(\"scipy.linalg.lstsq\")"
   ]
  },
  {
   "cell_type": "markdown",
   "id": "9465a4c8",
   "metadata": {
    "papermill": {
     "duration": 0.002814,
     "end_time": "2022-09-14T03:07:58.832101",
     "exception": false,
     "start_time": "2022-09-14T03:07:58.829287",
     "status": "completed"
    },
    "tags": []
   },
   "source": [
    "Review what's been defined for the inversion we are about to run:"
   ]
  },
  {
   "cell_type": "code",
   "execution_count": 9,
   "id": "9cfaa06d",
   "metadata": {
    "execution": {
     "iopub.execute_input": "2022-09-14T03:07:58.838430Z",
     "iopub.status.busy": "2022-09-14T03:07:58.838133Z",
     "iopub.status.idle": "2022-09-14T03:07:58.840454Z",
     "shell.execute_reply": "2022-09-14T03:07:58.840105Z"
    },
    "papermill": {
     "duration": 0.006326,
     "end_time": "2022-09-14T03:07:58.841276",
     "exception": false,
     "start_time": "2022-09-14T03:07:58.834950",
     "status": "completed"
    },
    "tags": []
   },
   "outputs": [
    {
     "name": "stdout",
     "output_type": "stream",
     "text": [
      "=============================\n",
      "Summary for inversion options\n",
      "=============================\n",
      "Solving method: None set\n",
      "Use `suggest_solving_methods()` to check available solving methods.\n",
      "-----------------------------\n",
      "Backend tool: `scipy.linalg.lstsq` - SciPy's wrapper function over LAPACK's linear least-squares solver, using 'gelsd', 'gelsy' (default), or 'gelss' as backend driver\n",
      "References: ['https://docs.scipy.org/doc/scipy/reference/generated/scipy.linalg.lstsq.html', 'https://www.netlib.org/lapack/lug/node27.html']\n",
      "Use `suggest_tools()` to check available backend tools.\n",
      "-----------------------------\n",
      "Solver-specific parameters: None set\n",
      "Use `suggest_solver_params()` to check required/optional solver-specific parameters.\n"
     ]
    }
   ],
   "source": [
    "my_options.summary()"
   ]
  },
  {
   "cell_type": "markdown",
   "id": "53109202",
   "metadata": {
    "papermill": {
     "duration": 0.002924,
     "end_time": "2022-09-14T03:07:58.847100",
     "exception": false,
     "start_time": "2022-09-14T03:07:58.844176",
     "status": "completed"
    },
    "tags": []
   },
   "source": [
    "## 3. Start an inversion"
   ]
  },
  {
   "cell_type": "code",
   "execution_count": 10,
   "id": "c280c300",
   "metadata": {
    "execution": {
     "iopub.execute_input": "2022-09-14T03:07:58.853448Z",
     "iopub.status.busy": "2022-09-14T03:07:58.853227Z",
     "iopub.status.idle": "2022-09-14T03:08:01.541418Z",
     "shell.execute_reply": "2022-09-14T03:08:01.540555Z"
    },
    "papermill": {
     "duration": 2.693572,
     "end_time": "2022-09-14T03:08:01.543522",
     "exception": false,
     "start_time": "2022-09-14T03:07:58.849950",
     "status": "completed"
    },
    "tags": []
   },
   "outputs": [
    {
     "name": "stdout",
     "output_type": "stream",
     "text": [
      "============================\n",
      "Summary for inversion result\n",
      "============================\n",
      "SUCCESS\n",
      "----------------------------\n",
      "model: [1.07869497 0.95684863 0.87860421 ... 0.90880894 0.97794447 1.04965095]\n",
      "sum of squared residuals: []\n",
      "effective rank: 2500\n",
      "singular values: [150.34541473  84.27705835  63.11086086 ...   0.50477741   0.50383334\n",
      "   0.50353536]\n",
      "model covariance: [[ 4.00248936e-01 -1.15738546e-01 -1.54996966e-02 ... -1.19202437e-03\n",
      "   1.51862605e-03 -8.07392363e-04]\n",
      " [-1.15738546e-01  9.04501691e-01 -3.32309762e-01 ...  3.04861931e-03\n",
      "  -3.38090444e-03  1.51862605e-03]\n",
      " [-1.54996966e-02 -3.32309762e-01  6.96939238e-01 ... -2.92528444e-03\n",
      "   3.04861931e-03 -1.19202437e-03]\n",
      " ...\n",
      " [-1.19202437e-03  3.04861931e-03 -2.92528444e-03 ...  6.96939238e-01\n",
      "  -3.32309762e-01 -1.54996966e-02]\n",
      " [ 1.51862605e-03 -3.38090444e-03  3.04861931e-03 ... -3.32309762e-01\n",
      "   9.04501691e-01 -1.15738546e-01]\n",
      " [-8.07392363e-04  1.51862605e-03 -1.19202437e-03 ... -1.54996966e-02\n",
      "  -1.15738546e-01  4.00248936e-01]]\n"
     ]
    }
   ],
   "source": [
    "inv = Inversion(xrt_problem, my_options)\n",
    "inv_result = inv.run()\n",
    "inv_result.summary()"
   ]
  },
  {
   "cell_type": "markdown",
   "id": "b1409c69",
   "metadata": {
    "papermill": {
     "duration": 0.051271,
     "end_time": "2022-09-14T03:08:01.601858",
     "exception": false,
     "start_time": "2022-09-14T03:08:01.550587",
     "status": "completed"
    },
    "tags": []
   },
   "source": [
    "## 4. Plotting"
   ]
  },
  {
   "cell_type": "code",
   "execution_count": 11,
   "id": "550a6217",
   "metadata": {
    "execution": {
     "iopub.execute_input": "2022-09-14T03:08:01.663955Z",
     "iopub.status.busy": "2022-09-14T03:08:01.663679Z",
     "iopub.status.idle": "2022-09-14T03:08:01.772545Z",
     "shell.execute_reply": "2022-09-14T03:08:01.772137Z"
    },
    "papermill": {
     "duration": 0.146608,
     "end_time": "2022-09-14T03:08:01.773950",
     "exception": false,
     "start_time": "2022-09-14T03:08:01.627342",
     "status": "completed"
    },
    "tags": []
   },
   "outputs": [
    {
     "data": {
      "image/png": "[encoded data removed]",
      "text/plain": [
       "<Figure size 640x480 with 2 Axes>"
      ]
     },
     "metadata": {},
     "output_type": "display_data"
    }
   ],
   "source": [
    "xrt.plot_model(inv_result.model);"
   ]
  },
  {
   "cell_type": "markdown",
   "id": "8a6c93b9",
   "metadata": {
    "papermill": {
     "duration": 0.018207,
     "end_time": "2022-09-14T03:08:01.797982",
     "exception": false,
     "start_time": "2022-09-14T03:08:01.779775",
     "status": "completed"
    },
    "tags": []
   },
   "source": [
    "## 5. Reflections / Conclusion / Further reading"
   ]
  },
  {
   "cell_type": "markdown",
   "id": "9ad2a2d2",
   "metadata": {
    "papermill": {
     "duration": 0.005231,
     "end_time": "2022-09-14T03:08:01.808473",
     "exception": false,
     "start_time": "2022-09-14T03:08:01.803242",
     "status": "completed"
    },
    "tags": []
   },
   "source": [
    "We can see that..."
   ]
  },
  {
   "cell_type": "markdown",
   "id": "9c6d1e8b",
   "metadata": {
    "papermill": {
     "duration": 0.00791,
     "end_time": "2022-09-14T03:08:01.824660",
     "exception": false,
     "start_time": "2022-09-14T03:08:01.816750",
     "status": "completed"
    },
    "tags": []
   },
   "source": [
    "---\n",
    "## Watermark\n",
    "\n",
    "<!-- Feel free to add more modules in the watermark_list below, if more packages are used -->\n",
    "<!-- Otherwise please leave the below code cell unchanged -->"
   ]
  },
  {
   "cell_type": "code",
   "execution_count": 12,
   "id": "c1f9646e",
   "metadata": {
    "execution": {
     "iopub.execute_input": "2022-09-14T03:08:01.866734Z",
     "iopub.status.busy": "2022-09-14T03:08:01.866489Z",
     "iopub.status.idle": "2022-09-14T03:08:02.114145Z",
     "shell.execute_reply": "2022-09-14T03:08:02.113715Z"
    },
    "papermill": {
     "duration": 0.274771,
     "end_time": "2022-09-14T03:08:02.115079",
     "exception": false,
     "start_time": "2022-09-14T03:08:01.840308",
     "status": "completed"
    },
    "tags": []
   },
   "outputs": [
    {
     "name": "stdout",
     "output_type": "stream",
     "text": [
      "cofi 0.1.2.dev9\n",
      "numpy 1.21.6\n",
      "scipy 1.9.1\n",
      "matplotlib 3.5.3\n",
      "emcee 3.1.2\n"
     ]
    },
    {
     "name": "stdout",
     "output_type": "stream",
     "text": [
      "arviz 0.12.1\n"
     ]
    }
   ],
   "source": [
    "watermark_list = [\"cofi\", \"numpy\", \"scipy\", \"matplotlib\", \"emcee\", \"arviz\"]\n",
    "for pkg in watermark_list:\n",
    "    pkg_var = __import__(pkg)\n",
    "    print(pkg, getattr(pkg_var, \"__version__\"))"
   ]
  }
 ],
 "metadata": {
  "kernelspec": {
   "display_name": "Python 3 (ipykernel)",
   "language": "python",
   "name": "python3"
  },
  "language_info": {
   "codemirror_mode": {
    "name": "ipython",
    "version": 3
   },
   "file_extension": ".py",
   "mimetype": "text/x-python",
   "name": "python",
   "nbconvert_exporter": "python",
   "pygments_lexer": "ipython3",
   "version": "3.10.6"
  },
  "papermill": {
   "default_parameters": {},
   "duration": 6.017513,
   "end_time": "2022-09-14T03:08:02.434062",
   "environment_variables": {},
   "exception": null,
   "input_path": "/home/jiawen/cofi/docs/cofi-examples/notebooks/xray_tomography/xray_tomography.ipynb",
   "output_path": "/home/jiawen/cofi/docs/cofi-examples/notebooks/xray_tomography/xray_tomography.ipynb",
   "parameters": {},
   "start_time": "2022-09-14T03:07:56.416549",
   "version": "2.4.0"
  },
  "vscode": {
   "interpreter": {
    "hash": "f53af8d4cb0cee79f8d6d6212f461365278bf68c0ce0b4237b6e88ef77d505ea"
   }
  }
 },
 "nbformat": 4,
 "nbformat_minor": 5
}
