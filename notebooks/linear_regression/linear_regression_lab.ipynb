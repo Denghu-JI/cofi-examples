{
 "cells": [
  {
   "cell_type": "markdown",
   "id": "92199065-061b-4f14-b753-2ca0f6d2b002",
   "metadata": {},
   "source": [
    "# Polynomial Linear Regression - Interactive Lab"
   ]
  },
  {
   "cell_type": "markdown",
   "id": "c042ac8b-4781-41e2-8c24-42e9eb480bae",
   "metadata": {},
   "source": [
    "<!--<badge>--><a href=\"https://colab.research.google.com/github/inlab-geo/cofi-examples/blob/main/notebooks/linear_regression/linear_regression_lab.ipynb\" target=\"_parent\"><img src=\"https://colab.research.google.com/assets/colab-badge.svg\" alt=\"Open In Colab\"/></a><!--</badge>-->"
   ]
  },
  {
   "cell_type": "markdown",
   "id": "1a158811-c50d-43bb-8a55-d6a05e393372",
   "metadata": {},
   "source": [
    "> If you are running this notebook locally, make sure you've followed [steps here](https://github.com/inlab-geo/cofi-examples#run-the-examples-with-cofi-locally)\n",
    "to set up the environment. (This [environment.yml](https://github.com/inlab-geo/cofi-examples/blob/main/environment.yml) file\n",
    "specifies a list of packages required to run the notebooks)"
   ]
  },
  {
   "cell_type": "markdown",
   "id": "39987941-b079-4c07-a6bb-8f3410af9e31",
   "metadata": {},
   "source": [
    "Following the linear regression example described in [linear_regression.ipynb](linear_regression.ipynb), here let's relax and play around!\n",
    "\n",
    "In this notebook, we repeat the exactly same problem setup as in [linear_regression.ipynb](linear_regression.ipynb),\n",
    "but use widgets (instead of pure coding) to demonstrate how you can switch between different inversion approaches."
   ]
  },
  {
   "cell_type": "markdown",
   "id": "806aa27e-0b81-44cf-9c99-153beeca681a",
   "metadata": {},
   "source": [
    "---\n",
    "### Import modules and get prepared\n",
    "\n",
    "Still, some steps are necessary in preparation for the coming interactive lab."
   ]
  },
  {
   "cell_type": "code",
   "execution_count": 1,
   "id": "0f27b4aa-f2ab-4933-9fae-9a8888c8db10",
   "metadata": {},
   "outputs": [],
   "source": [
    "# -------------------------------------------------------- #\n",
    "#                                                          #\n",
    "#     Uncomment below to set up environment on \"colab\"     #\n",
    "#                                                          #\n",
    "# -------------------------------------------------------- #\n",
    "\n",
    "# !pip install -U cofi"
   ]
  },
  {
   "cell_type": "code",
   "execution_count": 2,
   "id": "1524cfba-1da7-4aef-acc4-afb4c86f53dd",
   "metadata": {},
   "outputs": [],
   "source": [
    "# --------------------------------------------------------------- #\n",
    "#                                                                 #\n",
    "#     Problem definition, copied from linear_regression.ipynb     #\n",
    "#                                                                 #\n",
    "# --------------------------------------------------------------- #\n",
    "\n",
    "######## Import required modules\n",
    "import json\n",
    "from contextlib import contextmanager\n",
    "import numpy as np\n",
    "import matplotlib.pyplot as plt\n",
    "from cofi import BaseProblem, InversionOptions, Inversion\n",
    "from cofi.solvers import solvers_table\n",
    "\n",
    "######## Set random seed (to ensure consistent results in different runs)\n",
    "np.random.seed(42)\n",
    "\n",
    "######## Define the polynomial linear regression problem\n",
    "_basis_func = lambda x: np.array([x**i for i in range(4)]).T\n",
    "_m_true = np.array([-6,-5,2,1])                                            # m\n",
    "_sample_size = 20                                                          # N\n",
    "x = np.random.choice(np.linspace(-3.5,2.5), size=_sample_size)             # x\n",
    "forward_func = lambda m: (np.array([x**i for i in range(4)]).T) @ m        # m -> y_synthetic\n",
    "y_observed = forward_func(_m_true) + np.random.normal(0,1,_sample_size)    # d\n",
    "\n",
    "sigma = 1.0                                     # common noise standard deviation\n",
    "Cdinv = np.eye(len(y_observed))/(sigma**2)      # inverse data covariance matrix\n",
    "def log_likelihood(model):\n",
    "    y_synthetics = forward_func(model)\n",
    "    residual = y_observed - y_synthetics\n",
    "    return -0.5 * residual @ (Cdinv @ residual).T\n",
    "\n",
    "m_lower_bound = np.ones(4) * (-10.)             # lower bound for uniform prior\n",
    "m_upper_bound = np.ones(4) * 10                 # upper bound for uniform prior\n",
    "def log_prior(model):    # uniform distribution\n",
    "    for i in range(len(m_lower_bound)):\n",
    "        if model[i] < m_lower_bound[i] or model[i] > m_upper_bound[i]: return -np.inf\n",
    "    return 0.0 # model lies within bounds -> return log(1)\n",
    "\n",
    "ndim = 4\n",
    "\n",
    "inv_problem = BaseProblem()\n",
    "inv_problem.name = \"Polynomial Regression\"\n",
    "inv_problem.set_data(y_observed)\n",
    "inv_problem.set_forward(forward_func)\n",
    "inv_problem.set_data_misfit(\"L2\")\n",
    "inv_problem.set_jacobian(_basis_func(x))\n",
    "inv_problem.set_initial_model(np.ones(4))\n",
    "inv_problem.set_log_prior(log_prior)\n",
    "inv_problem.set_log_likelihood(log_likelihood)\n",
    "\n",
    "######## Parameters that are to be changed by user settings\n",
    "def walkers_start(nwalkers):\n",
    "    return np.array([0.,0.,0.,0.]) + 1e-4 * np.random.randn(nwalkers, ndim)\n",
    "\n",
    "######## Review the basic/fixed problem setup\n",
    "# inv_problem.summary()"
   ]
  },
  {
   "cell_type": "code",
   "execution_count": 3,
   "id": "5728cdce-4409-4854-b56f-d1c55b7a1ec3",
   "metadata": {},
   "outputs": [],
   "source": [
    "# ---------------------------------------------------------------- #\n",
    "#                                                                  #\n",
    "#     Auxiliary code for widgets displaying, no need to modify     #\n",
    "#                                                                  #\n",
    "# ---------------------------------------------------------------- #\n",
    "\n",
    "def adjust_problem(regularisation, regularisation_factor):\n",
    "    inv_problem.set_regularisation(regularisation, regularisation_factor)\n",
    "    return inv_problem\n",
    "    \n",
    "def adjust_options(solving_method, tool, solver_params):\n",
    "    inv_options = InversionOptions()\n",
    "    inv_options.set_solving_method(solving_method)\n",
    "    inv_options.set_tool(tool)\n",
    "    inv_options.set_params(**solver_params)\n",
    "    if solving_method == \"sampling\":\n",
    "        inv_problem.set_walkers_starting_pos(walkers_start(solver_params[\"nwalkers\"]))\n",
    "    return inv_options\n",
    "\n",
    "def plot_from_result(inv_result, method):\n",
    "    if method == \"sampling\":\n",
    "        flat_samples = inv_result.sampler.get_chain(discard=300, thin=30, flat=True)\n",
    "        inds = np.random.randint(len(flat_samples), size=100) # get a random selection from posterior ensemble\n",
    "        _x_plot = np.linspace(-3.5,2.5)\n",
    "        _G_plot = _basis_func(_x_plot)\n",
    "        _y_plot = _G_plot @ _m_true\n",
    "        plt.figure(figsize=(12,8))\n",
    "        sample = flat_samples[0]\n",
    "        _y_synth = _G_plot @ sample\n",
    "        plt.plot(_x_plot, _y_synth, color=\"seagreen\", label=\"Posterior samples\",alpha=0.1)\n",
    "        for ind in inds:\n",
    "            sample = flat_samples[ind]\n",
    "            _y_synth = _G_plot @ sample\n",
    "            plt.plot(_x_plot, _y_synth, color=\"seagreen\", alpha=0.1)\n",
    "        plt.plot(_x_plot, _y_plot, color=\"darkorange\", label=\"true model\")\n",
    "        plt.scatter(x, y_observed, color=\"lightcoral\", label=\"observed data\")\n",
    "        plt.xlabel(\"X\")\n",
    "        plt.ylabel(\"Y\")\n",
    "        plt.legend()\n",
    "    else:\n",
    "        _x_plot = np.linspace(-3.5, 2.5)\n",
    "        _G_plot = _basis_func(_x_plot)\n",
    "        _y_plot_true = _G_plot @ _m_true\n",
    "        _y_plot_synth = _G_plot @ inv_result.model\n",
    "        plt.figure(figsize=(12,8))\n",
    "        plt.plot(_x_plot, _y_plot_true, color=\"darkorange\", label=\"true model\")\n",
    "        plt.plot(_x_plot, _y_plot_synth, color=\"seagreen\", label=f\"{method} solution\")\n",
    "        plt.scatter(x, y_observed, color=\"lightcoral\", label=\"observed data\")\n",
    "        plt.xlabel(\"X\")\n",
    "        plt.ylabel(\"Y\")\n",
    "        plt.legend()\n",
    "\n",
    "def inversion(reg, reg_factor, method, tool, solver_params):\n",
    "    inv_problem = adjust_problem(reg, reg_factor)\n",
    "    inv_options = adjust_options(method, tool, solver_params)\n",
    "    inv_runner = Inversion(inv_problem, inv_options)\n",
    "    result = inv_runner.run()\n",
    "    # result.summary()\n",
    "    # plot_from_result(result, method)\n",
    "    return result\n",
    "    \n",
    "# inversion(\"L2\", \"L2\", 0.05, \"optimisation\", \"scipy.optimize.minimize\")"
   ]
  },
  {
   "cell_type": "markdown",
   "id": "5e436b08-044a-4716-8e4f-21b988b2af10",
   "metadata": {},
   "source": [
    "---\n",
    "### Start the lab"
   ]
  },
  {
   "cell_type": "code",
   "execution_count": 4,
   "id": "d73a4516-6ce2-4bd0-a544-7dea35357b28",
   "metadata": {},
   "outputs": [
    {
     "data": {
      "application/vnd.jupyter.widget-view+json": {
       "model_id": "32b25d635a4549bea2b2aa4b132a5a08",
       "version_major": 2,
       "version_minor": 0
      },
      "text/plain": [
       "VBox(children=(ToggleButtons(description='method', options=('optimisation', 'linear least square', 'sampling')…"
      ]
     },
     "metadata": {},
     "output_type": "display_data"
    }
   ],
   "source": [
    "# -------------------------------------------------------------------------------------- #\n",
    "#                                                                                        #\n",
    "# Auxiliary code for widgets displaying, no need to modify                               #\n",
    "#                                                                                        #\n",
    "# Run this cell and start interacting :)                                                 #\n",
    "#                                                                                        #\n",
    "# If you have trouble displaying the interactive widgets locally, check advice here:     #\n",
    "# https://stackoverflow.com/questions/36351109/ipython-notebook-ipywidgets-does-not-show #\n",
    "#                                                                                        #\n",
    "# -------------------------------------------------------------------------------------- #\n",
    "\n",
    "from ipywidgets import interact, interactive, fixed, interact_manual\n",
    "import ipywidgets as widgets\n",
    "\n",
    "msg_label = widgets.Label('Ready')\n",
    "\n",
    "method_widget = widgets.ToggleButtons(options=solvers_table.keys(), description=\"method\")\n",
    "tool_widget = widgets.RadioButtons(options=solvers_table[\"optimisation\"].keys(), description=\"tool\")\n",
    "reg_widget = widgets.FloatSlider(value=2,min=-2,max=10,step=1,description=\"reg\")\n",
    "reg_factor_widget = widgets.FloatLogSlider(base=10,value=0.0001,min=-15,max=1,step=0.2, description=\"reg_factor\")\n",
    "solver_specific_params_widget = widgets.VBox(children=[])\n",
    "run_widget = widgets.Button(description=\"Run Inversion\")\n",
    "\n",
    "def update_params_widgets(tool_solver):\n",
    "    params_children = []\n",
    "    required_in_options = tool_solver.required_in_options\n",
    "    for param in required_in_options:\n",
    "        params_children.append(widgets.Text(value=\"\", placeholder=\"required\", description=param))\n",
    "    optional_in_options = tool_solver.optional_in_options\n",
    "    for param, dft in optional_in_options.items():\n",
    "        params_children.append(widgets.Text(value=str(dft), placeholder=\"optional\", description=param))\n",
    "    solver_specific_params_widget.children = params_children\n",
    "\n",
    "def method_updated(*args):\n",
    "    tool_widget.options = solvers_table[method_widget.value].keys()\n",
    "method_widget.observe(method_updated, 'value')\n",
    "\n",
    "def tool_updated(*args):\n",
    "    tool = tool_widget.value\n",
    "    tool_solver = solvers_table[method_widget.value][tool]\n",
    "    required_in_problem = tool_solver.required_in_problem\n",
    "    reg_factor_widget.layout.visibility = \"visible\" if \"objective\" in required_in_problem else \"hidden\"\n",
    "    reg_widget.layout.visibility = \"visible\" if \"objective\" in required_in_problem else \"hidden\"\n",
    "    update_params_widgets(tool_solver)\n",
    "tool_widget.observe(tool_updated, 'value')\n",
    "update_params_widgets(solvers_table[\"optimisation\"][\"scipy.optimize.minimize\"])\n",
    "\n",
    "def button_on_click(*args): \n",
    "    method = method_widget.value\n",
    "    tool = tool_widget.value\n",
    "    reg = reg_widget.value\n",
    "    reg_factor = reg_factor_widget.value\n",
    "    solver_params = {}\n",
    "    try:\n",
    "        for widget in solver_specific_params_widget.children:\n",
    "            val = widget.value\n",
    "            if widget.placeholder == \"required\" and not val:\n",
    "                raise ValueError(\"please fill in required parameters\")\n",
    "            if val == \"None\": val = None\n",
    "            elif val == \"True\" or val == \"true\": val = True\n",
    "            elif val == \"False\" or val == \"False\": val = False\n",
    "            elif \"{\" in val and \"}\" in val: val = json.loads(val)\n",
    "            else:\n",
    "                try:\n",
    "                    val = int(val)\n",
    "                    val_flt = float(val)\n",
    "                    if val != val_flt:\n",
    "                        val = val_flt\n",
    "                except:\n",
    "                    pass\n",
    "            solver_params[widget.description] = val\n",
    "    except Exception as e:\n",
    "        msg_label.value = f\"Something is wrong:\\n{e.__class__.__name__} - {e}\"\n",
    "        raise\n",
    "    with show_loading():\n",
    "        try:\n",
    "            res = inversion(reg, reg_factor, method, tool, solver_params)\n",
    "            args[0].result = res\n",
    "            args[0].settings = {\"reg with order\": reg, \"reg_factor\":reg_factor, \n",
    "                                \"method\":method, \"tool\":tool, \"solver_params\":solver_params}\n",
    "        except Exception as e:\n",
    "            msg_label.value = f\"Something is wrong:\\n{e.__class__.__name__} - {e}\"\n",
    "            raise\n",
    "run_widget.on_click(button_on_click)\n",
    "\n",
    "@contextmanager\n",
    "def show_loading():\n",
    "    msg_label.value = 'Running...'\n",
    "    yield\n",
    "    if hasattr(run_widget, \"result\"):\n",
    "        msg_label.value = f'Ready ({run_widget.result.success_or_not})'\n",
    "\n",
    "w = widgets.VBox(children=[method_widget, tool_widget, reg_widget, reg_factor_widget,\n",
    "                          solver_specific_params_widget, run_widget, msg_label])\n",
    "display(w)"
   ]
  },
  {
   "cell_type": "code",
   "execution_count": 5,
   "id": "e6dea0f3-aad4-4450-a84c-c2498e2e20ed",
   "metadata": {},
   "outputs": [],
   "source": [
    "#####################################################################################\n",
    "#                                                                                   #\n",
    "#    Uncomment below after you've selected parameters and run an inversion above    #\n",
    "#                                                                                   #\n",
    "#####################################################################################\n",
    "\n",
    "# inv_result = run_widget.result\n",
    "# plot_from_result(inv_result, run_widget.settings[\"method\"])\n",
    "# inv_result.summary()"
   ]
  },
  {
   "cell_type": "markdown",
   "id": "9d5a3a61-7ec2-4a89-acf5-3824e6c1e4c3",
   "metadata": {},
   "source": [
    "---\n",
    "\n",
    "## Watermark"
   ]
  },
  {
   "cell_type": "code",
   "execution_count": 6,
   "id": "307bada8",
   "metadata": {},
   "outputs": [
    {
     "name": "stdout",
     "output_type": "stream",
     "text": [
      "cofi 0.1.2.dev6\n",
      "numpy 1.22.3\n",
      "scipy 1.8.0\n",
      "matplotlib 3.5.1\n",
      "emcee 3.1.2\n",
      "arviz 0.12.1\n",
      "ipywidgets 7.7.0\n"
     ]
    }
   ],
   "source": [
    "watermark_list = [\"cofi\", \"numpy\", \"scipy\", \"matplotlib\", \"emcee\", \"arviz\", \"ipywidgets\"]\n",
    "for pkg in watermark_list:\n",
    "    pkg_var = __import__(pkg)\n",
    "    print(pkg, getattr(pkg_var, \"__version__\"))"
   ]
  }
 ],
 "metadata": {
  "interpreter": {
   "hash": "82521f8c6d46dbe13b9e99c6a95164e7b000b3cca9173433679abe48ca711ce5"
  },
  "kernelspec": {
   "display_name": "Python 3 (ipykernel)",
   "language": "python",
   "name": "python3"
  },
  "language_info": {
   "codemirror_mode": {
    "name": "ipython",
    "version": 3
   },
   "file_extension": ".py",
   "mimetype": "text/x-python",
   "name": "python",
   "nbconvert_exporter": "python",
   "pygments_lexer": "ipython3",
   "version": "3.10.4"
  }
 },
 "nbformat": 4,
 "nbformat_minor": 5
}
