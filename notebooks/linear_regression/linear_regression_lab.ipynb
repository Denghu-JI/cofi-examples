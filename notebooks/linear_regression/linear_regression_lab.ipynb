{
  "cells": [
    {
      "cell_type": "markdown",
      "id": "92199065-061b-4f14-b753-2ca0f6d2b002",
      "metadata": {},
      "source": [
        "# Polynomial Linear Regression - Interactive Lab\n",
        "\n",
        "Following the linear regression example described in [linear_regression.ipynb](linear_regression.ipynb), here let's relax and play around!"
      ]
    },
    {
      "cell_type": "markdown",
      "id": "c042ac8b-4781-41e2-8c24-42e9eb480bae",
      "metadata": {},
      "source": [
        "<!--<badge>--><a href=\"https://colab.research.google.com/github/inlab-geo/cofi-examples/blob/main/notebooks/linear_regression/linear_regression_lab.ipynb\" target=\"_parent\"><img src=\"https://colab.research.google.com/assets/colab-badge.svg\" alt=\"Open In Colab\"/></a><!--</badge>-->"
      ]
    },
    {
      "cell_type": "markdown",
      "id": "806aa27e-0b81-44cf-9c99-153beeca681a",
      "metadata": {},
      "source": [
        "---\n",
        "### Import modules and get prepared\n",
        "\n",
        "Still, some steps are necessary in preparation for the coming interactive lab."
      ]
    },
    {
      "cell_type": "code",
      "execution_count": 1,
      "id": "0f27b4aa-f2ab-4933-9fae-9a8888c8db10",
      "metadata": {},
      "outputs": [],
      "source": [
        "# -------------------------------------------------------- #\n",
        "#                                                          #\n",
        "#     Uncomment below to set up environment on \"colab\"     #\n",
        "#                                                          #\n",
        "# -------------------------------------------------------- #\n",
        "\n",
        "# !pip install -U cofi"
      ]
    },
    {
      "cell_type": "code",
      "execution_count": 2,
      "id": "1524cfba-1da7-4aef-acc4-afb4c86f53dd",
      "metadata": {},
      "outputs": [],
      "source": [
        "# --------------------------------------------------------------- #\n",
        "#                                                                 #\n",
        "#     Problem definition, copied from linear_regression.ipynb     #\n",
        "#                                                                 #\n",
        "# --------------------------------------------------------------- #\n",
        "\n",
        "######## Import required modules\n",
        "import numpy as np\n",
        "import matplotlib.pyplot as plt\n",
        "from cofi import BaseProblem, InversionOptions, Inversion\n",
        "from cofi.solvers import solvers_table\n",
        "\n",
        "######## Set random seed (to ensure consistent results in different runs)\n",
        "np.random.seed(42)\n",
        "\n",
        "######## Define the polynomial linear regression problem\n",
        "_basis_func = lambda x: np.array([x**i for i in range(4)]).T\n",
        "_m_true = np.array([-6,-5,2,1])                                            # m\n",
        "_sample_size = 20                                                          # N\n",
        "x = np.random.choice(np.linspace(-3.5,2.5), size=_sample_size)             # x\n",
        "forward_func = lambda m: (np.array([x**i for i in range(4)]).T) @ m        # m -> y_synthetic\n",
        "y_observed = forward_func(_m_true) + np.random.normal(0,1,_sample_size)    # d\n",
        "\n",
        "inv_problem = BaseProblem()\n",
        "inv_problem.name = \"Polynomial Regression\"\n",
        "inv_problem.set_dataset(x, y_observed)\n",
        "inv_problem.set_forward(forward_func)\n",
        "inv_problem.set_jacobian(_basis_func(x))\n",
        "\n",
        "######## Review the basic/fixed problem setup\n",
        "# inv_problem.summary()"
      ]
    },
    {
      "cell_type": "code",
      "execution_count": 3,
      "id": "5728cdce-4409-4854-b56f-d1c55b7a1ec3",
      "metadata": {},
      "outputs": [],
      "source": [
        "# ---------------------------------------------------------------- #\n",
        "#                                                                  #\n",
        "#     Auxiliary code for widgets displaying, no need to modify     #\n",
        "#                                                                  #\n",
        "# ---------------------------------------------------------------- #\n",
        "\n",
        "def adjust_problem(initial_model, data_misfit, regularisation, regularisation_factor):\n",
        "    inv_problem.set_initial_model(initial_model)\n",
        "    inv_problem.set_data_misfit(data_misfit)\n",
        "    inv_problem.set_regularisation(regularisation, regularisation_factor)\n",
        "    return inv_problem\n",
        "    \n",
        "def adjust_options(solving_method, tool, **kwargs):\n",
        "    inv_options = InversionOptions()\n",
        "    inv_options.set_solving_method(solving_method)\n",
        "    inv_options.set_tool(tool)\n",
        "    inv_options.set_params(**kwargs)\n",
        "    return inv_options\n",
        "\n",
        "def plot_from_model(model, method):\n",
        "    _x_plot = np.linspace(-3.5, 2.5)\n",
        "    _G_plot = _basis_func(_x_plot)\n",
        "    _y_plot_true = _G_plot @ _m_true\n",
        "    _y_plot_synth = _G_plot @ model\n",
        "    plt.figure(figsize=(12,8))\n",
        "    plt.plot(_x_plot, _y_plot_true, color=\"darkorange\", label=\"true model\")\n",
        "    plt.plot(_x_plot, _y_plot_synth, color=\"seagreen\", label=f\"{method} solution\")\n",
        "    plt.scatter(x, y_observed, color=\"lightcoral\", label=\"original data\")\n",
        "    plt.title(\"Polynomial linear regression: comparison between true model, dataset & inversion result\")\n",
        "    plt.xlabel(\"X\")\n",
        "    plt.ylabel(\"Y\")\n",
        "    plt.legend()\n",
        "\n",
        "def inversion(m0, m1, m2, m3, data_misfit, reg, reg_factor, method, tool, verbose):\n",
        "    initial_model = np.array([m0, m1, m2, m3])\n",
        "    inv_problem = adjust_problem(initial_model, data_misfit, reg, reg_factor)\n",
        "    inv_options = adjust_options(method, tool)\n",
        "    inv_options.set_params(verbose=verbose)\n",
        "    inv_runner = Inversion(inv_problem, inv_options)\n",
        "    result = inv_runner.run()\n",
        "    # result.summary()\n",
        "    plot_from_model(result.model, method)\n",
        "    return result\n",
        "    \n",
        "# inversion(1, 1, 1, 1, \"L2\", \"L2\", 0.05, \"optimisation\", \"scipy.optimize.minimize\")"
      ]
    },
    {
      "cell_type": "markdown",
      "id": "5e436b08-044a-4716-8e4f-21b988b2af10",
      "metadata": {},
      "source": [
        "---\n",
        "### Start the lab"
      ]
    },
    {
      "cell_type": "code",
      "execution_count": 4,
      "id": "d73a4516-6ce2-4bd0-a544-7dea35357b28",
      "metadata": {},
      "outputs": [
        {
          "data": {
            "application/vnd.jupyter.widget-view+json": {
              "model_id": "e9cdc5f039db4c3da53681c169546bd3",
              "version_major": 2,
              "version_minor": 0
            },
            "text/plain": [
              "interactive(children=(FloatSlider(value=0.0, description='m0', max=10.0, min=-10.0), FloatSlider(value=0.0, de\u2026"
            ]
          },
          "metadata": {},
          "output_type": "display_data"
        }
      ],
      "source": [
        "# -------------------------------------------------------------------------------------- #\n",
        "#                                                                                        #\n",
        "# Auxiliary code for widgets displaying, no need to modify                               #\n",
        "#                                                                                        #\n",
        "# Run this cell and start interacting :)                                                 #\n",
        "#                                                                                        #\n",
        "# If you have trouble displaying the interactive widgets locally, check advice here:     #\n",
        "# https://stackoverflow.com/questions/36351109/ipython-notebook-ipywidgets-does-not-show #\n",
        "#                                                                                        #\n",
        "# -------------------------------------------------------------------------------------- #\n",
        "\n",
        "from ipywidgets import interact, interactive, fixed, interact_manual\n",
        "import ipywidgets as widgets\n",
        "\n",
        "m0_widget = widgets.FloatSlider(min=-10,max=10)\n",
        "m1_widget = widgets.FloatSlider(min=-10,max=10)\n",
        "m2_widget = widgets.FloatSlider(min=-10,max=10)\n",
        "m3_widget = widgets.FloatSlider(min=-10,max=10)\n",
        "reg_widget = widgets.Dropdown(value=2,options=[0, 1, 2])\n",
        "reg_factor_widget = widgets.FloatLogSlider(base=10,value=0.08,min=-5,max=1,step=0.2)\n",
        "method_widget = widgets.ToggleButtons(options=[\"optimisation\", \"linear least square\"])\n",
        "tool_widget = widgets.RadioButtons(options=[\"scipy.optimize.minimize\", \"scipy.optimize.least_squares\"])\n",
        "verbose_widget = widgets.IntSlider(value=0,min=0,max=2,layout={\"visibility\":\"hidden\"})\n",
        "\n",
        "def method_updated(*args):\n",
        "    tool_widget.options = solvers_table[method_widget.value].keys()\n",
        "method_widget.observe(method_updated, 'value')\n",
        "\n",
        "def tool_updated(*args):\n",
        "    if tool_widget.value == \"scipy.linalg.lstsq\":\n",
        "        m0_widget.layout.visibility = \"hidden\"\n",
        "        m1_widget.layout.visibility = \"hidden\"\n",
        "        m2_widget.layout.visibility = \"hidden\"\n",
        "        m3_widget.layout.visibility = \"hidden\"\n",
        "        reg_widget.layout.visibility = \"hidden\"\n",
        "        reg_factor_widget.layout.visibility = \"hidden\"\n",
        "    else:\n",
        "        m0_widget.layout.visibility = \"visible\"\n",
        "        m1_widget.layout.visibility = \"visible\"\n",
        "        m2_widget.layout.visibility = \"visible\"\n",
        "        m3_widget.layout.visibility = \"visible\"\n",
        "        reg_widget.layout.visibility = \"visible\"\n",
        "        reg_factor_widget.layout.visibility = \"visible\"\n",
        "    if tool_widget.value == \"scipy.optimize.least_squares\":\n",
        "        verbose_widget.layout.visibility = \"visible\"\n",
        "    else:\n",
        "        verbose_widget.layout.visibility = \"hidden\"\n",
        "tool_widget.observe(tool_updated, 'value')\n",
        "        \n",
        "w = interactive(inversion, {'manual': True, 'manual_name': \"Run Inversion\"},\n",
        "                m0=m0_widget, m1=m1_widget, m2=m2_widget, m3=m3_widget,\n",
        "                data_misfit=[\"L2\"], reg=reg_widget, reg_factor=reg_factor_widget,\n",
        "                method=method_widget, tool=tool_widget, verbose=verbose_widget)\n",
        "w.manual_button.click()\n",
        "display(w)"
      ]
    },
    {
      "cell_type": "code",
      "execution_count": 5,
      "id": "e6dea0f3-aad4-4450-a84c-c2498e2e20ed",
      "metadata": {},
      "outputs": [],
      "source": [
        "#####################################################################################\n",
        "#                                                                                   #\n",
        "#    Uncomment below after you've selected parameters and run an inversion above    #\n",
        "#                                                                                   #\n",
        "#####################################################################################\n",
        "\n",
        "# inv_result = w.result\n",
        "# inv_result.summary()"
      ]
    }
  ],
  "metadata": {
    "interpreter": {
      "hash": "82521f8c6d46dbe13b9e99c6a95164e7b000b3cca9173433679abe48ca711ce5"
    },
    "kernelspec": {
      "display_name": "Python 3 (ipykernel)",
      "language": "python",
      "name": "python3"
    },
    "language_info": {
      "codemirror_mode": {
        "name": "ipython",
        "version": 3
      },
      "file_extension": ".py",
      "mimetype": "text/x-python",
      "name": "python",
      "nbconvert_exporter": "python",
      "pygments_lexer": "ipython3",
      "version": "3.10.4"
    }
  },
  "nbformat": 4,
  "nbformat_minor": 5
}