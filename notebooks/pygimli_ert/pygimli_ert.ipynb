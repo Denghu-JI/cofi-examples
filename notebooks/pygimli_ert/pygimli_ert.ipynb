{
  "cells": [
    {
      "cell_type": "markdown",
      "metadata": {},
      "source": [
        "# Electrical Resistivity Tomography\n",
        "\n",
        "Using the ert solver implemented provided by [PyGIMLi](https://www.pygimli.org/), \n",
        "we use different `cofi` solvers to solve the corresponding inverse problem."
      ]
    },
    {
      "cell_type": "markdown",
      "metadata": {},
      "source": [
        "<!--<badge>--><a href=\"https://colab.research.google.com/github/inlab-geo/cofi-examples/blob/main/notebooks/pygimli_ert/pygimli_ert.ipynb\" target=\"_parent\"><img src=\"https://colab.research.google.com/assets/colab-badge.svg\" alt=\"Open In Colab\"/></a><!--</badge>-->"
      ]
    },
    {
      "cell_type": "markdown",
      "metadata": {},
      "source": [
        "## 0. Import modules"
      ]
    },
    {
      "cell_type": "code",
      "execution_count": null,
      "metadata": {},
      "outputs": [],
      "source": [
        "# -------------------------------------------------------- #\n",
        "#                                                          #\n",
        "#     Uncomment below to set up environment on \"colab\"     #\n",
        "#                                                          #\n",
        "# -------------------------------------------------------- #\n",
        "\n",
        "# !pip install -U cofi\n",
        "# !pip install pygimli"
      ]
    },
    {
      "cell_type": "code",
      "execution_count": null,
      "metadata": {},
      "outputs": [],
      "source": [
        "import numpy as np\n",
        "import scipy as sp\n",
        "import matplotlib.pyplot as plt\n",
        "import pygimli as pg\n",
        "\n",
        "from cofi import BaseProblem, InversionOptions, Inversion\n",
        "\n",
        "np.random.seed(42)"
      ]
    },
    {
      "cell_type": "markdown",
      "metadata": {},
      "source": [
        "## 1. Define the problem"
      ]
    },
    {
      "cell_type": "code",
      "execution_count": null,
      "metadata": {},
      "outputs": [],
      "source": [
        "my_problem = BaseProblem()\n",
        "# my_problem.set_forward(some_function_here)\n",
        "# ...\n",
        "\n",
        "# A list of set methods you can use on BaseProblem can be found here:\n",
        "# https://cofi.readthedocs.io/en/latest/api/generated/cofi.BaseProblem.html#set-methods\n",
        "\n",
        "# Feel free to add more cells as needed\n",
        "# You may also import dataset in this section"
      ]
    },
    {
      "cell_type": "markdown",
      "metadata": {},
      "source": [
        "Review what information is included in the `BaseProblem` object:"
      ]
    },
    {
      "cell_type": "code",
      "execution_count": null,
      "metadata": {},
      "outputs": [],
      "source": [
        "my_problem.summary()"
      ]
    },
    {
      "cell_type": "markdown",
      "metadata": {},
      "source": [
        "## 2. Define the inversion options"
      ]
    },
    {
      "cell_type": "code",
      "execution_count": null,
      "metadata": {},
      "outputs": [],
      "source": [
        "my_options = InversionOptions()\n",
        "# my_options.set_tool(some_tool_name_here)\n",
        "# my_options.set_params(some_option = some_value)"
      ]
    },
    {
      "cell_type": "markdown",
      "metadata": {},
      "source": [
        "Review what's been defined for the inversion we are about to run:"
      ]
    },
    {
      "cell_type": "code",
      "execution_count": null,
      "metadata": {},
      "outputs": [],
      "source": [
        "my_options.summary()"
      ]
    },
    {
      "cell_type": "markdown",
      "metadata": {},
      "source": [
        "## 3. Start an inversion"
      ]
    },
    {
      "cell_type": "code",
      "execution_count": null,
      "metadata": {},
      "outputs": [],
      "source": [
        "inv = Inversion(my_problem, my_options)\n",
        "inv_result = inv.run()\n",
        "inv_result.summary()"
      ]
    },
    {
      "cell_type": "markdown",
      "metadata": {},
      "source": [
        "## 4. Plotting"
      ]
    },
    {
      "cell_type": "code",
      "execution_count": null,
      "metadata": {},
      "outputs": [],
      "source": [
        "# Add some plotting here if applicable"
      ]
    },
    {
      "cell_type": "markdown",
      "metadata": {},
      "source": [
        "## 5. Reflections / Conclusion / Further reading"
      ]
    },
    {
      "cell_type": "markdown",
      "metadata": {},
      "source": [
        "We can see that..."
      ]
    }
  ],
  "metadata": {
    "interpreter": {
      "hash": "82521f8c6d46dbe13b9e99c6a95164e7b000b3cca9173433679abe48ca711ce5"
    },
    "kernelspec": {
      "display_name": "Python 3.10.4 ('cofi_dev')",
      "language": "python",
      "name": "python3"
    },
    "language_info": {
      "codemirror_mode": {
        "name": "ipython",
        "version": 3
      },
      "file_extension": ".py",
      "mimetype": "text/x-python",
      "name": "python",
      "nbconvert_exporter": "python",
      "pygments_lexer": "ipython3",
      "version": "3.10.4"
    },
    "orig_nbformat": 4
  },
  "nbformat": 4,
  "nbformat_minor": 2
}