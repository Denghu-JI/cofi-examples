{
 "cells": [
  {
   "cell_type": "markdown",
   "id": "486df120",
   "metadata": {
    "papermill": {
     "duration": 0.005077,
     "end_time": "2022-09-14T01:13:30.982847",
     "exception": false,
     "start_time": "2022-09-14T01:13:30.977770",
     "status": "completed"
    },
    "tags": []
   },
   "source": [
    "# PyGIMLi - Electrical Resistivity Tomography"
   ]
  },
  {
   "cell_type": "markdown",
   "id": "f0144118",
   "metadata": {
    "papermill": {
     "duration": 0.00424,
     "end_time": "2022-09-14T01:13:30.991573",
     "exception": false,
     "start_time": "2022-09-14T01:13:30.987333",
     "status": "completed"
    },
    "tags": []
   },
   "source": [
    "Using the ERT solver implemented provided by [PyGIMLi](https://www.pygimli.org/), \n",
    "we use different `cofi` solvers to solve the corresponding inverse problem."
   ]
  },
  {
   "cell_type": "markdown",
   "id": "0b36177e",
   "metadata": {
    "papermill": {
     "duration": 0.004704,
     "end_time": "2022-09-14T01:13:31.000884",
     "exception": false,
     "start_time": "2022-09-14T01:13:30.996180",
     "status": "completed"
    },
    "tags": []
   },
   "source": [
    "<!--<badge>--><a href=\"https://colab.research.google.com/github/inlab-geo/cofi-examples/blob/main/notebooks/pygimli_ert/pygimli_ert.ipynb\" target=\"_parent\"><img src=\"https://colab.research.google.com/assets/colab-badge.svg\" alt=\"Open In Colab\"/></a><!--</badge>-->"
   ]
  },
  {
   "cell_type": "markdown",
   "id": "01c4ba3c",
   "metadata": {
    "papermill": {
     "duration": 0.004621,
     "end_time": "2022-09-14T01:13:31.010061",
     "exception": false,
     "start_time": "2022-09-14T01:13:31.005440",
     "status": "completed"
    },
    "tags": []
   },
   "source": [
    "<!-- Again, please don't touch the markdown cell above. We'll generate badge \n",
    "     automatically from the above cell. -->\n",
    "\n",
    "<!-- This cell describes things related to environment setup, so please add more text \n",
    "     if something special (not listed below) is needed to run this notebook -->\n",
    "\n",
    "> If you are running this notebook locally, make sure you've followed [steps here](https://github.com/inlab-geo/cofi-examples#run-the-examples-with-cofi-locally)\n",
    "to set up the environment. (This [environment.yml](https://github.com/inlab-geo/cofi-examples/blob/main/environment.yml) file\n",
    "specifies a list of packages required to run the notebooks)"
   ]
  },
  {
   "cell_type": "markdown",
   "id": "90f5f3d5",
   "metadata": {
    "papermill": {
     "duration": 0.016376,
     "end_time": "2022-09-14T01:13:31.031005",
     "exception": false,
     "start_time": "2022-09-14T01:13:31.014629",
     "status": "completed"
    },
    "tags": []
   },
   "source": [
    "## 0. Import modules"
   ]
  },
  {
   "cell_type": "code",
   "execution_count": 1,
   "id": "789f1fac",
   "metadata": {
    "execution": {
     "iopub.execute_input": "2022-09-14T01:13:31.057834Z",
     "iopub.status.busy": "2022-09-14T01:13:31.057598Z",
     "iopub.status.idle": "2022-09-14T01:13:31.060353Z",
     "shell.execute_reply": "2022-09-14T01:13:31.060004Z"
    },
    "papermill": {
     "duration": 0.016778,
     "end_time": "2022-09-14T01:13:31.061220",
     "exception": false,
     "start_time": "2022-09-14T01:13:31.044442",
     "status": "completed"
    },
    "tags": []
   },
   "outputs": [],
   "source": [
    "# -------------------------------------------------------- #\n",
    "#                                                          #\n",
    "#     Uncomment below to set up environment on \"colab\"     #\n",
    "#                                                          #\n",
    "# -------------------------------------------------------- #\n",
    "\n",
    "# !pip install -U cofi\n",
    "\n",
    "# !pip install -q condacolab\n",
    "# import condacolab\n",
    "# condacolab.install()\n",
    "# !mamba install -c gimli pygimli=1.3\n",
    "\n",
    "# !git clone https://github.com/inlab-geo/cofi-examples.git\n",
    "# %cd cofi-examples/notebooks/pygimli_ert"
   ]
  },
  {
   "cell_type": "markdown",
   "id": "8e70ee4c",
   "metadata": {
    "papermill": {
     "duration": 0.00435,
     "end_time": "2022-09-14T01:13:31.069740",
     "exception": false,
     "start_time": "2022-09-14T01:13:31.065390",
     "status": "completed"
    },
    "tags": []
   },
   "source": [
    "We will need the following packages:\n",
    "\n",
    "- `numpy` for matrices and matrix-related functions\n",
    "- `matplotlib` for plotting\n",
    "- `pygimli` for forward modelling of the problem\n",
    "- `cofi` for accessing different inference solvers\n",
    "\n",
    "Additionally, we wrap some `pygimli` code in file `pygimli_ert_lib.py` and import it\n",
    "here for conciseness."
   ]
  },
  {
   "cell_type": "code",
   "execution_count": 2,
   "id": "ec18e85b",
   "metadata": {
    "execution": {
     "iopub.execute_input": "2022-09-14T01:13:31.108502Z",
     "iopub.status.busy": "2022-09-14T01:13:31.108305Z",
     "iopub.status.idle": "2022-09-14T01:13:31.948606Z",
     "shell.execute_reply": "2022-09-14T01:13:31.948171Z"
    },
    "papermill": {
     "duration": 0.85554,
     "end_time": "2022-09-14T01:13:31.950138",
     "exception": false,
     "start_time": "2022-09-14T01:13:31.094598",
     "status": "completed"
    },
    "tags": []
   },
   "outputs": [],
   "source": [
    "import numpy as np\n",
    "import pygimli\n",
    "from pygimli.physics import ert\n",
    "\n",
    "from cofi import BaseProblem, InversionOptions, Inversion\n",
    "from cofi.solvers import BaseSolver\n",
    "\n",
    "from pygimli_ert_lib import *\n",
    "\n",
    "np.random.seed(42)"
   ]
  },
  {
   "cell_type": "markdown",
   "id": "2fe2b170",
   "metadata": {
    "papermill": {
     "duration": 0.004149,
     "end_time": "2022-09-14T01:13:31.958589",
     "exception": false,
     "start_time": "2022-09-14T01:13:31.954440",
     "status": "completed"
    },
    "tags": []
   },
   "source": [
    "## 1. Define the problem"
   ]
  },
  {
   "cell_type": "markdown",
   "id": "2e9e63ac",
   "metadata": {
    "papermill": {
     "duration": 0.003953,
     "end_time": "2022-09-14T01:13:31.966456",
     "exception": false,
     "start_time": "2022-09-14T01:13:31.962503",
     "status": "completed"
    },
    "tags": []
   },
   "source": [
    "We first define the true model, the survey and map it on a computational mesh designed for the survey and true anomaly."
   ]
  },
  {
   "cell_type": "code",
   "execution_count": 3,
   "id": "52e68bd1",
   "metadata": {
    "execution": {
     "iopub.execute_input": "2022-09-14T01:13:31.975345Z",
     "iopub.status.busy": "2022-09-14T01:13:31.975048Z",
     "iopub.status.idle": "2022-09-14T01:13:32.372864Z",
     "shell.execute_reply": "2022-09-14T01:13:32.372421Z"
    },
    "papermill": {
     "duration": 0.404222,
     "end_time": "2022-09-14T01:13:32.374583",
     "exception": false,
     "start_time": "2022-09-14T01:13:31.970361",
     "status": "completed"
    },
    "tags": []
   },
   "outputs": [
    {
     "data": {
      "text/plain": [
       "Text(0.5, 1.0, 'True model')"
      ]
     },
     "execution_count": 3,
     "metadata": {},
     "output_type": "execute_result"
    },
    {
     "data": {
      "image/png": "[encoded data removed]",
      "text/plain": [
       "<Figure size 640x480 with 2 Axes>"
      ]
     },
     "metadata": {},
     "output_type": "display_data"
    }
   ],
   "source": [
    "# PyGIMLi - define measuring scheme, geometry, forward mesh and true model\n",
    "scheme = survey_scheme()\n",
    "mesh, rhomap = model_true(scheme)\n",
    "\n",
    "# plot the true model\n",
    "ax = pygimli.show(mesh, data=rhomap, label=\"$\\Omega m$\", showMesh=True)\n",
    "ax[0].set_title(\"True model\")"
   ]
  },
  {
   "cell_type": "markdown",
   "id": "aa0e73c0",
   "metadata": {
    "papermill": {
     "duration": 0.024967,
     "end_time": "2022-09-14T01:13:32.406495",
     "exception": false,
     "start_time": "2022-09-14T01:13:32.381528",
     "status": "completed"
    },
    "tags": []
   },
   "source": [
    "Generate the synthetic data as a container with all the necessary information for plotting.\n",
    "\n",
    "In ERT problems, the model and data are by convention treated in log space. "
   ]
  },
  {
   "cell_type": "code",
   "execution_count": 4,
   "id": "416fa4c9",
   "metadata": {
    "execution": {
     "iopub.execute_input": "2022-09-14T01:13:32.438688Z",
     "iopub.status.busy": "2022-09-14T01:13:32.438469Z",
     "iopub.status.idle": "2022-09-14T01:13:32.882678Z",
     "shell.execute_reply": "2022-09-14T01:13:32.882148Z"
    },
    "papermill": {
     "duration": 0.453068,
     "end_time": "2022-09-14T01:13:32.883774",
     "exception": false,
     "start_time": "2022-09-14T01:13:32.430706",
     "status": "completed"
    },
    "tags": []
   },
   "outputs": [
    {
     "name": "stderr",
     "output_type": "stream",
     "text": [
      "14/09/22 - 11:13:32 - pyGIMLi - \u001b[0;32;49mINFO\u001b[0m - Calculate geometric factors.\n"
     ]
    },
    {
     "name": "stdout",
     "output_type": "stream",
     "text": [
      "ModellingBase::setMesh() copying new mesh ... Found datafile: 51 electrodes\n",
      "Found: 51 free-electrodes\n",
      "rMin = 0.5, rMax = 100\n",
      "NGauLeg + NGauLag for inverse Fouriertransformation: 13 + 4\n",
      "Found non-Neumann domain\n",
      "0.012 s\n",
      "FOP updating mesh dependencies ... 0 s\n",
      "relativeError set to a value > 0.5 .. assuming this is a percentage Error level dividing them by 100\n",
      "Data error estimate (min:max)  0.010009229451098493 : 0.22552739004919173\n",
      "Obtaining geometric factors (analytical)\n",
      "Calculating response for model: min = 50 max = 200\n",
      "Allocating memory for primary potential...... 0.003\n",
      "\n",
      "No primary potential for secondary field calculation. Calculating analytically...\n",
      "Factorize (Cholmod) matrix ... 0.006\n",
      "Factorize (Cholmod) matrix ... 0.005\n",
      "Factorize (Cholmod) matrix ... 0.004\n",
      "Factorize (Cholmod) matrix ... 0.004\n",
      "Factorize (Cholmod) matrix ... 0.005\n",
      "Factorize (Cholmod) matrix ... 0.004\n",
      "Factorize (Cholmod) matrix ... 0.004\n",
      "Factorize (Cholmod) matrix ... 0.004\n",
      "Factorize (Cholmod) matrix ... 0.004\n",
      "Factorize (Cholmod) matrix ... 0.004\n",
      "Factorize (Cholmod) matrix ... 0.004\n",
      "Factorize (Cholmod) matrix ... 0.005\n",
      "Factorize (Cholmod) matrix ... 0.004\n",
      "Factorize (Cholmod) matrix ... 0.004\n",
      "Factorize (Cholmod) matrix ... 0.005\n",
      "Factorize (Cholmod) matrix ... 0.004\n",
      "Factorize (Cholmod) matrix ... 0.004\n",
      "Forward: time: 0.158s\n",
      "Response: min = 98.7322 max = 218.789 mean = 173.9\n",
      "Reciprocity rms(modelReciprocity) 0.409386%, max: 1.53119%\n"
     ]
    },
    {
     "data": {
      "text/plain": [
       "Text(0.5, 1.0, 'Provided data')"
      ]
     },
     "execution_count": 4,
     "metadata": {},
     "output_type": "execute_result"
    },
    {
     "data": {
      "image/png": "[encoded data removed]",
      "text/plain": [
       "<Figure size 640x480 with 2 Axes>"
      ]
     },
     "metadata": {},
     "output_type": "display_data"
    }
   ],
   "source": [
    "# PyGIMLi - generate data\n",
    "data, log_data, data_cov_inv = ert_simulate(mesh, scheme, rhomap)\n",
    "\n",
    "ax = ert.show(data)\n",
    "ax[0].set_title(\"Provided data\")"
   ]
  },
  {
   "cell_type": "markdown",
   "id": "83e11e30",
   "metadata": {
    "papermill": {
     "duration": 0.00728,
     "end_time": "2022-09-14T01:13:32.935589",
     "exception": false,
     "start_time": "2022-09-14T01:13:32.928309",
     "status": "completed"
    },
    "tags": []
   },
   "source": [
    "Further, we create a `pygimli.ert.ERTManager` instance to keep record of problem-specific\n",
    "information like the inversion mesh, and to perform forward operation for the inversion\n",
    "solvers."
   ]
  },
  {
   "cell_type": "code",
   "execution_count": 5,
   "id": "9058af7d",
   "metadata": {
    "execution": {
     "iopub.execute_input": "2022-09-14T01:13:32.949080Z",
     "iopub.status.busy": "2022-09-14T01:13:32.948810Z",
     "iopub.status.idle": "2022-09-14T01:13:32.951645Z",
     "shell.execute_reply": "2022-09-14T01:13:32.951162Z"
    },
    "papermill": {
     "duration": 0.011284,
     "end_time": "2022-09-14T01:13:32.952714",
     "exception": false,
     "start_time": "2022-09-14T01:13:32.941430",
     "status": "completed"
    },
    "tags": []
   },
   "outputs": [],
   "source": [
    "# create PyGIMLi's ERT manager\n",
    "ert_manager = ert_manager(data)"
   ]
  },
  {
   "cell_type": "markdown",
   "id": "1beb62a0",
   "metadata": {
    "papermill": {
     "duration": 0.005511,
     "end_time": "2022-09-14T01:13:32.963727",
     "exception": false,
     "start_time": "2022-09-14T01:13:32.958216",
     "status": "completed"
    },
    "tags": []
   },
   "source": [
    "The inversion can use a different mesh and the mesh to be used should know nothing about the mesh that was designed based on the true model. We wrap two kinds of mesh as examples in the library code `pygimli_ert_lib.py`, namely triangular and rectangular mesh.\n",
    "\n",
    "Use `imesh_tri = inversion_mesh(scheme)` to initialise a triangular mesh. This function uses PyGIMLi's own mesh generator\n",
    "and generates triangular mesh automatically from given sensor locations. The resulting mesh will have a smaller area as \n",
    "unknowns to be inverted, as well as a background part with values prolongated outside from the parametric domain by PyGIMLi.\n",
    "You will see an example plot in the code cell below. \n",
    "\n",
    "Use `imesh_rect = inversion_mesh_rect(ert_manager)` to initislise a rectangular mesh. The grid mesh is created from these x and y\n",
    "nodes: `x = np.linspace(start=-5, stop=55, num=61)`, and `y = np.linspace(start=-20,stop=0,num=10)`. And again, there's a triangular\n",
    "background with values prolongated outside from the parametric domain by PyGIMLi.\n",
    "\n",
    "Here we first demonstrate how to use a *triangular mesh*. Note that this makes the inversion problem under-determined."
   ]
  },
  {
   "cell_type": "code",
   "execution_count": 6,
   "id": "9f471f7f",
   "metadata": {
    "execution": {
     "iopub.execute_input": "2022-09-14T01:13:32.975566Z",
     "iopub.status.busy": "2022-09-14T01:13:32.975363Z",
     "iopub.status.idle": "2022-09-14T01:13:33.259637Z",
     "shell.execute_reply": "2022-09-14T01:13:33.259248Z"
    },
    "papermill": {
     "duration": 0.291429,
     "end_time": "2022-09-14T01:13:33.260613",
     "exception": false,
     "start_time": "2022-09-14T01:13:32.969184",
     "status": "completed"
    },
    "tags": []
   },
   "outputs": [
    {
     "name": "stderr",
     "output_type": "stream",
     "text": [
      "14/09/22 - 11:13:32 - pyGIMLi - \u001b[0;32;49mINFO\u001b[0m - Found 2 regions.\n"
     ]
    },
    {
     "name": "stderr",
     "output_type": "stream",
     "text": [
      "14/09/22 - 11:13:32 - pyGIMLi - \u001b[0;32;49mINFO\u001b[0m - Region with smallest marker (1) set to background\n"
     ]
    },
    {
     "data": {
      "text/plain": [
       "Text(0.5, 1.0, 'Mesh used for inversion')"
      ]
     },
     "execution_count": 6,
     "metadata": {},
     "output_type": "execute_result"
    },
    {
     "data": {
      "image/png": "[encoded data removed]",
      "text/plain": [
       "<Figure size 640x480 with 2 Axes>"
      ]
     },
     "metadata": {},
     "output_type": "display_data"
    }
   ],
   "source": [
    "inv_mesh = inversion_mesh(ert_manager)\n",
    "ax = pygimli.show(inv_mesh, showMesh=True, markers=True)\n",
    "ax[0].set_title(\"Mesh used for inversion\")"
   ]
  },
  {
   "cell_type": "markdown",
   "id": "e19954d9",
   "metadata": {
    "papermill": {
     "duration": 0.011485,
     "end_time": "2022-09-14T01:13:33.279152",
     "exception": false,
     "start_time": "2022-09-14T01:13:33.267667",
     "status": "completed"
    },
    "tags": []
   },
   "source": [
    "[This folder](https://github.com/inlab-geo/cofi-examples/tree/main/notebooks/pygimli_ert)\n",
    "contains examples scripts that run inversion for triangular or rectangular meshes, with \n",
    "different inversion approaches."
   ]
  },
  {
   "cell_type": "markdown",
   "id": "2dfd82fe",
   "metadata": {
    "papermill": {
     "duration": 0.016007,
     "end_time": "2022-09-14T01:13:33.320053",
     "exception": false,
     "start_time": "2022-09-14T01:13:33.304046",
     "status": "completed"
    },
    "tags": []
   },
   "source": [
    "With the inversion mesh created, we now define a starting model, forward operator and \n",
    "weighting matrix for regularisation using PyGIMLi.\n",
    "\n",
    "Recall that both our model and data will be in log space when we perform inversion."
   ]
  },
  {
   "cell_type": "code",
   "execution_count": 7,
   "id": "34ee37c0",
   "metadata": {
    "execution": {
     "iopub.execute_input": "2022-09-14T01:13:33.337567Z",
     "iopub.status.busy": "2022-09-14T01:13:33.337354Z",
     "iopub.status.idle": "2022-09-14T01:13:33.603078Z",
     "shell.execute_reply": "2022-09-14T01:13:33.602682Z"
    },
    "papermill": {
     "duration": 0.273835,
     "end_time": "2022-09-14T01:13:33.604067",
     "exception": false,
     "start_time": "2022-09-14T01:13:33.330232",
     "status": "completed"
    },
    "tags": []
   },
   "outputs": [
    {
     "name": "stderr",
     "output_type": "stream",
     "text": [
      "14/09/22 - 11:13:33 - Core - \u001b[0;33;49mWARNING\u001b[0m - Region Nr: 1  is background and should not get a model transformation.\n"
     ]
    },
    {
     "name": "stderr",
     "output_type": "stream",
     "text": [
      "14/09/22 - 11:13:33 - Core - \u001b[0;33;49mWARNING\u001b[0m - Region Nr: 1  is background and should not get a model control.\n"
     ]
    },
    {
     "name": "stderr",
     "output_type": "stream",
     "text": [
      "14/09/22 - 11:13:33 - pyGIMLi - \u001b[0;32;49mINFO\u001b[0m - Creating forward mesh from region infos.\n"
     ]
    },
    {
     "name": "stderr",
     "output_type": "stream",
     "text": [
      "14/09/22 - 11:13:33 - pyGIMLi - \u001b[0;32;49mINFO\u001b[0m - Creating refined mesh (H2) to solve forward task.\n"
     ]
    },
    {
     "data": {
      "text/plain": [
       "Text(0.5, 1.0, 'Starting model')"
      ]
     },
     "execution_count": 7,
     "metadata": {},
     "output_type": "execute_result"
    },
    {
     "data": {
      "image/png": "[encoded data removed]",
      "text/plain": [
       "<Figure size 640x480 with 2 Axes>"
      ]
     },
     "metadata": {},
     "output_type": "display_data"
    }
   ],
   "source": [
    "# PyGIMLi's forward operator (ERTModelling)\n",
    "forward_oprt = ert_forward_operator(ert_manager, scheme, inv_mesh)\n",
    "\n",
    "# extract regularisation matrix\n",
    "Wm = reg_matrix(forward_oprt)\n",
    "\n",
    "# initialise a starting model for inversion\n",
    "start_model, start_model_log = starting_model(ert_manager)\n",
    "ax = pygimli.show(ert_manager.paraDomain, data=start_model, label=\"$\\Omega m$\", showMesh=True)\n",
    "ax[0].set_title(\"Starting model\")"
   ]
  },
  {
   "cell_type": "markdown",
   "id": "5533096b",
   "metadata": {
    "papermill": {
     "duration": 0.011475,
     "end_time": "2022-09-14T01:13:33.648019",
     "exception": false,
     "start_time": "2022-09-14T01:13:33.636544",
     "status": "completed"
    },
    "tags": []
   },
   "source": [
    "CoFI and other inference packages require a set of functions that provide the misfit, the jacobian the residual within the case of scipy standardised interfaces. All these functions are defined in the library file `pygimli_ert_lib.py`, so open this file if you'd like to find out the details. These functions are:\n",
    "\n",
    "- `get_response`\n",
    "- `get_jacobian`\n",
    "- `get_residuals`\n",
    "- `get_data_misfit`\n",
    "- `get_regularisation`\n",
    "- `get_gradient`\n",
    "- `get_hessian`"
   ]
  },
  {
   "cell_type": "markdown",
   "id": "e506031c",
   "metadata": {
    "papermill": {
     "duration": 0.025626,
     "end_time": "2022-09-14T01:13:33.689950",
     "exception": false,
     "start_time": "2022-09-14T01:13:33.664324",
     "status": "completed"
    },
    "tags": []
   },
   "source": [
    "With all the above forward operations set up with PyGIMLi, we now define the problem in `cofi`\n",
    "by setting the problem information for a `BaseProblem` object."
   ]
  },
  {
   "cell_type": "code",
   "execution_count": 8,
   "id": "975514c6",
   "metadata": {
    "execution": {
     "iopub.execute_input": "2022-09-14T01:13:33.708465Z",
     "iopub.status.busy": "2022-09-14T01:13:33.708249Z",
     "iopub.status.idle": "2022-09-14T01:13:33.712045Z",
     "shell.execute_reply": "2022-09-14T01:13:33.711685Z"
    },
    "papermill": {
     "duration": 0.015366,
     "end_time": "2022-09-14T01:13:33.712837",
     "exception": false,
     "start_time": "2022-09-14T01:13:33.697471",
     "status": "completed"
    },
    "tags": []
   },
   "outputs": [],
   "source": [
    "# hyperparameters\n",
    "lamda = 0.0001\n",
    "\n",
    "# CoFI - define BaseProblem\n",
    "ert_problem = BaseProblem()\n",
    "ert_problem.name = \"Electrical Resistivity Tomography defined through PyGIMLi\"\n",
    "ert_problem.set_forward(get_response, args=[forward_oprt])\n",
    "ert_problem.set_jacobian(get_jacobian, args=[forward_oprt])\n",
    "ert_problem.set_residual(get_residual, args=[log_data, forward_oprt])\n",
    "ert_problem.set_data_misfit(get_data_misfit, args=[log_data, forward_oprt, data_cov_inv])\n",
    "ert_problem.set_regularisation(get_regularisation, args=[Wm, lamda])\n",
    "ert_problem.set_gradient(get_gradient, args=[log_data, forward_oprt, Wm, lamda, data_cov_inv])\n",
    "ert_problem.set_hessian(get_hessian, args=[log_data, forward_oprt, Wm, lamda, data_cov_inv])\n",
    "ert_problem.set_initial_model(start_model_log)"
   ]
  },
  {
   "cell_type": "markdown",
   "id": "42050d98",
   "metadata": {
    "papermill": {
     "duration": 0.007426,
     "end_time": "2022-09-14T01:13:33.727782",
     "exception": false,
     "start_time": "2022-09-14T01:13:33.720356",
     "status": "completed"
    },
    "tags": []
   },
   "source": [
    "Review what information is included in the `BaseProblem` object:"
   ]
  },
  {
   "cell_type": "code",
   "execution_count": 9,
   "id": "dd8156b3",
   "metadata": {
    "execution": {
     "iopub.execute_input": "2022-09-14T01:13:33.743557Z",
     "iopub.status.busy": "2022-09-14T01:13:33.743362Z",
     "iopub.status.idle": "2022-09-14T01:13:33.745987Z",
     "shell.execute_reply": "2022-09-14T01:13:33.745642Z"
    },
    "papermill": {
     "duration": 0.011508,
     "end_time": "2022-09-14T01:13:33.746792",
     "exception": false,
     "start_time": "2022-09-14T01:13:33.735284",
     "status": "completed"
    },
    "tags": []
   },
   "outputs": [
    {
     "name": "stdout",
     "output_type": "stream",
     "text": [
      "========================================================================================\n",
      "Summary for inversion problem: Electrical Resistivity Tomography defined through PyGIMLi\n",
      "========================================================================================\n",
      "Model shape: (831,)\n",
      "----------------------------------------------------------------------------------------\n",
      "List of functions/properties set by you:\n",
      "['gradient', 'hessian', 'residual', 'jacobian', 'data_misfit', 'regularisation', 'regularisation_factor', 'forward', 'initial_model', 'model_shape']\n",
      "----------------------------------------------------------------------------------------\n",
      "List of functions/properties created based on what you have provided:\n",
      "['objective', 'hessian_times_vector', 'jacobian_times_vector']\n",
      "----------------------------------------------------------------------------------------\n",
      "List of functions/properties not set by you:\n",
      "['objective', 'log_posterior', 'log_posterior_with_blobs', 'log_likelihood', 'log_prior', 'hessian_times_vector', 'jacobian_times_vector', 'regularisation_matrix', 'data', 'data_covariance', 'data_covariance_inv', 'walkers_starting_pos', 'blobs_dtype', 'bounds', 'constraints']\n"
     ]
    }
   ],
   "source": [
    "ert_problem.summary()"
   ]
  },
  {
   "cell_type": "markdown",
   "id": "69e178a0",
   "metadata": {
    "papermill": {
     "duration": 0.007845,
     "end_time": "2022-09-14T01:13:33.762359",
     "exception": false,
     "start_time": "2022-09-14T01:13:33.754514",
     "status": "completed"
    },
    "tags": []
   },
   "source": [
    "## 2. Define the inversion options and run\n",
    "\n",
    "### 2.1 SciPy's optimiser ([trust-exact](https://docs.scipy.org/doc/scipy/reference/optimize.minimize-trustexact.html#optimize-minimize-trustexact))"
   ]
  },
  {
   "cell_type": "code",
   "execution_count": 10,
   "id": "bbee9caa",
   "metadata": {
    "execution": {
     "iopub.execute_input": "2022-09-14T01:13:33.778437Z",
     "iopub.status.busy": "2022-09-14T01:13:33.778244Z",
     "iopub.status.idle": "2022-09-14T01:13:33.780725Z",
     "shell.execute_reply": "2022-09-14T01:13:33.780385Z"
    },
    "papermill": {
     "duration": 0.011424,
     "end_time": "2022-09-14T01:13:33.781552",
     "exception": false,
     "start_time": "2022-09-14T01:13:33.770128",
     "status": "completed"
    },
    "tags": []
   },
   "outputs": [
    {
     "name": "stdout",
     "output_type": "stream",
     "text": [
      "Based on what you've provided so far, here are possible solvers:\n",
      "{\n",
      "    \"optimisation\": [\n",
      "        \"scipy.optimize.minimize\",\n",
      "        \"scipy.optimize.least_squares\"\n",
      "    ],\n",
      "    \"linear least square\": [],\n",
      "    \"sampling\": []\n",
      "}\n"
     ]
    }
   ],
   "source": [
    "ert_problem.suggest_solvers();"
   ]
  },
  {
   "cell_type": "code",
   "execution_count": 11,
   "id": "0a0066cc",
   "metadata": {
    "execution": {
     "iopub.execute_input": "2022-09-14T01:13:33.821767Z",
     "iopub.status.busy": "2022-09-14T01:13:33.821576Z",
     "iopub.status.idle": "2022-09-14T01:13:33.823857Z",
     "shell.execute_reply": "2022-09-14T01:13:33.823519Z"
    },
    "papermill": {
     "duration": 0.028188,
     "end_time": "2022-09-14T01:13:33.824656",
     "exception": false,
     "start_time": "2022-09-14T01:13:33.796468",
     "status": "completed"
    },
    "tags": []
   },
   "outputs": [],
   "source": [
    "inv_options_scipy = InversionOptions()\n",
    "inv_options_scipy.set_tool(\"scipy.optimize.minimize\")\n",
    "inv_options_scipy.set_params(method=\"trust-exact\")"
   ]
  },
  {
   "cell_type": "markdown",
   "id": "bdfc8266",
   "metadata": {
    "papermill": {
     "duration": 0.024567,
     "end_time": "2022-09-14T01:13:33.856801",
     "exception": false,
     "start_time": "2022-09-14T01:13:33.832234",
     "status": "completed"
    },
    "tags": []
   },
   "source": [
    "Review what's been defined for the inversion we are about to run:"
   ]
  },
  {
   "cell_type": "code",
   "execution_count": 12,
   "id": "58b9f7d7",
   "metadata": {
    "execution": {
     "iopub.execute_input": "2022-09-14T01:13:33.888064Z",
     "iopub.status.busy": "2022-09-14T01:13:33.887865Z",
     "iopub.status.idle": "2022-09-14T01:13:33.890238Z",
     "shell.execute_reply": "2022-09-14T01:13:33.889892Z"
    },
    "papermill": {
     "duration": 0.026231,
     "end_time": "2022-09-14T01:13:33.891056",
     "exception": false,
     "start_time": "2022-09-14T01:13:33.864825",
     "status": "completed"
    },
    "tags": []
   },
   "outputs": [
    {
     "name": "stdout",
     "output_type": "stream",
     "text": [
      "=============================\n",
      "Summary for inversion options\n",
      "=============================\n",
      "Solving method: None set\n",
      "Use `suggest_solving_methods()` to check available solving methods.\n",
      "-----------------------------\n",
      "Backend tool: `scipy.optimize.minimize` - SciPy's optimisers that minimises a scalar function with respect to one or more variables, check SciPy's documentation page for a list of methods\n",
      "References: ['https://docs.scipy.org/doc/scipy/reference/generated/scipy.optimize.minimize.html']\n",
      "Use `suggest_tools()` to check available backend tools.\n",
      "-----------------------------\n",
      "Solver-specific parameters: \n",
      "method = trust-exact\n",
      "Use `suggest_solver_params()` to check required/optional solver-specific parameters.\n"
     ]
    }
   ],
   "source": [
    "inv_options_scipy.summary()"
   ]
  },
  {
   "cell_type": "code",
   "execution_count": 13,
   "id": "1949bafa",
   "metadata": {
    "execution": {
     "iopub.execute_input": "2022-09-14T01:13:33.906962Z",
     "iopub.status.busy": "2022-09-14T01:13:33.906783Z",
     "iopub.status.idle": "2022-09-14T01:17:20.254408Z",
     "shell.execute_reply": "2022-09-14T01:17:20.252783Z"
    },
    "papermill": {
     "duration": 226.373735,
     "end_time": "2022-09-14T01:17:20.272436",
     "exception": false,
     "start_time": "2022-09-14T01:13:33.898701",
     "status": "completed"
    },
    "tags": []
   },
   "outputs": [
    {
     "name": "stderr",
     "output_type": "stream",
     "text": [
      "/home/jiawen/opt/mambaforge/envs/cofi_dev/lib/python3.10/site-packages/scipy/optimize/_minimize.py:561: RuntimeWarning: Method trust-exact does not use Hessian-vector product information (hessp).\n",
      "  warn('Method %s does not use Hessian-vector product '\n"
     ]
    },
    {
     "name": "stdout",
     "output_type": "stream",
     "text": [
      "============================\n",
      "Summary for inversion result\n",
      "============================\n",
      "FAILURE\n",
      "----------------------------\n",
      "status: 2\n",
      "fun: 4.960150890082124\n",
      "jac: [-5.30112881e-06  3.79735804e-06 -8.60678515e-06 -9.29703412e-07\n",
      " -1.35212257e-07 -6.92638109e-06 -4.06051481e-05 -8.70987717e-07\n",
      " -2.90934300e-06  2.12038820e-05  1.20998195e-05 -2.78334060e-06\n",
      " -9.50496144e-07 -4.45354803e-06 -1.91308424e-07 -1.19127121e-05\n",
      " -1.40773563e-06  5.28114695e-06  8.94591738e-06 -2.06313916e-06\n",
      " -2.37700856e-05  4.38322305e-06  2.39064726e-06  1.85474155e-05\n",
      " -2.79459082e-05  4.65908802e-06 -8.76807851e-06 -1.05235361e-05\n",
      " -4.88682530e-06 -1.37916605e-05 -8.40502722e-07  7.33128586e-06\n",
      "  1.91645229e-05  9.23841166e-06 -8.21060621e-06  2.89024906e-06\n",
      " -2.79933975e-06  3.28224853e-06 -3.95669101e-06  4.34430941e-06\n",
      " -2.20105570e-06  4.45791863e-06  9.06964179e-06 -3.07840676e-06\n",
      "  1.96862324e-06  7.13069571e-07  5.42631525e-06 -6.27320361e-06\n",
      "  1.76465782e-06 -7.89287204e-06 -4.67028958e-06  7.72920753e-06\n",
      "  1.55266814e-05  2.68361180e-06 -3.56794378e-06  5.31585759e-06\n",
      "  1.70090725e-05  1.19268964e-05  2.92966463e-06 -9.99579785e-06\n",
      " -1.30438877e-05 -9.96737019e-06  1.72369825e-05 -9.21961600e-06\n",
      " -3.53289346e-06  1.48771659e-05  1.16893886e-05  4.23039942e-06\n",
      "  2.95784748e-06 -1.48829284e-05 -1.00869317e-05  3.89008041e-06\n",
      "  7.31759341e-06  2.67501233e-05 -2.40332525e-05  7.83503174e-06\n",
      " -4.13732320e-06 -9.02205759e-06  9.12018145e-06 -1.37530995e-05\n",
      "  9.51967602e-08 -3.84201352e-08  3.95162736e-06 -7.57422691e-06\n",
      "  1.65233781e-06 -7.35395035e-06 -1.08855908e-06 -1.15396115e-05\n",
      " -6.14004176e-06  1.10251952e-05  7.60254131e-06  5.29036297e-06\n",
      " -2.05919829e-06 -2.44027507e-06  1.58048761e-07  4.78445682e-06\n",
      "  3.58638178e-06  1.22690848e-06 -1.74019689e-06  1.05166849e-07\n",
      " -4.21734225e-06 -6.93605081e-06 -2.33591670e-06 -2.86868987e-07\n",
      " -2.17501237e-06 -4.30862521e-06  3.37583049e-07 -6.27905749e-06\n",
      "  3.18583809e-06 -6.11742258e-07 -1.32186814e-05 -1.73701039e-07\n",
      "  1.09361474e-05  2.11151336e-06  1.40703186e-06 -6.53096639e-07\n",
      " -2.64501348e-06 -1.51004943e-07  6.12338936e-07 -7.34532178e-07\n",
      "  2.59794795e-06  4.51900947e-07 -2.53949220e-07 -4.79821641e-06\n",
      "  1.52516929e-06  2.36991170e-06 -1.34827576e-07  1.26564759e-06\n",
      "  3.59345565e-06 -3.97395769e-06  1.52105809e-06 -5.07015453e-07\n",
      "  4.68205569e-06  3.10900100e-06  4.77677550e-06  7.45083352e-07\n",
      " -1.55003782e-06  2.21074906e-06  3.15204468e-06  4.81292698e-06\n",
      "  3.34072543e-06  4.89670729e-06 -6.72576753e-06 -1.88681404e-07\n",
      "  1.91367240e-06 -4.00277606e-06  2.42015982e-06 -1.16585637e-05\n",
      "  4.24907565e-06  5.32727609e-06  3.04488593e-06  2.73074819e-06\n",
      " -1.81118820e-06  1.00650097e-06 -5.28761598e-07 -3.67603998e-06\n",
      " -6.12914813e-06  2.58569817e-06  7.96467635e-06  4.50880767e-06\n",
      "  4.37082235e-06  1.70116604e-05  3.77142864e-07 -3.52540601e-06\n",
      "  1.21831816e-05  4.10152267e-06  1.32808438e-06 -9.07767834e-06\n",
      " -1.04500000e-05  1.37528738e-06  1.06994757e-05  2.49989854e-06\n",
      " -4.19131929e-06 -3.50136511e-06 -1.00095158e-05  2.21952951e-06\n",
      " -1.00690466e-05  2.20247542e-06  1.25996157e-05 -6.65192620e-06\n",
      " -1.55566731e-08  2.71108608e-06  1.46724932e-05  4.15537476e-06\n",
      "  1.88975441e-05  1.68260920e-05 -4.55328511e-06  1.04001662e-07\n",
      "  9.35944498e-07  3.40885454e-06  5.72672286e-06  2.27830626e-06\n",
      "  3.91297781e-06  4.58876494e-07 -2.08973769e-06 -8.79501715e-06\n",
      "  5.55977481e-07 -4.57293661e-06 -2.16512001e-06 -1.18913729e-06\n",
      "  5.02056135e-06 -5.52781699e-06  7.57397017e-07 -6.08977784e-06\n",
      " -1.11977278e-05 -2.17694380e-06  7.31256737e-07  9.99419890e-07\n",
      " -7.02062649e-06  1.33651738e-06 -2.46683053e-07  5.35783292e-06\n",
      " -2.08215620e-06 -1.83537916e-05 -1.40292382e-06 -1.02291028e-05\n",
      " -8.36519370e-06 -9.17451965e-06 -1.09401917e-05 -4.04200256e-06\n",
      " -7.76583391e-06 -9.07094346e-06  1.56090450e-05 -5.33492414e-07\n",
      " -7.37045198e-06 -7.50681881e-06  3.78199419e-06 -6.87551611e-06\n",
      " -3.85939975e-06  7.36892116e-08  2.50758939e-06  2.46398093e-06\n",
      "  3.37059592e-06  2.13195270e-06 -1.66027394e-06 -4.96652947e-06\n",
      "  1.83014973e-05 -1.73673248e-06  6.13033602e-06  2.40371764e-06\n",
      " -1.88482923e-06 -1.37656761e-05 -1.45878230e-05  6.09478038e-06\n",
      "  2.27388246e-06  9.32330609e-07  4.14674162e-06 -1.43197947e-06\n",
      "  4.19148681e-06 -8.73243652e-08  1.17064758e-06  2.40064422e-06\n",
      " -2.77832651e-07 -7.04104654e-07  3.40320788e-07  2.49442937e-06\n",
      "  1.85635954e-06  1.62221609e-06  2.21456052e-06  1.38241403e-06\n",
      "  1.17671065e-06 -1.06091931e-06  1.00928628e-06 -8.64217300e-07\n",
      " -3.49859362e-06  1.32924522e-06  2.63652250e-06  1.50898309e-06\n",
      "  1.31895686e-06 -1.13986400e-06 -6.55090407e-06  4.77261574e-06\n",
      " -4.36592977e-06 -1.95375587e-06  2.59586232e-06 -3.48887180e-06\n",
      " -4.91420070e-06 -3.29937063e-06  4.48054057e-06 -4.49307924e-06\n",
      "  3.00723964e-05 -3.25859644e-06 -8.94860860e-06 -1.74663274e-06\n",
      " -2.34103137e-06 -8.82601735e-06  1.68438528e-06  2.18003144e-06\n",
      "  1.52867835e-06  1.18348033e-06  1.11804303e-06 -1.79688459e-06\n",
      "  1.43367649e-06 -1.31514289e-06 -3.21524837e-06  8.95307003e-08\n",
      " -1.82594350e-06 -3.47937952e-06 -2.63722799e-07  1.69110850e-06\n",
      " -1.30407677e-06 -5.66066147e-07 -6.48367067e-06 -1.24701713e-06\n",
      "  5.32836449e-06 -5.59290156e-06  1.03727459e-05 -8.09116597e-06\n",
      "  9.36018097e-07  1.71259818e-06 -3.41029553e-06  1.81925336e-06\n",
      " -2.81993384e-06  6.06591363e-06 -2.32463821e-06 -3.91534780e-06\n",
      " -4.99871124e-06  2.45450986e-06 -5.94815975e-06 -8.78200984e-06\n",
      "  1.09770686e-06  2.39001270e-06 -1.71857757e-06  1.01556399e-05\n",
      "  6.73464547e-07  3.03156695e-06 -1.49309397e-06 -1.82778318e-06\n",
      " -1.64385308e-06  2.74757038e-06  3.77996029e-06  1.50874306e-06\n",
      "  4.04827480e-06 -1.25968852e-06  2.32370492e-08  2.26051135e-05\n",
      "  1.69377985e-06  3.32141450e-06  1.75133620e-06 -1.34079096e-06\n",
      " -6.06951171e-06 -2.68368855e-06 -6.36304961e-07  1.26402648e-07\n",
      " -2.48448383e-07 -2.35055902e-07 -5.22040752e-06  1.43857571e-06\n",
      " -2.16928657e-06  1.28198427e-06  1.14546386e-07 -1.37347499e-06\n",
      " -1.77892663e-06 -1.07044094e-05 -7.28048597e-06 -8.17691287e-06\n",
      "  4.47222731e-06 -4.12272726e-06  2.33492460e-06  2.55775449e-06\n",
      "  1.91200400e-06 -1.76988776e-06 -5.78501535e-06 -4.36559324e-06\n",
      "  1.74212872e-05 -5.24420850e-06  1.91690112e-06  8.67968754e-07\n",
      "  4.45063388e-05 -5.11710426e-06 -4.79770428e-07  4.52853880e-06\n",
      "  2.48970139e-06  4.63830920e-06  3.34311731e-06  1.66830023e-06\n",
      " -1.81391782e-06  1.61373647e-06  5.43914196e-06 -1.20021009e-06\n",
      "  2.01544435e-06 -8.75608520e-06 -4.81787073e-06 -3.62718921e-06\n",
      " -8.39517838e-07  1.25542808e-05  1.79950998e-05  5.51208679e-06\n",
      " -1.26519158e-06 -4.20755115e-06  5.30508162e-06 -1.16492368e-06\n",
      "  5.38322103e-05  8.61233534e-06  1.06971010e-05 -1.22801577e-05\n",
      " -2.89441037e-06  1.53282259e-06  1.32555993e-05 -4.97932176e-06\n",
      " -4.16858058e-06 -4.34306307e-07 -2.93128096e-06 -4.71280983e-07\n",
      " -2.20533680e-06  7.45384451e-06 -6.63881594e-06  6.09773193e-07\n",
      " -2.77898294e-06  9.71536279e-07 -9.67968746e-07 -3.22477001e-06\n",
      " -1.27305410e-06 -1.36475507e-06  2.04031683e-06  1.42209736e-06\n",
      " -1.76934059e-06  1.87686569e-06 -2.74577794e-07  3.34434749e-07\n",
      " -2.51933228e-06  2.11004170e-06 -2.36628598e-06 -3.09904340e-06\n",
      "  1.57091913e-06 -1.27526784e-06 -2.17075481e-06  2.87898517e-06\n",
      " -1.89896820e-06 -1.26752165e-06 -5.19839303e-06  5.82251302e-07\n",
      " -5.05142599e-06  3.52465098e-06 -1.54684559e-06 -1.98421441e-06\n",
      " -6.27716261e-06 -1.76311868e-06  9.82571706e-06  6.28662801e-07\n",
      "  3.22122917e-06 -2.62157391e-07 -3.67855554e-06 -6.67297029e-06\n",
      " -3.64695452e-07  2.06369909e-06 -1.76636760e-06 -1.22284542e-05\n",
      " -4.50731665e-05 -7.53718718e-06  1.37219920e-06 -1.80388864e-06\n",
      " -2.44254307e-05 -1.64484373e-06 -7.83715214e-06 -5.70082485e-06\n",
      "  4.62925971e-06  3.34041911e-06 -2.18280203e-06 -5.05720234e-06\n",
      " -3.71363572e-06  3.66823313e-06 -7.77927018e-05  3.35334920e-05\n",
      " -9.62665550e-06 -5.92464238e-06  6.23451856e-06 -3.67304721e-06\n",
      "  2.63353946e-06 -6.30719350e-06  8.17096244e-06 -3.16420575e-06\n",
      " -3.11970506e-06  3.57135857e-06  1.03767336e-06  3.84086053e-06\n",
      " -4.24045121e-07  4.78528367e-06 -5.29107631e-06  4.48647994e-06\n",
      "  4.55232177e-06 -2.07993395e-06 -5.29351335e-06 -4.32744584e-05\n",
      "  1.69428158e-06 -2.30517266e-06  5.97339672e-06  8.74375305e-06\n",
      "  4.58769683e-05  2.45921698e-05 -6.89665801e-07  2.39168527e-06\n",
      " -4.49495611e-06 -5.10668267e-06  4.72379348e-06 -1.36046717e-06\n",
      "  2.61136209e-06 -4.30248918e-06  6.68603405e-07  2.72105367e-06\n",
      " -3.94318274e-06  1.97329143e-06  1.68274430e-06 -3.71041157e-06\n",
      "  8.52066714e-07  5.42642600e-06  9.02641126e-06  4.29490752e-08\n",
      " -5.95387402e-06 -3.81733372e-06 -1.19309654e-04  5.00177623e-06\n",
      " -2.55486321e-05 -5.99654445e-05 -5.14898647e-06  2.73530735e-06\n",
      "  1.84133719e-06  5.24054091e-06 -7.66513752e-06  2.12268446e-05\n",
      " -1.28710676e-04  5.35808496e-06 -7.90707471e-05 -2.18605088e-05\n",
      " -1.07809631e-04  3.10926158e-05 -2.30773667e-05 -5.77276727e-05\n",
      " -5.86550240e-05 -1.80052281e-04 -4.16847208e-05 -1.24897917e-04\n",
      "  4.87083354e-06  4.09961321e-05 -1.07223231e-04 -1.43106037e-04\n",
      " -3.25294087e-05  6.85637178e-05 -8.53517158e-05 -1.74550676e-04\n",
      " -1.83714813e-04  1.81661587e-05 -7.07418466e-05 -1.62886500e-05\n",
      "  2.40719228e-06 -4.67832937e-06 -1.37078233e-06  1.64787140e-05\n",
      "  9.46083331e-06 -9.43863948e-06 -4.90201010e-06  6.09472111e-06\n",
      "  1.32758504e-05 -3.08159246e-06 -3.54284447e-06 -4.89022262e-07\n",
      " -3.23614591e-06  3.10323060e-06 -1.09800485e-04 -7.27869676e-05\n",
      " -1.34116898e-04 -5.13647595e-06 -5.36124412e-06 -1.12923335e-04\n",
      " -1.50924762e-05  4.51919862e-06 -2.65246643e-05  4.28598567e-06\n",
      " -7.21066363e-06 -1.38921615e-05 -1.58075900e-05 -1.64763964e-05\n",
      " -4.46818626e-06 -1.01603470e-05 -1.23898836e-05  3.22300573e-05\n",
      " -2.65364092e-05 -3.04664034e-05  1.15622094e-05  1.77498624e-05\n",
      " -4.30583621e-06 -7.99084984e-06  4.73099880e-06  9.55878462e-06\n",
      " -2.21818100e-06 -2.23947396e-06 -1.60102207e-04 -1.37980671e-04\n",
      "  4.20902046e-06  1.16632607e-05  1.08314189e-05  9.02166829e-06\n",
      "  3.40288327e-06  7.29870082e-06  1.18625987e-05  1.40826033e-05\n",
      "  3.74568343e-05  2.53736962e-05  2.04226526e-05  1.44581020e-05\n",
      " -7.13303248e-06  2.44742870e-05 -1.08332131e-05 -3.86060684e-05\n",
      " -1.53062892e-04 -1.46828144e-04  1.89376262e-06 -1.55940231e-06\n",
      "  7.82592226e-06  1.66441682e-05  2.17457124e-05  1.08744109e-05\n",
      "  1.93384848e-05  1.56268045e-05 -1.49953399e-04  5.99231705e-07\n",
      " -3.25095665e-06 -6.33205790e-06  3.01035118e-05 -1.49359188e-05\n",
      " -8.16666994e-05 -8.91754782e-05  1.08996111e-05  1.13139622e-05\n",
      "  1.96777583e-05  1.57700327e-05 -5.79395601e-06 -7.55543604e-07\n",
      " -5.73102691e-06 -1.01797629e-06 -5.10899437e-06 -5.91365752e-06\n",
      " -1.14828736e-04 -3.94602551e-05 -2.75792924e-06  1.16802880e-05\n",
      " -9.17523804e-05  2.87075652e-05 -3.43139555e-06 -1.00546208e-05\n",
      " -2.84864310e-06 -5.75570115e-06 -6.49926842e-06  9.05360059e-08\n",
      " -1.04120874e-08  3.81013780e-06  5.92325799e-05  1.02862087e-05\n",
      " -1.78103788e-06 -4.22361140e-06  2.00286779e-06 -3.08704044e-06\n",
      " -5.42311728e-06 -6.27669287e-06  8.89588985e-06  1.18096694e-06\n",
      "  2.78132378e-05  2.04574093e-05 -2.05178029e-06 -1.79264364e-06\n",
      " -6.60962371e-06 -6.44366671e-06 -3.54288450e-06 -2.46394211e-06\n",
      " -2.08293558e-06 -1.32257252e-05  7.07236078e-06  1.45503099e-05\n",
      "  6.20778360e-06 -3.76496941e-06 -9.51312473e-06  2.11771689e-05\n",
      "  8.30224466e-06  3.04219306e-05 -9.38358864e-06 -4.70386774e-06\n",
      " -4.65420399e-05 -1.08054436e-06 -4.95698827e-06 -4.60751602e-06\n",
      " -3.48250331e-05  6.09891095e-05 -9.06928050e-06 -6.95176903e-06\n",
      " -1.05684111e-05 -8.44495286e-06  7.38325026e-07  3.95738584e-05\n",
      "  2.34884140e-05  3.49387403e-05 -4.77772837e-06  5.59578902e-07\n",
      "  3.70774346e-05  1.91220427e-05 -1.14187337e-05 -1.25099459e-05\n",
      " -9.39117202e-05  1.02686873e-05 -2.23936456e-06 -1.28092417e-05\n",
      "  9.43326621e-06  1.91541925e-05 -9.75550575e-06  3.32844184e-05\n",
      " -8.31564222e-05 -1.54133029e-04  2.43660928e-05  4.29490349e-05\n",
      " -1.09844223e-04 -5.25362702e-05 -9.99592588e-07  1.55282290e-05\n",
      "  1.40025291e-06  8.29321615e-06  1.69911307e-06  2.86758580e-05\n",
      " -6.93885836e-05 -3.71458849e-05  7.00426577e-07 -7.94391347e-06\n",
      "  9.68357284e-06  1.16463101e-05  1.39599681e-06 -4.92107690e-06\n",
      "  1.77117966e-05 -6.20312068e-05  7.36612650e-05  5.47631590e-06\n",
      "  1.42719598e-05 -9.51910479e-05 -6.58527126e-05 -9.52788296e-05\n",
      "  2.09362632e-05  9.14176519e-05  1.65147523e-05 -6.36545039e-05\n",
      "  4.76717409e-05  1.69289601e-05  8.78822202e-06  2.80750547e-05\n",
      "  2.27876193e-05 -7.66930544e-06 -4.68745661e-06  4.53275180e-05\n",
      "  5.12491921e-05  1.60792576e-06  1.25095311e-04  7.75211574e-06\n",
      "  3.04514121e-05  2.52476493e-05 -4.28421763e-06  1.79086475e-05\n",
      " -1.58285496e-04 -5.62574752e-05  4.66494891e-05  2.19170830e-05\n",
      "  4.14104434e-05  5.57600540e-05  3.86122034e-05 -6.46314586e-06\n",
      " -2.05684054e-06  9.36357338e-06  1.01150593e-04  1.72852248e-05\n",
      "  7.06870980e-06  2.84536524e-05  1.82259119e-05  1.77739980e-05\n",
      "  4.57802294e-05  3.32331120e-05  6.27599863e-05  2.54684193e-05\n",
      "  1.40403733e-05  3.44929940e-05  9.71669902e-05  7.92276486e-05\n",
      "  5.73265903e-05  4.68557288e-05 -6.30417399e-05  2.38420680e-06\n",
      " -1.49075228e-05 -1.10150348e-05  3.40422063e-05  7.60648186e-05\n",
      "  2.05196842e-04  5.15654091e-05  3.20987805e-05  1.49647637e-05\n",
      "  1.21163148e-04  5.01169230e-05  4.56709282e-05  3.48832078e-05\n",
      "  3.87167802e-05 -2.63696407e-05  5.03799795e-05  5.91916775e-05\n",
      "  1.78063040e-04  2.43875276e-04  6.79600378e-05  4.98319312e-05\n",
      " -2.44254170e-05  2.91837611e-09  5.55470955e-06  2.55652804e-05\n",
      "  4.53777269e-05 -1.43173819e-05  9.93865382e-05  2.31450619e-04\n",
      " -5.87674666e-05  1.63434788e-05 -2.90145544e-07  3.37129818e-04\n",
      "  3.16002260e-05 -1.44921626e-05  7.23339243e-05  1.82944733e-04\n",
      "  1.22297362e-05  2.41017576e-07  1.10230708e-04  2.53455957e-04\n",
      "  3.52416361e-04  1.80847817e-04  2.89805423e-04  1.21590282e-04\n",
      "  6.43224624e-05  7.20598873e-06  4.24757203e-05  3.40203456e-06\n",
      "  3.59479791e-05  6.65366005e-05  1.05950503e-04]\n",
      "nfev: 173\n",
      "njev: 101\n",
      "nhev: 173\n",
      "nit: 171\n",
      "message: A bad approximation caused failure to predict improvement.\n",
      "hess: [[ 3.96113588e+00  5.74168141e-04  8.25715551e-04 ...  4.47851913e-04\n",
      "   8.75643853e-04  5.78260265e-03]\n",
      " [ 5.74168141e-04  2.94687429e-01  2.36108972e-05 ... -1.24619287e-04\n",
      "  -6.97665309e-04  3.02420789e-03]\n",
      " [ 8.25715551e-04  2.36108972e-05  5.73676784e-01 ...  1.19224190e-05\n",
      "  -1.44165437e-04 -6.81610093e-04]\n",
      " ...\n",
      " [ 4.47851913e-04 -1.24619287e-04  1.19224190e-05 ...  7.61398241e-03\n",
      "   6.89760784e-03  2.08680397e-02]\n",
      " [ 8.75643853e-04 -6.97665309e-04 -1.44165437e-04 ...  6.89760784e-03\n",
      "   9.71240098e-03  2.22361230e-02]\n",
      " [ 5.78260265e-03  3.02420789e-03 -6.81610093e-04 ...  2.08680397e-02\n",
      "   2.22361230e-02  1.06762041e-01]]\n",
      "model: [5.3029072  5.30272325 5.33624747 5.34504311 5.27842313 5.30615331\n",
      " 5.31235371 5.29849974 5.32367713 5.31169444 5.30578336 5.30187879\n",
      " 5.30897712 5.33520623 5.2878191  5.35483791 5.31829695 5.29404982\n",
      " 5.30074926 5.29778972 5.33189452 5.23599255 5.32704832 5.32294658\n",
      " 5.33554038 5.28401134 5.30816259 5.31621875 5.3029542  5.33432897\n",
      " 5.31159613 5.3163183  5.34360862 5.34326839 5.28769902 5.3090451\n",
      " 5.34422406 5.30392466 5.31616374 5.28483674 5.32240905 5.2714114\n",
      " 5.30442331 5.31824438 5.27751542 5.30667536 5.3060807  5.33159889\n",
      " 5.30641521 5.2950342  5.31649998 5.28501966 5.28758576 5.30992823\n",
      " 5.3288739  5.29865561 5.27644088 5.02558502 5.27990307 5.26340027\n",
      " 5.3087178  5.3011964  5.26812933 5.32492277 5.30243484 5.31057054\n",
      " 5.29886199 5.25091931 5.29847162 5.27665296 5.27400782 5.34943272\n",
      " 5.27163281 5.31762003 5.31793252 5.3094885  5.33015685 5.27203082\n",
      " 5.33570334 5.30714672 5.34353941 5.29511851 5.29649491 5.3381374\n",
      " 5.31985552 5.31142777 5.33867624 5.293963   5.30097216 5.30031806\n",
      " 5.29879735 5.31812221 5.27654454 5.32565822 5.31211032 5.29127569\n",
      " 5.29247258 5.33843807 5.29123335 5.28829354 5.30341168 5.26994719\n",
      " 5.32800258 5.30107744 5.30089268 5.28395977 5.2686327  5.36348515\n",
      " 5.29522191 5.29704912 5.29199001 5.26993031 5.31732935 5.32117805\n",
      " 5.2576574  5.31232557 5.30297877 5.28124828 5.26696597 5.31062788\n",
      " 5.31111485 5.34600531 5.32220632 5.32764163 5.30898154 5.2757311\n",
      " 5.26789532 5.32280769 5.31704722 5.29234167 5.34754545 5.32741678\n",
      " 5.29941452 5.3427045  5.30967365 5.32691857 5.31781278 5.28471731\n",
      " 5.29346065 5.2806713  5.3085691  5.29055899 5.31840892 5.31338692\n",
      " 5.32403847 5.2572816  5.32121914 5.27846531 5.31679741 5.28956862\n",
      " 5.30701543 5.30998778 5.3117568  5.30968477 5.30081889 5.31894273\n",
      " 5.33501673 5.30209924 5.23422978 5.30301516 5.28867297 5.26247203\n",
      " 5.28944635 5.29445082 5.32507857 5.25474731 5.31789247 5.3004008\n",
      " 5.28462448 5.2942754  5.30535879 5.29423493 5.30282021 5.30034759\n",
      " 5.29473663 5.27629658 5.27475545 5.3015431  5.33195496 5.30424437\n",
      " 5.30021885 5.31652176 5.30353507 5.28790081 5.32277776 5.30821969\n",
      " 5.31573597 5.28882662 5.3021489  5.30836522 5.32818004 5.29209441\n",
      " 5.32312583 5.34494075 5.29035624 5.33826257 5.28072763 5.33340492\n",
      " 5.32986101 5.3172985  5.27742633 5.29837051 5.31979489 5.31170908\n",
      " 5.31538913 5.2979304  5.29544578 5.30863245 5.26331958 5.31827117\n",
      " 5.27226327 5.33986716 5.35661311 5.30648483 5.26702816 5.29960346\n",
      " 5.32424412 5.26716969 5.26661692 5.28514562 5.29209959 5.34555023\n",
      " 5.28891284 5.30994702 5.31815002 5.31902876 5.33173991 5.34333851\n",
      " 5.34410575 5.27791263 5.32935869 5.27568158 5.27296876 5.32464593\n",
      " 5.3378634  5.31796384 5.27254983 5.29457848 5.30335982 5.30293761\n",
      " 5.28911625 5.30817883 5.32389859 5.28341666 5.2899543  5.29371656\n",
      " 5.2776948  5.28617619 5.30084578 5.29235386 5.28910344 5.32749323\n",
      " 5.34628592 5.31302293 5.31157227 5.27699428 5.31025766 5.30559577\n",
      " 5.2836416  5.31753516 5.29682784 5.32908546 5.3046099  5.29908418\n",
      " 5.31837096 5.28949245 5.31211657 5.30665956 5.30084072 5.29841187\n",
      " 5.29686639 5.30461481 5.29113805 5.30349392 5.32612877 5.30754711\n",
      " 5.30775695 5.2927712  5.31515194 5.29123389 5.34431314 5.30978237\n",
      " 5.29881017 5.26578529 5.30383774 5.30396073 5.31511623 5.30454552\n",
      " 5.30858702 5.33219227 5.30696238 5.28529228 5.27278489 5.31135045\n",
      " 5.30994164 5.32457101 5.30181589 5.29742427 5.31656313 5.27414209\n",
      " 5.28353021 5.30340038 5.3139993  5.33431022 5.33142687 5.30123649\n",
      " 5.33585787 5.373096   5.34800845 5.30029012 5.33533639 5.26978562\n",
      " 5.36764574 5.29209195 5.29700046 5.35984496 5.30068506 5.31456143\n",
      " 5.31741128 5.33842503 5.26940999 5.32773229 5.30726107 5.01903426\n",
      " 5.28339702 5.28416765 5.31934868 5.30623487 5.29191993 5.29335152\n",
      " 5.30437474 5.32538625 5.32079416 5.30308929 5.31226724 4.03245387\n",
      " 5.29421056 5.3020996  5.29445618 5.30736198 5.31858796 5.31757236\n",
      " 5.32844858 5.30187445 5.26045273 5.30569217 5.31042258 5.31317725\n",
      " 5.28281622 5.29654621 5.31035451 5.29694265 5.3100735  5.27658267\n",
      " 5.27815041 5.31927725 5.29101228 5.24654462 5.2680807  5.3322711\n",
      " 5.30328292 5.31758884 5.31347607 5.30002751 5.30765422 5.31653971\n",
      " 5.28859158 5.31802573 5.41760422 5.27991934 5.26412354 5.29804236\n",
      " 5.33637512 5.29128697 5.32243142 5.30119174 5.30203567 5.30920314\n",
      " 5.32121858 5.36323297 5.38950749 5.28515971 5.32170145 5.27477389\n",
      " 5.38112568 5.30538703 5.34004213 5.20628607 5.24079442 5.36435878\n",
      " 5.22159435 5.25367563 3.50583245 5.39545373 5.32959472 5.31619029\n",
      " 5.36002422 5.34920505 5.35776348 4.98635088 5.34220489 5.33127304\n",
      " 5.28307857 5.30320784 4.86328765 5.31629769 5.34571923 5.13126413\n",
      " 5.30589711 5.31841849 5.3130783  5.31015015 5.29461887 5.32384203\n",
      " 5.31306727 5.29089888 5.29974374 5.30181494 5.2841847  5.28836532\n",
      " 5.30355705 5.31616228 5.31093756 5.31299147 5.29014819 5.28913545\n",
      " 5.288126   5.27610536 5.3200787  5.29408376 5.29972727 5.3159323\n",
      " 5.3162347  5.32704943 5.32575674 5.32539718 5.29077942 5.30512649\n",
      " 5.29626906 5.28041816 5.32639981 5.30043056 5.30304245 5.31584146\n",
      " 5.27553266 5.28029859 5.26633561 5.31403192 5.29594575 5.28674744\n",
      " 5.31999875 5.29202494 5.36349021 5.30594286 5.29989096 5.33976851\n",
      " 5.27804258 5.30427617 5.30241085 5.27244184 5.31647829 5.30889151\n",
      " 5.35610699 5.30894843 5.29252301 5.34296349 5.28692008 5.29350769\n",
      " 5.28163061 5.2905247  5.3238448  5.30670797 5.2836795  5.27474283\n",
      " 5.3304039  5.29733465 5.28169199 5.29060926 5.28954528 5.28709022\n",
      " 5.29678101 5.30934303 5.34595107 5.41770908 5.301583   5.29984365\n",
      " 5.32396911 5.3268141  5.32358208 5.30183278 5.32918341 5.16800606\n",
      " 5.32132572 5.31913261 5.29757429 5.32315278 5.30685001 5.31654186\n",
      " 5.29650907 5.27303086 5.34723883 5.29552942 5.30175354 5.28208432\n",
      " 5.32437327 5.32173424 5.30183164 5.34121911 5.2594104  5.33648306\n",
      " 5.4196613  5.30588316 5.31614465 5.31720886 5.28551127 5.34480226\n",
      " 5.27400629 5.22417092 5.34580598 5.3053645  5.40616334 5.29911124\n",
      " 5.35353029 5.31741835 5.34346156 5.32684697 5.30291549 5.36123079\n",
      " 5.3723584  5.50004432 5.32197367 5.37934041 5.34527696 5.33684825\n",
      " 5.53442377 5.37789546 5.35876522 5.33005426 5.38136534 5.51637475\n",
      " 5.47772592 5.33654431 5.38323627 5.35245887 5.34191295 5.3442486\n",
      " 4.79772105 5.3591064  5.27439941 5.27258523 5.30296623 5.25829048\n",
      " 5.03792116 5.30559232 5.28373429 5.29158183 5.32486784 5.30229334\n",
      " 5.34911872 5.33401966 5.44090586 5.36996193 5.30732647 5.39453549\n",
      " 5.38962808 4.97075801 5.29836229 5.29354255 5.27689486 5.30658946\n",
      " 5.30107094 5.29878218 5.26393875 5.29085112 5.28440266 5.30634386\n",
      " 5.2939488  5.29604401 5.27832801 5.30227247 5.32018185 5.26851924\n",
      " 4.80165596 4.82188918 5.34513676 5.35685924 5.41504258 5.38434179\n",
      " 5.31439179 5.32290128 5.26270951 4.38563028 5.28443693 5.26320328\n",
      " 5.28327663 5.26974487 5.30339223 5.29371789 5.34175131 5.24806555\n",
      " 5.26739217 5.28695036 5.41107914 5.34574226 5.47708742 5.53074783\n",
      " 4.40664784 4.98897597 5.28241516 5.24067651 5.28321121 5.27001488\n",
      " 5.27151873 5.26536162 5.44859838 5.3107053  5.27811482 5.28608736\n",
      " 4.50829315 5.01131678 4.4487672  5.42878719 4.37875569 4.35712158\n",
      " 5.29694393 5.26534756 5.32304948 5.32718361 5.35172971 5.28508241\n",
      " 5.32789266 5.29070367 5.41190691 5.31571632 5.3079959  5.28650687\n",
      " 5.05992055 3.98803525 4.83310662 4.07602144 5.34944931 5.31720024\n",
      " 5.33669349 5.24328728 5.31085819 5.28427806 3.37653279 5.20336911\n",
      " 5.29663409 5.31988419 5.27925326 5.27862601 5.27721942 5.29462\n",
      " 5.2675179  5.26129799 5.3331938  5.29495699 5.32184215 5.33895191\n",
      " 5.33986285 5.2747388  5.29251663 5.27122826 5.24020149 5.33526057\n",
      " 5.26849174 5.31132063 5.30233436 5.29332108 5.33803936 5.29199103\n",
      " 5.26906608 5.33756116 5.28063045 5.27250911 3.30480925 5.29598512\n",
      " 5.33657516 5.25400433 5.23599159 4.49650273 5.31921839 5.32442127\n",
      " 5.31820346 5.26225652 5.2682991  5.31934423 5.28456733 5.27469584\n",
      " 5.30239159 5.30461373 5.32633282 5.18422174 5.30300804 5.27405805\n",
      " 4.49452227 5.35952142 5.33724327 5.30975896 5.23878982 5.29582766\n",
      " 5.29257861 5.22337185 5.27120126 5.48691732 5.31013634 5.34463157\n",
      " 5.38552874 5.46148516 3.34979877 4.4615677  5.35054646 5.29381459\n",
      " 5.3144542  5.2336041  5.055649   4.38040855 5.3271743  5.29055022\n",
      " 5.2508256  5.34869813 5.34543446 5.30201467 4.93471212 4.86567821\n",
      " 3.4328427  5.35503086 5.2501656  5.32490065 4.20949018 4.8455287\n",
      " 3.84886273 4.06642275 4.05457567 3.96453891 3.83849406 5.11129566\n",
      " 4.90832198 4.96373957 5.13026312 5.31501346 5.34794888 5.39112017\n",
      " 5.17390884 5.29178027 5.31234023 5.37586242 5.34152915 5.38053134\n",
      " 5.33678768 5.32367012 3.27912237 4.50210179 5.36658852 5.26108124\n",
      " 5.37547656 5.28979026 5.28629449 5.24815531 5.22082125 5.20608994\n",
      " 5.33994171 5.21019117 5.19976218 5.32881269 5.21651461 5.15239113\n",
      " 5.22718284 5.21233238 5.35355816 5.19234428 5.27079327 5.16434393\n",
      " 5.19760363 5.25744097 5.19731997 5.27785488 5.02614651 5.43143166\n",
      " 5.07521855 4.25238952 5.26129936 5.24384573 5.1621121  5.30295139\n",
      " 4.54312735 4.90193829 5.22338684 5.19721218 5.36638823 5.14195868\n",
      " 5.32321017 4.93610325 5.22756935 5.35363443 5.20654763 5.19571974\n",
      " 5.2220278  5.4148311  5.08046208 5.4088004  5.45016093 5.30532313\n",
      " 5.15428543 5.23130603 5.16368387 5.17305513 4.41879645 5.15653639\n",
      " 5.32062783 5.12586877 5.40265028 5.2121841  5.2073013  5.13144681\n",
      " 5.42961737 5.40095512 5.25659904 5.13190562 5.13861828 5.23607948\n",
      " 5.16506943 5.30988303 5.39835861 5.35036915 5.36930838 5.43474523\n",
      " 5.40907929 5.36746543 5.35069476]\n"
     ]
    }
   ],
   "source": [
    "inv = Inversion(ert_problem, inv_options_scipy)\n",
    "inv_result = inv.run()\n",
    "inv_result.summary()"
   ]
  },
  {
   "cell_type": "code",
   "execution_count": 14,
   "id": "dcb52540",
   "metadata": {
    "execution": {
     "iopub.execute_input": "2022-09-14T01:17:20.328410Z",
     "iopub.status.busy": "2022-09-14T01:17:20.328068Z",
     "iopub.status.idle": "2022-09-14T01:17:20.337435Z",
     "shell.execute_reply": "2022-09-14T01:17:20.336738Z"
    },
    "papermill": {
     "duration": 0.029942,
     "end_time": "2022-09-14T01:17:20.339212",
     "exception": false,
     "start_time": "2022-09-14T01:17:20.309270",
     "status": "completed"
    },
    "tags": []
   },
   "outputs": [
    {
     "data": {
      "text/plain": [
       "False"
      ]
     },
     "execution_count": 14,
     "metadata": {},
     "output_type": "execute_result"
    }
   ],
   "source": [
    "inv_result.success"
   ]
  },
  {
   "cell_type": "markdown",
   "id": "2c9dd8a0",
   "metadata": {
    "papermill": {
     "duration": 0.00797,
     "end_time": "2022-09-14T01:17:20.362217",
     "exception": false,
     "start_time": "2022-09-14T01:17:20.354247",
     "status": "completed"
    },
    "tags": []
   },
   "source": [
    "Plot the results:"
   ]
  },
  {
   "cell_type": "code",
   "execution_count": 15,
   "id": "fad093e3",
   "metadata": {
    "execution": {
     "iopub.execute_input": "2022-09-14T01:17:20.379253Z",
     "iopub.status.busy": "2022-09-14T01:17:20.379081Z",
     "iopub.status.idle": "2022-09-14T01:17:20.583376Z",
     "shell.execute_reply": "2022-09-14T01:17:20.582866Z"
    },
    "papermill": {
     "duration": 0.214118,
     "end_time": "2022-09-14T01:17:20.584399",
     "exception": false,
     "start_time": "2022-09-14T01:17:20.370281",
     "status": "completed"
    },
    "tags": []
   },
   "outputs": [
    {
     "name": "stdout",
     "output_type": "stream",
     "text": [
      "============================\n",
      "Summary for inversion result\n",
      "============================\n",
      "FAILURE\n",
      "----------------------------\n",
      "status: 2\n",
      "fun: 4.960150890082124\n",
      "jac: [-5.30112881e-06  3.79735804e-06 -8.60678515e-06 -9.29703412e-07\n",
      " -1.35212257e-07 -6.92638109e-06 -4.06051481e-05 -8.70987717e-07\n",
      " -2.90934300e-06  2.12038820e-05  1.20998195e-05 -2.78334060e-06\n",
      " -9.50496144e-07 -4.45354803e-06 -1.91308424e-07 -1.19127121e-05\n",
      " -1.40773563e-06  5.28114695e-06  8.94591738e-06 -2.06313916e-06\n",
      " -2.37700856e-05  4.38322305e-06  2.39064726e-06  1.85474155e-05\n",
      " -2.79459082e-05  4.65908802e-06 -8.76807851e-06 -1.05235361e-05\n",
      " -4.88682530e-06 -1.37916605e-05 -8.40502722e-07  7.33128586e-06\n",
      "  1.91645229e-05  9.23841166e-06 -8.21060621e-06  2.89024906e-06\n",
      " -2.79933975e-06  3.28224853e-06 -3.95669101e-06  4.34430941e-06\n",
      " -2.20105570e-06  4.45791863e-06  9.06964179e-06 -3.07840676e-06\n",
      "  1.96862324e-06  7.13069571e-07  5.42631525e-06 -6.27320361e-06\n",
      "  1.76465782e-06 -7.89287204e-06 -4.67028958e-06  7.72920753e-06\n",
      "  1.55266814e-05  2.68361180e-06 -3.56794378e-06  5.31585759e-06\n",
      "  1.70090725e-05  1.19268964e-05  2.92966463e-06 -9.99579785e-06\n",
      " -1.30438877e-05 -9.96737019e-06  1.72369825e-05 -9.21961600e-06\n",
      " -3.53289346e-06  1.48771659e-05  1.16893886e-05  4.23039942e-06\n",
      "  2.95784748e-06 -1.48829284e-05 -1.00869317e-05  3.89008041e-06\n",
      "  7.31759341e-06  2.67501233e-05 -2.40332525e-05  7.83503174e-06\n",
      " -4.13732320e-06 -9.02205759e-06  9.12018145e-06 -1.37530995e-05\n",
      "  9.51967602e-08 -3.84201352e-08  3.95162736e-06 -7.57422691e-06\n",
      "  1.65233781e-06 -7.35395035e-06 -1.08855908e-06 -1.15396115e-05\n",
      " -6.14004176e-06  1.10251952e-05  7.60254131e-06  5.29036297e-06\n",
      " -2.05919829e-06 -2.44027507e-06  1.58048761e-07  4.78445682e-06\n",
      "  3.58638178e-06  1.22690848e-06 -1.74019689e-06  1.05166849e-07\n",
      " -4.21734225e-06 -6.93605081e-06 -2.33591670e-06 -2.86868987e-07\n",
      " -2.17501237e-06 -4.30862521e-06  3.37583049e-07 -6.27905749e-06\n",
      "  3.18583809e-06 -6.11742258e-07 -1.32186814e-05 -1.73701039e-07\n",
      "  1.09361474e-05  2.11151336e-06  1.40703186e-06 -6.53096639e-07\n",
      " -2.64501348e-06 -1.51004943e-07  6.12338936e-07 -7.34532178e-07\n",
      "  2.59794795e-06  4.51900947e-07 -2.53949220e-07 -4.79821641e-06\n",
      "  1.52516929e-06  2.36991170e-06 -1.34827576e-07  1.26564759e-06\n",
      "  3.59345565e-06 -3.97395769e-06  1.52105809e-06 -5.07015453e-07\n",
      "  4.68205569e-06  3.10900100e-06  4.77677550e-06  7.45083352e-07\n",
      " -1.55003782e-06  2.21074906e-06  3.15204468e-06  4.81292698e-06\n",
      "  3.34072543e-06  4.89670729e-06 -6.72576753e-06 -1.88681404e-07\n",
      "  1.91367240e-06 -4.00277606e-06  2.42015982e-06 -1.16585637e-05\n",
      "  4.24907565e-06  5.32727609e-06  3.04488593e-06  2.73074819e-06\n",
      " -1.81118820e-06  1.00650097e-06 -5.28761598e-07 -3.67603998e-06\n",
      " -6.12914813e-06  2.58569817e-06  7.96467635e-06  4.50880767e-06\n",
      "  4.37082235e-06  1.70116604e-05  3.77142864e-07 -3.52540601e-06\n",
      "  1.21831816e-05  4.10152267e-06  1.32808438e-06 -9.07767834e-06\n",
      " -1.04500000e-05  1.37528738e-06  1.06994757e-05  2.49989854e-06\n",
      " -4.19131929e-06 -3.50136511e-06 -1.00095158e-05  2.21952951e-06\n",
      " -1.00690466e-05  2.20247542e-06  1.25996157e-05 -6.65192620e-06\n",
      " -1.55566731e-08  2.71108608e-06  1.46724932e-05  4.15537476e-06\n",
      "  1.88975441e-05  1.68260920e-05 -4.55328511e-06  1.04001662e-07\n",
      "  9.35944498e-07  3.40885454e-06  5.72672286e-06  2.27830626e-06\n",
      "  3.91297781e-06  4.58876494e-07 -2.08973769e-06 -8.79501715e-06\n",
      "  5.55977481e-07 -4.57293661e-06 -2.16512001e-06 -1.18913729e-06\n",
      "  5.02056135e-06 -5.52781699e-06  7.57397017e-07 -6.08977784e-06\n",
      " -1.11977278e-05 -2.17694380e-06  7.31256737e-07  9.99419890e-07\n",
      " -7.02062649e-06  1.33651738e-06 -2.46683053e-07  5.35783292e-06\n",
      " -2.08215620e-06 -1.83537916e-05 -1.40292382e-06 -1.02291028e-05\n",
      " -8.36519370e-06 -9.17451965e-06 -1.09401917e-05 -4.04200256e-06\n",
      " -7.76583391e-06 -9.07094346e-06  1.56090450e-05 -5.33492414e-07\n",
      " -7.37045198e-06 -7.50681881e-06  3.78199419e-06 -6.87551611e-06\n",
      " -3.85939975e-06  7.36892116e-08  2.50758939e-06  2.46398093e-06\n",
      "  3.37059592e-06  2.13195270e-06 -1.66027394e-06 -4.96652947e-06\n",
      "  1.83014973e-05 -1.73673248e-06  6.13033602e-06  2.40371764e-06\n",
      " -1.88482923e-06 -1.37656761e-05 -1.45878230e-05  6.09478038e-06\n",
      "  2.27388246e-06  9.32330609e-07  4.14674162e-06 -1.43197947e-06\n",
      "  4.19148681e-06 -8.73243652e-08  1.17064758e-06  2.40064422e-06\n",
      " -2.77832651e-07 -7.04104654e-07  3.40320788e-07  2.49442937e-06\n",
      "  1.85635954e-06  1.62221609e-06  2.21456052e-06  1.38241403e-06\n",
      "  1.17671065e-06 -1.06091931e-06  1.00928628e-06 -8.64217300e-07\n",
      " -3.49859362e-06  1.32924522e-06  2.63652250e-06  1.50898309e-06\n",
      "  1.31895686e-06 -1.13986400e-06 -6.55090407e-06  4.77261574e-06\n",
      " -4.36592977e-06 -1.95375587e-06  2.59586232e-06 -3.48887180e-06\n",
      " -4.91420070e-06 -3.29937063e-06  4.48054057e-06 -4.49307924e-06\n",
      "  3.00723964e-05 -3.25859644e-06 -8.94860860e-06 -1.74663274e-06\n",
      " -2.34103137e-06 -8.82601735e-06  1.68438528e-06  2.18003144e-06\n",
      "  1.52867835e-06  1.18348033e-06  1.11804303e-06 -1.79688459e-06\n",
      "  1.43367649e-06 -1.31514289e-06 -3.21524837e-06  8.95307003e-08\n",
      " -1.82594350e-06 -3.47937952e-06 -2.63722799e-07  1.69110850e-06\n",
      " -1.30407677e-06 -5.66066147e-07 -6.48367067e-06 -1.24701713e-06\n",
      "  5.32836449e-06 -5.59290156e-06  1.03727459e-05 -8.09116597e-06\n",
      "  9.36018097e-07  1.71259818e-06 -3.41029553e-06  1.81925336e-06\n",
      " -2.81993384e-06  6.06591363e-06 -2.32463821e-06 -3.91534780e-06\n",
      " -4.99871124e-06  2.45450986e-06 -5.94815975e-06 -8.78200984e-06\n",
      "  1.09770686e-06  2.39001270e-06 -1.71857757e-06  1.01556399e-05\n",
      "  6.73464547e-07  3.03156695e-06 -1.49309397e-06 -1.82778318e-06\n",
      " -1.64385308e-06  2.74757038e-06  3.77996029e-06  1.50874306e-06\n",
      "  4.04827480e-06 -1.25968852e-06  2.32370492e-08  2.26051135e-05\n",
      "  1.69377985e-06  3.32141450e-06  1.75133620e-06 -1.34079096e-06\n",
      " -6.06951171e-06 -2.68368855e-06 -6.36304961e-07  1.26402648e-07\n",
      " -2.48448383e-07 -2.35055902e-07 -5.22040752e-06  1.43857571e-06\n",
      " -2.16928657e-06  1.28198427e-06  1.14546386e-07 -1.37347499e-06\n",
      " -1.77892663e-06 -1.07044094e-05 -7.28048597e-06 -8.17691287e-06\n",
      "  4.47222731e-06 -4.12272726e-06  2.33492460e-06  2.55775449e-06\n",
      "  1.91200400e-06 -1.76988776e-06 -5.78501535e-06 -4.36559324e-06\n",
      "  1.74212872e-05 -5.24420850e-06  1.91690112e-06  8.67968754e-07\n",
      "  4.45063388e-05 -5.11710426e-06 -4.79770428e-07  4.52853880e-06\n",
      "  2.48970139e-06  4.63830920e-06  3.34311731e-06  1.66830023e-06\n",
      " -1.81391782e-06  1.61373647e-06  5.43914196e-06 -1.20021009e-06\n",
      "  2.01544435e-06 -8.75608520e-06 -4.81787073e-06 -3.62718921e-06\n",
      " -8.39517838e-07  1.25542808e-05  1.79950998e-05  5.51208679e-06\n",
      " -1.26519158e-06 -4.20755115e-06  5.30508162e-06 -1.16492368e-06\n",
      "  5.38322103e-05  8.61233534e-06  1.06971010e-05 -1.22801577e-05\n",
      " -2.89441037e-06  1.53282259e-06  1.32555993e-05 -4.97932176e-06\n",
      " -4.16858058e-06 -4.34306307e-07 -2.93128096e-06 -4.71280983e-07\n",
      " -2.20533680e-06  7.45384451e-06 -6.63881594e-06  6.09773193e-07\n",
      " -2.77898294e-06  9.71536279e-07 -9.67968746e-07 -3.22477001e-06\n",
      " -1.27305410e-06 -1.36475507e-06  2.04031683e-06  1.42209736e-06\n",
      " -1.76934059e-06  1.87686569e-06 -2.74577794e-07  3.34434749e-07\n",
      " -2.51933228e-06  2.11004170e-06 -2.36628598e-06 -3.09904340e-06\n",
      "  1.57091913e-06 -1.27526784e-06 -2.17075481e-06  2.87898517e-06\n",
      " -1.89896820e-06 -1.26752165e-06 -5.19839303e-06  5.82251302e-07\n",
      " -5.05142599e-06  3.52465098e-06 -1.54684559e-06 -1.98421441e-06\n",
      " -6.27716261e-06 -1.76311868e-06  9.82571706e-06  6.28662801e-07\n",
      "  3.22122917e-06 -2.62157391e-07 -3.67855554e-06 -6.67297029e-06\n",
      " -3.64695452e-07  2.06369909e-06 -1.76636760e-06 -1.22284542e-05\n",
      " -4.50731665e-05 -7.53718718e-06  1.37219920e-06 -1.80388864e-06\n",
      " -2.44254307e-05 -1.64484373e-06 -7.83715214e-06 -5.70082485e-06\n",
      "  4.62925971e-06  3.34041911e-06 -2.18280203e-06 -5.05720234e-06\n",
      " -3.71363572e-06  3.66823313e-06 -7.77927018e-05  3.35334920e-05\n",
      " -9.62665550e-06 -5.92464238e-06  6.23451856e-06 -3.67304721e-06\n",
      "  2.63353946e-06 -6.30719350e-06  8.17096244e-06 -3.16420575e-06\n",
      " -3.11970506e-06  3.57135857e-06  1.03767336e-06  3.84086053e-06\n",
      " -4.24045121e-07  4.78528367e-06 -5.29107631e-06  4.48647994e-06\n",
      "  4.55232177e-06 -2.07993395e-06 -5.29351335e-06 -4.32744584e-05\n",
      "  1.69428158e-06 -2.30517266e-06  5.97339672e-06  8.74375305e-06\n",
      "  4.58769683e-05  2.45921698e-05 -6.89665801e-07  2.39168527e-06\n",
      " -4.49495611e-06 -5.10668267e-06  4.72379348e-06 -1.36046717e-06\n",
      "  2.61136209e-06 -4.30248918e-06  6.68603405e-07  2.72105367e-06\n",
      " -3.94318274e-06  1.97329143e-06  1.68274430e-06 -3.71041157e-06\n",
      "  8.52066714e-07  5.42642600e-06  9.02641126e-06  4.29490752e-08\n",
      " -5.95387402e-06 -3.81733372e-06 -1.19309654e-04  5.00177623e-06\n",
      " -2.55486321e-05 -5.99654445e-05 -5.14898647e-06  2.73530735e-06\n",
      "  1.84133719e-06  5.24054091e-06 -7.66513752e-06  2.12268446e-05\n",
      " -1.28710676e-04  5.35808496e-06 -7.90707471e-05 -2.18605088e-05\n",
      " -1.07809631e-04  3.10926158e-05 -2.30773667e-05 -5.77276727e-05\n",
      " -5.86550240e-05 -1.80052281e-04 -4.16847208e-05 -1.24897917e-04\n",
      "  4.87083354e-06  4.09961321e-05 -1.07223231e-04 -1.43106037e-04\n",
      " -3.25294087e-05  6.85637178e-05 -8.53517158e-05 -1.74550676e-04\n",
      " -1.83714813e-04  1.81661587e-05 -7.07418466e-05 -1.62886500e-05\n",
      "  2.40719228e-06 -4.67832937e-06 -1.37078233e-06  1.64787140e-05\n",
      "  9.46083331e-06 -9.43863948e-06 -4.90201010e-06  6.09472111e-06\n",
      "  1.32758504e-05 -3.08159246e-06 -3.54284447e-06 -4.89022262e-07\n",
      " -3.23614591e-06  3.10323060e-06 -1.09800485e-04 -7.27869676e-05\n",
      " -1.34116898e-04 -5.13647595e-06 -5.36124412e-06 -1.12923335e-04\n",
      " -1.50924762e-05  4.51919862e-06 -2.65246643e-05  4.28598567e-06\n",
      " -7.21066363e-06 -1.38921615e-05 -1.58075900e-05 -1.64763964e-05\n",
      " -4.46818626e-06 -1.01603470e-05 -1.23898836e-05  3.22300573e-05\n",
      " -2.65364092e-05 -3.04664034e-05  1.15622094e-05  1.77498624e-05\n",
      " -4.30583621e-06 -7.99084984e-06  4.73099880e-06  9.55878462e-06\n",
      " -2.21818100e-06 -2.23947396e-06 -1.60102207e-04 -1.37980671e-04\n",
      "  4.20902046e-06  1.16632607e-05  1.08314189e-05  9.02166829e-06\n",
      "  3.40288327e-06  7.29870082e-06  1.18625987e-05  1.40826033e-05\n",
      "  3.74568343e-05  2.53736962e-05  2.04226526e-05  1.44581020e-05\n",
      " -7.13303248e-06  2.44742870e-05 -1.08332131e-05 -3.86060684e-05\n",
      " -1.53062892e-04 -1.46828144e-04  1.89376262e-06 -1.55940231e-06\n",
      "  7.82592226e-06  1.66441682e-05  2.17457124e-05  1.08744109e-05\n",
      "  1.93384848e-05  1.56268045e-05 -1.49953399e-04  5.99231705e-07\n",
      " -3.25095665e-06 -6.33205790e-06  3.01035118e-05 -1.49359188e-05\n",
      " -8.16666994e-05 -8.91754782e-05  1.08996111e-05  1.13139622e-05\n",
      "  1.96777583e-05  1.57700327e-05 -5.79395601e-06 -7.55543604e-07\n",
      " -5.73102691e-06 -1.01797629e-06 -5.10899437e-06 -5.91365752e-06\n",
      " -1.14828736e-04 -3.94602551e-05 -2.75792924e-06  1.16802880e-05\n",
      " -9.17523804e-05  2.87075652e-05 -3.43139555e-06 -1.00546208e-05\n",
      " -2.84864310e-06 -5.75570115e-06 -6.49926842e-06  9.05360059e-08\n",
      " -1.04120874e-08  3.81013780e-06  5.92325799e-05  1.02862087e-05\n",
      " -1.78103788e-06 -4.22361140e-06  2.00286779e-06 -3.08704044e-06\n",
      " -5.42311728e-06 -6.27669287e-06  8.89588985e-06  1.18096694e-06\n",
      "  2.78132378e-05  2.04574093e-05 -2.05178029e-06 -1.79264364e-06\n",
      " -6.60962371e-06 -6.44366671e-06 -3.54288450e-06 -2.46394211e-06\n",
      " -2.08293558e-06 -1.32257252e-05  7.07236078e-06  1.45503099e-05\n",
      "  6.20778360e-06 -3.76496941e-06 -9.51312473e-06  2.11771689e-05\n",
      "  8.30224466e-06  3.04219306e-05 -9.38358864e-06 -4.70386774e-06\n",
      " -4.65420399e-05 -1.08054436e-06 -4.95698827e-06 -4.60751602e-06\n",
      " -3.48250331e-05  6.09891095e-05 -9.06928050e-06 -6.95176903e-06\n",
      " -1.05684111e-05 -8.44495286e-06  7.38325026e-07  3.95738584e-05\n",
      "  2.34884140e-05  3.49387403e-05 -4.77772837e-06  5.59578902e-07\n",
      "  3.70774346e-05  1.91220427e-05 -1.14187337e-05 -1.25099459e-05\n",
      " -9.39117202e-05  1.02686873e-05 -2.23936456e-06 -1.28092417e-05\n",
      "  9.43326621e-06  1.91541925e-05 -9.75550575e-06  3.32844184e-05\n",
      " -8.31564222e-05 -1.54133029e-04  2.43660928e-05  4.29490349e-05\n",
      " -1.09844223e-04 -5.25362702e-05 -9.99592588e-07  1.55282290e-05\n",
      "  1.40025291e-06  8.29321615e-06  1.69911307e-06  2.86758580e-05\n",
      " -6.93885836e-05 -3.71458849e-05  7.00426577e-07 -7.94391347e-06\n",
      "  9.68357284e-06  1.16463101e-05  1.39599681e-06 -4.92107690e-06\n",
      "  1.77117966e-05 -6.20312068e-05  7.36612650e-05  5.47631590e-06\n",
      "  1.42719598e-05 -9.51910479e-05 -6.58527126e-05 -9.52788296e-05\n",
      "  2.09362632e-05  9.14176519e-05  1.65147523e-05 -6.36545039e-05\n",
      "  4.76717409e-05  1.69289601e-05  8.78822202e-06  2.80750547e-05\n",
      "  2.27876193e-05 -7.66930544e-06 -4.68745661e-06  4.53275180e-05\n",
      "  5.12491921e-05  1.60792576e-06  1.25095311e-04  7.75211574e-06\n",
      "  3.04514121e-05  2.52476493e-05 -4.28421763e-06  1.79086475e-05\n",
      " -1.58285496e-04 -5.62574752e-05  4.66494891e-05  2.19170830e-05\n",
      "  4.14104434e-05  5.57600540e-05  3.86122034e-05 -6.46314586e-06\n",
      " -2.05684054e-06  9.36357338e-06  1.01150593e-04  1.72852248e-05\n",
      "  7.06870980e-06  2.84536524e-05  1.82259119e-05  1.77739980e-05\n",
      "  4.57802294e-05  3.32331120e-05  6.27599863e-05  2.54684193e-05\n",
      "  1.40403733e-05  3.44929940e-05  9.71669902e-05  7.92276486e-05\n",
      "  5.73265903e-05  4.68557288e-05 -6.30417399e-05  2.38420680e-06\n",
      " -1.49075228e-05 -1.10150348e-05  3.40422063e-05  7.60648186e-05\n",
      "  2.05196842e-04  5.15654091e-05  3.20987805e-05  1.49647637e-05\n",
      "  1.21163148e-04  5.01169230e-05  4.56709282e-05  3.48832078e-05\n",
      "  3.87167802e-05 -2.63696407e-05  5.03799795e-05  5.91916775e-05\n",
      "  1.78063040e-04  2.43875276e-04  6.79600378e-05  4.98319312e-05\n",
      " -2.44254170e-05  2.91837611e-09  5.55470955e-06  2.55652804e-05\n",
      "  4.53777269e-05 -1.43173819e-05  9.93865382e-05  2.31450619e-04\n",
      " -5.87674666e-05  1.63434788e-05 -2.90145544e-07  3.37129818e-04\n",
      "  3.16002260e-05 -1.44921626e-05  7.23339243e-05  1.82944733e-04\n",
      "  1.22297362e-05  2.41017576e-07  1.10230708e-04  2.53455957e-04\n",
      "  3.52416361e-04  1.80847817e-04  2.89805423e-04  1.21590282e-04\n",
      "  6.43224624e-05  7.20598873e-06  4.24757203e-05  3.40203456e-06\n",
      "  3.59479791e-05  6.65366005e-05  1.05950503e-04]\n",
      "nfev: 173\n",
      "njev: 101\n",
      "nhev: 173\n",
      "nit: 171\n",
      "message: A bad approximation caused failure to predict improvement.\n",
      "hess: [[ 3.96113588e+00  5.74168141e-04  8.25715551e-04 ...  4.47851913e-04\n",
      "   8.75643853e-04  5.78260265e-03]\n",
      " [ 5.74168141e-04  2.94687429e-01  2.36108972e-05 ... -1.24619287e-04\n",
      "  -6.97665309e-04  3.02420789e-03]\n",
      " [ 8.25715551e-04  2.36108972e-05  5.73676784e-01 ...  1.19224190e-05\n",
      "  -1.44165437e-04 -6.81610093e-04]\n",
      " ...\n",
      " [ 4.47851913e-04 -1.24619287e-04  1.19224190e-05 ...  7.61398241e-03\n",
      "   6.89760784e-03  2.08680397e-02]\n",
      " [ 8.75643853e-04 -6.97665309e-04 -1.44165437e-04 ...  6.89760784e-03\n",
      "   9.71240098e-03  2.22361230e-02]\n",
      " [ 5.78260265e-03  3.02420789e-03 -6.81610093e-04 ...  2.08680397e-02\n",
      "   2.22361230e-02  1.06762041e-01]]\n",
      "model: [5.3029072  5.30272325 5.33624747 5.34504311 5.27842313 5.30615331\n",
      " 5.31235371 5.29849974 5.32367713 5.31169444 5.30578336 5.30187879\n",
      " 5.30897712 5.33520623 5.2878191  5.35483791 5.31829695 5.29404982\n",
      " 5.30074926 5.29778972 5.33189452 5.23599255 5.32704832 5.32294658\n",
      " 5.33554038 5.28401134 5.30816259 5.31621875 5.3029542  5.33432897\n",
      " 5.31159613 5.3163183  5.34360862 5.34326839 5.28769902 5.3090451\n",
      " 5.34422406 5.30392466 5.31616374 5.28483674 5.32240905 5.2714114\n",
      " 5.30442331 5.31824438 5.27751542 5.30667536 5.3060807  5.33159889\n",
      " 5.30641521 5.2950342  5.31649998 5.28501966 5.28758576 5.30992823\n",
      " 5.3288739  5.29865561 5.27644088 5.02558502 5.27990307 5.26340027\n",
      " 5.3087178  5.3011964  5.26812933 5.32492277 5.30243484 5.31057054\n",
      " 5.29886199 5.25091931 5.29847162 5.27665296 5.27400782 5.34943272\n",
      " 5.27163281 5.31762003 5.31793252 5.3094885  5.33015685 5.27203082\n",
      " 5.33570334 5.30714672 5.34353941 5.29511851 5.29649491 5.3381374\n",
      " 5.31985552 5.31142777 5.33867624 5.293963   5.30097216 5.30031806\n",
      " 5.29879735 5.31812221 5.27654454 5.32565822 5.31211032 5.29127569\n",
      " 5.29247258 5.33843807 5.29123335 5.28829354 5.30341168 5.26994719\n",
      " 5.32800258 5.30107744 5.30089268 5.28395977 5.2686327  5.36348515\n",
      " 5.29522191 5.29704912 5.29199001 5.26993031 5.31732935 5.32117805\n",
      " 5.2576574  5.31232557 5.30297877 5.28124828 5.26696597 5.31062788\n",
      " 5.31111485 5.34600531 5.32220632 5.32764163 5.30898154 5.2757311\n",
      " 5.26789532 5.32280769 5.31704722 5.29234167 5.34754545 5.32741678\n",
      " 5.29941452 5.3427045  5.30967365 5.32691857 5.31781278 5.28471731\n",
      " 5.29346065 5.2806713  5.3085691  5.29055899 5.31840892 5.31338692\n",
      " 5.32403847 5.2572816  5.32121914 5.27846531 5.31679741 5.28956862\n",
      " 5.30701543 5.30998778 5.3117568  5.30968477 5.30081889 5.31894273\n",
      " 5.33501673 5.30209924 5.23422978 5.30301516 5.28867297 5.26247203\n",
      " 5.28944635 5.29445082 5.32507857 5.25474731 5.31789247 5.3004008\n",
      " 5.28462448 5.2942754  5.30535879 5.29423493 5.30282021 5.30034759\n",
      " 5.29473663 5.27629658 5.27475545 5.3015431  5.33195496 5.30424437\n",
      " 5.30021885 5.31652176 5.30353507 5.28790081 5.32277776 5.30821969\n",
      " 5.31573597 5.28882662 5.3021489  5.30836522 5.32818004 5.29209441\n",
      " 5.32312583 5.34494075 5.29035624 5.33826257 5.28072763 5.33340492\n",
      " 5.32986101 5.3172985  5.27742633 5.29837051 5.31979489 5.31170908\n",
      " 5.31538913 5.2979304  5.29544578 5.30863245 5.26331958 5.31827117\n",
      " 5.27226327 5.33986716 5.35661311 5.30648483 5.26702816 5.29960346\n",
      " 5.32424412 5.26716969 5.26661692 5.28514562 5.29209959 5.34555023\n",
      " 5.28891284 5.30994702 5.31815002 5.31902876 5.33173991 5.34333851\n",
      " 5.34410575 5.27791263 5.32935869 5.27568158 5.27296876 5.32464593\n",
      " 5.3378634  5.31796384 5.27254983 5.29457848 5.30335982 5.30293761\n",
      " 5.28911625 5.30817883 5.32389859 5.28341666 5.2899543  5.29371656\n",
      " 5.2776948  5.28617619 5.30084578 5.29235386 5.28910344 5.32749323\n",
      " 5.34628592 5.31302293 5.31157227 5.27699428 5.31025766 5.30559577\n",
      " 5.2836416  5.31753516 5.29682784 5.32908546 5.3046099  5.29908418\n",
      " 5.31837096 5.28949245 5.31211657 5.30665956 5.30084072 5.29841187\n",
      " 5.29686639 5.30461481 5.29113805 5.30349392 5.32612877 5.30754711\n",
      " 5.30775695 5.2927712  5.31515194 5.29123389 5.34431314 5.30978237\n",
      " 5.29881017 5.26578529 5.30383774 5.30396073 5.31511623 5.30454552\n",
      " 5.30858702 5.33219227 5.30696238 5.28529228 5.27278489 5.31135045\n",
      " 5.30994164 5.32457101 5.30181589 5.29742427 5.31656313 5.27414209\n",
      " 5.28353021 5.30340038 5.3139993  5.33431022 5.33142687 5.30123649\n",
      " 5.33585787 5.373096   5.34800845 5.30029012 5.33533639 5.26978562\n",
      " 5.36764574 5.29209195 5.29700046 5.35984496 5.30068506 5.31456143\n",
      " 5.31741128 5.33842503 5.26940999 5.32773229 5.30726107 5.01903426\n",
      " 5.28339702 5.28416765 5.31934868 5.30623487 5.29191993 5.29335152\n",
      " 5.30437474 5.32538625 5.32079416 5.30308929 5.31226724 4.03245387\n",
      " 5.29421056 5.3020996  5.29445618 5.30736198 5.31858796 5.31757236\n",
      " 5.32844858 5.30187445 5.26045273 5.30569217 5.31042258 5.31317725\n",
      " 5.28281622 5.29654621 5.31035451 5.29694265 5.3100735  5.27658267\n",
      " 5.27815041 5.31927725 5.29101228 5.24654462 5.2680807  5.3322711\n",
      " 5.30328292 5.31758884 5.31347607 5.30002751 5.30765422 5.31653971\n",
      " 5.28859158 5.31802573 5.41760422 5.27991934 5.26412354 5.29804236\n",
      " 5.33637512 5.29128697 5.32243142 5.30119174 5.30203567 5.30920314\n",
      " 5.32121858 5.36323297 5.38950749 5.28515971 5.32170145 5.27477389\n",
      " 5.38112568 5.30538703 5.34004213 5.20628607 5.24079442 5.36435878\n",
      " 5.22159435 5.25367563 3.50583245 5.39545373 5.32959472 5.31619029\n",
      " 5.36002422 5.34920505 5.35776348 4.98635088 5.34220489 5.33127304\n",
      " 5.28307857 5.30320784 4.86328765 5.31629769 5.34571923 5.13126413\n",
      " 5.30589711 5.31841849 5.3130783  5.31015015 5.29461887 5.32384203\n",
      " 5.31306727 5.29089888 5.29974374 5.30181494 5.2841847  5.28836532\n",
      " 5.30355705 5.31616228 5.31093756 5.31299147 5.29014819 5.28913545\n",
      " 5.288126   5.27610536 5.3200787  5.29408376 5.29972727 5.3159323\n",
      " 5.3162347  5.32704943 5.32575674 5.32539718 5.29077942 5.30512649\n",
      " 5.29626906 5.28041816 5.32639981 5.30043056 5.30304245 5.31584146\n",
      " 5.27553266 5.28029859 5.26633561 5.31403192 5.29594575 5.28674744\n",
      " 5.31999875 5.29202494 5.36349021 5.30594286 5.29989096 5.33976851\n",
      " 5.27804258 5.30427617 5.30241085 5.27244184 5.31647829 5.30889151\n",
      " 5.35610699 5.30894843 5.29252301 5.34296349 5.28692008 5.29350769\n",
      " 5.28163061 5.2905247  5.3238448  5.30670797 5.2836795  5.27474283\n",
      " 5.3304039  5.29733465 5.28169199 5.29060926 5.28954528 5.28709022\n",
      " 5.29678101 5.30934303 5.34595107 5.41770908 5.301583   5.29984365\n",
      " 5.32396911 5.3268141  5.32358208 5.30183278 5.32918341 5.16800606\n",
      " 5.32132572 5.31913261 5.29757429 5.32315278 5.30685001 5.31654186\n",
      " 5.29650907 5.27303086 5.34723883 5.29552942 5.30175354 5.28208432\n",
      " 5.32437327 5.32173424 5.30183164 5.34121911 5.2594104  5.33648306\n",
      " 5.4196613  5.30588316 5.31614465 5.31720886 5.28551127 5.34480226\n",
      " 5.27400629 5.22417092 5.34580598 5.3053645  5.40616334 5.29911124\n",
      " 5.35353029 5.31741835 5.34346156 5.32684697 5.30291549 5.36123079\n",
      " 5.3723584  5.50004432 5.32197367 5.37934041 5.34527696 5.33684825\n",
      " 5.53442377 5.37789546 5.35876522 5.33005426 5.38136534 5.51637475\n",
      " 5.47772592 5.33654431 5.38323627 5.35245887 5.34191295 5.3442486\n",
      " 4.79772105 5.3591064  5.27439941 5.27258523 5.30296623 5.25829048\n",
      " 5.03792116 5.30559232 5.28373429 5.29158183 5.32486784 5.30229334\n",
      " 5.34911872 5.33401966 5.44090586 5.36996193 5.30732647 5.39453549\n",
      " 5.38962808 4.97075801 5.29836229 5.29354255 5.27689486 5.30658946\n",
      " 5.30107094 5.29878218 5.26393875 5.29085112 5.28440266 5.30634386\n",
      " 5.2939488  5.29604401 5.27832801 5.30227247 5.32018185 5.26851924\n",
      " 4.80165596 4.82188918 5.34513676 5.35685924 5.41504258 5.38434179\n",
      " 5.31439179 5.32290128 5.26270951 4.38563028 5.28443693 5.26320328\n",
      " 5.28327663 5.26974487 5.30339223 5.29371789 5.34175131 5.24806555\n",
      " 5.26739217 5.28695036 5.41107914 5.34574226 5.47708742 5.53074783\n",
      " 4.40664784 4.98897597 5.28241516 5.24067651 5.28321121 5.27001488\n",
      " 5.27151873 5.26536162 5.44859838 5.3107053  5.27811482 5.28608736\n",
      " 4.50829315 5.01131678 4.4487672  5.42878719 4.37875569 4.35712158\n",
      " 5.29694393 5.26534756 5.32304948 5.32718361 5.35172971 5.28508241\n",
      " 5.32789266 5.29070367 5.41190691 5.31571632 5.3079959  5.28650687\n",
      " 5.05992055 3.98803525 4.83310662 4.07602144 5.34944931 5.31720024\n",
      " 5.33669349 5.24328728 5.31085819 5.28427806 3.37653279 5.20336911\n",
      " 5.29663409 5.31988419 5.27925326 5.27862601 5.27721942 5.29462\n",
      " 5.2675179  5.26129799 5.3331938  5.29495699 5.32184215 5.33895191\n",
      " 5.33986285 5.2747388  5.29251663 5.27122826 5.24020149 5.33526057\n",
      " 5.26849174 5.31132063 5.30233436 5.29332108 5.33803936 5.29199103\n",
      " 5.26906608 5.33756116 5.28063045 5.27250911 3.30480925 5.29598512\n",
      " 5.33657516 5.25400433 5.23599159 4.49650273 5.31921839 5.32442127\n",
      " 5.31820346 5.26225652 5.2682991  5.31934423 5.28456733 5.27469584\n",
      " 5.30239159 5.30461373 5.32633282 5.18422174 5.30300804 5.27405805\n",
      " 4.49452227 5.35952142 5.33724327 5.30975896 5.23878982 5.29582766\n",
      " 5.29257861 5.22337185 5.27120126 5.48691732 5.31013634 5.34463157\n",
      " 5.38552874 5.46148516 3.34979877 4.4615677  5.35054646 5.29381459\n",
      " 5.3144542  5.2336041  5.055649   4.38040855 5.3271743  5.29055022\n",
      " 5.2508256  5.34869813 5.34543446 5.30201467 4.93471212 4.86567821\n",
      " 3.4328427  5.35503086 5.2501656  5.32490065 4.20949018 4.8455287\n",
      " 3.84886273 4.06642275 4.05457567 3.96453891 3.83849406 5.11129566\n",
      " 4.90832198 4.96373957 5.13026312 5.31501346 5.34794888 5.39112017\n",
      " 5.17390884 5.29178027 5.31234023 5.37586242 5.34152915 5.38053134\n",
      " 5.33678768 5.32367012 3.27912237 4.50210179 5.36658852 5.26108124\n",
      " 5.37547656 5.28979026 5.28629449 5.24815531 5.22082125 5.20608994\n",
      " 5.33994171 5.21019117 5.19976218 5.32881269 5.21651461 5.15239113\n",
      " 5.22718284 5.21233238 5.35355816 5.19234428 5.27079327 5.16434393\n",
      " 5.19760363 5.25744097 5.19731997 5.27785488 5.02614651 5.43143166\n",
      " 5.07521855 4.25238952 5.26129936 5.24384573 5.1621121  5.30295139\n",
      " 4.54312735 4.90193829 5.22338684 5.19721218 5.36638823 5.14195868\n",
      " 5.32321017 4.93610325 5.22756935 5.35363443 5.20654763 5.19571974\n",
      " 5.2220278  5.4148311  5.08046208 5.4088004  5.45016093 5.30532313\n",
      " 5.15428543 5.23130603 5.16368387 5.17305513 4.41879645 5.15653639\n",
      " 5.32062783 5.12586877 5.40265028 5.2121841  5.2073013  5.13144681\n",
      " 5.42961737 5.40095512 5.25659904 5.13190562 5.13861828 5.23607948\n",
      " 5.16506943 5.30988303 5.39835861 5.35036915 5.36930838 5.43474523\n",
      " 5.40907929 5.36746543 5.35069476]\n"
     ]
    },
    {
     "data": {
      "text/plain": [
       "Text(0.5, 1.0, 'Inferred model')"
      ]
     },
     "execution_count": 15,
     "metadata": {},
     "output_type": "execute_result"
    },
    {
     "data": {
      "image/png": "[encoded data removed]",
      "text/plain": [
       "<Figure size 640x480 with 2 Axes>"
      ]
     },
     "metadata": {},
     "output_type": "display_data"
    }
   ],
   "source": [
    "# convert back to normal space from log space\n",
    "model = np.exp(inv_result.model)\n",
    "\n",
    "# plot inferred model\n",
    "inv_result.summary()\n",
    "ax = pygimli.show(ert_manager.paraDomain, data=model, label=r\"$\\Omega m$\")\n",
    "ax[0].set_title(\"Inferred model\")"
   ]
  },
  {
   "cell_type": "code",
   "execution_count": 16,
   "id": "dbdad52e",
   "metadata": {
    "execution": {
     "iopub.execute_input": "2022-09-14T01:17:20.605334Z",
     "iopub.status.busy": "2022-09-14T01:17:20.605103Z",
     "iopub.status.idle": "2022-09-14T01:17:21.086145Z",
     "shell.execute_reply": "2022-09-14T01:17:21.085723Z"
    },
    "papermill": {
     "duration": 0.492225,
     "end_time": "2022-09-14T01:17:21.087095",
     "exception": false,
     "start_time": "2022-09-14T01:17:20.594870",
     "status": "completed"
    },
    "tags": []
   },
   "outputs": [
    {
     "data": {
      "text/plain": [
       "Text(0.5, 1.0, 'Synthetic data from inferred model')"
      ]
     },
     "execution_count": 16,
     "metadata": {},
     "output_type": "execute_result"
    },
    {
     "data": {
      "image/png": "[encoded data removed]",
      "text/plain": [
       "<Figure size 640x480 with 2 Axes>"
      ]
     },
     "metadata": {},
     "output_type": "display_data"
    }
   ],
   "source": [
    "# plot synthetic data\n",
    "d = forward_oprt.response(model)\n",
    "ax = ert.showERTData(scheme, vals=d, cMin=np.min(data[\"rhoa\"]), cMax=np.max(data[\"rhoa\"]))\n",
    "ax[0].set_title(\"Synthetic data from inferred model\")"
   ]
  },
  {
   "cell_type": "markdown",
   "id": "e63a135a",
   "metadata": {
    "papermill": {
     "duration": 0.013349,
     "end_time": "2022-09-14T01:17:21.111915",
     "exception": false,
     "start_time": "2022-09-14T01:17:21.098566",
     "status": "completed"
    },
    "tags": []
   },
   "source": [
    "### 2.2 A custom [Newton's optimisation](https://en.wikipedia.org/wiki/Newton%27s_method_in_optimization) approach\n",
    "\n",
    "Now we switch to a Newton's iterative approach written by ourselves, so you'll \n",
    "have a closer look at what's happening in the loop.\n",
    "\n",
    "First of all, define our own solver."
   ]
  },
  {
   "cell_type": "code",
   "execution_count": 17,
   "id": "a21b92a9",
   "metadata": {
    "execution": {
     "iopub.execute_input": "2022-09-14T01:17:21.146752Z",
     "iopub.status.busy": "2022-09-14T01:17:21.146503Z",
     "iopub.status.idle": "2022-09-14T01:17:21.151762Z",
     "shell.execute_reply": "2022-09-14T01:17:21.151397Z"
    },
    "papermill": {
     "duration": 0.031162,
     "end_time": "2022-09-14T01:17:21.152568",
     "exception": false,
     "start_time": "2022-09-14T01:17:21.121406",
     "status": "completed"
    },
    "tags": []
   },
   "outputs": [],
   "source": [
    "class GaussNewton(BaseSolver):\n",
    "    def __init__(self, inv_problem, inv_options):\n",
    "        __params = inv_options.get_params()\n",
    "        self._niter = __params.get(\"niter\", 100)\n",
    "        self._verbose = __params.get(\"verbose\", True)\n",
    "        self._step = __params.get(\"step\", 1)\n",
    "        self._model_0 = inv_problem.initial_model\n",
    "        self._residual = inv_problem.residual\n",
    "        self._jacobian = inv_problem.jacobian\n",
    "        self._gradient = inv_problem.gradient\n",
    "        self._hessian = inv_problem.hessian\n",
    "        self._misfit = inv_problem.data_misfit if inv_problem.data_misfit_defined else None\n",
    "        self._reg = inv_problem.regularisation if inv_problem.regularisation_defined else None\n",
    "        self._obj = inv_problem.objective if inv_problem.objective_defined else None\n",
    "\n",
    "    def __call__(self):\n",
    "        current_model = np.array(self._model_0)\n",
    "        for i in range(self._niter):\n",
    "            if self._verbose:\n",
    "                print(\"-\" * 80)\n",
    "                print(f\"Iteration {i+1}\")\n",
    "                print(\"model min and max:\", np.min(current_model), np.max(current_model))\n",
    "                if self._misfit: print(\"data misfit:\", self._misfit(current_model))\n",
    "                if self._reg: print(\"regularisation:\", self._reg(current_model))\n",
    "            term1 = self._hessian(current_model)\n",
    "            term2 = - self._gradient(current_model)\n",
    "            model_update = np.linalg.solve(term1, term2) * self._step\n",
    "            current_model = current_model + model_update\n",
    "        return {\"model\": current_model, \"success\": True}"
   ]
  },
  {
   "cell_type": "markdown",
   "id": "b9623998",
   "metadata": {
    "papermill": {
     "duration": 0.00952,
     "end_time": "2022-09-14T01:17:21.171759",
     "exception": false,
     "start_time": "2022-09-14T01:17:21.162239",
     "status": "completed"
    },
    "tags": []
   },
   "source": [
    "Now, make use of this custom solver and run inversion again:"
   ]
  },
  {
   "cell_type": "code",
   "execution_count": 18,
   "id": "6defb206",
   "metadata": {
    "execution": {
     "iopub.execute_input": "2022-09-14T01:17:21.202129Z",
     "iopub.status.busy": "2022-09-14T01:17:21.201915Z",
     "iopub.status.idle": "2022-09-14T01:22:18.297652Z",
     "shell.execute_reply": "2022-09-14T01:22:18.296584Z"
    },
    "papermill": {
     "duration": 297.113915,
     "end_time": "2022-09-14T01:22:18.300208",
     "exception": false,
     "start_time": "2022-09-14T01:17:21.186293",
     "status": "completed"
    },
    "tags": []
   },
   "outputs": [
    {
     "name": "stdout",
     "output_type": "stream",
     "text": [
      "--------------------------------------------------------------------------------\n",
      "Iteration 1\n",
      "model min and max: 5.291310843489913 5.291310843489913\n"
     ]
    },
    {
     "name": "stdout",
     "output_type": "stream",
     "text": [
      "data misfit: 229.71418345445022\n",
      "regularisation: 0.0\n"
     ]
    },
    {
     "name": "stdout",
     "output_type": "stream",
     "text": [
      "--------------------------------------------------------------------------------\n",
      "Iteration 2\n",
      "model min and max: 5.275884701683011 5.304449604934316\n"
     ]
    },
    {
     "name": "stdout",
     "output_type": "stream",
     "text": [
      "data misfit: 227.23411332788962\n",
      "regularisation: 0.010102187048026049\n"
     ]
    },
    {
     "name": "stdout",
     "output_type": "stream",
     "text": [
      "--------------------------------------------------------------------------------\n",
      "Iteration 3\n",
      "model min and max: 5.262031885900378 5.310706445057153\n",
      "data misfit: 224.88018892913274\n",
      "regularisation: 0.023828812726472533\n"
     ]
    },
    {
     "name": "stdout",
     "output_type": "stream",
     "text": [
      "--------------------------------------------------------------------------------\n",
      "Iteration 4\n",
      "model min and max: 5.248398551565876 5.315148641783872\n",
      "data misfit: 222.5841638420562\n",
      "regularisation: 0.03833074053504775\n"
     ]
    },
    {
     "name": "stdout",
     "output_type": "stream",
     "text": [
      "--------------------------------------------------------------------------------\n",
      "Iteration 5\n",
      "model min and max: 5.235210460904438 5.318970381278622\n",
      "data misfit: 220.32501943579953\n",
      "regularisation: 0.05346144871864931\n"
     ]
    },
    {
     "name": "stdout",
     "output_type": "stream",
     "text": [
      "--------------------------------------------------------------------------------\n",
      "Iteration 6\n",
      "model min and max: 5.221988655748763 5.322505463475772\n",
      "data misfit: 218.09539040624733\n",
      "regularisation: 0.06913735737871443\n"
     ]
    },
    {
     "name": "stdout",
     "output_type": "stream",
     "text": [
      "--------------------------------------------------------------------------------\n",
      "Iteration 7\n",
      "model min and max: 5.208735295257294 5.32586064835052\n"
     ]
    },
    {
     "name": "stdout",
     "output_type": "stream",
     "text": [
      "data misfit: 215.892125425656\n",
      "regularisation: 0.08529292762626417\n"
     ]
    },
    {
     "name": "stdout",
     "output_type": "stream",
     "text": [
      "--------------------------------------------------------------------------------\n",
      "Iteration 8\n",
      "model min and max: 5.195697353190826 5.329074034023208\n",
      "data misfit: 213.71361019906533\n",
      "regularisation: 0.10188094041725626\n"
     ]
    },
    {
     "name": "stdout",
     "output_type": "stream",
     "text": [
      "--------------------------------------------------------------------------------\n",
      "Iteration 9\n",
      "model min and max: 5.182852523974125 5.33216135580181\n"
     ]
    },
    {
     "name": "stdout",
     "output_type": "stream",
     "text": [
      "data misfit: 211.5588753156785\n",
      "regularisation: 0.11886698952398339\n"
     ]
    },
    {
     "name": "stdout",
     "output_type": "stream",
     "text": [
      "--------------------------------------------------------------------------------\n",
      "Iteration 10\n",
      "model min and max: 5.170183680332095 5.335368509288966\n"
     ]
    },
    {
     "name": "stdout",
     "output_type": "stream",
     "text": [
      "data misfit: 209.4272561757092\n",
      "regularisation: 0.13622406025922246\n"
     ]
    },
    {
     "name": "stdout",
     "output_type": "stream",
     "text": [
      "--------------------------------------------------------------------------------\n",
      "Iteration 11\n",
      "model min and max: 5.157677506123936 5.3386873547566545\n"
     ]
    },
    {
     "name": "stdout",
     "output_type": "stream",
     "text": [
      "data misfit: 207.3182453718031\n",
      "regularisation: 0.15392888174432326\n"
     ]
    },
    {
     "name": "stdout",
     "output_type": "stream",
     "text": [
      "--------------------------------------------------------------------------------\n",
      "Iteration 12\n",
      "model min and max: 5.145323421153358 5.34186306768169\n",
      "data misfit: 205.23142386946935\n",
      "regularisation: 0.17195977704253437\n"
     ]
    },
    {
     "name": "stdout",
     "output_type": "stream",
     "text": [
      "--------------------------------------------------------------------------------\n",
      "Iteration 13\n",
      "model min and max: 5.133112822085492 5.344904921855511\n",
      "data misfit: 203.1664249261597\n",
      "regularisation: 0.19029556215921561\n"
     ]
    },
    {
     "name": "stdout",
     "output_type": "stream",
     "text": [
      "--------------------------------------------------------------------------------\n",
      "Iteration 14\n",
      "model min and max: 5.12103856564546 5.34782217993657\n",
      "data misfit: 201.12291605687238\n",
      "regularisation: 0.20891505260317994\n"
     ]
    },
    {
     "name": "stdout",
     "output_type": "stream",
     "text": [
      "--------------------------------------------------------------------------------\n",
      "Iteration 15\n",
      "model min and max: 5.1090946125734575 5.3506238993765205\n",
      "data misfit: 199.1005873204019\n",
      "regularisation: 0.22779693654237623\n"
     ]
    },
    {
     "name": "stdout",
     "output_type": "stream",
     "text": [
      "--------------------------------------------------------------------------------\n",
      "Iteration 16\n",
      "model min and max: 5.0972757762238015 5.353318771425228\n",
      "data misfit: 197.09914546356381\n",
      "regularisation: 0.24691982779311505\n"
     ]
    },
    {
     "name": "stdout",
     "output_type": "stream",
     "text": [
      "--------------------------------------------------------------------------------\n",
      "Iteration 17\n",
      "model min and max: 5.085577543217933 5.35591503749741\n",
      "data misfit: 195.1183106780502\n",
      "regularisation: 0.266262401430304\n"
     ]
    },
    {
     "name": "stdout",
     "output_type": "stream",
     "text": [
      "--------------------------------------------------------------------------------\n",
      "Iteration 18\n",
      "model min and max: 5.0739959425518 5.358420418112907\n",
      "data misfit: 193.15781346330175\n",
      "regularisation: 0.2858035601446564\n"
     ]
    },
    {
     "name": "stdout",
     "output_type": "stream",
     "text": [
      "--------------------------------------------------------------------------------\n",
      "Iteration 19\n",
      "model min and max: 5.062527443232834 5.360842098922075\n",
      "data misfit: 191.21739387575644\n",
      "regularisation: 0.305522597185297\n"
     ]
    },
    {
     "name": "stdout",
     "output_type": "stream",
     "text": [
      "--------------------------------------------------------------------------------\n",
      "Iteration 20\n",
      "model min and max: 5.051168876563569 5.363186710301079\n",
      "data misfit: 189.29679965235673\n",
      "regularisation: 0.3253993358788451\n"
     ]
    },
    {
     "name": "stdout",
     "output_type": "stream",
     "text": [
      "--------------------------------------------------------------------------------\n",
      "Iteration 21\n",
      "model min and max: 5.039917379336079 5.365460364164342\n"
     ]
    },
    {
     "name": "stdout",
     "output_type": "stream",
     "text": [
      "data misfit: 187.3957862579242\n",
      "regularisation: 0.3454142459680997\n"
     ]
    },
    {
     "name": "stdout",
     "output_type": "stream",
     "text": [
      "--------------------------------------------------------------------------------\n",
      "Iteration 22\n",
      "model min and max: 5.028770340584718 5.3676686561213645\n",
      "data misfit: 185.514115785678\n",
      "regularisation: 0.36554853574057805\n"
     ]
    },
    {
     "name": "stdout",
     "output_type": "stream",
     "text": [
      "--------------------------------------------------------------------------------\n",
      "Iteration 23\n",
      "model min and max: 5.017725368281747 5.369816711228191\n",
      "data misfit: 183.65155678774858\n",
      "regularisation: 0.38578421008581354\n"
     ]
    },
    {
     "name": "stdout",
     "output_type": "stream",
     "text": [
      "--------------------------------------------------------------------------------\n",
      "Iteration 24\n",
      "model min and max: 5.006780251444899 5.371909207551852\n",
      "data misfit: 181.80788344019362\n",
      "regularisation: 0.4061041302254167\n"
     ]
    },
    {
     "name": "stdout",
     "output_type": "stream",
     "text": [
      "--------------------------------------------------------------------------------\n",
      "Iteration 25\n",
      "model min and max: 4.99593294129432 5.373950416869972\n"
     ]
    },
    {
     "name": "stdout",
     "output_type": "stream",
     "text": [
      "data misfit: 179.9828755687684\n",
      "regularisation: 0.4264920217833231\n"
     ]
    },
    {
     "name": "stdout",
     "output_type": "stream",
     "text": [
      "--------------------------------------------------------------------------------\n",
      "Iteration 26\n",
      "model min and max: 4.985181525464334 5.375944233954563\n"
     ]
    },
    {
     "name": "stdout",
     "output_type": "stream",
     "text": [
      "data misfit: 178.17631801144034\n",
      "regularisation: 0.44693249952342323\n"
     ]
    },
    {
     "name": "stdout",
     "output_type": "stream",
     "text": [
      "--------------------------------------------------------------------------------\n",
      "Iteration 27\n",
      "model min and max: 4.974524211269064 5.377894212825977\n",
      "data misfit: 176.3880007794431\n",
      "regularisation: 0.46741105465125105\n"
     ]
    },
    {
     "name": "stdout",
     "output_type": "stream",
     "text": [
      "--------------------------------------------------------------------------------\n",
      "Iteration 28\n",
      "model min and max: 4.963959312536056 5.3798035934133965\n"
     ]
    },
    {
     "name": "stdout",
     "output_type": "stream",
     "text": [
      "data misfit: 174.61771808953412\n",
      "regularisation: 0.487914048221482\n"
     ]
    },
    {
     "name": "stdout",
     "output_type": "stream",
     "text": [
      "--------------------------------------------------------------------------------\n",
      "Iteration 29\n",
      "model min and max: 4.953485236087738 5.381675329745837\n",
      "data misfit: 172.8652685564188\n",
      "regularisation: 0.5084287005330721\n"
     ]
    },
    {
     "name": "stdout",
     "output_type": "stream",
     "text": [
      "--------------------------------------------------------------------------------\n",
      "Iteration 30\n",
      "model min and max: 4.9431004710643505 5.3835121200451725\n"
     ]
    },
    {
     "name": "stdout",
     "output_type": "stream",
     "text": [
      "data misfit: 171.13045503046692\n",
      "regularisation: 0.5289430509055988\n"
     ]
    },
    {
     "name": "stdout",
     "output_type": "stream",
     "text": [
      "--------------------------------------------------------------------------------\n",
      "Iteration 31\n",
      "model min and max: 4.932803581903644 5.385316428691364\n",
      "data misfit: 169.41308383642195\n",
      "regularisation: 0.5494459457261778\n"
     ]
    },
    {
     "name": "stdout",
     "output_type": "stream",
     "text": [
      "--------------------------------------------------------------------------------\n",
      "Iteration 32\n",
      "model min and max: 4.922593199750816 5.387090509279762\n",
      "data misfit: 167.71296524705306\n",
      "regularisation: 0.5699269969763047\n"
     ]
    },
    {
     "name": "stdout",
     "output_type": "stream",
     "text": [
      "--------------------------------------------------------------------------------\n",
      "Iteration 33\n",
      "model min and max: 4.912468014404285 5.3888364231022114\n",
      "data misfit: 166.02991298112045\n",
      "regularisation: 0.5903765548599054\n"
     ]
    },
    {
     "name": "stdout",
     "output_type": "stream",
     "text": [
      "--------------------------------------------------------------------------------\n",
      "Iteration 34\n",
      "model min and max: 4.902426771555987 5.390556051427905\n",
      "data misfit: 164.36374380365098\n",
      "regularisation: 0.6107856710417556\n"
     ]
    },
    {
     "name": "stdout",
     "output_type": "stream",
     "text": [
      "--------------------------------------------------------------------------------\n",
      "Iteration 35\n",
      "model min and max: 4.892468266762715 5.392251128496479\n",
      "data misfit: 162.71427750170972\n",
      "regularisation: 0.6311460715487077\n"
     ]
    },
    {
     "name": "stdout",
     "output_type": "stream",
     "text": [
      "--------------------------------------------------------------------------------\n",
      "Iteration 36\n",
      "model min and max: 4.882591341300616 5.393923238140581\n",
      "data misfit: 161.0813373059921\n",
      "regularisation: 0.6514501102000767\n"
     ]
    },
    {
     "name": "stdout",
     "output_type": "stream",
     "text": [
      "--------------------------------------------------------------------------------\n",
      "Iteration 37\n",
      "model min and max: 4.872794877802553 5.395573836387058\n",
      "data misfit: 159.46474886077266\n",
      "regularisation: 0.6716907506294206\n"
     ]
    },
    {
     "name": "stdout",
     "output_type": "stream",
     "text": [
      "--------------------------------------------------------------------------------\n",
      "Iteration 38\n",
      "model min and max: 4.863077799232184 5.397204260303231\n",
      "data misfit: 157.86434051758454\n",
      "regularisation: 0.6918615228984512\n"
     ]
    },
    {
     "name": "stdout",
     "output_type": "stream",
     "text": [
      "--------------------------------------------------------------------------------\n",
      "Iteration 39\n",
      "model min and max: 4.853439062981364 5.398815737638305\n",
      "data misfit: 156.27994362813175\n",
      "regularisation: 0.7119564895261061\n"
     ]
    },
    {
     "name": "stdout",
     "output_type": "stream",
     "text": [
      "--------------------------------------------------------------------------------\n",
      "Iteration 40\n",
      "model min and max: 4.843877660539999 5.400409404939443\n",
      "data misfit: 154.7113914392031\n",
      "regularisation: 0.7319702319953137\n"
     ]
    },
    {
     "name": "stdout",
     "output_type": "stream",
     "text": [
      "--------------------------------------------------------------------------------\n",
      "Iteration 41\n",
      "model min and max: 4.834392614595396 5.401986306119138\n",
      "data misfit: 153.1585200053411\n",
      "regularisation: 0.751897796223306\n"
     ]
    },
    {
     "name": "stdout",
     "output_type": "stream",
     "text": [
      "--------------------------------------------------------------------------------\n",
      "Iteration 42\n",
      "model min and max: 4.824982976985505 5.403547402018978\n",
      "data misfit: 151.62116734960452\n",
      "regularisation: 0.7717346840168342\n"
     ]
    },
    {
     "name": "stdout",
     "output_type": "stream",
     "text": [
      "--------------------------------------------------------------------------------\n",
      "Iteration 43\n",
      "model min and max: 4.815647827351711 5.405093589754645\n",
      "data misfit: 150.09917404040849\n",
      "regularisation: 0.7914768181139261\n"
     ]
    },
    {
     "name": "stdout",
     "output_type": "stream",
     "text": [
      "--------------------------------------------------------------------------------\n",
      "Iteration 44\n",
      "model min and max: 4.806386269092722 5.406625684916964\n",
      "data misfit: 148.59238263640933\n",
      "regularisation: 0.8111205127409242\n"
     ]
    },
    {
     "name": "stdout",
     "output_type": "stream",
     "text": [
      "--------------------------------------------------------------------------------\n",
      "Iteration 45\n",
      "model min and max: 4.797197431706711 5.4081444492277875\n",
      "data misfit: 147.10063776580796\n",
      "regularisation: 0.8306624530384038\n"
     ]
    },
    {
     "name": "stdout",
     "output_type": "stream",
     "text": [
      "--------------------------------------------------------------------------------\n",
      "Iteration 46\n",
      "model min and max: 4.788080466379233 5.409650589184678\n",
      "data misfit: 145.6237860243799\n",
      "regularisation: 0.8500996723663843\n"
     ]
    },
    {
     "name": "stdout",
     "output_type": "stream",
     "text": [
      "--------------------------------------------------------------------------------\n",
      "Iteration 47\n",
      "model min and max: 4.779034546606621 5.411144754330455\n",
      "data misfit: 144.1616760628408\n",
      "regularisation: 0.869429526352276\n"
     ]
    },
    {
     "name": "stdout",
     "output_type": "stream",
     "text": [
      "--------------------------------------------------------------------------------\n",
      "Iteration 48\n",
      "model min and max: 4.77005886517078 5.4126275522111165\n",
      "data misfit: 142.71415837624176\n",
      "regularisation: 0.8886496780314453\n"
     ]
    },
    {
     "name": "stdout",
     "output_type": "stream",
     "text": [
      "--------------------------------------------------------------------------------\n",
      "Iteration 49\n",
      "model min and max: 4.7611526349220386 5.414099547408319\n"
     ]
    },
    {
     "name": "stdout",
     "output_type": "stream",
     "text": [
      "data misfit: 141.28108507204146\n",
      "regularisation: 0.9077580699494672\n"
     ]
    },
    {
     "name": "stdout",
     "output_type": "stream",
     "text": [
      "--------------------------------------------------------------------------------\n",
      "Iteration 50\n",
      "model min and max: 4.752315086329398 5.415561259851664\n",
      "data misfit: 139.86231043937474\n",
      "regularisation: 0.9267529054781188\n"
     ]
    },
    {
     "name": "stdout",
     "output_type": "stream",
     "text": [
      "--------------------------------------------------------------------------------\n",
      "Iteration 51\n",
      "model min and max: 4.743545468725472 5.417013174828796\n"
     ]
    },
    {
     "name": "stdout",
     "output_type": "stream",
     "text": [
      "data misfit: 138.4576902451595\n",
      "regularisation: 0.9456326378932499\n"
     ]
    },
    {
     "name": "stdout",
     "output_type": "stream",
     "text": [
      "--------------------------------------------------------------------------------\n",
      "Iteration 52\n",
      "model min and max: 4.734843045652011 5.418455745995548\n",
      "data misfit: 137.0670820466871\n",
      "regularisation: 0.9643959505529218\n"
     ]
    },
    {
     "name": "stdout",
     "output_type": "stream",
     "text": [
      "--------------------------------------------------------------------------------\n",
      "Iteration 53\n",
      "model min and max: 4.726207099023001 5.4198893984012555\n",
      "data misfit: 135.69034512639965\n",
      "regularisation: 0.9830417403567703\n"
     ]
    },
    {
     "name": "stdout",
     "output_type": "stream",
     "text": [
      "--------------------------------------------------------------------------------\n",
      "Iteration 54\n",
      "model min and max: 4.717636923781003 5.421314518653016\n",
      "data misfit: 134.32734005793296\n",
      "regularisation: 1.0015690966183368\n"
     ]
    },
    {
     "name": "stdout",
     "output_type": "stream",
     "text": [
      "--------------------------------------------------------------------------------\n",
      "Iteration 55\n",
      "model min and max: 4.709131830086291 5.422731475877268\n",
      "data misfit: 132.9779295692208\n",
      "regularisation: 1.0199772893835737\n"
     ]
    },
    {
     "name": "stdout",
     "output_type": "stream",
     "text": [
      "--------------------------------------------------------------------------------\n",
      "Iteration 56\n",
      "model min and max: 4.70069114243283 5.424140613264984\n"
     ]
    },
    {
     "name": "stdout",
     "output_type": "stream",
     "text": [
      "data misfit: 131.64197733763353\n",
      "regularisation: 1.0382657738390224\n"
     ]
    },
    {
     "name": "stdout",
     "output_type": "stream",
     "text": [
      "--------------------------------------------------------------------------------\n",
      "Iteration 57\n",
      "model min and max: 4.6923141972530615 5.425542250593246\n",
      "data misfit: 130.3193490218099\n",
      "regularisation: 1.0564341506472488\n"
     ]
    },
    {
     "name": "stdout",
     "output_type": "stream",
     "text": [
      "--------------------------------------------------------------------------------\n",
      "Iteration 58\n",
      "model min and max: 4.68400034517704 5.4269366873379346\n",
      "data misfit: 129.0099116150112\n",
      "regularisation: 1.0744821685378754\n"
     ]
    },
    {
     "name": "stdout",
     "output_type": "stream",
     "text": [
      "--------------------------------------------------------------------------------\n",
      "Iteration 59\n",
      "model min and max: 4.675748947098405 5.428324198049591\n",
      "data misfit: 127.71353343911387\n",
      "regularisation: 1.0924097120764973\n"
     ]
    },
    {
     "name": "stdout",
     "output_type": "stream",
     "text": [
      "--------------------------------------------------------------------------------\n",
      "Iteration 60\n",
      "model min and max: 4.667559377075943 5.4297050507170415\n",
      "data misfit: 126.43008461789586\n",
      "regularisation: 1.1102167898712543\n"
     ]
    },
    {
     "name": "stdout",
     "output_type": "stream",
     "text": [
      "--------------------------------------------------------------------------------\n",
      "Iteration 61\n",
      "model min and max: 4.659431019632144 5.431079485201721\n",
      "data misfit: 125.15943610782304\n",
      "regularisation: 1.1279035252465577\n"
     ]
    },
    {
     "name": "stdout",
     "output_type": "stream",
     "text": [
      "--------------------------------------------------------------------------------\n",
      "Iteration 62\n",
      "model min and max: 4.651363270487258 5.432447733346097\n",
      "data misfit: 123.90146088553449\n",
      "regularisation: 1.1454701438206103\n"
     ]
    },
    {
     "name": "stdout",
     "output_type": "stream",
     "text": [
      "--------------------------------------------------------------------------------\n",
      "Iteration 63\n",
      "model min and max: 4.6433555361267596 5.433810014739984\n",
      "data misfit: 122.6560328783673\n",
      "regularisation: 1.1629169744660792\n"
     ]
    },
    {
     "name": "stdout",
     "output_type": "stream",
     "text": [
      "--------------------------------------------------------------------------------\n",
      "Iteration 64\n",
      "model min and max: 4.635407231730734 5.435166525301702\n",
      "data misfit: 121.42302740112454\n",
      "regularisation: 1.180244427327086\n"
     ]
    },
    {
     "name": "stdout",
     "output_type": "stream",
     "text": [
      "--------------------------------------------------------------------------------\n",
      "Iteration 65\n",
      "model min and max: 4.627517783787276 5.4365174588685905\n",
      "data misfit: 120.20232132669571\n",
      "regularisation: 1.1974529992927707\n"
     ]
    },
    {
     "name": "stdout",
     "output_type": "stream",
     "text": [
      "--------------------------------------------------------------------------------\n",
      "Iteration 66\n",
      "model min and max: 4.61968662687178 5.437862988270548\n",
      "data misfit: 118.99379251676498\n",
      "regularisation: 1.2145432558775742\n"
     ]
    },
    {
     "name": "stdout",
     "output_type": "stream",
     "text": [
      "--------------------------------------------------------------------------------\n",
      "Iteration 67\n",
      "model min and max: 4.611913205864331 5.4392032858974675\n"
     ]
    },
    {
     "name": "stdout",
     "output_type": "stream",
     "text": [
      "data misfit: 117.79732043902516\n",
      "regularisation: 1.2315158348673299\n"
     ]
    },
    {
     "name": "stdout",
     "output_type": "stream",
     "text": [
      "--------------------------------------------------------------------------------\n",
      "Iteration 68\n",
      "model min and max: 4.604196972835468 5.4405385077424055\n",
      "data misfit: 116.61278550186493\n",
      "regularisation: 1.2483714297315704\n"
     ]
    },
    {
     "name": "stdout",
     "output_type": "stream",
     "text": [
      "--------------------------------------------------------------------------------\n",
      "Iteration 69\n",
      "model min and max: 4.596537389260186 5.44186879876963\n",
      "data misfit: 115.4400695986893\n",
      "regularisation: 1.2651107953642442\n"
     ]
    },
    {
     "name": "stdout",
     "output_type": "stream",
     "text": [
      "--------------------------------------------------------------------------------\n",
      "Iteration 70\n",
      "model min and max: 4.588933924906129 5.443194305164025\n"
     ]
    },
    {
     "name": "stdout",
     "output_type": "stream",
     "text": [
      "data misfit: 114.27905560311517\n",
      "regularisation: 1.2817347331320352\n"
     ]
    },
    {
     "name": "stdout",
     "output_type": "stream",
     "text": [
      "--------------------------------------------------------------------------------\n",
      "Iteration 71\n",
      "model min and max: 4.581386057254373 5.444515152949651\n"
     ]
    },
    {
     "name": "stdout",
     "output_type": "stream",
     "text": [
      "data misfit: 113.12962777685908\n",
      "regularisation: 1.2982440852738948\n"
     ]
    },
    {
     "name": "stdout",
     "output_type": "stream",
     "text": [
      "--------------------------------------------------------------------------------\n",
      "Iteration 72\n",
      "model min and max: 4.573893271416119 5.4458314621212285\n",
      "data misfit: 111.99167167496597\n",
      "regularisation: 1.3146397419426792\n"
     ]
    },
    {
     "name": "stdout",
     "output_type": "stream",
     "text": [
      "--------------------------------------------------------------------------------\n",
      "Iteration 73\n",
      "model min and max: 4.566455060606258 5.447143355528816\n",
      "data misfit: 110.86507371042079\n",
      "regularisation: 1.330922623759119\n"
     ]
    },
    {
     "name": "stdout",
     "output_type": "stream",
     "text": [
      "--------------------------------------------------------------------------------\n",
      "Iteration 74\n",
      "model min and max: 4.559070924813917 5.44845094126685\n"
     ]
    },
    {
     "name": "stdout",
     "output_type": "stream",
     "text": [
      "data misfit: 109.74972168905651\n",
      "regularisation: 1.3470936855258475\n"
     ]
    },
    {
     "name": "stdout",
     "output_type": "stream",
     "text": [
      "--------------------------------------------------------------------------------\n",
      "Iteration 75\n",
      "model min and max: 4.551740370186375 5.4497543152236485\n"
     ]
    },
    {
     "name": "stdout",
     "output_type": "stream",
     "text": [
      "data misfit: 108.64550462298934\n",
      "regularisation: 1.3631539059628426\n"
     ]
    },
    {
     "name": "stdout",
     "output_type": "stream",
     "text": [
      "--------------------------------------------------------------------------------\n",
      "Iteration 76\n",
      "model min and max: 4.5444629109085435 5.451053583547223\n"
     ]
    },
    {
     "name": "stdout",
     "output_type": "stream",
     "text": [
      "data misfit: 107.552312402364\n",
      "regularisation: 1.3791042909357187\n"
     ]
    },
    {
     "name": "stdout",
     "output_type": "stream",
     "text": [
      "--------------------------------------------------------------------------------\n",
      "Iteration 77\n",
      "model min and max: 4.537238068038325 5.452348833713711\n",
      "data misfit: 106.47003619955336\n",
      "regularisation: 1.3949458653028175\n"
     ]
    },
    {
     "name": "stdout",
     "output_type": "stream",
     "text": [
      "--------------------------------------------------------------------------------\n",
      "Iteration 78\n",
      "model min and max: 4.530065368466229 5.453640151818663\n",
      "data misfit: 105.39856824352779\n",
      "regularisation: 1.4106796759031328\n"
     ]
    },
    {
     "name": "stdout",
     "output_type": "stream",
     "text": [
      "--------------------------------------------------------------------------------\n",
      "Iteration 79\n",
      "model min and max: 4.5229443454238405 5.454927619238036\n"
     ]
    },
    {
     "name": "stdout",
     "output_type": "stream",
     "text": [
      "data misfit: 104.33780180995203\n",
      "regularisation: 1.426306778087154\n"
     ]
    },
    {
     "name": "stdout",
     "output_type": "stream",
     "text": [
      "--------------------------------------------------------------------------------\n",
      "Iteration 80\n",
      "model min and max: 4.5158745378381315 5.4562113109785075\n",
      "data misfit: 103.28763128559409\n",
      "regularisation: 1.441828240090048\n"
     ]
    },
    {
     "name": "stdout",
     "output_type": "stream",
     "text": [
      "--------------------------------------------------------------------------------\n",
      "Iteration 81\n",
      "model min and max: 4.508855493270218 5.457491300845515\n",
      "data misfit: 102.24795227460832\n",
      "regularisation: 1.4572451454483974\n"
     ]
    },
    {
     "name": "stdout",
     "output_type": "stream",
     "text": [
      "--------------------------------------------------------------------------------\n",
      "Iteration 82\n",
      "model min and max: 4.50188676187929 5.458767657970932\n",
      "data misfit: 101.21866112882478\n",
      "regularisation: 1.4725585816227456\n"
     ]
    },
    {
     "name": "stdout",
     "output_type": "stream",
     "text": [
      "--------------------------------------------------------------------------------\n",
      "Iteration 83\n",
      "model min and max: 4.494967901318093 5.460040446671436\n",
      "data misfit: 100.19965538774181\n",
      "regularisation: 1.4877696412919403\n"
     ]
    },
    {
     "name": "stdout",
     "output_type": "stream",
     "text": [
      "--------------------------------------------------------------------------------\n",
      "Iteration 84\n",
      "model min and max: 4.488098473702941 5.4613097231225485\n",
      "data misfit: 99.19083378845299\n",
      "regularisation: 1.502879418795527\n"
     ]
    },
    {
     "name": "stdout",
     "output_type": "stream",
     "text": [
      "--------------------------------------------------------------------------------\n",
      "Iteration 85\n",
      "model min and max: 4.481278048430551 5.462575547451118\n",
      "data misfit: 98.19209570727084\n",
      "regularisation: 1.5178890100537819\n"
     ]
    },
    {
     "name": "stdout",
     "output_type": "stream",
     "text": [
      "--------------------------------------------------------------------------------\n",
      "Iteration 86\n",
      "model min and max: 4.474506198985969 5.463837975812675\n"
     ]
    },
    {
     "name": "stdout",
     "output_type": "stream",
     "text": [
      "data misfit: 97.20334176265787\n",
      "regularisation: 1.5327995203037\n"
     ]
    },
    {
     "name": "stdout",
     "output_type": "stream",
     "text": [
      "--------------------------------------------------------------------------------\n",
      "Iteration 87\n",
      "model min and max: 4.467782504131351 5.465097054742372\n",
      "data misfit: 96.22447356239108\n",
      "regularisation: 1.5476120398863975\n"
     ]
    },
    {
     "name": "stdout",
     "output_type": "stream",
     "text": [
      "--------------------------------------------------------------------------------\n",
      "Iteration 88\n",
      "model min and max: 4.461106547429185 5.466352832166504\n",
      "data misfit: 95.25539353083107\n",
      "regularisation: 1.5623276606878707\n"
     ]
    },
    {
     "name": "stdout",
     "output_type": "stream",
     "text": [
      "--------------------------------------------------------------------------------\n",
      "Iteration 89\n",
      "model min and max: 4.454477917852457 5.467605355818298\n",
      "data misfit: 94.29600528769339\n",
      "regularisation: 1.576947477050529\n"
     ]
    },
    {
     "name": "stdout",
     "output_type": "stream",
     "text": [
      "--------------------------------------------------------------------------------\n",
      "Iteration 90\n",
      "model min and max: 4.447896209597973 5.468854667023702\n",
      "data misfit: 93.34621325777489\n",
      "regularisation: 1.5914725697351697\n"
     ]
    },
    {
     "name": "stdout",
     "output_type": "stream",
     "text": [
      "--------------------------------------------------------------------------------\n",
      "Iteration 91\n",
      "model min and max: 4.441361021254639 5.470100804738428\n",
      "data misfit: 92.40592294458668\n",
      "regularisation: 1.6059040139232905\n"
     ]
    },
    {
     "name": "stdout",
     "output_type": "stream",
     "text": [
      "--------------------------------------------------------------------------------\n",
      "Iteration 92\n",
      "model min and max: 4.43487195684533 5.471343807998605\n",
      "data misfit: 91.47504046287128\n",
      "regularisation: 1.6202428834732538\n"
     ]
    },
    {
     "name": "stdout",
     "output_type": "stream",
     "text": [
      "--------------------------------------------------------------------------------\n",
      "Iteration 93\n",
      "model min and max: 4.428428622778496 5.4725837089775995\n",
      "data misfit: 90.55347314896551\n",
      "regularisation: 1.6344902333539184\n"
     ]
    },
    {
     "name": "stdout",
     "output_type": "stream",
     "text": [
      "--------------------------------------------------------------------------------\n",
      "Iteration 94\n",
      "model min and max: 4.4220306328711585 5.473820544583677\n",
      "data misfit: 89.64112924285119\n",
      "regularisation: 1.6486471175990582\n"
     ]
    },
    {
     "name": "stdout",
     "output_type": "stream",
     "text": [
      "--------------------------------------------------------------------------------\n",
      "Iteration 95\n",
      "model min and max: 4.415677603772626 5.47505434565775\n",
      "data misfit: 88.73791789694776\n",
      "regularisation: 1.662714583579125\n"
     ]
    },
    {
     "name": "stdout",
     "output_type": "stream",
     "text": [
      "--------------------------------------------------------------------------------\n",
      "Iteration 96\n",
      "model min and max: 4.409369156141778 5.476285137003964\n"
     ]
    },
    {
     "name": "stdout",
     "output_type": "stream",
     "text": [
      "data misfit: 87.84374880995206\n",
      "regularisation: 1.6766936565901804\n"
     ]
    },
    {
     "name": "stdout",
     "output_type": "stream",
     "text": [
      "--------------------------------------------------------------------------------\n",
      "Iteration 97\n",
      "model min and max: 4.403104916155879 5.4775129502885544\n",
      "data misfit: 86.95853313942787\n",
      "regularisation: 1.690585358556468\n"
     ]
    },
    {
     "name": "stdout",
     "output_type": "stream",
     "text": [
      "--------------------------------------------------------------------------------\n",
      "Iteration 98\n",
      "model min and max: 4.39688451354931 5.478737814007189\n",
      "data misfit: 86.08218249025609\n",
      "regularisation: 1.7043907022673535\n"
     ]
    },
    {
     "name": "stdout",
     "output_type": "stream",
     "text": [
      "--------------------------------------------------------------------------------\n",
      "Iteration 99\n",
      "model min and max: 4.390707580980985 5.479959743130019\n"
     ]
    },
    {
     "name": "stdout",
     "output_type": "stream",
     "text": [
      "data misfit: 85.21460937810053\n",
      "regularisation: 1.7181106804167705\n"
     ]
    },
    {
     "name": "stdout",
     "output_type": "stream",
     "text": [
      "--------------------------------------------------------------------------------\n",
      "Iteration 100\n",
      "model min and max: 4.3845737572929835 5.481178772923998\n"
     ]
    },
    {
     "name": "stdout",
     "output_type": "stream",
     "text": [
      "data misfit: 84.35572743571626\n",
      "regularisation: 1.7317462762735651\n"
     ]
    },
    {
     "name": "stdout",
     "output_type": "stream",
     "text": [
      "--------------------------------------------------------------------------------\n",
      "Iteration 101\n",
      "model min and max: 4.378482683850396 5.482394915551317\n"
     ]
    },
    {
     "name": "stdout",
     "output_type": "stream",
     "text": [
      "data misfit: 83.50545076869427\n",
      "regularisation: 1.7452984675777568\n"
     ]
    },
    {
     "name": "stdout",
     "output_type": "stream",
     "text": [
      "--------------------------------------------------------------------------------\n",
      "Iteration 102\n",
      "model min and max: 4.372434005712405 5.483608192046762\n"
     ]
    },
    {
     "name": "stdout",
     "output_type": "stream",
     "text": [
      "data misfit: 82.66369488589048\n",
      "regularisation: 1.7587682050265108\n"
     ]
    },
    {
     "name": "stdout",
     "output_type": "stream",
     "text": [
      "--------------------------------------------------------------------------------\n",
      "Iteration 103\n",
      "model min and max: 4.366427372981393 5.484818622802273\n",
      "data misfit: 81.83037531711092\n",
      "regularisation: 1.77215644111403\n"
     ]
    },
    {
     "name": "stdout",
     "output_type": "stream",
     "text": [
      "--------------------------------------------------------------------------------\n",
      "Iteration 104\n",
      "model min and max: 4.36046243884271 5.486026226689294\n"
     ]
    },
    {
     "name": "stdout",
     "output_type": "stream",
     "text": [
      "data misfit: 81.00540905874284\n",
      "regularisation: 1.7854641025202056\n"
     ]
    },
    {
     "name": "stdout",
     "output_type": "stream",
     "text": [
      "--------------------------------------------------------------------------------\n",
      "Iteration 105\n",
      "model min and max: 4.354538859621489 5.487231017752785\n",
      "data misfit: 80.18871373270579\n",
      "regularisation: 1.798692107865697\n"
     ]
    },
    {
     "name": "stdout",
     "output_type": "stream",
     "text": [
      "--------------------------------------------------------------------------------\n",
      "Iteration 106\n",
      "model min and max: 4.348656295548764 5.488433010948002\n",
      "data misfit: 79.3802078191352\n",
      "regularisation: 1.8118413588832685\n"
     ]
    },
    {
     "name": "stdout",
     "output_type": "stream",
     "text": [
      "--------------------------------------------------------------------------------\n",
      "Iteration 107\n",
      "model min and max: 4.342814410670075 5.489632220254631\n"
     ]
    },
    {
     "name": "stdout",
     "output_type": "stream",
     "text": [
      "data misfit: 78.5798104960511\n",
      "regularisation: 1.8249127494809203\n"
     ]
    },
    {
     "name": "stdout",
     "output_type": "stream",
     "text": [
      "--------------------------------------------------------------------------------\n",
      "Iteration 108\n",
      "model min and max: 4.337012873230247 5.490828661824105\n",
      "data misfit: 77.78744159022175\n",
      "regularisation: 1.8379071543271472\n"
     ]
    },
    {
     "name": "stdout",
     "output_type": "stream",
     "text": [
      "--------------------------------------------------------------------------------\n",
      "Iteration 109\n",
      "model min and max: 4.331251353227135 5.492022342221712\n",
      "data misfit: 77.0030221191503\n",
      "regularisation: 1.8508254342865766\n"
     ]
    },
    {
     "name": "stdout",
     "output_type": "stream",
     "text": [
      "--------------------------------------------------------------------------------\n",
      "Iteration 110\n",
      "model min and max: 4.325529525685192 5.493213276526542\n",
      "data misfit: 76.2264735868664\n",
      "regularisation: 1.8636684387178917\n"
     ]
    },
    {
     "name": "stdout",
     "output_type": "stream",
     "text": [
      "--------------------------------------------------------------------------------\n",
      "Iteration 111\n",
      "model min and max: 4.319847067333837 5.4944014697764265\n"
     ]
    },
    {
     "name": "stdout",
     "output_type": "stream",
     "text": [
      "data misfit: 75.45771830630939\n",
      "regularisation: 1.8764369944170802\n"
     ]
    },
    {
     "name": "stdout",
     "output_type": "stream",
     "text": [
      "--------------------------------------------------------------------------------\n",
      "Iteration 112\n",
      "model min and max: 4.314203660311582 5.495586942374595\n",
      "data misfit: 74.69667928818569\n",
      "regularisation: 1.8891319271418063\n"
     ]
    },
    {
     "name": "stdout",
     "output_type": "stream",
     "text": [
      "--------------------------------------------------------------------------------\n",
      "Iteration 113\n",
      "model min and max: 4.308598988197551 5.496769691860969\n",
      "data misfit: 73.94328042053587\n",
      "regularisation: 1.9017540358210965\n"
     ]
    },
    {
     "name": "stdout",
     "output_type": "stream",
     "text": [
      "--------------------------------------------------------------------------------\n",
      "Iteration 114\n",
      "model min and max: 4.303032737924309 5.497949733304574\n"
     ]
    },
    {
     "name": "stdout",
     "output_type": "stream",
     "text": [
      "data misfit: 73.19744644654905\n",
      "regularisation: 1.914304116151919\n"
     ]
    },
    {
     "name": "stdout",
     "output_type": "stream",
     "text": [
      "--------------------------------------------------------------------------------\n",
      "Iteration 115\n",
      "model min and max: 4.297504599554022 5.499127067409318\n",
      "data misfit: 72.45910234956045\n",
      "regularisation: 1.9267829424258252\n"
     ]
    },
    {
     "name": "stdout",
     "output_type": "stream",
     "text": [
      "--------------------------------------------------------------------------------\n",
      "Iteration 116\n",
      "model min and max: 4.292014268015888 5.500301706227583\n",
      "data misfit: 71.72817455598872\n",
      "regularisation: 1.9391912776789375\n"
     ]
    },
    {
     "name": "stdout",
     "output_type": "stream",
     "text": [
      "--------------------------------------------------------------------------------\n",
      "Iteration 117\n",
      "model min and max: 4.286561438782184 5.501473654640322\n",
      "data misfit: 71.00458935794444\n",
      "regularisation: 1.9515298762959497\n"
     ]
    },
    {
     "name": "stdout",
     "output_type": "stream",
     "text": [
      "--------------------------------------------------------------------------------\n",
      "Iteration 118\n",
      "model min and max: 4.281145811891531 5.502642916648087\n",
      "data misfit: 70.28827462611076\n",
      "regularisation: 1.9637994606320182\n"
     ]
    },
    {
     "name": "stdout",
     "output_type": "stream",
     "text": [
      "--------------------------------------------------------------------------------\n",
      "Iteration 119\n",
      "model min and max: 4.2757670903563705 5.5038094971260145\n",
      "data misfit: 69.57915840577007\n",
      "regularisation: 1.9760007659522913\n"
     ]
    },
    {
     "name": "stdout",
     "output_type": "stream",
     "text": [
      "--------------------------------------------------------------------------------\n",
      "Iteration 120\n",
      "model min and max: 4.270424978966714 5.504973399530245\n"
     ]
    },
    {
     "name": "stdout",
     "output_type": "stream",
     "text": [
      "data misfit: 68.87716960268716\n",
      "regularisation: 1.9881344921447688\n"
     ]
    },
    {
     "name": "stdout",
     "output_type": "stream",
     "text": [
      "--------------------------------------------------------------------------------\n",
      "Iteration 121\n",
      "model min and max: 4.265119186558307 5.506134631531222\n",
      "data misfit: 68.18223767683703\n",
      "regularisation: 2.0002013392549696\n"
     ]
    },
    {
     "name": "stdout",
     "output_type": "stream",
     "text": [
      "--------------------------------------------------------------------------------\n",
      "Iteration 122\n",
      "model min and max: 4.259849423918306 5.507293193610819\n",
      "data misfit: 67.4942929906841\n",
      "regularisation: 2.0122019888929956\n"
     ]
    },
    {
     "name": "stdout",
     "output_type": "stream",
     "text": [
      "--------------------------------------------------------------------------------\n",
      "Iteration 123\n",
      "model min and max: 4.254615404356077 5.508449087681892\n",
      "data misfit: 66.8132665385752\n",
      "regularisation: 2.02413710621365\n"
     ]
    },
    {
     "name": "stdout",
     "output_type": "stream",
     "text": [
      "--------------------------------------------------------------------------------\n",
      "Iteration 124\n",
      "model min and max: 4.249416845887244 5.509602317773312\n",
      "data misfit: 66.1390898034179\n",
      "regularisation: 2.0360073573659565\n"
     ]
    },
    {
     "name": "stdout",
     "output_type": "stream",
     "text": [
      "--------------------------------------------------------------------------------\n",
      "Iteration 125\n",
      "model min and max: 4.244253467002162 5.510752883798681\n",
      "data misfit: 65.47169512494389\n",
      "regularisation: 2.0478133761533694\n"
     ]
    },
    {
     "name": "stdout",
     "output_type": "stream",
     "text": [
      "--------------------------------------------------------------------------------\n",
      "Iteration 126\n",
      "model min and max: 4.239124990316779 5.511900792580158\n",
      "data misfit: 64.81101541904546\n",
      "regularisation: 2.0595558008940613\n"
     ]
    },
    {
     "name": "stdout",
     "output_type": "stream",
     "text": [
      "--------------------------------------------------------------------------------\n",
      "Iteration 127\n",
      "model min and max: 4.234031140024763 5.513046038496205\n"
     ]
    },
    {
     "name": "stdout",
     "output_type": "stream",
     "text": [
      "data misfit: 64.15698425894404\n",
      "regularisation: 2.071235243702777\n"
     ]
    },
    {
     "name": "stdout",
     "output_type": "stream",
     "text": [
      "--------------------------------------------------------------------------------\n",
      "Iteration 128\n",
      "model min and max: 4.228971644783172 5.514188629029173\n",
      "data misfit: 63.50953587446653\n",
      "regularisation: 2.0828523203289273\n"
     ]
    },
    {
     "name": "stdout",
     "output_type": "stream",
     "text": [
      "--------------------------------------------------------------------------------\n",
      "Iteration 129\n",
      "model min and max: 4.223946233376993 5.515328559912066\n",
      "data misfit: 62.86860523167743\n",
      "regularisation: 2.094407619611672\n"
     ]
    },
    {
     "name": "stdout",
     "output_type": "stream",
     "text": [
      "--------------------------------------------------------------------------------\n",
      "Iteration 130\n",
      "model min and max: 4.218954638853396 5.516465832718424\n",
      "data misfit: 62.23412775581194\n",
      "regularisation: 2.1059017327408704\n"
     ]
    },
    {
     "name": "stdout",
     "output_type": "stream",
     "text": [
      "--------------------------------------------------------------------------------\n",
      "Iteration 131\n",
      "model min and max: 4.213996595741632 5.5176004457987\n",
      "data misfit: 61.60603968767131\n",
      "regularisation: 2.1173352249892985\n"
     ]
    },
    {
     "name": "stdout",
     "output_type": "stream",
     "text": [
      "--------------------------------------------------------------------------------\n",
      "Iteration 132\n",
      "model min and max: 4.209071841072082 5.5187324013448045\n"
     ]
    },
    {
     "name": "stdout",
     "output_type": "stream",
     "text": [
      "data misfit: 60.984277688308495\n",
      "regularisation: 2.128708658139144\n"
     ]
    },
    {
     "name": "stdout",
     "output_type": "stream",
     "text": [
      "--------------------------------------------------------------------------------\n",
      "Iteration 133\n",
      "model min and max: 4.204180115188243 5.519861698903814\n"
     ]
    },
    {
     "name": "stdout",
     "output_type": "stream",
     "text": [
      "data misfit: 60.36877905447854\n",
      "regularisation: 2.14002259046687\n"
     ]
    },
    {
     "name": "stdout",
     "output_type": "stream",
     "text": [
      "--------------------------------------------------------------------------------\n",
      "Iteration 134\n",
      "model min and max: 4.199321161009714 5.520988338702305\n",
      "data misfit: 59.75948186612955\n",
      "regularisation: 2.1512775557310757\n"
     ]
    },
    {
     "name": "stdout",
     "output_type": "stream",
     "text": [
      "--------------------------------------------------------------------------------\n",
      "Iteration 135\n",
      "model min and max: 4.194494723009283 5.52211232002948\n",
      "data misfit: 59.15632473765331\n",
      "regularisation: 2.1624740842767567\n"
     ]
    },
    {
     "name": "stdout",
     "output_type": "stream",
     "text": [
      "--------------------------------------------------------------------------------\n",
      "Iteration 136\n",
      "model min and max: 4.18970054781132 5.523233635577918\n",
      "data misfit: 58.55924679785758\n",
      "regularisation: 2.1736126945009517\n"
     ]
    },
    {
     "name": "stdout",
     "output_type": "stream",
     "text": [
      "--------------------------------------------------------------------------------\n",
      "Iteration 137\n",
      "model min and max: 4.184938385351463 5.524352289288368\n"
     ]
    },
    {
     "name": "stdout",
     "output_type": "stream",
     "text": [
      "data misfit: 57.9681878288178\n",
      "regularisation: 2.184693894615497\n"
     ]
    },
    {
     "name": "stdout",
     "output_type": "stream",
     "text": [
      "--------------------------------------------------------------------------------\n",
      "Iteration 138\n",
      "model min and max: 4.180207986344306 5.525468278958694\n"
     ]
    },
    {
     "name": "stdout",
     "output_type": "stream",
     "text": [
      "data misfit: 57.38308828504582\n",
      "regularisation: 2.195718181267711\n"
     ]
    },
    {
     "name": "stdout",
     "output_type": "stream",
     "text": [
      "--------------------------------------------------------------------------------\n",
      "Iteration 139\n",
      "model min and max: 4.175509105040877 5.526581601569068\n"
     ]
    },
    {
     "name": "stdout",
     "output_type": "stream",
     "text": [
      "data misfit: 56.803889056114414\n",
      "regularisation: 2.2066860482521444\n"
     ]
    },
    {
     "name": "stdout",
     "output_type": "stream",
     "text": [
      "--------------------------------------------------------------------------------\n",
      "Iteration 140\n",
      "model min and max: 4.170841498329951 5.52769225920735\n",
      "data misfit: 56.23053156803257\n",
      "regularisation: 2.217597971917725\n"
     ]
    },
    {
     "name": "stdout",
     "output_type": "stream",
     "text": [
      "--------------------------------------------------------------------------------\n",
      "Iteration 141\n",
      "model min and max: 4.166204924195168 5.528800244751748\n",
      "data misfit: 55.66295791121654\n",
      "regularisation: 2.2284544252669143\n"
     ]
    },
    {
     "name": "stdout",
     "output_type": "stream",
     "text": [
      "--------------------------------------------------------------------------------\n",
      "Iteration 142\n",
      "model min and max: 4.161599143431427 5.529905557962503\n",
      "data misfit: 55.101110884688204\n",
      "regularisation: 2.239255866067365\n"
     ]
    },
    {
     "name": "stdout",
     "output_type": "stream",
     "text": [
      "--------------------------------------------------------------------------------\n",
      "Iteration 143\n",
      "model min and max: 4.157023918135412 5.531008193299398\n",
      "data misfit: 54.54493361435493\n",
      "regularisation: 2.250002745309345\n"
     ]
    },
    {
     "name": "stdout",
     "output_type": "stream",
     "text": [
      "--------------------------------------------------------------------------------\n",
      "Iteration 144\n",
      "model min and max: 4.152479013754707 5.532108156181771\n"
     ]
    },
    {
     "name": "stdout",
     "output_type": "stream",
     "text": [
      "data misfit: 53.99436982441884\n",
      "regularisation: 2.260695506426905\n"
     ]
    },
    {
     "name": "stdout",
     "output_type": "stream",
     "text": [
      "--------------------------------------------------------------------------------\n",
      "Iteration 145\n",
      "model min and max: 4.147964197678362 5.5332054380055755\n",
      "data misfit: 53.449363864521075\n",
      "regularisation: 2.2713345889688377\n"
     ]
    },
    {
     "name": "stdout",
     "output_type": "stream",
     "text": [
      "--------------------------------------------------------------------------------\n",
      "Iteration 146\n",
      "model min and max: 4.1434792386711745 5.534300038402228\n",
      "data misfit: 52.909860673739665\n",
      "regularisation: 2.2819204136176836\n"
     ]
    },
    {
     "name": "stdout",
     "output_type": "stream",
     "text": [
      "--------------------------------------------------------------------------------\n",
      "Iteration 147\n",
      "model min and max: 4.139023907322609 5.535391955002175\n",
      "data misfit: 52.37580550427713\n",
      "regularisation: 2.29245339884138\n"
     ]
    },
    {
     "name": "stdout",
     "output_type": "stream",
     "text": [
      "--------------------------------------------------------------------------------\n",
      "Iteration 148\n",
      "model min and max: 4.134597977743592 5.536481183688433\n",
      "data misfit: 51.84714429588856\n",
      "regularisation: 2.3029339591662654\n"
     ]
    },
    {
     "name": "stdout",
     "output_type": "stream",
     "text": [
      "--------------------------------------------------------------------------------\n",
      "Iteration 149\n",
      "model min and max: 4.130201224732444 5.537567723196691\n",
      "data misfit: 51.323823633671275\n",
      "regularisation: 2.3133624918470037\n"
     ]
    },
    {
     "name": "stdout",
     "output_type": "stream",
     "text": [
      "--------------------------------------------------------------------------------\n",
      "Iteration 150\n",
      "model min and max: 4.12583342616095 5.538651572063363\n",
      "data misfit: 50.805790300154634\n",
      "regularisation: 2.3237393995954303\n"
     ]
    }
   ],
   "source": [
    "# hyperparameters\n",
    "lamda = 0.0001\n",
    "niter = 150\n",
    "inv_verbose = True\n",
    "step = 0.005\n",
    "\n",
    "# CoFI - define InversionOptions\n",
    "inv_options = InversionOptions()\n",
    "inv_options.set_tool(GaussNewton)\n",
    "inv_options.set_params(niter=niter, verbose=inv_verbose, step=step)\n",
    "\n",
    "# CoFI - define Inversion, run it\n",
    "inv = Inversion(ert_problem, inv_options)\n",
    "inv_result = inv.run()"
   ]
  },
  {
   "cell_type": "code",
   "execution_count": 19,
   "id": "a0146425",
   "metadata": {
    "execution": {
     "iopub.execute_input": "2022-09-14T01:22:18.390333Z",
     "iopub.status.busy": "2022-09-14T01:22:18.390003Z",
     "iopub.status.idle": "2022-09-14T01:22:18.602892Z",
     "shell.execute_reply": "2022-09-14T01:22:18.602462Z"
    },
    "papermill": {
     "duration": 0.269952,
     "end_time": "2022-09-14T01:22:18.603858",
     "exception": false,
     "start_time": "2022-09-14T01:22:18.333906",
     "status": "completed"
    },
    "tags": []
   },
   "outputs": [
    {
     "data": {
      "text/plain": [
       "Text(0.5, 1.0, 'Inferred model')"
      ]
     },
     "execution_count": 19,
     "metadata": {},
     "output_type": "execute_result"
    },
    {
     "data": {
      "image/png": "[encoded data removed]",
      "text/plain": [
       "<Figure size 640x480 with 2 Axes>"
      ]
     },
     "metadata": {},
     "output_type": "display_data"
    }
   ],
   "source": [
    "# convert from log space\n",
    "model = np.exp(inv_result.model)\n",
    "\n",
    "# plot inferred model\n",
    "ax = pygimli.show(ert_manager.paraDomain, data=model, label=r\"$\\Omega m$\")\n",
    "ax[0].set_title(\"Inferred model\")"
   ]
  },
  {
   "cell_type": "code",
   "execution_count": 20,
   "id": "ea8dfa12",
   "metadata": {
    "execution": {
     "iopub.execute_input": "2022-09-14T01:22:18.637480Z",
     "iopub.status.busy": "2022-09-14T01:22:18.637079Z",
     "iopub.status.idle": "2022-09-14T01:22:19.133099Z",
     "shell.execute_reply": "2022-09-14T01:22:19.132681Z"
    },
    "papermill": {
     "duration": 0.513562,
     "end_time": "2022-09-14T01:22:19.133994",
     "exception": false,
     "start_time": "2022-09-14T01:22:18.620432",
     "status": "completed"
    },
    "tags": []
   },
   "outputs": [
    {
     "data": {
      "text/plain": [
       "Text(0.5, 1.0, 'Synthetic data from inferred model')"
      ]
     },
     "execution_count": 20,
     "metadata": {},
     "output_type": "execute_result"
    },
    {
     "data": {
      "image/png": "[encoded data removed]",
      "text/plain": [
       "<Figure size 640x480 with 2 Axes>"
      ]
     },
     "metadata": {},
     "output_type": "display_data"
    }
   ],
   "source": [
    "# plot synthetic data\n",
    "d = forward_oprt.response(model)\n",
    "ax = ert.showERTData(scheme, vals=d, cMin=np.min(data[\"rhoa\"]), cMax=np.max(data[\"rhoa\"]))\n",
    "ax[0].set_title(\"Synthetic data from inferred model\")"
   ]
  },
  {
   "cell_type": "markdown",
   "id": "fe9d2139",
   "metadata": {
    "papermill": {
     "duration": 0.023178,
     "end_time": "2022-09-14T01:22:19.174641",
     "exception": false,
     "start_time": "2022-09-14T01:22:19.151463",
     "status": "completed"
    },
    "tags": []
   },
   "source": [
    "## 3. What's next?\n",
    "\n",
    "Now that we've seen the PyGIMLi ERT problem solved by two different inversion approaches through CoFI,\n",
    "it would be nice to see more inversion solvers (even a sampler!) and a similar problem\n",
    "defined with a rectangular mesh. If you'd like to see some self-contained examples, head to\n",
    "[this GitHub folder](https://github.com/inlab-geo/cofi-examples/tree/main/notebooks/pygimli_ert)\n",
    "to explore more."
   ]
  },
  {
   "cell_type": "markdown",
   "id": "bed86dd3",
   "metadata": {
    "papermill": {
     "duration": 0.016442,
     "end_time": "2022-09-14T01:22:19.207420",
     "exception": false,
     "start_time": "2022-09-14T01:22:19.190978",
     "status": "completed"
    },
    "tags": []
   },
   "source": [
    "<!-- ### 2.3 Bayesian sampling with emcee (exploration)\n",
    "\n",
    "CoFI needs more assumptions about the problem for a sampler to work - these are\n",
    "the log of posterior distribution density and walkers' starting positions.\n",
    "\n",
    "For the log posterior, we define here by specifying `log_prior` and `log_likelihood`.\n",
    "And CoFI will combine them to get the `log_posterior`. -->"
   ]
  },
  {
   "cell_type": "markdown",
   "id": "e80b172a",
   "metadata": {
    "papermill": {
     "duration": 0.016067,
     "end_time": "2022-09-14T01:22:19.239693",
     "exception": false,
     "start_time": "2022-09-14T01:22:19.223626",
     "status": "completed"
    },
    "tags": []
   },
   "source": [
    "---\n",
    "## Watermark"
   ]
  },
  {
   "cell_type": "code",
   "execution_count": 21,
   "id": "6bb00eeb",
   "metadata": {
    "execution": {
     "iopub.execute_input": "2022-09-14T01:22:19.273219Z",
     "iopub.status.busy": "2022-09-14T01:22:19.272935Z",
     "iopub.status.idle": "2022-09-14T01:22:19.560835Z",
     "shell.execute_reply": "2022-09-14T01:22:19.560405Z"
    },
    "papermill": {
     "duration": 0.305855,
     "end_time": "2022-09-14T01:22:19.561742",
     "exception": false,
     "start_time": "2022-09-14T01:22:19.255887",
     "status": "completed"
    },
    "tags": []
   },
   "outputs": [
    {
     "name": "stdout",
     "output_type": "stream",
     "text": [
      "cofi 0.1.2.dev9\n",
      "numpy 1.21.6\n",
      "scipy 1.9.1\n",
      "pygimli 1.2.6\n",
      "matplotlib 3.5.3\n",
      "emcee 3.1.2\n"
     ]
    },
    {
     "name": "stdout",
     "output_type": "stream",
     "text": [
      "arviz 0.12.1\n"
     ]
    }
   ],
   "source": [
    "watermark_list = [\"cofi\", \"numpy\", \"scipy\", \"pygimli\", \"matplotlib\", \"emcee\", \"arviz\"]\n",
    "for pkg in watermark_list:\n",
    "    pkg_var = __import__(pkg)\n",
    "    print(pkg, getattr(pkg_var, \"__version__\"))"
   ]
  }
 ],
 "metadata": {
  "kernelspec": {
   "display_name": "Python 3.10.5 ('cofi_env')",
   "language": "python",
   "name": "python3"
  },
  "language_info": {
   "codemirror_mode": {
    "name": "ipython",
    "version": 3
   },
   "file_extension": ".py",
   "mimetype": "text/x-python",
   "name": "python",
   "nbconvert_exporter": "python",
   "pygments_lexer": "ipython3",
   "version": "3.10.6"
  },
  "papermill": {
   "default_parameters": {},
   "duration": 530.012237,
   "end_time": "2022-09-14T01:22:20.095965",
   "environment_variables": {},
   "exception": null,
   "input_path": "/home/jiawen/cofi/docs/cofi-examples/notebooks/pygimli_ert/pygimli_ert.ipynb",
   "output_path": "/home/jiawen/cofi/docs/cofi-examples/notebooks/pygimli_ert/pygimli_ert.ipynb",
   "parameters": {},
   "start_time": "2022-09-14T01:13:30.083728",
   "version": "2.3.4"
  },
  "vscode": {
   "interpreter": {
    "hash": "f53af8d4cb0cee79f8d6d6212f461365278bf68c0ce0b4237b6e88ef77d505ea"
   }
  }
 },
 "nbformat": 4,
 "nbformat_minor": 5
}