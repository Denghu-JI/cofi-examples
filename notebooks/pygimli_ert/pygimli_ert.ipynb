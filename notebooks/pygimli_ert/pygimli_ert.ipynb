{
 "cells": [
  {
   "cell_type": "markdown",
   "metadata": {},
   "source": [
    "# PyGIMLi - Electrical Resistivity Tomography"
   ]
  },
  {
   "cell_type": "markdown",
   "metadata": {},
   "source": [
    "Using the ERT solver implemented provided by [PyGIMLi](https://www.pygimli.org/), \n",
    "we use different `cofi` solvers to solve the corresponding inverse problem."
   ]
  },
  {
   "cell_type": "markdown",
   "metadata": {},
   "source": [
    "{{ badge }}"
   ]
  },
  {
   "cell_type": "markdown",
   "metadata": {},
   "source": [
    "<!-- Again, please don't touch the markdown cell above. We'll generate badge \n",
    "     automatically from the above cell. -->\n",
    "\n",
    "<!-- This cell describes things related to environment setup, so please add more text \n",
    "     if something special (not listed below) is needed to run this notebook -->\n",
    "\n",
    "> If you are running this notebook locally, make sure you've followed [steps here](https://github.com/inlab-geo/cofi-examples#run-the-examples-with-cofi-locally)\n",
    "to set up the environment. (This [environment.yml](https://github.com/inlab-geo/cofi-examples/blob/main/environment.yml) file\n",
    "specifies a list of packages required to run the notebooks)"
   ]
  },
  {
   "cell_type": "markdown",
   "metadata": {},
   "source": [
    "## 0. Import modules"
   ]
  },
  {
   "cell_type": "code",
   "execution_count": null,
   "metadata": {},
   "outputs": [],
   "source": [
    "# -------------------------------------------------------- #\n",
    "#                                                          #\n",
    "#     Uncomment below to set up environment on \"colab\"     #\n",
    "#                                                          #\n",
    "# -------------------------------------------------------- #\n",
    "\n",
    "# !pip install -U cofi\n",
    "\n",
    "# !MINICONDA_INSTALLER_SCRIPT=Miniconda3-4.5.4-Linux-x86_64.sh\n",
    "# !MINICONDA_PREFIX=/usr/local\n",
    "# !wget https://repo.continuum.io/miniconda/$MINICONDA_INSTALLER_SCRIPT\n",
    "# !chmod +x $MINICONDA_INSTALLER_SCRIPT\n",
    "# !./$MINICONDA_INSTALLER_SCRIPT -b -f -p $MINICONDA_PREFIX\n",
    "# !conda install -c gimli pygimli -y\n",
    "\n",
    "# import sys\n",
    "# _ = (sys.path.append(\"/usr/local/lib/python3.7/site-packages\"))"
   ]
  },
  {
   "cell_type": "markdown",
   "metadata": {},
   "source": [
    "We will need the following packages:\n",
    "\n",
    "- `numpy` for matrices and matrix-related functions\n",
    "- `matplotlib` for plotting\n",
    "- `pygimli` for forward modelling of the problem\n",
    "- `cofi` for accessing different inference solvers\n",
    "\n",
    "Additionally, we wrap some `pygimli` code in file `pygimli_ert_lib.py` and import it\n",
    "here for conciseness."
   ]
  },
  {
   "cell_type": "code",
   "execution_count": null,
   "metadata": {},
   "outputs": [],
   "source": [
    "import numpy as np\n",
    "import matplotlib.pyplot as plt\n",
    "import pygimli\n",
    "from pygimli import meshtools\n",
    "from pygimli.physics import ert\n",
    "\n",
    "from cofi import BaseProblem, InversionOptions, Inversion\n",
    "from cofi.solvers import BaseSolver\n",
    "\n",
    "from pygimli_ert_lib import *\n",
    "\n",
    "np.random.seed(42)"
   ]
  },
  {
   "cell_type": "markdown",
   "metadata": {},
   "source": [
    "## 1. Define the problem"
   ]
  },
  {
   "cell_type": "markdown",
   "metadata": {},
   "source": [
    "We first define the true model, the survey and map it on a computational mesh designed for the survey and true anomaly."
   ]
  },
  {
   "cell_type": "code",
   "execution_count": null,
   "metadata": {},
   "outputs": [],
   "source": [
    "# PyGIMLi - define measuring scheme, geometry, forward mesh and true model\n",
    "scheme = survey_scheme()\n",
    "mesh, rhomap = model_true(scheme)\n",
    "\n",
    "# plot the true model\n",
    "ax = pygimli.show(mesh, data=rhomap, label=\"$\\Omega m$\", showMesh=True)\n",
    "ax[0].set_title(\"True model\")"
   ]
  },
  {
   "cell_type": "markdown",
   "metadata": {},
   "source": [
    "Generate the synthetic data as a container with all the necessary information for plotting."
   ]
  },
  {
   "cell_type": "code",
   "execution_count": null,
   "metadata": {},
   "outputs": [],
   "source": [
    "# PyGIMLi - generate data\n",
    "data, log_data = ert_simulate(mesh, scheme, rhomap)\n",
    "\n",
    "ax = ert.show(data)\n",
    "ax[0].set_title(\"Provided data\")"
   ]
  },
  {
   "cell_type": "markdown",
   "metadata": {},
   "source": [
    "Further, we create a `pygimli.ert.ERTManager` instance to keep record of problem-specific\n",
    "information like the inversion mesh, and to perform forward operation for the inversion\n",
    "solvers."
   ]
  },
  {
   "cell_type": "code",
   "execution_count": null,
   "metadata": {},
   "outputs": [],
   "source": [
    "# create PyGIMLi's ERT manager\n",
    "ert_manager = ert_manager(data)"
   ]
  },
  {
   "cell_type": "markdown",
   "metadata": {},
   "source": [
    "The inversion can use a different mesh and the mesh to be used should know nothing about the mesh that was designed based on the true model. We wrap two kinds of mesh as examples in the library code `pygimli_ert_lib.py`, namely triangular and rectangular mesh.\n",
    "\n",
    "Use `imesh_tri = inversion_mesh(scheme)` to initialise a triangular mesh. This function uses PyGIMLi's own mesh generator\n",
    "and generates triangular mesh automatically from given sensor locations. The resulting mesh will have a smaller area as \n",
    "unknowns to be inverted, as well as a background part with values prolongated outside from the parametric domain by PyGIMLi.\n",
    "You will see an example plot in the code cell below. \n",
    "\n",
    "Use `imesh_rect = inversion_mesh_rect(ert_manager)` to initislise a rectangular mesh. The grid mesh is created from these x and y\n",
    "nodes: `x = np.linspace(start=-5, stop=55, num=61)`, and `y = np.linspace(start=-20,stop=0,num=10)`. And again, there's a triangular\n",
    "background with values prolongated outside from the parametric domain by PyGIMLi.\n",
    "\n",
    "Here we first demonstrate how to use a *triangular mesh*. Note that this makes the inversion problem under-determined."
   ]
  },
  {
   "cell_type": "code",
   "execution_count": null,
   "metadata": {},
   "outputs": [],
   "source": [
    "inv_mesh = inversion_mesh_rect(ert_manager)\n",
    "ax = pygimli.show(inv_mesh, showMesh=True, markers=True)\n",
    "ax[0].set_title(\"Mesh used for inversion\")"
   ]
  },
  {
   "cell_type": "markdown",
   "metadata": {},
   "source": [
    "Check [here](https://github.com/inlab-geo/cofi-examples/tree/main/notebooks/pygimli_ert)\n",
    "for inversion examples using triangular mesh."
   ]
  },
  {
   "cell_type": "markdown",
   "metadata": {},
   "source": [
    "With the inversion mesh created, we now define a starting model, forward operator and \n",
    "weighting matrix for regularisation using PyGIMLi."
   ]
  },
  {
   "cell_type": "code",
   "execution_count": null,
   "metadata": {},
   "outputs": [],
   "source": [
    "# PyGIMLi's forward operator (ERTModelling)\n",
    "forward_oprt = ert_forward_operator(ert_manager, scheme, inv_mesh)\n",
    "\n",
    "# extract regularisation matrix\n",
    "Wm = reg_matrix(forward_oprt)\n",
    "\n",
    "# initialise a starting model for inversion\n",
    "start_model = starting_model(ert_manager)\n",
    "ax = pygimli.show(ert_manager.paraDomain, data=start_model, label=\"$\\Omega m$\", showMesh=True)\n",
    "ax[0].set_title(\"Starting model\")"
   ]
  },
  {
   "cell_type": "markdown",
   "metadata": {},
   "source": [
    "CoFI and other inference packages require a set of functions that provide the misfit, the jacobian the residual within the case of scipy standardised interfaces. All these functions are defined in the library file `pygimli_ert_lib.py`, so open this file if you'd like to find out the details. These functions are:\n",
    "\n",
    "- `get_response`\n",
    "- `get_jacobian`\n",
    "- `get_residuals`\n",
    "- `get_misfit`\n",
    "- `get_regularisation`\n",
    "- `get_gradient`\n",
    "- `get_hessian`"
   ]
  },
  {
   "cell_type": "markdown",
   "metadata": {},
   "source": [
    "With all the above forward operations set up with PyGIMLi, we now define the problem in `cofi`\n",
    "by setting the problem information for a `BaseProblem` object."
   ]
  },
  {
   "cell_type": "code",
   "execution_count": null,
   "metadata": {},
   "outputs": [],
   "source": [
    "# hyperparameters\n",
    "lamda = 0.0005\n",
    "\n",
    "# CoFI - define BaseProblem\n",
    "ert_problem = BaseProblem()\n",
    "ert_problem.name = \"Electrical Resistivity Tomography defined through PyGIMLi\"\n",
    "ert_problem.set_forward(get_response, args=[forward_oprt])\n",
    "ert_problem.set_jacobian(get_jacobian, args=[forward_oprt])\n",
    "ert_problem.set_residual(get_residual, args=[log_data, forward_oprt])\n",
    "ert_problem.set_data_misfit(get_data_misfit, args=[log_data, forward_oprt])\n",
    "ert_problem.set_regularisation(get_regularisation, args=[Wm, lamda])\n",
    "ert_problem.set_gradient(get_gradient, args=[log_data, forward_oprt, Wm, lamda])\n",
    "ert_problem.set_hessian(get_hessian, args=[log_data, forward_oprt, Wm, lamda])\n",
    "ert_problem.set_initial_model(start_model)"
   ]
  },
  {
   "cell_type": "markdown",
   "metadata": {},
   "source": [
    "Review what information is included in the `BaseProblem` object:"
   ]
  },
  {
   "cell_type": "code",
   "execution_count": null,
   "metadata": {},
   "outputs": [],
   "source": [
    "ert_problem.summary()"
   ]
  },
  {
   "cell_type": "markdown",
   "metadata": {},
   "source": [
    "## 2. Define the inversion options and run\n",
    "\n",
    "### 2.1 SciPy's optimiser ([TNC](https://docs.scipy.org/doc/scipy/reference/optimize.minimize-tnc.html#optimize-minimize-tnc))"
   ]
  },
  {
   "cell_type": "code",
   "execution_count": null,
   "metadata": {},
   "outputs": [],
   "source": [
    "ert_problem.suggest_solvers();"
   ]
  },
  {
   "cell_type": "code",
   "execution_count": null,
   "metadata": {},
   "outputs": [],
   "source": [
    "inv_options_scipy = InversionOptions()\n",
    "inv_options_scipy.set_tool(\"scipy.optimize.minimize\")\n",
    "inv_options_scipy.set_params(method=\"trust-constr\")"
   ]
  },
  {
   "cell_type": "markdown",
   "metadata": {},
   "source": [
    "Review what's been defined for the inversion we are about to run:"
   ]
  },
  {
   "cell_type": "code",
   "execution_count": null,
   "metadata": {},
   "outputs": [],
   "source": [
    "inv_options_scipy.summary()"
   ]
  },
  {
   "cell_type": "code",
   "execution_count": null,
   "metadata": {},
   "outputs": [],
   "source": [
    "inv = Inversion(ert_problem, inv_options_scipy)\n",
    "inv_result = inv.run()\n",
    "inv_result.summary()"
   ]
  },
  {
   "cell_type": "code",
   "execution_count": null,
   "metadata": {},
   "outputs": [],
   "source": [
    "inv_result.success"
   ]
  },
  {
   "cell_type": "markdown",
   "metadata": {},
   "source": [
    "Plot the results:"
   ]
  },
  {
   "cell_type": "code",
   "execution_count": null,
   "metadata": {},
   "outputs": [],
   "source": [
    "# plot inferred model\n",
    "inv_result.summary()\n",
    "ax = pygimli.show(ert_manager.paraDomain, data=inv_result.model, label=r\"$\\Omega m$\")\n",
    "ax[0].set_title(\"Inferred model\")"
   ]
  },
  {
   "cell_type": "code",
   "execution_count": null,
   "metadata": {},
   "outputs": [],
   "source": [
    "# plot synthetic data\n",
    "d = forward_oprt.response(inv_result.model)\n",
    "ax = ert.showERTData(scheme, vals=d)\n",
    "ax[0].set_title(\"Synthetic data from inferred model\")"
   ]
  },
  {
   "cell_type": "markdown",
   "metadata": {},
   "source": [
    "### 2.2 A custom [Newton's optimisation](https://en.wikipedia.org/wiki/Newton%27s_method_in_optimization) approach\n",
    "\n",
    "Now we switch to a Newton's iterative approach written by ourselves, so you'll \n",
    "have a closer look at what's happening in the loop.\n",
    "\n",
    "First of all, define our own solver."
   ]
  },
  {
   "cell_type": "code",
   "execution_count": null,
   "metadata": {},
   "outputs": [],
   "source": [
    "class GaussNewton(BaseSolver):\n",
    "    def __init__(self, inv_problem, inv_options):\n",
    "        __params = inv_options.get_params()\n",
    "        self._niter = __params.get(\"niter\", 100)\n",
    "        self._verbose = __params.get(\"verbose\", True)\n",
    "        self._step = __params.get(\"step\", 1)\n",
    "        self._model_0 = inv_problem.initial_model\n",
    "        self._residual = inv_problem.residual\n",
    "        self._jacobian = inv_problem.jacobian\n",
    "        self._gradient = inv_problem.gradient\n",
    "        self._hessian = inv_problem.hessian\n",
    "        self._misfit = inv_problem.data_misfit if inv_problem.data_misfit_defined else None\n",
    "        self._reg = inv_problem.regularisation if inv_problem.regularisation_defined else None\n",
    "        self._obj = inv_problem.objective if inv_problem.objective_defined else None\n",
    "\n",
    "    def __call__(self):\n",
    "        current_model = np.array(self._model_0)\n",
    "        for i in range(self._niter):\n",
    "            if self._verbose:\n",
    "                print(\"-\" * 80)\n",
    "                print(f\"Iteration {i+1}\")\n",
    "                print(\"model min and max:\", np.min(current_model), np.max(current_model))\n",
    "                if self._misfit: print(\"data misfit:\", self._misfit(current_model))\n",
    "                if self._reg: print(\"regularisation:\", self._reg(current_model))\n",
    "            term1 = self._hessian(current_model)\n",
    "            term2 = - self._gradient(current_model)\n",
    "            model_update = np.linalg.solve(term1, term2) * self._step\n",
    "            current_model = np.array(current_model + model_update)\n",
    "        return {\"model\": current_model, \"success\": True}"
   ]
  },
  {
   "cell_type": "markdown",
   "metadata": {},
   "source": [
    "Now, make use of this custom solver and run inversion again:"
   ]
  },
  {
   "cell_type": "code",
   "execution_count": null,
   "metadata": {},
   "outputs": [],
   "source": [
    "# hyperparameters\n",
    "niter = 50\n",
    "inv_verbose = True\n",
    "step = 2\n",
    "\n",
    "# CoFI - define InversionOptions\n",
    "inv_options_gauss_newton = InversionOptions()\n",
    "inv_options_gauss_newton.set_tool(GaussNewton)\n",
    "inv_options_gauss_newton.set_params(niter=niter, verbose=inv_verbose, step=step)\n",
    "\n",
    "# CoFI - define Inversion, run it\n",
    "inv = Inversion(ert_problem, inv_options_gauss_newton)\n",
    "inv_result = inv.run()"
   ]
  },
  {
   "cell_type": "code",
   "execution_count": null,
   "metadata": {},
   "outputs": [],
   "source": [
    "# plot inferred model\n",
    "inv_result.summary()\n",
    "ax = pygimli.show(ert_manager.paraDomain, data=inv_result.model, label=r\"$\\Omega m$\")\n",
    "ax[0].set_title(\"Inferred model\")"
   ]
  },
  {
   "cell_type": "code",
   "execution_count": null,
   "metadata": {},
   "outputs": [],
   "source": [
    "# plot synthetic data\n",
    "d = forward_oprt.response(inv_result.model)\n",
    "ax = ert.showERTData(scheme, vals=d)\n",
    "ax[0].set_title(\"Synthetic data from inferred model\")"
   ]
  },
  {
   "cell_type": "markdown",
   "metadata": {},
   "source": [
    "<!-- ### 2.3 Bayesian sampling with emcee (exploration)\n",
    "\n",
    "CoFI needs more assumptions about the problem for a sampler to work - these are\n",
    "the log of posterior distribution density and walkers' starting positions.\n",
    "\n",
    "For the log posterior, we define here by specifying `log_prior` and `log_likelihood`.\n",
    "And CoFI will combine them to get the `log_posterior`. -->"
   ]
  },
  {
   "cell_type": "markdown",
   "metadata": {},
   "source": [
    "---\n",
    "## Watermark"
   ]
  },
  {
   "cell_type": "code",
   "execution_count": null,
   "metadata": {},
   "outputs": [],
   "source": [
    "watermark_list = [\"cofi\", \"numpy\", \"scipy\", \"pygimli\", \"matplotlib\", \"emcee\", \"arviz\"]\n",
    "for pkg in watermark_list:\n",
    "    pkg_var = __import__(pkg)\n",
    "    print(pkg, getattr(pkg_var, \"__version__\"))"
   ]
  }
 ],
 "metadata": {
  "kernelspec": {
   "display_name": "Python 3.10.5 ('cofi_env')",
   "language": "python",
   "name": "python3"
  },
  "language_info": {
   "name": "python",
   "version": "3.10.5"
  },
  "orig_nbformat": 4,
  "vscode": {
   "interpreter": {
    "hash": "f53af8d4cb0cee79f8d6d6212f461365278bf68c0ce0b4237b6e88ef77d505ea"
   }
  }
 },
 "nbformat": 4,
 "nbformat_minor": 2
}
