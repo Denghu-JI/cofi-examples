{
 "cells": [
  {
   "cell_type": "markdown",
   "id": "486df120",
   "metadata": {
    "papermill": {
     "duration": 0.004434,
     "end_time": "2022-07-29T02:35:55.949884",
     "exception": false,
     "start_time": "2022-07-29T02:35:55.945450",
     "status": "completed"
    },
    "tags": []
   },
   "source": [
    "# PyGIMLi - Electrical Resistivity Tomography"
   ]
  },
  {
   "cell_type": "markdown",
   "id": "f0144118",
   "metadata": {
    "papermill": {
     "duration": 0.004303,
     "end_time": "2022-07-29T02:35:55.958367",
     "exception": false,
     "start_time": "2022-07-29T02:35:55.954064",
     "status": "completed"
    },
    "tags": []
   },
   "source": [
    "Using the ERT solver implemented provided by [PyGIMLi](https://www.pygimli.org/), \n",
    "we use different `cofi` solvers to solve the corresponding inverse problem."
   ]
  },
  {
   "cell_type": "markdown",
   "id": "0b36177e",
   "metadata": {
    "papermill": {
     "duration": 0.004063,
     "end_time": "2022-07-29T02:35:55.966740",
     "exception": false,
     "start_time": "2022-07-29T02:35:55.962677",
     "status": "completed"
    },
    "tags": []
   },
   "source": [
    "<!--<badge>--><a href=\"https://colab.research.google.com/github/inlab-geo/cofi-examples/blob/main/notebooks/pygimli_ert/pygimli_ert.ipynb\" target=\"_parent\"><img src=\"https://colab.research.google.com/assets/colab-badge.svg\" alt=\"Open In Colab\"/></a><!--</badge>-->"
   ]
  },
  {
   "cell_type": "markdown",
   "id": "01c4ba3c",
   "metadata": {
    "papermill": {
     "duration": 0.005641,
     "end_time": "2022-07-29T02:35:55.976223",
     "exception": false,
     "start_time": "2022-07-29T02:35:55.970582",
     "status": "completed"
    },
    "tags": []
   },
   "source": [
    "<!-- Again, please don't touch the markdown cell above. We'll generate badge \n",
    "     automatically from the above cell. -->\n",
    "\n",
    "<!-- This cell describes things related to environment setup, so please add more text \n",
    "     if something special (not listed below) is needed to run this notebook -->\n",
    "\n",
    "> If you are running this notebook locally, make sure you've followed [steps here](https://github.com/inlab-geo/cofi-examples#run-the-examples-with-cofi-locally)\n",
    "to set up the environment. (This [environment.yml](https://github.com/inlab-geo/cofi-examples/blob/main/environment.yml) file\n",
    "specifies a list of packages required to run the notebooks)"
   ]
  },
  {
   "cell_type": "markdown",
   "id": "90f5f3d5",
   "metadata": {
    "papermill": {
     "duration": 0.004037,
     "end_time": "2022-07-29T02:35:55.984118",
     "exception": false,
     "start_time": "2022-07-29T02:35:55.980081",
     "status": "completed"
    },
    "tags": []
   },
   "source": [
    "## 0. Import modules"
   ]
  },
  {
   "cell_type": "code",
   "execution_count": 1,
   "id": "789f1fac",
   "metadata": {
    "execution": {
     "iopub.execute_input": "2022-07-29T02:35:55.992855Z",
     "iopub.status.busy": "2022-07-29T02:35:55.992626Z",
     "iopub.status.idle": "2022-07-29T02:35:55.995442Z",
     "shell.execute_reply": "2022-07-29T02:35:55.995115Z"
    },
    "papermill": {
     "duration": 0.008307,
     "end_time": "2022-07-29T02:35:55.996295",
     "exception": false,
     "start_time": "2022-07-29T02:35:55.987988",
     "status": "completed"
    },
    "tags": []
   },
   "outputs": [],
   "source": [
    "# -------------------------------------------------------- #\n",
    "#                                                          #\n",
    "#     Uncomment below to set up environment on \"colab\"     #\n",
    "#                                                          #\n",
    "# -------------------------------------------------------- #\n",
    "\n",
    "# !pip install -U cofi\n",
    "\n",
    "# %env MINICONDA_INSTALLER_SCRIPT=Miniconda3-py37_4.10.3-Linux-x86_64.sh\n",
    "# %env MINICONDA_PREFIX=/usr/local\n",
    "# !wget https://repo.continuum.io/miniconda/$MINICONDA_INSTALLER_SCRIPT\n",
    "# !chmod +x $MINICONDA_INSTALLER_SCRIPT\n",
    "# !./$MINICONDA_INSTALLER_SCRIPT -b -f -p $MINICONDA_PREFIX\n",
    "# !conda install -c gimli pygimli -y\n",
    "\n",
    "# import sys\n",
    "# _ = (sys.path.append(\"/usr/local/lib/python3.7/site-packages\"))\n",
    "\n",
    "# !git clone https://github.com/inlab-geo/cofi-examples.git\n",
    "# %cd cofi-examples/notebooks/pygimli_ert"
   ]
  },
  {
   "cell_type": "markdown",
   "id": "8e70ee4c",
   "metadata": {
    "papermill": {
     "duration": 0.004046,
     "end_time": "2022-07-29T02:35:56.004241",
     "exception": false,
     "start_time": "2022-07-29T02:35:56.000195",
     "status": "completed"
    },
    "tags": []
   },
   "source": [
    "We will need the following packages:\n",
    "\n",
    "- `numpy` for matrices and matrix-related functions\n",
    "- `matplotlib` for plotting\n",
    "- `pygimli` for forward modelling of the problem\n",
    "- `cofi` for accessing different inference solvers\n",
    "\n",
    "Additionally, we wrap some `pygimli` code in file `pygimli_ert_lib.py` and import it\n",
    "here for conciseness."
   ]
  },
  {
   "cell_type": "code",
   "execution_count": 2,
   "id": "ec18e85b",
   "metadata": {
    "execution": {
     "iopub.execute_input": "2022-07-29T02:35:56.012971Z",
     "iopub.status.busy": "2022-07-29T02:35:56.012796Z",
     "iopub.status.idle": "2022-07-29T02:35:57.079630Z",
     "shell.execute_reply": "2022-07-29T02:35:57.079204Z"
    },
    "papermill": {
     "duration": 1.072948,
     "end_time": "2022-07-29T02:35:57.081141",
     "exception": false,
     "start_time": "2022-07-29T02:35:56.008193",
     "status": "completed"
    },
    "tags": []
   },
   "outputs": [],
   "source": [
    "import numpy as np\n",
    "import pygimli\n",
    "from pygimli.physics import ert\n",
    "\n",
    "from cofi import BaseProblem, InversionOptions, Inversion\n",
    "from cofi.solvers import BaseSolver\n",
    "\n",
    "from pygimli_ert_lib import *\n",
    "\n",
    "np.random.seed(42)"
   ]
  },
  {
   "cell_type": "markdown",
   "id": "2fe2b170",
   "metadata": {
    "papermill": {
     "duration": 0.004513,
     "end_time": "2022-07-29T02:35:57.090739",
     "exception": false,
     "start_time": "2022-07-29T02:35:57.086226",
     "status": "completed"
    },
    "tags": []
   },
   "source": [
    "## 1. Define the problem"
   ]
  },
  {
   "cell_type": "markdown",
   "id": "2e9e63ac",
   "metadata": {
    "papermill": {
     "duration": 0.003985,
     "end_time": "2022-07-29T02:35:57.098855",
     "exception": false,
     "start_time": "2022-07-29T02:35:57.094870",
     "status": "completed"
    },
    "tags": []
   },
   "source": [
    "We first define the true model, the survey and map it on a computational mesh designed for the survey and true anomaly."
   ]
  },
  {
   "cell_type": "code",
   "execution_count": 3,
   "id": "52e68bd1",
   "metadata": {
    "execution": {
     "iopub.execute_input": "2022-07-29T02:35:57.107812Z",
     "iopub.status.busy": "2022-07-29T02:35:57.107491Z",
     "iopub.status.idle": "2022-07-29T02:35:57.435396Z",
     "shell.execute_reply": "2022-07-29T02:35:57.435000Z"
    },
    "papermill": {
     "duration": 0.333748,
     "end_time": "2022-07-29T02:35:57.436477",
     "exception": false,
     "start_time": "2022-07-29T02:35:57.102729",
     "status": "completed"
    },
    "tags": []
   },
   "outputs": [
    {
     "data": {
      "text/plain": [
       "Text(0.5, 1.0, 'True model')"
      ]
     },
     "execution_count": 3,
     "metadata": {},
     "output_type": "execute_result"
    },
    {
     "data": {
      "image/png": "[encoded data removed]",
      "text/plain": [
       "<Figure size 432x288 with 2 Axes>"
      ]
     },
     "metadata": {
      "needs_background": "light"
     },
     "output_type": "display_data"
    }
   ],
   "source": [
    "# PyGIMLi - define measuring scheme, geometry, forward mesh and true model\n",
    "scheme = survey_scheme()\n",
    "mesh, rhomap = model_true(scheme)\n",
    "\n",
    "# plot the true model\n",
    "ax = pygimli.show(mesh, data=rhomap, label=\"$\\Omega m$\", showMesh=True)\n",
    "ax[0].set_title(\"True model\")"
   ]
  },
  {
   "cell_type": "markdown",
   "id": "aa0e73c0",
   "metadata": {
    "papermill": {
     "duration": 0.009286,
     "end_time": "2022-07-29T02:35:57.451839",
     "exception": false,
     "start_time": "2022-07-29T02:35:57.442553",
     "status": "completed"
    },
    "tags": []
   },
   "source": [
    "Generate the synthetic data as a container with all the necessary information for plotting.\n",
    "\n",
    "In ERT problems, the model and data are by convention treated in log space. "
   ]
  },
  {
   "cell_type": "code",
   "execution_count": 4,
   "id": "416fa4c9",
   "metadata": {
    "execution": {
     "iopub.execute_input": "2022-07-29T02:35:57.486772Z",
     "iopub.status.busy": "2022-07-29T02:35:57.486539Z",
     "iopub.status.idle": "2022-07-29T02:35:57.978120Z",
     "shell.execute_reply": "2022-07-29T02:35:57.977735Z"
    },
    "papermill": {
     "duration": 0.509772,
     "end_time": "2022-07-29T02:35:57.979051",
     "exception": false,
     "start_time": "2022-07-29T02:35:57.469279",
     "status": "completed"
    },
    "tags": []
   },
   "outputs": [
    {
     "name": "stderr",
     "output_type": "stream",
     "text": [
      "29/07/22 - 12:35:57 - pyGIMLi - \u001b[0;32;49mINFO\u001b[0m - Calculate geometric factors.\n"
     ]
    },
    {
     "name": "stdout",
     "output_type": "stream",
     "text": [
      "ModellingBase::setMesh() copying new mesh ... Found datafile: 51 electrodes\n",
      "Found: 51 free-electrodes\n",
      "rMin = 0.5, rMax = 100\n",
      "NGauLeg + NGauLag for inverse Fouriertransformation: 13 + 4\n",
      "Found non-Neumann domain\n",
      "0.012 s\n",
      "FOP updating mesh dependencies ... 0 s\n",
      "relativeError set to a value > 0.5 .. assuming this is a percentage Error level dividing them by 100\n",
      "Data error estimate (min:max)  0.010009229451098493 : 0.22552739004919173\n",
      "Obtaining geometric factors (analytical)\n",
      "Calculating response for model: min = 50 max = 200\n",
      "Allocating memory for primary potential...... 0.003\n",
      "\n",
      "No primary potential for secondary field calculation. Calculating analytically...\n",
      "Factorize (Cholmod) matrix ... 0.005\n",
      "Factorize (Cholmod) matrix ... 0.005\n",
      "Factorize (Cholmod) matrix ... 0.004\n",
      "Factorize (Cholmod) matrix ... 0.004\n",
      "Factorize (Cholmod) matrix ... 0.005\n",
      "Factorize (Cholmod) matrix ... 0.004\n",
      "Factorize (Cholmod) matrix ... 0.004\n",
      "Factorize (Cholmod) matrix ... 0.005\n",
      "Factorize (Cholmod) matrix ... 0.004\n",
      "Factorize (Cholmod) matrix ... 0.004\n",
      "Factorize (Cholmod) matrix ... 0.005\n",
      "Factorize (Cholmod) matrix ... 0.004\n",
      "Factorize (Cholmod) matrix ... 0.004\n",
      "Factorize (Cholmod) matrix ... 0.004\n",
      "Factorize (Cholmod) matrix ... 0.004\n",
      "Factorize (Cholmod) matrix ... 0.004\n",
      "Factorize (Cholmod) matrix ... 0.004\n",
      "Forward: time: 0.16s\n",
      "Response: min = 98.7322 max = 218.789 mean = 173.9\n",
      "Reciprocity rms(modelReciprocity) 0.409386%, max: 1.53119%\n"
     ]
    },
    {
     "data": {
      "text/plain": [
       "Text(0.5, 1.0, 'Provided data')"
      ]
     },
     "execution_count": 4,
     "metadata": {},
     "output_type": "execute_result"
    },
    {
     "data": {
      "image/png": "[encoded data removed]",
      "text/plain": [
       "<Figure size 432x288 with 2 Axes>"
      ]
     },
     "metadata": {
      "needs_background": "light"
     },
     "output_type": "display_data"
    }
   ],
   "source": [
    "# PyGIMLi - generate data\n",
    "data, log_data, data_cov_inv = ert_simulate(mesh, scheme, rhomap)\n",
    "\n",
    "ax = ert.show(data)\n",
    "ax[0].set_title(\"Provided data\")"
   ]
  },
  {
   "cell_type": "markdown",
   "id": "83e11e30",
   "metadata": {
    "papermill": {
     "duration": 0.010772,
     "end_time": "2022-07-29T02:35:57.996012",
     "exception": false,
     "start_time": "2022-07-29T02:35:57.985240",
     "status": "completed"
    },
    "tags": []
   },
   "source": [
    "Further, we create a `pygimli.ert.ERTManager` instance to keep record of problem-specific\n",
    "information like the inversion mesh, and to perform forward operation for the inversion\n",
    "solvers."
   ]
  },
  {
   "cell_type": "code",
   "execution_count": 5,
   "id": "9058af7d",
   "metadata": {
    "execution": {
     "iopub.execute_input": "2022-07-29T02:35:58.021624Z",
     "iopub.status.busy": "2022-07-29T02:35:58.021389Z",
     "iopub.status.idle": "2022-07-29T02:35:58.023947Z",
     "shell.execute_reply": "2022-07-29T02:35:58.023596Z"
    },
    "papermill": {
     "duration": 0.017866,
     "end_time": "2022-07-29T02:35:58.027232",
     "exception": false,
     "start_time": "2022-07-29T02:35:58.009366",
     "status": "completed"
    },
    "tags": []
   },
   "outputs": [],
   "source": [
    "# create PyGIMLi's ERT manager\n",
    "ert_manager = ert_manager(data)"
   ]
  },
  {
   "cell_type": "markdown",
   "id": "1beb62a0",
   "metadata": {
    "papermill": {
     "duration": 0.005453,
     "end_time": "2022-07-29T02:35:58.041077",
     "exception": false,
     "start_time": "2022-07-29T02:35:58.035624",
     "status": "completed"
    },
    "tags": []
   },
   "source": [
    "The inversion can use a different mesh and the mesh to be used should know nothing about the mesh that was designed based on the true model. We wrap two kinds of mesh as examples in the library code `pygimli_ert_lib.py`, namely triangular and rectangular mesh.\n",
    "\n",
    "Use `imesh_tri = inversion_mesh(scheme)` to initialise a triangular mesh. This function uses PyGIMLi's own mesh generator\n",
    "and generates triangular mesh automatically from given sensor locations. The resulting mesh will have a smaller area as \n",
    "unknowns to be inverted, as well as a background part with values prolongated outside from the parametric domain by PyGIMLi.\n",
    "You will see an example plot in the code cell below. \n",
    "\n",
    "Use `imesh_rect = inversion_mesh_rect(ert_manager)` to initislise a rectangular mesh. The grid mesh is created from these x and y\n",
    "nodes: `x = np.linspace(start=-5, stop=55, num=61)`, and `y = np.linspace(start=-20,stop=0,num=10)`. And again, there's a triangular\n",
    "background with values prolongated outside from the parametric domain by PyGIMLi.\n",
    "\n",
    "Here we first demonstrate how to use a *triangular mesh*. Note that this makes the inversion problem under-determined."
   ]
  },
  {
   "cell_type": "code",
   "execution_count": 6,
   "id": "9f471f7f",
   "metadata": {
    "execution": {
     "iopub.execute_input": "2022-07-29T02:35:58.052843Z",
     "iopub.status.busy": "2022-07-29T02:35:58.052623Z",
     "iopub.status.idle": "2022-07-29T02:35:58.311250Z",
     "shell.execute_reply": "2022-07-29T02:35:58.310849Z"
    },
    "papermill": {
     "duration": 0.266256,
     "end_time": "2022-07-29T02:35:58.312284",
     "exception": false,
     "start_time": "2022-07-29T02:35:58.046028",
     "status": "completed"
    },
    "tags": []
   },
   "outputs": [
    {
     "name": "stderr",
     "output_type": "stream",
     "text": [
      "29/07/22 - 12:35:58 - pyGIMLi - \u001b[0;32;49mINFO\u001b[0m - Found 2 regions.\n"
     ]
    },
    {
     "name": "stderr",
     "output_type": "stream",
     "text": [
      "29/07/22 - 12:35:58 - pyGIMLi - \u001b[0;32;49mINFO\u001b[0m - Region with smallest marker (1) set to background\n"
     ]
    },
    {
     "data": {
      "text/plain": [
       "Text(0.5, 1.0, 'Mesh used for inversion')"
      ]
     },
     "execution_count": 6,
     "metadata": {},
     "output_type": "execute_result"
    },
    {
     "data": {
      "image/png": "[encoded data removed]",
      "text/plain": [
       "<Figure size 432x288 with 2 Axes>"
      ]
     },
     "metadata": {
      "needs_background": "light"
     },
     "output_type": "display_data"
    }
   ],
   "source": [
    "inv_mesh = inversion_mesh(ert_manager)\n",
    "ax = pygimli.show(inv_mesh, showMesh=True, markers=True)\n",
    "ax[0].set_title(\"Mesh used for inversion\")"
   ]
  },
  {
   "cell_type": "markdown",
   "id": "e19954d9",
   "metadata": {
    "papermill": {
     "duration": 0.045537,
     "end_time": "2022-07-29T02:35:58.364412",
     "exception": false,
     "start_time": "2022-07-29T02:35:58.318875",
     "status": "completed"
    },
    "tags": []
   },
   "source": [
    "[This folder](https://github.com/inlab-geo/cofi-examples/tree/main/notebooks/pygimli_ert)\n",
    "contains examples scripts that run inversion for triangular or rectangular meshes, with \n",
    "different inversion approaches."
   ]
  },
  {
   "cell_type": "markdown",
   "id": "2dfd82fe",
   "metadata": {
    "papermill": {
     "duration": 0.005482,
     "end_time": "2022-07-29T02:35:58.375516",
     "exception": false,
     "start_time": "2022-07-29T02:35:58.370034",
     "status": "completed"
    },
    "tags": []
   },
   "source": [
    "With the inversion mesh created, we now define a starting model, forward operator and \n",
    "weighting matrix for regularisation using PyGIMLi.\n",
    "\n",
    "Recall that both our model and data will be in log space when we perform inversion."
   ]
  },
  {
   "cell_type": "code",
   "execution_count": 7,
   "id": "34ee37c0",
   "metadata": {
    "execution": {
     "iopub.execute_input": "2022-07-29T02:35:58.402592Z",
     "iopub.status.busy": "2022-07-29T02:35:58.402349Z",
     "iopub.status.idle": "2022-07-29T02:35:58.637541Z",
     "shell.execute_reply": "2022-07-29T02:35:58.637153Z"
    },
    "papermill": {
     "duration": 0.251299,
     "end_time": "2022-07-29T02:35:58.638429",
     "exception": false,
     "start_time": "2022-07-29T02:35:58.387130",
     "status": "completed"
    },
    "tags": []
   },
   "outputs": [
    {
     "name": "stderr",
     "output_type": "stream",
     "text": [
      "29/07/22 - 12:35:58 - Core - \u001b[0;33;49mWARNING\u001b[0m - Region Nr: 1  is background and should not get a model transformation.\n"
     ]
    },
    {
     "name": "stderr",
     "output_type": "stream",
     "text": [
      "29/07/22 - 12:35:58 - Core - \u001b[0;33;49mWARNING\u001b[0m - Region Nr: 1  is background and should not get a model control.\n"
     ]
    },
    {
     "name": "stderr",
     "output_type": "stream",
     "text": [
      "29/07/22 - 12:35:58 - pyGIMLi - \u001b[0;32;49mINFO\u001b[0m - Creating forward mesh from region infos.\n"
     ]
    },
    {
     "name": "stderr",
     "output_type": "stream",
     "text": [
      "29/07/22 - 12:35:58 - pyGIMLi - \u001b[0;32;49mINFO\u001b[0m - Creating refined mesh (H2) to solve forward task.\n"
     ]
    },
    {
     "data": {
      "text/plain": [
       "Text(0.5, 1.0, 'Starting model')"
      ]
     },
     "execution_count": 7,
     "metadata": {},
     "output_type": "execute_result"
    },
    {
     "data": {
      "image/png": "[encoded data removed]",
      "text/plain": [
       "<Figure size 432x288 with 2 Axes>"
      ]
     },
     "metadata": {
      "needs_background": "light"
     },
     "output_type": "display_data"
    }
   ],
   "source": [
    "# PyGIMLi's forward operator (ERTModelling)\n",
    "forward_oprt = ert_forward_operator(ert_manager, scheme, inv_mesh)\n",
    "\n",
    "# extract regularisation matrix\n",
    "Wm = reg_matrix(forward_oprt)\n",
    "\n",
    "# initialise a starting model for inversion\n",
    "start_model, start_model_log = starting_model(ert_manager)\n",
    "ax = pygimli.show(ert_manager.paraDomain, data=start_model, label=\"$\\Omega m$\", showMesh=True)\n",
    "ax[0].set_title(\"Starting model\")"
   ]
  },
  {
   "cell_type": "markdown",
   "id": "5533096b",
   "metadata": {
    "papermill": {
     "duration": 0.0104,
     "end_time": "2022-07-29T02:35:58.655597",
     "exception": false,
     "start_time": "2022-07-29T02:35:58.645197",
     "status": "completed"
    },
    "tags": []
   },
   "source": [
    "CoFI and other inference packages require a set of functions that provide the misfit, the jacobian the residual within the case of scipy standardised interfaces. All these functions are defined in the library file `pygimli_ert_lib.py`, so open this file if you'd like to find out the details. These functions are:\n",
    "\n",
    "- `get_response`\n",
    "- `get_jacobian`\n",
    "- `get_residuals`\n",
    "- `get_data_misfit`\n",
    "- `get_regularisation`\n",
    "- `get_gradient`\n",
    "- `get_hessian`"
   ]
  },
  {
   "cell_type": "markdown",
   "id": "e506031c",
   "metadata": {
    "papermill": {
     "duration": 0.011842,
     "end_time": "2022-07-29T02:35:58.682333",
     "exception": false,
     "start_time": "2022-07-29T02:35:58.670491",
     "status": "completed"
    },
    "tags": []
   },
   "source": [
    "With all the above forward operations set up with PyGIMLi, we now define the problem in `cofi`\n",
    "by setting the problem information for a `BaseProblem` object."
   ]
  },
  {
   "cell_type": "code",
   "execution_count": 8,
   "id": "975514c6",
   "metadata": {
    "execution": {
     "iopub.execute_input": "2022-07-29T02:35:58.696384Z",
     "iopub.status.busy": "2022-07-29T02:35:58.696148Z",
     "iopub.status.idle": "2022-07-29T02:35:58.700022Z",
     "shell.execute_reply": "2022-07-29T02:35:58.699649Z"
    },
    "papermill": {
     "duration": 0.012181,
     "end_time": "2022-07-29T02:35:58.700861",
     "exception": false,
     "start_time": "2022-07-29T02:35:58.688680",
     "status": "completed"
    },
    "tags": []
   },
   "outputs": [],
   "source": [
    "# hyperparameters\n",
    "lamda = 0.0001\n",
    "\n",
    "# CoFI - define BaseProblem\n",
    "ert_problem = BaseProblem()\n",
    "ert_problem.name = \"Electrical Resistivity Tomography defined through PyGIMLi\"\n",
    "ert_problem.set_forward(get_response, args=[forward_oprt])\n",
    "ert_problem.set_jacobian(get_jacobian, args=[forward_oprt])\n",
    "ert_problem.set_residual(get_residual, args=[log_data, forward_oprt])\n",
    "ert_problem.set_data_misfit(get_data_misfit, args=[log_data, forward_oprt, data_cov_inv])\n",
    "ert_problem.set_regularisation(get_regularisation, args=[Wm, lamda])\n",
    "ert_problem.set_gradient(get_gradient, args=[log_data, forward_oprt, Wm, lamda, data_cov_inv])\n",
    "ert_problem.set_hessian(get_hessian, args=[log_data, forward_oprt, Wm, lamda, data_cov_inv])\n",
    "ert_problem.set_initial_model(start_model_log)"
   ]
  },
  {
   "cell_type": "markdown",
   "id": "42050d98",
   "metadata": {
    "papermill": {
     "duration": 0.006301,
     "end_time": "2022-07-29T02:35:58.713404",
     "exception": false,
     "start_time": "2022-07-29T02:35:58.707103",
     "status": "completed"
    },
    "tags": []
   },
   "source": [
    "Review what information is included in the `BaseProblem` object:"
   ]
  },
  {
   "cell_type": "code",
   "execution_count": 9,
   "id": "dd8156b3",
   "metadata": {
    "execution": {
     "iopub.execute_input": "2022-07-29T02:35:58.726715Z",
     "iopub.status.busy": "2022-07-29T02:35:58.726503Z",
     "iopub.status.idle": "2022-07-29T02:35:58.729232Z",
     "shell.execute_reply": "2022-07-29T02:35:58.728868Z"
    },
    "papermill": {
     "duration": 0.010472,
     "end_time": "2022-07-29T02:35:58.730121",
     "exception": false,
     "start_time": "2022-07-29T02:35:58.719649",
     "status": "completed"
    },
    "tags": []
   },
   "outputs": [
    {
     "name": "stdout",
     "output_type": "stream",
     "text": [
      "========================================================================================\n",
      "Summary for inversion problem: Electrical Resistivity Tomography defined through PyGIMLi\n",
      "========================================================================================\n",
      "Model shape: (831,)\n",
      "----------------------------------------------------------------------------------------\n",
      "List of functions/properties set by you:\n",
      "['gradient', 'hessian', 'residual', 'jacobian', 'data_misfit', 'regularisation', 'forward', 'initial_model', 'model_shape']\n",
      "----------------------------------------------------------------------------------------\n",
      "List of functions/properties created based on what you have provided:\n",
      "['objective', 'hessian_times_vector', 'jacobian_times_vector']\n",
      "----------------------------------------------------------------------------------------\n",
      "List of functions/properties not set by you:\n",
      "['objective', 'log_posterior', 'log_posterior_with_blobs', 'log_likelihood', 'log_prior', 'hessian_times_vector', 'jacobian_times_vector', 'data', 'data_covariance', 'data_covariance_inv', 'walkers_starting_pos', 'blobs_dtype', 'bounds', 'constraints']\n"
     ]
    }
   ],
   "source": [
    "ert_problem.summary()"
   ]
  },
  {
   "cell_type": "markdown",
   "id": "69e178a0",
   "metadata": {
    "papermill": {
     "duration": 0.008021,
     "end_time": "2022-07-29T02:35:58.744893",
     "exception": false,
     "start_time": "2022-07-29T02:35:58.736872",
     "status": "completed"
    },
    "tags": []
   },
   "source": [
    "## 2. Define the inversion options and run\n",
    "\n",
    "### 2.1 SciPy's optimiser ([trust-exact](https://docs.scipy.org/doc/scipy/reference/optimize.minimize-trustexact.html#optimize-minimize-trustexact))"
   ]
  },
  {
   "cell_type": "code",
   "execution_count": 10,
   "id": "bbee9caa",
   "metadata": {
    "execution": {
     "iopub.execute_input": "2022-07-29T02:35:58.758773Z",
     "iopub.status.busy": "2022-07-29T02:35:58.758534Z",
     "iopub.status.idle": "2022-07-29T02:35:58.761387Z",
     "shell.execute_reply": "2022-07-29T02:35:58.760979Z"
    },
    "papermill": {
     "duration": 0.011078,
     "end_time": "2022-07-29T02:35:58.762367",
     "exception": false,
     "start_time": "2022-07-29T02:35:58.751289",
     "status": "completed"
    },
    "tags": []
   },
   "outputs": [
    {
     "name": "stdout",
     "output_type": "stream",
     "text": [
      "Based on what you've provided so far, here are possible solvers:\n",
      "{\n",
      "    \"optimisation\": [\n",
      "        \"scipy.optimize.minimize\",\n",
      "        \"scipy.optimize.least_squares\"\n",
      "    ],\n",
      "    \"linear least square\": [],\n",
      "    \"sampling\": []\n",
      "}\n"
     ]
    }
   ],
   "source": [
    "ert_problem.suggest_solvers();"
   ]
  },
  {
   "cell_type": "code",
   "execution_count": 11,
   "id": "0a0066cc",
   "metadata": {
    "execution": {
     "iopub.execute_input": "2022-07-29T02:35:58.776041Z",
     "iopub.status.busy": "2022-07-29T02:35:58.775855Z",
     "iopub.status.idle": "2022-07-29T02:35:58.778066Z",
     "shell.execute_reply": "2022-07-29T02:35:58.777731Z"
    },
    "papermill": {
     "duration": 0.00987,
     "end_time": "2022-07-29T02:35:58.778835",
     "exception": false,
     "start_time": "2022-07-29T02:35:58.768965",
     "status": "completed"
    },
    "tags": []
   },
   "outputs": [],
   "source": [
    "inv_options_scipy = InversionOptions()\n",
    "inv_options_scipy.set_tool(\"scipy.optimize.minimize\")\n",
    "inv_options_scipy.set_params(method=\"trust-exact\")"
   ]
  },
  {
   "cell_type": "markdown",
   "id": "bdfc8266",
   "metadata": {
    "papermill": {
     "duration": 0.006304,
     "end_time": "2022-07-29T02:35:58.791679",
     "exception": false,
     "start_time": "2022-07-29T02:35:58.785375",
     "status": "completed"
    },
    "tags": []
   },
   "source": [
    "Review what's been defined for the inversion we are about to run:"
   ]
  },
  {
   "cell_type": "code",
   "execution_count": 12,
   "id": "58b9f7d7",
   "metadata": {
    "execution": {
     "iopub.execute_input": "2022-07-29T02:35:58.805006Z",
     "iopub.status.busy": "2022-07-29T02:35:58.804812Z",
     "iopub.status.idle": "2022-07-29T02:35:58.807211Z",
     "shell.execute_reply": "2022-07-29T02:35:58.806866Z"
    },
    "papermill": {
     "duration": 0.01006,
     "end_time": "2022-07-29T02:35:58.808037",
     "exception": false,
     "start_time": "2022-07-29T02:35:58.797977",
     "status": "completed"
    },
    "tags": []
   },
   "outputs": [
    {
     "name": "stdout",
     "output_type": "stream",
     "text": [
      "=============================\n",
      "Summary for inversion options\n",
      "=============================\n",
      "Solving method: None set\n",
      "Use `suggest_solving_methods()` to check available solving methods.\n",
      "-----------------------------\n",
      "Backend tool: `scipy.optimize.minimize` - SciPy's optimisers that minimises a scalar function with respect to one or more variables, check SciPy's documentation page for a list of methods\n",
      "References: ['https://docs.scipy.org/doc/scipy/reference/generated/scipy.optimize.minimize.html']\n",
      "Use `suggest_tools()` to check available backend tools.\n",
      "-----------------------------\n",
      "Solver-specific parameters: \n",
      "method = trust-exact\n",
      "Use `suggest_solver_params()` to check required/optional solver-specific parameters.\n"
     ]
    }
   ],
   "source": [
    "inv_options_scipy.summary()"
   ]
  },
  {
   "cell_type": "code",
   "execution_count": 13,
   "id": "1949bafa",
   "metadata": {
    "execution": {
     "iopub.execute_input": "2022-07-29T02:35:58.821795Z",
     "iopub.status.busy": "2022-07-29T02:35:58.821603Z",
     "iopub.status.idle": "2022-07-29T02:39:45.970543Z",
     "shell.execute_reply": "2022-07-29T02:39:45.969716Z"
    },
    "papermill": {
     "duration": 227.173402,
     "end_time": "2022-07-29T02:39:45.987962",
     "exception": false,
     "start_time": "2022-07-29T02:35:58.814560",
     "status": "completed"
    },
    "tags": []
   },
   "outputs": [
    {
     "name": "stderr",
     "output_type": "stream",
     "text": [
      "/home/jiawen/opt/mambaforge/envs/cofi_dev/lib/python3.10/site-packages/scipy/optimize/_minimize.py:554: RuntimeWarning: Method trust-exact does not use Hessian-vector product information (hessp).\n",
      "  warn('Method %s does not use Hessian-vector product '\n"
     ]
    },
    {
     "name": "stdout",
     "output_type": "stream",
     "text": [
      "============================\n",
      "Summary for inversion result\n",
      "============================\n",
      "FAILURE\n",
      "----------------------------\n",
      "status: 2\n",
      "fun: 4.960150904917166\n",
      "jac: [-5.29993455e-06  3.78311983e-06 -8.55017954e-06 -9.36770796e-07\n",
      " -1.97214233e-07 -6.83878714e-06 -4.07168830e-05 -8.86968037e-07\n",
      " -2.88819815e-06  2.07325860e-05  1.19913876e-05 -2.80269760e-06\n",
      " -9.46609366e-07 -4.41873329e-06 -1.77344774e-07 -1.21029607e-05\n",
      " -1.46435997e-06  5.25273340e-06  8.72664444e-06 -1.99972681e-06\n",
      " -2.38893902e-05  4.40870445e-06  2.37746948e-06  1.86790809e-05\n",
      " -2.80189184e-05  4.64597526e-06 -8.82350478e-06 -1.04833231e-05\n",
      " -4.90649097e-06 -1.37440935e-05 -8.04953242e-07  7.45788697e-06\n",
      "  1.92903046e-05  9.25233566e-06 -8.21699610e-06  2.96313478e-06\n",
      " -2.70745509e-06  3.29378162e-06 -3.97520723e-06  4.37485280e-06\n",
      " -2.20484295e-06  4.47248678e-06  9.24056434e-06 -3.07947798e-06\n",
      "  2.07760074e-06  7.08848994e-07  5.50294104e-06 -6.27739935e-06\n",
      "  1.79698415e-06 -7.92339589e-06 -4.68714881e-06  7.75085654e-06\n",
      "  1.56266206e-05  2.67002775e-06 -3.50530912e-06  5.31122064e-06\n",
      "  1.70810733e-05  1.18403871e-05  2.92605449e-06 -1.00009253e-05\n",
      " -1.32060557e-05 -1.00194798e-05  1.72727473e-05 -9.16192116e-06\n",
      " -3.53888881e-06  1.48600296e-05  1.17916263e-05  4.21591295e-06\n",
      "  2.94994230e-06 -1.48820969e-05 -1.02001834e-05  4.03839145e-06\n",
      "  7.31489879e-06  2.64124054e-05 -2.40386154e-05  7.82635716e-06\n",
      " -4.14980981e-06 -9.01947825e-06  9.20845939e-06 -1.37726430e-05\n",
      "  1.35136355e-07 -4.41867752e-08  3.93883958e-06 -7.52415362e-06\n",
      "  1.64460776e-06 -7.32040429e-06 -1.04891837e-06 -1.15679831e-05\n",
      " -6.15434178e-06  1.11827711e-05  7.67201698e-06  5.27780096e-06\n",
      " -2.18584261e-06 -2.45219112e-06  1.48845306e-07  4.77980941e-06\n",
      "  3.58734167e-06  1.29111716e-06 -1.75559040e-06  1.78336569e-08\n",
      " -4.24041224e-06 -6.90723660e-06 -2.34486742e-06 -2.97702617e-07\n",
      " -2.19276496e-06 -4.32784929e-06  3.17322393e-07 -6.31243094e-06\n",
      "  3.18716579e-06 -6.17611028e-07 -1.32401381e-05 -1.77278574e-07\n",
      "  1.09512052e-05  2.11517216e-06  1.38143763e-06 -6.57552754e-07\n",
      " -2.66187072e-06 -1.59615901e-07  5.90992735e-07 -7.37564546e-07\n",
      "  2.57620998e-06  4.42125395e-07 -2.53536974e-07 -4.79345000e-06\n",
      "  1.51244229e-06  2.35476708e-06 -1.49547882e-07  1.24757488e-06\n",
      "  3.59830619e-06 -4.02904119e-06  1.50588505e-06 -5.11735716e-07\n",
      "  4.66285969e-06  3.11642117e-06  4.76215300e-06  7.34875176e-07\n",
      " -1.56201247e-06  2.19871574e-06  3.14533577e-06  4.81601567e-06\n",
      "  3.33626141e-06  4.89900902e-06 -6.72444781e-06 -1.99645878e-07\n",
      "  1.91635891e-06 -3.99007861e-06  2.40366058e-06 -1.17426788e-05\n",
      "  4.23762457e-06  5.30712179e-06  3.03560580e-06  2.72873286e-06\n",
      " -1.82830373e-06  9.90466529e-07 -5.40502232e-07 -3.69947013e-06\n",
      " -6.17596969e-06  2.57737250e-06  7.87954149e-06  4.50323655e-06\n",
      "  4.35465002e-06  1.71558913e-05  3.51812934e-07 -3.54754713e-06\n",
      "  1.22686746e-05  4.10342495e-06  1.31257240e-06 -9.14393969e-06\n",
      " -1.05350388e-05  1.37187419e-06  1.07296803e-05  2.48660986e-06\n",
      " -4.16694162e-06 -3.48356678e-06 -9.93306148e-06  2.20184005e-06\n",
      " -9.97071224e-06  2.20409259e-06  1.26402269e-05 -6.64905767e-06\n",
      " -2.84475041e-08  2.71534787e-06  1.47453550e-05  4.14772857e-06\n",
      "  1.90404490e-05  1.69215455e-05 -4.57260041e-06  1.12273741e-07\n",
      "  9.05911841e-07  3.40816525e-06  5.72771710e-06  2.27841627e-06\n",
      "  3.91849536e-06  5.54574945e-07 -2.10104559e-06 -8.69322655e-06\n",
      "  5.33604695e-07 -4.46516801e-06 -2.18251743e-06 -1.13536468e-06\n",
      "  5.03001491e-06 -5.55026975e-06  7.54810255e-07 -6.09471230e-06\n",
      " -1.12742774e-05 -2.17076831e-06  7.26406959e-07  9.97028522e-07\n",
      " -7.12015548e-06  1.33882705e-06 -3.38330988e-07  5.31935982e-06\n",
      " -2.16087679e-06 -1.83185267e-05 -1.39975414e-06 -1.02538497e-05\n",
      " -8.37902463e-06 -9.23833911e-06 -1.08966109e-05 -3.99796727e-06\n",
      " -7.71452914e-06 -9.01512061e-06  1.57050122e-05 -4.71258101e-07\n",
      " -7.36383603e-06 -7.43943625e-06  3.86875168e-06 -6.78999279e-06\n",
      " -3.82439045e-06  5.25444756e-08  2.50752035e-06  2.45670979e-06\n",
      "  3.34681087e-06  2.15235044e-06 -1.58732210e-06 -4.98196516e-06\n",
      "  1.83283172e-05 -1.76119166e-06  6.12471038e-06  2.39574269e-06\n",
      " -1.89819296e-06 -1.37800609e-05 -1.46316124e-05  6.09445602e-06\n",
      "  2.24645153e-06  9.26894645e-07  4.13475490e-06 -1.44604995e-06\n",
      "  4.19089713e-06 -1.05992360e-07  1.15921505e-06  2.39983177e-06\n",
      " -2.73773352e-07 -7.13167638e-07  3.47443832e-07  2.50090881e-06\n",
      "  1.84661658e-06  1.62394654e-06  2.21245487e-06  1.36537479e-06\n",
      "  1.15619641e-06 -1.08721769e-06  9.88283377e-07 -8.83649282e-07\n",
      " -3.52107316e-06  1.31049081e-06  2.63063496e-06  1.49547443e-06\n",
      "  1.31393391e-06 -1.15734057e-06 -6.50753817e-06  4.79517752e-06\n",
      " -4.36552694e-06 -1.94758625e-06  2.59847769e-06 -3.50467065e-06\n",
      " -4.94205092e-06 -3.22618072e-06  4.47615889e-06 -4.49560256e-06\n",
      "  3.02068449e-05 -3.17676815e-06 -8.90608303e-06 -1.65387952e-06\n",
      " -2.31758012e-06 -8.75621417e-06  1.67204419e-06  2.17981596e-06\n",
      "  1.51212007e-06  1.17232435e-06  1.11643740e-06 -1.82286873e-06\n",
      "  1.43820117e-06 -1.32888611e-06 -3.22627721e-06  8.17561970e-08\n",
      " -1.84981446e-06 -3.48173610e-06 -2.64853974e-07  1.67799503e-06\n",
      " -1.31814057e-06 -5.78071110e-07 -6.54807794e-06 -1.17337527e-06\n",
      "  5.20810532e-06 -5.55729535e-06  1.02750275e-05 -8.11438118e-06\n",
      "  9.56779810e-07  1.74194240e-06 -3.39187998e-06  1.82200258e-06\n",
      " -2.81047115e-06  6.04064785e-06 -2.35457923e-06 -3.92832144e-06\n",
      " -5.00793356e-06  2.44918622e-06 -5.95767637e-06 -8.81856927e-06\n",
      "  1.07737755e-06  2.37859271e-06 -1.69315457e-06  1.01573197e-05\n",
      "  6.52542139e-07  3.00636251e-06 -1.53513179e-06 -1.85076245e-06\n",
      " -1.64474434e-06  2.74876867e-06  3.77942346e-06  1.50804974e-06\n",
      "  4.03931562e-06 -1.27157866e-06  2.05490492e-08  2.25285003e-05\n",
      "  1.68331720e-06  3.32464498e-06  1.75066696e-06 -1.35386511e-06\n",
      " -6.09949559e-06 -2.71053405e-06 -6.48116359e-07  1.06793950e-07\n",
      " -2.72026347e-07 -2.59954590e-07 -5.21188763e-06  1.42279010e-06\n",
      " -2.19714058e-06  1.26703783e-06  9.64184410e-08 -1.28923301e-06\n",
      " -1.70191002e-06 -1.07107712e-05 -7.22977485e-06 -8.14516565e-06\n",
      "  4.49375452e-06 -4.12009446e-06  2.45838557e-06  2.54395555e-06\n",
      "  1.89546480e-06 -1.63558474e-06 -5.68335115e-06 -4.44703927e-06\n",
      "  1.76841543e-05 -5.27000090e-06  1.91712876e-06  8.68766513e-07\n",
      "  4.46630156e-05 -5.12473268e-06 -4.91400498e-07  4.54761610e-06\n",
      "  2.49924302e-06  4.64536098e-06  3.34241533e-06  1.65649867e-06\n",
      " -1.82251719e-06  1.64082265e-06  5.45884936e-06 -1.25704280e-06\n",
      "  2.05300695e-06 -8.78808570e-06 -4.86337903e-06 -3.76939592e-06\n",
      " -9.05465577e-07  1.23060802e-05  1.78195934e-05  5.51028975e-06\n",
      " -1.26127366e-06 -4.12728475e-06  5.30687647e-06 -1.12456231e-06\n",
      "  5.36543431e-05  8.60858259e-06  1.07198161e-05 -1.22525858e-05\n",
      " -2.86782178e-06  1.46305859e-06  1.32426192e-05 -5.00469449e-06\n",
      " -4.17738370e-06 -3.98585108e-07 -2.94509644e-06 -4.97430453e-07\n",
      " -2.24529709e-06  7.45140758e-06 -6.66442055e-06  6.14208519e-07\n",
      " -2.78570235e-06  9.59590648e-07 -9.85520491e-07 -3.26073950e-06\n",
      " -1.32237175e-06 -1.36802152e-06  2.04389205e-06  1.41259034e-06\n",
      " -1.78829195e-06  1.87453855e-06 -2.96894345e-07  3.28675210e-07\n",
      " -2.53733547e-06  2.09833034e-06 -2.37662463e-06 -3.11168693e-06\n",
      "  1.56519879e-06 -1.28645382e-06 -2.18097919e-06  2.86502407e-06\n",
      " -1.90225962e-06 -1.27655662e-06 -5.19291091e-06  5.67562403e-07\n",
      " -5.04531856e-06  3.51906366e-06 -1.57186849e-06 -1.91222928e-06\n",
      " -6.18254780e-06 -1.72255562e-06  9.75493198e-06  6.75043415e-07\n",
      "  3.30782371e-06 -2.45598389e-07 -3.61086783e-06 -6.64085451e-06\n",
      " -3.19272138e-07  2.05383768e-06 -1.78508316e-06 -1.21672198e-05\n",
      " -4.52928641e-05 -7.44424149e-06  1.44223026e-06 -1.82006730e-06\n",
      " -2.45901430e-05 -1.65441568e-06 -7.84794505e-06 -5.70594272e-06\n",
      "  4.63720829e-06  3.32665140e-06 -2.20005341e-06 -5.05320277e-06\n",
      " -3.71840150e-06  3.55527492e-06 -7.78961113e-05  3.34825292e-05\n",
      " -9.80508387e-06 -5.95959070e-06  6.26840247e-06 -3.69688992e-06\n",
      "  2.64057743e-06 -6.32704146e-06  8.10678236e-06 -3.19590651e-06\n",
      " -3.11512472e-06  3.56221832e-06  1.01320076e-06  3.82952114e-06\n",
      " -4.41401122e-07  4.79086352e-06 -5.31248994e-06  4.49820915e-06\n",
      "  4.55851698e-06 -2.09079448e-06 -5.29718951e-06 -4.34899368e-05\n",
      "  1.61485446e-06 -2.32997374e-06  6.00002382e-06  8.54879260e-06\n",
      "  4.58829336e-05  2.44702903e-05 -8.45019427e-07  2.36786402e-06\n",
      " -4.51084861e-06 -5.06579995e-06  4.73205062e-06 -1.37550396e-06\n",
      "  2.61872856e-06 -4.31215190e-06  6.59743566e-07  2.71690890e-06\n",
      " -3.94261824e-06  1.96556854e-06  1.67241877e-06 -3.73495859e-06\n",
      "  8.39391069e-07  5.45435187e-06  9.05371479e-06  6.86698727e-08\n",
      " -5.92718434e-06 -3.78654323e-06 -1.19252134e-04  4.96342776e-06\n",
      " -2.57006288e-05 -6.00061388e-05 -5.17704866e-06  2.73968581e-06\n",
      "  1.83592633e-06  5.22845087e-06 -7.62965193e-06  2.11217348e-05\n",
      " -1.28689464e-04  5.28928948e-06 -7.90788378e-05 -2.20241474e-05\n",
      " -1.07838033e-04  3.10795950e-05 -2.31362879e-05 -5.77084815e-05\n",
      " -5.85919476e-05 -1.80003773e-04 -4.17138547e-05 -1.24905437e-04\n",
      "  4.93533335e-06  4.11065603e-05 -1.07262953e-04 -1.43135108e-04\n",
      " -3.24320561e-05  6.89394547e-05 -8.53209070e-05 -1.74540253e-04\n",
      " -1.83784609e-04  1.82552231e-05 -7.06720802e-05 -1.62247456e-05\n",
      "  2.48565921e-06 -4.55230586e-06 -1.44326081e-06  1.64711272e-05\n",
      "  9.56745928e-06 -9.36952049e-06 -4.87061958e-06  6.22544351e-06\n",
      "  1.32517946e-05 -3.10176209e-06 -3.53927516e-06 -3.64664038e-07\n",
      " -3.22462742e-06  3.20517042e-06 -1.09837516e-04 -7.28466922e-05\n",
      " -1.34273752e-04 -5.23573384e-06 -5.47130056e-06 -1.12980706e-04\n",
      " -1.52066787e-05  4.49424012e-06 -2.65532723e-05  4.39963522e-06\n",
      " -7.10900198e-06 -1.38755677e-05 -1.58027540e-05 -1.65104905e-05\n",
      " -4.55620782e-06 -1.02236391e-05 -1.24484564e-05  3.21474413e-05\n",
      " -2.65992805e-05 -3.05485218e-05  1.14872364e-05  1.76894198e-05\n",
      " -4.24883992e-06 -7.94116907e-06  4.64516690e-06  9.47955489e-06\n",
      " -2.18394969e-06 -2.22300900e-06 -1.60119690e-04 -1.38030321e-04\n",
      "  4.16420207e-06  1.16275844e-05  1.08010017e-05  8.95091458e-06\n",
      "  3.48497367e-06  7.41522864e-06  1.19302134e-05  1.42332068e-05\n",
      "  3.73854812e-05  2.53220891e-05  2.05680131e-05  1.45473051e-05\n",
      " -7.10206218e-06  2.46204458e-05 -1.09375707e-05 -3.87700790e-05\n",
      " -1.53095771e-04 -1.46840732e-04  1.80567320e-06 -1.59297432e-06\n",
      "  7.89261694e-06  1.67283657e-05  2.18515938e-05  1.09572396e-05\n",
      "  1.94507810e-05  1.57735958e-05 -1.49901506e-04  6.68844885e-07\n",
      " -3.26508009e-06 -6.31402922e-06  3.00656135e-05 -1.50490483e-05\n",
      " -8.17715194e-05 -8.93443728e-05  1.08281300e-05  1.12688003e-05\n",
      "  1.98197923e-05  1.59380492e-05 -5.81006590e-06 -7.74660567e-07\n",
      " -5.74265958e-06 -1.02965978e-06 -5.11506805e-06 -5.86886283e-06\n",
      " -1.14929018e-04 -3.96151397e-05 -2.71357415e-06  1.18108153e-05\n",
      " -9.18915883e-05  2.85511580e-05 -3.54951727e-06 -1.02145870e-05\n",
      " -2.86672866e-06 -5.75703149e-06 -6.49940938e-06  8.48882282e-08\n",
      " -1.49896518e-08  3.80945489e-06  5.90702840e-05  1.02794984e-05\n",
      " -1.78446810e-06 -4.20784100e-06  2.00466947e-06 -3.08653711e-06\n",
      " -5.42625782e-06 -6.24454896e-06  8.99260263e-06  1.25657392e-06\n",
      "  2.79373836e-05  2.06319418e-05 -2.07044910e-06 -1.77085196e-06\n",
      " -6.62738103e-06 -6.41667987e-06 -3.55687013e-06 -2.43877251e-06\n",
      " -2.06924932e-06 -1.31935923e-05  7.17978456e-06  1.46356562e-05\n",
      "  6.20935062e-06 -3.69972034e-06 -9.46072316e-06  2.14238726e-05\n",
      "  8.43193427e-06  3.06520912e-05 -9.29424584e-06 -4.62513532e-06\n",
      " -4.67787520e-05 -1.09980242e-06 -4.97013751e-06 -4.52304560e-06\n",
      " -3.49392230e-05  6.08365781e-05 -9.03868191e-06 -6.89770136e-06\n",
      " -1.05263226e-05 -8.42428493e-06  8.66368709e-07  3.97466188e-05\n",
      "  2.36017801e-05  3.50864983e-05 -4.78760612e-06  5.79124421e-07\n",
      "  3.73292299e-05  1.91015855e-05 -1.13521424e-05 -1.24845116e-05\n",
      " -9.40217581e-05  1.03290160e-05 -2.20521807e-06 -1.27807827e-05\n",
      "  9.58960509e-06  1.93074421e-05 -9.72594686e-06  3.35049155e-05\n",
      " -8.33034250e-05 -1.54234402e-04  2.45711708e-05  4.32173827e-05\n",
      " -1.10087869e-04 -5.25619144e-05 -1.29042476e-06  1.54753108e-05\n",
      "  1.56941503e-06  8.41332632e-06  1.86996486e-06  2.88839249e-05\n",
      " -6.95112913e-05 -3.72765805e-05  7.26169030e-07 -7.90803070e-06\n",
      "  9.80474206e-06  1.18953686e-05  1.42328166e-06 -4.84984417e-06\n",
      "  1.76159186e-05 -6.21474404e-05  7.34552258e-05  5.53257226e-06\n",
      "  1.44569378e-05 -9.53768169e-05 -6.59660041e-05 -9.54678799e-05\n",
      "  2.08345798e-05  9.12524355e-05  1.63606360e-05 -6.37976112e-05\n",
      "  4.74445125e-05  1.69674096e-05  8.82623373e-06  2.81048430e-05\n",
      "  2.27912650e-05 -7.62709413e-06 -4.63455784e-06  4.54559995e-05\n",
      "  5.12863701e-05  1.81046320e-06  1.25433818e-04  7.80815450e-06\n",
      "  3.05277364e-05  2.53478304e-05 -4.23303991e-06  1.80061183e-05\n",
      " -1.58600189e-04 -5.64239180e-05  4.67338770e-05  2.20370567e-05\n",
      "  4.15151238e-05  5.58975514e-05  3.87292550e-05 -6.37030333e-06\n",
      " -1.83441911e-06  9.52940725e-06  1.01636111e-04  1.73358162e-05\n",
      "  7.00408196e-06  2.86661602e-05  1.82796681e-05  1.78367059e-05\n",
      "  4.60445009e-05  3.34898749e-05  6.29147849e-05  2.57632269e-05\n",
      "  1.41699335e-05  3.44787277e-05  9.72561729e-05  7.95740438e-05\n",
      "  5.76929548e-05  4.71377723e-05 -6.32255048e-05  2.43390196e-06\n",
      " -1.49793124e-05 -1.12387237e-05  3.42290157e-05  7.64593233e-05\n",
      "  2.05297692e-04  5.18704953e-05  3.19658248e-05  1.47978055e-05\n",
      "  1.21473168e-04  5.04253025e-05  4.56341409e-05  3.48235222e-05\n",
      "  3.88140186e-05 -2.64307687e-05  5.05132224e-05  5.95925356e-05\n",
      "  1.78188637e-04  2.43923098e-04  6.81790271e-05  4.98231803e-05\n",
      " -2.44602493e-05  7.00786081e-08  5.52405185e-06  2.55505490e-05\n",
      "  4.53118729e-05 -1.42947731e-05  9.94430240e-05  2.31527790e-04\n",
      " -5.89371796e-05  1.64145184e-05 -3.07334559e-07  3.37141475e-04\n",
      "  3.15858443e-05 -1.45162289e-05  7.24343483e-05  1.82964479e-04\n",
      "  1.22224813e-05  2.32343776e-07  1.10576919e-04  2.53476978e-04\n",
      "  3.52436721e-04  1.80964135e-04  2.89843166e-04  1.21798602e-04\n",
      "  6.45126370e-05  7.26589046e-06  4.26068181e-05  3.47334474e-06\n",
      "  3.60605314e-05  6.66803161e-05  1.06401104e-04]\n",
      "nfev: 173\n",
      "njev: 101\n",
      "nhev: 173\n",
      "nit: 171\n",
      "message: A bad approximation caused failure to predict improvement.\n",
      "hess: [[ 3.96113592e+00  5.74168133e-04  8.25715547e-04 ...  4.47852277e-04\n",
      "   8.75643789e-04  5.78260244e-03]\n",
      " [ 5.74168133e-04  2.94687426e-01  2.36108709e-05 ... -1.24619453e-04\n",
      "  -6.97665244e-04  3.02420758e-03]\n",
      " [ 8.25715547e-04  2.36108709e-05  5.73676814e-01 ...  1.19218415e-05\n",
      "  -1.44166056e-04 -6.81610453e-04]\n",
      " ...\n",
      " [ 4.47852277e-04 -1.24619453e-04  1.19218415e-05 ...  7.61398070e-03\n",
      "   6.89760494e-03  2.08680337e-02]\n",
      " [ 8.75643789e-04 -6.97665244e-04 -1.44166056e-04 ...  6.89760494e-03\n",
      "   9.71239608e-03  2.22361132e-02]\n",
      " [ 5.78260244e-03  3.02420758e-03 -6.81610453e-04 ...  2.08680337e-02\n",
      "   2.22361132e-02  1.06762011e-01]]\n",
      "model: [5.30290716 5.30272327 5.33624742 5.3450431  5.27842313 5.30615326\n",
      " 5.31235345 5.29849973 5.32367711 5.31169458 5.30578344 5.30187877\n",
      " 5.30897711 5.3352062  5.2878191  5.35483784 5.31829694 5.29404985\n",
      " 5.30074932 5.29778971 5.33189437 5.23599258 5.32704834 5.3229467\n",
      " 5.3355402  5.28401136 5.30816253 5.31621868 5.30295417 5.33432889\n",
      " 5.31159613 5.31631834 5.34360874 5.34326845 5.28769897 5.30904511\n",
      " 5.34422404 5.30392468 5.31616372 5.28483676 5.32240903 5.27141143\n",
      " 5.30442337 5.31824436 5.27751543 5.30667537 5.30608073 5.33159885\n",
      " 5.30641522 5.29503415 5.31649995 5.28501971 5.28758585 5.30992825\n",
      " 5.32887388 5.29865565 5.27644099 5.0255851  5.27990309 5.26340021\n",
      " 5.30871771 5.30119634 5.26812944 5.32492272 5.30243482 5.31057063\n",
      " 5.29886206 5.25091933 5.29847164 5.27665286 5.27400776 5.34943275\n",
      " 5.27163286 5.3176202  5.31793237 5.30948855 5.33015683 5.27203076\n",
      " 5.3357034  5.30714663 5.34353941 5.29511851 5.29649494 5.33813735\n",
      " 5.31985553 5.31142772 5.33867623 5.29396293 5.30097212 5.30031813\n",
      " 5.29879739 5.31812224 5.27654453 5.3256582  5.31211032 5.29127572\n",
      " 5.29247261 5.33843808 5.29123333 5.28829354 5.30341165 5.26994715\n",
      " 5.32800257 5.30107743 5.30089267 5.28395975 5.2686327  5.36348511\n",
      " 5.29522193 5.29704912 5.29198993 5.26993031 5.31732941 5.32117806\n",
      " 5.25765741 5.31232557 5.30297875 5.28124828 5.26696598 5.31062787\n",
      " 5.31111487 5.34600531 5.32220632 5.3276416  5.30898155 5.27573112\n",
      " 5.26789532 5.3228077  5.31704724 5.29234165 5.34754546 5.32741677\n",
      " 5.29941455 5.34270452 5.30967368 5.32691858 5.31781277 5.28471732\n",
      " 5.29346067 5.28067133 5.30856912 5.29055902 5.31840888 5.31338692\n",
      " 5.32403848 5.25728158 5.32121916 5.27846524 5.31679744 5.28956866\n",
      " 5.30701545 5.3099878  5.31175679 5.30968478 5.30081889 5.3189427\n",
      " 5.33501669 5.30209926 5.23422983 5.30301519 5.288673   5.26247214\n",
      " 5.28944635 5.2944508  5.32507865 5.25474733 5.31789248 5.30040074\n",
      " 5.28462442 5.29427541 5.30535885 5.29423495 5.30282018 5.30034756\n",
      " 5.29473657 5.2762966  5.27475539 5.30154312 5.33195504 5.30424433\n",
      " 5.30021885 5.31652178 5.30353517 5.28790084 5.32277787 5.30821979\n",
      " 5.31573594 5.28882662 5.30214891 5.30836524 5.32818008 5.29209442\n",
      " 5.32312585 5.34494075 5.29035622 5.33826251 5.28072764 5.33340489\n",
      " 5.329861   5.31729849 5.27742636 5.29837047 5.31979489 5.31170905\n",
      " 5.31538906 5.29793039 5.29544579 5.30863245 5.26331953 5.31827118\n",
      " 5.27226327 5.3398672  5.35661309 5.30648471 5.26702815 5.29960339\n",
      " 5.32424407 5.26716963 5.26661685 5.2851456  5.29209954 5.34555017\n",
      " 5.28891293 5.30994702 5.31814997 5.31902871 5.33173993 5.34333846\n",
      " 5.34410572 5.27791263 5.32935871 5.2756816  5.27296878 5.32464594\n",
      " 5.33786339 5.31796381 5.27254994 5.29457847 5.30335986 5.30293762\n",
      " 5.28911624 5.30817875 5.3238985  5.28341669 5.28995431 5.29371657\n",
      " 5.27769483 5.28617618 5.3008458  5.29235386 5.28910345 5.32749325\n",
      " 5.34628592 5.31302292 5.31157227 5.2769943  5.31025767 5.30559578\n",
      " 5.28364162 5.31753517 5.29682785 5.32908545 5.30460991 5.29908418\n",
      " 5.31837093 5.28949246 5.31211659 5.30665957 5.30084073 5.29841186\n",
      " 5.29686635 5.30461484 5.29113802 5.30349391 5.32612879 5.30754709\n",
      " 5.30775692 5.29277118 5.31515197 5.29123386 5.34431333 5.30978235\n",
      " 5.29881011 5.26578528 5.30383773 5.30396068 5.31511624 5.30454554\n",
      " 5.30858703 5.33219228 5.30696239 5.28529227 5.2727849  5.31135045\n",
      " 5.30994162 5.32457101 5.30181588 5.29742424 5.31656313 5.2741421\n",
      " 5.2835302  5.30340038 5.31399926 5.33431021 5.3314269  5.30123645\n",
      " 5.33585794 5.37309595 5.34800845 5.30029013 5.33533637 5.26978563\n",
      " 5.36764572 5.29209198 5.29700044 5.35984494 5.30068503 5.31456145\n",
      " 5.31741124 5.33842497 5.26941    5.3277323  5.30726106 5.01903432\n",
      " 5.28339702 5.28416767 5.31934867 5.30623486 5.29191992 5.29335154\n",
      " 5.30437476 5.32538626 5.32079419 5.30308928 5.31226724 4.03245401\n",
      " 5.29421057 5.30209962 5.29445619 5.30736197 5.31858792 5.31757235\n",
      " 5.32844858 5.30187445 5.26045273 5.30569217 5.31042254 5.31317725\n",
      " 5.2828162  5.29654622 5.31035451 5.29694264 5.31007349 5.2765826\n",
      " 5.27815036 5.31927719 5.29101231 5.24654459 5.26808072 5.33227112\n",
      " 5.30328293 5.31758882 5.31347604 5.30002748 5.30765432 5.31653968\n",
      " 5.2885916  5.31802574 5.4176045  5.27991931 5.26412354 5.29804239\n",
      " 5.33637513 5.291287   5.32243144 5.30119175 5.30203566 5.30920315\n",
      " 5.32121861 5.36323296 5.3895075  5.28515966 5.32170142 5.27477386\n",
      " 5.38112567 5.30538711 5.34004225 5.2062861  5.24079441 5.36435875\n",
      " 5.22159439 5.25367562 3.50583279 5.39545379 5.32959479 5.31619021\n",
      " 5.3600242  5.34920506 5.35776357 4.98635085 5.34220486 5.33127303\n",
      " 5.28307855 5.30320783 4.86328764 5.31629774 5.34571919 5.13126413\n",
      " 5.3058971  5.31841849 5.3130783  5.31015013 5.29461886 5.32384202\n",
      " 5.31306729 5.29089889 5.29974373 5.30181495 5.2841847  5.28836532\n",
      " 5.30355703 5.31616229 5.31093755 5.31299145 5.2901482  5.28913545\n",
      " 5.28812599 5.27610537 5.32007869 5.29408375 5.29972724 5.3159323\n",
      " 5.31623467 5.32704945 5.32575673 5.32539717 5.29077938 5.30512648\n",
      " 5.29626913 5.28041816 5.32639983 5.30043056 5.30304243 5.31584142\n",
      " 5.27553266 5.2802986  5.26633559 5.31403184 5.29594547 5.28674739\n",
      " 5.31999876 5.29202493 5.36349006 5.30594285 5.29989091 5.33976847\n",
      " 5.27804261 5.30427619 5.30241083 5.27244181 5.31647826 5.30889153\n",
      " 5.3561065  5.30894864 5.29252295 5.34296345 5.28692012 5.29350766\n",
      " 5.28163063 5.29052466 5.32384485 5.30670795 5.28367948 5.27474286\n",
      " 5.33040391 5.29733468 5.28169199 5.29060929 5.28954525 5.28709025\n",
      " 5.29678104 5.30934302 5.34595104 5.41770881 5.30158301 5.29984363\n",
      " 5.32396915 5.32681416 5.32358237 5.30183293 5.3291834  5.16800607\n",
      " 5.32132569 5.31913257 5.29757432 5.32315277 5.30685003 5.31654183\n",
      " 5.29650907 5.27303088 5.3472388  5.29552944 5.30175355 5.2820843\n",
      " 5.32437327 5.32173427 5.3018317  5.34121911 5.25941036 5.33648304\n",
      " 5.41966055 5.30588319 5.31614449 5.31720848 5.28551124 5.34480228\n",
      " 5.2740063  5.22417095 5.34580594 5.30536463 5.40616253 5.29911127\n",
      " 5.35352979 5.31741822 5.34346088 5.32684717 5.30291534 5.36123043\n",
      " 5.37235803 5.50004318 5.3219734  5.37933962 5.34527699 5.33684851\n",
      " 5.53442309 5.37789456 5.35876501 5.33005469 5.38136481 5.51637366\n",
      " 5.47772476 5.33654442 5.38323583 5.35245877 5.34191296 5.34424857\n",
      " 4.79772104 5.35910651 5.27439947 5.27258517 5.3029662  5.25829051\n",
      " 5.03792124 5.3055923  5.28373427 5.29158183 5.32486782 5.30229336\n",
      " 5.34911803 5.3340192  5.44090501 5.36996189 5.30732643 5.39453478\n",
      " 5.38962799 4.97075804 5.29836212 5.29354258 5.27689481 5.30658937\n",
      " 5.30107084 5.29878208 5.26393872 5.29085105 5.28440258 5.30634406\n",
      " 5.29394864 5.29604381 5.27832808 5.30227258 5.32018183 5.26851919\n",
      " 4.80165599 4.82188924 5.34513675 5.35685923 5.41504157 5.38434092\n",
      " 5.31439182 5.32290136 5.26270958 4.38563034 5.28443695 5.26320332\n",
      " 5.2832767  5.26974496 5.30339246 5.29371805 5.34175144 5.24806564\n",
      " 5.26739212 5.28695052 5.41107907 5.34574202 5.47708646 5.53074691\n",
      " 4.40664785 4.98897596 5.28241521 5.24067661 5.28321134 5.27001495\n",
      " 5.27151885 5.26536172 5.44859743 5.3107053  5.2781148  5.28608732\n",
      " 4.50829334 5.01131668 4.44876669 5.42878663 4.37875576 4.35712165\n",
      " 5.29694405 5.26534766 5.32304944 5.3271836  5.35172968 5.2850824\n",
      " 5.32789263 5.29070363 5.41190619 5.31571608 5.30799588 5.28650694\n",
      " 5.05991997 3.98803544 4.8331066  4.07602137 5.3494493  5.31720021\n",
      " 5.33669345 5.24328728 5.31085819 5.28427808 3.37653316 5.20336917\n",
      " 5.29663408 5.31988417 5.27925328 5.27862599 5.27721938 5.29461996\n",
      " 5.26751796 5.261298   5.33319398 5.29495712 5.32184214 5.33895189\n",
      " 5.33986281 5.27473876 5.29251661 5.27122825 5.24020148 5.33526048\n",
      " 5.26849178 5.31132072 5.3023344  5.29332106 5.3380393  5.29199116\n",
      " 5.26906613 5.33756135 5.28063039 5.27250908 3.30480896 5.29598511\n",
      " 5.33657513 5.2540043  5.23599137 4.49650312 5.31921833 5.32442122\n",
      " 5.3182034  5.26225646 5.26829911 5.31934448 5.28456748 5.27469606\n",
      " 5.30239156 5.30461374 5.32633305 5.18422186 5.30300797 5.27405797\n",
      " 4.49452167 5.35952148 5.33724326 5.30975888 5.23878988 5.29582778\n",
      " 5.29257855 5.22337206 5.27120074 5.48691635 5.31013649 5.34463184\n",
      " 5.38552805 5.46148483 3.34979876 4.4615678  5.35054647 5.29381465\n",
      " 5.31445421 5.23360428 5.05564857 4.38040832 5.32717431 5.29055017\n",
      " 5.25082566 5.3486982  5.34543446 5.30201464 4.93471223 4.86567782\n",
      " 3.43284317 5.35503089 5.25016569 5.32490005 4.20948976 4.8455281\n",
      " 3.84886286 4.06642332 4.05457578 3.96453851 3.83849436 5.11129577\n",
      " 4.90832204 4.96373974 5.13026326 5.31501341 5.34794885 5.39112045\n",
      " 5.17390916 5.29178028 5.31234102 5.37586246 5.34152934 5.3805315\n",
      " 5.33678765 5.32367023 3.27912138 4.50210144 5.36658881 5.26108138\n",
      " 5.37547682 5.28979061 5.28629473 5.24815527 5.22082124 5.20609\n",
      " 5.33994235 5.21019128 5.19976222 5.32881287 5.21651473 5.15239125\n",
      " 5.22718313 5.21233259 5.35355855 5.19234444 5.27079335 5.16434415\n",
      " 5.19760424 5.25744147 5.19732033 5.27785517 5.02614612 5.43143168\n",
      " 5.07521846 4.25238945 5.26129958 5.24384621 5.16211339 5.30295171\n",
      " 4.54312755 4.90193838 5.2233876  5.19721249 5.36638852 5.1419589\n",
      " 5.32321041 4.93610309 5.22756966 5.3536348  5.20654876 5.19572128\n",
      " 5.22202822 5.41483141 5.08046192 5.4088004  5.45016097 5.30532329\n",
      " 5.15428571 5.23130593 5.1636845  5.17305659 4.41879608 5.1565365\n",
      " 5.32062783 5.1258709  5.40265048 5.21218401 5.20730175 5.13144796\n",
      " 5.42961744 5.40095512 5.25659974 5.13190722 5.1386205  5.23608062\n",
      " 5.16507126 5.30988379 5.39835901 5.3503692  5.36930864 5.43474525\n",
      " 5.40907952 5.36746585 5.35069542]\n"
     ]
    }
   ],
   "source": [
    "inv = Inversion(ert_problem, inv_options_scipy)\n",
    "inv_result = inv.run()\n",
    "inv_result.summary()"
   ]
  },
  {
   "cell_type": "code",
   "execution_count": 14,
   "id": "dcb52540",
   "metadata": {
    "execution": {
     "iopub.execute_input": "2022-07-29T02:39:46.019067Z",
     "iopub.status.busy": "2022-07-29T02:39:46.018747Z",
     "iopub.status.idle": "2022-07-29T02:39:46.024073Z",
     "shell.execute_reply": "2022-07-29T02:39:46.023517Z"
    },
    "papermill": {
     "duration": 0.022956,
     "end_time": "2022-07-29T02:39:46.025622",
     "exception": false,
     "start_time": "2022-07-29T02:39:46.002666",
     "status": "completed"
    },
    "tags": []
   },
   "outputs": [
    {
     "data": {
      "text/plain": [
       "False"
      ]
     },
     "execution_count": 14,
     "metadata": {},
     "output_type": "execute_result"
    }
   ],
   "source": [
    "inv_result.success"
   ]
  },
  {
   "cell_type": "markdown",
   "id": "2c9dd8a0",
   "metadata": {
    "papermill": {
     "duration": 0.013841,
     "end_time": "2022-07-29T02:39:46.053488",
     "exception": false,
     "start_time": "2022-07-29T02:39:46.039647",
     "status": "completed"
    },
    "tags": []
   },
   "source": [
    "Plot the results:"
   ]
  },
  {
   "cell_type": "code",
   "execution_count": 15,
   "id": "fad093e3",
   "metadata": {
    "execution": {
     "iopub.execute_input": "2022-07-29T02:39:46.079161Z",
     "iopub.status.busy": "2022-07-29T02:39:46.078941Z",
     "iopub.status.idle": "2022-07-29T02:39:46.251101Z",
     "shell.execute_reply": "2022-07-29T02:39:46.250624Z"
    },
    "papermill": {
     "duration": 0.184661,
     "end_time": "2022-07-29T02:39:46.252047",
     "exception": false,
     "start_time": "2022-07-29T02:39:46.067386",
     "status": "completed"
    },
    "tags": []
   },
   "outputs": [
    {
     "name": "stdout",
     "output_type": "stream",
     "text": [
      "============================\n",
      "Summary for inversion result\n",
      "============================\n",
      "FAILURE\n",
      "----------------------------\n",
      "status: 2\n",
      "fun: 4.960150904917166\n",
      "jac: [-5.29993455e-06  3.78311983e-06 -8.55017954e-06 -9.36770796e-07\n",
      " -1.97214233e-07 -6.83878714e-06 -4.07168830e-05 -8.86968037e-07\n",
      " -2.88819815e-06  2.07325860e-05  1.19913876e-05 -2.80269760e-06\n",
      " -9.46609366e-07 -4.41873329e-06 -1.77344774e-07 -1.21029607e-05\n",
      " -1.46435997e-06  5.25273340e-06  8.72664444e-06 -1.99972681e-06\n",
      " -2.38893902e-05  4.40870445e-06  2.37746948e-06  1.86790809e-05\n",
      " -2.80189184e-05  4.64597526e-06 -8.82350478e-06 -1.04833231e-05\n",
      " -4.90649097e-06 -1.37440935e-05 -8.04953242e-07  7.45788697e-06\n",
      "  1.92903046e-05  9.25233566e-06 -8.21699610e-06  2.96313478e-06\n",
      " -2.70745509e-06  3.29378162e-06 -3.97520723e-06  4.37485280e-06\n",
      " -2.20484295e-06  4.47248678e-06  9.24056434e-06 -3.07947798e-06\n",
      "  2.07760074e-06  7.08848994e-07  5.50294104e-06 -6.27739935e-06\n",
      "  1.79698415e-06 -7.92339589e-06 -4.68714881e-06  7.75085654e-06\n",
      "  1.56266206e-05  2.67002775e-06 -3.50530912e-06  5.31122064e-06\n",
      "  1.70810733e-05  1.18403871e-05  2.92605449e-06 -1.00009253e-05\n",
      " -1.32060557e-05 -1.00194798e-05  1.72727473e-05 -9.16192116e-06\n",
      " -3.53888881e-06  1.48600296e-05  1.17916263e-05  4.21591295e-06\n",
      "  2.94994230e-06 -1.48820969e-05 -1.02001834e-05  4.03839145e-06\n",
      "  7.31489879e-06  2.64124054e-05 -2.40386154e-05  7.82635716e-06\n",
      " -4.14980981e-06 -9.01947825e-06  9.20845939e-06 -1.37726430e-05\n",
      "  1.35136355e-07 -4.41867752e-08  3.93883958e-06 -7.52415362e-06\n",
      "  1.64460776e-06 -7.32040429e-06 -1.04891837e-06 -1.15679831e-05\n",
      " -6.15434178e-06  1.11827711e-05  7.67201698e-06  5.27780096e-06\n",
      " -2.18584261e-06 -2.45219112e-06  1.48845306e-07  4.77980941e-06\n",
      "  3.58734167e-06  1.29111716e-06 -1.75559040e-06  1.78336569e-08\n",
      " -4.24041224e-06 -6.90723660e-06 -2.34486742e-06 -2.97702617e-07\n",
      " -2.19276496e-06 -4.32784929e-06  3.17322393e-07 -6.31243094e-06\n",
      "  3.18716579e-06 -6.17611028e-07 -1.32401381e-05 -1.77278574e-07\n",
      "  1.09512052e-05  2.11517216e-06  1.38143763e-06 -6.57552754e-07\n",
      " -2.66187072e-06 -1.59615901e-07  5.90992735e-07 -7.37564546e-07\n",
      "  2.57620998e-06  4.42125395e-07 -2.53536974e-07 -4.79345000e-06\n",
      "  1.51244229e-06  2.35476708e-06 -1.49547882e-07  1.24757488e-06\n",
      "  3.59830619e-06 -4.02904119e-06  1.50588505e-06 -5.11735716e-07\n",
      "  4.66285969e-06  3.11642117e-06  4.76215300e-06  7.34875176e-07\n",
      " -1.56201247e-06  2.19871574e-06  3.14533577e-06  4.81601567e-06\n",
      "  3.33626141e-06  4.89900902e-06 -6.72444781e-06 -1.99645878e-07\n",
      "  1.91635891e-06 -3.99007861e-06  2.40366058e-06 -1.17426788e-05\n",
      "  4.23762457e-06  5.30712179e-06  3.03560580e-06  2.72873286e-06\n",
      " -1.82830373e-06  9.90466529e-07 -5.40502232e-07 -3.69947013e-06\n",
      " -6.17596969e-06  2.57737250e-06  7.87954149e-06  4.50323655e-06\n",
      "  4.35465002e-06  1.71558913e-05  3.51812934e-07 -3.54754713e-06\n",
      "  1.22686746e-05  4.10342495e-06  1.31257240e-06 -9.14393969e-06\n",
      " -1.05350388e-05  1.37187419e-06  1.07296803e-05  2.48660986e-06\n",
      " -4.16694162e-06 -3.48356678e-06 -9.93306148e-06  2.20184005e-06\n",
      " -9.97071224e-06  2.20409259e-06  1.26402269e-05 -6.64905767e-06\n",
      " -2.84475041e-08  2.71534787e-06  1.47453550e-05  4.14772857e-06\n",
      "  1.90404490e-05  1.69215455e-05 -4.57260041e-06  1.12273741e-07\n",
      "  9.05911841e-07  3.40816525e-06  5.72771710e-06  2.27841627e-06\n",
      "  3.91849536e-06  5.54574945e-07 -2.10104559e-06 -8.69322655e-06\n",
      "  5.33604695e-07 -4.46516801e-06 -2.18251743e-06 -1.13536468e-06\n",
      "  5.03001491e-06 -5.55026975e-06  7.54810255e-07 -6.09471230e-06\n",
      " -1.12742774e-05 -2.17076831e-06  7.26406959e-07  9.97028522e-07\n",
      " -7.12015548e-06  1.33882705e-06 -3.38330988e-07  5.31935982e-06\n",
      " -2.16087679e-06 -1.83185267e-05 -1.39975414e-06 -1.02538497e-05\n",
      " -8.37902463e-06 -9.23833911e-06 -1.08966109e-05 -3.99796727e-06\n",
      " -7.71452914e-06 -9.01512061e-06  1.57050122e-05 -4.71258101e-07\n",
      " -7.36383603e-06 -7.43943625e-06  3.86875168e-06 -6.78999279e-06\n",
      " -3.82439045e-06  5.25444756e-08  2.50752035e-06  2.45670979e-06\n",
      "  3.34681087e-06  2.15235044e-06 -1.58732210e-06 -4.98196516e-06\n",
      "  1.83283172e-05 -1.76119166e-06  6.12471038e-06  2.39574269e-06\n",
      " -1.89819296e-06 -1.37800609e-05 -1.46316124e-05  6.09445602e-06\n",
      "  2.24645153e-06  9.26894645e-07  4.13475490e-06 -1.44604995e-06\n",
      "  4.19089713e-06 -1.05992360e-07  1.15921505e-06  2.39983177e-06\n",
      " -2.73773352e-07 -7.13167638e-07  3.47443832e-07  2.50090881e-06\n",
      "  1.84661658e-06  1.62394654e-06  2.21245487e-06  1.36537479e-06\n",
      "  1.15619641e-06 -1.08721769e-06  9.88283377e-07 -8.83649282e-07\n",
      " -3.52107316e-06  1.31049081e-06  2.63063496e-06  1.49547443e-06\n",
      "  1.31393391e-06 -1.15734057e-06 -6.50753817e-06  4.79517752e-06\n",
      " -4.36552694e-06 -1.94758625e-06  2.59847769e-06 -3.50467065e-06\n",
      " -4.94205092e-06 -3.22618072e-06  4.47615889e-06 -4.49560256e-06\n",
      "  3.02068449e-05 -3.17676815e-06 -8.90608303e-06 -1.65387952e-06\n",
      " -2.31758012e-06 -8.75621417e-06  1.67204419e-06  2.17981596e-06\n",
      "  1.51212007e-06  1.17232435e-06  1.11643740e-06 -1.82286873e-06\n",
      "  1.43820117e-06 -1.32888611e-06 -3.22627721e-06  8.17561970e-08\n",
      " -1.84981446e-06 -3.48173610e-06 -2.64853974e-07  1.67799503e-06\n",
      " -1.31814057e-06 -5.78071110e-07 -6.54807794e-06 -1.17337527e-06\n",
      "  5.20810532e-06 -5.55729535e-06  1.02750275e-05 -8.11438118e-06\n",
      "  9.56779810e-07  1.74194240e-06 -3.39187998e-06  1.82200258e-06\n",
      " -2.81047115e-06  6.04064785e-06 -2.35457923e-06 -3.92832144e-06\n",
      " -5.00793356e-06  2.44918622e-06 -5.95767637e-06 -8.81856927e-06\n",
      "  1.07737755e-06  2.37859271e-06 -1.69315457e-06  1.01573197e-05\n",
      "  6.52542139e-07  3.00636251e-06 -1.53513179e-06 -1.85076245e-06\n",
      " -1.64474434e-06  2.74876867e-06  3.77942346e-06  1.50804974e-06\n",
      "  4.03931562e-06 -1.27157866e-06  2.05490492e-08  2.25285003e-05\n",
      "  1.68331720e-06  3.32464498e-06  1.75066696e-06 -1.35386511e-06\n",
      " -6.09949559e-06 -2.71053405e-06 -6.48116359e-07  1.06793950e-07\n",
      " -2.72026347e-07 -2.59954590e-07 -5.21188763e-06  1.42279010e-06\n",
      " -2.19714058e-06  1.26703783e-06  9.64184410e-08 -1.28923301e-06\n",
      " -1.70191002e-06 -1.07107712e-05 -7.22977485e-06 -8.14516565e-06\n",
      "  4.49375452e-06 -4.12009446e-06  2.45838557e-06  2.54395555e-06\n",
      "  1.89546480e-06 -1.63558474e-06 -5.68335115e-06 -4.44703927e-06\n",
      "  1.76841543e-05 -5.27000090e-06  1.91712876e-06  8.68766513e-07\n",
      "  4.46630156e-05 -5.12473268e-06 -4.91400498e-07  4.54761610e-06\n",
      "  2.49924302e-06  4.64536098e-06  3.34241533e-06  1.65649867e-06\n",
      " -1.82251719e-06  1.64082265e-06  5.45884936e-06 -1.25704280e-06\n",
      "  2.05300695e-06 -8.78808570e-06 -4.86337903e-06 -3.76939592e-06\n",
      " -9.05465577e-07  1.23060802e-05  1.78195934e-05  5.51028975e-06\n",
      " -1.26127366e-06 -4.12728475e-06  5.30687647e-06 -1.12456231e-06\n",
      "  5.36543431e-05  8.60858259e-06  1.07198161e-05 -1.22525858e-05\n",
      " -2.86782178e-06  1.46305859e-06  1.32426192e-05 -5.00469449e-06\n",
      " -4.17738370e-06 -3.98585108e-07 -2.94509644e-06 -4.97430453e-07\n",
      " -2.24529709e-06  7.45140758e-06 -6.66442055e-06  6.14208519e-07\n",
      " -2.78570235e-06  9.59590648e-07 -9.85520491e-07 -3.26073950e-06\n",
      " -1.32237175e-06 -1.36802152e-06  2.04389205e-06  1.41259034e-06\n",
      " -1.78829195e-06  1.87453855e-06 -2.96894345e-07  3.28675210e-07\n",
      " -2.53733547e-06  2.09833034e-06 -2.37662463e-06 -3.11168693e-06\n",
      "  1.56519879e-06 -1.28645382e-06 -2.18097919e-06  2.86502407e-06\n",
      " -1.90225962e-06 -1.27655662e-06 -5.19291091e-06  5.67562403e-07\n",
      " -5.04531856e-06  3.51906366e-06 -1.57186849e-06 -1.91222928e-06\n",
      " -6.18254780e-06 -1.72255562e-06  9.75493198e-06  6.75043415e-07\n",
      "  3.30782371e-06 -2.45598389e-07 -3.61086783e-06 -6.64085451e-06\n",
      " -3.19272138e-07  2.05383768e-06 -1.78508316e-06 -1.21672198e-05\n",
      " -4.52928641e-05 -7.44424149e-06  1.44223026e-06 -1.82006730e-06\n",
      " -2.45901430e-05 -1.65441568e-06 -7.84794505e-06 -5.70594272e-06\n",
      "  4.63720829e-06  3.32665140e-06 -2.20005341e-06 -5.05320277e-06\n",
      " -3.71840150e-06  3.55527492e-06 -7.78961113e-05  3.34825292e-05\n",
      " -9.80508387e-06 -5.95959070e-06  6.26840247e-06 -3.69688992e-06\n",
      "  2.64057743e-06 -6.32704146e-06  8.10678236e-06 -3.19590651e-06\n",
      " -3.11512472e-06  3.56221832e-06  1.01320076e-06  3.82952114e-06\n",
      " -4.41401122e-07  4.79086352e-06 -5.31248994e-06  4.49820915e-06\n",
      "  4.55851698e-06 -2.09079448e-06 -5.29718951e-06 -4.34899368e-05\n",
      "  1.61485446e-06 -2.32997374e-06  6.00002382e-06  8.54879260e-06\n",
      "  4.58829336e-05  2.44702903e-05 -8.45019427e-07  2.36786402e-06\n",
      " -4.51084861e-06 -5.06579995e-06  4.73205062e-06 -1.37550396e-06\n",
      "  2.61872856e-06 -4.31215190e-06  6.59743566e-07  2.71690890e-06\n",
      " -3.94261824e-06  1.96556854e-06  1.67241877e-06 -3.73495859e-06\n",
      "  8.39391069e-07  5.45435187e-06  9.05371479e-06  6.86698727e-08\n",
      " -5.92718434e-06 -3.78654323e-06 -1.19252134e-04  4.96342776e-06\n",
      " -2.57006288e-05 -6.00061388e-05 -5.17704866e-06  2.73968581e-06\n",
      "  1.83592633e-06  5.22845087e-06 -7.62965193e-06  2.11217348e-05\n",
      " -1.28689464e-04  5.28928948e-06 -7.90788378e-05 -2.20241474e-05\n",
      " -1.07838033e-04  3.10795950e-05 -2.31362879e-05 -5.77084815e-05\n",
      " -5.85919476e-05 -1.80003773e-04 -4.17138547e-05 -1.24905437e-04\n",
      "  4.93533335e-06  4.11065603e-05 -1.07262953e-04 -1.43135108e-04\n",
      " -3.24320561e-05  6.89394547e-05 -8.53209070e-05 -1.74540253e-04\n",
      " -1.83784609e-04  1.82552231e-05 -7.06720802e-05 -1.62247456e-05\n",
      "  2.48565921e-06 -4.55230586e-06 -1.44326081e-06  1.64711272e-05\n",
      "  9.56745928e-06 -9.36952049e-06 -4.87061958e-06  6.22544351e-06\n",
      "  1.32517946e-05 -3.10176209e-06 -3.53927516e-06 -3.64664038e-07\n",
      " -3.22462742e-06  3.20517042e-06 -1.09837516e-04 -7.28466922e-05\n",
      " -1.34273752e-04 -5.23573384e-06 -5.47130056e-06 -1.12980706e-04\n",
      " -1.52066787e-05  4.49424012e-06 -2.65532723e-05  4.39963522e-06\n",
      " -7.10900198e-06 -1.38755677e-05 -1.58027540e-05 -1.65104905e-05\n",
      " -4.55620782e-06 -1.02236391e-05 -1.24484564e-05  3.21474413e-05\n",
      " -2.65992805e-05 -3.05485218e-05  1.14872364e-05  1.76894198e-05\n",
      " -4.24883992e-06 -7.94116907e-06  4.64516690e-06  9.47955489e-06\n",
      " -2.18394969e-06 -2.22300900e-06 -1.60119690e-04 -1.38030321e-04\n",
      "  4.16420207e-06  1.16275844e-05  1.08010017e-05  8.95091458e-06\n",
      "  3.48497367e-06  7.41522864e-06  1.19302134e-05  1.42332068e-05\n",
      "  3.73854812e-05  2.53220891e-05  2.05680131e-05  1.45473051e-05\n",
      " -7.10206218e-06  2.46204458e-05 -1.09375707e-05 -3.87700790e-05\n",
      " -1.53095771e-04 -1.46840732e-04  1.80567320e-06 -1.59297432e-06\n",
      "  7.89261694e-06  1.67283657e-05  2.18515938e-05  1.09572396e-05\n",
      "  1.94507810e-05  1.57735958e-05 -1.49901506e-04  6.68844885e-07\n",
      " -3.26508009e-06 -6.31402922e-06  3.00656135e-05 -1.50490483e-05\n",
      " -8.17715194e-05 -8.93443728e-05  1.08281300e-05  1.12688003e-05\n",
      "  1.98197923e-05  1.59380492e-05 -5.81006590e-06 -7.74660567e-07\n",
      " -5.74265958e-06 -1.02965978e-06 -5.11506805e-06 -5.86886283e-06\n",
      " -1.14929018e-04 -3.96151397e-05 -2.71357415e-06  1.18108153e-05\n",
      " -9.18915883e-05  2.85511580e-05 -3.54951727e-06 -1.02145870e-05\n",
      " -2.86672866e-06 -5.75703149e-06 -6.49940938e-06  8.48882282e-08\n",
      " -1.49896518e-08  3.80945489e-06  5.90702840e-05  1.02794984e-05\n",
      " -1.78446810e-06 -4.20784100e-06  2.00466947e-06 -3.08653711e-06\n",
      " -5.42625782e-06 -6.24454896e-06  8.99260263e-06  1.25657392e-06\n",
      "  2.79373836e-05  2.06319418e-05 -2.07044910e-06 -1.77085196e-06\n",
      " -6.62738103e-06 -6.41667987e-06 -3.55687013e-06 -2.43877251e-06\n",
      " -2.06924932e-06 -1.31935923e-05  7.17978456e-06  1.46356562e-05\n",
      "  6.20935062e-06 -3.69972034e-06 -9.46072316e-06  2.14238726e-05\n",
      "  8.43193427e-06  3.06520912e-05 -9.29424584e-06 -4.62513532e-06\n",
      " -4.67787520e-05 -1.09980242e-06 -4.97013751e-06 -4.52304560e-06\n",
      " -3.49392230e-05  6.08365781e-05 -9.03868191e-06 -6.89770136e-06\n",
      " -1.05263226e-05 -8.42428493e-06  8.66368709e-07  3.97466188e-05\n",
      "  2.36017801e-05  3.50864983e-05 -4.78760612e-06  5.79124421e-07\n",
      "  3.73292299e-05  1.91015855e-05 -1.13521424e-05 -1.24845116e-05\n",
      " -9.40217581e-05  1.03290160e-05 -2.20521807e-06 -1.27807827e-05\n",
      "  9.58960509e-06  1.93074421e-05 -9.72594686e-06  3.35049155e-05\n",
      " -8.33034250e-05 -1.54234402e-04  2.45711708e-05  4.32173827e-05\n",
      " -1.10087869e-04 -5.25619144e-05 -1.29042476e-06  1.54753108e-05\n",
      "  1.56941503e-06  8.41332632e-06  1.86996486e-06  2.88839249e-05\n",
      " -6.95112913e-05 -3.72765805e-05  7.26169030e-07 -7.90803070e-06\n",
      "  9.80474206e-06  1.18953686e-05  1.42328166e-06 -4.84984417e-06\n",
      "  1.76159186e-05 -6.21474404e-05  7.34552258e-05  5.53257226e-06\n",
      "  1.44569378e-05 -9.53768169e-05 -6.59660041e-05 -9.54678799e-05\n",
      "  2.08345798e-05  9.12524355e-05  1.63606360e-05 -6.37976112e-05\n",
      "  4.74445125e-05  1.69674096e-05  8.82623373e-06  2.81048430e-05\n",
      "  2.27912650e-05 -7.62709413e-06 -4.63455784e-06  4.54559995e-05\n",
      "  5.12863701e-05  1.81046320e-06  1.25433818e-04  7.80815450e-06\n",
      "  3.05277364e-05  2.53478304e-05 -4.23303991e-06  1.80061183e-05\n",
      " -1.58600189e-04 -5.64239180e-05  4.67338770e-05  2.20370567e-05\n",
      "  4.15151238e-05  5.58975514e-05  3.87292550e-05 -6.37030333e-06\n",
      " -1.83441911e-06  9.52940725e-06  1.01636111e-04  1.73358162e-05\n",
      "  7.00408196e-06  2.86661602e-05  1.82796681e-05  1.78367059e-05\n",
      "  4.60445009e-05  3.34898749e-05  6.29147849e-05  2.57632269e-05\n",
      "  1.41699335e-05  3.44787277e-05  9.72561729e-05  7.95740438e-05\n",
      "  5.76929548e-05  4.71377723e-05 -6.32255048e-05  2.43390196e-06\n",
      " -1.49793124e-05 -1.12387237e-05  3.42290157e-05  7.64593233e-05\n",
      "  2.05297692e-04  5.18704953e-05  3.19658248e-05  1.47978055e-05\n",
      "  1.21473168e-04  5.04253025e-05  4.56341409e-05  3.48235222e-05\n",
      "  3.88140186e-05 -2.64307687e-05  5.05132224e-05  5.95925356e-05\n",
      "  1.78188637e-04  2.43923098e-04  6.81790271e-05  4.98231803e-05\n",
      " -2.44602493e-05  7.00786081e-08  5.52405185e-06  2.55505490e-05\n",
      "  4.53118729e-05 -1.42947731e-05  9.94430240e-05  2.31527790e-04\n",
      " -5.89371796e-05  1.64145184e-05 -3.07334559e-07  3.37141475e-04\n",
      "  3.15858443e-05 -1.45162289e-05  7.24343483e-05  1.82964479e-04\n",
      "  1.22224813e-05  2.32343776e-07  1.10576919e-04  2.53476978e-04\n",
      "  3.52436721e-04  1.80964135e-04  2.89843166e-04  1.21798602e-04\n",
      "  6.45126370e-05  7.26589046e-06  4.26068181e-05  3.47334474e-06\n",
      "  3.60605314e-05  6.66803161e-05  1.06401104e-04]\n",
      "nfev: 173\n",
      "njev: 101\n",
      "nhev: 173\n",
      "nit: 171\n",
      "message: A bad approximation caused failure to predict improvement.\n",
      "hess: [[ 3.96113592e+00  5.74168133e-04  8.25715547e-04 ...  4.47852277e-04\n",
      "   8.75643789e-04  5.78260244e-03]\n",
      " [ 5.74168133e-04  2.94687426e-01  2.36108709e-05 ... -1.24619453e-04\n",
      "  -6.97665244e-04  3.02420758e-03]\n",
      " [ 8.25715547e-04  2.36108709e-05  5.73676814e-01 ...  1.19218415e-05\n",
      "  -1.44166056e-04 -6.81610453e-04]\n",
      " ...\n",
      " [ 4.47852277e-04 -1.24619453e-04  1.19218415e-05 ...  7.61398070e-03\n",
      "   6.89760494e-03  2.08680337e-02]\n",
      " [ 8.75643789e-04 -6.97665244e-04 -1.44166056e-04 ...  6.89760494e-03\n",
      "   9.71239608e-03  2.22361132e-02]\n",
      " [ 5.78260244e-03  3.02420758e-03 -6.81610453e-04 ...  2.08680337e-02\n",
      "   2.22361132e-02  1.06762011e-01]]\n",
      "model: [5.30290716 5.30272327 5.33624742 5.3450431  5.27842313 5.30615326\n",
      " 5.31235345 5.29849973 5.32367711 5.31169458 5.30578344 5.30187877\n",
      " 5.30897711 5.3352062  5.2878191  5.35483784 5.31829694 5.29404985\n",
      " 5.30074932 5.29778971 5.33189437 5.23599258 5.32704834 5.3229467\n",
      " 5.3355402  5.28401136 5.30816253 5.31621868 5.30295417 5.33432889\n",
      " 5.31159613 5.31631834 5.34360874 5.34326845 5.28769897 5.30904511\n",
      " 5.34422404 5.30392468 5.31616372 5.28483676 5.32240903 5.27141143\n",
      " 5.30442337 5.31824436 5.27751543 5.30667537 5.30608073 5.33159885\n",
      " 5.30641522 5.29503415 5.31649995 5.28501971 5.28758585 5.30992825\n",
      " 5.32887388 5.29865565 5.27644099 5.0255851  5.27990309 5.26340021\n",
      " 5.30871771 5.30119634 5.26812944 5.32492272 5.30243482 5.31057063\n",
      " 5.29886206 5.25091933 5.29847164 5.27665286 5.27400776 5.34943275\n",
      " 5.27163286 5.3176202  5.31793237 5.30948855 5.33015683 5.27203076\n",
      " 5.3357034  5.30714663 5.34353941 5.29511851 5.29649494 5.33813735\n",
      " 5.31985553 5.31142772 5.33867623 5.29396293 5.30097212 5.30031813\n",
      " 5.29879739 5.31812224 5.27654453 5.3256582  5.31211032 5.29127572\n",
      " 5.29247261 5.33843808 5.29123333 5.28829354 5.30341165 5.26994715\n",
      " 5.32800257 5.30107743 5.30089267 5.28395975 5.2686327  5.36348511\n",
      " 5.29522193 5.29704912 5.29198993 5.26993031 5.31732941 5.32117806\n",
      " 5.25765741 5.31232557 5.30297875 5.28124828 5.26696598 5.31062787\n",
      " 5.31111487 5.34600531 5.32220632 5.3276416  5.30898155 5.27573112\n",
      " 5.26789532 5.3228077  5.31704724 5.29234165 5.34754546 5.32741677\n",
      " 5.29941455 5.34270452 5.30967368 5.32691858 5.31781277 5.28471732\n",
      " 5.29346067 5.28067133 5.30856912 5.29055902 5.31840888 5.31338692\n",
      " 5.32403848 5.25728158 5.32121916 5.27846524 5.31679744 5.28956866\n",
      " 5.30701545 5.3099878  5.31175679 5.30968478 5.30081889 5.3189427\n",
      " 5.33501669 5.30209926 5.23422983 5.30301519 5.288673   5.26247214\n",
      " 5.28944635 5.2944508  5.32507865 5.25474733 5.31789248 5.30040074\n",
      " 5.28462442 5.29427541 5.30535885 5.29423495 5.30282018 5.30034756\n",
      " 5.29473657 5.2762966  5.27475539 5.30154312 5.33195504 5.30424433\n",
      " 5.30021885 5.31652178 5.30353517 5.28790084 5.32277787 5.30821979\n",
      " 5.31573594 5.28882662 5.30214891 5.30836524 5.32818008 5.29209442\n",
      " 5.32312585 5.34494075 5.29035622 5.33826251 5.28072764 5.33340489\n",
      " 5.329861   5.31729849 5.27742636 5.29837047 5.31979489 5.31170905\n",
      " 5.31538906 5.29793039 5.29544579 5.30863245 5.26331953 5.31827118\n",
      " 5.27226327 5.3398672  5.35661309 5.30648471 5.26702815 5.29960339\n",
      " 5.32424407 5.26716963 5.26661685 5.2851456  5.29209954 5.34555017\n",
      " 5.28891293 5.30994702 5.31814997 5.31902871 5.33173993 5.34333846\n",
      " 5.34410572 5.27791263 5.32935871 5.2756816  5.27296878 5.32464594\n",
      " 5.33786339 5.31796381 5.27254994 5.29457847 5.30335986 5.30293762\n",
      " 5.28911624 5.30817875 5.3238985  5.28341669 5.28995431 5.29371657\n",
      " 5.27769483 5.28617618 5.3008458  5.29235386 5.28910345 5.32749325\n",
      " 5.34628592 5.31302292 5.31157227 5.2769943  5.31025767 5.30559578\n",
      " 5.28364162 5.31753517 5.29682785 5.32908545 5.30460991 5.29908418\n",
      " 5.31837093 5.28949246 5.31211659 5.30665957 5.30084073 5.29841186\n",
      " 5.29686635 5.30461484 5.29113802 5.30349391 5.32612879 5.30754709\n",
      " 5.30775692 5.29277118 5.31515197 5.29123386 5.34431333 5.30978235\n",
      " 5.29881011 5.26578528 5.30383773 5.30396068 5.31511624 5.30454554\n",
      " 5.30858703 5.33219228 5.30696239 5.28529227 5.2727849  5.31135045\n",
      " 5.30994162 5.32457101 5.30181588 5.29742424 5.31656313 5.2741421\n",
      " 5.2835302  5.30340038 5.31399926 5.33431021 5.3314269  5.30123645\n",
      " 5.33585794 5.37309595 5.34800845 5.30029013 5.33533637 5.26978563\n",
      " 5.36764572 5.29209198 5.29700044 5.35984494 5.30068503 5.31456145\n",
      " 5.31741124 5.33842497 5.26941    5.3277323  5.30726106 5.01903432\n",
      " 5.28339702 5.28416767 5.31934867 5.30623486 5.29191992 5.29335154\n",
      " 5.30437476 5.32538626 5.32079419 5.30308928 5.31226724 4.03245401\n",
      " 5.29421057 5.30209962 5.29445619 5.30736197 5.31858792 5.31757235\n",
      " 5.32844858 5.30187445 5.26045273 5.30569217 5.31042254 5.31317725\n",
      " 5.2828162  5.29654622 5.31035451 5.29694264 5.31007349 5.2765826\n",
      " 5.27815036 5.31927719 5.29101231 5.24654459 5.26808072 5.33227112\n",
      " 5.30328293 5.31758882 5.31347604 5.30002748 5.30765432 5.31653968\n",
      " 5.2885916  5.31802574 5.4176045  5.27991931 5.26412354 5.29804239\n",
      " 5.33637513 5.291287   5.32243144 5.30119175 5.30203566 5.30920315\n",
      " 5.32121861 5.36323296 5.3895075  5.28515966 5.32170142 5.27477386\n",
      " 5.38112567 5.30538711 5.34004225 5.2062861  5.24079441 5.36435875\n",
      " 5.22159439 5.25367562 3.50583279 5.39545379 5.32959479 5.31619021\n",
      " 5.3600242  5.34920506 5.35776357 4.98635085 5.34220486 5.33127303\n",
      " 5.28307855 5.30320783 4.86328764 5.31629774 5.34571919 5.13126413\n",
      " 5.3058971  5.31841849 5.3130783  5.31015013 5.29461886 5.32384202\n",
      " 5.31306729 5.29089889 5.29974373 5.30181495 5.2841847  5.28836532\n",
      " 5.30355703 5.31616229 5.31093755 5.31299145 5.2901482  5.28913545\n",
      " 5.28812599 5.27610537 5.32007869 5.29408375 5.29972724 5.3159323\n",
      " 5.31623467 5.32704945 5.32575673 5.32539717 5.29077938 5.30512648\n",
      " 5.29626913 5.28041816 5.32639983 5.30043056 5.30304243 5.31584142\n",
      " 5.27553266 5.2802986  5.26633559 5.31403184 5.29594547 5.28674739\n",
      " 5.31999876 5.29202493 5.36349006 5.30594285 5.29989091 5.33976847\n",
      " 5.27804261 5.30427619 5.30241083 5.27244181 5.31647826 5.30889153\n",
      " 5.3561065  5.30894864 5.29252295 5.34296345 5.28692012 5.29350766\n",
      " 5.28163063 5.29052466 5.32384485 5.30670795 5.28367948 5.27474286\n",
      " 5.33040391 5.29733468 5.28169199 5.29060929 5.28954525 5.28709025\n",
      " 5.29678104 5.30934302 5.34595104 5.41770881 5.30158301 5.29984363\n",
      " 5.32396915 5.32681416 5.32358237 5.30183293 5.3291834  5.16800607\n",
      " 5.32132569 5.31913257 5.29757432 5.32315277 5.30685003 5.31654183\n",
      " 5.29650907 5.27303088 5.3472388  5.29552944 5.30175355 5.2820843\n",
      " 5.32437327 5.32173427 5.3018317  5.34121911 5.25941036 5.33648304\n",
      " 5.41966055 5.30588319 5.31614449 5.31720848 5.28551124 5.34480228\n",
      " 5.2740063  5.22417095 5.34580594 5.30536463 5.40616253 5.29911127\n",
      " 5.35352979 5.31741822 5.34346088 5.32684717 5.30291534 5.36123043\n",
      " 5.37235803 5.50004318 5.3219734  5.37933962 5.34527699 5.33684851\n",
      " 5.53442309 5.37789456 5.35876501 5.33005469 5.38136481 5.51637366\n",
      " 5.47772476 5.33654442 5.38323583 5.35245877 5.34191296 5.34424857\n",
      " 4.79772104 5.35910651 5.27439947 5.27258517 5.3029662  5.25829051\n",
      " 5.03792124 5.3055923  5.28373427 5.29158183 5.32486782 5.30229336\n",
      " 5.34911803 5.3340192  5.44090501 5.36996189 5.30732643 5.39453478\n",
      " 5.38962799 4.97075804 5.29836212 5.29354258 5.27689481 5.30658937\n",
      " 5.30107084 5.29878208 5.26393872 5.29085105 5.28440258 5.30634406\n",
      " 5.29394864 5.29604381 5.27832808 5.30227258 5.32018183 5.26851919\n",
      " 4.80165599 4.82188924 5.34513675 5.35685923 5.41504157 5.38434092\n",
      " 5.31439182 5.32290136 5.26270958 4.38563034 5.28443695 5.26320332\n",
      " 5.2832767  5.26974496 5.30339246 5.29371805 5.34175144 5.24806564\n",
      " 5.26739212 5.28695052 5.41107907 5.34574202 5.47708646 5.53074691\n",
      " 4.40664785 4.98897596 5.28241521 5.24067661 5.28321134 5.27001495\n",
      " 5.27151885 5.26536172 5.44859743 5.3107053  5.2781148  5.28608732\n",
      " 4.50829334 5.01131668 4.44876669 5.42878663 4.37875576 4.35712165\n",
      " 5.29694405 5.26534766 5.32304944 5.3271836  5.35172968 5.2850824\n",
      " 5.32789263 5.29070363 5.41190619 5.31571608 5.30799588 5.28650694\n",
      " 5.05991997 3.98803544 4.8331066  4.07602137 5.3494493  5.31720021\n",
      " 5.33669345 5.24328728 5.31085819 5.28427808 3.37653316 5.20336917\n",
      " 5.29663408 5.31988417 5.27925328 5.27862599 5.27721938 5.29461996\n",
      " 5.26751796 5.261298   5.33319398 5.29495712 5.32184214 5.33895189\n",
      " 5.33986281 5.27473876 5.29251661 5.27122825 5.24020148 5.33526048\n",
      " 5.26849178 5.31132072 5.3023344  5.29332106 5.3380393  5.29199116\n",
      " 5.26906613 5.33756135 5.28063039 5.27250908 3.30480896 5.29598511\n",
      " 5.33657513 5.2540043  5.23599137 4.49650312 5.31921833 5.32442122\n",
      " 5.3182034  5.26225646 5.26829911 5.31934448 5.28456748 5.27469606\n",
      " 5.30239156 5.30461374 5.32633305 5.18422186 5.30300797 5.27405797\n",
      " 4.49452167 5.35952148 5.33724326 5.30975888 5.23878988 5.29582778\n",
      " 5.29257855 5.22337206 5.27120074 5.48691635 5.31013649 5.34463184\n",
      " 5.38552805 5.46148483 3.34979876 4.4615678  5.35054647 5.29381465\n",
      " 5.31445421 5.23360428 5.05564857 4.38040832 5.32717431 5.29055017\n",
      " 5.25082566 5.3486982  5.34543446 5.30201464 4.93471223 4.86567782\n",
      " 3.43284317 5.35503089 5.25016569 5.32490005 4.20948976 4.8455281\n",
      " 3.84886286 4.06642332 4.05457578 3.96453851 3.83849436 5.11129577\n",
      " 4.90832204 4.96373974 5.13026326 5.31501341 5.34794885 5.39112045\n",
      " 5.17390916 5.29178028 5.31234102 5.37586246 5.34152934 5.3805315\n",
      " 5.33678765 5.32367023 3.27912138 4.50210144 5.36658881 5.26108138\n",
      " 5.37547682 5.28979061 5.28629473 5.24815527 5.22082124 5.20609\n",
      " 5.33994235 5.21019128 5.19976222 5.32881287 5.21651473 5.15239125\n",
      " 5.22718313 5.21233259 5.35355855 5.19234444 5.27079335 5.16434415\n",
      " 5.19760424 5.25744147 5.19732033 5.27785517 5.02614612 5.43143168\n",
      " 5.07521846 4.25238945 5.26129958 5.24384621 5.16211339 5.30295171\n",
      " 4.54312755 4.90193838 5.2233876  5.19721249 5.36638852 5.1419589\n",
      " 5.32321041 4.93610309 5.22756966 5.3536348  5.20654876 5.19572128\n",
      " 5.22202822 5.41483141 5.08046192 5.4088004  5.45016097 5.30532329\n",
      " 5.15428571 5.23130593 5.1636845  5.17305659 4.41879608 5.1565365\n",
      " 5.32062783 5.1258709  5.40265048 5.21218401 5.20730175 5.13144796\n",
      " 5.42961744 5.40095512 5.25659974 5.13190722 5.1386205  5.23608062\n",
      " 5.16507126 5.30988379 5.39835901 5.3503692  5.36930864 5.43474525\n",
      " 5.40907952 5.36746585 5.35069542]\n"
     ]
    },
    {
     "data": {
      "text/plain": [
       "Text(0.5, 1.0, 'Inferred model')"
      ]
     },
     "execution_count": 15,
     "metadata": {},
     "output_type": "execute_result"
    },
    {
     "data": {
      "image/png": "[encoded data removed]",
      "text/plain": [
       "<Figure size 432x288 with 2 Axes>"
      ]
     },
     "metadata": {
      "needs_background": "light"
     },
     "output_type": "display_data"
    }
   ],
   "source": [
    "# convert back to normal space from log space\n",
    "model = np.exp(inv_result.model)\n",
    "\n",
    "# plot inferred model\n",
    "inv_result.summary()\n",
    "ax = pygimli.show(ert_manager.paraDomain, data=model, label=r\"$\\Omega m$\")\n",
    "ax[0].set_title(\"Inferred model\")"
   ]
  },
  {
   "cell_type": "code",
   "execution_count": 16,
   "id": "dbdad52e",
   "metadata": {
    "execution": {
     "iopub.execute_input": "2022-07-29T02:39:46.269197Z",
     "iopub.status.busy": "2022-07-29T02:39:46.268956Z",
     "iopub.status.idle": "2022-07-29T02:39:46.821638Z",
     "shell.execute_reply": "2022-07-29T02:39:46.821094Z"
    },
    "papermill": {
     "duration": 0.562333,
     "end_time": "2022-07-29T02:39:46.822626",
     "exception": false,
     "start_time": "2022-07-29T02:39:46.260293",
     "status": "completed"
    },
    "tags": []
   },
   "outputs": [
    {
     "data": {
      "text/plain": [
       "Text(0.5, 1.0, 'Synthetic data from inferred model')"
      ]
     },
     "execution_count": 16,
     "metadata": {},
     "output_type": "execute_result"
    },
    {
     "data": {
      "image/png": "[encoded data removed]",
      "text/plain": [
       "<Figure size 432x288 with 2 Axes>"
      ]
     },
     "metadata": {
      "needs_background": "light"
     },
     "output_type": "display_data"
    }
   ],
   "source": [
    "# plot synthetic data\n",
    "d = forward_oprt.response(model)\n",
    "ax = ert.showERTData(scheme, vals=d, cMin=np.min(data[\"rhoa\"]), cMax=np.max(data[\"rhoa\"]))\n",
    "ax[0].set_title(\"Synthetic data from inferred model\")"
   ]
  },
  {
   "cell_type": "markdown",
   "id": "e63a135a",
   "metadata": {
    "papermill": {
     "duration": 0.028429,
     "end_time": "2022-07-29T02:39:46.860379",
     "exception": false,
     "start_time": "2022-07-29T02:39:46.831950",
     "status": "completed"
    },
    "tags": []
   },
   "source": [
    "### 2.2 A custom [Newton's optimisation](https://en.wikipedia.org/wiki/Newton%27s_method_in_optimization) approach\n",
    "\n",
    "Now we switch to a Newton's iterative approach written by ourselves, so you'll \n",
    "have a closer look at what's happening in the loop.\n",
    "\n",
    "First of all, define our own solver."
   ]
  },
  {
   "cell_type": "code",
   "execution_count": 17,
   "id": "a21b92a9",
   "metadata": {
    "execution": {
     "iopub.execute_input": "2022-07-29T02:39:46.886612Z",
     "iopub.status.busy": "2022-07-29T02:39:46.886377Z",
     "iopub.status.idle": "2022-07-29T02:39:46.891772Z",
     "shell.execute_reply": "2022-07-29T02:39:46.891371Z"
    },
    "papermill": {
     "duration": 0.016202,
     "end_time": "2022-07-29T02:39:46.892664",
     "exception": false,
     "start_time": "2022-07-29T02:39:46.876462",
     "status": "completed"
    },
    "tags": []
   },
   "outputs": [],
   "source": [
    "class GaussNewton(BaseSolver):\n",
    "    def __init__(self, inv_problem, inv_options):\n",
    "        __params = inv_options.get_params()\n",
    "        self._niter = __params.get(\"niter\", 100)\n",
    "        self._verbose = __params.get(\"verbose\", True)\n",
    "        self._step = __params.get(\"step\", 1)\n",
    "        self._model_0 = inv_problem.initial_model\n",
    "        self._residual = inv_problem.residual\n",
    "        self._jacobian = inv_problem.jacobian\n",
    "        self._gradient = inv_problem.gradient\n",
    "        self._hessian = inv_problem.hessian\n",
    "        self._misfit = inv_problem.data_misfit if inv_problem.data_misfit_defined else None\n",
    "        self._reg = inv_problem.regularisation if inv_problem.regularisation_defined else None\n",
    "        self._obj = inv_problem.objective if inv_problem.objective_defined else None\n",
    "\n",
    "    def __call__(self):\n",
    "        current_model = np.array(self._model_0)\n",
    "        for i in range(self._niter):\n",
    "            if self._verbose:\n",
    "                print(\"-\" * 80)\n",
    "                print(f\"Iteration {i+1}\")\n",
    "                print(\"model min and max:\", np.min(current_model), np.max(current_model))\n",
    "                if self._misfit: print(\"data misfit:\", self._misfit(current_model))\n",
    "                if self._reg: print(\"regularisation:\", self._reg(current_model))\n",
    "            term1 = self._hessian(current_model)\n",
    "            term2 = - self._gradient(current_model)\n",
    "            model_update = np.linalg.solve(term1, term2) * self._step\n",
    "            current_model = current_model + model_update\n",
    "        return {\"model\": current_model, \"success\": True}"
   ]
  },
  {
   "cell_type": "markdown",
   "id": "b9623998",
   "metadata": {
    "papermill": {
     "duration": 0.007775,
     "end_time": "2022-07-29T02:39:46.910505",
     "exception": false,
     "start_time": "2022-07-29T02:39:46.902730",
     "status": "completed"
    },
    "tags": []
   },
   "source": [
    "Now, make use of this custom solver and run inversion again:"
   ]
  },
  {
   "cell_type": "code",
   "execution_count": 18,
   "id": "6defb206",
   "metadata": {
    "execution": {
     "iopub.execute_input": "2022-07-29T02:39:46.933411Z",
     "iopub.status.busy": "2022-07-29T02:39:46.933199Z",
     "iopub.status.idle": "2022-07-29T02:54:37.375496Z",
     "shell.execute_reply": "2022-07-29T02:54:37.374382Z"
    },
    "papermill": {
     "duration": 890.460064,
     "end_time": "2022-07-29T02:54:37.378305",
     "exception": false,
     "start_time": "2022-07-29T02:39:46.918241",
     "status": "completed"
    },
    "tags": []
   },
   "outputs": [
    {
     "name": "stdout",
     "output_type": "stream",
     "text": [
      "--------------------------------------------------------------------------------\n",
      "Iteration 1\n",
      "model min and max: 5.291310843489913 5.291310843489913\n",
      "data misfit: 229.71418345445022\n",
      "regularisation: 0.0\n"
     ]
    },
    {
     "name": "stdout",
     "output_type": "stream",
     "text": [
      "--------------------------------------------------------------------------------\n",
      "Iteration 2\n",
      "model min and max: 5.275884701683029 5.304449604934593\n"
     ]
    },
    {
     "name": "stdout",
     "output_type": "stream",
     "text": [
      "data misfit: 227.23411332788962\n",
      "regularisation: 0.010102187048030783\n"
     ]
    },
    {
     "name": "stdout",
     "output_type": "stream",
     "text": [
      "--------------------------------------------------------------------------------\n",
      "Iteration 3\n",
      "model min and max: 5.262031885900452 5.310706445060276\n",
      "data misfit: 224.88018892913274\n",
      "regularisation: 0.02382881272664419\n"
     ]
    },
    {
     "name": "stdout",
     "output_type": "stream",
     "text": [
      "--------------------------------------------------------------------------------\n",
      "Iteration 4\n",
      "model min and max: 5.248398551565937 5.315148641783774\n",
      "data misfit: 222.5841638420562\n",
      "regularisation: 0.038330740534948296\n"
     ]
    },
    {
     "name": "stdout",
     "output_type": "stream",
     "text": [
      "--------------------------------------------------------------------------------\n",
      "Iteration 5\n",
      "model min and max: 5.235210460904486 5.318970381279034\n",
      "data misfit: 220.32501943579953\n",
      "regularisation: 0.05346144871852576\n"
     ]
    },
    {
     "name": "stdout",
     "output_type": "stream",
     "text": [
      "--------------------------------------------------------------------------------\n",
      "Iteration 6\n",
      "model min and max: 5.221988655748675 5.322505463474806\n",
      "data misfit: 218.09539040624733\n",
      "regularisation: 0.06913735737859916\n"
     ]
    },
    {
     "name": "stdout",
     "output_type": "stream",
     "text": [
      "--------------------------------------------------------------------------------\n",
      "Iteration 7\n",
      "model min and max: 5.2087352952573704 5.32586064835247\n",
      "data misfit: 215.892125425656\n",
      "regularisation: 0.0852929276262369\n"
     ]
    },
    {
     "name": "stdout",
     "output_type": "stream",
     "text": [
      "--------------------------------------------------------------------------------\n",
      "Iteration 8\n",
      "model min and max: 5.195697353190766 5.329074034021576\n"
     ]
    },
    {
     "name": "stdout",
     "output_type": "stream",
     "text": [
      "data misfit: 213.71361019906533\n",
      "regularisation: 0.10188094041709929\n"
     ]
    },
    {
     "name": "stdout",
     "output_type": "stream",
     "text": [
      "--------------------------------------------------------------------------------\n",
      "Iteration 9\n",
      "model min and max: 5.182852523974132 5.332161355799891\n",
      "data misfit: 211.5588753156785\n",
      "regularisation: 0.11886698952375785\n"
     ]
    },
    {
     "name": "stdout",
     "output_type": "stream",
     "text": [
      "--------------------------------------------------------------------------------\n",
      "Iteration 10\n",
      "model min and max: 5.170183680332011 5.335368509286806\n",
      "data misfit: 209.4272561757092\n",
      "regularisation: 0.13622406025919231\n"
     ]
    },
    {
     "name": "stdout",
     "output_type": "stream",
     "text": [
      "--------------------------------------------------------------------------------\n",
      "Iteration 11\n",
      "model min and max: 5.15767750612393 5.3386873547565985\n"
     ]
    },
    {
     "name": "stdout",
     "output_type": "stream",
     "text": [
      "data misfit: 207.3182453718031\n",
      "regularisation: 0.15392888174438782\n"
     ]
    },
    {
     "name": "stdout",
     "output_type": "stream",
     "text": [
      "--------------------------------------------------------------------------------\n",
      "Iteration 12\n",
      "model min and max: 5.14532342115334 5.341863067682611\n",
      "data misfit: 205.23142386946935\n",
      "regularisation: 0.17195977704257362\n"
     ]
    },
    {
     "name": "stdout",
     "output_type": "stream",
     "text": [
      "--------------------------------------------------------------------------------\n",
      "Iteration 13\n",
      "model min and max: 5.133112822085357 5.344904921850807\n",
      "data misfit: 203.1664249261597\n",
      "regularisation: 0.1902955621592294\n"
     ]
    },
    {
     "name": "stdout",
     "output_type": "stream",
     "text": [
      "--------------------------------------------------------------------------------\n",
      "Iteration 14\n",
      "model min and max: 5.121038565645579 5.347822179942048\n",
      "data misfit: 201.12291605687238\n",
      "regularisation: 0.20891505260332507\n"
     ]
    },
    {
     "name": "stdout",
     "output_type": "stream",
     "text": [
      "--------------------------------------------------------------------------------\n",
      "Iteration 15\n",
      "model min and max: 5.10909461257341 5.350623899375607\n",
      "data misfit: 199.1005873204019\n",
      "regularisation: 0.22779693654241626\n"
     ]
    },
    {
     "name": "stdout",
     "output_type": "stream",
     "text": [
      "--------------------------------------------------------------------------------\n",
      "Iteration 16\n",
      "model min and max: 5.09727577622382 5.353318771426495\n"
     ]
    },
    {
     "name": "stdout",
     "output_type": "stream",
     "text": [
      "data misfit: 197.09914546356381\n",
      "regularisation: 0.24691982779313965\n"
     ]
    },
    {
     "name": "stdout",
     "output_type": "stream",
     "text": [
      "--------------------------------------------------------------------------------\n",
      "Iteration 17\n",
      "model min and max: 5.085577543217945 5.3559150374985585\n"
     ]
    },
    {
     "name": "stdout",
     "output_type": "stream",
     "text": [
      "data misfit: 195.1183106780502\n",
      "regularisation: 0.26626240143027574\n"
     ]
    },
    {
     "name": "stdout",
     "output_type": "stream",
     "text": [
      "--------------------------------------------------------------------------------\n",
      "Iteration 18\n",
      "model min and max: 5.073995942551887 5.358420418114688\n",
      "data misfit: 193.15781346330175\n",
      "regularisation: 0.28580356014462216\n"
     ]
    },
    {
     "name": "stdout",
     "output_type": "stream",
     "text": [
      "--------------------------------------------------------------------------------\n",
      "Iteration 19\n",
      "model min and max: 5.062527443232701 5.3608420989175425\n",
      "data misfit: 191.21739387575644\n",
      "regularisation: 0.3055225971853175\n"
     ]
    },
    {
     "name": "stdout",
     "output_type": "stream",
     "text": [
      "--------------------------------------------------------------------------------\n",
      "Iteration 20\n",
      "model min and max: 5.051168876563503 5.3631867102996935\n",
      "data misfit: 189.29679965235673\n",
      "regularisation: 0.32539933587882697\n"
     ]
    },
    {
     "name": "stdout",
     "output_type": "stream",
     "text": [
      "--------------------------------------------------------------------------------\n",
      "Iteration 21\n",
      "model min and max: 5.039917379336038 5.365460364163625\n",
      "data misfit: 187.3957862579242\n",
      "regularisation: 0.3454142459681064\n"
     ]
    },
    {
     "name": "stdout",
     "output_type": "stream",
     "text": [
      "--------------------------------------------------------------------------------\n",
      "Iteration 22\n",
      "model min and max: 5.028770340584732 5.367668656122665\n",
      "data misfit: 185.514115785678\n",
      "regularisation: 0.3655485357407109\n"
     ]
    },
    {
     "name": "stdout",
     "output_type": "stream",
     "text": [
      "--------------------------------------------------------------------------------\n",
      "Iteration 23\n",
      "model min and max: 5.017725368281536 5.369816711222431\n",
      "data misfit: 183.65155678774858\n",
      "regularisation: 0.3857842100857199\n"
     ]
    },
    {
     "name": "stdout",
     "output_type": "stream",
     "text": [
      "--------------------------------------------------------------------------------\n",
      "Iteration 24\n",
      "model min and max: 5.006780251444858 5.371909207552506\n",
      "data misfit: 181.80788344019362\n",
      "regularisation: 0.40610413022550906\n"
     ]
    },
    {
     "name": "stdout",
     "output_type": "stream",
     "text": [
      "--------------------------------------------------------------------------------\n",
      "Iteration 25\n",
      "model min and max: 4.9959329412941145 5.373950416864613\n",
      "data misfit: 179.9828755687684\n",
      "regularisation: 0.42649202178322154\n"
     ]
    },
    {
     "name": "stdout",
     "output_type": "stream",
     "text": [
      "--------------------------------------------------------------------------------\n",
      "Iteration 26\n",
      "model min and max: 4.985181525464179 5.375944233952185\n",
      "data misfit: 178.17631801144034\n",
      "regularisation: 0.4469324995233555\n"
     ]
    },
    {
     "name": "stdout",
     "output_type": "stream",
     "text": [
      "--------------------------------------------------------------------------------\n",
      "Iteration 27\n",
      "model min and max: 4.97452421126887 5.377894212819134\n",
      "data misfit: 176.3880007794431\n",
      "regularisation: 0.4674110546510599\n"
     ]
    },
    {
     "name": "stdout",
     "output_type": "stream",
     "text": [
      "--------------------------------------------------------------------------------\n",
      "Iteration 28\n",
      "model min and max: 4.96395931253608 5.379803593413013\n"
     ]
    },
    {
     "name": "stdout",
     "output_type": "stream",
     "text": [
      "data misfit: 174.61771808953412\n",
      "regularisation: 0.4879140482214118\n"
     ]
    },
    {
     "name": "stdout",
     "output_type": "stream",
     "text": [
      "--------------------------------------------------------------------------------\n",
      "Iteration 29\n",
      "model min and max: 4.9534852360878325 5.3816753297455895\n",
      "data misfit: 172.8652685564188\n",
      "regularisation: 0.5084287005330385\n"
     ]
    },
    {
     "name": "stdout",
     "output_type": "stream",
     "text": [
      "--------------------------------------------------------------------------------\n",
      "Iteration 30\n",
      "model min and max: 4.943100471064339 5.383512120042753\n",
      "data misfit: 171.13045503046692\n",
      "regularisation: 0.5289430509055012\n"
     ]
    },
    {
     "name": "stdout",
     "output_type": "stream",
     "text": [
      "--------------------------------------------------------------------------------\n",
      "Iteration 31\n",
      "model min and max: 4.932803581903708 5.385316428691344\n"
     ]
    },
    {
     "name": "stdout",
     "output_type": "stream",
     "text": [
      "data misfit: 169.41308383642144\n",
      "regularisation: 0.5494459457260081\n"
     ]
    },
    {
     "name": "stdout",
     "output_type": "stream",
     "text": [
      "--------------------------------------------------------------------------------\n",
      "Iteration 32\n",
      "model min and max: 4.922593199750836 5.387090509279028\n"
     ]
    },
    {
     "name": "stdout",
     "output_type": "stream",
     "text": [
      "data misfit: 167.71296524705306\n",
      "regularisation: 0.5699269969760974\n"
     ]
    },
    {
     "name": "stdout",
     "output_type": "stream",
     "text": [
      "--------------------------------------------------------------------------------\n",
      "Iteration 33\n",
      "model min and max: 4.912468014404341 5.388836423105429\n"
     ]
    },
    {
     "name": "stdout",
     "output_type": "stream",
     "text": [
      "data misfit: 166.02991298112045\n",
      "regularisation: 0.5903765548599086\n"
     ]
    },
    {
     "name": "stdout",
     "output_type": "stream",
     "text": [
      "--------------------------------------------------------------------------------\n",
      "Iteration 34\n",
      "model min and max: 4.902426771556013 5.390556051429575\n"
     ]
    },
    {
     "name": "stdout",
     "output_type": "stream",
     "text": [
      "data misfit: 164.36374380365098\n",
      "regularisation: 0.6107856710417321\n"
     ]
    },
    {
     "name": "stdout",
     "output_type": "stream",
     "text": [
      "--------------------------------------------------------------------------------\n",
      "Iteration 35\n",
      "model min and max: 4.892468266762648 5.392251128493973\n",
      "data misfit: 162.71427750170972\n",
      "regularisation: 0.6311460715484781\n"
     ]
    },
    {
     "name": "stdout",
     "output_type": "stream",
     "text": [
      "--------------------------------------------------------------------------------\n",
      "Iteration 36\n",
      "model min and max: 4.882591341300702 5.393923238143929\n",
      "data misfit: 161.0813373059921\n",
      "regularisation: 0.6514501102000925\n"
     ]
    },
    {
     "name": "stdout",
     "output_type": "stream",
     "text": [
      "--------------------------------------------------------------------------------\n",
      "Iteration 37\n",
      "model min and max: 4.8727948778025345 5.395573836384786\n",
      "data misfit: 159.46474886077266\n",
      "regularisation: 0.6716907506292707\n"
     ]
    },
    {
     "name": "stdout",
     "output_type": "stream",
     "text": [
      "--------------------------------------------------------------------------------\n",
      "Iteration 38\n",
      "model min and max: 4.863077799232163 5.397204260303149\n",
      "data misfit: 157.86434051758454\n",
      "regularisation: 0.691861522898421\n"
     ]
    },
    {
     "name": "stdout",
     "output_type": "stream",
     "text": [
      "--------------------------------------------------------------------------------\n",
      "Iteration 39\n",
      "model min and max: 4.853439062981305 5.398815737635631\n",
      "data misfit: 156.27994362813175\n",
      "regularisation: 0.7119564895259152\n"
     ]
    },
    {
     "name": "stdout",
     "output_type": "stream",
     "text": [
      "--------------------------------------------------------------------------------\n",
      "Iteration 40\n",
      "model min and max: 4.843877660540077 5.400409404940203\n"
     ]
    },
    {
     "name": "stdout",
     "output_type": "stream",
     "text": [
      "data misfit: 154.7113914392031\n",
      "regularisation: 0.7319702319951853\n"
     ]
    },
    {
     "name": "stdout",
     "output_type": "stream",
     "text": [
      "--------------------------------------------------------------------------------\n",
      "Iteration 41\n",
      "model min and max: 4.8343926145955285 5.401986306121857\n",
      "data misfit: 153.1585200053411\n",
      "regularisation: 0.7518977962232386\n"
     ]
    },
    {
     "name": "stdout",
     "output_type": "stream",
     "text": [
      "--------------------------------------------------------------------------------\n",
      "Iteration 42\n",
      "model min and max: 4.824982976985467 5.403547402016551\n",
      "data misfit: 151.62116734960452\n",
      "regularisation: 0.7717346840166824\n"
     ]
    },
    {
     "name": "stdout",
     "output_type": "stream",
     "text": [
      "--------------------------------------------------------------------------------\n",
      "Iteration 43\n",
      "model min and max: 4.815647827351679 5.405093589752693\n",
      "data misfit: 150.09917404040849\n",
      "regularisation: 0.7914768181137846\n"
     ]
    },
    {
     "name": "stdout",
     "output_type": "stream",
     "text": [
      "--------------------------------------------------------------------------------\n",
      "Iteration 44\n",
      "model min and max: 4.806386269092812 5.406625684920524\n"
     ]
    },
    {
     "name": "stdout",
     "output_type": "stream",
     "text": [
      "data misfit: 148.59238263640933\n",
      "regularisation: 0.8111205127410249\n"
     ]
    },
    {
     "name": "stdout",
     "output_type": "stream",
     "text": [
      "--------------------------------------------------------------------------------\n",
      "Iteration 45\n",
      "model min and max: 4.797197431706844 5.408144449231107\n",
      "data misfit: 147.10063776580796\n",
      "regularisation: 0.8306624530384248\n"
     ]
    },
    {
     "name": "stdout",
     "output_type": "stream",
     "text": [
      "--------------------------------------------------------------------------------\n",
      "Iteration 46\n",
      "model min and max: 4.788080466379268 5.409650589184603\n"
     ]
    },
    {
     "name": "stdout",
     "output_type": "stream",
     "text": [
      "data misfit: 145.6237860243799\n",
      "regularisation: 0.8500996723662566\n"
     ]
    },
    {
     "name": "stdout",
     "output_type": "stream",
     "text": [
      "--------------------------------------------------------------------------------\n",
      "Iteration 47\n",
      "model min and max: 4.779034546606475 5.411144754326438\n",
      "data misfit: 144.1616760628408\n",
      "regularisation: 0.8694295263520225\n"
     ]
    },
    {
     "name": "stdout",
     "output_type": "stream",
     "text": [
      "--------------------------------------------------------------------------------\n",
      "Iteration 48\n",
      "model min and max: 4.770058865170829 5.412627552212823\n",
      "data misfit: 142.71415837624176\n",
      "regularisation: 0.8886496780313055\n"
     ]
    },
    {
     "name": "stdout",
     "output_type": "stream",
     "text": [
      "--------------------------------------------------------------------------------\n",
      "Iteration 49\n",
      "model min and max: 4.761152634921974 5.4140995474068125\n"
     ]
    },
    {
     "name": "stdout",
     "output_type": "stream",
     "text": [
      "data misfit: 141.28108507204146\n",
      "regularisation: 0.907758069949312\n"
     ]
    },
    {
     "name": "stdout",
     "output_type": "stream",
     "text": [
      "--------------------------------------------------------------------------------\n",
      "Iteration 50\n",
      "model min and max: 4.752315086329404 5.415561259853609\n"
     ]
    },
    {
     "name": "stdout",
     "output_type": "stream",
     "text": [
      "data misfit: 139.86231043937474\n",
      "regularisation: 0.9267529054782015\n"
     ]
    },
    {
     "name": "stdout",
     "output_type": "stream",
     "text": [
      "--------------------------------------------------------------------------------\n",
      "Iteration 51\n",
      "model min and max: 4.743545468725377 5.4170131748279395\n",
      "data misfit: 138.4576902451595\n",
      "regularisation: 0.9456326378931501\n"
     ]
    },
    {
     "name": "stdout",
     "output_type": "stream",
     "text": [
      "--------------------------------------------------------------------------------\n",
      "Iteration 52\n",
      "model min and max: 4.734843045651968 5.418455745995332\n",
      "data misfit: 137.0670820466871\n",
      "regularisation: 0.9643959505528457\n"
     ]
    },
    {
     "name": "stdout",
     "output_type": "stream",
     "text": [
      "--------------------------------------------------------------------------------\n",
      "Iteration 53\n",
      "model min and max: 4.726207099023026 5.419889398402009\n",
      "data misfit: 135.69034512639965\n",
      "regularisation: 0.9830417403567233\n"
     ]
    },
    {
     "name": "stdout",
     "output_type": "stream",
     "text": [
      "--------------------------------------------------------------------------------\n",
      "Iteration 54\n",
      "model min and max: 4.717636923780943 5.421314518649253\n",
      "data misfit: 134.32734005793296\n",
      "regularisation: 1.001569096618164\n"
     ]
    },
    {
     "name": "stdout",
     "output_type": "stream",
     "text": [
      "--------------------------------------------------------------------------------\n",
      "Iteration 55\n",
      "model min and max: 4.709131830086344 5.422731475877634\n",
      "data misfit: 132.9779295692208\n",
      "regularisation: 1.019977289383472\n"
     ]
    },
    {
     "name": "stdout",
     "output_type": "stream",
     "text": [
      "--------------------------------------------------------------------------------\n",
      "Iteration 56\n",
      "model min and max: 4.700691142432943 5.424140613268588\n"
     ]
    },
    {
     "name": "stdout",
     "output_type": "stream",
     "text": [
      "data misfit: 131.64197733763396\n",
      "regularisation: 1.038265773839115\n"
     ]
    },
    {
     "name": "stdout",
     "output_type": "stream",
     "text": [
      "--------------------------------------------------------------------------------\n",
      "Iteration 57\n",
      "model min and max: 4.692314197253026 5.4255422505927235\n"
     ]
    },
    {
     "name": "stdout",
     "output_type": "stream",
     "text": [
      "data misfit: 130.3193490218099\n",
      "regularisation: 1.0564341506471866\n"
     ]
    },
    {
     "name": "stdout",
     "output_type": "stream",
     "text": [
      "--------------------------------------------------------------------------------\n",
      "Iteration 58\n",
      "model min and max: 4.684000345176972 5.4269366873360925\n"
     ]
    },
    {
     "name": "stdout",
     "output_type": "stream",
     "text": [
      "data misfit: 129.0099116150112\n",
      "regularisation: 1.0744821685376564\n"
     ]
    },
    {
     "name": "stdout",
     "output_type": "stream",
     "text": [
      "--------------------------------------------------------------------------------\n",
      "Iteration 59\n",
      "model min and max: 4.675748947098476 5.428324198051192\n",
      "data misfit: 127.71353343911387\n",
      "regularisation: 1.0924097120764877\n"
     ]
    },
    {
     "name": "stdout",
     "output_type": "stream",
     "text": [
      "--------------------------------------------------------------------------------\n",
      "Iteration 60\n",
      "model min and max: 4.66755937707599 5.4297050507178914\n",
      "data misfit: 126.43008461789586\n",
      "regularisation: 1.1102167898711828\n"
     ]
    },
    {
     "name": "stdout",
     "output_type": "stream",
     "text": [
      "--------------------------------------------------------------------------------\n",
      "Iteration 61\n",
      "model min and max: 4.659431019631933 5.4310794851971504\n",
      "data misfit: 125.15943610782304\n",
      "regularisation: 1.1279035252462501\n"
     ]
    },
    {
     "name": "stdout",
     "output_type": "stream",
     "text": [
      "--------------------------------------------------------------------------------\n",
      "Iteration 62\n",
      "model min and max: 4.65136327048717 5.432447733344818\n"
     ]
    },
    {
     "name": "stdout",
     "output_type": "stream",
     "text": [
      "data misfit: 123.9014608855537\n",
      "regularisation: 1.1454701438204273\n"
     ]
    },
    {
     "name": "stdout",
     "output_type": "stream",
     "text": [
      "--------------------------------------------------------------------------------\n",
      "Iteration 63\n",
      "model min and max: 4.643355536126753 5.433810014742137\n",
      "data misfit: 122.6560328783673\n",
      "regularisation: 1.1629169744628995\n"
     ]
    },
    {
     "name": "stdout",
     "output_type": "stream",
     "text": [
      "--------------------------------------------------------------------------------\n",
      "Iteration 64\n",
      "model min and max: 4.6354072317307615 5.4351665253044015\n",
      "data misfit: 121.42302740113477\n",
      "regularisation: 1.1802444273245456\n"
     ]
    },
    {
     "name": "stdout",
     "output_type": "stream",
     "text": [
      "--------------------------------------------------------------------------------\n",
      "Iteration 65\n",
      "model min and max: 4.627517783787212 5.436517458870336\n"
     ]
    },
    {
     "name": "stdout",
     "output_type": "stream",
     "text": [
      "data misfit: 120.20232132669616\n",
      "regularisation: 1.1974529992949048\n"
     ]
    },
    {
     "name": "stdout",
     "output_type": "stream",
     "text": [
      "--------------------------------------------------------------------------------\n",
      "Iteration 66\n",
      "model min and max: 4.619686626871801 5.437862988274907\n",
      "data misfit: 118.99379251676498\n",
      "regularisation: 1.2145432558803773\n"
     ]
    },
    {
     "name": "stdout",
     "output_type": "stream",
     "text": [
      "--------------------------------------------------------------------------------\n",
      "Iteration 67\n",
      "model min and max: 4.611913205864258 5.439203285897791\n",
      "data misfit: 117.79732043902516\n",
      "regularisation: 1.231515834869944\n"
     ]
    },
    {
     "name": "stdout",
     "output_type": "stream",
     "text": [
      "--------------------------------------------------------------------------------\n",
      "Iteration 68\n",
      "model min and max: 4.604196972835481 5.440538507745705\n"
     ]
    },
    {
     "name": "stdout",
     "output_type": "stream",
     "text": [
      "data misfit: 116.61278550186493\n",
      "regularisation: 1.2483714297340665\n"
     ]
    },
    {
     "name": "stdout",
     "output_type": "stream",
     "text": [
      "--------------------------------------------------------------------------------\n",
      "Iteration 69\n",
      "model min and max: 4.596537389260179 5.441868798773033\n",
      "data misfit: 115.4400695986893\n",
      "regularisation: 1.2651107953668812\n"
     ]
    },
    {
     "name": "stdout",
     "output_type": "stream",
     "text": [
      "--------------------------------------------------------------------------------\n",
      "Iteration 70\n",
      "model min and max: 4.588933924906075 5.443194305163792\n",
      "data misfit: 114.27905560311517\n",
      "regularisation: 1.2817347331344997\n"
     ]
    },
    {
     "name": "stdout",
     "output_type": "stream",
     "text": [
      "--------------------------------------------------------------------------------\n",
      "Iteration 71\n",
      "model min and max: 4.581386057254382 5.444515152952551\n"
     ]
    },
    {
     "name": "stdout",
     "output_type": "stream",
     "text": [
      "data misfit: 113.12962777685908\n",
      "regularisation: 1.2982440852765225\n"
     ]
    },
    {
     "name": "stdout",
     "output_type": "stream",
     "text": [
      "--------------------------------------------------------------------------------\n",
      "Iteration 72\n",
      "model min and max: 4.573893271415995 5.445831462117952\n"
     ]
    },
    {
     "name": "stdout",
     "output_type": "stream",
     "text": [
      "data misfit: 111.99167167496597\n",
      "regularisation: 1.3146397419449682\n"
     ]
    },
    {
     "name": "stdout",
     "output_type": "stream",
     "text": [
      "--------------------------------------------------------------------------------\n",
      "Iteration 73\n",
      "model min and max: 4.566455060606381 5.447143355534274\n",
      "data misfit: 110.86507371041692\n",
      "regularisation: 1.330922623761924\n"
     ]
    },
    {
     "name": "stdout",
     "output_type": "stream",
     "text": [
      "--------------------------------------------------------------------------------\n",
      "Iteration 74\n",
      "model min and max: 4.559070924813987 5.448450941267092\n",
      "data misfit: 109.74972168905651\n",
      "regularisation: 1.347093685531491\n"
     ]
    },
    {
     "name": "stdout",
     "output_type": "stream",
     "text": [
      "--------------------------------------------------------------------------------\n",
      "Iteration 75\n",
      "model min and max: 4.551740370186466 5.449754315225619\n",
      "data misfit: 108.64550462298934\n",
      "regularisation: 1.3631539059684252\n"
     ]
    },
    {
     "name": "stdout",
     "output_type": "stream",
     "text": [
      "--------------------------------------------------------------------------------\n",
      "Iteration 76\n",
      "model min and max: 4.544462910908468 5.451053583545712\n",
      "data misfit: 107.552312402364\n",
      "regularisation: 1.3791042909409945\n"
     ]
    },
    {
     "name": "stdout",
     "output_type": "stream",
     "text": [
      "--------------------------------------------------------------------------------\n",
      "Iteration 77\n",
      "model min and max: 4.537238068038501 5.45234883371994\n",
      "data misfit: 106.47003619955336\n",
      "regularisation: 1.394945865308424\n"
     ]
    },
    {
     "name": "stdout",
     "output_type": "stream",
     "text": [
      "--------------------------------------------------------------------------------\n",
      "Iteration 78\n",
      "model min and max: 4.530065368466265 5.453640151819141\n"
     ]
    },
    {
     "name": "stdout",
     "output_type": "stream",
     "text": [
      "data misfit: 105.39856824158795\n",
      "regularisation: 1.410679675908295\n"
     ]
    },
    {
     "name": "stdout",
     "output_type": "stream",
     "text": [
      "--------------------------------------------------------------------------------\n",
      "Iteration 79\n",
      "model min and max: 4.522944345423896 5.454927619243493\n"
     ]
    },
    {
     "name": "stdout",
     "output_type": "stream",
     "text": [
      "data misfit: 104.33780180995228\n",
      "regularisation: 1.4263067781250764\n"
     ]
    },
    {
     "name": "stdout",
     "output_type": "stream",
     "text": [
      "--------------------------------------------------------------------------------\n",
      "Iteration 80\n",
      "model min and max: 4.515874537837962 5.456211310978717\n"
     ]
    },
    {
     "name": "stdout",
     "output_type": "stream",
     "text": [
      "data misfit: 103.28763128559409\n",
      "regularisation: 1.4418282401242357\n"
     ]
    },
    {
     "name": "stdout",
     "output_type": "stream",
     "text": [
      "--------------------------------------------------------------------------------\n",
      "Iteration 81\n",
      "model min and max: 4.508855493270026 5.457491300843154\n",
      "data misfit: 102.24795227460832\n",
      "regularisation: 1.4572451454799322\n"
     ]
    },
    {
     "name": "stdout",
     "output_type": "stream",
     "text": [
      "--------------------------------------------------------------------------------\n",
      "Iteration 82\n",
      "model min and max: 4.501886761879233 5.458767657969999\n",
      "data misfit: 101.21866112882363\n",
      "regularisation: 1.4725585816524147\n"
     ]
    },
    {
     "name": "stdout",
     "output_type": "stream",
     "text": [
      "--------------------------------------------------------------------------------\n",
      "Iteration 83\n",
      "model min and max: 4.494967901318088 5.460040446672147\n"
     ]
    },
    {
     "name": "stdout",
     "output_type": "stream",
     "text": [
      "data misfit: 100.19965538774181\n",
      "regularisation: 1.4877696413196189\n"
     ]
    },
    {
     "name": "stdout",
     "output_type": "stream",
     "text": [
      "--------------------------------------------------------------------------------\n",
      "Iteration 84\n",
      "model min and max: 4.488098473702789 5.461309723120059\n",
      "data misfit: 99.19083378846311\n",
      "regularisation: 1.5028794188214711\n"
     ]
    },
    {
     "name": "stdout",
     "output_type": "stream",
     "text": [
      "--------------------------------------------------------------------------------\n",
      "Iteration 85\n",
      "model min and max: 4.481278048430499 5.462575547451479\n",
      "data misfit: 98.19209570727084\n",
      "regularisation: 1.5178890100823696\n"
     ]
    },
    {
     "name": "stdout",
     "output_type": "stream",
     "text": [
      "--------------------------------------------------------------------------------\n",
      "Iteration 86\n",
      "model min and max: 4.47450619898605 5.463837975817314\n",
      "data misfit: 97.20334176265881\n",
      "regularisation: 1.5327995203311395\n"
     ]
    },
    {
     "name": "stdout",
     "output_type": "stream",
     "text": [
      "--------------------------------------------------------------------------------\n",
      "Iteration 87\n",
      "model min and max: 4.467782504131303 5.465097054742566\n"
     ]
    },
    {
     "name": "stdout",
     "output_type": "stream",
     "text": [
      "data misfit: 96.22447356239108\n",
      "regularisation: 1.5476120399127393\n"
     ]
    },
    {
     "name": "stdout",
     "output_type": "stream",
     "text": [
      "--------------------------------------------------------------------------------\n",
      "Iteration 88\n",
      "model min and max: 4.461106547429248 5.4663528321699415\n",
      "data misfit: 95.25539353083107\n",
      "regularisation: 1.562327660713067\n"
     ]
    },
    {
     "name": "stdout",
     "output_type": "stream",
     "text": [
      "--------------------------------------------------------------------------------\n",
      "Iteration 89\n",
      "model min and max: 4.4544779178524125 5.467605355818469\n",
      "data misfit: 94.29600528769339\n",
      "regularisation: 1.576947477074217\n"
     ]
    },
    {
     "name": "stdout",
     "output_type": "stream",
     "text": [
      "--------------------------------------------------------------------------------\n",
      "Iteration 90\n",
      "model min and max: 4.447896209598003 5.468854667022207\n",
      "data misfit: 93.34621325777489\n",
      "regularisation: 1.5914725697576797\n"
     ]
    },
    {
     "name": "stdout",
     "output_type": "stream",
     "text": [
      "--------------------------------------------------------------------------------\n",
      "Iteration 91\n",
      "model min and max: 4.441361021254668 5.470100804739342\n",
      "data misfit: 92.40592294458668\n",
      "regularisation: 1.6059040139449874\n"
     ]
    },
    {
     "name": "stdout",
     "output_type": "stream",
     "text": [
      "--------------------------------------------------------------------------------\n",
      "Iteration 92\n",
      "model min and max: 4.434871956845149 5.471343807991884\n",
      "data misfit: 91.47504046287139\n",
      "regularisation: 1.620242883493329\n"
     ]
    },
    {
     "name": "stdout",
     "output_type": "stream",
     "text": [
      "--------------------------------------------------------------------------------\n",
      "Iteration 93\n",
      "model min and max: 4.428428622778542 5.47258370897984\n"
     ]
    },
    {
     "name": "stdout",
     "output_type": "stream",
     "text": [
      "data misfit: 90.55347314896551\n",
      "regularisation: 1.6344902333741027\n"
     ]
    },
    {
     "name": "stdout",
     "output_type": "stream",
     "text": [
      "--------------------------------------------------------------------------------\n",
      "Iteration 94\n",
      "model min and max: 4.422030632871253 5.473820544585454\n",
      "data misfit: 89.64112924285119\n",
      "regularisation: 1.6486471176184465\n"
     ]
    },
    {
     "name": "stdout",
     "output_type": "stream",
     "text": [
      "--------------------------------------------------------------------------------\n",
      "Iteration 95\n",
      "model min and max: 4.415677603772573 5.47505434565618\n",
      "data misfit: 88.73791789694776\n",
      "regularisation: 1.6627145835974841\n"
     ]
    },
    {
     "name": "stdout",
     "output_type": "stream",
     "text": [
      "--------------------------------------------------------------------------------\n",
      "Iteration 96\n",
      "model min and max: 4.409369156141724 5.476285137004788\n"
     ]
    },
    {
     "name": "stdout",
     "output_type": "stream",
     "text": [
      "data misfit: 87.8437488099508\n",
      "regularisation: 1.6766936566080999\n"
     ]
    },
    {
     "name": "stdout",
     "output_type": "stream",
     "text": [
      "--------------------------------------------------------------------------------\n",
      "Iteration 97\n",
      "model min and max: 4.403104916155781 5.477512950286583\n",
      "data misfit: 86.95853313942787\n",
      "regularisation: 1.6905853585724169\n"
     ]
    },
    {
     "name": "stdout",
     "output_type": "stream",
     "text": [
      "--------------------------------------------------------------------------------\n",
      "Iteration 98\n",
      "model min and max: 4.3968845135491605 5.478737814003295\n"
     ]
    },
    {
     "name": "stdout",
     "output_type": "stream",
     "text": [
      "data misfit: 86.08218249025609\n",
      "regularisation: 1.704390702282606\n"
     ]
    },
    {
     "name": "stdout",
     "output_type": "stream",
     "text": [
      "--------------------------------------------------------------------------------\n",
      "Iteration 99\n",
      "model min and max: 4.390707580980788 5.479959743124051\n",
      "data misfit: 85.21460937810053\n",
      "regularisation: 1.7181106804312105\n"
     ]
    },
    {
     "name": "stdout",
     "output_type": "stream",
     "text": [
      "--------------------------------------------------------------------------------\n",
      "Iteration 100\n",
      "model min and max: 4.384573757293067 5.481178772929908\n",
      "data misfit: 84.35572743571626\n",
      "regularisation: 1.7317462762883788\n"
     ]
    },
    {
     "name": "stdout",
     "output_type": "stream",
     "text": [
      "--------------------------------------------------------------------------------\n",
      "Iteration 101\n",
      "model min and max: 4.37848268385019 5.482394915549808\n",
      "data misfit: 83.50545076867697\n",
      "regularisation: 1.7452984675916638\n"
     ]
    },
    {
     "name": "stdout",
     "output_type": "stream",
     "text": [
      "--------------------------------------------------------------------------------\n",
      "Iteration 102\n",
      "model min and max: 4.372434005712248 5.483608192047057\n",
      "data misfit: 82.66369488589048\n",
      "regularisation: 1.7587682050430515\n"
     ]
    },
    {
     "name": "stdout",
     "output_type": "stream",
     "text": [
      "--------------------------------------------------------------------------------\n",
      "Iteration 103\n",
      "model min and max: 4.366427372981385 5.484818622806528\n",
      "data misfit: 81.83037531711092\n",
      "regularisation: 1.7721564411301496\n"
     ]
    },
    {
     "name": "stdout",
     "output_type": "stream",
     "text": [
      "--------------------------------------------------------------------------------\n",
      "Iteration 104\n",
      "model min and max: 4.360462438842501 5.486026226687485\n",
      "data misfit: 81.00540905874284\n",
      "regularisation: 1.7854641025344429\n"
     ]
    },
    {
     "name": "stdout",
     "output_type": "stream",
     "text": [
      "--------------------------------------------------------------------------------\n",
      "Iteration 105\n",
      "model min and max: 4.354538859621143 5.487231017746706\n",
      "data misfit: 80.18871373270579\n",
      "regularisation: 1.7986921078785603\n"
     ]
    },
    {
     "name": "stdout",
     "output_type": "stream",
     "text": [
      "--------------------------------------------------------------------------------\n",
      "Iteration 106\n",
      "model min and max: 4.348656295548815 5.488433010953574\n",
      "data misfit: 79.3802078191352\n",
      "regularisation: 1.8118413588959423\n"
     ]
    },
    {
     "name": "stdout",
     "output_type": "stream",
     "text": [
      "--------------------------------------------------------------------------------\n",
      "Iteration 107\n",
      "model min and max: 4.342814410669894 5.489632220252362\n"
     ]
    },
    {
     "name": "stdout",
     "output_type": "stream",
     "text": [
      "data misfit: 78.5798104960511\n",
      "regularisation: 1.8249127494924247\n"
     ]
    },
    {
     "name": "stdout",
     "output_type": "stream",
     "text": [
      "--------------------------------------------------------------------------------\n",
      "Iteration 108\n",
      "model min and max: 4.337012873230149 5.49082866182503\n",
      "data misfit: 77.78744159022021\n",
      "regularisation: 1.8379071543383352\n"
     ]
    },
    {
     "name": "stdout",
     "output_type": "stream",
     "text": [
      "--------------------------------------------------------------------------------\n",
      "Iteration 109\n",
      "model min and max: 4.331251353226986 5.49202234222385\n",
      "data misfit: 77.0030221191503\n",
      "regularisation: 1.8508254342962562\n"
     ]
    },
    {
     "name": "stdout",
     "output_type": "stream",
     "text": [
      "--------------------------------------------------------------------------------\n",
      "Iteration 110\n",
      "model min and max: 4.325529525684867 5.493213276524976\n"
     ]
    },
    {
     "name": "stdout",
     "output_type": "stream",
     "text": [
      "data misfit: 76.2264735868664\n",
      "regularisation: 1.8636684387271603\n"
     ]
    },
    {
     "name": "stdout",
     "output_type": "stream",
     "text": [
      "--------------------------------------------------------------------------------\n",
      "Iteration 111\n",
      "model min and max: 4.319847067333464 5.494401469773859\n"
     ]
    },
    {
     "name": "stdout",
     "output_type": "stream",
     "text": [
      "data misfit: 75.45771830630939\n",
      "regularisation: 1.8764369944259467\n"
     ]
    },
    {
     "name": "stdout",
     "output_type": "stream",
     "text": [
      "--------------------------------------------------------------------------------\n",
      "Iteration 112\n",
      "model min and max: 4.314203660311148 5.495586942369986\n"
     ]
    },
    {
     "name": "stdout",
     "output_type": "stream",
     "text": [
      "data misfit: 74.69667928818569\n",
      "regularisation: 1.8891319271500493\n"
     ]
    },
    {
     "name": "stdout",
     "output_type": "stream",
     "text": [
      "--------------------------------------------------------------------------------\n",
      "Iteration 113\n",
      "model min and max: 4.308598988197318 5.496769691862814\n"
     ]
    },
    {
     "name": "stdout",
     "output_type": "stream",
     "text": [
      "data misfit: 73.9432804205545\n",
      "regularisation: 1.9017540358295146\n"
     ]
    },
    {
     "name": "stdout",
     "output_type": "stream",
     "text": [
      "--------------------------------------------------------------------------------\n",
      "Iteration 114\n",
      "model min and max: 4.303032737924173 5.497949733301076\n",
      "data misfit: 73.19744644654939\n",
      "regularisation: 1.9143041161600465\n"
     ]
    },
    {
     "name": "stdout",
     "output_type": "stream",
     "text": [
      "--------------------------------------------------------------------------------\n",
      "Iteration 115\n",
      "model min and max: 4.297504599553805 5.499127067407529\n"
     ]
    },
    {
     "name": "stdout",
     "output_type": "stream",
     "text": [
      "data misfit: 72.45910234955997\n",
      "regularisation: 1.9267829424340024\n"
     ]
    },
    {
     "name": "stdout",
     "output_type": "stream",
     "text": [
      "--------------------------------------------------------------------------------\n",
      "Iteration 116\n",
      "model min and max: 4.292014268015556 5.500301706226273\n",
      "data misfit: 71.72817455598855\n",
      "regularisation: 1.9391912776869846\n"
     ]
    },
    {
     "name": "stdout",
     "output_type": "stream",
     "text": [
      "--------------------------------------------------------------------------------\n",
      "Iteration 117\n",
      "model min and max: 4.2865614387818365 5.501473654640174\n"
     ]
    },
    {
     "name": "stdout",
     "output_type": "stream",
     "text": [
      "data misfit: 71.00458935794444\n",
      "regularisation: 1.9515298763040128\n"
     ]
    },
    {
     "name": "stdout",
     "output_type": "stream",
     "text": [
      "--------------------------------------------------------------------------------\n",
      "Iteration 118\n",
      "model min and max: 4.2811458118912675 5.502642916649102\n",
      "data misfit: 70.28827462611076\n",
      "regularisation: 1.9637994606400027\n"
     ]
    },
    {
     "name": "stdout",
     "output_type": "stream",
     "text": [
      "--------------------------------------------------------------------------------\n",
      "Iteration 119\n",
      "model min and max: 4.275767090356068 5.5038094971270395\n",
      "data misfit: 69.57915840577007\n",
      "regularisation: 1.9760007659602297\n"
     ]
    },
    {
     "name": "stdout",
     "output_type": "stream",
     "text": [
      "--------------------------------------------------------------------------------\n",
      "Iteration 120\n",
      "model min and max: 4.270424978966438 5.504973399532894\n"
     ]
    },
    {
     "name": "stdout",
     "output_type": "stream",
     "text": [
      "data misfit: 68.87716960268716\n",
      "regularisation: 1.9881344921525441\n"
     ]
    },
    {
     "name": "stdout",
     "output_type": "stream",
     "text": [
      "--------------------------------------------------------------------------------\n",
      "Iteration 121\n",
      "model min and max: 4.265119186557899 5.5061346315299176\n"
     ]
    },
    {
     "name": "stdout",
     "output_type": "stream",
     "text": [
      "data misfit: 68.18223767683703\n",
      "regularisation: 2.0002013392621696\n"
     ]
    },
    {
     "name": "stdout",
     "output_type": "stream",
     "text": [
      "--------------------------------------------------------------------------------\n",
      "Iteration 122\n",
      "model min and max: 4.25984942391775 5.507293193605666\n"
     ]
    },
    {
     "name": "stdout",
     "output_type": "stream",
     "text": [
      "data misfit: 67.49429299120072\n",
      "regularisation: 2.012201988899612\n"
     ]
    },
    {
     "name": "stdout",
     "output_type": "stream",
     "text": [
      "--------------------------------------------------------------------------------\n",
      "Iteration 123\n",
      "model min and max: 4.254615404352753 5.508449087678306\n"
     ]
    },
    {
     "name": "stdout",
     "output_type": "stream",
     "text": [
      "data misfit: 66.81326653857496\n",
      "regularisation: 2.0241371062262887\n"
     ]
    },
    {
     "name": "stdout",
     "output_type": "stream",
     "text": [
      "--------------------------------------------------------------------------------\n",
      "Iteration 124\n",
      "model min and max: 4.249416845883812 5.509602317769961\n"
     ]
    },
    {
     "name": "stdout",
     "output_type": "stream",
     "text": [
      "data misfit: 66.13908980773923\n",
      "regularisation: 2.036007357376696\n"
     ]
    },
    {
     "name": "stdout",
     "output_type": "stream",
     "text": [
      "--------------------------------------------------------------------------------\n",
      "Iteration 125\n",
      "model min and max: 4.24425346700836 5.510752883796357\n",
      "data misfit: 65.47169512494415\n",
      "regularisation: 2.0478133761708777\n"
     ]
    },
    {
     "name": "stdout",
     "output_type": "stream",
     "text": [
      "--------------------------------------------------------------------------------\n",
      "Iteration 126\n",
      "model min and max: 4.239124990321992 5.511900792591791\n",
      "data misfit: 64.81101541904546\n",
      "regularisation: 2.0595558009125123\n"
     ]
    },
    {
     "name": "stdout",
     "output_type": "stream",
     "text": [
      "--------------------------------------------------------------------------------\n",
      "Iteration 127\n",
      "model min and max: 4.234031140028985 5.513046038501569\n"
     ]
    },
    {
     "name": "stdout",
     "output_type": "stream",
     "text": [
      "data misfit: 64.15698425894404\n",
      "regularisation: 2.0712352437197783\n"
     ]
    },
    {
     "name": "stdout",
     "output_type": "stream",
     "text": [
      "--------------------------------------------------------------------------------\n",
      "Iteration 128\n",
      "model min and max: 4.228971644786882 5.514188629034015\n"
     ]
    },
    {
     "name": "stdout",
     "output_type": "stream",
     "text": [
      "data misfit: 63.50953587446696\n",
      "regularisation: 2.0828523203449425\n"
     ]
    },
    {
     "name": "stdout",
     "output_type": "stream",
     "text": [
      "--------------------------------------------------------------------------------\n",
      "Iteration 129\n",
      "model min and max: 4.223946233380481 5.515328559919014\n"
     ]
    },
    {
     "name": "stdout",
     "output_type": "stream",
     "text": [
      "data misfit: 62.86860523167743\n",
      "regularisation: 2.094407619626665\n"
     ]
    },
    {
     "name": "stdout",
     "output_type": "stream",
     "text": [
      "--------------------------------------------------------------------------------\n",
      "Iteration 130\n",
      "model min and max: 4.2189546388568315 5.5164658327312885\n"
     ]
    },
    {
     "name": "stdout",
     "output_type": "stream",
     "text": [
      "data misfit: 62.234127755812324\n",
      "regularisation: 2.105901732755306\n"
     ]
    },
    {
     "name": "stdout",
     "output_type": "stream",
     "text": [
      "--------------------------------------------------------------------------------\n",
      "Iteration 131\n",
      "model min and max: 4.213996595744589 5.517600445803457\n",
      "data misfit: 61.60603968767131\n",
      "regularisation: 2.117335225002032\n"
     ]
    },
    {
     "name": "stdout",
     "output_type": "stream",
     "text": [
      "--------------------------------------------------------------------------------\n",
      "Iteration 132\n",
      "model min and max: 4.209071841074928 5.518732401351488\n"
     ]
    },
    {
     "name": "stdout",
     "output_type": "stream",
     "text": [
      "data misfit: 60.98427768830887\n",
      "regularisation: 2.128708658150897\n"
     ]
    },
    {
     "name": "stdout",
     "output_type": "stream",
     "text": [
      "--------------------------------------------------------------------------------\n",
      "Iteration 133\n",
      "model min and max: 4.204180115191007 5.519861698911811\n"
     ]
    },
    {
     "name": "stdout",
     "output_type": "stream",
     "text": [
      "data misfit: 60.36877905447835\n",
      "regularisation: 2.1400225904779018\n"
     ]
    },
    {
     "name": "stdout",
     "output_type": "stream",
     "text": [
      "--------------------------------------------------------------------------------\n",
      "Iteration 134\n",
      "model min and max: 4.199321161012221 5.520988338707709\n"
     ]
    },
    {
     "name": "stdout",
     "output_type": "stream",
     "text": [
      "data misfit: 59.75948186612955\n",
      "regularisation: 2.1512775557408585\n"
     ]
    },
    {
     "name": "stdout",
     "output_type": "stream",
     "text": [
      "--------------------------------------------------------------------------------\n",
      "Iteration 135\n",
      "model min and max: 4.194494723011568 5.52211232002908\n"
     ]
    },
    {
     "name": "stdout",
     "output_type": "stream",
     "text": [
      "data misfit: 59.15632473765331\n",
      "regularisation: 2.162474084285131\n"
     ]
    },
    {
     "name": "stdout",
     "output_type": "stream",
     "text": [
      "--------------------------------------------------------------------------------\n",
      "Iteration 136\n",
      "model min and max: 4.189700547813593 5.523233635581318\n"
     ]
    },
    {
     "name": "stdout",
     "output_type": "stream",
     "text": [
      "data misfit: 58.55924679785758\n",
      "regularisation: 2.17361269450887\n"
     ]
    },
    {
     "name": "stdout",
     "output_type": "stream",
     "text": [
      "--------------------------------------------------------------------------------\n",
      "Iteration 137\n",
      "model min and max: 4.184938385353648 5.524352289290216\n",
      "data misfit: 57.96818782833373\n",
      "regularisation: 2.1846938946225185\n"
     ]
    },
    {
     "name": "stdout",
     "output_type": "stream",
     "text": [
      "--------------------------------------------------------------------------------\n",
      "Iteration 138\n",
      "model min and max: 4.180207986349643 5.5254682789722755\n",
      "data misfit: 57.38308828504618\n",
      "regularisation: 2.1957181812694944\n"
     ]
    },
    {
     "name": "stdout",
     "output_type": "stream",
     "text": [
      "--------------------------------------------------------------------------------\n",
      "Iteration 139\n",
      "model min and max: 4.175509105046117 5.526581601577841\n"
     ]
    },
    {
     "name": "stdout",
     "output_type": "stream",
     "text": [
      "data misfit: 56.80388905611533\n",
      "regularisation: 2.206686048255163\n"
     ]
    },
    {
     "name": "stdout",
     "output_type": "stream",
     "text": [
      "--------------------------------------------------------------------------------\n",
      "Iteration 140\n",
      "model min and max: 4.170841498335347 5.52769225921945\n",
      "data misfit: 56.23053156803228\n",
      "regularisation: 2.2175979719211316\n"
     ]
    },
    {
     "name": "stdout",
     "output_type": "stream",
     "text": [
      "--------------------------------------------------------------------------------\n",
      "Iteration 141\n",
      "model min and max: 4.166204924200246 5.528800244757877\n"
     ]
    },
    {
     "name": "stdout",
     "output_type": "stream",
     "text": [
      "data misfit: 55.6629579112169\n",
      "regularisation: 2.2284544252694247\n"
     ]
    },
    {
     "name": "stdout",
     "output_type": "stream",
     "text": [
      "--------------------------------------------------------------------------------\n",
      "Iteration 142\n",
      "model min and max: 4.1615991434363835 5.529905557972745\n"
     ]
    },
    {
     "name": "stdout",
     "output_type": "stream",
     "text": [
      "data misfit: 55.101110884688204\n",
      "regularisation: 2.2392558660700708\n"
     ]
    },
    {
     "name": "stdout",
     "output_type": "stream",
     "text": [
      "--------------------------------------------------------------------------------\n",
      "Iteration 143\n",
      "model min and max: 4.157023918140072 5.531008193305929\n",
      "data misfit: 54.544933614354704\n",
      "regularisation: 2.250002745311269\n"
     ]
    },
    {
     "name": "stdout",
     "output_type": "stream",
     "text": [
      "--------------------------------------------------------------------------------\n",
      "Iteration 144\n",
      "model min and max: 4.152479013758978 5.532108156181796\n"
     ]
    },
    {
     "name": "stdout",
     "output_type": "stream",
     "text": [
      "data misfit: 53.99436982441884\n",
      "regularisation: 2.2606955064276786\n"
     ]
    },
    {
     "name": "stdout",
     "output_type": "stream",
     "text": [
      "--------------------------------------------------------------------------------\n",
      "Iteration 145\n",
      "model min and max: 4.147964197682626 5.533205438013997\n"
     ]
    },
    {
     "name": "stdout",
     "output_type": "stream",
     "text": [
      "data misfit: 53.44936386452144\n",
      "regularisation: 2.271334588970167\n"
     ]
    },
    {
     "name": "stdout",
     "output_type": "stream",
     "text": [
      "--------------------------------------------------------------------------------\n",
      "Iteration 146\n",
      "model min and max: 4.143479238675066 5.534300038404503\n",
      "data misfit: 52.90986067373963\n",
      "regularisation: 2.2819204136179465\n"
     ]
    },
    {
     "name": "stdout",
     "output_type": "stream",
     "text": [
      "--------------------------------------------------------------------------------\n",
      "Iteration 147\n",
      "model min and max: 4.139023907326331 5.5353919550061885\n"
     ]
    },
    {
     "name": "stdout",
     "output_type": "stream",
     "text": [
      "data misfit: 52.37580550427695\n",
      "regularisation: 2.2924533988415514\n"
     ]
    },
    {
     "name": "stdout",
     "output_type": "stream",
     "text": [
      "--------------------------------------------------------------------------------\n",
      "Iteration 148\n",
      "model min and max: 4.134597977747315 5.536481183696906\n"
     ]
    },
    {
     "name": "stdout",
     "output_type": "stream",
     "text": [
      "data misfit: 51.84714429588892\n",
      "regularisation: 2.3029339591668254\n"
     ]
    },
    {
     "name": "stdout",
     "output_type": "stream",
     "text": [
      "--------------------------------------------------------------------------------\n",
      "Iteration 149\n",
      "model min and max: 4.130201224735703 5.5375677231979745\n"
     ]
    },
    {
     "name": "stdout",
     "output_type": "stream",
     "text": [
      "data misfit: 51.323823633671815\n",
      "regularisation: 2.3133624918468945\n"
     ]
    },
    {
     "name": "stdout",
     "output_type": "stream",
     "text": [
      "--------------------------------------------------------------------------------\n",
      "Iteration 150\n",
      "model min and max: 4.12583342616409 5.538651572065275\n"
     ]
    },
    {
     "name": "stdout",
     "output_type": "stream",
     "text": [
      "data misfit: 50.805790300154634\n",
      "regularisation: 2.323739399595268\n"
     ]
    }
   ],
   "source": [
    "# hyperparameters\n",
    "lamda = 0.0001\n",
    "niter = 150\n",
    "inv_verbose = True\n",
    "step = 0.005\n",
    "\n",
    "# CoFI - define InversionOptions\n",
    "inv_options = InversionOptions()\n",
    "inv_options.set_tool(GaussNewton)\n",
    "inv_options.set_params(niter=niter, verbose=inv_verbose, step=step)\n",
    "\n",
    "# CoFI - define Inversion, run it\n",
    "inv = Inversion(ert_problem, inv_options)\n",
    "inv_result = inv.run()"
   ]
  },
  {
   "cell_type": "code",
   "execution_count": 19,
   "id": "a0146425",
   "metadata": {
    "execution": {
     "iopub.execute_input": "2022-07-29T02:54:37.478344Z",
     "iopub.status.busy": "2022-07-29T02:54:37.478053Z",
     "iopub.status.idle": "2022-07-29T02:54:37.760133Z",
     "shell.execute_reply": "2022-07-29T02:54:37.759534Z"
    },
    "papermill": {
     "duration": 0.314809,
     "end_time": "2022-07-29T02:54:37.762448",
     "exception": false,
     "start_time": "2022-07-29T02:54:37.447639",
     "status": "completed"
    },
    "tags": []
   },
   "outputs": [
    {
     "data": {
      "text/plain": [
       "Text(0.5, 1.0, 'Inferred model')"
      ]
     },
     "execution_count": 19,
     "metadata": {},
     "output_type": "execute_result"
    },
    {
     "data": {
      "image/png": "[encoded data removed]",
      "text/plain": [
       "<Figure size 432x288 with 2 Axes>"
      ]
     },
     "metadata": {
      "needs_background": "light"
     },
     "output_type": "display_data"
    }
   ],
   "source": [
    "# convert from log space\n",
    "model = np.exp(inv_result.model)\n",
    "\n",
    "# plot inferred model\n",
    "ax = pygimli.show(ert_manager.paraDomain, data=model, label=r\"$\\Omega m$\")\n",
    "ax[0].set_title(\"Inferred model\")"
   ]
  },
  {
   "cell_type": "code",
   "execution_count": 20,
   "id": "ea8dfa12",
   "metadata": {
    "execution": {
     "iopub.execute_input": "2022-07-29T02:54:37.858506Z",
     "iopub.status.busy": "2022-07-29T02:54:37.858242Z",
     "iopub.status.idle": "2022-07-29T02:54:38.703035Z",
     "shell.execute_reply": "2022-07-29T02:54:38.702379Z"
    },
    "papermill": {
     "duration": 0.882282,
     "end_time": "2022-07-29T02:54:38.704541",
     "exception": false,
     "start_time": "2022-07-29T02:54:37.822259",
     "status": "completed"
    },
    "tags": []
   },
   "outputs": [
    {
     "data": {
      "text/plain": [
       "Text(0.5, 1.0, 'Synthetic data from inferred model')"
      ]
     },
     "execution_count": 20,
     "metadata": {},
     "output_type": "execute_result"
    },
    {
     "data": {
      "image/png": "[encoded data removed]",
      "text/plain": [
       "<Figure size 432x288 with 2 Axes>"
      ]
     },
     "metadata": {
      "needs_background": "light"
     },
     "output_type": "display_data"
    }
   ],
   "source": [
    "# plot synthetic data\n",
    "d = forward_oprt.response(model)\n",
    "ax = ert.showERTData(scheme, vals=d, cMin=np.min(data[\"rhoa\"]), cMax=np.max(data[\"rhoa\"]))\n",
    "ax[0].set_title(\"Synthetic data from inferred model\")"
   ]
  },
  {
   "cell_type": "markdown",
   "id": "fe9d2139",
   "metadata": {
    "papermill": {
     "duration": 0.06438,
     "end_time": "2022-07-29T02:54:38.808508",
     "exception": false,
     "start_time": "2022-07-29T02:54:38.744128",
     "status": "completed"
    },
    "tags": []
   },
   "source": [
    "## 3. What's next?\n",
    "\n",
    "Now that we've seen the PyGIMLi ERT problem solved by two different inversion approaches through CoFI,\n",
    "it would be nice to see more inversion solvers (even a sampler!) and a similar problem\n",
    "defined with a rectangular mesh. If you'd like to see some self-contained examples, head to\n",
    "[this GitHub folder](https://github.com/inlab-geo/cofi-examples/tree/main/notebooks/pygimli_ert)\n",
    "to explore more."
   ]
  },
  {
   "cell_type": "markdown",
   "id": "bed86dd3",
   "metadata": {
    "papermill": {
     "duration": 0.015934,
     "end_time": "2022-07-29T02:54:38.851005",
     "exception": false,
     "start_time": "2022-07-29T02:54:38.835071",
     "status": "completed"
    },
    "tags": []
   },
   "source": [
    "<!-- ### 2.3 Bayesian sampling with emcee (exploration)\n",
    "\n",
    "CoFI needs more assumptions about the problem for a sampler to work - these are\n",
    "the log of posterior distribution density and walkers' starting positions.\n",
    "\n",
    "For the log posterior, we define here by specifying `log_prior` and `log_likelihood`.\n",
    "And CoFI will combine them to get the `log_posterior`. -->"
   ]
  },
  {
   "cell_type": "markdown",
   "id": "e80b172a",
   "metadata": {
    "papermill": {
     "duration": 0.015602,
     "end_time": "2022-07-29T02:54:38.881842",
     "exception": false,
     "start_time": "2022-07-29T02:54:38.866240",
     "status": "completed"
    },
    "tags": []
   },
   "source": [
    "---\n",
    "## Watermark"
   ]
  },
  {
   "cell_type": "code",
   "execution_count": 21,
   "id": "6bb00eeb",
   "metadata": {
    "execution": {
     "iopub.execute_input": "2022-07-29T02:54:38.913214Z",
     "iopub.status.busy": "2022-07-29T02:54:38.912988Z",
     "iopub.status.idle": "2022-07-29T02:54:38.916120Z",
     "shell.execute_reply": "2022-07-29T02:54:38.915755Z"
    },
    "papermill": {
     "duration": 0.019977,
     "end_time": "2022-07-29T02:54:38.916949",
     "exception": false,
     "start_time": "2022-07-29T02:54:38.896972",
     "status": "completed"
    },
    "tags": []
   },
   "outputs": [
    {
     "name": "stdout",
     "output_type": "stream",
     "text": [
      "cofi 0.1.2.dev8\n",
      "numpy 1.21.6\n",
      "scipy 1.8.1\n",
      "pygimli 1.2.6\n",
      "matplotlib 3.5.2\n",
      "emcee 3.1.2\n",
      "arviz 0.12.1\n"
     ]
    }
   ],
   "source": [
    "watermark_list = [\"cofi\", \"numpy\", \"scipy\", \"pygimli\", \"matplotlib\", \"emcee\", \"arviz\"]\n",
    "for pkg in watermark_list:\n",
    "    pkg_var = __import__(pkg)\n",
    "    print(pkg, getattr(pkg_var, \"__version__\"))"
   ]
  }
 ],
 "metadata": {
  "kernelspec": {
   "display_name": "Python 3.10.5 ('cofi_env')",
   "language": "python",
   "name": "python3"
  },
  "language_info": {
   "codemirror_mode": {
    "name": "ipython",
    "version": 3
   },
   "file_extension": ".py",
   "mimetype": "text/x-python",
   "name": "python",
   "nbconvert_exporter": "python",
   "pygments_lexer": "ipython3",
   "version": "3.10.5"
  },
  "papermill": {
   "default_parameters": {},
   "duration": 1124.52565,
   "end_time": "2022-07-29T02:54:39.666753",
   "environment_variables": {},
   "exception": null,
   "input_path": "notebooks/pygimli_ert/pygimli_ert.ipynb",
   "output_path": "notebooks/pygimli_ert/pygimli_ert.ipynb",
   "parameters": {},
   "start_time": "2022-07-29T02:35:55.141103",
   "version": "2.3.4"
  },
  "vscode": {
   "interpreter": {
    "hash": "f53af8d4cb0cee79f8d6d6212f461365278bf68c0ce0b4237b6e88ef77d505ea"
   }
  }
 },
 "nbformat": 4,
 "nbformat_minor": 5
}
