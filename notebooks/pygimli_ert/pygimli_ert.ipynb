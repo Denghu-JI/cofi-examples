{
 "cells": [
  {
   "cell_type": "markdown",
   "id": "486df120",
   "metadata": {
    "papermill": {
     "duration": 0.005451,
     "end_time": "2022-08-03T01:28:10.146149",
     "exception": false,
     "start_time": "2022-08-03T01:28:10.140698",
     "status": "completed"
    },
    "tags": []
   },
   "source": [
    "# PyGIMLi - Electrical Resistivity Tomography"
   ]
  },
  {
   "cell_type": "markdown",
   "id": "f0144118",
   "metadata": {
    "papermill": {
     "duration": 0.004172,
     "end_time": "2022-08-03T01:28:10.154707",
     "exception": false,
     "start_time": "2022-08-03T01:28:10.150535",
     "status": "completed"
    },
    "tags": []
   },
   "source": [
    "Using the ERT solver implemented provided by [PyGIMLi](https://www.pygimli.org/), \n",
    "we use different `cofi` solvers to solve the corresponding inverse problem."
   ]
  },
  {
   "cell_type": "markdown",
   "id": "0b36177e",
   "metadata": {
    "papermill": {
     "duration": 0.00421,
     "end_time": "2022-08-03T01:28:10.163057",
     "exception": false,
     "start_time": "2022-08-03T01:28:10.158847",
     "status": "completed"
    },
    "tags": []
   },
   "source": [
    "<!--<badge>--><a href=\"https://colab.research.google.com/github/inlab-geo/cofi-examples/blob/main/notebooks/pygimli_ert/pygimli_ert.ipynb\" target=\"_parent\"><img src=\"https://colab.research.google.com/assets/colab-badge.svg\" alt=\"Open In Colab\"/></a><!--</badge>-->"
   ]
  },
  {
   "cell_type": "markdown",
   "id": "01c4ba3c",
   "metadata": {
    "papermill": {
     "duration": 0.003905,
     "end_time": "2022-08-03T01:28:10.170843",
     "exception": false,
     "start_time": "2022-08-03T01:28:10.166938",
     "status": "completed"
    },
    "tags": []
   },
   "source": [
    "<!-- Again, please don't touch the markdown cell above. We'll generate badge \n",
    "     automatically from the above cell. -->\n",
    "\n",
    "<!-- This cell describes things related to environment setup, so please add more text \n",
    "     if something special (not listed below) is needed to run this notebook -->\n",
    "\n",
    "> If you are running this notebook locally, make sure you've followed [steps here](https://github.com/inlab-geo/cofi-examples#run-the-examples-with-cofi-locally)\n",
    "to set up the environment. (This [environment.yml](https://github.com/inlab-geo/cofi-examples/blob/main/environment.yml) file\n",
    "specifies a list of packages required to run the notebooks)"
   ]
  },
  {
   "cell_type": "markdown",
   "id": "90f5f3d5",
   "metadata": {
    "papermill": {
     "duration": 0.00389,
     "end_time": "2022-08-03T01:28:10.178622",
     "exception": false,
     "start_time": "2022-08-03T01:28:10.174732",
     "status": "completed"
    },
    "tags": []
   },
   "source": [
    "## 0. Import modules"
   ]
  },
  {
   "cell_type": "code",
   "execution_count": 1,
   "id": "789f1fac",
   "metadata": {
    "execution": {
     "iopub.execute_input": "2022-08-03T01:28:10.187386Z",
     "iopub.status.busy": "2022-08-03T01:28:10.187157Z",
     "iopub.status.idle": "2022-08-03T01:28:10.190092Z",
     "shell.execute_reply": "2022-08-03T01:28:10.189752Z"
    },
    "papermill": {
     "duration": 0.008495,
     "end_time": "2022-08-03T01:28:10.190974",
     "exception": false,
     "start_time": "2022-08-03T01:28:10.182479",
     "status": "completed"
    },
    "tags": []
   },
   "outputs": [],
   "source": [
    "# -------------------------------------------------------- #\n",
    "#                                                          #\n",
    "#     Uncomment below to set up environment on \"colab\"     #\n",
    "#                                                          #\n",
    "# -------------------------------------------------------- #\n",
    "\n",
    "# !pip install -U cofi\n",
    "\n",
    "# !pip install -q condacolab\n",
    "# import condacolab\n",
    "# condacolab.install()\n",
    "# !mamba install -c gimli pygimli=1.3\n",
    "\n",
    "# !git clone https://github.com/inlab-geo/cofi-examples.git\n",
    "# %cd cofi-examples/notebooks/pygimli_ert"
   ]
  },
  {
   "cell_type": "markdown",
   "id": "8e70ee4c",
   "metadata": {
    "papermill": {
     "duration": 0.013446,
     "end_time": "2022-08-03T01:28:10.208564",
     "exception": false,
     "start_time": "2022-08-03T01:28:10.195118",
     "status": "completed"
    },
    "tags": []
   },
   "source": [
    "We will need the following packages:\n",
    "\n",
    "- `numpy` for matrices and matrix-related functions\n",
    "- `matplotlib` for plotting\n",
    "- `pygimli` for forward modelling of the problem\n",
    "- `cofi` for accessing different inference solvers\n",
    "\n",
    "Additionally, we wrap some `pygimli` code in file `pygimli_ert_lib.py` and import it\n",
    "here for conciseness."
   ]
  },
  {
   "cell_type": "code",
   "execution_count": 2,
   "id": "ec18e85b",
   "metadata": {
    "execution": {
     "iopub.execute_input": "2022-08-03T01:28:10.217613Z",
     "iopub.status.busy": "2022-08-03T01:28:10.217406Z",
     "iopub.status.idle": "2022-08-03T01:28:11.311977Z",
     "shell.execute_reply": "2022-08-03T01:28:11.311472Z"
    },
    "papermill": {
     "duration": 1.100812,
     "end_time": "2022-08-03T01:28:11.313445",
     "exception": false,
     "start_time": "2022-08-03T01:28:10.212633",
     "status": "completed"
    },
    "tags": []
   },
   "outputs": [],
   "source": [
    "import numpy as np\n",
    "import pygimli\n",
    "from pygimli.physics import ert\n",
    "\n",
    "from cofi import BaseProblem, InversionOptions, Inversion\n",
    "from cofi.solvers import BaseSolver\n",
    "\n",
    "from pygimli_ert_lib import *\n",
    "\n",
    "np.random.seed(42)"
   ]
  },
  {
   "cell_type": "markdown",
   "id": "2fe2b170",
   "metadata": {
    "papermill": {
     "duration": 0.004965,
     "end_time": "2022-08-03T01:28:11.324641",
     "exception": false,
     "start_time": "2022-08-03T01:28:11.319676",
     "status": "completed"
    },
    "tags": []
   },
   "source": [
    "## 1. Define the problem"
   ]
  },
  {
   "cell_type": "markdown",
   "id": "2e9e63ac",
   "metadata": {
    "papermill": {
     "duration": 0.004979,
     "end_time": "2022-08-03T01:28:11.340470",
     "exception": false,
     "start_time": "2022-08-03T01:28:11.335491",
     "status": "completed"
    },
    "tags": []
   },
   "source": [
    "We first define the true model, the survey and map it on a computational mesh designed for the survey and true anomaly."
   ]
  },
  {
   "cell_type": "code",
   "execution_count": 3,
   "id": "52e68bd1",
   "metadata": {
    "execution": {
     "iopub.execute_input": "2022-08-03T01:28:11.351488Z",
     "iopub.status.busy": "2022-08-03T01:28:11.351055Z",
     "iopub.status.idle": "2022-08-03T01:28:11.681988Z",
     "shell.execute_reply": "2022-08-03T01:28:11.681529Z"
    },
    "papermill": {
     "duration": 0.337713,
     "end_time": "2022-08-03T01:28:11.683003",
     "exception": false,
     "start_time": "2022-08-03T01:28:11.345290",
     "status": "completed"
    },
    "tags": []
   },
   "outputs": [
    {
     "data": {
      "text/plain": [
       "Text(0.5, 1.0, 'True model')"
      ]
     },
     "execution_count": 3,
     "metadata": {},
     "output_type": "execute_result"
    },
    {
     "data": {
      "image/png": "[encoded data removed]",
      "text/plain": [
       "<Figure size 432x288 with 2 Axes>"
      ]
     },
     "metadata": {
      "needs_background": "light"
     },
     "output_type": "display_data"
    }
   ],
   "source": [
    "# PyGIMLi - define measuring scheme, geometry, forward mesh and true model\n",
    "scheme = survey_scheme()\n",
    "mesh, rhomap = model_true(scheme)\n",
    "\n",
    "# plot the true model\n",
    "ax = pygimli.show(mesh, data=rhomap, label=\"$\\Omega m$\", showMesh=True)\n",
    "ax[0].set_title(\"True model\")"
   ]
  },
  {
   "cell_type": "markdown",
   "id": "aa0e73c0",
   "metadata": {
    "papermill": {
     "duration": 0.005552,
     "end_time": "2022-08-03T01:28:11.694804",
     "exception": false,
     "start_time": "2022-08-03T01:28:11.689252",
     "status": "completed"
    },
    "tags": []
   },
   "source": [
    "Generate the synthetic data as a container with all the necessary information for plotting.\n",
    "\n",
    "In ERT problems, the model and data are by convention treated in log space. "
   ]
  },
  {
   "cell_type": "code",
   "execution_count": 4,
   "id": "416fa4c9",
   "metadata": {
    "execution": {
     "iopub.execute_input": "2022-08-03T01:28:11.705322Z",
     "iopub.status.busy": "2022-08-03T01:28:11.705093Z",
     "iopub.status.idle": "2022-08-03T01:28:12.200300Z",
     "shell.execute_reply": "2022-08-03T01:28:12.199893Z"
    },
    "papermill": {
     "duration": 0.501656,
     "end_time": "2022-08-03T01:28:12.201181",
     "exception": false,
     "start_time": "2022-08-03T01:28:11.699525",
     "status": "completed"
    },
    "tags": []
   },
   "outputs": [
    {
     "name": "stderr",
     "output_type": "stream",
     "text": [
      "03/08/22 - 11:28:11 - pyGIMLi - \u001b[0;32;49mINFO\u001b[0m - Calculate geometric factors.\n"
     ]
    },
    {
     "name": "stdout",
     "output_type": "stream",
     "text": [
      "ModellingBase::setMesh() copying new mesh ... Found datafile: 51 electrodes\n",
      "Found: 51 free-electrodes\n",
      "rMin = 0.5, rMax = 100\n",
      "NGauLeg + NGauLag for inverse Fouriertransformation: 13 + 4\n",
      "Found non-Neumann domain\n",
      "0.013 s\n",
      "FOP updating mesh dependencies ... 0 s\n",
      "Obtaining geometric factors (analytical)\n",
      "relativeError set to a value > 0.5 .. assuming this is a percentage Error level dividing them by 100\n",
      "Data error estimate (min:max)  0.010009229451098493 : 0.22552739004919173\n",
      "Calculating response for model: min = 50 max = 200\n",
      "Allocating memory for primary potential...... 0.004\n",
      "\n",
      "No primary potential for secondary field calculation. Calculating analytically...\n",
      "Factorize (Cholmod) matrix ... 0.005\n",
      "Factorize (Cholmod) matrix ... 0.004\n",
      "Factorize (Cholmod) matrix ... 0.004\n",
      "Factorize (Cholmod) matrix ... 0.005\n",
      "Factorize (Cholmod) matrix ... 0.004\n",
      "Factorize (Cholmod) matrix ... 0.004\n",
      "Factorize (Cholmod) matrix ... 0.005\n",
      "Factorize (Cholmod) matrix ... 0.004\n",
      "Factorize (Cholmod) matrix ... 0.004\n",
      "Factorize (Cholmod) matrix ... 0.005\n",
      "Factorize (Cholmod) matrix ... 0.004\n",
      "Factorize (Cholmod) matrix ... 0.004\n",
      "Factorize (Cholmod) matrix ... 0.005\n",
      "Factorize (Cholmod) matrix ... 0.004\n",
      "Factorize (Cholmod) matrix ... 0.004\n",
      "Factorize (Cholmod) matrix ... 0.005\n",
      "Factorize (Cholmod) matrix ... 0.004\n",
      "Forward: time: 0.16s\n",
      "Response: min = 98.7322 max = 218.789 mean = 173.9\n",
      "Reciprocity rms(modelReciprocity) 0.409386%, max: 1.53119%\n"
     ]
    },
    {
     "data": {
      "text/plain": [
       "Text(0.5, 1.0, 'Provided data')"
      ]
     },
     "execution_count": 4,
     "metadata": {},
     "output_type": "execute_result"
    },
    {
     "data": {
      "image/png": "[encoded data removed]",
      "text/plain": [
       "<Figure size 432x288 with 2 Axes>"
      ]
     },
     "metadata": {
      "needs_background": "light"
     },
     "output_type": "display_data"
    }
   ],
   "source": [
    "# PyGIMLi - generate data\n",
    "data, log_data, data_cov_inv = ert_simulate(mesh, scheme, rhomap)\n",
    "\n",
    "ax = ert.show(data)\n",
    "ax[0].set_title(\"Provided data\")"
   ]
  },
  {
   "cell_type": "markdown",
   "id": "83e11e30",
   "metadata": {
    "papermill": {
     "duration": 0.006707,
     "end_time": "2022-08-03T01:28:12.218143",
     "exception": false,
     "start_time": "2022-08-03T01:28:12.211436",
     "status": "completed"
    },
    "tags": []
   },
   "source": [
    "Further, we create a `pygimli.ert.ERTManager` instance to keep record of problem-specific\n",
    "information like the inversion mesh, and to perform forward operation for the inversion\n",
    "solvers."
   ]
  },
  {
   "cell_type": "code",
   "execution_count": 5,
   "id": "9058af7d",
   "metadata": {
    "execution": {
     "iopub.execute_input": "2022-08-03T01:28:12.230388Z",
     "iopub.status.busy": "2022-08-03T01:28:12.230146Z",
     "iopub.status.idle": "2022-08-03T01:28:12.232853Z",
     "shell.execute_reply": "2022-08-03T01:28:12.232442Z"
    },
    "papermill": {
     "duration": 0.010377,
     "end_time": "2022-08-03T01:28:12.233824",
     "exception": false,
     "start_time": "2022-08-03T01:28:12.223447",
     "status": "completed"
    },
    "tags": []
   },
   "outputs": [],
   "source": [
    "# create PyGIMLi's ERT manager\n",
    "ert_manager = ert_manager(data)"
   ]
  },
  {
   "cell_type": "markdown",
   "id": "1beb62a0",
   "metadata": {
    "papermill": {
     "duration": 0.004982,
     "end_time": "2022-08-03T01:28:12.243779",
     "exception": false,
     "start_time": "2022-08-03T01:28:12.238797",
     "status": "completed"
    },
    "tags": []
   },
   "source": [
    "The inversion can use a different mesh and the mesh to be used should know nothing about the mesh that was designed based on the true model. We wrap two kinds of mesh as examples in the library code `pygimli_ert_lib.py`, namely triangular and rectangular mesh.\n",
    "\n",
    "Use `imesh_tri = inversion_mesh(scheme)` to initialise a triangular mesh. This function uses PyGIMLi's own mesh generator\n",
    "and generates triangular mesh automatically from given sensor locations. The resulting mesh will have a smaller area as \n",
    "unknowns to be inverted, as well as a background part with values prolongated outside from the parametric domain by PyGIMLi.\n",
    "You will see an example plot in the code cell below. \n",
    "\n",
    "Use `imesh_rect = inversion_mesh_rect(ert_manager)` to initislise a rectangular mesh. The grid mesh is created from these x and y\n",
    "nodes: `x = np.linspace(start=-5, stop=55, num=61)`, and `y = np.linspace(start=-20,stop=0,num=10)`. And again, there's a triangular\n",
    "background with values prolongated outside from the parametric domain by PyGIMLi.\n",
    "\n",
    "Here we first demonstrate how to use a *triangular mesh*. Note that this makes the inversion problem under-determined."
   ]
  },
  {
   "cell_type": "code",
   "execution_count": 6,
   "id": "9f471f7f",
   "metadata": {
    "execution": {
     "iopub.execute_input": "2022-08-03T01:28:12.268582Z",
     "iopub.status.busy": "2022-08-03T01:28:12.268362Z",
     "iopub.status.idle": "2022-08-03T01:28:12.527101Z",
     "shell.execute_reply": "2022-08-03T01:28:12.526714Z"
    },
    "papermill": {
     "duration": 0.265435,
     "end_time": "2022-08-03T01:28:12.528020",
     "exception": false,
     "start_time": "2022-08-03T01:28:12.262585",
     "status": "completed"
    },
    "tags": []
   },
   "outputs": [
    {
     "name": "stderr",
     "output_type": "stream",
     "text": [
      "03/08/22 - 11:28:12 - pyGIMLi - \u001b[0;32;49mINFO\u001b[0m - Found 2 regions.\n"
     ]
    },
    {
     "name": "stderr",
     "output_type": "stream",
     "text": [
      "03/08/22 - 11:28:12 - pyGIMLi - \u001b[0;32;49mINFO\u001b[0m - Region with smallest marker (1) set to background\n"
     ]
    },
    {
     "data": {
      "text/plain": [
       "Text(0.5, 1.0, 'Mesh used for inversion')"
      ]
     },
     "execution_count": 6,
     "metadata": {},
     "output_type": "execute_result"
    },
    {
     "data": {
      "image/png": "[encoded data removed]",
      "text/plain": [
       "<Figure size 432x288 with 2 Axes>"
      ]
     },
     "metadata": {
      "needs_background": "light"
     },
     "output_type": "display_data"
    }
   ],
   "source": [
    "inv_mesh = inversion_mesh(ert_manager)\n",
    "ax = pygimli.show(inv_mesh, showMesh=True, markers=True)\n",
    "ax[0].set_title(\"Mesh used for inversion\")"
   ]
  },
  {
   "cell_type": "markdown",
   "id": "e19954d9",
   "metadata": {
    "papermill": {
     "duration": 0.005583,
     "end_time": "2022-08-03T01:28:12.539417",
     "exception": false,
     "start_time": "2022-08-03T01:28:12.533834",
     "status": "completed"
    },
    "tags": []
   },
   "source": [
    "[This folder](https://github.com/inlab-geo/cofi-examples/tree/main/notebooks/pygimli_ert)\n",
    "contains examples scripts that run inversion for triangular or rectangular meshes, with \n",
    "different inversion approaches."
   ]
  },
  {
   "cell_type": "markdown",
   "id": "2dfd82fe",
   "metadata": {
    "papermill": {
     "duration": 0.005549,
     "end_time": "2022-08-03T01:28:12.550480",
     "exception": false,
     "start_time": "2022-08-03T01:28:12.544931",
     "status": "completed"
    },
    "tags": []
   },
   "source": [
    "With the inversion mesh created, we now define a starting model, forward operator and \n",
    "weighting matrix for regularisation using PyGIMLi.\n",
    "\n",
    "Recall that both our model and data will be in log space when we perform inversion."
   ]
  },
  {
   "cell_type": "code",
   "execution_count": 7,
   "id": "34ee37c0",
   "metadata": {
    "execution": {
     "iopub.execute_input": "2022-08-03T01:28:12.562456Z",
     "iopub.status.busy": "2022-08-03T01:28:12.562252Z",
     "iopub.status.idle": "2022-08-03T01:28:12.800413Z",
     "shell.execute_reply": "2022-08-03T01:28:12.800020Z"
    },
    "papermill": {
     "duration": 0.24532,
     "end_time": "2022-08-03T01:28:12.801296",
     "exception": false,
     "start_time": "2022-08-03T01:28:12.555976",
     "status": "completed"
    },
    "tags": []
   },
   "outputs": [
    {
     "name": "stderr",
     "output_type": "stream",
     "text": [
      "03/08/22 - 11:28:12 - Core - \u001b[0;33;49mWARNING\u001b[0m - Region Nr: 1  is background and should not get a model transformation.\n"
     ]
    },
    {
     "name": "stderr",
     "output_type": "stream",
     "text": [
      "03/08/22 - 11:28:12 - Core - \u001b[0;33;49mWARNING\u001b[0m - Region Nr: 1  is background and should not get a model control.\n"
     ]
    },
    {
     "name": "stderr",
     "output_type": "stream",
     "text": [
      "03/08/22 - 11:28:12 - pyGIMLi - \u001b[0;32;49mINFO\u001b[0m - Creating forward mesh from region infos.\n"
     ]
    },
    {
     "name": "stderr",
     "output_type": "stream",
     "text": [
      "03/08/22 - 11:28:12 - pyGIMLi - \u001b[0;32;49mINFO\u001b[0m - Creating refined mesh (H2) to solve forward task.\n"
     ]
    },
    {
     "data": {
      "text/plain": [
       "Text(0.5, 1.0, 'Starting model')"
      ]
     },
     "execution_count": 7,
     "metadata": {},
     "output_type": "execute_result"
    },
    {
     "data": {
      "image/png": "[encoded data removed]",
      "text/plain": [
       "<Figure size 432x288 with 2 Axes>"
      ]
     },
     "metadata": {
      "needs_background": "light"
     },
     "output_type": "display_data"
    }
   ],
   "source": [
    "# PyGIMLi's forward operator (ERTModelling)\n",
    "forward_oprt = ert_forward_operator(ert_manager, scheme, inv_mesh)\n",
    "\n",
    "# extract regularisation matrix\n",
    "Wm = reg_matrix(forward_oprt)\n",
    "\n",
    "# initialise a starting model for inversion\n",
    "start_model, start_model_log = starting_model(ert_manager)\n",
    "ax = pygimli.show(ert_manager.paraDomain, data=start_model, label=\"$\\Omega m$\", showMesh=True)\n",
    "ax[0].set_title(\"Starting model\")"
   ]
  },
  {
   "cell_type": "markdown",
   "id": "5533096b",
   "metadata": {
    "papermill": {
     "duration": 0.006242,
     "end_time": "2022-08-03T01:28:12.814050",
     "exception": false,
     "start_time": "2022-08-03T01:28:12.807808",
     "status": "completed"
    },
    "tags": []
   },
   "source": [
    "CoFI and other inference packages require a set of functions that provide the misfit, the jacobian the residual within the case of scipy standardised interfaces. All these functions are defined in the library file `pygimli_ert_lib.py`, so open this file if you'd like to find out the details. These functions are:\n",
    "\n",
    "- `get_response`\n",
    "- `get_jacobian`\n",
    "- `get_residuals`\n",
    "- `get_data_misfit`\n",
    "- `get_regularisation`\n",
    "- `get_gradient`\n",
    "- `get_hessian`"
   ]
  },
  {
   "cell_type": "markdown",
   "id": "e506031c",
   "metadata": {
    "papermill": {
     "duration": 0.006205,
     "end_time": "2022-08-03T01:28:12.826539",
     "exception": false,
     "start_time": "2022-08-03T01:28:12.820334",
     "status": "completed"
    },
    "tags": []
   },
   "source": [
    "With all the above forward operations set up with PyGIMLi, we now define the problem in `cofi`\n",
    "by setting the problem information for a `BaseProblem` object."
   ]
  },
  {
   "cell_type": "code",
   "execution_count": 8,
   "id": "975514c6",
   "metadata": {
    "execution": {
     "iopub.execute_input": "2022-08-03T01:28:12.839991Z",
     "iopub.status.busy": "2022-08-03T01:28:12.839766Z",
     "iopub.status.idle": "2022-08-03T01:28:12.843689Z",
     "shell.execute_reply": "2022-08-03T01:28:12.843317Z"
    },
    "papermill": {
     "duration": 0.011667,
     "end_time": "2022-08-03T01:28:12.844485",
     "exception": false,
     "start_time": "2022-08-03T01:28:12.832818",
     "status": "completed"
    },
    "tags": []
   },
   "outputs": [],
   "source": [
    "# hyperparameters\n",
    "lamda = 0.0001\n",
    "\n",
    "# CoFI - define BaseProblem\n",
    "ert_problem = BaseProblem()\n",
    "ert_problem.name = \"Electrical Resistivity Tomography defined through PyGIMLi\"\n",
    "ert_problem.set_forward(get_response, args=[forward_oprt])\n",
    "ert_problem.set_jacobian(get_jacobian, args=[forward_oprt])\n",
    "ert_problem.set_residual(get_residual, args=[log_data, forward_oprt])\n",
    "ert_problem.set_data_misfit(get_data_misfit, args=[log_data, forward_oprt, data_cov_inv])\n",
    "ert_problem.set_regularisation(get_regularisation, args=[Wm, lamda])\n",
    "ert_problem.set_gradient(get_gradient, args=[log_data, forward_oprt, Wm, lamda, data_cov_inv])\n",
    "ert_problem.set_hessian(get_hessian, args=[log_data, forward_oprt, Wm, lamda, data_cov_inv])\n",
    "ert_problem.set_initial_model(start_model_log)"
   ]
  },
  {
   "cell_type": "markdown",
   "id": "42050d98",
   "metadata": {
    "papermill": {
     "duration": 0.006199,
     "end_time": "2022-08-03T01:28:12.858274",
     "exception": false,
     "start_time": "2022-08-03T01:28:12.852075",
     "status": "completed"
    },
    "tags": []
   },
   "source": [
    "Review what information is included in the `BaseProblem` object:"
   ]
  },
  {
   "cell_type": "code",
   "execution_count": 9,
   "id": "dd8156b3",
   "metadata": {
    "execution": {
     "iopub.execute_input": "2022-08-03T01:28:12.871736Z",
     "iopub.status.busy": "2022-08-03T01:28:12.871527Z",
     "iopub.status.idle": "2022-08-03T01:28:12.874219Z",
     "shell.execute_reply": "2022-08-03T01:28:12.873856Z"
    },
    "papermill": {
     "duration": 0.010513,
     "end_time": "2022-08-03T01:28:12.875072",
     "exception": false,
     "start_time": "2022-08-03T01:28:12.864559",
     "status": "completed"
    },
    "tags": []
   },
   "outputs": [
    {
     "name": "stdout",
     "output_type": "stream",
     "text": [
      "========================================================================================\n",
      "Summary for inversion problem: Electrical Resistivity Tomography defined through PyGIMLi\n",
      "========================================================================================\n",
      "Model shape: (831,)\n",
      "----------------------------------------------------------------------------------------\n",
      "List of functions/properties set by you:\n",
      "['gradient', 'hessian', 'residual', 'jacobian', 'data_misfit', 'regularisation', 'forward', 'initial_model', 'model_shape']\n",
      "----------------------------------------------------------------------------------------\n",
      "List of functions/properties created based on what you have provided:\n",
      "['objective', 'hessian_times_vector', 'jacobian_times_vector']\n",
      "----------------------------------------------------------------------------------------\n",
      "List of functions/properties not set by you:\n",
      "['objective', 'log_posterior', 'log_posterior_with_blobs', 'log_likelihood', 'log_prior', 'hessian_times_vector', 'jacobian_times_vector', 'data', 'data_covariance', 'data_covariance_inv', 'walkers_starting_pos', 'blobs_dtype', 'bounds', 'constraints']\n"
     ]
    }
   ],
   "source": [
    "ert_problem.summary()"
   ]
  },
  {
   "cell_type": "markdown",
   "id": "69e178a0",
   "metadata": {
    "papermill": {
     "duration": 0.006306,
     "end_time": "2022-08-03T01:28:12.905004",
     "exception": false,
     "start_time": "2022-08-03T01:28:12.898698",
     "status": "completed"
    },
    "tags": []
   },
   "source": [
    "## 2. Define the inversion options and run\n",
    "\n",
    "### 2.1 SciPy's optimiser ([trust-exact](https://docs.scipy.org/doc/scipy/reference/optimize.minimize-trustexact.html#optimize-minimize-trustexact))"
   ]
  },
  {
   "cell_type": "code",
   "execution_count": 10,
   "id": "bbee9caa",
   "metadata": {
    "execution": {
     "iopub.execute_input": "2022-08-03T01:28:12.918638Z",
     "iopub.status.busy": "2022-08-03T01:28:12.918425Z",
     "iopub.status.idle": "2022-08-03T01:28:12.921254Z",
     "shell.execute_reply": "2022-08-03T01:28:12.920863Z"
    },
    "papermill": {
     "duration": 0.010744,
     "end_time": "2022-08-03T01:28:12.922245",
     "exception": false,
     "start_time": "2022-08-03T01:28:12.911501",
     "status": "completed"
    },
    "tags": []
   },
   "outputs": [
    {
     "name": "stdout",
     "output_type": "stream",
     "text": [
      "Based on what you've provided so far, here are possible solvers:\n",
      "{\n",
      "    \"optimisation\": [\n",
      "        \"scipy.optimize.minimize\",\n",
      "        \"scipy.optimize.least_squares\"\n",
      "    ],\n",
      "    \"linear least square\": [],\n",
      "    \"sampling\": []\n",
      "}\n"
     ]
    }
   ],
   "source": [
    "ert_problem.suggest_solvers();"
   ]
  },
  {
   "cell_type": "code",
   "execution_count": 11,
   "id": "0a0066cc",
   "metadata": {
    "execution": {
     "iopub.execute_input": "2022-08-03T01:28:12.935701Z",
     "iopub.status.busy": "2022-08-03T01:28:12.935517Z",
     "iopub.status.idle": "2022-08-03T01:28:12.937855Z",
     "shell.execute_reply": "2022-08-03T01:28:12.937502Z"
    },
    "papermill": {
     "duration": 0.010028,
     "end_time": "2022-08-03T01:28:12.938660",
     "exception": false,
     "start_time": "2022-08-03T01:28:12.928632",
     "status": "completed"
    },
    "tags": []
   },
   "outputs": [],
   "source": [
    "inv_options_scipy = InversionOptions()\n",
    "inv_options_scipy.set_tool(\"scipy.optimize.minimize\")\n",
    "inv_options_scipy.set_params(method=\"trust-exact\")"
   ]
  },
  {
   "cell_type": "markdown",
   "id": "bdfc8266",
   "metadata": {
    "papermill": {
     "duration": 0.0063,
     "end_time": "2022-08-03T01:28:12.951319",
     "exception": false,
     "start_time": "2022-08-03T01:28:12.945019",
     "status": "completed"
    },
    "tags": []
   },
   "source": [
    "Review what's been defined for the inversion we are about to run:"
   ]
  },
  {
   "cell_type": "code",
   "execution_count": 12,
   "id": "58b9f7d7",
   "metadata": {
    "execution": {
     "iopub.execute_input": "2022-08-03T01:28:12.964866Z",
     "iopub.status.busy": "2022-08-03T01:28:12.964675Z",
     "iopub.status.idle": "2022-08-03T01:28:12.967007Z",
     "shell.execute_reply": "2022-08-03T01:28:12.966649Z"
    },
    "papermill": {
     "duration": 0.010156,
     "end_time": "2022-08-03T01:28:12.967840",
     "exception": false,
     "start_time": "2022-08-03T01:28:12.957684",
     "status": "completed"
    },
    "tags": []
   },
   "outputs": [
    {
     "name": "stdout",
     "output_type": "stream",
     "text": [
      "=============================\n",
      "Summary for inversion options\n",
      "=============================\n",
      "Solving method: None set\n",
      "Use `suggest_solving_methods()` to check available solving methods.\n",
      "-----------------------------\n",
      "Backend tool: `scipy.optimize.minimize` - SciPy's optimisers that minimises a scalar function with respect to one or more variables, check SciPy's documentation page for a list of methods\n",
      "References: ['https://docs.scipy.org/doc/scipy/reference/generated/scipy.optimize.minimize.html']\n",
      "Use `suggest_tools()` to check available backend tools.\n",
      "-----------------------------\n",
      "Solver-specific parameters: \n",
      "method = trust-exact\n",
      "Use `suggest_solver_params()` to check required/optional solver-specific parameters.\n"
     ]
    }
   ],
   "source": [
    "inv_options_scipy.summary()"
   ]
  },
  {
   "cell_type": "code",
   "execution_count": 13,
   "id": "1949bafa",
   "metadata": {
    "execution": {
     "iopub.execute_input": "2022-08-03T01:28:12.981355Z",
     "iopub.status.busy": "2022-08-03T01:28:12.981188Z",
     "iopub.status.idle": "2022-08-03T01:31:57.846216Z",
     "shell.execute_reply": "2022-08-03T01:31:57.844218Z"
    },
    "papermill": {
     "duration": 224.888335,
     "end_time": "2022-08-03T01:31:57.862613",
     "exception": false,
     "start_time": "2022-08-03T01:28:12.974278",
     "status": "completed"
    },
    "tags": []
   },
   "outputs": [
    {
     "name": "stderr",
     "output_type": "stream",
     "text": [
      "/home/jiawen/opt/mambaforge/envs/cofi_dev/lib/python3.10/site-packages/scipy/optimize/_minimize.py:554: RuntimeWarning: Method trust-exact does not use Hessian-vector product information (hessp).\n",
      "  warn('Method %s does not use Hessian-vector product '\n"
     ]
    },
    {
     "name": "stdout",
     "output_type": "stream",
     "text": [
      "============================\n",
      "Summary for inversion result\n",
      "============================\n",
      "FAILURE\n",
      "----------------------------\n",
      "status: 2\n",
      "fun: 4.96015090789872\n",
      "jac: [-5.30054030e-06  3.78314335e-06 -8.55026934e-06 -9.36818136e-07\n",
      " -1.97060620e-07 -6.83888997e-06 -4.07168948e-05 -8.86978491e-07\n",
      " -2.88829372e-06  2.07324889e-05  1.19916951e-05 -2.80271730e-06\n",
      " -9.46662352e-07 -4.41893669e-06 -1.77941068e-07 -1.21036666e-05\n",
      " -1.46466549e-06  5.25255026e-06  8.72728744e-06 -1.99888148e-06\n",
      " -2.38885420e-05  4.40875838e-06  2.37748338e-06  1.86784997e-05\n",
      " -2.80190922e-05  4.64603979e-06 -8.82350862e-06 -1.04835461e-05\n",
      " -4.90634932e-06 -1.37441127e-05 -8.05035313e-07  7.45791259e-06\n",
      "  1.92902027e-05  9.25224850e-06 -8.21727771e-06  2.96294814e-06\n",
      " -2.70764010e-06  3.29374158e-06 -3.97521065e-06  4.37567474e-06\n",
      " -2.20569328e-06  4.47264496e-06  9.24191208e-06 -3.07899998e-06\n",
      "  2.07688756e-06  7.09574929e-07  5.50356101e-06 -6.27742470e-06\n",
      "  1.79641014e-06 -7.92319465e-06 -4.68692840e-06  7.75033889e-06\n",
      "  1.56255821e-05  2.67002634e-06 -3.50604816e-06  5.31110361e-06\n",
      "  1.70808187e-05  1.18405497e-05  2.92603473e-06 -1.00009424e-05\n",
      " -1.32058738e-05 -1.00194548e-05  1.72727634e-05 -9.16204893e-06\n",
      " -3.53884345e-06  1.48597861e-05  1.17915524e-05  4.21586413e-06\n",
      "  2.95000172e-06 -1.48821691e-05 -1.02004056e-05  4.03950121e-06\n",
      "  7.31484349e-06  2.64119612e-05 -2.40386481e-05  7.82635348e-06\n",
      " -4.14882501e-06 -9.01955499e-06  9.20822138e-06 -1.37732341e-05\n",
      "  1.35753698e-07 -4.42581685e-08  3.93718649e-06 -7.52424375e-06\n",
      "  1.64450741e-06 -7.32053715e-06 -1.04845736e-06 -1.15687178e-05\n",
      " -6.15446996e-06  1.11841584e-05  7.67245687e-06  5.27831611e-06\n",
      " -2.18564857e-06 -2.45231118e-06  1.48710336e-07  4.77983427e-06\n",
      "  3.58729835e-06  1.29182264e-06 -1.75548810e-06  1.78059289e-08\n",
      " -4.24044798e-06 -6.90725015e-06 -2.34483812e-06 -2.97903082e-07\n",
      " -2.19281191e-06 -4.32786681e-06  3.17344283e-07 -6.31234562e-06\n",
      "  3.18690198e-06 -6.17581038e-07 -1.32398820e-05 -1.77353720e-07\n",
      "  1.09512089e-05  2.11498041e-06  1.38133047e-06 -6.57695247e-07\n",
      " -2.66177263e-06 -1.59695482e-07  5.91155013e-07 -7.37451763e-07\n",
      "  2.57592254e-06  4.41230421e-07 -2.53418783e-07 -4.79350370e-06\n",
      "  1.51259231e-06  2.35478517e-06 -1.49498796e-07  1.24797424e-06\n",
      "  3.59840615e-06 -4.02877250e-06  1.50568465e-06 -5.12192093e-07\n",
      "  4.66270568e-06  3.11642564e-06  4.76226273e-06  7.34781968e-07\n",
      " -1.56142630e-06  2.19870859e-06  3.14533061e-06  4.81603148e-06\n",
      "  3.33627740e-06  4.89899383e-06 -6.72440847e-06 -1.99656562e-07\n",
      "  1.91638252e-06 -3.99003180e-06  2.40365991e-06 -1.17423684e-05\n",
      "  4.23773904e-06  5.30702967e-06  3.03562242e-06  2.72870741e-06\n",
      " -1.82833229e-06  9.90580203e-07 -5.40436120e-07 -3.69944812e-06\n",
      " -6.17607283e-06  2.57742068e-06  7.87955561e-06  4.50320788e-06\n",
      "  4.35483841e-06  1.71559158e-05  3.51962392e-07 -3.54749721e-06\n",
      "  1.22686642e-05  4.10326913e-06  1.31262720e-06 -9.14447522e-06\n",
      " -1.05350357e-05  1.37249532e-06  1.07296125e-05  2.48662550e-06\n",
      " -4.16683668e-06 -3.48371281e-06 -9.93302373e-06  2.20188362e-06\n",
      " -9.97071217e-06  2.20401133e-06  1.26403794e-05 -6.64902097e-06\n",
      " -2.83429304e-08  2.71521129e-06  1.47448420e-05  4.14752831e-06\n",
      "  1.90404629e-05  1.69217773e-05 -4.57254795e-06  1.12140353e-07\n",
      "  9.05911007e-07  3.40795809e-06  5.72770549e-06  2.27831131e-06\n",
      "  3.91841873e-06  5.54574873e-07 -2.10104059e-06 -8.69320551e-06\n",
      "  5.33629472e-07 -4.46515343e-06 -2.18268058e-06 -1.13544266e-06\n",
      "  5.02992348e-06 -5.55004825e-06  7.54949289e-07 -6.09474076e-06\n",
      " -1.12743243e-05 -2.17085155e-06  7.26454730e-07  9.97126045e-07\n",
      " -7.11990464e-06  1.33884862e-06 -3.38410571e-07  5.31941434e-06\n",
      " -2.16028858e-06 -1.83185389e-05 -1.39984038e-06 -1.02539421e-05\n",
      " -8.37851639e-06 -9.23799626e-06 -1.08967374e-05 -3.99802739e-06\n",
      " -7.71463190e-06 -9.01530120e-06  1.57049733e-05 -4.71339258e-07\n",
      " -7.36390263e-06 -7.43958794e-06  3.86850026e-06 -6.79011937e-06\n",
      " -3.82370469e-06  5.26052761e-08  2.50740298e-06  2.45658426e-06\n",
      "  3.34543164e-06  2.15186203e-06 -1.58696662e-06 -4.98204608e-06\n",
      "  1.83282496e-05 -1.76119746e-06  6.12464414e-06  2.39565266e-06\n",
      " -1.89828778e-06 -1.37782200e-05 -1.46317477e-05  6.09435358e-06\n",
      "  2.24639444e-06  9.26787299e-07  4.13478191e-06 -1.44595405e-06\n",
      "  4.19085703e-06 -1.06025650e-07  1.15921721e-06  2.39986901e-06\n",
      " -2.73550109e-07 -7.13151852e-07  3.47677610e-07  2.50097453e-06\n",
      "  1.84678658e-06  1.62402049e-06  2.21257860e-06  1.36567538e-06\n",
      "  1.15627801e-06 -1.08717625e-06  9.88331902e-07 -8.83641823e-07\n",
      " -3.52118779e-06  1.31053924e-06  2.63063429e-06  1.49543365e-06\n",
      "  1.31385352e-06 -1.15734717e-06 -6.50773804e-06  4.79526469e-06\n",
      " -4.36569364e-06 -1.94797646e-06  2.59861308e-06 -3.50465593e-06\n",
      " -4.94209145e-06 -3.22617481e-06  4.47616556e-06 -4.49560664e-06\n",
      "  3.02068477e-05 -3.17678983e-06 -8.90602809e-06 -1.65398321e-06\n",
      " -2.31749214e-06 -8.75627657e-06  1.67223729e-06  2.18017828e-06\n",
      "  1.51209985e-06  1.17224416e-06  1.11631354e-06 -1.82288427e-06\n",
      "  1.43967855e-06 -1.32891691e-06 -3.22633128e-06  8.17090589e-08\n",
      " -1.84969301e-06 -3.48189138e-06 -2.64892275e-07  1.67795582e-06\n",
      " -1.31820529e-06 -5.78179693e-07 -6.54792046e-06 -1.17287888e-06\n",
      "  5.20827930e-06 -5.55735285e-06  1.02754347e-05 -8.11438227e-06\n",
      "  9.56234632e-07  1.74149830e-06 -3.39166987e-06  1.82258383e-06\n",
      " -2.81078242e-06  6.04054096e-06 -2.35453735e-06 -3.92850307e-06\n",
      " -5.00792080e-06  2.44906828e-06 -5.95738186e-06 -8.81852680e-06\n",
      "  1.07738972e-06  2.37849100e-06 -1.69314854e-06  1.01576305e-05\n",
      "  6.52551778e-07  3.00641853e-06 -1.53514386e-06 -1.85041444e-06\n",
      " -1.64470127e-06  2.74878058e-06  3.77943609e-06  1.50813516e-06\n",
      "  4.03937928e-06 -1.27164374e-06  2.01023032e-08  2.25288874e-05\n",
      "  1.68329482e-06  3.32461914e-06  1.75075205e-06 -1.35386135e-06\n",
      " -6.09943465e-06 -2.71046299e-06 -6.48060231e-07  1.06729607e-07\n",
      " -2.72009861e-07 -2.59888414e-07 -5.21182737e-06  1.42278989e-06\n",
      " -2.19714146e-06  1.26706026e-06  9.64804840e-08 -1.28924824e-06\n",
      " -1.70191134e-06 -1.07107969e-05 -7.22986706e-06 -8.14516616e-06\n",
      "  4.49381537e-06 -4.12009452e-06  2.45840725e-06  2.54398251e-06\n",
      "  1.89545536e-06 -1.63553171e-06 -5.68333050e-06 -4.44703953e-06\n",
      "  1.76841576e-05 -5.26993927e-06  1.91713187e-06  8.68736036e-07\n",
      "  4.46629930e-05 -5.12391234e-06 -4.91394978e-07  4.54770164e-06\n",
      "  2.49928643e-06  4.64550836e-06  3.34230094e-06  1.65646440e-06\n",
      " -1.82256838e-06  1.64074207e-06  5.45886198e-06 -1.25691908e-06\n",
      "  2.05294491e-06 -8.78777865e-06 -4.86328755e-06 -3.76929315e-06\n",
      " -9.05371278e-07  1.23058653e-05  1.78196083e-05  5.51022113e-06\n",
      " -1.26092603e-06 -4.12748535e-06  5.30711044e-06 -1.12456022e-06\n",
      "  5.36545089e-05  8.60851308e-06  1.07198032e-05 -1.22526342e-05\n",
      " -2.86790872e-06  1.46318250e-06  1.32426181e-05 -5.00451769e-06\n",
      " -4.17734233e-06 -3.98644879e-07 -2.94514758e-06 -4.97476880e-07\n",
      " -2.24504517e-06  7.45136617e-06 -6.66440283e-06  6.14369313e-07\n",
      " -2.78623644e-06  9.59464680e-07 -9.85601842e-07 -3.26087036e-06\n",
      " -1.32243075e-06 -1.36812711e-06  2.04378788e-06  1.41262834e-06\n",
      " -1.78826269e-06  1.87461795e-06 -2.96815974e-07  3.28621781e-07\n",
      " -2.53735823e-06  2.09868319e-06 -2.37619034e-06 -3.11169942e-06\n",
      "  1.56521586e-06 -1.28640781e-06 -2.18098035e-06  2.86502429e-06\n",
      " -1.90222047e-06 -1.27652591e-06 -5.19283847e-06  5.67436306e-07\n",
      " -5.04528379e-06  3.51904890e-06 -1.57184964e-06 -1.91221608e-06\n",
      " -6.18245889e-06 -1.72256611e-06  9.75493681e-06  6.74920079e-07\n",
      "  3.30780230e-06 -2.45535261e-07 -3.61089375e-06 -6.64083703e-06\n",
      " -3.19310657e-07  2.05384195e-06 -1.78508224e-06 -1.21672463e-05\n",
      " -4.52928672e-05 -7.44417751e-06  1.44222073e-06 -1.82014731e-06\n",
      " -2.45900519e-05 -1.65404521e-06 -7.84687505e-06 -5.70548964e-06\n",
      "  4.63741685e-06  3.32663882e-06 -2.19973194e-06 -5.05330806e-06\n",
      " -3.71846976e-06  3.55544193e-06 -7.78960790e-05  3.34824415e-05\n",
      " -9.80491774e-06 -5.95959552e-06  6.26847083e-06 -3.69703980e-06\n",
      "  2.64054087e-06 -6.32708083e-06  8.10682725e-06 -3.19591311e-06\n",
      " -3.11526667e-06  3.56224504e-06  1.01320133e-06  3.82954217e-06\n",
      " -4.41376131e-07  4.79092012e-06 -5.31249493e-06  4.49830750e-06\n",
      "  4.55859589e-06 -2.09073295e-06 -5.29714962e-06 -4.34896760e-05\n",
      "  1.61497000e-06 -2.32997518e-06  6.00004218e-06  8.54879686e-06\n",
      "  4.58828385e-05  2.44703051e-05 -8.44943319e-07  2.36795294e-06\n",
      " -4.51124044e-06 -5.06581154e-06  4.73231397e-06 -1.37560200e-06\n",
      "  2.61861248e-06 -4.31241041e-06  6.59821723e-07  2.71690610e-06\n",
      " -3.94259796e-06  1.96558649e-06  1.67244418e-06 -3.73457516e-06\n",
      "  8.39639833e-07  5.45442317e-06  9.05379393e-06  6.86756904e-08\n",
      " -5.92715261e-06 -3.78651745e-06 -1.19252167e-04  4.96340741e-06\n",
      " -2.57005516e-05 -6.00061665e-05 -5.17685602e-06  2.73955560e-06\n",
      "  1.83586005e-06  5.22853705e-06 -7.62968909e-06  2.11216501e-05\n",
      " -1.28689492e-04  5.28928466e-06 -7.90788686e-05 -2.20240648e-05\n",
      " -1.07838043e-04  3.10795607e-05 -2.31362929e-05 -5.77085189e-05\n",
      " -5.85919792e-05 -1.80003843e-04 -4.17138768e-05 -1.24905475e-04\n",
      "  4.93529062e-06  4.11065409e-05 -1.07262997e-04 -1.43135123e-04\n",
      " -3.24320957e-05  6.89394288e-05 -8.53209420e-05 -1.74540333e-04\n",
      " -1.83784600e-04  1.82551944e-05 -7.06721234e-05 -1.62247684e-05\n",
      "  2.48564001e-06 -4.55235720e-06 -1.44290948e-06  1.64711583e-05\n",
      "  9.56740948e-06 -9.36955155e-06 -4.87058118e-06  6.22545599e-06\n",
      "  1.32518702e-05 -3.10167622e-06 -3.53924219e-06 -3.64657905e-07\n",
      " -3.22461801e-06  3.20519186e-06 -1.09837534e-04 -7.28466752e-05\n",
      " -1.34273683e-04 -5.23558128e-06 -5.47112620e-06 -1.12980714e-04\n",
      " -1.52064827e-05  4.49443476e-06 -2.65532805e-05  4.39965683e-06\n",
      " -7.10899795e-06 -1.38755553e-05 -1.58027516e-05 -1.65104860e-05\n",
      " -4.55620188e-06 -1.02236437e-05 -1.24484517e-05  3.21474425e-05\n",
      " -2.65992712e-05 -3.05485212e-05  1.14872393e-05  1.76894165e-05\n",
      " -4.24884632e-06 -7.94117290e-06  4.64541924e-06  9.47967328e-06\n",
      " -2.18393347e-06 -2.22299640e-06 -1.60119739e-04 -1.38030300e-04\n",
      "  4.16421517e-06  1.16275947e-05  1.08010481e-05  8.95108298e-06\n",
      "  3.48495529e-06  7.41525892e-06  1.19302089e-05  1.42332154e-05\n",
      "  3.73854831e-05  2.53220902e-05  2.05679881e-05  1.45473205e-05\n",
      " -7.10205524e-06  2.46204259e-05 -1.09374393e-05 -3.87699730e-05\n",
      " -1.53095806e-04 -1.46840765e-04  1.80579619e-06 -1.59248297e-06\n",
      "  7.89261420e-06  1.67283618e-05  2.18515963e-05  1.09572435e-05\n",
      "  1.94507921e-05  1.57735930e-05 -1.49901568e-04  6.68852897e-07\n",
      " -3.26503864e-06 -6.31396708e-06  3.00657141e-05 -1.50489491e-05\n",
      " -8.17714228e-05 -8.93442864e-05  1.08282594e-05  1.12690096e-05\n",
      "  1.98197396e-05  1.59380666e-05 -5.80994688e-06 -7.74434007e-07\n",
      " -5.74274526e-06 -1.02963820e-06 -5.11503189e-06 -5.86890399e-06\n",
      " -1.14928978e-04 -3.96149387e-05 -2.71355562e-06  1.18108104e-05\n",
      " -9.18914524e-05  2.85513610e-05 -3.54942139e-06 -1.02144156e-05\n",
      " -2.86660477e-06 -5.75696872e-06 -6.49933117e-06  8.48696241e-08\n",
      " -1.50098406e-08  3.80947653e-06  5.90704899e-05  1.02796382e-05\n",
      " -1.78441495e-06 -4.20778631e-06  2.00472305e-06 -3.08648880e-06\n",
      " -5.42616704e-06 -6.24459507e-06  8.99259300e-06  1.25659794e-06\n",
      "  2.79373569e-05  2.06319035e-05 -2.07053272e-06 -1.77096825e-06\n",
      " -6.62717998e-06 -6.41663074e-06 -3.55686119e-06 -2.43873561e-06\n",
      " -2.06923717e-06 -1.31935657e-05  7.17979145e-06  1.46356220e-05\n",
      "  6.20931994e-06 -3.69968203e-06 -9.46073441e-06  2.14238874e-05\n",
      "  8.43185789e-06  3.06520222e-05 -9.29420408e-06 -4.62509317e-06\n",
      " -4.67785503e-05 -1.09960846e-06 -4.97020283e-06 -4.52320382e-06\n",
      " -3.49390866e-05  6.08367068e-05 -9.03863374e-06 -6.89773188e-06\n",
      " -1.05263199e-05 -8.42425488e-06  8.66375858e-07  3.97465970e-05\n",
      "  2.36017793e-05  3.50864514e-05 -4.78763428e-06  5.79078964e-07\n",
      "  3.73291861e-05  1.91015875e-05 -1.13521914e-05 -1.24845124e-05\n",
      " -9.40216292e-05  1.03290093e-05 -2.20519961e-06 -1.27807319e-05\n",
      "  9.58960197e-06  1.93074222e-05 -9.72600324e-06  3.35049079e-05\n",
      " -8.33032180e-05 -1.54234376e-04  2.45711526e-05  4.32173182e-05\n",
      " -1.10087646e-04 -5.25619261e-05 -1.29017814e-06  1.54755610e-05\n",
      "  1.56938940e-06  8.41330906e-06  1.86993861e-06  2.88838808e-05\n",
      " -6.95111295e-05 -3.72764287e-05  7.26056725e-07 -7.90812138e-06\n",
      "  9.80465000e-06  1.18952615e-05  1.42343616e-06 -4.84983240e-06\n",
      "  1.76160084e-05 -6.21473093e-05  7.34553948e-05  5.53257892e-06\n",
      "  1.44569077e-05 -9.53766866e-05 -6.59659037e-05 -9.54676527e-05\n",
      "  2.08346917e-05  9.12526045e-05  1.63607753e-05 -6.37975833e-05\n",
      "  4.74447084e-05  1.69676323e-05  8.82606510e-06  2.81048454e-05\n",
      "  2.27912705e-05 -7.62704916e-06 -4.63455846e-06  4.54560297e-05\n",
      "  5.12863602e-05  1.81038974e-06  1.25433814e-04  7.80819341e-06\n",
      "  3.05277195e-05  2.53478363e-05 -4.23304157e-06  1.80061337e-05\n",
      " -1.58599878e-04 -5.64237796e-05  4.67339141e-05  2.20370461e-05\n",
      "  4.15151129e-05  5.58974973e-05  3.87292557e-05 -6.37042687e-06\n",
      " -1.83448740e-06  9.52932680e-06  1.01636002e-04  1.73358297e-05\n",
      "  7.00408986e-06  2.86661459e-05  1.82796700e-05  1.78368726e-05\n",
      "  4.60444910e-05  3.34898400e-05  6.29147579e-05  2.57630429e-05\n",
      "  1.41699408e-05  3.44787436e-05  9.72561783e-05  7.95740252e-05\n",
      "  5.76928545e-05  4.71377113e-05 -6.32253425e-05  2.43392691e-06\n",
      " -1.49791702e-05 -1.12385079e-05  3.42289980e-05  7.64593073e-05\n",
      "  2.05297656e-04  5.18703802e-05  3.19659613e-05  1.47979862e-05\n",
      "  1.21473114e-04  5.04252647e-05  4.56341528e-05  3.48235857e-05\n",
      "  3.88141400e-05 -2.64305418e-05  5.05132209e-05  5.95925611e-05\n",
      "  1.78188629e-04  2.43923091e-04  6.81789932e-05  4.98231861e-05\n",
      " -2.44601945e-05  7.00865613e-08  5.52405929e-06  2.55505600e-05\n",
      "  4.53119214e-05 -1.42946919e-05  9.94430402e-05  2.31527800e-04\n",
      " -5.89369789e-05  1.64144659e-05 -3.07317235e-07  3.37141470e-04\n",
      "  3.15858482e-05 -1.45162150e-05  7.24343320e-05  1.82964471e-04\n",
      "  1.22224843e-05  2.32346419e-07  1.10576871e-04  2.53476998e-04\n",
      "  3.52436720e-04  1.80964139e-04  2.89843159e-04  1.21798553e-04\n",
      "  6.45126168e-05  7.26590487e-06  4.26068022e-05  3.47330695e-06\n",
      "  3.60605715e-05  6.66802929e-05  1.06401063e-04]\n",
      "nfev: 170\n",
      "njev: 99\n",
      "nhev: 170\n",
      "nit: 168\n",
      "message: A bad approximation caused failure to predict improvement.\n",
      "hess: [[ 3.96113592e+00  5.74168132e-04  8.25715533e-04 ...  4.47852276e-04\n",
      "   8.75643787e-04  5.78260244e-03]\n",
      " [ 5.74168132e-04  2.94687426e-01  2.36108709e-05 ... -1.24619452e-04\n",
      "  -6.97665243e-04  3.02420758e-03]\n",
      " [ 8.25715533e-04  2.36108709e-05  5.73676814e-01 ...  1.19218414e-05\n",
      "  -1.44166056e-04 -6.81610453e-04]\n",
      " ...\n",
      " [ 4.47852276e-04 -1.24619452e-04  1.19218414e-05 ...  7.61398070e-03\n",
      "   6.89760494e-03  2.08680337e-02]\n",
      " [ 8.75643787e-04 -6.97665243e-04 -1.44166056e-04 ...  6.89760494e-03\n",
      "   9.71239608e-03  2.22361131e-02]\n",
      " [ 5.78260244e-03  3.02420758e-03 -6.81610453e-04 ...  2.08680337e-02\n",
      "   2.22361131e-02  1.06762011e-01]]\n",
      "model: [5.30290716 5.30272327 5.33624742 5.3450431  5.27842313 5.30615326\n",
      " 5.31235345 5.29849973 5.32367711 5.31169458 5.30578344 5.30187877\n",
      " 5.30897711 5.3352062  5.2878191  5.35483784 5.31829694 5.29404985\n",
      " 5.30074932 5.29778971 5.33189437 5.23599258 5.32704834 5.3229467\n",
      " 5.3355402  5.28401136 5.30816253 5.31621868 5.30295417 5.33432889\n",
      " 5.31159613 5.31631834 5.34360874 5.34326845 5.28769897 5.30904511\n",
      " 5.34422404 5.30392468 5.31616372 5.28483676 5.32240903 5.27141143\n",
      " 5.30442337 5.31824436 5.27751543 5.30667537 5.30608073 5.33159885\n",
      " 5.30641522 5.29503415 5.31649995 5.28501971 5.28758585 5.30992825\n",
      " 5.32887388 5.29865565 5.27644099 5.0255851  5.27990309 5.26340021\n",
      " 5.30871771 5.30119634 5.26812944 5.32492272 5.30243482 5.31057063\n",
      " 5.29886206 5.25091933 5.29847164 5.27665286 5.27400776 5.34943275\n",
      " 5.27163286 5.3176202  5.31793237 5.30948855 5.33015683 5.27203076\n",
      " 5.3357034  5.30714663 5.34353942 5.29511851 5.29649494 5.33813735\n",
      " 5.31985553 5.31142772 5.33867623 5.29396293 5.30097212 5.30031813\n",
      " 5.29879739 5.31812224 5.27654453 5.3256582  5.31211032 5.29127572\n",
      " 5.29247261 5.33843808 5.29123333 5.28829354 5.30341165 5.26994715\n",
      " 5.32800257 5.30107743 5.30089267 5.28395975 5.2686327  5.36348511\n",
      " 5.29522193 5.29704912 5.29198993 5.26993031 5.31732941 5.32117806\n",
      " 5.25765741 5.31232556 5.30297875 5.28124828 5.26696598 5.31062787\n",
      " 5.31111487 5.34600531 5.32220632 5.3276416  5.30898155 5.27573112\n",
      " 5.26789532 5.3228077  5.31704724 5.29234165 5.34754546 5.32741677\n",
      " 5.29941455 5.34270452 5.30967368 5.32691858 5.31781277 5.28471732\n",
      " 5.29346067 5.28067133 5.30856912 5.29055902 5.31840888 5.31338692\n",
      " 5.32403848 5.25728158 5.32121916 5.27846524 5.31679744 5.28956866\n",
      " 5.30701545 5.3099878  5.31175679 5.30968478 5.30081889 5.3189427\n",
      " 5.33501669 5.30209926 5.23422983 5.30301519 5.288673   5.26247214\n",
      " 5.28944635 5.2944508  5.32507865 5.25474733 5.31789248 5.30040074\n",
      " 5.28462442 5.29427541 5.30535885 5.29423495 5.30282018 5.30034756\n",
      " 5.29473657 5.2762966  5.27475539 5.30154312 5.33195504 5.30424433\n",
      " 5.30021885 5.31652178 5.30353517 5.28790084 5.32277787 5.30821979\n",
      " 5.31573594 5.28882663 5.30214891 5.30836524 5.32818008 5.29209442\n",
      " 5.32312585 5.34494075 5.29035622 5.33826251 5.28072764 5.33340489\n",
      " 5.329861   5.31729849 5.27742636 5.29837047 5.31979489 5.31170905\n",
      " 5.31538906 5.29793039 5.29544579 5.30863245 5.26331953 5.31827118\n",
      " 5.27226327 5.3398672  5.35661309 5.30648471 5.26702815 5.29960339\n",
      " 5.32424407 5.26716963 5.26661685 5.2851456  5.29209954 5.34555017\n",
      " 5.28891294 5.30994702 5.31814997 5.31902871 5.33173993 5.34333846\n",
      " 5.34410572 5.27791263 5.32935871 5.2756816  5.27296878 5.32464594\n",
      " 5.33786339 5.31796381 5.27254994 5.29457847 5.30335986 5.30293762\n",
      " 5.28911624 5.30817875 5.3238985  5.28341669 5.28995431 5.29371657\n",
      " 5.27769483 5.28617618 5.3008458  5.29235386 5.28910345 5.32749325\n",
      " 5.34628592 5.31302292 5.31157227 5.2769943  5.31025767 5.30559578\n",
      " 5.28364162 5.31753517 5.29682785 5.32908545 5.30460991 5.29908418\n",
      " 5.31837093 5.28949246 5.31211659 5.30665957 5.30084073 5.29841186\n",
      " 5.29686635 5.30461484 5.29113802 5.30349391 5.32612879 5.30754709\n",
      " 5.30775692 5.29277118 5.31515197 5.29123386 5.34431333 5.30978235\n",
      " 5.29881011 5.26578528 5.30383773 5.30396068 5.31511624 5.30454554\n",
      " 5.30858703 5.33219228 5.30696239 5.28529227 5.2727849  5.31135045\n",
      " 5.30994162 5.32457101 5.30181588 5.29742424 5.31656313 5.2741421\n",
      " 5.2835302  5.30340038 5.31399926 5.33431021 5.3314269  5.30123645\n",
      " 5.33585794 5.37309595 5.34800845 5.30029013 5.33533637 5.26978563\n",
      " 5.36764572 5.29209198 5.29700044 5.35984494 5.30068503 5.31456145\n",
      " 5.31741124 5.33842497 5.26941    5.3277323  5.30726106 5.01903432\n",
      " 5.28339702 5.28416767 5.31934867 5.30623486 5.29191992 5.29335154\n",
      " 5.30437476 5.32538626 5.32079419 5.30308928 5.31226724 4.03245401\n",
      " 5.29421057 5.30209962 5.29445619 5.30736197 5.31858792 5.31757235\n",
      " 5.32844858 5.30187445 5.26045273 5.30569217 5.31042254 5.31317726\n",
      " 5.2828162  5.29654622 5.31035451 5.29694264 5.31007349 5.2765826\n",
      " 5.27815036 5.31927719 5.29101231 5.24654459 5.26808072 5.33227112\n",
      " 5.30328293 5.31758882 5.31347604 5.30002748 5.30765432 5.31653968\n",
      " 5.2885916  5.31802574 5.4176045  5.27991931 5.26412354 5.29804239\n",
      " 5.33637513 5.291287   5.32243144 5.30119175 5.30203566 5.30920315\n",
      " 5.32121861 5.36323296 5.3895075  5.28515966 5.32170142 5.27477386\n",
      " 5.38112567 5.30538711 5.34004225 5.2062861  5.24079441 5.36435875\n",
      " 5.22159439 5.25367562 3.50583279 5.39545379 5.32959479 5.31619021\n",
      " 5.3600242  5.34920506 5.35776357 4.98635085 5.34220486 5.33127303\n",
      " 5.28307855 5.30320783 4.86328764 5.31629774 5.34571919 5.13126413\n",
      " 5.3058971  5.31841849 5.3130783  5.31015013 5.29461886 5.32384202\n",
      " 5.31306729 5.29089889 5.29974373 5.30181495 5.2841847  5.28836532\n",
      " 5.30355703 5.31616229 5.31093755 5.31299145 5.2901482  5.28913545\n",
      " 5.28812599 5.27610537 5.32007869 5.29408375 5.29972724 5.3159323\n",
      " 5.31623467 5.32704945 5.32575673 5.32539717 5.29077938 5.30512648\n",
      " 5.29626913 5.28041816 5.32639983 5.30043056 5.30304243 5.31584142\n",
      " 5.27553266 5.2802986  5.26633559 5.31403184 5.29594547 5.28674739\n",
      " 5.31999876 5.29202493 5.36349006 5.30594285 5.29989091 5.33976847\n",
      " 5.27804261 5.30427619 5.30241083 5.27244181 5.31647826 5.30889153\n",
      " 5.3561065  5.30894864 5.29252295 5.34296345 5.28692012 5.29350766\n",
      " 5.28163063 5.29052466 5.32384485 5.30670795 5.28367948 5.27474286\n",
      " 5.33040391 5.29733468 5.28169199 5.29060929 5.28954525 5.28709025\n",
      " 5.29678104 5.30934302 5.34595104 5.41770881 5.30158301 5.29984363\n",
      " 5.32396915 5.32681416 5.32358237 5.30183293 5.3291834  5.16800607\n",
      " 5.32132569 5.31913257 5.29757432 5.32315277 5.30685003 5.31654183\n",
      " 5.29650907 5.27303088 5.3472388  5.29552944 5.30175355 5.2820843\n",
      " 5.32437327 5.32173427 5.3018317  5.34121911 5.25941036 5.33648304\n",
      " 5.41966055 5.30588319 5.31614449 5.31720848 5.28551124 5.34480228\n",
      " 5.2740063  5.22417095 5.34580594 5.30536463 5.40616253 5.29911127\n",
      " 5.35352979 5.31741822 5.34346088 5.32684716 5.30291534 5.36123043\n",
      " 5.37235803 5.50004318 5.3219734  5.37933962 5.34527699 5.33684851\n",
      " 5.53442309 5.37789456 5.35876501 5.33005469 5.38136481 5.51637365\n",
      " 5.47772476 5.33654442 5.38323583 5.35245877 5.34191296 5.34424857\n",
      " 4.79772104 5.35910651 5.27439947 5.27258517 5.3029662  5.25829051\n",
      " 5.03792124 5.3055923  5.28373427 5.29158183 5.32486782 5.30229336\n",
      " 5.34911803 5.3340192  5.44090501 5.36996189 5.30732643 5.39453478\n",
      " 5.38962799 4.97075804 5.29836212 5.29354258 5.27689481 5.30658937\n",
      " 5.30107084 5.29878208 5.26393872 5.29085105 5.28440258 5.30634406\n",
      " 5.29394864 5.29604381 5.27832808 5.30227258 5.32018183 5.26851919\n",
      " 4.80165599 4.82188924 5.34513675 5.35685923 5.41504157 5.38434092\n",
      " 5.31439182 5.32290136 5.26270958 4.38563034 5.28443695 5.26320332\n",
      " 5.2832767  5.26974496 5.30339246 5.29371805 5.34175144 5.24806564\n",
      " 5.26739212 5.28695052 5.41107907 5.34574202 5.47708646 5.53074691\n",
      " 4.40664785 4.98897596 5.28241521 5.24067661 5.28321134 5.27001495\n",
      " 5.27151885 5.26536172 5.44859743 5.3107053  5.2781148  5.28608732\n",
      " 4.50829334 5.01131668 4.44876669 5.42878663 4.37875576 4.35712165\n",
      " 5.29694405 5.26534766 5.32304944 5.3271836  5.35172968 5.2850824\n",
      " 5.32789263 5.29070364 5.41190619 5.31571608 5.30799588 5.28650694\n",
      " 5.05991997 3.98803544 4.8331066  4.07602137 5.3494493  5.31720021\n",
      " 5.33669345 5.24328728 5.31085819 5.28427808 3.37653316 5.20336917\n",
      " 5.29663408 5.31988417 5.27925328 5.27862599 5.27721938 5.29461996\n",
      " 5.26751796 5.261298   5.33319398 5.29495712 5.32184214 5.33895189\n",
      " 5.33986281 5.27473876 5.29251661 5.27122825 5.24020148 5.33526048\n",
      " 5.26849178 5.31132072 5.3023344  5.29332106 5.3380393  5.29199116\n",
      " 5.26906613 5.33756135 5.28063039 5.27250908 3.30480896 5.29598511\n",
      " 5.33657513 5.2540043  5.23599137 4.49650312 5.31921833 5.32442122\n",
      " 5.3182034  5.26225646 5.26829911 5.31934448 5.28456748 5.27469606\n",
      " 5.30239156 5.30461374 5.32633305 5.18422186 5.30300797 5.27405797\n",
      " 4.49452167 5.35952148 5.33724326 5.30975888 5.23878988 5.29582778\n",
      " 5.29257855 5.22337206 5.27120074 5.48691635 5.31013649 5.34463184\n",
      " 5.38552805 5.46148483 3.34979876 4.4615678  5.35054647 5.29381465\n",
      " 5.31445421 5.23360428 5.05564857 4.38040832 5.32717431 5.29055017\n",
      " 5.25082566 5.3486982  5.34543446 5.30201464 4.93471223 4.86567782\n",
      " 3.43284317 5.35503089 5.25016569 5.32490005 4.20948976 4.8455281\n",
      " 3.84886286 4.06642332 4.05457578 3.96453851 3.83849436 5.11129577\n",
      " 4.90832204 4.96373974 5.13026326 5.31501341 5.34794885 5.39112045\n",
      " 5.17390916 5.29178028 5.31234102 5.37586246 5.34152934 5.3805315\n",
      " 5.33678765 5.32367023 3.27912138 4.50210144 5.36658881 5.26108138\n",
      " 5.37547682 5.28979061 5.28629473 5.24815527 5.22082124 5.20609\n",
      " 5.33994235 5.21019128 5.19976222 5.32881287 5.21651473 5.15239125\n",
      " 5.22718313 5.21233259 5.35355855 5.19234444 5.27079335 5.16434415\n",
      " 5.19760424 5.25744147 5.19732032 5.27785517 5.02614612 5.43143168\n",
      " 5.07521846 4.25238945 5.26129958 5.24384621 5.16211339 5.30295171\n",
      " 4.54312755 4.90193838 5.2233876  5.19721249 5.36638852 5.1419589\n",
      " 5.32321041 4.93610309 5.22756966 5.3536348  5.20654876 5.19572128\n",
      " 5.22202822 5.41483141 5.08046192 5.4088004  5.45016097 5.30532329\n",
      " 5.15428571 5.23130593 5.1636845  5.17305659 4.41879608 5.1565365\n",
      " 5.32062783 5.12587089 5.40265048 5.21218401 5.20730175 5.13144796\n",
      " 5.42961744 5.40095512 5.25659974 5.13190722 5.1386205  5.23608062\n",
      " 5.16507125 5.30988379 5.39835901 5.3503692  5.36930864 5.43474525\n",
      " 5.40907952 5.36746585 5.35069542]\n"
     ]
    }
   ],
   "source": [
    "inv = Inversion(ert_problem, inv_options_scipy)\n",
    "inv_result = inv.run()\n",
    "inv_result.summary()"
   ]
  },
  {
   "cell_type": "code",
   "execution_count": 14,
   "id": "dcb52540",
   "metadata": {
    "execution": {
     "iopub.execute_input": "2022-08-03T01:31:57.934600Z",
     "iopub.status.busy": "2022-08-03T01:31:57.934062Z",
     "iopub.status.idle": "2022-08-03T01:31:57.943922Z",
     "shell.execute_reply": "2022-08-03T01:31:57.943225Z"
    },
    "papermill": {
     "duration": 0.027769,
     "end_time": "2022-08-03T01:31:57.945397",
     "exception": false,
     "start_time": "2022-08-03T01:31:57.917628",
     "status": "completed"
    },
    "tags": []
   },
   "outputs": [
    {
     "data": {
      "text/plain": [
       "False"
      ]
     },
     "execution_count": 14,
     "metadata": {},
     "output_type": "execute_result"
    }
   ],
   "source": [
    "inv_result.success"
   ]
  },
  {
   "cell_type": "markdown",
   "id": "2c9dd8a0",
   "metadata": {
    "papermill": {
     "duration": 0.006736,
     "end_time": "2022-08-03T01:31:57.958961",
     "exception": false,
     "start_time": "2022-08-03T01:31:57.952225",
     "status": "completed"
    },
    "tags": []
   },
   "source": [
    "Plot the results:"
   ]
  },
  {
   "cell_type": "code",
   "execution_count": 15,
   "id": "fad093e3",
   "metadata": {
    "execution": {
     "iopub.execute_input": "2022-08-03T01:31:57.973549Z",
     "iopub.status.busy": "2022-08-03T01:31:57.973370Z",
     "iopub.status.idle": "2022-08-03T01:31:58.158865Z",
     "shell.execute_reply": "2022-08-03T01:31:58.158383Z"
    },
    "papermill": {
     "duration": 0.193941,
     "end_time": "2022-08-03T01:31:58.159796",
     "exception": false,
     "start_time": "2022-08-03T01:31:57.965855",
     "status": "completed"
    },
    "tags": []
   },
   "outputs": [
    {
     "name": "stdout",
     "output_type": "stream",
     "text": [
      "============================\n",
      "Summary for inversion result\n",
      "============================\n",
      "FAILURE\n",
      "----------------------------\n",
      "status: 2\n",
      "fun: 4.96015090789872\n",
      "jac: [-5.30054030e-06  3.78314335e-06 -8.55026934e-06 -9.36818136e-07\n",
      " -1.97060620e-07 -6.83888997e-06 -4.07168948e-05 -8.86978491e-07\n",
      " -2.88829372e-06  2.07324889e-05  1.19916951e-05 -2.80271730e-06\n",
      " -9.46662352e-07 -4.41893669e-06 -1.77941068e-07 -1.21036666e-05\n",
      " -1.46466549e-06  5.25255026e-06  8.72728744e-06 -1.99888148e-06\n",
      " -2.38885420e-05  4.40875838e-06  2.37748338e-06  1.86784997e-05\n",
      " -2.80190922e-05  4.64603979e-06 -8.82350862e-06 -1.04835461e-05\n",
      " -4.90634932e-06 -1.37441127e-05 -8.05035313e-07  7.45791259e-06\n",
      "  1.92902027e-05  9.25224850e-06 -8.21727771e-06  2.96294814e-06\n",
      " -2.70764010e-06  3.29374158e-06 -3.97521065e-06  4.37567474e-06\n",
      " -2.20569328e-06  4.47264496e-06  9.24191208e-06 -3.07899998e-06\n",
      "  2.07688756e-06  7.09574929e-07  5.50356101e-06 -6.27742470e-06\n",
      "  1.79641014e-06 -7.92319465e-06 -4.68692840e-06  7.75033889e-06\n",
      "  1.56255821e-05  2.67002634e-06 -3.50604816e-06  5.31110361e-06\n",
      "  1.70808187e-05  1.18405497e-05  2.92603473e-06 -1.00009424e-05\n",
      " -1.32058738e-05 -1.00194548e-05  1.72727634e-05 -9.16204893e-06\n",
      " -3.53884345e-06  1.48597861e-05  1.17915524e-05  4.21586413e-06\n",
      "  2.95000172e-06 -1.48821691e-05 -1.02004056e-05  4.03950121e-06\n",
      "  7.31484349e-06  2.64119612e-05 -2.40386481e-05  7.82635348e-06\n",
      " -4.14882501e-06 -9.01955499e-06  9.20822138e-06 -1.37732341e-05\n",
      "  1.35753698e-07 -4.42581685e-08  3.93718649e-06 -7.52424375e-06\n",
      "  1.64450741e-06 -7.32053715e-06 -1.04845736e-06 -1.15687178e-05\n",
      " -6.15446996e-06  1.11841584e-05  7.67245687e-06  5.27831611e-06\n",
      " -2.18564857e-06 -2.45231118e-06  1.48710336e-07  4.77983427e-06\n",
      "  3.58729835e-06  1.29182264e-06 -1.75548810e-06  1.78059289e-08\n",
      " -4.24044798e-06 -6.90725015e-06 -2.34483812e-06 -2.97903082e-07\n",
      " -2.19281191e-06 -4.32786681e-06  3.17344283e-07 -6.31234562e-06\n",
      "  3.18690198e-06 -6.17581038e-07 -1.32398820e-05 -1.77353720e-07\n",
      "  1.09512089e-05  2.11498041e-06  1.38133047e-06 -6.57695247e-07\n",
      " -2.66177263e-06 -1.59695482e-07  5.91155013e-07 -7.37451763e-07\n",
      "  2.57592254e-06  4.41230421e-07 -2.53418783e-07 -4.79350370e-06\n",
      "  1.51259231e-06  2.35478517e-06 -1.49498796e-07  1.24797424e-06\n",
      "  3.59840615e-06 -4.02877250e-06  1.50568465e-06 -5.12192093e-07\n",
      "  4.66270568e-06  3.11642564e-06  4.76226273e-06  7.34781968e-07\n",
      " -1.56142630e-06  2.19870859e-06  3.14533061e-06  4.81603148e-06\n",
      "  3.33627740e-06  4.89899383e-06 -6.72440847e-06 -1.99656562e-07\n",
      "  1.91638252e-06 -3.99003180e-06  2.40365991e-06 -1.17423684e-05\n",
      "  4.23773904e-06  5.30702967e-06  3.03562242e-06  2.72870741e-06\n",
      " -1.82833229e-06  9.90580203e-07 -5.40436120e-07 -3.69944812e-06\n",
      " -6.17607283e-06  2.57742068e-06  7.87955561e-06  4.50320788e-06\n",
      "  4.35483841e-06  1.71559158e-05  3.51962392e-07 -3.54749721e-06\n",
      "  1.22686642e-05  4.10326913e-06  1.31262720e-06 -9.14447522e-06\n",
      " -1.05350357e-05  1.37249532e-06  1.07296125e-05  2.48662550e-06\n",
      " -4.16683668e-06 -3.48371281e-06 -9.93302373e-06  2.20188362e-06\n",
      " -9.97071217e-06  2.20401133e-06  1.26403794e-05 -6.64902097e-06\n",
      " -2.83429304e-08  2.71521129e-06  1.47448420e-05  4.14752831e-06\n",
      "  1.90404629e-05  1.69217773e-05 -4.57254795e-06  1.12140353e-07\n",
      "  9.05911007e-07  3.40795809e-06  5.72770549e-06  2.27831131e-06\n",
      "  3.91841873e-06  5.54574873e-07 -2.10104059e-06 -8.69320551e-06\n",
      "  5.33629472e-07 -4.46515343e-06 -2.18268058e-06 -1.13544266e-06\n",
      "  5.02992348e-06 -5.55004825e-06  7.54949289e-07 -6.09474076e-06\n",
      " -1.12743243e-05 -2.17085155e-06  7.26454730e-07  9.97126045e-07\n",
      " -7.11990464e-06  1.33884862e-06 -3.38410571e-07  5.31941434e-06\n",
      " -2.16028858e-06 -1.83185389e-05 -1.39984038e-06 -1.02539421e-05\n",
      " -8.37851639e-06 -9.23799626e-06 -1.08967374e-05 -3.99802739e-06\n",
      " -7.71463190e-06 -9.01530120e-06  1.57049733e-05 -4.71339258e-07\n",
      " -7.36390263e-06 -7.43958794e-06  3.86850026e-06 -6.79011937e-06\n",
      " -3.82370469e-06  5.26052761e-08  2.50740298e-06  2.45658426e-06\n",
      "  3.34543164e-06  2.15186203e-06 -1.58696662e-06 -4.98204608e-06\n",
      "  1.83282496e-05 -1.76119746e-06  6.12464414e-06  2.39565266e-06\n",
      " -1.89828778e-06 -1.37782200e-05 -1.46317477e-05  6.09435358e-06\n",
      "  2.24639444e-06  9.26787299e-07  4.13478191e-06 -1.44595405e-06\n",
      "  4.19085703e-06 -1.06025650e-07  1.15921721e-06  2.39986901e-06\n",
      " -2.73550109e-07 -7.13151852e-07  3.47677610e-07  2.50097453e-06\n",
      "  1.84678658e-06  1.62402049e-06  2.21257860e-06  1.36567538e-06\n",
      "  1.15627801e-06 -1.08717625e-06  9.88331902e-07 -8.83641823e-07\n",
      " -3.52118779e-06  1.31053924e-06  2.63063429e-06  1.49543365e-06\n",
      "  1.31385352e-06 -1.15734717e-06 -6.50773804e-06  4.79526469e-06\n",
      " -4.36569364e-06 -1.94797646e-06  2.59861308e-06 -3.50465593e-06\n",
      " -4.94209145e-06 -3.22617481e-06  4.47616556e-06 -4.49560664e-06\n",
      "  3.02068477e-05 -3.17678983e-06 -8.90602809e-06 -1.65398321e-06\n",
      " -2.31749214e-06 -8.75627657e-06  1.67223729e-06  2.18017828e-06\n",
      "  1.51209985e-06  1.17224416e-06  1.11631354e-06 -1.82288427e-06\n",
      "  1.43967855e-06 -1.32891691e-06 -3.22633128e-06  8.17090589e-08\n",
      " -1.84969301e-06 -3.48189138e-06 -2.64892275e-07  1.67795582e-06\n",
      " -1.31820529e-06 -5.78179693e-07 -6.54792046e-06 -1.17287888e-06\n",
      "  5.20827930e-06 -5.55735285e-06  1.02754347e-05 -8.11438227e-06\n",
      "  9.56234632e-07  1.74149830e-06 -3.39166987e-06  1.82258383e-06\n",
      " -2.81078242e-06  6.04054096e-06 -2.35453735e-06 -3.92850307e-06\n",
      " -5.00792080e-06  2.44906828e-06 -5.95738186e-06 -8.81852680e-06\n",
      "  1.07738972e-06  2.37849100e-06 -1.69314854e-06  1.01576305e-05\n",
      "  6.52551778e-07  3.00641853e-06 -1.53514386e-06 -1.85041444e-06\n",
      " -1.64470127e-06  2.74878058e-06  3.77943609e-06  1.50813516e-06\n",
      "  4.03937928e-06 -1.27164374e-06  2.01023032e-08  2.25288874e-05\n",
      "  1.68329482e-06  3.32461914e-06  1.75075205e-06 -1.35386135e-06\n",
      " -6.09943465e-06 -2.71046299e-06 -6.48060231e-07  1.06729607e-07\n",
      " -2.72009861e-07 -2.59888414e-07 -5.21182737e-06  1.42278989e-06\n",
      " -2.19714146e-06  1.26706026e-06  9.64804840e-08 -1.28924824e-06\n",
      " -1.70191134e-06 -1.07107969e-05 -7.22986706e-06 -8.14516616e-06\n",
      "  4.49381537e-06 -4.12009452e-06  2.45840725e-06  2.54398251e-06\n",
      "  1.89545536e-06 -1.63553171e-06 -5.68333050e-06 -4.44703953e-06\n",
      "  1.76841576e-05 -5.26993927e-06  1.91713187e-06  8.68736036e-07\n",
      "  4.46629930e-05 -5.12391234e-06 -4.91394978e-07  4.54770164e-06\n",
      "  2.49928643e-06  4.64550836e-06  3.34230094e-06  1.65646440e-06\n",
      " -1.82256838e-06  1.64074207e-06  5.45886198e-06 -1.25691908e-06\n",
      "  2.05294491e-06 -8.78777865e-06 -4.86328755e-06 -3.76929315e-06\n",
      " -9.05371278e-07  1.23058653e-05  1.78196083e-05  5.51022113e-06\n",
      " -1.26092603e-06 -4.12748535e-06  5.30711044e-06 -1.12456022e-06\n",
      "  5.36545089e-05  8.60851308e-06  1.07198032e-05 -1.22526342e-05\n",
      " -2.86790872e-06  1.46318250e-06  1.32426181e-05 -5.00451769e-06\n",
      " -4.17734233e-06 -3.98644879e-07 -2.94514758e-06 -4.97476880e-07\n",
      " -2.24504517e-06  7.45136617e-06 -6.66440283e-06  6.14369313e-07\n",
      " -2.78623644e-06  9.59464680e-07 -9.85601842e-07 -3.26087036e-06\n",
      " -1.32243075e-06 -1.36812711e-06  2.04378788e-06  1.41262834e-06\n",
      " -1.78826269e-06  1.87461795e-06 -2.96815974e-07  3.28621781e-07\n",
      " -2.53735823e-06  2.09868319e-06 -2.37619034e-06 -3.11169942e-06\n",
      "  1.56521586e-06 -1.28640781e-06 -2.18098035e-06  2.86502429e-06\n",
      " -1.90222047e-06 -1.27652591e-06 -5.19283847e-06  5.67436306e-07\n",
      " -5.04528379e-06  3.51904890e-06 -1.57184964e-06 -1.91221608e-06\n",
      " -6.18245889e-06 -1.72256611e-06  9.75493681e-06  6.74920079e-07\n",
      "  3.30780230e-06 -2.45535261e-07 -3.61089375e-06 -6.64083703e-06\n",
      " -3.19310657e-07  2.05384195e-06 -1.78508224e-06 -1.21672463e-05\n",
      " -4.52928672e-05 -7.44417751e-06  1.44222073e-06 -1.82014731e-06\n",
      " -2.45900519e-05 -1.65404521e-06 -7.84687505e-06 -5.70548964e-06\n",
      "  4.63741685e-06  3.32663882e-06 -2.19973194e-06 -5.05330806e-06\n",
      " -3.71846976e-06  3.55544193e-06 -7.78960790e-05  3.34824415e-05\n",
      " -9.80491774e-06 -5.95959552e-06  6.26847083e-06 -3.69703980e-06\n",
      "  2.64054087e-06 -6.32708083e-06  8.10682725e-06 -3.19591311e-06\n",
      " -3.11526667e-06  3.56224504e-06  1.01320133e-06  3.82954217e-06\n",
      " -4.41376131e-07  4.79092012e-06 -5.31249493e-06  4.49830750e-06\n",
      "  4.55859589e-06 -2.09073295e-06 -5.29714962e-06 -4.34896760e-05\n",
      "  1.61497000e-06 -2.32997518e-06  6.00004218e-06  8.54879686e-06\n",
      "  4.58828385e-05  2.44703051e-05 -8.44943319e-07  2.36795294e-06\n",
      " -4.51124044e-06 -5.06581154e-06  4.73231397e-06 -1.37560200e-06\n",
      "  2.61861248e-06 -4.31241041e-06  6.59821723e-07  2.71690610e-06\n",
      " -3.94259796e-06  1.96558649e-06  1.67244418e-06 -3.73457516e-06\n",
      "  8.39639833e-07  5.45442317e-06  9.05379393e-06  6.86756904e-08\n",
      " -5.92715261e-06 -3.78651745e-06 -1.19252167e-04  4.96340741e-06\n",
      " -2.57005516e-05 -6.00061665e-05 -5.17685602e-06  2.73955560e-06\n",
      "  1.83586005e-06  5.22853705e-06 -7.62968909e-06  2.11216501e-05\n",
      " -1.28689492e-04  5.28928466e-06 -7.90788686e-05 -2.20240648e-05\n",
      " -1.07838043e-04  3.10795607e-05 -2.31362929e-05 -5.77085189e-05\n",
      " -5.85919792e-05 -1.80003843e-04 -4.17138768e-05 -1.24905475e-04\n",
      "  4.93529062e-06  4.11065409e-05 -1.07262997e-04 -1.43135123e-04\n",
      " -3.24320957e-05  6.89394288e-05 -8.53209420e-05 -1.74540333e-04\n",
      " -1.83784600e-04  1.82551944e-05 -7.06721234e-05 -1.62247684e-05\n",
      "  2.48564001e-06 -4.55235720e-06 -1.44290948e-06  1.64711583e-05\n",
      "  9.56740948e-06 -9.36955155e-06 -4.87058118e-06  6.22545599e-06\n",
      "  1.32518702e-05 -3.10167622e-06 -3.53924219e-06 -3.64657905e-07\n",
      " -3.22461801e-06  3.20519186e-06 -1.09837534e-04 -7.28466752e-05\n",
      " -1.34273683e-04 -5.23558128e-06 -5.47112620e-06 -1.12980714e-04\n",
      " -1.52064827e-05  4.49443476e-06 -2.65532805e-05  4.39965683e-06\n",
      " -7.10899795e-06 -1.38755553e-05 -1.58027516e-05 -1.65104860e-05\n",
      " -4.55620188e-06 -1.02236437e-05 -1.24484517e-05  3.21474425e-05\n",
      " -2.65992712e-05 -3.05485212e-05  1.14872393e-05  1.76894165e-05\n",
      " -4.24884632e-06 -7.94117290e-06  4.64541924e-06  9.47967328e-06\n",
      " -2.18393347e-06 -2.22299640e-06 -1.60119739e-04 -1.38030300e-04\n",
      "  4.16421517e-06  1.16275947e-05  1.08010481e-05  8.95108298e-06\n",
      "  3.48495529e-06  7.41525892e-06  1.19302089e-05  1.42332154e-05\n",
      "  3.73854831e-05  2.53220902e-05  2.05679881e-05  1.45473205e-05\n",
      " -7.10205524e-06  2.46204259e-05 -1.09374393e-05 -3.87699730e-05\n",
      " -1.53095806e-04 -1.46840765e-04  1.80579619e-06 -1.59248297e-06\n",
      "  7.89261420e-06  1.67283618e-05  2.18515963e-05  1.09572435e-05\n",
      "  1.94507921e-05  1.57735930e-05 -1.49901568e-04  6.68852897e-07\n",
      " -3.26503864e-06 -6.31396708e-06  3.00657141e-05 -1.50489491e-05\n",
      " -8.17714228e-05 -8.93442864e-05  1.08282594e-05  1.12690096e-05\n",
      "  1.98197396e-05  1.59380666e-05 -5.80994688e-06 -7.74434007e-07\n",
      " -5.74274526e-06 -1.02963820e-06 -5.11503189e-06 -5.86890399e-06\n",
      " -1.14928978e-04 -3.96149387e-05 -2.71355562e-06  1.18108104e-05\n",
      " -9.18914524e-05  2.85513610e-05 -3.54942139e-06 -1.02144156e-05\n",
      " -2.86660477e-06 -5.75696872e-06 -6.49933117e-06  8.48696241e-08\n",
      " -1.50098406e-08  3.80947653e-06  5.90704899e-05  1.02796382e-05\n",
      " -1.78441495e-06 -4.20778631e-06  2.00472305e-06 -3.08648880e-06\n",
      " -5.42616704e-06 -6.24459507e-06  8.99259300e-06  1.25659794e-06\n",
      "  2.79373569e-05  2.06319035e-05 -2.07053272e-06 -1.77096825e-06\n",
      " -6.62717998e-06 -6.41663074e-06 -3.55686119e-06 -2.43873561e-06\n",
      " -2.06923717e-06 -1.31935657e-05  7.17979145e-06  1.46356220e-05\n",
      "  6.20931994e-06 -3.69968203e-06 -9.46073441e-06  2.14238874e-05\n",
      "  8.43185789e-06  3.06520222e-05 -9.29420408e-06 -4.62509317e-06\n",
      " -4.67785503e-05 -1.09960846e-06 -4.97020283e-06 -4.52320382e-06\n",
      " -3.49390866e-05  6.08367068e-05 -9.03863374e-06 -6.89773188e-06\n",
      " -1.05263199e-05 -8.42425488e-06  8.66375858e-07  3.97465970e-05\n",
      "  2.36017793e-05  3.50864514e-05 -4.78763428e-06  5.79078964e-07\n",
      "  3.73291861e-05  1.91015875e-05 -1.13521914e-05 -1.24845124e-05\n",
      " -9.40216292e-05  1.03290093e-05 -2.20519961e-06 -1.27807319e-05\n",
      "  9.58960197e-06  1.93074222e-05 -9.72600324e-06  3.35049079e-05\n",
      " -8.33032180e-05 -1.54234376e-04  2.45711526e-05  4.32173182e-05\n",
      " -1.10087646e-04 -5.25619261e-05 -1.29017814e-06  1.54755610e-05\n",
      "  1.56938940e-06  8.41330906e-06  1.86993861e-06  2.88838808e-05\n",
      " -6.95111295e-05 -3.72764287e-05  7.26056725e-07 -7.90812138e-06\n",
      "  9.80465000e-06  1.18952615e-05  1.42343616e-06 -4.84983240e-06\n",
      "  1.76160084e-05 -6.21473093e-05  7.34553948e-05  5.53257892e-06\n",
      "  1.44569077e-05 -9.53766866e-05 -6.59659037e-05 -9.54676527e-05\n",
      "  2.08346917e-05  9.12526045e-05  1.63607753e-05 -6.37975833e-05\n",
      "  4.74447084e-05  1.69676323e-05  8.82606510e-06  2.81048454e-05\n",
      "  2.27912705e-05 -7.62704916e-06 -4.63455846e-06  4.54560297e-05\n",
      "  5.12863602e-05  1.81038974e-06  1.25433814e-04  7.80819341e-06\n",
      "  3.05277195e-05  2.53478363e-05 -4.23304157e-06  1.80061337e-05\n",
      " -1.58599878e-04 -5.64237796e-05  4.67339141e-05  2.20370461e-05\n",
      "  4.15151129e-05  5.58974973e-05  3.87292557e-05 -6.37042687e-06\n",
      " -1.83448740e-06  9.52932680e-06  1.01636002e-04  1.73358297e-05\n",
      "  7.00408986e-06  2.86661459e-05  1.82796700e-05  1.78368726e-05\n",
      "  4.60444910e-05  3.34898400e-05  6.29147579e-05  2.57630429e-05\n",
      "  1.41699408e-05  3.44787436e-05  9.72561783e-05  7.95740252e-05\n",
      "  5.76928545e-05  4.71377113e-05 -6.32253425e-05  2.43392691e-06\n",
      " -1.49791702e-05 -1.12385079e-05  3.42289980e-05  7.64593073e-05\n",
      "  2.05297656e-04  5.18703802e-05  3.19659613e-05  1.47979862e-05\n",
      "  1.21473114e-04  5.04252647e-05  4.56341528e-05  3.48235857e-05\n",
      "  3.88141400e-05 -2.64305418e-05  5.05132209e-05  5.95925611e-05\n",
      "  1.78188629e-04  2.43923091e-04  6.81789932e-05  4.98231861e-05\n",
      " -2.44601945e-05  7.00865613e-08  5.52405929e-06  2.55505600e-05\n",
      "  4.53119214e-05 -1.42946919e-05  9.94430402e-05  2.31527800e-04\n",
      " -5.89369789e-05  1.64144659e-05 -3.07317235e-07  3.37141470e-04\n",
      "  3.15858482e-05 -1.45162150e-05  7.24343320e-05  1.82964471e-04\n",
      "  1.22224843e-05  2.32346419e-07  1.10576871e-04  2.53476998e-04\n",
      "  3.52436720e-04  1.80964139e-04  2.89843159e-04  1.21798553e-04\n",
      "  6.45126168e-05  7.26590487e-06  4.26068022e-05  3.47330695e-06\n",
      "  3.60605715e-05  6.66802929e-05  1.06401063e-04]\n",
      "nfev: 170\n",
      "njev: 99\n",
      "nhev: 170\n",
      "nit: 168\n",
      "message: A bad approximation caused failure to predict improvement.\n",
      "hess: [[ 3.96113592e+00  5.74168132e-04  8.25715533e-04 ...  4.47852276e-04\n",
      "   8.75643787e-04  5.78260244e-03]\n",
      " [ 5.74168132e-04  2.94687426e-01  2.36108709e-05 ... -1.24619452e-04\n",
      "  -6.97665243e-04  3.02420758e-03]\n",
      " [ 8.25715533e-04  2.36108709e-05  5.73676814e-01 ...  1.19218414e-05\n",
      "  -1.44166056e-04 -6.81610453e-04]\n",
      " ...\n",
      " [ 4.47852276e-04 -1.24619452e-04  1.19218414e-05 ...  7.61398070e-03\n",
      "   6.89760494e-03  2.08680337e-02]\n",
      " [ 8.75643787e-04 -6.97665243e-04 -1.44166056e-04 ...  6.89760494e-03\n",
      "   9.71239608e-03  2.22361131e-02]\n",
      " [ 5.78260244e-03  3.02420758e-03 -6.81610453e-04 ...  2.08680337e-02\n",
      "   2.22361131e-02  1.06762011e-01]]\n",
      "model: [5.30290716 5.30272327 5.33624742 5.3450431  5.27842313 5.30615326\n",
      " 5.31235345 5.29849973 5.32367711 5.31169458 5.30578344 5.30187877\n",
      " 5.30897711 5.3352062  5.2878191  5.35483784 5.31829694 5.29404985\n",
      " 5.30074932 5.29778971 5.33189437 5.23599258 5.32704834 5.3229467\n",
      " 5.3355402  5.28401136 5.30816253 5.31621868 5.30295417 5.33432889\n",
      " 5.31159613 5.31631834 5.34360874 5.34326845 5.28769897 5.30904511\n",
      " 5.34422404 5.30392468 5.31616372 5.28483676 5.32240903 5.27141143\n",
      " 5.30442337 5.31824436 5.27751543 5.30667537 5.30608073 5.33159885\n",
      " 5.30641522 5.29503415 5.31649995 5.28501971 5.28758585 5.30992825\n",
      " 5.32887388 5.29865565 5.27644099 5.0255851  5.27990309 5.26340021\n",
      " 5.30871771 5.30119634 5.26812944 5.32492272 5.30243482 5.31057063\n",
      " 5.29886206 5.25091933 5.29847164 5.27665286 5.27400776 5.34943275\n",
      " 5.27163286 5.3176202  5.31793237 5.30948855 5.33015683 5.27203076\n",
      " 5.3357034  5.30714663 5.34353942 5.29511851 5.29649494 5.33813735\n",
      " 5.31985553 5.31142772 5.33867623 5.29396293 5.30097212 5.30031813\n",
      " 5.29879739 5.31812224 5.27654453 5.3256582  5.31211032 5.29127572\n",
      " 5.29247261 5.33843808 5.29123333 5.28829354 5.30341165 5.26994715\n",
      " 5.32800257 5.30107743 5.30089267 5.28395975 5.2686327  5.36348511\n",
      " 5.29522193 5.29704912 5.29198993 5.26993031 5.31732941 5.32117806\n",
      " 5.25765741 5.31232556 5.30297875 5.28124828 5.26696598 5.31062787\n",
      " 5.31111487 5.34600531 5.32220632 5.3276416  5.30898155 5.27573112\n",
      " 5.26789532 5.3228077  5.31704724 5.29234165 5.34754546 5.32741677\n",
      " 5.29941455 5.34270452 5.30967368 5.32691858 5.31781277 5.28471732\n",
      " 5.29346067 5.28067133 5.30856912 5.29055902 5.31840888 5.31338692\n",
      " 5.32403848 5.25728158 5.32121916 5.27846524 5.31679744 5.28956866\n",
      " 5.30701545 5.3099878  5.31175679 5.30968478 5.30081889 5.3189427\n",
      " 5.33501669 5.30209926 5.23422983 5.30301519 5.288673   5.26247214\n",
      " 5.28944635 5.2944508  5.32507865 5.25474733 5.31789248 5.30040074\n",
      " 5.28462442 5.29427541 5.30535885 5.29423495 5.30282018 5.30034756\n",
      " 5.29473657 5.2762966  5.27475539 5.30154312 5.33195504 5.30424433\n",
      " 5.30021885 5.31652178 5.30353517 5.28790084 5.32277787 5.30821979\n",
      " 5.31573594 5.28882663 5.30214891 5.30836524 5.32818008 5.29209442\n",
      " 5.32312585 5.34494075 5.29035622 5.33826251 5.28072764 5.33340489\n",
      " 5.329861   5.31729849 5.27742636 5.29837047 5.31979489 5.31170905\n",
      " 5.31538906 5.29793039 5.29544579 5.30863245 5.26331953 5.31827118\n",
      " 5.27226327 5.3398672  5.35661309 5.30648471 5.26702815 5.29960339\n",
      " 5.32424407 5.26716963 5.26661685 5.2851456  5.29209954 5.34555017\n",
      " 5.28891294 5.30994702 5.31814997 5.31902871 5.33173993 5.34333846\n",
      " 5.34410572 5.27791263 5.32935871 5.2756816  5.27296878 5.32464594\n",
      " 5.33786339 5.31796381 5.27254994 5.29457847 5.30335986 5.30293762\n",
      " 5.28911624 5.30817875 5.3238985  5.28341669 5.28995431 5.29371657\n",
      " 5.27769483 5.28617618 5.3008458  5.29235386 5.28910345 5.32749325\n",
      " 5.34628592 5.31302292 5.31157227 5.2769943  5.31025767 5.30559578\n",
      " 5.28364162 5.31753517 5.29682785 5.32908545 5.30460991 5.29908418\n",
      " 5.31837093 5.28949246 5.31211659 5.30665957 5.30084073 5.29841186\n",
      " 5.29686635 5.30461484 5.29113802 5.30349391 5.32612879 5.30754709\n",
      " 5.30775692 5.29277118 5.31515197 5.29123386 5.34431333 5.30978235\n",
      " 5.29881011 5.26578528 5.30383773 5.30396068 5.31511624 5.30454554\n",
      " 5.30858703 5.33219228 5.30696239 5.28529227 5.2727849  5.31135045\n",
      " 5.30994162 5.32457101 5.30181588 5.29742424 5.31656313 5.2741421\n",
      " 5.2835302  5.30340038 5.31399926 5.33431021 5.3314269  5.30123645\n",
      " 5.33585794 5.37309595 5.34800845 5.30029013 5.33533637 5.26978563\n",
      " 5.36764572 5.29209198 5.29700044 5.35984494 5.30068503 5.31456145\n",
      " 5.31741124 5.33842497 5.26941    5.3277323  5.30726106 5.01903432\n",
      " 5.28339702 5.28416767 5.31934867 5.30623486 5.29191992 5.29335154\n",
      " 5.30437476 5.32538626 5.32079419 5.30308928 5.31226724 4.03245401\n",
      " 5.29421057 5.30209962 5.29445619 5.30736197 5.31858792 5.31757235\n",
      " 5.32844858 5.30187445 5.26045273 5.30569217 5.31042254 5.31317726\n",
      " 5.2828162  5.29654622 5.31035451 5.29694264 5.31007349 5.2765826\n",
      " 5.27815036 5.31927719 5.29101231 5.24654459 5.26808072 5.33227112\n",
      " 5.30328293 5.31758882 5.31347604 5.30002748 5.30765432 5.31653968\n",
      " 5.2885916  5.31802574 5.4176045  5.27991931 5.26412354 5.29804239\n",
      " 5.33637513 5.291287   5.32243144 5.30119175 5.30203566 5.30920315\n",
      " 5.32121861 5.36323296 5.3895075  5.28515966 5.32170142 5.27477386\n",
      " 5.38112567 5.30538711 5.34004225 5.2062861  5.24079441 5.36435875\n",
      " 5.22159439 5.25367562 3.50583279 5.39545379 5.32959479 5.31619021\n",
      " 5.3600242  5.34920506 5.35776357 4.98635085 5.34220486 5.33127303\n",
      " 5.28307855 5.30320783 4.86328764 5.31629774 5.34571919 5.13126413\n",
      " 5.3058971  5.31841849 5.3130783  5.31015013 5.29461886 5.32384202\n",
      " 5.31306729 5.29089889 5.29974373 5.30181495 5.2841847  5.28836532\n",
      " 5.30355703 5.31616229 5.31093755 5.31299145 5.2901482  5.28913545\n",
      " 5.28812599 5.27610537 5.32007869 5.29408375 5.29972724 5.3159323\n",
      " 5.31623467 5.32704945 5.32575673 5.32539717 5.29077938 5.30512648\n",
      " 5.29626913 5.28041816 5.32639983 5.30043056 5.30304243 5.31584142\n",
      " 5.27553266 5.2802986  5.26633559 5.31403184 5.29594547 5.28674739\n",
      " 5.31999876 5.29202493 5.36349006 5.30594285 5.29989091 5.33976847\n",
      " 5.27804261 5.30427619 5.30241083 5.27244181 5.31647826 5.30889153\n",
      " 5.3561065  5.30894864 5.29252295 5.34296345 5.28692012 5.29350766\n",
      " 5.28163063 5.29052466 5.32384485 5.30670795 5.28367948 5.27474286\n",
      " 5.33040391 5.29733468 5.28169199 5.29060929 5.28954525 5.28709025\n",
      " 5.29678104 5.30934302 5.34595104 5.41770881 5.30158301 5.29984363\n",
      " 5.32396915 5.32681416 5.32358237 5.30183293 5.3291834  5.16800607\n",
      " 5.32132569 5.31913257 5.29757432 5.32315277 5.30685003 5.31654183\n",
      " 5.29650907 5.27303088 5.3472388  5.29552944 5.30175355 5.2820843\n",
      " 5.32437327 5.32173427 5.3018317  5.34121911 5.25941036 5.33648304\n",
      " 5.41966055 5.30588319 5.31614449 5.31720848 5.28551124 5.34480228\n",
      " 5.2740063  5.22417095 5.34580594 5.30536463 5.40616253 5.29911127\n",
      " 5.35352979 5.31741822 5.34346088 5.32684716 5.30291534 5.36123043\n",
      " 5.37235803 5.50004318 5.3219734  5.37933962 5.34527699 5.33684851\n",
      " 5.53442309 5.37789456 5.35876501 5.33005469 5.38136481 5.51637365\n",
      " 5.47772476 5.33654442 5.38323583 5.35245877 5.34191296 5.34424857\n",
      " 4.79772104 5.35910651 5.27439947 5.27258517 5.3029662  5.25829051\n",
      " 5.03792124 5.3055923  5.28373427 5.29158183 5.32486782 5.30229336\n",
      " 5.34911803 5.3340192  5.44090501 5.36996189 5.30732643 5.39453478\n",
      " 5.38962799 4.97075804 5.29836212 5.29354258 5.27689481 5.30658937\n",
      " 5.30107084 5.29878208 5.26393872 5.29085105 5.28440258 5.30634406\n",
      " 5.29394864 5.29604381 5.27832808 5.30227258 5.32018183 5.26851919\n",
      " 4.80165599 4.82188924 5.34513675 5.35685923 5.41504157 5.38434092\n",
      " 5.31439182 5.32290136 5.26270958 4.38563034 5.28443695 5.26320332\n",
      " 5.2832767  5.26974496 5.30339246 5.29371805 5.34175144 5.24806564\n",
      " 5.26739212 5.28695052 5.41107907 5.34574202 5.47708646 5.53074691\n",
      " 4.40664785 4.98897596 5.28241521 5.24067661 5.28321134 5.27001495\n",
      " 5.27151885 5.26536172 5.44859743 5.3107053  5.2781148  5.28608732\n",
      " 4.50829334 5.01131668 4.44876669 5.42878663 4.37875576 4.35712165\n",
      " 5.29694405 5.26534766 5.32304944 5.3271836  5.35172968 5.2850824\n",
      " 5.32789263 5.29070364 5.41190619 5.31571608 5.30799588 5.28650694\n",
      " 5.05991997 3.98803544 4.8331066  4.07602137 5.3494493  5.31720021\n",
      " 5.33669345 5.24328728 5.31085819 5.28427808 3.37653316 5.20336917\n",
      " 5.29663408 5.31988417 5.27925328 5.27862599 5.27721938 5.29461996\n",
      " 5.26751796 5.261298   5.33319398 5.29495712 5.32184214 5.33895189\n",
      " 5.33986281 5.27473876 5.29251661 5.27122825 5.24020148 5.33526048\n",
      " 5.26849178 5.31132072 5.3023344  5.29332106 5.3380393  5.29199116\n",
      " 5.26906613 5.33756135 5.28063039 5.27250908 3.30480896 5.29598511\n",
      " 5.33657513 5.2540043  5.23599137 4.49650312 5.31921833 5.32442122\n",
      " 5.3182034  5.26225646 5.26829911 5.31934448 5.28456748 5.27469606\n",
      " 5.30239156 5.30461374 5.32633305 5.18422186 5.30300797 5.27405797\n",
      " 4.49452167 5.35952148 5.33724326 5.30975888 5.23878988 5.29582778\n",
      " 5.29257855 5.22337206 5.27120074 5.48691635 5.31013649 5.34463184\n",
      " 5.38552805 5.46148483 3.34979876 4.4615678  5.35054647 5.29381465\n",
      " 5.31445421 5.23360428 5.05564857 4.38040832 5.32717431 5.29055017\n",
      " 5.25082566 5.3486982  5.34543446 5.30201464 4.93471223 4.86567782\n",
      " 3.43284317 5.35503089 5.25016569 5.32490005 4.20948976 4.8455281\n",
      " 3.84886286 4.06642332 4.05457578 3.96453851 3.83849436 5.11129577\n",
      " 4.90832204 4.96373974 5.13026326 5.31501341 5.34794885 5.39112045\n",
      " 5.17390916 5.29178028 5.31234102 5.37586246 5.34152934 5.3805315\n",
      " 5.33678765 5.32367023 3.27912138 4.50210144 5.36658881 5.26108138\n",
      " 5.37547682 5.28979061 5.28629473 5.24815527 5.22082124 5.20609\n",
      " 5.33994235 5.21019128 5.19976222 5.32881287 5.21651473 5.15239125\n",
      " 5.22718313 5.21233259 5.35355855 5.19234444 5.27079335 5.16434415\n",
      " 5.19760424 5.25744147 5.19732032 5.27785517 5.02614612 5.43143168\n",
      " 5.07521846 4.25238945 5.26129958 5.24384621 5.16211339 5.30295171\n",
      " 4.54312755 4.90193838 5.2233876  5.19721249 5.36638852 5.1419589\n",
      " 5.32321041 4.93610309 5.22756966 5.3536348  5.20654876 5.19572128\n",
      " 5.22202822 5.41483141 5.08046192 5.4088004  5.45016097 5.30532329\n",
      " 5.15428571 5.23130593 5.1636845  5.17305659 4.41879608 5.1565365\n",
      " 5.32062783 5.12587089 5.40265048 5.21218401 5.20730175 5.13144796\n",
      " 5.42961744 5.40095512 5.25659974 5.13190722 5.1386205  5.23608062\n",
      " 5.16507125 5.30988379 5.39835901 5.3503692  5.36930864 5.43474525\n",
      " 5.40907952 5.36746585 5.35069542]\n"
     ]
    },
    {
     "data": {
      "text/plain": [
       "Text(0.5, 1.0, 'Inferred model')"
      ]
     },
     "execution_count": 15,
     "metadata": {},
     "output_type": "execute_result"
    },
    {
     "data": {
      "image/png": "[encoded data removed]",
      "text/plain": [
       "<Figure size 432x288 with 2 Axes>"
      ]
     },
     "metadata": {
      "needs_background": "light"
     },
     "output_type": "display_data"
    }
   ],
   "source": [
    "# convert back to normal space from log space\n",
    "model = np.exp(inv_result.model)\n",
    "\n",
    "# plot inferred model\n",
    "inv_result.summary()\n",
    "ax = pygimli.show(ert_manager.paraDomain, data=model, label=r\"$\\Omega m$\")\n",
    "ax[0].set_title(\"Inferred model\")"
   ]
  },
  {
   "cell_type": "code",
   "execution_count": 16,
   "id": "dbdad52e",
   "metadata": {
    "execution": {
     "iopub.execute_input": "2022-08-03T01:31:58.177284Z",
     "iopub.status.busy": "2022-08-03T01:31:58.176880Z",
     "iopub.status.idle": "2022-08-03T01:31:58.786325Z",
     "shell.execute_reply": "2022-08-03T01:31:58.785834Z"
    },
    "papermill": {
     "duration": 0.619511,
     "end_time": "2022-08-03T01:31:58.787245",
     "exception": false,
     "start_time": "2022-08-03T01:31:58.167734",
     "status": "completed"
    },
    "tags": []
   },
   "outputs": [
    {
     "data": {
      "text/plain": [
       "Text(0.5, 1.0, 'Synthetic data from inferred model')"
      ]
     },
     "execution_count": 16,
     "metadata": {},
     "output_type": "execute_result"
    },
    {
     "data": {
      "image/png": "[encoded data removed]",
      "text/plain": [
       "<Figure size 432x288 with 2 Axes>"
      ]
     },
     "metadata": {
      "needs_background": "light"
     },
     "output_type": "display_data"
    }
   ],
   "source": [
    "# plot synthetic data\n",
    "d = forward_oprt.response(model)\n",
    "ax = ert.showERTData(scheme, vals=d, cMin=np.min(data[\"rhoa\"]), cMax=np.max(data[\"rhoa\"]))\n",
    "ax[0].set_title(\"Synthetic data from inferred model\")"
   ]
  },
  {
   "cell_type": "markdown",
   "id": "e63a135a",
   "metadata": {
    "papermill": {
     "duration": 0.007889,
     "end_time": "2022-08-03T01:31:58.804619",
     "exception": false,
     "start_time": "2022-08-03T01:31:58.796730",
     "status": "completed"
    },
    "tags": []
   },
   "source": [
    "### 2.2 A custom [Newton's optimisation](https://en.wikipedia.org/wiki/Newton%27s_method_in_optimization) approach\n",
    "\n",
    "Now we switch to a Newton's iterative approach written by ourselves, so you'll \n",
    "have a closer look at what's happening in the loop.\n",
    "\n",
    "First of all, define our own solver."
   ]
  },
  {
   "cell_type": "code",
   "execution_count": 17,
   "id": "a21b92a9",
   "metadata": {
    "execution": {
     "iopub.execute_input": "2022-08-03T01:31:58.821392Z",
     "iopub.status.busy": "2022-08-03T01:31:58.821196Z",
     "iopub.status.idle": "2022-08-03T01:31:58.826650Z",
     "shell.execute_reply": "2022-08-03T01:31:58.826202Z"
    },
    "papermill": {
     "duration": 0.015097,
     "end_time": "2022-08-03T01:31:58.827524",
     "exception": false,
     "start_time": "2022-08-03T01:31:58.812427",
     "status": "completed"
    },
    "tags": []
   },
   "outputs": [],
   "source": [
    "class GaussNewton(BaseSolver):\n",
    "    def __init__(self, inv_problem, inv_options):\n",
    "        __params = inv_options.get_params()\n",
    "        self._niter = __params.get(\"niter\", 100)\n",
    "        self._verbose = __params.get(\"verbose\", True)\n",
    "        self._step = __params.get(\"step\", 1)\n",
    "        self._model_0 = inv_problem.initial_model\n",
    "        self._residual = inv_problem.residual\n",
    "        self._jacobian = inv_problem.jacobian\n",
    "        self._gradient = inv_problem.gradient\n",
    "        self._hessian = inv_problem.hessian\n",
    "        self._misfit = inv_problem.data_misfit if inv_problem.data_misfit_defined else None\n",
    "        self._reg = inv_problem.regularisation if inv_problem.regularisation_defined else None\n",
    "        self._obj = inv_problem.objective if inv_problem.objective_defined else None\n",
    "\n",
    "    def __call__(self):\n",
    "        current_model = np.array(self._model_0)\n",
    "        for i in range(self._niter):\n",
    "            if self._verbose:\n",
    "                print(\"-\" * 80)\n",
    "                print(f\"Iteration {i+1}\")\n",
    "                print(\"model min and max:\", np.min(current_model), np.max(current_model))\n",
    "                if self._misfit: print(\"data misfit:\", self._misfit(current_model))\n",
    "                if self._reg: print(\"regularisation:\", self._reg(current_model))\n",
    "            term1 = self._hessian(current_model)\n",
    "            term2 = - self._gradient(current_model)\n",
    "            model_update = np.linalg.solve(term1, term2) * self._step\n",
    "            current_model = current_model + model_update\n",
    "        return {\"model\": current_model, \"success\": True}"
   ]
  },
  {
   "cell_type": "markdown",
   "id": "b9623998",
   "metadata": {
    "papermill": {
     "duration": 0.007773,
     "end_time": "2022-08-03T01:31:58.843274",
     "exception": false,
     "start_time": "2022-08-03T01:31:58.835501",
     "status": "completed"
    },
    "tags": []
   },
   "source": [
    "Now, make use of this custom solver and run inversion again:"
   ]
  },
  {
   "cell_type": "code",
   "execution_count": 18,
   "id": "6defb206",
   "metadata": {
    "execution": {
     "iopub.execute_input": "2022-08-03T01:31:58.859619Z",
     "iopub.status.busy": "2022-08-03T01:31:58.859461Z",
     "iopub.status.idle": "2022-08-03T01:36:37.796898Z",
     "shell.execute_reply": "2022-08-03T01:36:37.795186Z"
    },
    "papermill": {
     "duration": 278.948108,
     "end_time": "2022-08-03T01:36:37.799155",
     "exception": false,
     "start_time": "2022-08-03T01:31:58.851047",
     "status": "completed"
    },
    "tags": []
   },
   "outputs": [
    {
     "name": "stdout",
     "output_type": "stream",
     "text": [
      "--------------------------------------------------------------------------------\n",
      "Iteration 1\n",
      "model min and max: 5.291310843489913 5.291310843489913\n",
      "data misfit: 229.71418345445022\n",
      "regularisation: 0.0\n"
     ]
    },
    {
     "name": "stdout",
     "output_type": "stream",
     "text": [
      "--------------------------------------------------------------------------------\n",
      "Iteration 2\n",
      "model min and max: 5.275884701683029 5.304449604934593\n",
      "data misfit: 227.23411332788962\n",
      "regularisation: 0.010102187048030783\n"
     ]
    },
    {
     "name": "stdout",
     "output_type": "stream",
     "text": [
      "--------------------------------------------------------------------------------\n",
      "Iteration 3\n",
      "model min and max: 5.262031885900456 5.310706445059947\n",
      "data misfit: 224.88018892913274\n",
      "regularisation: 0.023828812726623613\n"
     ]
    },
    {
     "name": "stdout",
     "output_type": "stream",
     "text": [
      "--------------------------------------------------------------------------------\n",
      "Iteration 4\n",
      "model min and max: 5.248398551565956 5.315148641785338\n",
      "data misfit: 222.5841638420562\n",
      "regularisation: 0.03833074053511782\n"
     ]
    },
    {
     "name": "stdout",
     "output_type": "stream",
     "text": [
      "--------------------------------------------------------------------------------\n",
      "Iteration 5\n",
      "model min and max: 5.235210460904474 5.318970381280445\n",
      "data misfit: 220.32501943579953\n",
      "regularisation: 0.05346144871876975\n"
     ]
    },
    {
     "name": "stdout",
     "output_type": "stream",
     "text": [
      "--------------------------------------------------------------------------------\n",
      "Iteration 6\n",
      "model min and max: 5.221988655748717 5.322505463476199\n",
      "data misfit: 218.09539040624733\n",
      "regularisation: 0.06913735737874388\n"
     ]
    },
    {
     "name": "stdout",
     "output_type": "stream",
     "text": [
      "--------------------------------------------------------------------------------\n",
      "Iteration 7\n",
      "model min and max: 5.208735295257404 5.325860648352957\n",
      "data misfit: 215.892125425656\n",
      "regularisation: 0.08529292762625605\n"
     ]
    },
    {
     "name": "stdout",
     "output_type": "stream",
     "text": [
      "--------------------------------------------------------------------------------\n",
      "Iteration 8\n",
      "model min and max: 5.195697353190847 5.329074034023867\n",
      "data misfit: 213.71361019906533\n",
      "regularisation: 0.10188094041714764\n"
     ]
    },
    {
     "name": "stdout",
     "output_type": "stream",
     "text": [
      "--------------------------------------------------------------------------------\n",
      "Iteration 9\n",
      "model min and max: 5.182852523974191 5.332161355802607\n"
     ]
    },
    {
     "name": "stdout",
     "output_type": "stream",
     "text": [
      "data misfit: 211.5588753156785\n",
      "regularisation: 0.1188669895241025\n"
     ]
    },
    {
     "name": "stdout",
     "output_type": "stream",
     "text": [
      "--------------------------------------------------------------------------------\n",
      "Iteration 10\n",
      "model min and max: 5.170183680331992 5.335368509287406\n",
      "data misfit: 209.4272561757092\n",
      "regularisation: 0.136224060259363\n"
     ]
    },
    {
     "name": "stdout",
     "output_type": "stream",
     "text": [
      "--------------------------------------------------------------------------------\n",
      "Iteration 11\n",
      "model min and max: 5.157677506123857 5.338687354756616\n",
      "data misfit: 207.3182453718031\n",
      "regularisation: 0.15392888174445676\n"
     ]
    },
    {
     "name": "stdout",
     "output_type": "stream",
     "text": [
      "--------------------------------------------------------------------------------\n",
      "Iteration 12\n",
      "model min and max: 5.145323421153337 5.341863067682297\n",
      "data misfit: 205.23142386946935\n",
      "regularisation: 0.1719597770425735\n"
     ]
    },
    {
     "name": "stdout",
     "output_type": "stream",
     "text": [
      "--------------------------------------------------------------------------------\n",
      "Iteration 13\n",
      "model min and max: 5.133112822085423 5.344904921854035\n"
     ]
    },
    {
     "name": "stdout",
     "output_type": "stream",
     "text": [
      "data misfit: 203.16642492615006\n",
      "regularisation: 0.19029556215911583\n"
     ]
    },
    {
     "name": "stdout",
     "output_type": "stream",
     "text": [
      "--------------------------------------------------------------------------------\n",
      "Iteration 14\n",
      "model min and max: 5.121038565645402 5.347822179938559\n",
      "data misfit: 201.12291605687238\n",
      "regularisation: 0.2089150526014612\n"
     ]
    },
    {
     "name": "stdout",
     "output_type": "stream",
     "text": [
      "--------------------------------------------------------------------------------\n",
      "Iteration 15\n",
      "model min and max: 5.109094612573696 5.350623899377063\n",
      "data misfit: 199.1005873204019\n",
      "regularisation: 0.22779693654114716\n"
     ]
    },
    {
     "name": "stdout",
     "output_type": "stream",
     "text": [
      "--------------------------------------------------------------------------------\n",
      "Iteration 16\n",
      "model min and max: 5.097275776224142 5.353318771427106\n",
      "data misfit: 197.09914546356381\n",
      "regularisation: 0.24691982779218852\n"
     ]
    },
    {
     "name": "stdout",
     "output_type": "stream",
     "text": [
      "--------------------------------------------------------------------------------\n",
      "Iteration 17\n",
      "model min and max: 5.085577543218312 5.355915037499392\n",
      "data misfit: 195.1183106780502\n",
      "regularisation: 0.2662624014293795\n"
     ]
    },
    {
     "name": "stdout",
     "output_type": "stream",
     "text": [
      "--------------------------------------------------------------------------------\n",
      "Iteration 18\n",
      "model min and max: 5.073995942552032 5.358420418108902\n",
      "data misfit: 193.15781346330175\n",
      "regularisation: 0.28580356014372404\n"
     ]
    },
    {
     "name": "stdout",
     "output_type": "stream",
     "text": [
      "--------------------------------------------------------------------------------\n",
      "Iteration 19\n",
      "model min and max: 5.062527443233031 5.360842098918295\n",
      "data misfit: 191.21739387575644\n",
      "regularisation: 0.30552259718444025\n"
     ]
    },
    {
     "name": "stdout",
     "output_type": "stream",
     "text": [
      "--------------------------------------------------------------------------------\n",
      "Iteration 20\n",
      "model min and max: 5.051168876563746 5.363186710295556\n",
      "data misfit: 189.29679965235673\n",
      "regularisation: 0.32539933587795333\n"
     ]
    },
    {
     "name": "stdout",
     "output_type": "stream",
     "text": [
      "--------------------------------------------------------------------------------\n",
      "Iteration 21\n",
      "model min and max: 5.039917379336293 5.36546036416221\n",
      "data misfit: 187.3957862579242\n",
      "regularisation: 0.34541424596735104\n"
     ]
    },
    {
     "name": "stdout",
     "output_type": "stream",
     "text": [
      "--------------------------------------------------------------------------------\n",
      "Iteration 22\n",
      "model min and max: 5.028770340585007 5.367668656123106\n"
     ]
    },
    {
     "name": "stdout",
     "output_type": "stream",
     "text": [
      "data misfit: 185.514115785678\n",
      "regularisation: 0.36554853574010154\n"
     ]
    },
    {
     "name": "stdout",
     "output_type": "stream",
     "text": [
      "--------------------------------------------------------------------------------\n",
      "Iteration 23\n",
      "model min and max: 5.0177253682819005 5.369816711223571\n"
     ]
    },
    {
     "name": "stdout",
     "output_type": "stream",
     "text": [
      "data misfit: 183.65155678774858\n",
      "regularisation: 0.3857842100851556\n"
     ]
    },
    {
     "name": "stdout",
     "output_type": "stream",
     "text": [
      "--------------------------------------------------------------------------------\n",
      "Iteration 24\n",
      "model min and max: 5.006780251445219 5.371909207553527\n"
     ]
    },
    {
     "name": "stdout",
     "output_type": "stream",
     "text": [
      "data misfit: 181.80788344019362\n",
      "regularisation: 0.4061041302249163\n"
     ]
    },
    {
     "name": "stdout",
     "output_type": "stream",
     "text": [
      "--------------------------------------------------------------------------------\n",
      "Iteration 25\n",
      "model min and max: 4.995932941294416 5.373950416865355\n",
      "data misfit: 179.9828755687684\n",
      "regularisation: 0.4264920217827422\n"
     ]
    },
    {
     "name": "stdout",
     "output_type": "stream",
     "text": [
      "--------------------------------------------------------------------------------\n",
      "Iteration 26\n",
      "model min and max: 4.98518152546452 5.375944233954601\n",
      "data misfit: 178.17631801144034\n",
      "regularisation: 0.4469324995229744\n"
     ]
    },
    {
     "name": "stdout",
     "output_type": "stream",
     "text": [
      "--------------------------------------------------------------------------------\n",
      "Iteration 27\n",
      "model min and max: 4.974524211269277 5.377894212824454\n",
      "data misfit: 176.3880007794431\n",
      "regularisation: 0.4674110546507778\n"
     ]
    },
    {
     "name": "stdout",
     "output_type": "stream",
     "text": [
      "--------------------------------------------------------------------------------\n",
      "Iteration 28\n",
      "model min and max: 4.963959312536254 5.379803593410636\n",
      "data misfit: 174.61771808953412\n",
      "regularisation: 0.48791404822093465\n"
     ]
    },
    {
     "name": "stdout",
     "output_type": "stream",
     "text": [
      "--------------------------------------------------------------------------------\n",
      "Iteration 29\n",
      "model min and max: 4.953485236088046 5.381675329745428\n",
      "data misfit: 172.8652685564188\n",
      "regularisation: 0.5084287005326397\n"
     ]
    },
    {
     "name": "stdout",
     "output_type": "stream",
     "text": [
      "--------------------------------------------------------------------------------\n",
      "Iteration 30\n",
      "model min and max: 4.943100471064561 5.383512120043909\n",
      "data misfit: 171.13045503046692\n",
      "regularisation: 0.5289430509051922\n"
     ]
    },
    {
     "name": "stdout",
     "output_type": "stream",
     "text": [
      "--------------------------------------------------------------------------------\n",
      "Iteration 31\n",
      "model min and max: 4.93280358190384 5.385316428689782\n",
      "data misfit: 169.41308383642195\n",
      "regularisation: 0.549445945725652\n"
     ]
    },
    {
     "name": "stdout",
     "output_type": "stream",
     "text": [
      "--------------------------------------------------------------------------------\n",
      "Iteration 32\n",
      "model min and max: 4.922593199750961 5.387090509277843\n",
      "data misfit: 167.71296524705306\n",
      "regularisation: 0.5699269969758057\n"
     ]
    },
    {
     "name": "stdout",
     "output_type": "stream",
     "text": [
      "--------------------------------------------------------------------------------\n",
      "Iteration 33\n",
      "model min and max: 4.912468014404413 5.388836423101432\n",
      "data misfit: 166.02991298112045\n",
      "regularisation: 0.5903765548595631\n"
     ]
    },
    {
     "name": "stdout",
     "output_type": "stream",
     "text": [
      "--------------------------------------------------------------------------------\n",
      "Iteration 34\n",
      "model min and max: 4.9024267715561605 5.390556051427799\n",
      "data misfit: 164.36374380365098\n",
      "regularisation: 0.6107856710414185\n"
     ]
    },
    {
     "name": "stdout",
     "output_type": "stream",
     "text": [
      "--------------------------------------------------------------------------------\n",
      "Iteration 35\n",
      "model min and max: 4.892468266762785 5.392251128493523\n",
      "data misfit: 162.71427750170972\n",
      "regularisation: 0.6311460715482108\n"
     ]
    },
    {
     "name": "stdout",
     "output_type": "stream",
     "text": [
      "--------------------------------------------------------------------------------\n",
      "Iteration 36\n",
      "model min and max: 4.88259134130077 5.39392323814174\n",
      "data misfit: 161.0813373059921\n",
      "regularisation: 0.6514501101998089\n"
     ]
    },
    {
     "name": "stdout",
     "output_type": "stream",
     "text": [
      "--------------------------------------------------------------------------------\n",
      "Iteration 37\n",
      "model min and max: 4.872794877802661 5.395573836382838\n",
      "data misfit: 159.46474886077266\n",
      "regularisation: 0.6716907506288601\n"
     ]
    },
    {
     "name": "stdout",
     "output_type": "stream",
     "text": [
      "--------------------------------------------------------------------------------\n",
      "Iteration 38\n",
      "model min and max: 4.8630777992324905 5.397204260308721\n",
      "data misfit: 157.86434051758454\n",
      "regularisation: 0.6918615228982422\n"
     ]
    },
    {
     "name": "stdout",
     "output_type": "stream",
     "text": [
      "--------------------------------------------------------------------------------\n",
      "Iteration 39\n",
      "model min and max: 4.8534390629814865 5.398815737635267\n",
      "data misfit: 156.27994362813175\n",
      "regularisation: 0.711956489525659\n"
     ]
    },
    {
     "name": "stdout",
     "output_type": "stream",
     "text": [
      "--------------------------------------------------------------------------------\n",
      "Iteration 40\n",
      "model min and max: 4.843877660540191 5.400409404939352\n",
      "data misfit: 154.7113914392031\n",
      "regularisation: 0.731970231994938\n"
     ]
    },
    {
     "name": "stdout",
     "output_type": "stream",
     "text": [
      "--------------------------------------------------------------------------------\n",
      "Iteration 41\n",
      "model min and max: 4.834392614595705 5.401986306121495\n"
     ]
    },
    {
     "name": "stdout",
     "output_type": "stream",
     "text": [
      "data misfit: 153.1585200053411\n",
      "regularisation: 0.7518977962230643\n"
     ]
    },
    {
     "name": "stdout",
     "output_type": "stream",
     "text": [
      "--------------------------------------------------------------------------------\n",
      "Iteration 42\n",
      "model min and max: 4.8249829769857175 5.403547402018953\n",
      "data misfit: 151.62116734960452\n",
      "regularisation: 0.7717346840165353\n"
     ]
    },
    {
     "name": "stdout",
     "output_type": "stream",
     "text": [
      "--------------------------------------------------------------------------------\n",
      "Iteration 43\n",
      "model min and max: 4.815647827351933 5.405093589755454\n",
      "data misfit: 150.0991740404102\n",
      "regularisation: 0.7914768181136892\n"
     ]
    },
    {
     "name": "stdout",
     "output_type": "stream",
     "text": [
      "--------------------------------------------------------------------------------\n",
      "Iteration 44\n",
      "model min and max: 4.806386269092894 5.4066256849168655\n",
      "data misfit: 148.59238263640933\n",
      "regularisation: 0.8111205127415686\n"
     ]
    },
    {
     "name": "stdout",
     "output_type": "stream",
     "text": [
      "--------------------------------------------------------------------------------\n",
      "Iteration 45\n",
      "model min and max: 4.797197431706862 5.408144449227498\n"
     ]
    },
    {
     "name": "stdout",
     "output_type": "stream",
     "text": [
      "data misfit: 147.10063776580617\n",
      "regularisation: 0.8306624530390341\n"
     ]
    },
    {
     "name": "stdout",
     "output_type": "stream",
     "text": [
      "--------------------------------------------------------------------------------\n",
      "Iteration 46\n",
      "model min and max: 4.788080466379465 5.409650589188703\n",
      "data misfit: 145.6237860243799\n",
      "regularisation: 0.8500996723674525\n"
     ]
    },
    {
     "name": "stdout",
     "output_type": "stream",
     "text": [
      "--------------------------------------------------------------------------------\n",
      "Iteration 47\n",
      "model min and max: 4.779034546606689 5.411144754328156\n",
      "data misfit: 144.1616760628408\n",
      "regularisation: 0.8694295263532019\n"
     ]
    },
    {
     "name": "stdout",
     "output_type": "stream",
     "text": [
      "--------------------------------------------------------------------------------\n",
      "Iteration 48\n",
      "model min and max: 4.770058865171063 5.412627552213421\n"
     ]
    },
    {
     "name": "stdout",
     "output_type": "stream",
     "text": [
      "data misfit: 142.71415837624176\n",
      "regularisation: 0.8886496780325105\n"
     ]
    },
    {
     "name": "stdout",
     "output_type": "stream",
     "text": [
      "--------------------------------------------------------------------------------\n",
      "Iteration 49\n",
      "model min and max: 4.761152634922138 5.414099547406628\n",
      "data misfit: 141.28108507204146\n",
      "regularisation: 0.9077580699504195\n"
     ]
    },
    {
     "name": "stdout",
     "output_type": "stream",
     "text": [
      "--------------------------------------------------------------------------------\n",
      "Iteration 50\n",
      "model min and max: 4.75231508632934 5.415561259847664\n"
     ]
    },
    {
     "name": "stdout",
     "output_type": "stream",
     "text": [
      "data misfit: 139.86231043937474\n",
      "regularisation: 0.926752905479055\n"
     ]
    },
    {
     "name": "stdout",
     "output_type": "stream",
     "text": [
      "--------------------------------------------------------------------------------\n",
      "Iteration 51\n",
      "model min and max: 4.743545468725594 5.417013174830312\n",
      "data misfit: 138.4576902451595\n",
      "regularisation: 0.9456326378942388\n"
     ]
    },
    {
     "name": "stdout",
     "output_type": "stream",
     "text": [
      "--------------------------------------------------------------------------------\n",
      "Iteration 52\n",
      "model min and max: 4.734843045652074 5.418455745993275\n"
     ]
    },
    {
     "name": "stdout",
     "output_type": "stream",
     "text": [
      "data misfit: 137.0670820466871\n",
      "regularisation: 0.9643959505537264\n"
     ]
    },
    {
     "name": "stdout",
     "output_type": "stream",
     "text": [
      "--------------------------------------------------------------------------------\n",
      "Iteration 53\n",
      "model min and max: 4.726207099023151 5.41988939840098\n",
      "data misfit: 135.69034512639965\n",
      "regularisation: 0.9830417403576432\n"
     ]
    },
    {
     "name": "stdout",
     "output_type": "stream",
     "text": [
      "--------------------------------------------------------------------------------\n",
      "Iteration 54\n",
      "model min and max: 4.7176369237811695 5.421314518650831\n",
      "data misfit: 134.32734005793313\n",
      "regularisation: 1.0015690966190833\n"
     ]
    },
    {
     "name": "stdout",
     "output_type": "stream",
     "text": [
      "--------------------------------------------------------------------------------\n",
      "Iteration 55\n",
      "model min and max: 4.709131830086482 5.422731475877443\n",
      "data misfit: 132.9779295692208\n",
      "regularisation: 1.019977289384316\n"
     ]
    },
    {
     "name": "stdout",
     "output_type": "stream",
     "text": [
      "--------------------------------------------------------------------------------\n",
      "Iteration 56\n",
      "model min and max: 4.700691142432957 5.424140613263493\n",
      "data misfit: 131.64197733763353\n",
      "regularisation: 1.0382657738396288\n"
     ]
    },
    {
     "name": "stdout",
     "output_type": "stream",
     "text": [
      "--------------------------------------------------------------------------------\n",
      "Iteration 57\n",
      "model min and max: 4.692314197253299 5.425542250596371\n",
      "data misfit: 130.3193490218099\n",
      "regularisation: 1.0564341506480102\n"
     ]
    },
    {
     "name": "stdout",
     "output_type": "stream",
     "text": [
      "--------------------------------------------------------------------------------\n",
      "Iteration 58\n",
      "model min and max: 4.684000345177091 5.426936687333739\n",
      "data misfit: 129.0099116150112\n",
      "regularisation: 1.0744821685381811\n"
     ]
    },
    {
     "name": "stdout",
     "output_type": "stream",
     "text": [
      "--------------------------------------------------------------------------------\n",
      "Iteration 59\n",
      "model min and max: 4.675748947098593 5.428324198050183\n",
      "data misfit: 127.71353343911387\n",
      "regularisation: 1.092409712077045\n"
     ]
    },
    {
     "name": "stdout",
     "output_type": "stream",
     "text": [
      "--------------------------------------------------------------------------------\n",
      "Iteration 60\n",
      "model min and max: 4.667559377076292 5.429705050722258\n",
      "data misfit: 126.43008461789586\n",
      "regularisation: 1.1102167898720323\n"
     ]
    },
    {
     "name": "stdout",
     "output_type": "stream",
     "text": [
      "--------------------------------------------------------------------------------\n",
      "Iteration 61\n",
      "model min and max: 4.659431019632232 5.431079485200306\n"
     ]
    },
    {
     "name": "stdout",
     "output_type": "stream",
     "text": [
      "data misfit: 125.15943610782304\n",
      "regularisation: 1.1279035252470482\n"
     ]
    },
    {
     "name": "stdout",
     "output_type": "stream",
     "text": [
      "--------------------------------------------------------------------------------\n",
      "Iteration 62\n",
      "model min and max: 4.651363270487282 5.432447733344564\n"
     ]
    },
    {
     "name": "stdout",
     "output_type": "stream",
     "text": [
      "data misfit: 123.9014608855537\n",
      "regularisation: 1.1454701438210855\n"
     ]
    },
    {
     "name": "stdout",
     "output_type": "stream",
     "text": [
      "--------------------------------------------------------------------------------\n",
      "Iteration 63\n",
      "model min and max: 4.643355536126746 5.433810014739541\n"
     ]
    },
    {
     "name": "stdout",
     "output_type": "stream",
     "text": [
      "data misfit: 122.6560328783673\n",
      "regularisation: 1.1629169744634125\n"
     ]
    },
    {
     "name": "stdout",
     "output_type": "stream",
     "text": [
      "--------------------------------------------------------------------------------\n",
      "Iteration 64\n",
      "model min and max: 4.635407231730798 5.435166525302718\n"
     ]
    },
    {
     "name": "stdout",
     "output_type": "stream",
     "text": [
      "data misfit: 121.42302740113477\n",
      "regularisation: 1.1802444273250605\n"
     ]
    },
    {
     "name": "stdout",
     "output_type": "stream",
     "text": [
      "--------------------------------------------------------------------------------\n",
      "Iteration 65\n",
      "model min and max: 4.627517783787344 5.436517458870142\n"
     ]
    },
    {
     "name": "stdout",
     "output_type": "stream",
     "text": [
      "data misfit: 120.20232132669521\n",
      "regularisation: 1.197452999295425\n"
     ]
    },
    {
     "name": "stdout",
     "output_type": "stream",
     "text": [
      "--------------------------------------------------------------------------------\n",
      "Iteration 66\n",
      "model min and max: 4.619686626871865 5.437862988272354\n",
      "data misfit: 118.99379251676498\n",
      "regularisation: 1.214543255880672\n"
     ]
    },
    {
     "name": "stdout",
     "output_type": "stream",
     "text": [
      "--------------------------------------------------------------------------------\n",
      "Iteration 67\n",
      "model min and max: 4.611913205864353 5.4392032858955135\n",
      "data misfit: 117.79732043902516\n",
      "regularisation: 1.2315158348701343\n"
     ]
    },
    {
     "name": "stdout",
     "output_type": "stream",
     "text": [
      "--------------------------------------------------------------------------------\n",
      "Iteration 68\n",
      "model min and max: 4.604196972835669 5.440538507748801\n",
      "data misfit: 116.61278550186493\n",
      "regularisation: 1.2483714297346002\n"
     ]
    },
    {
     "name": "stdout",
     "output_type": "stream",
     "text": [
      "--------------------------------------------------------------------------------\n",
      "Iteration 69\n",
      "model min and max: 4.596537389260285 5.4418687987733545\n",
      "data misfit: 115.4400695986893\n",
      "regularisation: 1.2651107953672196\n"
     ]
    },
    {
     "name": "stdout",
     "output_type": "stream",
     "text": [
      "--------------------------------------------------------------------------------\n",
      "Iteration 70\n",
      "model min and max: 4.588933924906156 5.443194305165944\n",
      "data misfit: 114.27905560311517\n",
      "regularisation: 1.2817347331348665\n"
     ]
    },
    {
     "name": "stdout",
     "output_type": "stream",
     "text": [
      "--------------------------------------------------------------------------------\n",
      "Iteration 71\n",
      "model min and max: 4.581386057254488 5.444515152952376\n",
      "data misfit: 113.12962777685908\n",
      "regularisation: 1.298244085276774\n"
     ]
    },
    {
     "name": "stdout",
     "output_type": "stream",
     "text": [
      "--------------------------------------------------------------------------------\n",
      "Iteration 72\n",
      "model min and max: 4.573893271416084 5.44583146211928\n",
      "data misfit: 111.99167167496597\n",
      "regularisation: 1.3146397419452676\n"
     ]
    },
    {
     "name": "stdout",
     "output_type": "stream",
     "text": [
      "--------------------------------------------------------------------------------\n",
      "Iteration 73\n",
      "model min and max: 4.566455060606431 5.4471433555344255\n",
      "data misfit: 110.86507371041692\n",
      "regularisation: 1.3309226237620941\n"
     ]
    },
    {
     "name": "stdout",
     "output_type": "stream",
     "text": [
      "--------------------------------------------------------------------------------\n",
      "Iteration 74\n",
      "model min and max: 4.559070924814049 5.448450941266657\n",
      "data misfit: 109.74972168905651\n",
      "regularisation: 1.3470936855316664\n"
     ]
    },
    {
     "name": "stdout",
     "output_type": "stream",
     "text": [
      "--------------------------------------------------------------------------------\n",
      "Iteration 75\n",
      "model min and max: 4.55174037018639 5.449754315220033\n",
      "data misfit: 108.64550462298934\n",
      "regularisation: 1.363153905968212\n"
     ]
    },
    {
     "name": "stdout",
     "output_type": "stream",
     "text": [
      "--------------------------------------------------------------------------------\n",
      "Iteration 76\n",
      "model min and max: 4.544462910908656 5.451053583548627\n"
     ]
    },
    {
     "name": "stdout",
     "output_type": "stream",
     "text": [
      "data misfit: 107.552312402364\n",
      "regularisation: 1.3791042909413382\n"
     ]
    },
    {
     "name": "stdout",
     "output_type": "stream",
     "text": [
      "--------------------------------------------------------------------------------\n",
      "Iteration 77\n",
      "model min and max: 4.537238068038489 5.4523488337179264\n"
     ]
    },
    {
     "name": "stdout",
     "output_type": "stream",
     "text": [
      "data misfit: 106.47003619967165\n",
      "regularisation: 1.3949458653084554\n"
     ]
    },
    {
     "name": "stdout",
     "output_type": "stream",
     "text": [
      "--------------------------------------------------------------------------------\n",
      "Iteration 78\n",
      "model min and max: 4.530065368473269 5.453640151825503\n",
      "data misfit: 105.39856824158795\n",
      "regularisation: 1.4106796758652547\n"
     ]
    },
    {
     "name": "stdout",
     "output_type": "stream",
     "text": [
      "--------------------------------------------------------------------------------\n",
      "Iteration 79\n",
      "model min and max: 4.522944345432405 5.45492761925637\n"
     ]
    },
    {
     "name": "stdout",
     "output_type": "stream",
     "text": [
      "data misfit: 104.33780180995225\n",
      "regularisation: 1.426306778091754\n"
     ]
    },
    {
     "name": "stdout",
     "output_type": "stream",
     "text": [
      "--------------------------------------------------------------------------------\n",
      "Iteration 80\n",
      "model min and max: 4.515874537846262 5.456211310989019\n",
      "data misfit: 103.28763128559409\n",
      "regularisation: 1.4418282400956361\n"
     ]
    },
    {
     "name": "stdout",
     "output_type": "stream",
     "text": [
      "--------------------------------------------------------------------------------\n",
      "Iteration 81\n",
      "model min and max: 4.508855493277836 5.4574913008510055\n",
      "data misfit: 102.24795227460508\n",
      "regularisation: 1.4572451454540025\n"
     ]
    },
    {
     "name": "stdout",
     "output_type": "stream",
     "text": [
      "--------------------------------------------------------------------------------\n",
      "Iteration 82\n",
      "model min and max: 4.5018867618866265 5.458767657979288\n",
      "data misfit: 101.21866112882363\n",
      "regularisation: 1.4725585816280777\n"
     ]
    },
    {
     "name": "stdout",
     "output_type": "stream",
     "text": [
      "--------------------------------------------------------------------------------\n",
      "Iteration 83\n",
      "model min and max: 4.494967901324927 5.460040446676562\n",
      "data misfit: 100.19965538774181\n",
      "regularisation: 1.487769641296455\n"
     ]
    },
    {
     "name": "stdout",
     "output_type": "stream",
     "text": [
      "--------------------------------------------------------------------------------\n",
      "Iteration 84\n",
      "model min and max: 4.488098473709433 5.461309723129104\n",
      "data misfit: 99.19083378846334\n",
      "regularisation: 1.502879418799793\n"
     ]
    },
    {
     "name": "stdout",
     "output_type": "stream",
     "text": [
      "--------------------------------------------------------------------------------\n",
      "Iteration 85\n",
      "model min and max: 4.481278048436665 5.462575547454249\n",
      "data misfit: 98.19209570727085\n",
      "regularisation: 1.5178890100610964\n"
     ]
    },
    {
     "name": "stdout",
     "output_type": "stream",
     "text": [
      "--------------------------------------------------------------------------------\n",
      "Iteration 86\n",
      "model min and max: 4.474506198991838 5.463837975815357\n",
      "data misfit: 97.20334176265787\n",
      "regularisation: 1.5327995203102585\n"
     ]
    },
    {
     "name": "stdout",
     "output_type": "stream",
     "text": [
      "--------------------------------------------------------------------------------\n",
      "Iteration 87\n",
      "model min and max: 4.4677825041370935 5.465097054745742\n"
     ]
    },
    {
     "name": "stdout",
     "output_type": "stream",
     "text": [
      "data misfit: 96.22447356239108\n",
      "regularisation: 1.5476120398919828\n"
     ]
    },
    {
     "name": "stdout",
     "output_type": "stream",
     "text": [
      "--------------------------------------------------------------------------------\n",
      "Iteration 88\n",
      "model min and max: 4.461106547434834 5.466352832174609\n"
     ]
    },
    {
     "name": "stdout",
     "output_type": "stream",
     "text": [
      "data misfit: 95.25539353083248\n",
      "regularisation: 1.562327660692748\n"
     ]
    },
    {
     "name": "stdout",
     "output_type": "stream",
     "text": [
      "--------------------------------------------------------------------------------\n",
      "Iteration 89\n",
      "model min and max: 4.454477917857632 5.467605355817877\n",
      "data misfit: 94.29600528769339\n",
      "regularisation: 1.5769474770549092\n"
     ]
    },
    {
     "name": "stdout",
     "output_type": "stream",
     "text": [
      "--------------------------------------------------------------------------------\n",
      "Iteration 90\n",
      "model min and max: 4.447896209603077 5.468854667025775\n",
      "data misfit: 93.34621325777489\n",
      "regularisation: 1.5914725697386676\n"
     ]
    },
    {
     "name": "stdout",
     "output_type": "stream",
     "text": [
      "--------------------------------------------------------------------------------\n",
      "Iteration 91\n",
      "model min and max: 4.441361021259652 5.470100804742431\n"
     ]
    },
    {
     "name": "stdout",
     "output_type": "stream",
     "text": [
      "data misfit: 92.40592294458668\n",
      "regularisation: 1.6059040139261433\n"
     ]
    },
    {
     "name": "stdout",
     "output_type": "stream",
     "text": [
      "--------------------------------------------------------------------------------\n",
      "Iteration 92\n",
      "model min and max: 4.434871956850117 5.47134380799953\n"
     ]
    },
    {
     "name": "stdout",
     "output_type": "stream",
     "text": [
      "data misfit: 91.47504046287139\n",
      "regularisation: 1.6202428834751053\n"
     ]
    },
    {
     "name": "stdout",
     "output_type": "stream",
     "text": [
      "--------------------------------------------------------------------------------\n",
      "Iteration 93\n",
      "model min and max: 4.428428622783078 5.472583708974498\n",
      "data misfit: 90.55347314896551\n",
      "regularisation: 1.6344902333550362\n"
     ]
    },
    {
     "name": "stdout",
     "output_type": "stream",
     "text": [
      "--------------------------------------------------------------------------------\n",
      "Iteration 94\n",
      "model min and max: 4.422030632875815 5.473820544586524\n",
      "data misfit: 89.64112924285119\n",
      "regularisation: 1.6486471175998978\n"
     ]
    },
    {
     "name": "stdout",
     "output_type": "stream",
     "text": [
      "--------------------------------------------------------------------------------\n",
      "Iteration 95\n",
      "model min and max: 4.4156776037770955 5.475054345659011\n",
      "data misfit: 88.73791789694803\n",
      "regularisation: 1.662714583579255\n"
     ]
    },
    {
     "name": "stdout",
     "output_type": "stream",
     "text": [
      "--------------------------------------------------------------------------------\n",
      "Iteration 96\n",
      "model min and max: 4.409369156146104 5.476285137002959\n"
     ]
    },
    {
     "name": "stdout",
     "output_type": "stream",
     "text": [
      "data misfit: 87.8437488099508\n",
      "regularisation: 1.6766936565891521\n"
     ]
    },
    {
     "name": "stdout",
     "output_type": "stream",
     "text": [
      "--------------------------------------------------------------------------------\n",
      "Iteration 97\n",
      "model min and max: 4.403104916160273 5.4775129502914055\n",
      "data misfit: 86.95853313942787\n",
      "regularisation: 1.690585358554243\n"
     ]
    },
    {
     "name": "stdout",
     "output_type": "stream",
     "text": [
      "--------------------------------------------------------------------------------\n",
      "Iteration 98\n",
      "model min and max: 4.3968845135536085 5.478737814008266\n"
     ]
    },
    {
     "name": "stdout",
     "output_type": "stream",
     "text": [
      "data misfit: 86.08218249025636\n",
      "regularisation: 1.7043907022647762\n"
     ]
    },
    {
     "name": "stdout",
     "output_type": "stream",
     "text": [
      "--------------------------------------------------------------------------------\n",
      "Iteration 99\n",
      "model min and max: 4.390707580985061 5.479959743123045\n",
      "data misfit: 85.21460937810053\n",
      "regularisation: 1.7181106804130029\n"
     ]
    },
    {
     "name": "stdout",
     "output_type": "stream",
     "text": [
      "--------------------------------------------------------------------------------\n",
      "Iteration 100\n",
      "model min and max: 4.384573757297292 5.481178772929109\n",
      "data misfit: 84.35572743571649\n",
      "regularisation: 1.7317462762703133\n"
     ]
    },
    {
     "name": "stdout",
     "output_type": "stream",
     "text": [
      "--------------------------------------------------------------------------------\n",
      "Iteration 101\n",
      "model min and max: 4.37848268385436 5.482394915548821\n",
      "data misfit: 83.50545076867694\n",
      "regularisation: 1.745298467573676\n"
     ]
    },
    {
     "name": "stdout",
     "output_type": "stream",
     "text": [
      "--------------------------------------------------------------------------------\n",
      "Iteration 102\n",
      "model min and max: 4.372434005716354 5.483608192047444\n"
     ]
    },
    {
     "name": "stdout",
     "output_type": "stream",
     "text": [
      "data misfit: 82.66369488589048\n",
      "regularisation: 1.7587682050250963\n"
     ]
    },
    {
     "name": "stdout",
     "output_type": "stream",
     "text": [
      "--------------------------------------------------------------------------------\n",
      "Iteration 103\n",
      "model min and max: 4.3664273729854015 5.484818622806393\n",
      "data misfit: 81.83037531711092\n",
      "regularisation: 1.7721564411122452\n"
     ]
    },
    {
     "name": "stdout",
     "output_type": "stream",
     "text": [
      "--------------------------------------------------------------------------------\n",
      "Iteration 104\n",
      "model min and max: 4.3604624388465725 5.486026226689867\n",
      "data misfit: 81.00540905874284\n",
      "regularisation: 1.785464102516996\n"
     ]
    },
    {
     "name": "stdout",
     "output_type": "stream",
     "text": [
      "--------------------------------------------------------------------------------\n",
      "Iteration 105\n",
      "model min and max: 4.354538859625091 5.487231017746508\n",
      "data misfit: 80.18871373270579\n",
      "regularisation: 1.7986921078609082\n"
     ]
    },
    {
     "name": "stdout",
     "output_type": "stream",
     "text": [
      "--------------------------------------------------------------------------------\n",
      "Iteration 106\n",
      "model min and max: 4.348656295552636 5.488433010950568\n",
      "data misfit: 79.38020781913633\n",
      "regularisation: 1.8118413588783315\n"
     ]
    },
    {
     "name": "stdout",
     "output_type": "stream",
     "text": [
      "--------------------------------------------------------------------------------\n",
      "Iteration 107\n",
      "model min and max: 4.342814410673755 5.48963222025286\n"
     ]
    },
    {
     "name": "stdout",
     "output_type": "stream",
     "text": [
      "data misfit: 78.5798104960511\n",
      "regularisation: 1.824912749475322\n"
     ]
    },
    {
     "name": "stdout",
     "output_type": "stream",
     "text": [
      "--------------------------------------------------------------------------------\n",
      "Iteration 108\n",
      "model min and max: 4.337012873233878 5.4908286618218\n"
     ]
    },
    {
     "name": "stdout",
     "output_type": "stream",
     "text": [
      "data misfit: 77.78744159022179\n",
      "regularisation: 1.8379071543210108\n"
     ]
    },
    {
     "name": "stdout",
     "output_type": "stream",
     "text": [
      "--------------------------------------------------------------------------------\n",
      "Iteration 109\n",
      "model min and max: 4.331251353230742 5.4920223422199665\n",
      "data misfit: 77.0030221191503\n",
      "regularisation: 1.850825434280101\n"
     ]
    },
    {
     "name": "stdout",
     "output_type": "stream",
     "text": [
      "--------------------------------------------------------------------------------\n",
      "Iteration 110\n",
      "model min and max: 4.325529525688633 5.493213276521564\n"
     ]
    },
    {
     "name": "stdout",
     "output_type": "stream",
     "text": [
      "data misfit: 76.2264735868664\n",
      "regularisation: 1.8636684387108204\n"
     ]
    },
    {
     "name": "stdout",
     "output_type": "stream",
     "text": [
      "--------------------------------------------------------------------------------\n",
      "Iteration 111\n",
      "model min and max: 4.319847067337187 5.494401469769899\n",
      "data misfit: 75.45771830630939\n",
      "regularisation: 1.8764369944093557\n"
     ]
    },
    {
     "name": "stdout",
     "output_type": "stream",
     "text": [
      "--------------------------------------------------------------------------------\n",
      "Iteration 112\n",
      "model min and max: 4.314203660315035 5.4955869423712445\n"
     ]
    },
    {
     "name": "stdout",
     "output_type": "stream",
     "text": [
      "data misfit: 74.69667928818569\n",
      "regularisation: 1.8891319271339653\n"
     ]
    },
    {
     "name": "stdout",
     "output_type": "stream",
     "text": [
      "--------------------------------------------------------------------------------\n",
      "Iteration 113\n",
      "model min and max: 4.30859898820094 5.496769691859941\n"
     ]
    },
    {
     "name": "stdout",
     "output_type": "stream",
     "text": [
      "data misfit: 73.94328042053512\n",
      "regularisation: 1.9017540358131526\n"
     ]
    },
    {
     "name": "stdout",
     "output_type": "stream",
     "text": [
      "--------------------------------------------------------------------------------\n",
      "Iteration 114\n",
      "model min and max: 4.303032737927605 5.497949733301526\n",
      "data misfit: 73.19744644654939\n",
      "regularisation: 1.9143041161431658\n"
     ]
    },
    {
     "name": "stdout",
     "output_type": "stream",
     "text": [
      "--------------------------------------------------------------------------------\n",
      "Iteration 115\n",
      "model min and max: 4.297504599557081 5.499127067399089\n",
      "data misfit: 72.45910234955997\n",
      "regularisation: 1.926782942416276\n"
     ]
    },
    {
     "name": "stdout",
     "output_type": "stream",
     "text": [
      "--------------------------------------------------------------------------------\n",
      "Iteration 116\n",
      "model min and max: 4.292014268019181 5.500301706228015\n"
     ]
    },
    {
     "name": "stdout",
     "output_type": "stream",
     "text": [
      "data misfit: 71.72817455598765\n",
      "regularisation: 1.939191277670208\n"
     ]
    },
    {
     "name": "stdout",
     "output_type": "stream",
     "text": [
      "--------------------------------------------------------------------------------\n",
      "Iteration 117\n",
      "model min and max: 4.286561438785408 5.501473654640578\n",
      "data misfit: 71.00458935794461\n",
      "regularisation: 1.9515298762867537\n"
     ]
    },
    {
     "name": "stdout",
     "output_type": "stream",
     "text": [
      "--------------------------------------------------------------------------------\n",
      "Iteration 118\n",
      "model min and max: 4.281145811894817 5.502642916647922\n",
      "data misfit: 70.28827462611076\n",
      "regularisation: 1.9637994606227944\n"
     ]
    },
    {
     "name": "stdout",
     "output_type": "stream",
     "text": [
      "--------------------------------------------------------------------------------\n",
      "Iteration 119\n",
      "model min and max: 4.275767090359645 5.503809497126526\n"
     ]
    },
    {
     "name": "stdout",
     "output_type": "stream",
     "text": [
      "data misfit: 69.57915840577007\n",
      "regularisation: 1.9760007659430578\n"
     ]
    },
    {
     "name": "stdout",
     "output_type": "stream",
     "text": [
      "--------------------------------------------------------------------------------\n",
      "Iteration 120\n",
      "model min and max: 4.270424978969965 5.504973399530826\n"
     ]
    },
    {
     "name": "stdout",
     "output_type": "stream",
     "text": [
      "data misfit: 68.87716960268833\n",
      "regularisation: 1.9881344921354926\n"
     ]
    },
    {
     "name": "stdout",
     "output_type": "stream",
     "text": [
      "--------------------------------------------------------------------------------\n",
      "Iteration 121\n",
      "model min and max: 4.2651191865614475 5.506134631528062\n"
     ]
    },
    {
     "name": "stdout",
     "output_type": "stream",
     "text": [
      "data misfit: 68.18223767683703\n",
      "regularisation: 2.0002013392463978\n"
     ]
    },
    {
     "name": "stdout",
     "output_type": "stream",
     "text": [
      "--------------------------------------------------------------------------------\n",
      "Iteration 122\n",
      "model min and max: 4.25984942392132 5.5072931936050535\n",
      "data misfit: 67.49429299120065\n",
      "regularisation: 2.012201988883973\n"
     ]
    },
    {
     "name": "stdout",
     "output_type": "stream",
     "text": [
      "--------------------------------------------------------------------------------\n",
      "Iteration 123\n",
      "model min and max: 4.2546154043562 5.508449087675853\n",
      "data misfit: 66.81326653857496\n",
      "regularisation: 2.024137106210657\n"
     ]
    },
    {
     "name": "stdout",
     "output_type": "stream",
     "text": [
      "--------------------------------------------------------------------------------\n",
      "Iteration 124\n",
      "model min and max: 4.249416845887234 5.509602317765775\n",
      "data misfit: 66.13908980773942\n",
      "regularisation: 2.0360073573610276\n"
     ]
    },
    {
     "name": "stdout",
     "output_type": "stream",
     "text": [
      "--------------------------------------------------------------------------------\n",
      "Iteration 125\n",
      "model min and max: 4.244253467011841 5.510752883795492\n",
      "data misfit: 65.47169512494415\n",
      "regularisation: 2.047813376155628\n"
     ]
    },
    {
     "name": "stdout",
     "output_type": "stream",
     "text": [
      "--------------------------------------------------------------------------------\n",
      "Iteration 126\n",
      "model min and max: 4.239124990325411 5.5119007925906285\n",
      "data misfit: 64.81101541904546\n",
      "regularisation: 2.059555800897281\n"
     ]
    },
    {
     "name": "stdout",
     "output_type": "stream",
     "text": [
      "--------------------------------------------------------------------------------\n",
      "Iteration 127\n",
      "model min and max: 4.234031140032385 5.5130460385003754\n",
      "data misfit: 64.15698425894404\n",
      "regularisation: 2.071235243704614\n"
     ]
    },
    {
     "name": "stdout",
     "output_type": "stream",
     "text": [
      "--------------------------------------------------------------------------------\n",
      "Iteration 128\n",
      "model min and max: 4.228971644790381 5.514188629036911\n",
      "data misfit: 63.509535874465485\n",
      "regularisation: 2.0828523203301854\n"
     ]
    },
    {
     "name": "stdout",
     "output_type": "stream",
     "text": [
      "--------------------------------------------------------------------------------\n",
      "Iteration 129\n",
      "model min and max: 4.2239462333838285 5.515328559918047\n",
      "data misfit: 62.86860523167743\n",
      "regularisation: 2.0944076196111565\n"
     ]
    },
    {
     "name": "stdout",
     "output_type": "stream",
     "text": [
      "--------------------------------------------------------------------------------\n",
      "Iteration 130\n",
      "model min and max: 4.218954638860076 5.516465832728203\n",
      "data misfit: 62.234127755812324\n",
      "regularisation: 2.1059017327394796\n"
     ]
    },
    {
     "name": "stdout",
     "output_type": "stream",
     "text": [
      "--------------------------------------------------------------------------------\n",
      "Iteration 131\n",
      "model min and max: 4.21399659574795 5.517600445803593\n",
      "data misfit: 61.60603968767108\n",
      "regularisation: 2.1173352249867055\n"
     ]
    },
    {
     "name": "stdout",
     "output_type": "stream",
     "text": [
      "--------------------------------------------------------------------------------\n",
      "Iteration 132\n",
      "model min and max: 4.209071841078217 5.518732401348763\n",
      "data misfit: 60.98427768830887\n",
      "regularisation: 2.1287086581354147\n"
     ]
    },
    {
     "name": "stdout",
     "output_type": "stream",
     "text": [
      "--------------------------------------------------------------------------------\n",
      "Iteration 133\n",
      "model min and max: 4.204180115194253 5.519861698910708\n",
      "data misfit: 60.36877905447835\n",
      "regularisation: 2.140022590462575\n"
     ]
    },
    {
     "name": "stdout",
     "output_type": "stream",
     "text": [
      "--------------------------------------------------------------------------------\n",
      "Iteration 134\n",
      "model min and max: 4.199321161015461 5.520988338705297\n",
      "data misfit: 59.75948186612955\n",
      "regularisation: 2.151277555725498\n"
     ]
    },
    {
     "name": "stdout",
     "output_type": "stream",
     "text": [
      "--------------------------------------------------------------------------------\n",
      "Iteration 135\n",
      "model min and max: 4.194494723014814 5.522112320028225\n",
      "data misfit: 59.15632473765349\n",
      "regularisation: 2.162474084269752\n"
     ]
    },
    {
     "name": "stdout",
     "output_type": "stream",
     "text": [
      "--------------------------------------------------------------------------------\n",
      "Iteration 136\n",
      "model min and max: 4.189700547816759 5.5232336355790705\n",
      "data misfit: 58.55924679785774\n",
      "regularisation: 2.1736126944935505\n"
     ]
    },
    {
     "name": "stdout",
     "output_type": "stream",
     "text": [
      "--------------------------------------------------------------------------------\n",
      "Iteration 137\n",
      "model min and max: 4.184938385356865 5.524352289292718\n",
      "data misfit: 57.96818782833384\n",
      "regularisation: 2.1846938946078964\n"
     ]
    },
    {
     "name": "stdout",
     "output_type": "stream",
     "text": [
      "--------------------------------------------------------------------------------\n",
      "Iteration 138\n",
      "model min and max: 4.180207986352759 5.525468278971885\n",
      "data misfit: 57.38308828504618\n",
      "regularisation: 2.195718181254658\n"
     ]
    },
    {
     "name": "stdout",
     "output_type": "stream",
     "text": [
      "--------------------------------------------------------------------------------\n",
      "Iteration 139\n",
      "model min and max: 4.175509105049053 5.526581601570643\n"
     ]
    },
    {
     "name": "stdout",
     "output_type": "stream",
     "text": [
      "data misfit: 56.80388905611504\n",
      "regularisation: 2.206686048239682\n"
     ]
    },
    {
     "name": "stdout",
     "output_type": "stream",
     "text": [
      "--------------------------------------------------------------------------------\n",
      "Iteration 140\n",
      "model min and max: 4.170841498338404 5.52769225921732\n",
      "data misfit: 56.23053156802727\n",
      "regularisation: 2.2175979719062013\n"
     ]
    },
    {
     "name": "stdout",
     "output_type": "stream",
     "text": [
      "--------------------------------------------------------------------------------\n",
      "Iteration 141\n",
      "model min and max: 4.166204924203444 5.528800244758935\n",
      "data misfit: 55.662957911216104\n",
      "regularisation: 2.228454425256324\n"
     ]
    },
    {
     "name": "stdout",
     "output_type": "stream",
     "text": [
      "--------------------------------------------------------------------------------\n",
      "Iteration 142\n",
      "model min and max: 4.161599143439426 5.529905557963576\n",
      "data misfit: 55.101110884688204\n",
      "regularisation: 2.2392558660554838\n"
     ]
    },
    {
     "name": "stdout",
     "output_type": "stream",
     "text": [
      "--------------------------------------------------------------------------------\n",
      "Iteration 143\n",
      "model min and max: 4.157023918143444 5.531008193306388\n",
      "data misfit: 54.544933614354704\n",
      "regularisation: 2.250002745297681\n"
     ]
    },
    {
     "name": "stdout",
     "output_type": "stream",
     "text": [
      "--------------------------------------------------------------------------------\n",
      "Iteration 144\n",
      "model min and max: 4.152479013762504 5.532108156184821\n"
     ]
    },
    {
     "name": "stdout",
     "output_type": "stream",
     "text": [
      "data misfit: 53.99436982441884\n",
      "regularisation: 2.260695506414359\n"
     ]
    },
    {
     "name": "stdout",
     "output_type": "stream",
     "text": [
      "--------------------------------------------------------------------------------\n",
      "Iteration 145\n",
      "model min and max: 4.147964197685909 5.533205438010237\n",
      "data misfit: 53.44936386452144\n",
      "regularisation: 2.2713345889562095\n"
     ]
    },
    {
     "name": "stdout",
     "output_type": "stream",
     "text": [
      "--------------------------------------------------------------------------------\n",
      "Iteration 146\n",
      "model min and max: 4.143479238678478 5.534300038407142\n",
      "data misfit: 52.909860673739665\n",
      "regularisation: 2.2819204136048983\n"
     ]
    },
    {
     "name": "stdout",
     "output_type": "stream",
     "text": [
      "--------------------------------------------------------------------------------\n",
      "Iteration 147\n",
      "model min and max: 4.1390239073294905 5.535391954999352\n"
     ]
    },
    {
     "name": "stdout",
     "output_type": "stream",
     "text": [
      "data misfit: 52.37580550427834\n",
      "regularisation: 2.292453398827582\n"
     ]
    },
    {
     "name": "stdout",
     "output_type": "stream",
     "text": [
      "--------------------------------------------------------------------------------\n",
      "Iteration 148\n",
      "model min and max: 4.134597977750466 5.536481183693961\n",
      "data misfit: 51.84714429588892\n",
      "regularisation: 2.302933959153743\n"
     ]
    },
    {
     "name": "stdout",
     "output_type": "stream",
     "text": [
      "--------------------------------------------------------------------------------\n",
      "Iteration 149\n",
      "model min and max: 4.130201224738901 5.53756772319681\n"
     ]
    },
    {
     "name": "stdout",
     "output_type": "stream",
     "text": [
      "data misfit: 51.323823633671815\n",
      "regularisation: 2.313362491833923\n"
     ]
    },
    {
     "name": "stdout",
     "output_type": "stream",
     "text": [
      "--------------------------------------------------------------------------------\n",
      "Iteration 150\n",
      "model min and max: 4.125833426167237 5.538651572063103\n",
      "data misfit: 50.805790300155685\n",
      "regularisation: 2.323739399582284\n"
     ]
    }
   ],
   "source": [
    "# hyperparameters\n",
    "lamda = 0.0001\n",
    "niter = 150\n",
    "inv_verbose = True\n",
    "step = 0.005\n",
    "\n",
    "# CoFI - define InversionOptions\n",
    "inv_options = InversionOptions()\n",
    "inv_options.set_tool(GaussNewton)\n",
    "inv_options.set_params(niter=niter, verbose=inv_verbose, step=step)\n",
    "\n",
    "# CoFI - define Inversion, run it\n",
    "inv = Inversion(ert_problem, inv_options)\n",
    "inv_result = inv.run()"
   ]
  },
  {
   "cell_type": "code",
   "execution_count": 19,
   "id": "a0146425",
   "metadata": {
    "execution": {
     "iopub.execute_input": "2022-08-03T01:36:37.863607Z",
     "iopub.status.busy": "2022-08-03T01:36:37.863065Z",
     "iopub.status.idle": "2022-08-03T01:36:38.065655Z",
     "shell.execute_reply": "2022-08-03T01:36:38.065244Z"
    },
    "papermill": {
     "duration": 0.236735,
     "end_time": "2022-08-03T01:36:38.066672",
     "exception": false,
     "start_time": "2022-08-03T01:36:37.829937",
     "status": "completed"
    },
    "tags": []
   },
   "outputs": [
    {
     "data": {
      "text/plain": [
       "Text(0.5, 1.0, 'Inferred model')"
      ]
     },
     "execution_count": 19,
     "metadata": {},
     "output_type": "execute_result"
    },
    {
     "data": {
      "image/png": "[encoded data removed]",
      "text/plain": [
       "<Figure size 432x288 with 2 Axes>"
      ]
     },
     "metadata": {
      "needs_background": "light"
     },
     "output_type": "display_data"
    }
   ],
   "source": [
    "# convert from log space\n",
    "model = np.exp(inv_result.model)\n",
    "\n",
    "# plot inferred model\n",
    "ax = pygimli.show(ert_manager.paraDomain, data=model, label=r\"$\\Omega m$\")\n",
    "ax[0].set_title(\"Inferred model\")"
   ]
  },
  {
   "cell_type": "code",
   "execution_count": 20,
   "id": "ea8dfa12",
   "metadata": {
    "execution": {
     "iopub.execute_input": "2022-08-03T01:36:38.096242Z",
     "iopub.status.busy": "2022-08-03T01:36:38.096065Z",
     "iopub.status.idle": "2022-08-03T01:36:38.576299Z",
     "shell.execute_reply": "2022-08-03T01:36:38.575902Z"
    },
    "papermill": {
     "duration": 0.495897,
     "end_time": "2022-08-03T01:36:38.577128",
     "exception": false,
     "start_time": "2022-08-03T01:36:38.081231",
     "status": "completed"
    },
    "tags": []
   },
   "outputs": [
    {
     "data": {
      "text/plain": [
       "Text(0.5, 1.0, 'Synthetic data from inferred model')"
      ]
     },
     "execution_count": 20,
     "metadata": {},
     "output_type": "execute_result"
    },
    {
     "data": {
      "image/png": "[encoded data removed]",
      "text/plain": [
       "<Figure size 432x288 with 2 Axes>"
      ]
     },
     "metadata": {
      "needs_background": "light"
     },
     "output_type": "display_data"
    }
   ],
   "source": [
    "# plot synthetic data\n",
    "d = forward_oprt.response(model)\n",
    "ax = ert.showERTData(scheme, vals=d, cMin=np.min(data[\"rhoa\"]), cMax=np.max(data[\"rhoa\"]))\n",
    "ax[0].set_title(\"Synthetic data from inferred model\")"
   ]
  },
  {
   "cell_type": "markdown",
   "id": "fe9d2139",
   "metadata": {
    "papermill": {
     "duration": 0.014284,
     "end_time": "2022-08-03T01:36:38.607062",
     "exception": false,
     "start_time": "2022-08-03T01:36:38.592778",
     "status": "completed"
    },
    "tags": []
   },
   "source": [
    "## 3. What's next?\n",
    "\n",
    "Now that we've seen the PyGIMLi ERT problem solved by two different inversion approaches through CoFI,\n",
    "it would be nice to see more inversion solvers (even a sampler!) and a similar problem\n",
    "defined with a rectangular mesh. If you'd like to see some self-contained examples, head to\n",
    "[this GitHub folder](https://github.com/inlab-geo/cofi-examples/tree/main/notebooks/pygimli_ert)\n",
    "to explore more."
   ]
  },
  {
   "cell_type": "markdown",
   "id": "bed86dd3",
   "metadata": {
    "papermill": {
     "duration": 0.01435,
     "end_time": "2022-08-03T01:36:38.635869",
     "exception": false,
     "start_time": "2022-08-03T01:36:38.621519",
     "status": "completed"
    },
    "tags": []
   },
   "source": [
    "<!-- ### 2.3 Bayesian sampling with emcee (exploration)\n",
    "\n",
    "CoFI needs more assumptions about the problem for a sampler to work - these are\n",
    "the log of posterior distribution density and walkers' starting positions.\n",
    "\n",
    "For the log posterior, we define here by specifying `log_prior` and `log_likelihood`.\n",
    "And CoFI will combine them to get the `log_posterior`. -->"
   ]
  },
  {
   "cell_type": "markdown",
   "id": "e80b172a",
   "metadata": {
    "papermill": {
     "duration": 0.016102,
     "end_time": "2022-08-03T01:36:38.670635",
     "exception": false,
     "start_time": "2022-08-03T01:36:38.654533",
     "status": "completed"
    },
    "tags": []
   },
   "source": [
    "---\n",
    "## Watermark"
   ]
  },
  {
   "cell_type": "code",
   "execution_count": 21,
   "id": "6bb00eeb",
   "metadata": {
    "execution": {
     "iopub.execute_input": "2022-08-03T01:36:38.701667Z",
     "iopub.status.busy": "2022-08-03T01:36:38.701363Z",
     "iopub.status.idle": "2022-08-03T01:36:38.704709Z",
     "shell.execute_reply": "2022-08-03T01:36:38.704320Z"
    },
    "papermill": {
     "duration": 0.020955,
     "end_time": "2022-08-03T01:36:38.706376",
     "exception": false,
     "start_time": "2022-08-03T01:36:38.685421",
     "status": "completed"
    },
    "tags": []
   },
   "outputs": [
    {
     "name": "stdout",
     "output_type": "stream",
     "text": [
      "cofi 0.1.2.dev8\n",
      "numpy 1.21.6\n",
      "scipy 1.8.1\n",
      "pygimli 1.2.6\n",
      "matplotlib 3.5.2\n",
      "emcee 3.1.2\n",
      "arviz 0.12.1\n"
     ]
    }
   ],
   "source": [
    "watermark_list = [\"cofi\", \"numpy\", \"scipy\", \"pygimli\", \"matplotlib\", \"emcee\", \"arviz\"]\n",
    "for pkg in watermark_list:\n",
    "    pkg_var = __import__(pkg)\n",
    "    print(pkg, getattr(pkg_var, \"__version__\"))"
   ]
  }
 ],
 "metadata": {
  "kernelspec": {
   "display_name": "Python 3.10.5 ('cofi_env')",
   "language": "python",
   "name": "python3"
  },
  "language_info": {
   "codemirror_mode": {
    "name": "ipython",
    "version": 3
   },
   "file_extension": ".py",
   "mimetype": "text/x-python",
   "name": "python",
   "nbconvert_exporter": "python",
   "pygments_lexer": "ipython3",
   "version": "3.10.5"
  },
  "papermill": {
   "default_parameters": {},
   "duration": 509.992067,
   "end_time": "2022-08-03T01:36:39.238832",
   "environment_variables": {},
   "exception": null,
   "input_path": "notebooks/pygimli_ert/pygimli_ert.ipynb",
   "output_path": "notebooks/pygimli_ert/pygimli_ert.ipynb",
   "parameters": {},
   "start_time": "2022-08-03T01:28:09.246765",
   "version": "2.3.4"
  },
  "vscode": {
   "interpreter": {
    "hash": "f53af8d4cb0cee79f8d6d6212f461365278bf68c0ce0b4237b6e88ef77d505ea"
   }
  }
 },
 "nbformat": 4,
 "nbformat_minor": 5
}
