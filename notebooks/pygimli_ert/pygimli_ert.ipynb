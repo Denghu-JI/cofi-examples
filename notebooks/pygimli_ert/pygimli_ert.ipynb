{
 "cells": [
  {
   "cell_type": "markdown",
   "id": "486df120",
   "metadata": {
    "papermill": {
     "duration": 0.005268,
     "end_time": "2022-07-14T02:25:18.275660",
     "exception": false,
     "start_time": "2022-07-14T02:25:18.270392",
     "status": "completed"
    },
    "tags": []
   },
   "source": [
    "# PyGIMLi - Electrical Resistivity Tomography"
   ]
  },
  {
   "cell_type": "markdown",
   "id": "f0144118",
   "metadata": {
    "papermill": {
     "duration": 0.004019,
     "end_time": "2022-07-14T02:25:18.283865",
     "exception": false,
     "start_time": "2022-07-14T02:25:18.279846",
     "status": "completed"
    },
    "tags": []
   },
   "source": [
    "Using the ERT solver implemented provided by [PyGIMLi](https://www.pygimli.org/), \n",
    "we use different `cofi` solvers to solve the corresponding inverse problem."
   ]
  },
  {
   "cell_type": "markdown",
   "id": "0b36177e",
   "metadata": {
    "papermill": {
     "duration": 0.00414,
     "end_time": "2022-07-14T02:25:18.292418",
     "exception": false,
     "start_time": "2022-07-14T02:25:18.288278",
     "status": "completed"
    },
    "tags": []
   },
   "source": [
    "<!--<badge>--><a href=\"https://colab.research.google.com/github/inlab-geo/cofi-examples/blob/main/notebooks/pygimli_ert/pygimli_ert.ipynb\" target=\"_parent\"><img src=\"https://colab.research.google.com/assets/colab-badge.svg\" alt=\"Open In Colab\"/></a><!--</badge>-->"
   ]
  },
  {
   "cell_type": "markdown",
   "id": "01c4ba3c",
   "metadata": {
    "papermill": {
     "duration": 0.0039,
     "end_time": "2022-07-14T02:25:18.322934",
     "exception": false,
     "start_time": "2022-07-14T02:25:18.319034",
     "status": "completed"
    },
    "tags": []
   },
   "source": [
    "<!-- Again, please don't touch the markdown cell above. We'll generate badge \n",
    "     automatically from the above cell. -->\n",
    "\n",
    "<!-- This cell describes things related to environment setup, so please add more text \n",
    "     if something special (not listed below) is needed to run this notebook -->\n",
    "\n",
    "> If you are running this notebook locally, make sure you've followed [steps here](https://github.com/inlab-geo/cofi-examples#run-the-examples-with-cofi-locally)\n",
    "to set up the environment. (This [environment.yml](https://github.com/inlab-geo/cofi-examples/blob/main/environment.yml) file\n",
    "specifies a list of packages required to run the notebooks)"
   ]
  },
  {
   "cell_type": "markdown",
   "id": "90f5f3d5",
   "metadata": {
    "papermill": {
     "duration": 0.003976,
     "end_time": "2022-07-14T02:25:18.330731",
     "exception": false,
     "start_time": "2022-07-14T02:25:18.326755",
     "status": "completed"
    },
    "tags": []
   },
   "source": [
    "## 0. Import modules"
   ]
  },
  {
   "cell_type": "code",
   "execution_count": 1,
   "id": "789f1fac",
   "metadata": {
    "execution": {
     "iopub.execute_input": "2022-07-14T02:25:18.339743Z",
     "iopub.status.busy": "2022-07-14T02:25:18.339432Z",
     "iopub.status.idle": "2022-07-14T02:25:18.342697Z",
     "shell.execute_reply": "2022-07-14T02:25:18.342284Z"
    },
    "papermill": {
     "duration": 0.009133,
     "end_time": "2022-07-14T02:25:18.343694",
     "exception": false,
     "start_time": "2022-07-14T02:25:18.334561",
     "status": "completed"
    },
    "tags": []
   },
   "outputs": [],
   "source": [
    "# -------------------------------------------------------- #\n",
    "#                                                          #\n",
    "#     Uncomment below to set up environment on \"colab\"     #\n",
    "#                                                          #\n",
    "# -------------------------------------------------------- #\n",
    "\n",
    "# !pip install -U cofi\n",
    "\n",
    "# !MINICONDA_INSTALLER_SCRIPT=Miniconda3-4.5.4-Linux-x86_64.sh\n",
    "# !MINICONDA_PREFIX=/usr/local\n",
    "# !wget https://repo.continuum.io/miniconda/$MINICONDA_INSTALLER_SCRIPT\n",
    "# !chmod +x $MINICONDA_INSTALLER_SCRIPT\n",
    "# !./$MINICONDA_INSTALLER_SCRIPT -b -f -p $MINICONDA_PREFIX\n",
    "# !conda install -c gimli pygimli -y\n",
    "\n",
    "# import sys\n",
    "# _ = (sys.path.append(\"/usr/local/lib/python3.7/site-packages\"))"
   ]
  },
  {
   "cell_type": "markdown",
   "id": "8e70ee4c",
   "metadata": {
    "papermill": {
     "duration": 0.004388,
     "end_time": "2022-07-14T02:25:18.352595",
     "exception": false,
     "start_time": "2022-07-14T02:25:18.348207",
     "status": "completed"
    },
    "tags": []
   },
   "source": [
    "We will need the following packages:\n",
    "\n",
    "- `numpy` for matrices and matrix-related functions\n",
    "- `matplotlib` for plotting\n",
    "- `pygimli` for forward modelling of the problem\n",
    "- `cofi` for accessing different inference solvers\n",
    "\n",
    "Additionally, we wrap some `pygimli` code in file `pygimli_ert_lib.py` and import it\n",
    "here for conciseness."
   ]
  },
  {
   "cell_type": "code",
   "execution_count": 2,
   "id": "ec18e85b",
   "metadata": {
    "execution": {
     "iopub.execute_input": "2022-07-14T02:25:18.361112Z",
     "iopub.status.busy": "2022-07-14T02:25:18.360898Z",
     "iopub.status.idle": "2022-07-14T02:25:19.457962Z",
     "shell.execute_reply": "2022-07-14T02:25:19.457426Z"
    },
    "papermill": {
     "duration": 1.103221,
     "end_time": "2022-07-14T02:25:19.459649",
     "exception": false,
     "start_time": "2022-07-14T02:25:18.356428",
     "status": "completed"
    },
    "tags": []
   },
   "outputs": [],
   "source": [
    "import numpy as np\n",
    "import matplotlib.pyplot as plt\n",
    "import pygimli\n",
    "from pygimli import meshtools\n",
    "from pygimli.physics import ert\n",
    "\n",
    "from cofi import BaseProblem, InversionOptions, Inversion\n",
    "from cofi.solvers import BaseSolver\n",
    "\n",
    "from pygimli_ert_lib import *\n",
    "\n",
    "np.random.seed(42)"
   ]
  },
  {
   "cell_type": "markdown",
   "id": "2fe2b170",
   "metadata": {
    "papermill": {
     "duration": 0.005014,
     "end_time": "2022-07-14T02:25:19.469724",
     "exception": false,
     "start_time": "2022-07-14T02:25:19.464710",
     "status": "completed"
    },
    "tags": []
   },
   "source": [
    "## 1. Define the problem"
   ]
  },
  {
   "cell_type": "markdown",
   "id": "2e9e63ac",
   "metadata": {
    "papermill": {
     "duration": 0.004556,
     "end_time": "2022-07-14T02:25:19.479084",
     "exception": false,
     "start_time": "2022-07-14T02:25:19.474528",
     "status": "completed"
    },
    "tags": []
   },
   "source": [
    "We first define the true model, the survey and map it on a computational mesh designed for the survey and true anomaly."
   ]
  },
  {
   "cell_type": "code",
   "execution_count": 3,
   "id": "52e68bd1",
   "metadata": {
    "execution": {
     "iopub.execute_input": "2022-07-14T02:25:19.489789Z",
     "iopub.status.busy": "2022-07-14T02:25:19.489330Z",
     "iopub.status.idle": "2022-07-14T02:25:19.824900Z",
     "shell.execute_reply": "2022-07-14T02:25:19.824396Z"
    },
    "papermill": {
     "duration": 0.342375,
     "end_time": "2022-07-14T02:25:19.825986",
     "exception": false,
     "start_time": "2022-07-14T02:25:19.483611",
     "status": "completed"
    },
    "tags": []
   },
   "outputs": [
    {
     "data": {
      "text/plain": [
       "Text(0.5, 1.0, 'True model')"
      ]
     },
     "execution_count": 3,
     "metadata": {},
     "output_type": "execute_result"
    },
    {
     "data": {
      "image/png": "[encoded data removed]",
      "text/plain": [
       "<Figure size 432x288 with 2 Axes>"
      ]
     },
     "metadata": {
      "needs_background": "light"
     },
     "output_type": "display_data"
    }
   ],
   "source": [
    "# PyGIMLi - define measuring scheme, geometry, forward mesh and true model\n",
    "scheme = survey_scheme()\n",
    "mesh, rhomap = model_true(scheme)\n",
    "\n",
    "# plot the true model\n",
    "ax = pygimli.show(mesh, data=rhomap, label=\"$\\Omega m$\", showMesh=True)\n",
    "ax[0].set_title(\"True model\")"
   ]
  },
  {
   "cell_type": "markdown",
   "id": "aa0e73c0",
   "metadata": {
    "papermill": {
     "duration": 0.005124,
     "end_time": "2022-07-14T02:25:19.836173",
     "exception": false,
     "start_time": "2022-07-14T02:25:19.831049",
     "status": "completed"
    },
    "tags": []
   },
   "source": [
    "Generate the synthetic data as a container with all the necessary information for plotting."
   ]
  },
  {
   "cell_type": "code",
   "execution_count": 4,
   "id": "416fa4c9",
   "metadata": {
    "execution": {
     "iopub.execute_input": "2022-07-14T02:25:19.846641Z",
     "iopub.status.busy": "2022-07-14T02:25:19.846463Z",
     "iopub.status.idle": "2022-07-14T02:25:20.378764Z",
     "shell.execute_reply": "2022-07-14T02:25:20.378314Z"
    },
    "papermill": {
     "duration": 0.538847,
     "end_time": "2022-07-14T02:25:20.379853",
     "exception": false,
     "start_time": "2022-07-14T02:25:19.841006",
     "status": "completed"
    },
    "tags": []
   },
   "outputs": [
    {
     "name": "stderr",
     "output_type": "stream",
     "text": [
      "14/07/22 - 12:25:19 - pyGIMLi - \u001b[0;32;49mINFO\u001b[0m - Calculate geometric factors.\n"
     ]
    },
    {
     "name": "stdout",
     "output_type": "stream",
     "text": [
      "ModellingBase::setMesh() copying new mesh ... Found datafile: 51 electrodes\n",
      "Found: 51 free-electrodes\n",
      "rMin = 0.5, rMax = 100\n",
      "NGauLeg + NGauLag for inverse Fouriertransformation: 13 + 4\n",
      "Found non-Neumann domain\n",
      "0.013 s\n",
      "FOP updating mesh dependencies ... 0 s\n",
      "Obtaining geometric factors (analytical)\n",
      "Calculating response for model: min = 50 max = 200\n",
      "Allocating memory for primary potential...... 0.003\n",
      "\n",
      "No primary potential for secondary field calculation. Calculating analytically...\n",
      "Factorize (Cholmod) matrix ... 0.006\n",
      "Factorize (Cholmod) matrix ... 0.004\n",
      "Factorize (Cholmod) matrix ... 0.004\n",
      "Factorize (Cholmod) matrix ... 0.004\n",
      "Factorize (Cholmod) matrix ... 0.004\n",
      "Factorize (Cholmod) matrix ... 0.004\n",
      "Factorize (Cholmod) matrix ... 0.004\n",
      "Factorize (Cholmod) matrix ... 0.004\n",
      "Factorize (Cholmod) matrix ... 0.004\n",
      "Factorize (Cholmod) matrix ... 0.004\n",
      "Factorize (Cholmod) matrix ... 0.004\n",
      "Factorize (Cholmod) matrix ... 0.004\n",
      "Factorize (Cholmod) matrix ... 0.005\n",
      "Factorize (Cholmod) matrix ... 0.004\n",
      "Factorize (Cholmod) matrix ... 0.005\n",
      "Factorize (Cholmod) matrix ... 0.004\n",
      "Factorize (Cholmod) matrix ... 0.005\n",
      "Forward: time: 0.159s\n",
      "Response: min = 98.7322 max = 218.789 mean = 173.9\n",
      "Reciprocity rms(modelReciprocity) 0.409386%, max: 1.53119%\n",
      "relativeError set to a value > 0.5 .. assuming this is a percentage Error level dividing them by 100\n",
      "Data error estimate (min:max)  0.010009229451098493 : 0.22552739004919173\n"
     ]
    },
    {
     "data": {
      "text/plain": [
       "Text(0.5, 1.0, 'Provided data')"
      ]
     },
     "execution_count": 4,
     "metadata": {},
     "output_type": "execute_result"
    },
    {
     "data": {
      "image/png": "[encoded data removed]",
      "text/plain": [
       "<Figure size 432x288 with 2 Axes>"
      ]
     },
     "metadata": {
      "needs_background": "light"
     },
     "output_type": "display_data"
    }
   ],
   "source": [
    "# PyGIMLi - generate data\n",
    "data, log_data = ert_simulate(mesh, scheme, rhomap)\n",
    "\n",
    "ax = ert.show(data)\n",
    "ax[0].set_title(\"Provided data\")"
   ]
  },
  {
   "cell_type": "markdown",
   "id": "83e11e30",
   "metadata": {
    "papermill": {
     "duration": 0.020374,
     "end_time": "2022-07-14T02:25:20.424791",
     "exception": false,
     "start_time": "2022-07-14T02:25:20.404417",
     "status": "completed"
    },
    "tags": []
   },
   "source": [
    "Further, we create a `pygimli.ert.ERTManager` instance to keep record of problem-specific\n",
    "information like the inversion mesh, and to perform forward operation for the inversion\n",
    "solvers."
   ]
  },
  {
   "cell_type": "code",
   "execution_count": 5,
   "id": "9058af7d",
   "metadata": {
    "execution": {
     "iopub.execute_input": "2022-07-14T02:25:20.445373Z",
     "iopub.status.busy": "2022-07-14T02:25:20.445097Z",
     "iopub.status.idle": "2022-07-14T02:25:20.447957Z",
     "shell.execute_reply": "2022-07-14T02:25:20.447601Z"
    },
    "papermill": {
     "duration": 0.015659,
     "end_time": "2022-07-14T02:25:20.449053",
     "exception": false,
     "start_time": "2022-07-14T02:25:20.433394",
     "status": "completed"
    },
    "tags": []
   },
   "outputs": [],
   "source": [
    "# create PyGIMLi's ERT manager\n",
    "ert_manager = ert_manager(data)"
   ]
  },
  {
   "cell_type": "markdown",
   "id": "1beb62a0",
   "metadata": {
    "papermill": {
     "duration": 0.006611,
     "end_time": "2022-07-14T02:25:20.460633",
     "exception": false,
     "start_time": "2022-07-14T02:25:20.454022",
     "status": "completed"
    },
    "tags": []
   },
   "source": [
    "The inversion can use a different mesh and the mesh to be used should know nothing about the mesh that was designed based on the true model. We wrap two kinds of mesh as examples in the library code `pygimli_ert_lib.py`, namely triangular and rectangular mesh.\n",
    "\n",
    "Use `imesh_tri = inversion_mesh(scheme)` to initialise a triangular mesh. This function uses PyGIMLi's own mesh generator\n",
    "and generates triangular mesh automatically from given sensor locations. The resulting mesh will have a smaller area as \n",
    "unknowns to be inverted, as well as a background part with values prolongated outside from the parametric domain by PyGIMLi.\n",
    "You will see an example plot in the code cell below. \n",
    "\n",
    "Use `imesh_rect = inversion_mesh_rect(ert_manager)` to initislise a rectangular mesh. The grid mesh is created from these x and y\n",
    "nodes: `x = np.linspace(start=-5, stop=55, num=61)`, and `y = np.linspace(start=-20,stop=0,num=10)`. And again, there's a triangular\n",
    "background with values prolongated outside from the parametric domain by PyGIMLi.\n",
    "\n",
    "Here we first demonstrate how to use a *triangular mesh*. Note that this makes the inversion problem under-determined."
   ]
  },
  {
   "cell_type": "code",
   "execution_count": 6,
   "id": "9f471f7f",
   "metadata": {
    "execution": {
     "iopub.execute_input": "2022-07-14T02:25:20.471263Z",
     "iopub.status.busy": "2022-07-14T02:25:20.471112Z",
     "iopub.status.idle": "2022-07-14T02:25:20.731797Z",
     "shell.execute_reply": "2022-07-14T02:25:20.731387Z"
    },
    "papermill": {
     "duration": 0.267229,
     "end_time": "2022-07-14T02:25:20.732736",
     "exception": false,
     "start_time": "2022-07-14T02:25:20.465507",
     "status": "completed"
    },
    "tags": []
   },
   "outputs": [
    {
     "name": "stderr",
     "output_type": "stream",
     "text": [
      "14/07/22 - 12:25:20 - pyGIMLi - \u001b[0;32;49mINFO\u001b[0m - Found 2 regions.\n"
     ]
    },
    {
     "name": "stderr",
     "output_type": "stream",
     "text": [
      "14/07/22 - 12:25:20 - pyGIMLi - \u001b[0;32;49mINFO\u001b[0m - Region with smallest marker (1) set to background\n"
     ]
    },
    {
     "data": {
      "text/plain": [
       "Text(0.5, 1.0, 'Mesh used for inversion')"
      ]
     },
     "execution_count": 6,
     "metadata": {},
     "output_type": "execute_result"
    },
    {
     "data": {
      "image/png": "[encoded data removed]",
      "text/plain": [
       "<Figure size 432x288 with 2 Axes>"
      ]
     },
     "metadata": {
      "needs_background": "light"
     },
     "output_type": "display_data"
    }
   ],
   "source": [
    "inv_mesh = inversion_mesh(ert_manager)\n",
    "ax = pygimli.show(inv_mesh, showMesh=True, markers=True)\n",
    "ax[0].set_title(\"Mesh used for inversion\")"
   ]
  },
  {
   "cell_type": "markdown",
   "id": "e19954d9",
   "metadata": {
    "papermill": {
     "duration": 0.005825,
     "end_time": "2022-07-14T02:25:20.744677",
     "exception": false,
     "start_time": "2022-07-14T02:25:20.738852",
     "status": "completed"
    },
    "tags": []
   },
   "source": [
    "Check [here](https://github.com/inlab-geo/cofi-examples/tree/main/notebooks/pygimli_ert)\n",
    "for inversion examples using triangular mesh."
   ]
  },
  {
   "cell_type": "markdown",
   "id": "2dfd82fe",
   "metadata": {
    "papermill": {
     "duration": 0.013628,
     "end_time": "2022-07-14T02:25:20.771236",
     "exception": false,
     "start_time": "2022-07-14T02:25:20.757608",
     "status": "completed"
    },
    "tags": []
   },
   "source": [
    "With the inversion mesh created, we now define a starting model, forward operator and \n",
    "weighting matrix for regularisation using PyGIMLi."
   ]
  },
  {
   "cell_type": "code",
   "execution_count": 7,
   "id": "34ee37c0",
   "metadata": {
    "execution": {
     "iopub.execute_input": "2022-07-14T02:25:20.797475Z",
     "iopub.status.busy": "2022-07-14T02:25:20.797197Z",
     "iopub.status.idle": "2022-07-14T02:25:21.030172Z",
     "shell.execute_reply": "2022-07-14T02:25:21.029741Z"
    },
    "papermill": {
     "duration": 0.245523,
     "end_time": "2022-07-14T02:25:21.031174",
     "exception": false,
     "start_time": "2022-07-14T02:25:20.785651",
     "status": "completed"
    },
    "tags": []
   },
   "outputs": [
    {
     "name": "stderr",
     "output_type": "stream",
     "text": [
      "14/07/22 - 12:25:20 - Core - \u001b[0;33;49mWARNING\u001b[0m - Region Nr: 1  is background and should not get a model transformation.\n"
     ]
    },
    {
     "name": "stderr",
     "output_type": "stream",
     "text": [
      "14/07/22 - 12:25:20 - Core - \u001b[0;33;49mWARNING\u001b[0m - Region Nr: 1  is background and should not get a model control.\n"
     ]
    },
    {
     "name": "stderr",
     "output_type": "stream",
     "text": [
      "14/07/22 - 12:25:20 - pyGIMLi - \u001b[0;32;49mINFO\u001b[0m - Creating forward mesh from region infos.\n"
     ]
    },
    {
     "name": "stderr",
     "output_type": "stream",
     "text": [
      "14/07/22 - 12:25:20 - pyGIMLi - \u001b[0;32;49mINFO\u001b[0m - Creating refined mesh (H2) to solve forward task.\n"
     ]
    },
    {
     "data": {
      "text/plain": [
       "Text(0.5, 1.0, 'Starting model')"
      ]
     },
     "execution_count": 7,
     "metadata": {},
     "output_type": "execute_result"
    },
    {
     "data": {
      "image/png": "[encoded data removed]",
      "text/plain": [
       "<Figure size 432x288 with 2 Axes>"
      ]
     },
     "metadata": {
      "needs_background": "light"
     },
     "output_type": "display_data"
    }
   ],
   "source": [
    "# PyGIMLi's forward operator (ERTModelling)\n",
    "forward_oprt = ert_forward_operator(ert_manager, scheme, inv_mesh)\n",
    "\n",
    "# extract regularisation matrix\n",
    "Wm = reg_matrix(forward_oprt)\n",
    "\n",
    "# initialise a starting model for inversion\n",
    "start_model = starting_model(ert_manager)\n",
    "ax = pygimli.show(ert_manager.paraDomain, data=start_model, label=\"$\\Omega m$\", showMesh=True)\n",
    "ax[0].set_title(\"Starting model\")"
   ]
  },
  {
   "cell_type": "markdown",
   "id": "5533096b",
   "metadata": {
    "papermill": {
     "duration": 0.007149,
     "end_time": "2022-07-14T02:25:21.045383",
     "exception": false,
     "start_time": "2022-07-14T02:25:21.038234",
     "status": "completed"
    },
    "tags": []
   },
   "source": [
    "CoFI and other inference packages require a set of functions that provide the misfit, the jacobian the residual within the case of scipy standardised interfaces. All these functions are defined in the library file `pygimli_ert_lib.py`, so open this file if you'd like to find out the details. These functions are:\n",
    "\n",
    "- `get_response`\n",
    "- `get_jacobian`\n",
    "- `get_residuals`\n",
    "- `get_misfit`\n",
    "- `get_regularisation`\n",
    "- `get_gradient`\n",
    "- `get_hessian`"
   ]
  },
  {
   "cell_type": "markdown",
   "id": "e506031c",
   "metadata": {
    "papermill": {
     "duration": 0.006115,
     "end_time": "2022-07-14T02:25:21.058069",
     "exception": false,
     "start_time": "2022-07-14T02:25:21.051954",
     "status": "completed"
    },
    "tags": []
   },
   "source": [
    "With all the above forward operations set up with PyGIMLi, we now define the problem in `cofi`\n",
    "by setting the problem information for a `BaseProblem` object."
   ]
  },
  {
   "cell_type": "code",
   "execution_count": 8,
   "id": "975514c6",
   "metadata": {
    "execution": {
     "iopub.execute_input": "2022-07-14T02:25:21.071588Z",
     "iopub.status.busy": "2022-07-14T02:25:21.071288Z",
     "iopub.status.idle": "2022-07-14T02:25:21.075313Z",
     "shell.execute_reply": "2022-07-14T02:25:21.074945Z"
    },
    "papermill": {
     "duration": 0.011908,
     "end_time": "2022-07-14T02:25:21.076180",
     "exception": false,
     "start_time": "2022-07-14T02:25:21.064272",
     "status": "completed"
    },
    "tags": []
   },
   "outputs": [],
   "source": [
    "# hyperparameters\n",
    "lamda = 0.0005\n",
    "\n",
    "# CoFI - define BaseProblem\n",
    "ert_problem = BaseProblem()\n",
    "ert_problem.name = \"Electrical Resistivity Tomography defined through PyGIMLi\"\n",
    "ert_problem.set_forward(get_response, args=[forward_oprt])\n",
    "ert_problem.set_jacobian(get_jacobian, args=[forward_oprt])\n",
    "ert_problem.set_residual(get_residual, args=[log_data, forward_oprt])\n",
    "ert_problem.set_data_misfit(get_data_misfit, args=[log_data, forward_oprt])\n",
    "ert_problem.set_regularisation(get_regularisation, args=[Wm, lamda])\n",
    "ert_problem.set_gradient(get_gradient, args=[log_data, forward_oprt, Wm, lamda])\n",
    "ert_problem.set_hessian(get_hessian, args=[log_data, forward_oprt, Wm, lamda])\n",
    "ert_problem.set_initial_model(start_model)"
   ]
  },
  {
   "cell_type": "markdown",
   "id": "42050d98",
   "metadata": {
    "papermill": {
     "duration": 0.006287,
     "end_time": "2022-07-14T02:25:21.095773",
     "exception": false,
     "start_time": "2022-07-14T02:25:21.089486",
     "status": "completed"
    },
    "tags": []
   },
   "source": [
    "Review what information is included in the `BaseProblem` object:"
   ]
  },
  {
   "cell_type": "code",
   "execution_count": 9,
   "id": "dd8156b3",
   "metadata": {
    "execution": {
     "iopub.execute_input": "2022-07-14T02:25:21.109130Z",
     "iopub.status.busy": "2022-07-14T02:25:21.108810Z",
     "iopub.status.idle": "2022-07-14T02:25:21.111630Z",
     "shell.execute_reply": "2022-07-14T02:25:21.111271Z"
    },
    "papermill": {
     "duration": 0.010474,
     "end_time": "2022-07-14T02:25:21.112494",
     "exception": false,
     "start_time": "2022-07-14T02:25:21.102020",
     "status": "completed"
    },
    "tags": []
   },
   "outputs": [
    {
     "name": "stdout",
     "output_type": "stream",
     "text": [
      "========================================================================================\n",
      "Summary for inversion problem: Electrical Resistivity Tomography defined through PyGIMLi\n",
      "========================================================================================\n",
      "Model shape: (831,)\n",
      "----------------------------------------------------------------------------------------\n",
      "List of functions/properties set by you:\n",
      "['gradient', 'hessian', 'residual', 'jacobian', 'data_misfit', 'regularisation', 'forward', 'initial_model', 'model_shape']\n",
      "----------------------------------------------------------------------------------------\n",
      "List of functions/properties created based on what you have provided:\n",
      "['objective', 'hessian_times_vector', 'jacobian_times_vector']\n",
      "----------------------------------------------------------------------------------------\n",
      "List of functions/properties not set by you:\n",
      "['objective', 'log_posterior', 'log_posterior_with_blobs', 'log_likelihood', 'log_prior', 'hessian_times_vector', 'jacobian_times_vector', 'data', 'data_covariance', 'data_covariance_inv', 'walkers_starting_pos', 'blobs_dtype', 'bounds', 'constraints']\n"
     ]
    }
   ],
   "source": [
    "ert_problem.summary()"
   ]
  },
  {
   "cell_type": "markdown",
   "id": "69e178a0",
   "metadata": {
    "papermill": {
     "duration": 0.006385,
     "end_time": "2022-07-14T02:25:21.125464",
     "exception": false,
     "start_time": "2022-07-14T02:25:21.119079",
     "status": "completed"
    },
    "tags": []
   },
   "source": [
    "## 2. Define the inversion options and run\n",
    "\n",
    "### 2.1 SciPy's optimiser ([TNC](https://docs.scipy.org/doc/scipy/reference/optimize.minimize-tnc.html#optimize-minimize-tnc))"
   ]
  },
  {
   "cell_type": "code",
   "execution_count": 10,
   "id": "bbee9caa",
   "metadata": {
    "execution": {
     "iopub.execute_input": "2022-07-14T02:25:21.138801Z",
     "iopub.status.busy": "2022-07-14T02:25:21.138487Z",
     "iopub.status.idle": "2022-07-14T02:25:21.141104Z",
     "shell.execute_reply": "2022-07-14T02:25:21.140751Z"
    },
    "papermill": {
     "duration": 0.01023,
     "end_time": "2022-07-14T02:25:21.141967",
     "exception": false,
     "start_time": "2022-07-14T02:25:21.131737",
     "status": "completed"
    },
    "tags": []
   },
   "outputs": [
    {
     "name": "stdout",
     "output_type": "stream",
     "text": [
      "Based on what you've provided so far, here are possible solvers:\n",
      "{\n",
      "    \"optimisation\": [\n",
      "        \"scipy.optimize.minimize\",\n",
      "        \"scipy.optimize.least_squares\"\n",
      "    ],\n",
      "    \"linear least square\": [],\n",
      "    \"sampling\": []\n",
      "}\n"
     ]
    }
   ],
   "source": [
    "ert_problem.suggest_solvers();"
   ]
  },
  {
   "cell_type": "code",
   "execution_count": 11,
   "id": "0a0066cc",
   "metadata": {
    "execution": {
     "iopub.execute_input": "2022-07-14T02:25:21.155671Z",
     "iopub.status.busy": "2022-07-14T02:25:21.155407Z",
     "iopub.status.idle": "2022-07-14T02:25:21.157756Z",
     "shell.execute_reply": "2022-07-14T02:25:21.157408Z"
    },
    "papermill": {
     "duration": 0.010162,
     "end_time": "2022-07-14T02:25:21.158553",
     "exception": false,
     "start_time": "2022-07-14T02:25:21.148391",
     "status": "completed"
    },
    "tags": []
   },
   "outputs": [],
   "source": [
    "inv_options_scipy = InversionOptions()\n",
    "inv_options_scipy.set_tool(\"scipy.optimize.minimize\")\n",
    "inv_options_scipy.set_params(method=\"trust-constr\")"
   ]
  },
  {
   "cell_type": "markdown",
   "id": "bdfc8266",
   "metadata": {
    "papermill": {
     "duration": 0.006183,
     "end_time": "2022-07-14T02:25:21.171088",
     "exception": false,
     "start_time": "2022-07-14T02:25:21.164905",
     "status": "completed"
    },
    "tags": []
   },
   "source": [
    "Review what's been defined for the inversion we are about to run:"
   ]
  },
  {
   "cell_type": "code",
   "execution_count": 12,
   "id": "58b9f7d7",
   "metadata": {
    "execution": {
     "iopub.execute_input": "2022-07-14T02:25:21.184240Z",
     "iopub.status.busy": "2022-07-14T02:25:21.184090Z",
     "iopub.status.idle": "2022-07-14T02:25:21.186567Z",
     "shell.execute_reply": "2022-07-14T02:25:21.186214Z"
    },
    "papermill": {
     "duration": 0.010095,
     "end_time": "2022-07-14T02:25:21.187413",
     "exception": false,
     "start_time": "2022-07-14T02:25:21.177318",
     "status": "completed"
    },
    "tags": []
   },
   "outputs": [
    {
     "name": "stdout",
     "output_type": "stream",
     "text": [
      "=============================\n",
      "Summary for inversion options\n",
      "=============================\n",
      "Solving method: None set\n",
      "Use `suggest_solving_methods()` to check available solving methods.\n",
      "-----------------------------\n",
      "Backend tool: `scipy.optimize.minimize` - SciPy's optimisers that minimises a scalar function with respect to one or more variables, check SciPy's documentation page for a list of methods\n",
      "References: ['https://docs.scipy.org/doc/scipy/reference/generated/scipy.optimize.minimize.html']\n",
      "Use `suggest_tools()` to check available backend tools.\n",
      "-----------------------------\n",
      "Solver-specific parameters: \n",
      "method = trust-constr\n",
      "Use `suggest_solver_params()` to check required/optional solver-specific parameters.\n"
     ]
    }
   ],
   "source": [
    "inv_options_scipy.summary()"
   ]
  },
  {
   "cell_type": "code",
   "execution_count": 13,
   "id": "1949bafa",
   "metadata": {
    "execution": {
     "iopub.execute_input": "2022-07-14T02:25:21.201402Z",
     "iopub.status.busy": "2022-07-14T02:25:21.200930Z",
     "iopub.status.idle": "2022-07-14T02:40:43.134052Z",
     "shell.execute_reply": "2022-07-14T02:40:43.133326Z"
    },
    "papermill": {
     "duration": 921.949783,
     "end_time": "2022-07-14T02:40:43.143715",
     "exception": false,
     "start_time": "2022-07-14T02:25:21.193932",
     "status": "completed"
    },
    "tags": []
   },
   "outputs": [
    {
     "name": "stdout",
     "output_type": "stream",
     "text": [
      "============================\n",
      "Summary for inversion result\n",
      "============================\n",
      "SUCCESS\n",
      "----------------------------\n",
      "nit: 533\n",
      "nfev: 533\n",
      "njev: 506\n",
      "nhev: 506\n",
      "cg_niter: 532\n",
      "cg_stop_cond: 2\n",
      "fun: 61.261303734246994\n",
      "grad: [-3.11162557e-02 -2.40993447e-03  2.65305045e-01 -1.61723295e-01\n",
      "  5.03653024e-02  2.80906137e-01 -3.55337500e-02  2.03139605e-03\n",
      "  8.72587657e-02 -5.75013394e-02  1.03381743e-02 -1.83579909e-01\n",
      "  1.66401747e-02  5.24298506e-02  6.87353893e-03  8.33876711e-03\n",
      "  4.43329761e-02 -1.65491747e-01 -9.86688247e-03 -8.42407296e-03\n",
      "  1.76107060e-02  6.55326099e-01  1.61361988e-02  6.44113955e-02\n",
      "  5.49789426e-02 -6.46034100e-03  7.36761602e-02  1.51415239e-01\n",
      "  5.08218678e-03  2.08687788e-01  9.22644408e-02 -3.05640192e-02\n",
      "  1.39179859e-01 -5.23179730e-02  1.08404066e-01  1.79431728e-01\n",
      "  3.30765221e-01  1.16249404e-02  1.06409340e-02 -2.62566243e-01\n",
      "  5.90122174e-02 -3.12778043e-01  3.69394649e-01  2.12662668e-02\n",
      "  3.70361088e-01 -5.76166258e-03  4.52488493e-02  7.42871566e-02\n",
      " -1.63796558e-01 -1.65222277e-01 -7.85086190e-02 -1.66291975e-01\n",
      " -8.47478691e-02  2.08556867e-02  1.07749878e-01 -2.83725817e-01\n",
      " -2.55265873e-01  1.12913685e+00 -1.27908172e-01  1.58477536e-01\n",
      "  5.53364656e-02 -5.37911638e-02 -3.65614252e-01  1.67296733e-01\n",
      "  4.03085110e-02 -2.67761806e-01  4.91060903e-02 -8.39171033e-02\n",
      " -7.00465755e-02  2.04587670e-01 -1.98960222e-02  1.00708251e-01\n",
      " -2.79495775e-01 -1.77386879e-01  1.89602454e-01 -1.84297811e-01\n",
      "  7.05114115e-02  1.03315386e-01 -9.51332735e-02  1.20632654e-01\n",
      "  1.96250063e-01  1.58226301e-02 -1.33047554e-01  1.18636074e-01\n",
      "  9.28038655e-03  1.59274895e-01  4.79606465e-02  9.13709977e-02\n",
      "  7.43271616e-03  2.42569976e-01 -3.27722121e-02 -5.41203153e-02\n",
      " -3.40457879e-01  2.00898986e-02  3.36834921e-02 -1.01692928e-01\n",
      "  1.79532260e-02  8.82346526e-02  7.87731017e-03 -4.23658890e-01\n",
      " -4.25481189e-02  1.26220929e-01 -1.02770402e-01 -3.37936575e-02\n",
      " -6.30029170e-02  1.62799657e-02 -9.24191481e-02 -1.94156487e-01\n",
      "  2.40452251e-02  2.01730851e-02  9.09146997e-02  1.54878102e-02\n",
      " -2.59876899e-01  2.36520256e-02 -5.74645070e-02  3.73769740e-02\n",
      "  1.60123748e-02  5.89550104e-02 -1.11495365e-01  1.91286982e-02\n",
      "  3.98884953e-02  3.54486332e-02  2.79259915e-02 -1.27560320e-02\n",
      "  1.65262744e-02  7.62336686e-03  3.45979539e-03  1.80710008e-02\n",
      "  1.88437759e-02  7.49660528e-03 -9.24832481e-03  3.18103826e-02\n",
      "  3.27250371e-03  1.96053232e-03 -1.40857705e-02  3.65181816e-03\n",
      "  2.90847529e-02  3.37936073e-03  9.07278810e-03  1.66492154e-03\n",
      " -1.21805214e-03  2.16486213e-03 -4.89250223e-02  5.42865859e-03\n",
      " -4.46172539e-02  2.60451688e-03 -8.45371833e-04  4.87442144e-03\n",
      " -6.00371994e-04  7.90766205e-04 -4.86054736e-04  1.66398425e-02\n",
      " -4.00512592e-02 -3.39007035e-04  1.50531873e-02 -5.35527174e-02\n",
      "  2.87638509e-02  6.74037360e-05  2.46603370e-02  1.36645814e-03\n",
      " -7.91540693e-03 -4.37586613e-02 -5.82998104e-03  3.47305087e-02\n",
      " -2.16542796e-02  9.47928655e-03 -1.78053843e-02 -2.51959267e-03\n",
      "  2.00256847e-02 -6.63737400e-03 -6.79312431e-02 -3.96510360e-02\n",
      " -1.47271870e-02 -1.41084339e-02 -2.54093274e-02 -1.47984647e-03\n",
      " -3.33859476e-02  1.55947748e-02 -2.17091375e-02 -1.39631976e-02\n",
      " -3.86221345e-02  1.39637749e-02 -1.75541343e-02 -3.87825439e-02\n",
      " -6.94552804e-02 -1.72838664e-02 -1.02666642e-01 -1.15323654e-02\n",
      " -7.54666361e-02  3.06314638e-02  2.18935979e-02  2.01521419e-02\n",
      "  1.54626198e-02 -6.16768731e-02  1.70751516e-02 -1.10560392e-01\n",
      "  5.22663487e-04 -5.64348096e-02  1.91730209e-02 -8.91205246e-03\n",
      "  1.81850792e-02 -7.16067686e-03  2.37812133e-02 -1.06164440e-02\n",
      " -3.05059827e-02  2.10415017e-02  2.25253595e-02  2.25389408e-02\n",
      "  7.38290679e-02  2.43557806e-02  4.38086468e-02  3.09470380e-02\n",
      "  1.35269224e-01  1.67278607e-01  2.09246599e-01  1.48449577e-01\n",
      "  5.09355605e-02  9.09092909e-02  2.37106412e-01  5.15670971e-02\n",
      "  1.60422011e-01  1.39871160e-01  7.68204211e-02  1.13323782e-01\n",
      "  7.29772406e-02  3.38531089e-01  1.50559391e-01  4.74292455e-01\n",
      "  2.72699117e-01 -1.49116345e-01 -1.71296124e-01 -2.59570552e-01\n",
      " -4.07642273e-01 -1.12260128e-01  1.61074144e-01 -1.59806341e-01\n",
      " -2.62233920e-01 -1.09703377e-01 -9.13890343e-02  3.40541094e-02\n",
      "  1.83044671e-02  9.74343491e-02  6.86028094e-02 -4.97541932e-02\n",
      " -2.68723550e-01 -7.41701030e-03 -8.22739691e-02 -7.43847226e-02\n",
      "  5.26175836e-03  2.51064288e-03  2.51740299e-03  1.19564258e-02\n",
      "  2.86252869e-02  4.40534790e-03  1.91855097e-02  1.59890312e-02\n",
      "  4.67289579e-02  1.92796159e-02  3.07316712e-02 -1.17961529e-02\n",
      " -4.16747118e-03  3.18105103e-03 -5.18789856e-04  1.11390139e-02\n",
      "  1.62794235e-02 -2.19362098e-05  1.21059715e-03  5.14635749e-03\n",
      "  1.85051838e-02  1.76755893e-03 -2.75629124e-02 -7.81696624e-03\n",
      " -1.24535794e-02 -1.31146705e-02 -3.64002391e-02 -2.22528568e-02\n",
      " -1.22971460e-02 -2.93559219e-02  2.00566057e-02 -2.79349249e-02\n",
      " -1.91985853e-03 -2.98959573e-02 -2.43518000e-02 -4.83940721e-02\n",
      " -2.05813519e-02 -4.33545493e-02  1.73068046e-03  2.63642207e-02\n",
      "  3.22535447e-02  2.57666111e-02  4.13424945e-03 -8.80447333e-02\n",
      " -8.23940002e-02  1.60038185e-02  1.33045205e-02  1.10763338e-02\n",
      " -1.73091506e-01  1.28886239e-02  1.12805876e-02 -2.04178421e-02\n",
      "  1.86453964e-02  2.16749886e-02  1.03192879e-01  4.60065338e-01\n",
      "  1.27843787e-02  1.11920127e-01  3.93066391e-02 -1.36526515e-01\n",
      " -1.16896938e-01 -1.50637461e-01  1.27106651e-01  3.64346797e-01\n",
      " -6.16755115e-02 -2.90631983e-01 -1.93353118e-01 -8.99193163e-02\n",
      "  1.18237441e-02  5.62185897e-03 -1.57362433e-01 -1.72779741e-01\n",
      "  9.88535561e-03 -6.18919090e-02 -2.27697296e-02  6.34044060e-01\n",
      " -1.26590539e-01 -1.52689205e-01 -3.23974038e-01 -1.90515309e-02\n",
      " -3.92286604e-03  3.90836160e-03  5.37624114e-03  2.35965873e-02\n",
      " -6.23030277e-02  1.67098328e-02  2.53373495e-02  9.73103023e-01\n",
      "  2.75247521e-02  2.18598605e-02  1.84953326e-02  9.20195857e-03\n",
      "  6.96133994e-03 -8.22625474e-03 -6.00432302e-03  1.56257855e-02\n",
      "  1.92448866e-03 -5.49049837e-03 -4.80855646e-02  1.13302769e-02\n",
      "  6.11490909e-04  1.50577380e-04 -3.43997764e-03 -3.44198667e-02\n",
      " -3.45475531e-02 -2.51990196e-02 -3.25575436e-02 -4.35268504e-02\n",
      " -1.47338066e-02  8.58170084e-04 -3.88755569e-02  9.24407333e-03\n",
      "  1.41403487e-02 -4.32557384e-02 -4.51316754e-02  3.01092628e-02\n",
      " -1.31143439e-01  1.37846153e-02 -1.03109382e-03  1.40801540e-02\n",
      "  7.67214628e-02  6.98942577e-03  2.43152458e-02 -1.17481593e-02\n",
      "  1.19327180e-02  5.64299079e-03  2.11020106e-02 -2.26705404e-03\n",
      "  1.18692005e-02 -1.21439458e-03  8.93004402e-03  8.43222700e-02\n",
      "  2.82712295e-01  5.74040321e-02  1.53044575e-01  4.59484685e-02\n",
      "  1.26953357e-01 -4.84850084e-02 -3.55898029e-02  6.28785891e-01\n",
      "  2.28410490e-01  2.35000905e-01  5.56329285e-01  3.57799496e-01\n",
      "  9.50215315e-01  2.39927696e-01  3.77289300e-01  1.46318960e-01\n",
      "  2.89898108e-01  1.85246878e-01  3.03852926e-01  2.86204002e-01\n",
      " -5.39565005e-02 -5.50423639e-02  1.16748610e-01  2.42696933e-02\n",
      "  3.25036588e-01 -1.97595932e-01 -1.60145913e-01  2.45514458e-01\n",
      " -4.38680269e-02  5.82198957e-02  3.43100211e-03 -7.15907329e-02\n",
      " -2.49722182e-01  5.89081388e-03  8.67785476e-03  3.63646425e-03\n",
      "  2.71239756e-04  1.37703171e-02  2.35660043e-02  1.38201288e-02\n",
      " -5.16187421e-04  3.87663747e-02  1.83062197e-02  6.25184795e-03\n",
      "  2.43425271e-02 -1.10673007e-02  8.57330448e-03  6.88231430e-03\n",
      " -5.72709907e-03 -2.44714806e-03 -1.28207435e-02 -3.33108334e-02\n",
      " -7.90388742e-03  3.97658552e-03 -3.72419131e-04 -3.81686209e-02\n",
      " -3.65280062e-02 -2.29166297e-02  2.17295044e-02 -2.51741468e-02\n",
      " -5.32000029e-02 -3.46978559e-02 -4.80886173e-02 -4.09885320e-02\n",
      " -3.20112092e-02  1.65116236e-02  8.05059395e-03 -2.67158971e-02\n",
      "  8.91664950e-02 -2.42650968e-02 -4.16635374e-02  2.12230495e-02\n",
      "  4.47779084e-02  1.24693599e-02 -1.02326806e-02  8.79071705e-03\n",
      "  1.48084197e-02  1.93615039e-02  1.81131774e-02 -2.49195372e-02\n",
      "  9.29293422e-03  2.16030959e-02 -2.27786294e-02 -5.85251698e-02\n",
      "  2.13258613e-02 -2.07282237e-01 -6.50377170e-02  1.88639368e-02\n",
      "  1.39243339e-02  1.47702721e-02  2.68131994e-01 -1.05175771e-01\n",
      "  5.74290575e-03  1.87920152e-02  1.22682518e-03  3.45509251e-02\n",
      " -7.10596236e-03  1.68676221e-02  1.29530005e-02  1.69912928e-02\n",
      "  2.63321243e-03  4.30098516e-03 -5.73085169e-03  7.11076377e-02\n",
      "  3.35806940e-01  2.89042533e-02  1.60987687e-03 -3.80110762e-02\n",
      " -8.24051643e-02 -4.67411492e-02 -1.28754088e-02  2.85676651e-01\n",
      " -6.21437431e-03 -2.79235447e-02  2.27474991e-02  2.03586915e-02\n",
      "  1.98254186e-02  3.33978714e-02 -1.87010356e-03  2.91670955e-02\n",
      " -5.58704126e-03 -3.00952159e-03 -2.97571627e-03  2.90316133e-02\n",
      " -2.97767947e-02 -6.92916174e-03  6.32171562e-03 -7.53273695e-03\n",
      " -1.91774243e-02 -1.52691032e-02 -9.66191296e-02 -3.96166451e-02\n",
      "  8.19049847e-03 -3.83735364e-02  1.29219953e-02  2.17423162e-02\n",
      " -8.94206968e-03  1.87216403e-01 -7.79513669e-02 -3.98667903e-02\n",
      " -9.41416261e-02 -3.37794900e-02 -6.35623294e-02 -2.12612206e-02\n",
      " -4.23308204e-02 -8.92524072e-02 -3.76872783e-02 -7.37108094e-02\n",
      " -7.32987843e-02 -2.35530318e-01 -5.16623701e-02 -7.78390386e-02\n",
      " -6.04956034e-02 -9.01057878e-02 -3.15149387e-01 -6.64808674e-02\n",
      " -9.63632169e-02 -1.04605086e-01 -7.29985875e-02 -2.16830520e-01\n",
      " -1.32251039e-01 -4.87358015e-02 -8.73152699e-02 -5.96896368e-02\n",
      " -6.27407505e-02 -9.19870162e-02  4.55602357e-01  2.35314315e-01\n",
      " -4.30279294e-02 -5.92765469e-02 -8.27181253e-03 -4.44251493e-02\n",
      "  7.93730170e-01  7.09959368e-04 -1.75503561e-02 -4.95967557e-02\n",
      " -3.13135543e-03 -5.09695025e-02 -3.07379534e-02 -2.76552836e-02\n",
      " -5.51418497e-02  7.94083328e-02  7.36642317e-02 -3.43026463e-02\n",
      "  1.70078146e-01  4.83494447e-01  3.79296375e-03 -4.84425478e-02\n",
      " -3.41260315e-02 -9.22934270e-03 -1.22224780e-02  1.69575794e-02\n",
      "  1.92752735e-02  2.10607187e-02  1.64146128e-02  2.61666167e-02\n",
      "  2.23316956e-02  2.66934478e-02  2.16094531e-02  2.05533299e-02\n",
      " -4.60738908e-02 -3.20319252e-02  5.60407164e-01  5.46659588e-01\n",
      " -1.23044268e-02 -7.32347730e-03 -7.45594846e-02 -3.82827427e-02\n",
      "  2.62615502e-01  2.94395797e-01  4.65470333e-01  5.20089678e-01\n",
      " -3.40749759e-02 -3.25723954e-02 -2.31741751e-02 -5.70173573e-02\n",
      "  2.21696450e-02  1.50658116e-02 -7.67535325e-02 -3.75847322e-02\n",
      " -9.52390207e-03 -5.26810595e-02  1.12054281e-01 -2.17128682e-03\n",
      " -8.97580779e-02 -2.20815050e-01  7.06589210e-01  5.81022666e-01\n",
      " -2.16008403e-02 -2.54397995e-02 -3.32681416e-02 -2.71949039e-02\n",
      " -3.42850065e-02 -4.75230390e-02 -1.43329253e-01 -2.20730693e-02\n",
      " -1.16399426e-02 -2.12619910e-02  9.77423169e-01  9.11855431e-01\n",
      "  5.98561891e-01  4.09760292e-02  5.75529880e-01  4.96161431e-01\n",
      " -6.66846926e-02 -5.33628401e-02 -1.68537213e-01 -5.81627941e-02\n",
      "  1.38738506e-02 -7.26617570e-03 -9.17694385e-03 -1.53519913e-02\n",
      " -3.86038018e-02  2.85551773e-01 -2.01505891e-02 -4.23310825e-02\n",
      "  3.89922037e-01  6.97322390e-01  1.13770334e+00  9.83324214e-01\n",
      " -1.70441258e-01 -2.00247658e-02 -1.30130544e-01 -4.23756687e-02\n",
      "  1.11882727e-02 -3.66531161e-03  8.87272245e-01  2.12962442e-01\n",
      " -5.90877196e-02 -9.58742417e-02 -1.28586740e-02 -2.37445327e-02\n",
      " -8.53607093e-02 -1.92922335e-02 -3.68826127e-02 -2.31210055e-02\n",
      " -5.53545779e-02 -6.61546644e-02  2.86025069e-02  7.21038984e-03\n",
      " -1.38084017e-01 -5.00392240e-02 -9.53035331e-03 -3.23961859e-02\n",
      " -6.94222996e-02 -4.85638928e-02 -3.89330154e-02 -4.45538972e-02\n",
      "  2.44469893e-02 -3.07615370e-02 -6.40069348e-02 -1.27042488e-01\n",
      " -5.83948525e-02 -1.03199031e-01 -6.75542721e-02 -4.74069073e-02\n",
      "  1.05882102e+00  2.14548396e-02  2.16797305e-02 -5.08278030e-02\n",
      "  4.18507381e-01  6.03389561e-01 -3.29125365e-02 -3.64698640e-02\n",
      " -4.97950077e-02 -8.18422157e-02 -5.52444040e-02 -7.08105086e-02\n",
      " -4.23036895e-02 -5.93466226e-02  8.69452350e-03  1.48945212e-02\n",
      " -1.09299316e-01  3.31469961e-03 -5.13726042e-02 -8.90935003e-03\n",
      "  6.36277616e-01 -4.35281027e-02 -9.88187289e-02 -5.56232577e-02\n",
      " -6.57952797e-02 -5.29655879e-02 -9.67905659e-03 -8.46964217e-02\n",
      "  2.62303193e-01 -1.24061555e-01 -6.98082473e-02 -1.07016926e-01\n",
      "  9.01996938e-02 -2.06834525e-01  1.25524220e+00  1.32459204e+00\n",
      " -1.13392369e-01 -3.80497881e-02 -1.13133637e-01 -6.75344904e-02\n",
      "  5.09699357e-01  1.05394117e+00  2.22604271e-03 -1.52538182e-02\n",
      " -9.20864106e-02 -1.99877525e-01 -8.33726396e-02 -5.82078144e-02\n",
      "  4.64901636e-01  7.45836790e-01  9.43152385e-01 -5.64344995e-02\n",
      " -8.53127476e-02 -2.86067969e-02  7.28631085e-01  5.40761221e-01\n",
      "  7.10890122e-01  7.98607083e-01  6.74817103e-01  1.69799546e+00\n",
      "  1.02231524e+00  5.87112449e-01  8.70600947e-01  5.07590083e-01\n",
      "  3.55549934e-01 -9.05455459e-02 -7.71772499e-02  1.13160190e-01\n",
      " -9.77155577e-03 -1.27307230e-01 -8.08984162e-02 -4.47415941e-02\n",
      " -3.91534002e-02  8.73544706e-03 -5.13332877e-02  2.56091797e-02\n",
      "  1.35274304e+00  2.01672042e+00  2.00517232e-02 -4.52645449e-02\n",
      "  8.32474387e-02 -3.59366541e-02 -4.34236378e-02 -4.33326393e-02\n",
      " -1.32800556e-01 -8.35544147e-02 -1.96172678e-01 -1.59679407e-02\n",
      "  1.15101447e-02 -7.91359788e-02 -1.80309374e-02  5.78911378e-01\n",
      " -9.93612012e-02 -9.31473908e-02  9.73300729e-03 -1.88019324e-01\n",
      " -3.90523620e-02  2.68602944e-03 -2.18723115e-02 -1.13124873e-01\n",
      " -1.35768469e-01 -9.90148750e-02  3.29058062e-01  1.06386213e-01\n",
      "  6.04205796e-01  1.19121286e+00 -6.06442950e-02 -1.67350969e-01\n",
      " -2.05141899e-02 -1.55203589e-01  7.00011036e-01  3.57742788e-01\n",
      " -9.62020531e-02 -1.21097175e-01 -9.12844970e-02  1.51896449e-01\n",
      "  3.36554502e-01  1.42347216e+00 -3.71064509e-02 -2.27914363e-01\n",
      " -1.54053434e-02  4.94939625e-03 -6.45486124e-02 -5.64462944e-02\n",
      "  1.00700483e+00  1.91432288e-01 -1.38802503e-01  3.16112585e-02\n",
      "  8.90266871e-02  5.05343885e-01 -1.61277070e-02 -7.94762934e-03\n",
      "  2.34349992e+00  7.19540587e-01  3.79487366e-02 -1.10748664e-03\n",
      " -3.17271243e-02  1.68650105e-01 -2.57124019e-02 -3.16615119e-03\n",
      " -3.27575309e-02 -8.60844165e-03 -1.14033911e-01  3.93273895e-04\n",
      "  5.31598152e-05  3.46656481e-03  2.70158760e-04 -1.32655228e-02\n",
      "  4.71180757e-02  3.29739004e-01  2.95004569e-01  6.44753661e-02\n",
      "  5.19137149e-02  3.17287374e-02 -1.81848291e-01]\n",
      "lagrangian_grad: [-3.11162557e-02 -2.40993447e-03  2.65305045e-01 -1.61723295e-01\n",
      "  5.03653024e-02  2.80906137e-01 -3.55337500e-02  2.03139605e-03\n",
      "  8.72587657e-02 -5.75013394e-02  1.03381743e-02 -1.83579909e-01\n",
      "  1.66401747e-02  5.24298506e-02  6.87353893e-03  8.33876711e-03\n",
      "  4.43329761e-02 -1.65491747e-01 -9.86688247e-03 -8.42407296e-03\n",
      "  1.76107060e-02  6.55326099e-01  1.61361988e-02  6.44113955e-02\n",
      "  5.49789426e-02 -6.46034100e-03  7.36761602e-02  1.51415239e-01\n",
      "  5.08218678e-03  2.08687788e-01  9.22644408e-02 -3.05640192e-02\n",
      "  1.39179859e-01 -5.23179730e-02  1.08404066e-01  1.79431728e-01\n",
      "  3.30765221e-01  1.16249404e-02  1.06409340e-02 -2.62566243e-01\n",
      "  5.90122174e-02 -3.12778043e-01  3.69394649e-01  2.12662668e-02\n",
      "  3.70361088e-01 -5.76166258e-03  4.52488493e-02  7.42871566e-02\n",
      " -1.63796558e-01 -1.65222277e-01 -7.85086190e-02 -1.66291975e-01\n",
      " -8.47478691e-02  2.08556867e-02  1.07749878e-01 -2.83725817e-01\n",
      " -2.55265873e-01  1.12913685e+00 -1.27908172e-01  1.58477536e-01\n",
      "  5.53364656e-02 -5.37911638e-02 -3.65614252e-01  1.67296733e-01\n",
      "  4.03085110e-02 -2.67761806e-01  4.91060903e-02 -8.39171033e-02\n",
      " -7.00465755e-02  2.04587670e-01 -1.98960222e-02  1.00708251e-01\n",
      " -2.79495775e-01 -1.77386879e-01  1.89602454e-01 -1.84297811e-01\n",
      "  7.05114115e-02  1.03315386e-01 -9.51332735e-02  1.20632654e-01\n",
      "  1.96250063e-01  1.58226301e-02 -1.33047554e-01  1.18636074e-01\n",
      "  9.28038655e-03  1.59274895e-01  4.79606465e-02  9.13709977e-02\n",
      "  7.43271616e-03  2.42569976e-01 -3.27722121e-02 -5.41203153e-02\n",
      " -3.40457879e-01  2.00898986e-02  3.36834921e-02 -1.01692928e-01\n",
      "  1.79532260e-02  8.82346526e-02  7.87731017e-03 -4.23658890e-01\n",
      " -4.25481189e-02  1.26220929e-01 -1.02770402e-01 -3.37936575e-02\n",
      " -6.30029170e-02  1.62799657e-02 -9.24191481e-02 -1.94156487e-01\n",
      "  2.40452251e-02  2.01730851e-02  9.09146997e-02  1.54878102e-02\n",
      " -2.59876899e-01  2.36520256e-02 -5.74645070e-02  3.73769740e-02\n",
      "  1.60123748e-02  5.89550104e-02 -1.11495365e-01  1.91286982e-02\n",
      "  3.98884953e-02  3.54486332e-02  2.79259915e-02 -1.27560320e-02\n",
      "  1.65262744e-02  7.62336686e-03  3.45979539e-03  1.80710008e-02\n",
      "  1.88437759e-02  7.49660528e-03 -9.24832481e-03  3.18103826e-02\n",
      "  3.27250371e-03  1.96053232e-03 -1.40857705e-02  3.65181816e-03\n",
      "  2.90847529e-02  3.37936073e-03  9.07278810e-03  1.66492154e-03\n",
      " -1.21805214e-03  2.16486213e-03 -4.89250223e-02  5.42865859e-03\n",
      " -4.46172539e-02  2.60451688e-03 -8.45371833e-04  4.87442144e-03\n",
      " -6.00371994e-04  7.90766205e-04 -4.86054736e-04  1.66398425e-02\n",
      " -4.00512592e-02 -3.39007035e-04  1.50531873e-02 -5.35527174e-02\n",
      "  2.87638509e-02  6.74037360e-05  2.46603370e-02  1.36645814e-03\n",
      " -7.91540693e-03 -4.37586613e-02 -5.82998104e-03  3.47305087e-02\n",
      " -2.16542796e-02  9.47928655e-03 -1.78053843e-02 -2.51959267e-03\n",
      "  2.00256847e-02 -6.63737400e-03 -6.79312431e-02 -3.96510360e-02\n",
      " -1.47271870e-02 -1.41084339e-02 -2.54093274e-02 -1.47984647e-03\n",
      " -3.33859476e-02  1.55947748e-02 -2.17091375e-02 -1.39631976e-02\n",
      " -3.86221345e-02  1.39637749e-02 -1.75541343e-02 -3.87825439e-02\n",
      " -6.94552804e-02 -1.72838664e-02 -1.02666642e-01 -1.15323654e-02\n",
      " -7.54666361e-02  3.06314638e-02  2.18935979e-02  2.01521419e-02\n",
      "  1.54626198e-02 -6.16768731e-02  1.70751516e-02 -1.10560392e-01\n",
      "  5.22663487e-04 -5.64348096e-02  1.91730209e-02 -8.91205246e-03\n",
      "  1.81850792e-02 -7.16067686e-03  2.37812133e-02 -1.06164440e-02\n",
      " -3.05059827e-02  2.10415017e-02  2.25253595e-02  2.25389408e-02\n",
      "  7.38290679e-02  2.43557806e-02  4.38086468e-02  3.09470380e-02\n",
      "  1.35269224e-01  1.67278607e-01  2.09246599e-01  1.48449577e-01\n",
      "  5.09355605e-02  9.09092909e-02  2.37106412e-01  5.15670971e-02\n",
      "  1.60422011e-01  1.39871160e-01  7.68204211e-02  1.13323782e-01\n",
      "  7.29772406e-02  3.38531089e-01  1.50559391e-01  4.74292455e-01\n",
      "  2.72699117e-01 -1.49116345e-01 -1.71296124e-01 -2.59570552e-01\n",
      " -4.07642273e-01 -1.12260128e-01  1.61074144e-01 -1.59806341e-01\n",
      " -2.62233920e-01 -1.09703377e-01 -9.13890343e-02  3.40541094e-02\n",
      "  1.83044671e-02  9.74343491e-02  6.86028094e-02 -4.97541932e-02\n",
      " -2.68723550e-01 -7.41701030e-03 -8.22739691e-02 -7.43847226e-02\n",
      "  5.26175836e-03  2.51064288e-03  2.51740299e-03  1.19564258e-02\n",
      "  2.86252869e-02  4.40534790e-03  1.91855097e-02  1.59890312e-02\n",
      "  4.67289579e-02  1.92796159e-02  3.07316712e-02 -1.17961529e-02\n",
      " -4.16747118e-03  3.18105103e-03 -5.18789856e-04  1.11390139e-02\n",
      "  1.62794235e-02 -2.19362098e-05  1.21059715e-03  5.14635749e-03\n",
      "  1.85051838e-02  1.76755893e-03 -2.75629124e-02 -7.81696624e-03\n",
      " -1.24535794e-02 -1.31146705e-02 -3.64002391e-02 -2.22528568e-02\n",
      " -1.22971460e-02 -2.93559219e-02  2.00566057e-02 -2.79349249e-02\n",
      " -1.91985853e-03 -2.98959573e-02 -2.43518000e-02 -4.83940721e-02\n",
      " -2.05813519e-02 -4.33545493e-02  1.73068046e-03  2.63642207e-02\n",
      "  3.22535447e-02  2.57666111e-02  4.13424945e-03 -8.80447333e-02\n",
      " -8.23940002e-02  1.60038185e-02  1.33045205e-02  1.10763338e-02\n",
      " -1.73091506e-01  1.28886239e-02  1.12805876e-02 -2.04178421e-02\n",
      "  1.86453964e-02  2.16749886e-02  1.03192879e-01  4.60065338e-01\n",
      "  1.27843787e-02  1.11920127e-01  3.93066391e-02 -1.36526515e-01\n",
      " -1.16896938e-01 -1.50637461e-01  1.27106651e-01  3.64346797e-01\n",
      " -6.16755115e-02 -2.90631983e-01 -1.93353118e-01 -8.99193163e-02\n",
      "  1.18237441e-02  5.62185897e-03 -1.57362433e-01 -1.72779741e-01\n",
      "  9.88535561e-03 -6.18919090e-02 -2.27697296e-02  6.34044060e-01\n",
      " -1.26590539e-01 -1.52689205e-01 -3.23974038e-01 -1.90515309e-02\n",
      " -3.92286604e-03  3.90836160e-03  5.37624114e-03  2.35965873e-02\n",
      " -6.23030277e-02  1.67098328e-02  2.53373495e-02  9.73103023e-01\n",
      "  2.75247521e-02  2.18598605e-02  1.84953326e-02  9.20195857e-03\n",
      "  6.96133994e-03 -8.22625474e-03 -6.00432302e-03  1.56257855e-02\n",
      "  1.92448866e-03 -5.49049837e-03 -4.80855646e-02  1.13302769e-02\n",
      "  6.11490909e-04  1.50577380e-04 -3.43997764e-03 -3.44198667e-02\n",
      " -3.45475531e-02 -2.51990196e-02 -3.25575436e-02 -4.35268504e-02\n",
      " -1.47338066e-02  8.58170084e-04 -3.88755569e-02  9.24407333e-03\n",
      "  1.41403487e-02 -4.32557384e-02 -4.51316754e-02  3.01092628e-02\n",
      " -1.31143439e-01  1.37846153e-02 -1.03109382e-03  1.40801540e-02\n",
      "  7.67214628e-02  6.98942577e-03  2.43152458e-02 -1.17481593e-02\n",
      "  1.19327180e-02  5.64299079e-03  2.11020106e-02 -2.26705404e-03\n",
      "  1.18692005e-02 -1.21439458e-03  8.93004402e-03  8.43222700e-02\n",
      "  2.82712295e-01  5.74040321e-02  1.53044575e-01  4.59484685e-02\n",
      "  1.26953357e-01 -4.84850084e-02 -3.55898029e-02  6.28785891e-01\n",
      "  2.28410490e-01  2.35000905e-01  5.56329285e-01  3.57799496e-01\n",
      "  9.50215315e-01  2.39927696e-01  3.77289300e-01  1.46318960e-01\n",
      "  2.89898108e-01  1.85246878e-01  3.03852926e-01  2.86204002e-01\n",
      " -5.39565005e-02 -5.50423639e-02  1.16748610e-01  2.42696933e-02\n",
      "  3.25036588e-01 -1.97595932e-01 -1.60145913e-01  2.45514458e-01\n",
      " -4.38680269e-02  5.82198957e-02  3.43100211e-03 -7.15907329e-02\n",
      " -2.49722182e-01  5.89081388e-03  8.67785476e-03  3.63646425e-03\n",
      "  2.71239756e-04  1.37703171e-02  2.35660043e-02  1.38201288e-02\n",
      " -5.16187421e-04  3.87663747e-02  1.83062197e-02  6.25184795e-03\n",
      "  2.43425271e-02 -1.10673007e-02  8.57330448e-03  6.88231430e-03\n",
      " -5.72709907e-03 -2.44714806e-03 -1.28207435e-02 -3.33108334e-02\n",
      " -7.90388742e-03  3.97658552e-03 -3.72419131e-04 -3.81686209e-02\n",
      " -3.65280062e-02 -2.29166297e-02  2.17295044e-02 -2.51741468e-02\n",
      " -5.32000029e-02 -3.46978559e-02 -4.80886173e-02 -4.09885320e-02\n",
      " -3.20112092e-02  1.65116236e-02  8.05059395e-03 -2.67158971e-02\n",
      "  8.91664950e-02 -2.42650968e-02 -4.16635374e-02  2.12230495e-02\n",
      "  4.47779084e-02  1.24693599e-02 -1.02326806e-02  8.79071705e-03\n",
      "  1.48084197e-02  1.93615039e-02  1.81131774e-02 -2.49195372e-02\n",
      "  9.29293422e-03  2.16030959e-02 -2.27786294e-02 -5.85251698e-02\n",
      "  2.13258613e-02 -2.07282237e-01 -6.50377170e-02  1.88639368e-02\n",
      "  1.39243339e-02  1.47702721e-02  2.68131994e-01 -1.05175771e-01\n",
      "  5.74290575e-03  1.87920152e-02  1.22682518e-03  3.45509251e-02\n",
      " -7.10596236e-03  1.68676221e-02  1.29530005e-02  1.69912928e-02\n",
      "  2.63321243e-03  4.30098516e-03 -5.73085169e-03  7.11076377e-02\n",
      "  3.35806940e-01  2.89042533e-02  1.60987687e-03 -3.80110762e-02\n",
      " -8.24051643e-02 -4.67411492e-02 -1.28754088e-02  2.85676651e-01\n",
      " -6.21437431e-03 -2.79235447e-02  2.27474991e-02  2.03586915e-02\n",
      "  1.98254186e-02  3.33978714e-02 -1.87010356e-03  2.91670955e-02\n",
      " -5.58704126e-03 -3.00952159e-03 -2.97571627e-03  2.90316133e-02\n",
      " -2.97767947e-02 -6.92916174e-03  6.32171562e-03 -7.53273695e-03\n",
      " -1.91774243e-02 -1.52691032e-02 -9.66191296e-02 -3.96166451e-02\n",
      "  8.19049847e-03 -3.83735364e-02  1.29219953e-02  2.17423162e-02\n",
      " -8.94206968e-03  1.87216403e-01 -7.79513669e-02 -3.98667903e-02\n",
      " -9.41416261e-02 -3.37794900e-02 -6.35623294e-02 -2.12612206e-02\n",
      " -4.23308204e-02 -8.92524072e-02 -3.76872783e-02 -7.37108094e-02\n",
      " -7.32987843e-02 -2.35530318e-01 -5.16623701e-02 -7.78390386e-02\n",
      " -6.04956034e-02 -9.01057878e-02 -3.15149387e-01 -6.64808674e-02\n",
      " -9.63632169e-02 -1.04605086e-01 -7.29985875e-02 -2.16830520e-01\n",
      " -1.32251039e-01 -4.87358015e-02 -8.73152699e-02 -5.96896368e-02\n",
      " -6.27407505e-02 -9.19870162e-02  4.55602357e-01  2.35314315e-01\n",
      " -4.30279294e-02 -5.92765469e-02 -8.27181253e-03 -4.44251493e-02\n",
      "  7.93730170e-01  7.09959368e-04 -1.75503561e-02 -4.95967557e-02\n",
      " -3.13135543e-03 -5.09695025e-02 -3.07379534e-02 -2.76552836e-02\n",
      " -5.51418497e-02  7.94083328e-02  7.36642317e-02 -3.43026463e-02\n",
      "  1.70078146e-01  4.83494447e-01  3.79296375e-03 -4.84425478e-02\n",
      " -3.41260315e-02 -9.22934270e-03 -1.22224780e-02  1.69575794e-02\n",
      "  1.92752735e-02  2.10607187e-02  1.64146128e-02  2.61666167e-02\n",
      "  2.23316956e-02  2.66934478e-02  2.16094531e-02  2.05533299e-02\n",
      " -4.60738908e-02 -3.20319252e-02  5.60407164e-01  5.46659588e-01\n",
      " -1.23044268e-02 -7.32347730e-03 -7.45594846e-02 -3.82827427e-02\n",
      "  2.62615502e-01  2.94395797e-01  4.65470333e-01  5.20089678e-01\n",
      " -3.40749759e-02 -3.25723954e-02 -2.31741751e-02 -5.70173573e-02\n",
      "  2.21696450e-02  1.50658116e-02 -7.67535325e-02 -3.75847322e-02\n",
      " -9.52390207e-03 -5.26810595e-02  1.12054281e-01 -2.17128682e-03\n",
      " -8.97580779e-02 -2.20815050e-01  7.06589210e-01  5.81022666e-01\n",
      " -2.16008403e-02 -2.54397995e-02 -3.32681416e-02 -2.71949039e-02\n",
      " -3.42850065e-02 -4.75230390e-02 -1.43329253e-01 -2.20730693e-02\n",
      " -1.16399426e-02 -2.12619910e-02  9.77423169e-01  9.11855431e-01\n",
      "  5.98561891e-01  4.09760292e-02  5.75529880e-01  4.96161431e-01\n",
      " -6.66846926e-02 -5.33628401e-02 -1.68537213e-01 -5.81627941e-02\n",
      "  1.38738506e-02 -7.26617570e-03 -9.17694385e-03 -1.53519913e-02\n",
      " -3.86038018e-02  2.85551773e-01 -2.01505891e-02 -4.23310825e-02\n",
      "  3.89922037e-01  6.97322390e-01  1.13770334e+00  9.83324214e-01\n",
      " -1.70441258e-01 -2.00247658e-02 -1.30130544e-01 -4.23756687e-02\n",
      "  1.11882727e-02 -3.66531161e-03  8.87272245e-01  2.12962442e-01\n",
      " -5.90877196e-02 -9.58742417e-02 -1.28586740e-02 -2.37445327e-02\n",
      " -8.53607093e-02 -1.92922335e-02 -3.68826127e-02 -2.31210055e-02\n",
      " -5.53545779e-02 -6.61546644e-02  2.86025069e-02  7.21038984e-03\n",
      " -1.38084017e-01 -5.00392240e-02 -9.53035331e-03 -3.23961859e-02\n",
      " -6.94222996e-02 -4.85638928e-02 -3.89330154e-02 -4.45538972e-02\n",
      "  2.44469893e-02 -3.07615370e-02 -6.40069348e-02 -1.27042488e-01\n",
      " -5.83948525e-02 -1.03199031e-01 -6.75542721e-02 -4.74069073e-02\n",
      "  1.05882102e+00  2.14548396e-02  2.16797305e-02 -5.08278030e-02\n",
      "  4.18507381e-01  6.03389561e-01 -3.29125365e-02 -3.64698640e-02\n",
      " -4.97950077e-02 -8.18422157e-02 -5.52444040e-02 -7.08105086e-02\n",
      " -4.23036895e-02 -5.93466226e-02  8.69452350e-03  1.48945212e-02\n",
      " -1.09299316e-01  3.31469961e-03 -5.13726042e-02 -8.90935003e-03\n",
      "  6.36277616e-01 -4.35281027e-02 -9.88187289e-02 -5.56232577e-02\n",
      " -6.57952797e-02 -5.29655879e-02 -9.67905659e-03 -8.46964217e-02\n",
      "  2.62303193e-01 -1.24061555e-01 -6.98082473e-02 -1.07016926e-01\n",
      "  9.01996938e-02 -2.06834525e-01  1.25524220e+00  1.32459204e+00\n",
      " -1.13392369e-01 -3.80497881e-02 -1.13133637e-01 -6.75344904e-02\n",
      "  5.09699357e-01  1.05394117e+00  2.22604271e-03 -1.52538182e-02\n",
      " -9.20864106e-02 -1.99877525e-01 -8.33726396e-02 -5.82078144e-02\n",
      "  4.64901636e-01  7.45836790e-01  9.43152385e-01 -5.64344995e-02\n",
      " -8.53127476e-02 -2.86067969e-02  7.28631085e-01  5.40761221e-01\n",
      "  7.10890122e-01  7.98607083e-01  6.74817103e-01  1.69799546e+00\n",
      "  1.02231524e+00  5.87112449e-01  8.70600947e-01  5.07590083e-01\n",
      "  3.55549934e-01 -9.05455459e-02 -7.71772499e-02  1.13160190e-01\n",
      " -9.77155577e-03 -1.27307230e-01 -8.08984162e-02 -4.47415941e-02\n",
      " -3.91534002e-02  8.73544706e-03 -5.13332877e-02  2.56091797e-02\n",
      "  1.35274304e+00  2.01672042e+00  2.00517232e-02 -4.52645449e-02\n",
      "  8.32474387e-02 -3.59366541e-02 -4.34236378e-02 -4.33326393e-02\n",
      " -1.32800556e-01 -8.35544147e-02 -1.96172678e-01 -1.59679407e-02\n",
      "  1.15101447e-02 -7.91359788e-02 -1.80309374e-02  5.78911378e-01\n",
      " -9.93612012e-02 -9.31473908e-02  9.73300729e-03 -1.88019324e-01\n",
      " -3.90523620e-02  2.68602944e-03 -2.18723115e-02 -1.13124873e-01\n",
      " -1.35768469e-01 -9.90148750e-02  3.29058062e-01  1.06386213e-01\n",
      "  6.04205796e-01  1.19121286e+00 -6.06442950e-02 -1.67350969e-01\n",
      " -2.05141899e-02 -1.55203589e-01  7.00011036e-01  3.57742788e-01\n",
      " -9.62020531e-02 -1.21097175e-01 -9.12844970e-02  1.51896449e-01\n",
      "  3.36554502e-01  1.42347216e+00 -3.71064509e-02 -2.27914363e-01\n",
      " -1.54053434e-02  4.94939625e-03 -6.45486124e-02 -5.64462944e-02\n",
      "  1.00700483e+00  1.91432288e-01 -1.38802503e-01  3.16112585e-02\n",
      "  8.90266871e-02  5.05343885e-01 -1.61277070e-02 -7.94762934e-03\n",
      "  2.34349992e+00  7.19540587e-01  3.79487366e-02 -1.10748664e-03\n",
      " -3.17271243e-02  1.68650105e-01 -2.57124019e-02 -3.16615119e-03\n",
      " -3.27575309e-02 -8.60844165e-03 -1.14033911e-01  3.93273895e-04\n",
      "  5.31598152e-05  3.46656481e-03  2.70158760e-04 -1.32655228e-02\n",
      "  4.71180757e-02  3.29739004e-01  2.95004569e-01  6.44753661e-02\n",
      "  5.19137149e-02  3.17287374e-02 -1.81848291e-01]\n",
      "constr: []\n",
      "jac: []\n",
      "constr_nfev: []\n",
      "constr_njev: []\n",
      "constr_nhev: []\n",
      "v: []\n",
      "method: equality_constrained_sqp\n",
      "optimality: 2.3434999224806217\n",
      "constr_violation: 0\n",
      "execution_time: 920.4973232746124\n",
      "tr_radius: 7.450580596923828e-09\n",
      "constr_penalty: 1.0\n",
      "status: 2\n",
      "niter: 533\n",
      "message: `xtol` termination condition is satisfied.\n",
      "model: [202.79623068 198.1910563  179.04468256 207.02232286 192.06464519\n",
      " 178.16771371 197.17500982 198.3233411  191.27847724 182.78024032\n",
      " 192.97967969 207.48221717 198.3529229  194.95284091 199.65112555\n",
      " 193.63876398 192.56974466 209.24026728 193.52593635 195.10502311\n",
      " 193.77502316 160.20407526 198.47702305 196.84632377 195.11760771\n",
      " 198.15859895 193.76659271 188.38462325 198.55326303 188.30173379\n",
      " 194.00768029 195.75984549 188.79430608 200.48297547 193.47993319\n",
      " 185.68113656 176.47657866 198.31575663 198.41734052 209.54095081\n",
      " 195.41698127 214.35836724 172.66994185 198.06087926 177.09264174\n",
      " 200.59358211 193.23673447 195.01534903 204.18666917 208.02913656\n",
      " 203.68439805 205.41762294 199.28403723 197.33589182 191.37001911\n",
      " 211.71625821 207.6926255  131.9930061  206.05050269 186.79255716\n",
      " 190.18171563 204.68894791 216.65576869 186.39667753 194.70599924\n",
      " 212.59463561 191.40410317 204.80354376 203.42600829 184.15805925\n",
      " 204.39774032 192.72105568 215.34655235 197.42364276 180.70463754\n",
      " 208.9469567  194.72152808 191.15297334 203.12449438 195.00151378\n",
      " 185.26609743 197.8337945  210.02139992 189.06359238 200.33189731\n",
      " 187.3934436  193.83133363 194.57225719 199.26627937 179.76256141\n",
      " 198.03690324 204.40720273 220.66874313 198.37108137 197.29381407\n",
      " 204.20851414 197.6662412  190.85155883 199.52178599 223.04719658\n",
      " 201.97634606 189.41323332 204.34950849 201.71867616 203.26101303\n",
      " 197.79252071 205.74773327 208.07182727 197.67161785 197.7086573\n",
      " 197.22573478 198.21039667 215.63491061 198.92194617 203.38615934\n",
      " 197.05043431 197.87420309 195.63465792 206.19520049 198.02099494\n",
      " 195.82569513 196.06762309 198.63640957 200.68043884 195.95607066\n",
      " 197.79297714 197.54197651 197.19768668 197.92747933 199.74512782\n",
      " 198.58963816 197.90710456 196.02495824 198.4102531  198.06090942\n",
      " 198.42615332 197.40985719 197.95864076 197.91193023 198.29658653\n",
      " 198.2914485  198.40781937 199.63433074 198.40295435 200.19062846\n",
      " 196.9589736  198.54742154 197.23109743 197.92128871 196.86106914\n",
      " 198.25244961 197.70041515 199.79781499 198.40933345 199.00806211\n",
      " 201.14814928 198.29805788 198.35226174 201.3292255  197.61685105\n",
      " 198.71514625 196.75208631 198.68611056 196.00152301 197.66626302\n",
      " 196.56842564 198.72893255 198.33765006 196.85428224 200.46720868\n",
      " 202.31276247 200.35599893 198.21588448 198.22406189 197.70995543\n",
      " 198.07742465 197.16153595 198.30170728 196.68670985 197.86463324\n",
      " 202.20109699 198.91737002 198.24225532 202.21979345 197.52704756\n",
      " 198.09017169 204.38315115 198.01598767 205.89449872 197.21786727\n",
      " 195.66782439 198.07470966 197.940889   198.23475967 197.81964349\n",
      " 199.50321136 197.94510783 198.03019454 199.61250162 195.8051167\n",
      " 197.93055212 197.63211368 197.69702218 196.94299733 202.55257319\n",
      " 198.62258728 197.63747147 197.64363003 189.78841455 196.09595266\n",
      " 192.0512912  193.05771167 187.76866569 187.3667563  183.89787561\n",
      " 185.76865675 193.38985389 188.75182629 181.91928451 192.71346407\n",
      " 186.6411054  184.77703157 197.29488112 191.59927522 192.80660045\n",
      " 175.41995812 187.97676321 165.86019877 180.72131079 207.32368691\n",
      " 206.42519915 211.01520706 220.4727135  202.91970474 186.42126607\n",
      " 206.49228043 209.89887457 204.67189328 205.17155387 197.32278456\n",
      " 197.71754777 194.03631044 196.22369733 202.47254956 213.47576724\n",
      " 200.2714181  204.1819273  205.14136094 198.21378132 198.24338546\n",
      " 198.1338671  198.97551436 197.55759576 198.24772562 198.88974076\n",
      " 198.07939823 196.23498879 197.86656927 197.05993773 201.44048408\n",
      " 198.31704616 197.68827056 197.96166008 197.36629697 197.56201636\n",
      " 198.20819702 198.17584006 197.44681195 198.21128626 198.36037976\n",
      " 198.04939112 198.31964394 198.15483981 198.19936982 198.91703933\n",
      " 198.82531183 198.35339635 197.64243801 195.08101334 198.19165842\n",
      " 196.04354159 197.82873951 197.74624594 197.86261626 198.33911812\n",
      " 197.82687307 200.28549095 198.17897999 197.01351358 197.11334206\n",
      " 199.24171753 204.25000219 205.04772732 197.79988933 198.40468036\n",
      " 199.25147268 208.16948439 198.87428038 198.46082344 201.83386539\n",
      " 197.88854073 198.02100166 189.37850759 167.84371726 193.74167596\n",
      " 191.41677231 192.96441578 205.7237972  203.12616345 204.67642246\n",
      " 188.14919918 176.74200875 199.43140894 212.89229225 209.95108654\n",
      " 202.38142447 197.38858489 199.77037641 205.79239626 207.68588538\n",
      " 197.42692216 203.44238898 197.68273239 165.58182662 207.4412227\n",
      " 207.95677089 217.07098227 201.70195222 197.59653294 198.40149479\n",
      " 198.48860328 197.31276631 200.39076983 198.29251905 197.75969\n",
      " 142.50555444 197.3759871  197.65202206 197.62901639 199.20328409\n",
      " 198.55152446 197.96932134 197.82886321 197.24665781 197.12977838\n",
      " 197.9005386  199.39146795 197.89418476 198.10165987 198.0049597\n",
      " 198.0070027  197.78639565 198.10637514 198.25891245 198.04112391\n",
      " 198.93692613 198.25580147 197.03823662 197.1569918  196.59416122\n",
      " 196.82457795 198.37876927 197.7689605  200.31849031 195.45391907\n",
      " 198.52564369 197.23817201 198.49419484 175.76972799 199.66981294\n",
      " 197.70094614 199.13314072 198.63841248 198.84818986 197.59497613\n",
      " 200.40620337 198.61185959 197.95066276 198.56536469 191.25540938\n",
      " 179.33668136 192.54758375 186.4242273  190.37714298 188.71138575\n",
      " 193.35211251 193.93711967 159.00750356 183.67252024 182.80514319\n",
      " 165.40062264 175.59941278 141.34420383 182.98428896 174.55666813\n",
      " 188.32329656 179.78159502 184.34853497 179.55220554 182.25859415\n",
      " 200.69450215 198.9849573  190.94583764 197.13440199 180.18642426\n",
      " 208.70650618 206.59998128 183.93140781 203.70492508 194.5649266\n",
      " 199.73574955 204.38326777 214.21124907 198.98044134 198.48249175\n",
      " 198.30154175 198.24191747 197.72207369 196.99650895 198.34466272\n",
      " 199.35483589 196.16316653 198.24874767 198.15655607 197.44273902\n",
      " 197.54928029 196.56472343 197.6057766  197.90036713 197.69196144\n",
      " 197.16436956 202.44010194 197.59254279 198.15716557 198.07484681\n",
      " 198.11942886 197.15247407 198.18929531 200.16256326 198.06875594\n",
      " 198.38717981 199.00607327 198.65819168 199.0751152  198.54006016\n",
      " 196.7230424  197.08507352 197.85098214 202.04801131 196.46638534\n",
      " 198.072697   197.90942798 190.32578983 198.88010869 200.30561803\n",
      " 199.25820631 198.78283369 197.0548674  198.4495288  201.06511628\n",
      " 197.57555236 193.12213742 196.70173703 199.74004109 191.24880445\n",
      " 209.6475964  191.51314424 197.82352379 197.93714976 198.75295076\n",
      " 179.8093714  205.42701784 199.4502605  197.07551018 197.91820177\n",
      " 196.67050765 197.65304701 197.66982699 198.20262719 198.97065138\n",
      " 199.35177293 197.03534552 197.64251351 187.11853438 175.96374856\n",
      " 196.55066315 198.57128456 194.51819944 204.32116243 197.08586888\n",
      " 193.96680542 183.609315   201.52340142 198.07817791 198.4744484\n",
      " 197.67871271 197.67431359 198.66617498 199.2307224  197.46301609\n",
      " 198.00565736 198.1666561  198.07026535 198.47929672 201.87914741\n",
      " 198.83051105 198.7086038  197.90478514 197.64159088 197.4652883\n",
      " 207.10925079 199.60330712 193.5313574  199.53561033 198.59464211\n",
      " 197.38433449 200.70335862 188.53271004 204.89757755 197.05935292\n",
      " 205.25200943 198.27068612 202.05649672 194.57028225 199.77019056\n",
      " 203.43133505 198.43062767 203.6739982  205.91387622 215.38485609\n",
      " 200.36827304 202.76091898 205.09292696 207.26202842 214.99099641\n",
      " 201.56813419 208.8208643  220.47959845 204.04069892 210.76989313\n",
      " 203.91792875 205.61725377 206.82293841 204.7854743  205.36217324\n",
      " 209.78395966 172.38577251 183.1991626  197.74291293 198.41864266\n",
      " 197.11722132 196.93002563 153.51995221 198.8073705  197.79334242\n",
      " 197.49351406 197.23154701 197.98397562 199.00295913 197.8888953\n",
      " 196.65698007 190.50768357 189.90894395 197.67667497 184.37408564\n",
      " 170.64205577 199.21522672 197.55406174 196.76283242 198.67267735\n",
      " 198.84505084 199.28422048 201.12832658 200.14770194 200.15479272\n",
      " 200.70127816 199.86500073 200.41788652 200.8148245  200.19935251\n",
      " 198.5289466  197.54109168 166.34111353 167.38954108 197.45807725\n",
      " 197.81134136 201.6233835  199.22363879 180.03581658 180.16966884\n",
      " 169.90967465 169.5216914  197.7877015  197.03537906 197.88012028\n",
      " 197.08241845 200.67355575 200.22491934 197.71900701 197.71458347\n",
      " 196.99317456 197.36509402 187.77331869 193.25711295 200.57699268\n",
      " 209.91023911 157.4433436  163.82115248 197.82756759 197.29768374\n",
      " 197.39202759 197.51276438 197.20314012 196.62112258 209.08145131\n",
      " 196.94916201 197.71113647 197.11987124 147.15191103 143.84445945\n",
      " 159.18367389 188.47149662 166.33410693 170.30737094 197.48925623\n",
      " 196.16449547 207.16533412 203.40687008 197.29963431 198.09678296\n",
      " 198.4467578  196.2141252  193.63915189 176.56244419 197.09003808\n",
      " 196.39012692 171.30072567 157.76053269 133.3156703  140.80908998\n",
      " 205.89420142 199.03275731 202.27854332 202.41780663 196.60268303\n",
      " 198.03207015 145.59060699 185.42755484 202.01003648 200.1731442\n",
      " 199.83478405 199.84851648 202.53067748 196.96029202 197.07668225\n",
      " 197.25693716 197.65364941 196.71173454 197.34984249 197.09672761\n",
      " 201.2424292  199.3481161  197.86201163 197.28236342 201.45700912\n",
      " 196.86580357 196.55167103 197.79604386 196.57970929 196.73606338\n",
      " 196.76554515 194.66549076 197.97162871 196.9137625  196.4911397\n",
      " 196.51788988 137.45729895 193.5827101  196.64013024 195.69923854\n",
      " 169.94992876 156.0030096  198.39640817 196.64770073 197.32919954\n",
      " 200.52825431 196.40863825 196.79299613 197.4566028  196.70423742\n",
      " 196.76830721 196.55463394 195.21657185 199.60394768 196.23504028\n",
      " 196.28753725 159.2006045  192.79542045 197.79738509 198.62386613\n",
      " 195.58683618 195.46081737 196.4461456  195.43432296 175.8773988\n",
      " 201.41359309 195.98801466 195.53038846 183.59716006 207.1778401\n",
      " 116.5353724  128.00011489 195.52294272 196.58061866 195.45946559\n",
      " 195.77859132 165.26270982 135.68777256 197.49610828 196.93475481\n",
      " 192.32874218 192.09322025 192.25870033 195.01300497 162.33608656\n",
      " 152.0187867  140.71794671 187.84434143 195.20490022 190.5567496\n",
      " 154.78008635 156.24381254 153.72234054 143.26567632 155.02451245\n",
      "  98.3256441  132.24564244 151.02982952 121.85496529 169.36852271\n",
      " 175.5602579  196.79252924 195.52358609 170.06767372 197.94571444\n",
      " 192.40289302 180.82358695 192.14051797 190.64931284 177.14730505\n",
      " 195.85300464 172.48563707 111.61221004  76.92933245 184.05388659\n",
      " 195.27650031 175.41106456 185.43216525 189.74147183 195.4606277\n",
      " 192.0275635  190.92847797 167.96713046 197.80876582 200.95436393\n",
      " 195.65636905 197.3490813  130.4848675  193.22130077 194.86092021\n",
      " 180.09092258 186.56257118 196.21857974 199.65369569 195.3214696\n",
      " 174.84835421 192.62043632 194.17306313 166.38092354 182.69743696\n",
      " 152.41966852 114.61754314 194.98649276 189.66316244 194.74159959\n",
      " 190.79907434 149.34161172 165.20750941 188.27592071 192.27710033\n",
      " 201.32651064 184.2912618  150.07037455  90.84570758 194.85197523\n",
      " 187.89151731 191.54852404 194.90754159 192.04051952 200.96347967\n",
      " 123.36447187 175.57418537 204.16719129 194.7352425  187.07744369\n",
      " 157.04856521 197.44017656 194.78226106  59.79157338 129.04227436\n",
      " 193.98237135 198.37266891 199.37203494 186.52302056 195.59346581\n",
      " 198.21269035 200.06692469 198.46860328 184.95704118 197.86483962\n",
      " 197.94741371 190.47411467 196.21827111 181.41142851 174.22884621\n",
      " 161.53499951 157.94230766 185.20627764 182.98175685 182.6523652\n",
      " 173.29128291]\n"
     ]
    }
   ],
   "source": [
    "inv = Inversion(ert_problem, inv_options_scipy)\n",
    "inv_result = inv.run()\n",
    "inv_result.summary()"
   ]
  },
  {
   "cell_type": "code",
   "execution_count": 14,
   "id": "dcb52540",
   "metadata": {
    "execution": {
     "iopub.execute_input": "2022-07-14T02:40:43.189298Z",
     "iopub.status.busy": "2022-07-14T02:40:43.188936Z",
     "iopub.status.idle": "2022-07-14T02:40:43.193901Z",
     "shell.execute_reply": "2022-07-14T02:40:43.193512Z"
    },
    "papermill": {
     "duration": 0.014268,
     "end_time": "2022-07-14T02:40:43.194803",
     "exception": false,
     "start_time": "2022-07-14T02:40:43.180535",
     "status": "completed"
    },
    "tags": []
   },
   "outputs": [
    {
     "data": {
      "text/plain": [
       "True"
      ]
     },
     "execution_count": 14,
     "metadata": {},
     "output_type": "execute_result"
    }
   ],
   "source": [
    "inv_result.success"
   ]
  },
  {
   "cell_type": "markdown",
   "id": "2c9dd8a0",
   "metadata": {
    "papermill": {
     "duration": 0.00688,
     "end_time": "2022-07-14T02:40:43.212218",
     "exception": false,
     "start_time": "2022-07-14T02:40:43.205338",
     "status": "completed"
    },
    "tags": []
   },
   "source": [
    "Plot the results:"
   ]
  },
  {
   "cell_type": "code",
   "execution_count": 15,
   "id": "fad093e3",
   "metadata": {
    "execution": {
     "iopub.execute_input": "2022-07-14T02:40:43.226674Z",
     "iopub.status.busy": "2022-07-14T02:40:43.226420Z",
     "iopub.status.idle": "2022-07-14T02:40:43.492229Z",
     "shell.execute_reply": "2022-07-14T02:40:43.491567Z"
    },
    "papermill": {
     "duration": 0.274762,
     "end_time": "2022-07-14T02:40:43.493741",
     "exception": false,
     "start_time": "2022-07-14T02:40:43.218979",
     "status": "completed"
    },
    "tags": []
   },
   "outputs": [
    {
     "name": "stdout",
     "output_type": "stream",
     "text": [
      "============================\n",
      "Summary for inversion result\n",
      "============================\n",
      "SUCCESS\n",
      "----------------------------\n",
      "nit: 533\n",
      "nfev: 533\n",
      "njev: 506\n",
      "nhev: 506\n",
      "cg_niter: 532\n",
      "cg_stop_cond: 2\n",
      "fun: 61.261303734246994\n",
      "grad: [-3.11162557e-02 -2.40993447e-03  2.65305045e-01 -1.61723295e-01\n",
      "  5.03653024e-02  2.80906137e-01 -3.55337500e-02  2.03139605e-03\n",
      "  8.72587657e-02 -5.75013394e-02  1.03381743e-02 -1.83579909e-01\n",
      "  1.66401747e-02  5.24298506e-02  6.87353893e-03  8.33876711e-03\n",
      "  4.43329761e-02 -1.65491747e-01 -9.86688247e-03 -8.42407296e-03\n",
      "  1.76107060e-02  6.55326099e-01  1.61361988e-02  6.44113955e-02\n",
      "  5.49789426e-02 -6.46034100e-03  7.36761602e-02  1.51415239e-01\n",
      "  5.08218678e-03  2.08687788e-01  9.22644408e-02 -3.05640192e-02\n",
      "  1.39179859e-01 -5.23179730e-02  1.08404066e-01  1.79431728e-01\n",
      "  3.30765221e-01  1.16249404e-02  1.06409340e-02 -2.62566243e-01\n",
      "  5.90122174e-02 -3.12778043e-01  3.69394649e-01  2.12662668e-02\n",
      "  3.70361088e-01 -5.76166258e-03  4.52488493e-02  7.42871566e-02\n",
      " -1.63796558e-01 -1.65222277e-01 -7.85086190e-02 -1.66291975e-01\n",
      " -8.47478691e-02  2.08556867e-02  1.07749878e-01 -2.83725817e-01\n",
      " -2.55265873e-01  1.12913685e+00 -1.27908172e-01  1.58477536e-01\n",
      "  5.53364656e-02 -5.37911638e-02 -3.65614252e-01  1.67296733e-01\n",
      "  4.03085110e-02 -2.67761806e-01  4.91060903e-02 -8.39171033e-02\n",
      " -7.00465755e-02  2.04587670e-01 -1.98960222e-02  1.00708251e-01\n",
      " -2.79495775e-01 -1.77386879e-01  1.89602454e-01 -1.84297811e-01\n",
      "  7.05114115e-02  1.03315386e-01 -9.51332735e-02  1.20632654e-01\n",
      "  1.96250063e-01  1.58226301e-02 -1.33047554e-01  1.18636074e-01\n",
      "  9.28038655e-03  1.59274895e-01  4.79606465e-02  9.13709977e-02\n",
      "  7.43271616e-03  2.42569976e-01 -3.27722121e-02 -5.41203153e-02\n",
      " -3.40457879e-01  2.00898986e-02  3.36834921e-02 -1.01692928e-01\n",
      "  1.79532260e-02  8.82346526e-02  7.87731017e-03 -4.23658890e-01\n",
      " -4.25481189e-02  1.26220929e-01 -1.02770402e-01 -3.37936575e-02\n",
      " -6.30029170e-02  1.62799657e-02 -9.24191481e-02 -1.94156487e-01\n",
      "  2.40452251e-02  2.01730851e-02  9.09146997e-02  1.54878102e-02\n",
      " -2.59876899e-01  2.36520256e-02 -5.74645070e-02  3.73769740e-02\n",
      "  1.60123748e-02  5.89550104e-02 -1.11495365e-01  1.91286982e-02\n",
      "  3.98884953e-02  3.54486332e-02  2.79259915e-02 -1.27560320e-02\n",
      "  1.65262744e-02  7.62336686e-03  3.45979539e-03  1.80710008e-02\n",
      "  1.88437759e-02  7.49660528e-03 -9.24832481e-03  3.18103826e-02\n",
      "  3.27250371e-03  1.96053232e-03 -1.40857705e-02  3.65181816e-03\n",
      "  2.90847529e-02  3.37936073e-03  9.07278810e-03  1.66492154e-03\n",
      " -1.21805214e-03  2.16486213e-03 -4.89250223e-02  5.42865859e-03\n",
      " -4.46172539e-02  2.60451688e-03 -8.45371833e-04  4.87442144e-03\n",
      " -6.00371994e-04  7.90766205e-04 -4.86054736e-04  1.66398425e-02\n",
      " -4.00512592e-02 -3.39007035e-04  1.50531873e-02 -5.35527174e-02\n",
      "  2.87638509e-02  6.74037360e-05  2.46603370e-02  1.36645814e-03\n",
      " -7.91540693e-03 -4.37586613e-02 -5.82998104e-03  3.47305087e-02\n",
      " -2.16542796e-02  9.47928655e-03 -1.78053843e-02 -2.51959267e-03\n",
      "  2.00256847e-02 -6.63737400e-03 -6.79312431e-02 -3.96510360e-02\n",
      " -1.47271870e-02 -1.41084339e-02 -2.54093274e-02 -1.47984647e-03\n",
      " -3.33859476e-02  1.55947748e-02 -2.17091375e-02 -1.39631976e-02\n",
      " -3.86221345e-02  1.39637749e-02 -1.75541343e-02 -3.87825439e-02\n",
      " -6.94552804e-02 -1.72838664e-02 -1.02666642e-01 -1.15323654e-02\n",
      " -7.54666361e-02  3.06314638e-02  2.18935979e-02  2.01521419e-02\n",
      "  1.54626198e-02 -6.16768731e-02  1.70751516e-02 -1.10560392e-01\n",
      "  5.22663487e-04 -5.64348096e-02  1.91730209e-02 -8.91205246e-03\n",
      "  1.81850792e-02 -7.16067686e-03  2.37812133e-02 -1.06164440e-02\n",
      " -3.05059827e-02  2.10415017e-02  2.25253595e-02  2.25389408e-02\n",
      "  7.38290679e-02  2.43557806e-02  4.38086468e-02  3.09470380e-02\n",
      "  1.35269224e-01  1.67278607e-01  2.09246599e-01  1.48449577e-01\n",
      "  5.09355605e-02  9.09092909e-02  2.37106412e-01  5.15670971e-02\n",
      "  1.60422011e-01  1.39871160e-01  7.68204211e-02  1.13323782e-01\n",
      "  7.29772406e-02  3.38531089e-01  1.50559391e-01  4.74292455e-01\n",
      "  2.72699117e-01 -1.49116345e-01 -1.71296124e-01 -2.59570552e-01\n",
      " -4.07642273e-01 -1.12260128e-01  1.61074144e-01 -1.59806341e-01\n",
      " -2.62233920e-01 -1.09703377e-01 -9.13890343e-02  3.40541094e-02\n",
      "  1.83044671e-02  9.74343491e-02  6.86028094e-02 -4.97541932e-02\n",
      " -2.68723550e-01 -7.41701030e-03 -8.22739691e-02 -7.43847226e-02\n",
      "  5.26175836e-03  2.51064288e-03  2.51740299e-03  1.19564258e-02\n",
      "  2.86252869e-02  4.40534790e-03  1.91855097e-02  1.59890312e-02\n",
      "  4.67289579e-02  1.92796159e-02  3.07316712e-02 -1.17961529e-02\n",
      " -4.16747118e-03  3.18105103e-03 -5.18789856e-04  1.11390139e-02\n",
      "  1.62794235e-02 -2.19362098e-05  1.21059715e-03  5.14635749e-03\n",
      "  1.85051838e-02  1.76755893e-03 -2.75629124e-02 -7.81696624e-03\n",
      " -1.24535794e-02 -1.31146705e-02 -3.64002391e-02 -2.22528568e-02\n",
      " -1.22971460e-02 -2.93559219e-02  2.00566057e-02 -2.79349249e-02\n",
      " -1.91985853e-03 -2.98959573e-02 -2.43518000e-02 -4.83940721e-02\n",
      " -2.05813519e-02 -4.33545493e-02  1.73068046e-03  2.63642207e-02\n",
      "  3.22535447e-02  2.57666111e-02  4.13424945e-03 -8.80447333e-02\n",
      " -8.23940002e-02  1.60038185e-02  1.33045205e-02  1.10763338e-02\n",
      " -1.73091506e-01  1.28886239e-02  1.12805876e-02 -2.04178421e-02\n",
      "  1.86453964e-02  2.16749886e-02  1.03192879e-01  4.60065338e-01\n",
      "  1.27843787e-02  1.11920127e-01  3.93066391e-02 -1.36526515e-01\n",
      " -1.16896938e-01 -1.50637461e-01  1.27106651e-01  3.64346797e-01\n",
      " -6.16755115e-02 -2.90631983e-01 -1.93353118e-01 -8.99193163e-02\n",
      "  1.18237441e-02  5.62185897e-03 -1.57362433e-01 -1.72779741e-01\n",
      "  9.88535561e-03 -6.18919090e-02 -2.27697296e-02  6.34044060e-01\n",
      " -1.26590539e-01 -1.52689205e-01 -3.23974038e-01 -1.90515309e-02\n",
      " -3.92286604e-03  3.90836160e-03  5.37624114e-03  2.35965873e-02\n",
      " -6.23030277e-02  1.67098328e-02  2.53373495e-02  9.73103023e-01\n",
      "  2.75247521e-02  2.18598605e-02  1.84953326e-02  9.20195857e-03\n",
      "  6.96133994e-03 -8.22625474e-03 -6.00432302e-03  1.56257855e-02\n",
      "  1.92448866e-03 -5.49049837e-03 -4.80855646e-02  1.13302769e-02\n",
      "  6.11490909e-04  1.50577380e-04 -3.43997764e-03 -3.44198667e-02\n",
      " -3.45475531e-02 -2.51990196e-02 -3.25575436e-02 -4.35268504e-02\n",
      " -1.47338066e-02  8.58170084e-04 -3.88755569e-02  9.24407333e-03\n",
      "  1.41403487e-02 -4.32557384e-02 -4.51316754e-02  3.01092628e-02\n",
      " -1.31143439e-01  1.37846153e-02 -1.03109382e-03  1.40801540e-02\n",
      "  7.67214628e-02  6.98942577e-03  2.43152458e-02 -1.17481593e-02\n",
      "  1.19327180e-02  5.64299079e-03  2.11020106e-02 -2.26705404e-03\n",
      "  1.18692005e-02 -1.21439458e-03  8.93004402e-03  8.43222700e-02\n",
      "  2.82712295e-01  5.74040321e-02  1.53044575e-01  4.59484685e-02\n",
      "  1.26953357e-01 -4.84850084e-02 -3.55898029e-02  6.28785891e-01\n",
      "  2.28410490e-01  2.35000905e-01  5.56329285e-01  3.57799496e-01\n",
      "  9.50215315e-01  2.39927696e-01  3.77289300e-01  1.46318960e-01\n",
      "  2.89898108e-01  1.85246878e-01  3.03852926e-01  2.86204002e-01\n",
      " -5.39565005e-02 -5.50423639e-02  1.16748610e-01  2.42696933e-02\n",
      "  3.25036588e-01 -1.97595932e-01 -1.60145913e-01  2.45514458e-01\n",
      " -4.38680269e-02  5.82198957e-02  3.43100211e-03 -7.15907329e-02\n",
      " -2.49722182e-01  5.89081388e-03  8.67785476e-03  3.63646425e-03\n",
      "  2.71239756e-04  1.37703171e-02  2.35660043e-02  1.38201288e-02\n",
      " -5.16187421e-04  3.87663747e-02  1.83062197e-02  6.25184795e-03\n",
      "  2.43425271e-02 -1.10673007e-02  8.57330448e-03  6.88231430e-03\n",
      " -5.72709907e-03 -2.44714806e-03 -1.28207435e-02 -3.33108334e-02\n",
      " -7.90388742e-03  3.97658552e-03 -3.72419131e-04 -3.81686209e-02\n",
      " -3.65280062e-02 -2.29166297e-02  2.17295044e-02 -2.51741468e-02\n",
      " -5.32000029e-02 -3.46978559e-02 -4.80886173e-02 -4.09885320e-02\n",
      " -3.20112092e-02  1.65116236e-02  8.05059395e-03 -2.67158971e-02\n",
      "  8.91664950e-02 -2.42650968e-02 -4.16635374e-02  2.12230495e-02\n",
      "  4.47779084e-02  1.24693599e-02 -1.02326806e-02  8.79071705e-03\n",
      "  1.48084197e-02  1.93615039e-02  1.81131774e-02 -2.49195372e-02\n",
      "  9.29293422e-03  2.16030959e-02 -2.27786294e-02 -5.85251698e-02\n",
      "  2.13258613e-02 -2.07282237e-01 -6.50377170e-02  1.88639368e-02\n",
      "  1.39243339e-02  1.47702721e-02  2.68131994e-01 -1.05175771e-01\n",
      "  5.74290575e-03  1.87920152e-02  1.22682518e-03  3.45509251e-02\n",
      " -7.10596236e-03  1.68676221e-02  1.29530005e-02  1.69912928e-02\n",
      "  2.63321243e-03  4.30098516e-03 -5.73085169e-03  7.11076377e-02\n",
      "  3.35806940e-01  2.89042533e-02  1.60987687e-03 -3.80110762e-02\n",
      " -8.24051643e-02 -4.67411492e-02 -1.28754088e-02  2.85676651e-01\n",
      " -6.21437431e-03 -2.79235447e-02  2.27474991e-02  2.03586915e-02\n",
      "  1.98254186e-02  3.33978714e-02 -1.87010356e-03  2.91670955e-02\n",
      " -5.58704126e-03 -3.00952159e-03 -2.97571627e-03  2.90316133e-02\n",
      " -2.97767947e-02 -6.92916174e-03  6.32171562e-03 -7.53273695e-03\n",
      " -1.91774243e-02 -1.52691032e-02 -9.66191296e-02 -3.96166451e-02\n",
      "  8.19049847e-03 -3.83735364e-02  1.29219953e-02  2.17423162e-02\n",
      " -8.94206968e-03  1.87216403e-01 -7.79513669e-02 -3.98667903e-02\n",
      " -9.41416261e-02 -3.37794900e-02 -6.35623294e-02 -2.12612206e-02\n",
      " -4.23308204e-02 -8.92524072e-02 -3.76872783e-02 -7.37108094e-02\n",
      " -7.32987843e-02 -2.35530318e-01 -5.16623701e-02 -7.78390386e-02\n",
      " -6.04956034e-02 -9.01057878e-02 -3.15149387e-01 -6.64808674e-02\n",
      " -9.63632169e-02 -1.04605086e-01 -7.29985875e-02 -2.16830520e-01\n",
      " -1.32251039e-01 -4.87358015e-02 -8.73152699e-02 -5.96896368e-02\n",
      " -6.27407505e-02 -9.19870162e-02  4.55602357e-01  2.35314315e-01\n",
      " -4.30279294e-02 -5.92765469e-02 -8.27181253e-03 -4.44251493e-02\n",
      "  7.93730170e-01  7.09959368e-04 -1.75503561e-02 -4.95967557e-02\n",
      " -3.13135543e-03 -5.09695025e-02 -3.07379534e-02 -2.76552836e-02\n",
      " -5.51418497e-02  7.94083328e-02  7.36642317e-02 -3.43026463e-02\n",
      "  1.70078146e-01  4.83494447e-01  3.79296375e-03 -4.84425478e-02\n",
      " -3.41260315e-02 -9.22934270e-03 -1.22224780e-02  1.69575794e-02\n",
      "  1.92752735e-02  2.10607187e-02  1.64146128e-02  2.61666167e-02\n",
      "  2.23316956e-02  2.66934478e-02  2.16094531e-02  2.05533299e-02\n",
      " -4.60738908e-02 -3.20319252e-02  5.60407164e-01  5.46659588e-01\n",
      " -1.23044268e-02 -7.32347730e-03 -7.45594846e-02 -3.82827427e-02\n",
      "  2.62615502e-01  2.94395797e-01  4.65470333e-01  5.20089678e-01\n",
      " -3.40749759e-02 -3.25723954e-02 -2.31741751e-02 -5.70173573e-02\n",
      "  2.21696450e-02  1.50658116e-02 -7.67535325e-02 -3.75847322e-02\n",
      " -9.52390207e-03 -5.26810595e-02  1.12054281e-01 -2.17128682e-03\n",
      " -8.97580779e-02 -2.20815050e-01  7.06589210e-01  5.81022666e-01\n",
      " -2.16008403e-02 -2.54397995e-02 -3.32681416e-02 -2.71949039e-02\n",
      " -3.42850065e-02 -4.75230390e-02 -1.43329253e-01 -2.20730693e-02\n",
      " -1.16399426e-02 -2.12619910e-02  9.77423169e-01  9.11855431e-01\n",
      "  5.98561891e-01  4.09760292e-02  5.75529880e-01  4.96161431e-01\n",
      " -6.66846926e-02 -5.33628401e-02 -1.68537213e-01 -5.81627941e-02\n",
      "  1.38738506e-02 -7.26617570e-03 -9.17694385e-03 -1.53519913e-02\n",
      " -3.86038018e-02  2.85551773e-01 -2.01505891e-02 -4.23310825e-02\n",
      "  3.89922037e-01  6.97322390e-01  1.13770334e+00  9.83324214e-01\n",
      " -1.70441258e-01 -2.00247658e-02 -1.30130544e-01 -4.23756687e-02\n",
      "  1.11882727e-02 -3.66531161e-03  8.87272245e-01  2.12962442e-01\n",
      " -5.90877196e-02 -9.58742417e-02 -1.28586740e-02 -2.37445327e-02\n",
      " -8.53607093e-02 -1.92922335e-02 -3.68826127e-02 -2.31210055e-02\n",
      " -5.53545779e-02 -6.61546644e-02  2.86025069e-02  7.21038984e-03\n",
      " -1.38084017e-01 -5.00392240e-02 -9.53035331e-03 -3.23961859e-02\n",
      " -6.94222996e-02 -4.85638928e-02 -3.89330154e-02 -4.45538972e-02\n",
      "  2.44469893e-02 -3.07615370e-02 -6.40069348e-02 -1.27042488e-01\n",
      " -5.83948525e-02 -1.03199031e-01 -6.75542721e-02 -4.74069073e-02\n",
      "  1.05882102e+00  2.14548396e-02  2.16797305e-02 -5.08278030e-02\n",
      "  4.18507381e-01  6.03389561e-01 -3.29125365e-02 -3.64698640e-02\n",
      " -4.97950077e-02 -8.18422157e-02 -5.52444040e-02 -7.08105086e-02\n",
      " -4.23036895e-02 -5.93466226e-02  8.69452350e-03  1.48945212e-02\n",
      " -1.09299316e-01  3.31469961e-03 -5.13726042e-02 -8.90935003e-03\n",
      "  6.36277616e-01 -4.35281027e-02 -9.88187289e-02 -5.56232577e-02\n",
      " -6.57952797e-02 -5.29655879e-02 -9.67905659e-03 -8.46964217e-02\n",
      "  2.62303193e-01 -1.24061555e-01 -6.98082473e-02 -1.07016926e-01\n",
      "  9.01996938e-02 -2.06834525e-01  1.25524220e+00  1.32459204e+00\n",
      " -1.13392369e-01 -3.80497881e-02 -1.13133637e-01 -6.75344904e-02\n",
      "  5.09699357e-01  1.05394117e+00  2.22604271e-03 -1.52538182e-02\n",
      " -9.20864106e-02 -1.99877525e-01 -8.33726396e-02 -5.82078144e-02\n",
      "  4.64901636e-01  7.45836790e-01  9.43152385e-01 -5.64344995e-02\n",
      " -8.53127476e-02 -2.86067969e-02  7.28631085e-01  5.40761221e-01\n",
      "  7.10890122e-01  7.98607083e-01  6.74817103e-01  1.69799546e+00\n",
      "  1.02231524e+00  5.87112449e-01  8.70600947e-01  5.07590083e-01\n",
      "  3.55549934e-01 -9.05455459e-02 -7.71772499e-02  1.13160190e-01\n",
      " -9.77155577e-03 -1.27307230e-01 -8.08984162e-02 -4.47415941e-02\n",
      " -3.91534002e-02  8.73544706e-03 -5.13332877e-02  2.56091797e-02\n",
      "  1.35274304e+00  2.01672042e+00  2.00517232e-02 -4.52645449e-02\n",
      "  8.32474387e-02 -3.59366541e-02 -4.34236378e-02 -4.33326393e-02\n",
      " -1.32800556e-01 -8.35544147e-02 -1.96172678e-01 -1.59679407e-02\n",
      "  1.15101447e-02 -7.91359788e-02 -1.80309374e-02  5.78911378e-01\n",
      " -9.93612012e-02 -9.31473908e-02  9.73300729e-03 -1.88019324e-01\n",
      " -3.90523620e-02  2.68602944e-03 -2.18723115e-02 -1.13124873e-01\n",
      " -1.35768469e-01 -9.90148750e-02  3.29058062e-01  1.06386213e-01\n",
      "  6.04205796e-01  1.19121286e+00 -6.06442950e-02 -1.67350969e-01\n",
      " -2.05141899e-02 -1.55203589e-01  7.00011036e-01  3.57742788e-01\n",
      " -9.62020531e-02 -1.21097175e-01 -9.12844970e-02  1.51896449e-01\n",
      "  3.36554502e-01  1.42347216e+00 -3.71064509e-02 -2.27914363e-01\n",
      " -1.54053434e-02  4.94939625e-03 -6.45486124e-02 -5.64462944e-02\n",
      "  1.00700483e+00  1.91432288e-01 -1.38802503e-01  3.16112585e-02\n",
      "  8.90266871e-02  5.05343885e-01 -1.61277070e-02 -7.94762934e-03\n",
      "  2.34349992e+00  7.19540587e-01  3.79487366e-02 -1.10748664e-03\n",
      " -3.17271243e-02  1.68650105e-01 -2.57124019e-02 -3.16615119e-03\n",
      " -3.27575309e-02 -8.60844165e-03 -1.14033911e-01  3.93273895e-04\n",
      "  5.31598152e-05  3.46656481e-03  2.70158760e-04 -1.32655228e-02\n",
      "  4.71180757e-02  3.29739004e-01  2.95004569e-01  6.44753661e-02\n",
      "  5.19137149e-02  3.17287374e-02 -1.81848291e-01]\n",
      "lagrangian_grad: [-3.11162557e-02 -2.40993447e-03  2.65305045e-01 -1.61723295e-01\n",
      "  5.03653024e-02  2.80906137e-01 -3.55337500e-02  2.03139605e-03\n",
      "  8.72587657e-02 -5.75013394e-02  1.03381743e-02 -1.83579909e-01\n",
      "  1.66401747e-02  5.24298506e-02  6.87353893e-03  8.33876711e-03\n",
      "  4.43329761e-02 -1.65491747e-01 -9.86688247e-03 -8.42407296e-03\n",
      "  1.76107060e-02  6.55326099e-01  1.61361988e-02  6.44113955e-02\n",
      "  5.49789426e-02 -6.46034100e-03  7.36761602e-02  1.51415239e-01\n",
      "  5.08218678e-03  2.08687788e-01  9.22644408e-02 -3.05640192e-02\n",
      "  1.39179859e-01 -5.23179730e-02  1.08404066e-01  1.79431728e-01\n",
      "  3.30765221e-01  1.16249404e-02  1.06409340e-02 -2.62566243e-01\n",
      "  5.90122174e-02 -3.12778043e-01  3.69394649e-01  2.12662668e-02\n",
      "  3.70361088e-01 -5.76166258e-03  4.52488493e-02  7.42871566e-02\n",
      " -1.63796558e-01 -1.65222277e-01 -7.85086190e-02 -1.66291975e-01\n",
      " -8.47478691e-02  2.08556867e-02  1.07749878e-01 -2.83725817e-01\n",
      " -2.55265873e-01  1.12913685e+00 -1.27908172e-01  1.58477536e-01\n",
      "  5.53364656e-02 -5.37911638e-02 -3.65614252e-01  1.67296733e-01\n",
      "  4.03085110e-02 -2.67761806e-01  4.91060903e-02 -8.39171033e-02\n",
      " -7.00465755e-02  2.04587670e-01 -1.98960222e-02  1.00708251e-01\n",
      " -2.79495775e-01 -1.77386879e-01  1.89602454e-01 -1.84297811e-01\n",
      "  7.05114115e-02  1.03315386e-01 -9.51332735e-02  1.20632654e-01\n",
      "  1.96250063e-01  1.58226301e-02 -1.33047554e-01  1.18636074e-01\n",
      "  9.28038655e-03  1.59274895e-01  4.79606465e-02  9.13709977e-02\n",
      "  7.43271616e-03  2.42569976e-01 -3.27722121e-02 -5.41203153e-02\n",
      " -3.40457879e-01  2.00898986e-02  3.36834921e-02 -1.01692928e-01\n",
      "  1.79532260e-02  8.82346526e-02  7.87731017e-03 -4.23658890e-01\n",
      " -4.25481189e-02  1.26220929e-01 -1.02770402e-01 -3.37936575e-02\n",
      " -6.30029170e-02  1.62799657e-02 -9.24191481e-02 -1.94156487e-01\n",
      "  2.40452251e-02  2.01730851e-02  9.09146997e-02  1.54878102e-02\n",
      " -2.59876899e-01  2.36520256e-02 -5.74645070e-02  3.73769740e-02\n",
      "  1.60123748e-02  5.89550104e-02 -1.11495365e-01  1.91286982e-02\n",
      "  3.98884953e-02  3.54486332e-02  2.79259915e-02 -1.27560320e-02\n",
      "  1.65262744e-02  7.62336686e-03  3.45979539e-03  1.80710008e-02\n",
      "  1.88437759e-02  7.49660528e-03 -9.24832481e-03  3.18103826e-02\n",
      "  3.27250371e-03  1.96053232e-03 -1.40857705e-02  3.65181816e-03\n",
      "  2.90847529e-02  3.37936073e-03  9.07278810e-03  1.66492154e-03\n",
      " -1.21805214e-03  2.16486213e-03 -4.89250223e-02  5.42865859e-03\n",
      " -4.46172539e-02  2.60451688e-03 -8.45371833e-04  4.87442144e-03\n",
      " -6.00371994e-04  7.90766205e-04 -4.86054736e-04  1.66398425e-02\n",
      " -4.00512592e-02 -3.39007035e-04  1.50531873e-02 -5.35527174e-02\n",
      "  2.87638509e-02  6.74037360e-05  2.46603370e-02  1.36645814e-03\n",
      " -7.91540693e-03 -4.37586613e-02 -5.82998104e-03  3.47305087e-02\n",
      " -2.16542796e-02  9.47928655e-03 -1.78053843e-02 -2.51959267e-03\n",
      "  2.00256847e-02 -6.63737400e-03 -6.79312431e-02 -3.96510360e-02\n",
      " -1.47271870e-02 -1.41084339e-02 -2.54093274e-02 -1.47984647e-03\n",
      " -3.33859476e-02  1.55947748e-02 -2.17091375e-02 -1.39631976e-02\n",
      " -3.86221345e-02  1.39637749e-02 -1.75541343e-02 -3.87825439e-02\n",
      " -6.94552804e-02 -1.72838664e-02 -1.02666642e-01 -1.15323654e-02\n",
      " -7.54666361e-02  3.06314638e-02  2.18935979e-02  2.01521419e-02\n",
      "  1.54626198e-02 -6.16768731e-02  1.70751516e-02 -1.10560392e-01\n",
      "  5.22663487e-04 -5.64348096e-02  1.91730209e-02 -8.91205246e-03\n",
      "  1.81850792e-02 -7.16067686e-03  2.37812133e-02 -1.06164440e-02\n",
      " -3.05059827e-02  2.10415017e-02  2.25253595e-02  2.25389408e-02\n",
      "  7.38290679e-02  2.43557806e-02  4.38086468e-02  3.09470380e-02\n",
      "  1.35269224e-01  1.67278607e-01  2.09246599e-01  1.48449577e-01\n",
      "  5.09355605e-02  9.09092909e-02  2.37106412e-01  5.15670971e-02\n",
      "  1.60422011e-01  1.39871160e-01  7.68204211e-02  1.13323782e-01\n",
      "  7.29772406e-02  3.38531089e-01  1.50559391e-01  4.74292455e-01\n",
      "  2.72699117e-01 -1.49116345e-01 -1.71296124e-01 -2.59570552e-01\n",
      " -4.07642273e-01 -1.12260128e-01  1.61074144e-01 -1.59806341e-01\n",
      " -2.62233920e-01 -1.09703377e-01 -9.13890343e-02  3.40541094e-02\n",
      "  1.83044671e-02  9.74343491e-02  6.86028094e-02 -4.97541932e-02\n",
      " -2.68723550e-01 -7.41701030e-03 -8.22739691e-02 -7.43847226e-02\n",
      "  5.26175836e-03  2.51064288e-03  2.51740299e-03  1.19564258e-02\n",
      "  2.86252869e-02  4.40534790e-03  1.91855097e-02  1.59890312e-02\n",
      "  4.67289579e-02  1.92796159e-02  3.07316712e-02 -1.17961529e-02\n",
      " -4.16747118e-03  3.18105103e-03 -5.18789856e-04  1.11390139e-02\n",
      "  1.62794235e-02 -2.19362098e-05  1.21059715e-03  5.14635749e-03\n",
      "  1.85051838e-02  1.76755893e-03 -2.75629124e-02 -7.81696624e-03\n",
      " -1.24535794e-02 -1.31146705e-02 -3.64002391e-02 -2.22528568e-02\n",
      " -1.22971460e-02 -2.93559219e-02  2.00566057e-02 -2.79349249e-02\n",
      " -1.91985853e-03 -2.98959573e-02 -2.43518000e-02 -4.83940721e-02\n",
      " -2.05813519e-02 -4.33545493e-02  1.73068046e-03  2.63642207e-02\n",
      "  3.22535447e-02  2.57666111e-02  4.13424945e-03 -8.80447333e-02\n",
      " -8.23940002e-02  1.60038185e-02  1.33045205e-02  1.10763338e-02\n",
      " -1.73091506e-01  1.28886239e-02  1.12805876e-02 -2.04178421e-02\n",
      "  1.86453964e-02  2.16749886e-02  1.03192879e-01  4.60065338e-01\n",
      "  1.27843787e-02  1.11920127e-01  3.93066391e-02 -1.36526515e-01\n",
      " -1.16896938e-01 -1.50637461e-01  1.27106651e-01  3.64346797e-01\n",
      " -6.16755115e-02 -2.90631983e-01 -1.93353118e-01 -8.99193163e-02\n",
      "  1.18237441e-02  5.62185897e-03 -1.57362433e-01 -1.72779741e-01\n",
      "  9.88535561e-03 -6.18919090e-02 -2.27697296e-02  6.34044060e-01\n",
      " -1.26590539e-01 -1.52689205e-01 -3.23974038e-01 -1.90515309e-02\n",
      " -3.92286604e-03  3.90836160e-03  5.37624114e-03  2.35965873e-02\n",
      " -6.23030277e-02  1.67098328e-02  2.53373495e-02  9.73103023e-01\n",
      "  2.75247521e-02  2.18598605e-02  1.84953326e-02  9.20195857e-03\n",
      "  6.96133994e-03 -8.22625474e-03 -6.00432302e-03  1.56257855e-02\n",
      "  1.92448866e-03 -5.49049837e-03 -4.80855646e-02  1.13302769e-02\n",
      "  6.11490909e-04  1.50577380e-04 -3.43997764e-03 -3.44198667e-02\n",
      " -3.45475531e-02 -2.51990196e-02 -3.25575436e-02 -4.35268504e-02\n",
      " -1.47338066e-02  8.58170084e-04 -3.88755569e-02  9.24407333e-03\n",
      "  1.41403487e-02 -4.32557384e-02 -4.51316754e-02  3.01092628e-02\n",
      " -1.31143439e-01  1.37846153e-02 -1.03109382e-03  1.40801540e-02\n",
      "  7.67214628e-02  6.98942577e-03  2.43152458e-02 -1.17481593e-02\n",
      "  1.19327180e-02  5.64299079e-03  2.11020106e-02 -2.26705404e-03\n",
      "  1.18692005e-02 -1.21439458e-03  8.93004402e-03  8.43222700e-02\n",
      "  2.82712295e-01  5.74040321e-02  1.53044575e-01  4.59484685e-02\n",
      "  1.26953357e-01 -4.84850084e-02 -3.55898029e-02  6.28785891e-01\n",
      "  2.28410490e-01  2.35000905e-01  5.56329285e-01  3.57799496e-01\n",
      "  9.50215315e-01  2.39927696e-01  3.77289300e-01  1.46318960e-01\n",
      "  2.89898108e-01  1.85246878e-01  3.03852926e-01  2.86204002e-01\n",
      " -5.39565005e-02 -5.50423639e-02  1.16748610e-01  2.42696933e-02\n",
      "  3.25036588e-01 -1.97595932e-01 -1.60145913e-01  2.45514458e-01\n",
      " -4.38680269e-02  5.82198957e-02  3.43100211e-03 -7.15907329e-02\n",
      " -2.49722182e-01  5.89081388e-03  8.67785476e-03  3.63646425e-03\n",
      "  2.71239756e-04  1.37703171e-02  2.35660043e-02  1.38201288e-02\n",
      " -5.16187421e-04  3.87663747e-02  1.83062197e-02  6.25184795e-03\n",
      "  2.43425271e-02 -1.10673007e-02  8.57330448e-03  6.88231430e-03\n",
      " -5.72709907e-03 -2.44714806e-03 -1.28207435e-02 -3.33108334e-02\n",
      " -7.90388742e-03  3.97658552e-03 -3.72419131e-04 -3.81686209e-02\n",
      " -3.65280062e-02 -2.29166297e-02  2.17295044e-02 -2.51741468e-02\n",
      " -5.32000029e-02 -3.46978559e-02 -4.80886173e-02 -4.09885320e-02\n",
      " -3.20112092e-02  1.65116236e-02  8.05059395e-03 -2.67158971e-02\n",
      "  8.91664950e-02 -2.42650968e-02 -4.16635374e-02  2.12230495e-02\n",
      "  4.47779084e-02  1.24693599e-02 -1.02326806e-02  8.79071705e-03\n",
      "  1.48084197e-02  1.93615039e-02  1.81131774e-02 -2.49195372e-02\n",
      "  9.29293422e-03  2.16030959e-02 -2.27786294e-02 -5.85251698e-02\n",
      "  2.13258613e-02 -2.07282237e-01 -6.50377170e-02  1.88639368e-02\n",
      "  1.39243339e-02  1.47702721e-02  2.68131994e-01 -1.05175771e-01\n",
      "  5.74290575e-03  1.87920152e-02  1.22682518e-03  3.45509251e-02\n",
      " -7.10596236e-03  1.68676221e-02  1.29530005e-02  1.69912928e-02\n",
      "  2.63321243e-03  4.30098516e-03 -5.73085169e-03  7.11076377e-02\n",
      "  3.35806940e-01  2.89042533e-02  1.60987687e-03 -3.80110762e-02\n",
      " -8.24051643e-02 -4.67411492e-02 -1.28754088e-02  2.85676651e-01\n",
      " -6.21437431e-03 -2.79235447e-02  2.27474991e-02  2.03586915e-02\n",
      "  1.98254186e-02  3.33978714e-02 -1.87010356e-03  2.91670955e-02\n",
      " -5.58704126e-03 -3.00952159e-03 -2.97571627e-03  2.90316133e-02\n",
      " -2.97767947e-02 -6.92916174e-03  6.32171562e-03 -7.53273695e-03\n",
      " -1.91774243e-02 -1.52691032e-02 -9.66191296e-02 -3.96166451e-02\n",
      "  8.19049847e-03 -3.83735364e-02  1.29219953e-02  2.17423162e-02\n",
      " -8.94206968e-03  1.87216403e-01 -7.79513669e-02 -3.98667903e-02\n",
      " -9.41416261e-02 -3.37794900e-02 -6.35623294e-02 -2.12612206e-02\n",
      " -4.23308204e-02 -8.92524072e-02 -3.76872783e-02 -7.37108094e-02\n",
      " -7.32987843e-02 -2.35530318e-01 -5.16623701e-02 -7.78390386e-02\n",
      " -6.04956034e-02 -9.01057878e-02 -3.15149387e-01 -6.64808674e-02\n",
      " -9.63632169e-02 -1.04605086e-01 -7.29985875e-02 -2.16830520e-01\n",
      " -1.32251039e-01 -4.87358015e-02 -8.73152699e-02 -5.96896368e-02\n",
      " -6.27407505e-02 -9.19870162e-02  4.55602357e-01  2.35314315e-01\n",
      " -4.30279294e-02 -5.92765469e-02 -8.27181253e-03 -4.44251493e-02\n",
      "  7.93730170e-01  7.09959368e-04 -1.75503561e-02 -4.95967557e-02\n",
      " -3.13135543e-03 -5.09695025e-02 -3.07379534e-02 -2.76552836e-02\n",
      " -5.51418497e-02  7.94083328e-02  7.36642317e-02 -3.43026463e-02\n",
      "  1.70078146e-01  4.83494447e-01  3.79296375e-03 -4.84425478e-02\n",
      " -3.41260315e-02 -9.22934270e-03 -1.22224780e-02  1.69575794e-02\n",
      "  1.92752735e-02  2.10607187e-02  1.64146128e-02  2.61666167e-02\n",
      "  2.23316956e-02  2.66934478e-02  2.16094531e-02  2.05533299e-02\n",
      " -4.60738908e-02 -3.20319252e-02  5.60407164e-01  5.46659588e-01\n",
      " -1.23044268e-02 -7.32347730e-03 -7.45594846e-02 -3.82827427e-02\n",
      "  2.62615502e-01  2.94395797e-01  4.65470333e-01  5.20089678e-01\n",
      " -3.40749759e-02 -3.25723954e-02 -2.31741751e-02 -5.70173573e-02\n",
      "  2.21696450e-02  1.50658116e-02 -7.67535325e-02 -3.75847322e-02\n",
      " -9.52390207e-03 -5.26810595e-02  1.12054281e-01 -2.17128682e-03\n",
      " -8.97580779e-02 -2.20815050e-01  7.06589210e-01  5.81022666e-01\n",
      " -2.16008403e-02 -2.54397995e-02 -3.32681416e-02 -2.71949039e-02\n",
      " -3.42850065e-02 -4.75230390e-02 -1.43329253e-01 -2.20730693e-02\n",
      " -1.16399426e-02 -2.12619910e-02  9.77423169e-01  9.11855431e-01\n",
      "  5.98561891e-01  4.09760292e-02  5.75529880e-01  4.96161431e-01\n",
      " -6.66846926e-02 -5.33628401e-02 -1.68537213e-01 -5.81627941e-02\n",
      "  1.38738506e-02 -7.26617570e-03 -9.17694385e-03 -1.53519913e-02\n",
      " -3.86038018e-02  2.85551773e-01 -2.01505891e-02 -4.23310825e-02\n",
      "  3.89922037e-01  6.97322390e-01  1.13770334e+00  9.83324214e-01\n",
      " -1.70441258e-01 -2.00247658e-02 -1.30130544e-01 -4.23756687e-02\n",
      "  1.11882727e-02 -3.66531161e-03  8.87272245e-01  2.12962442e-01\n",
      " -5.90877196e-02 -9.58742417e-02 -1.28586740e-02 -2.37445327e-02\n",
      " -8.53607093e-02 -1.92922335e-02 -3.68826127e-02 -2.31210055e-02\n",
      " -5.53545779e-02 -6.61546644e-02  2.86025069e-02  7.21038984e-03\n",
      " -1.38084017e-01 -5.00392240e-02 -9.53035331e-03 -3.23961859e-02\n",
      " -6.94222996e-02 -4.85638928e-02 -3.89330154e-02 -4.45538972e-02\n",
      "  2.44469893e-02 -3.07615370e-02 -6.40069348e-02 -1.27042488e-01\n",
      " -5.83948525e-02 -1.03199031e-01 -6.75542721e-02 -4.74069073e-02\n",
      "  1.05882102e+00  2.14548396e-02  2.16797305e-02 -5.08278030e-02\n",
      "  4.18507381e-01  6.03389561e-01 -3.29125365e-02 -3.64698640e-02\n",
      " -4.97950077e-02 -8.18422157e-02 -5.52444040e-02 -7.08105086e-02\n",
      " -4.23036895e-02 -5.93466226e-02  8.69452350e-03  1.48945212e-02\n",
      " -1.09299316e-01  3.31469961e-03 -5.13726042e-02 -8.90935003e-03\n",
      "  6.36277616e-01 -4.35281027e-02 -9.88187289e-02 -5.56232577e-02\n",
      " -6.57952797e-02 -5.29655879e-02 -9.67905659e-03 -8.46964217e-02\n",
      "  2.62303193e-01 -1.24061555e-01 -6.98082473e-02 -1.07016926e-01\n",
      "  9.01996938e-02 -2.06834525e-01  1.25524220e+00  1.32459204e+00\n",
      " -1.13392369e-01 -3.80497881e-02 -1.13133637e-01 -6.75344904e-02\n",
      "  5.09699357e-01  1.05394117e+00  2.22604271e-03 -1.52538182e-02\n",
      " -9.20864106e-02 -1.99877525e-01 -8.33726396e-02 -5.82078144e-02\n",
      "  4.64901636e-01  7.45836790e-01  9.43152385e-01 -5.64344995e-02\n",
      " -8.53127476e-02 -2.86067969e-02  7.28631085e-01  5.40761221e-01\n",
      "  7.10890122e-01  7.98607083e-01  6.74817103e-01  1.69799546e+00\n",
      "  1.02231524e+00  5.87112449e-01  8.70600947e-01  5.07590083e-01\n",
      "  3.55549934e-01 -9.05455459e-02 -7.71772499e-02  1.13160190e-01\n",
      " -9.77155577e-03 -1.27307230e-01 -8.08984162e-02 -4.47415941e-02\n",
      " -3.91534002e-02  8.73544706e-03 -5.13332877e-02  2.56091797e-02\n",
      "  1.35274304e+00  2.01672042e+00  2.00517232e-02 -4.52645449e-02\n",
      "  8.32474387e-02 -3.59366541e-02 -4.34236378e-02 -4.33326393e-02\n",
      " -1.32800556e-01 -8.35544147e-02 -1.96172678e-01 -1.59679407e-02\n",
      "  1.15101447e-02 -7.91359788e-02 -1.80309374e-02  5.78911378e-01\n",
      " -9.93612012e-02 -9.31473908e-02  9.73300729e-03 -1.88019324e-01\n",
      " -3.90523620e-02  2.68602944e-03 -2.18723115e-02 -1.13124873e-01\n",
      " -1.35768469e-01 -9.90148750e-02  3.29058062e-01  1.06386213e-01\n",
      "  6.04205796e-01  1.19121286e+00 -6.06442950e-02 -1.67350969e-01\n",
      " -2.05141899e-02 -1.55203589e-01  7.00011036e-01  3.57742788e-01\n",
      " -9.62020531e-02 -1.21097175e-01 -9.12844970e-02  1.51896449e-01\n",
      "  3.36554502e-01  1.42347216e+00 -3.71064509e-02 -2.27914363e-01\n",
      " -1.54053434e-02  4.94939625e-03 -6.45486124e-02 -5.64462944e-02\n",
      "  1.00700483e+00  1.91432288e-01 -1.38802503e-01  3.16112585e-02\n",
      "  8.90266871e-02  5.05343885e-01 -1.61277070e-02 -7.94762934e-03\n",
      "  2.34349992e+00  7.19540587e-01  3.79487366e-02 -1.10748664e-03\n",
      " -3.17271243e-02  1.68650105e-01 -2.57124019e-02 -3.16615119e-03\n",
      " -3.27575309e-02 -8.60844165e-03 -1.14033911e-01  3.93273895e-04\n",
      "  5.31598152e-05  3.46656481e-03  2.70158760e-04 -1.32655228e-02\n",
      "  4.71180757e-02  3.29739004e-01  2.95004569e-01  6.44753661e-02\n",
      "  5.19137149e-02  3.17287374e-02 -1.81848291e-01]\n",
      "constr: []\n",
      "jac: []\n",
      "constr_nfev: []\n",
      "constr_njev: []\n",
      "constr_nhev: []\n",
      "v: []\n",
      "method: equality_constrained_sqp\n",
      "optimality: 2.3434999224806217\n",
      "constr_violation: 0\n",
      "execution_time: 920.4973232746124\n",
      "tr_radius: 7.450580596923828e-09\n",
      "constr_penalty: 1.0\n",
      "status: 2\n",
      "niter: 533\n",
      "message: `xtol` termination condition is satisfied.\n",
      "model: [202.79623068 198.1910563  179.04468256 207.02232286 192.06464519\n",
      " 178.16771371 197.17500982 198.3233411  191.27847724 182.78024032\n",
      " 192.97967969 207.48221717 198.3529229  194.95284091 199.65112555\n",
      " 193.63876398 192.56974466 209.24026728 193.52593635 195.10502311\n",
      " 193.77502316 160.20407526 198.47702305 196.84632377 195.11760771\n",
      " 198.15859895 193.76659271 188.38462325 198.55326303 188.30173379\n",
      " 194.00768029 195.75984549 188.79430608 200.48297547 193.47993319\n",
      " 185.68113656 176.47657866 198.31575663 198.41734052 209.54095081\n",
      " 195.41698127 214.35836724 172.66994185 198.06087926 177.09264174\n",
      " 200.59358211 193.23673447 195.01534903 204.18666917 208.02913656\n",
      " 203.68439805 205.41762294 199.28403723 197.33589182 191.37001911\n",
      " 211.71625821 207.6926255  131.9930061  206.05050269 186.79255716\n",
      " 190.18171563 204.68894791 216.65576869 186.39667753 194.70599924\n",
      " 212.59463561 191.40410317 204.80354376 203.42600829 184.15805925\n",
      " 204.39774032 192.72105568 215.34655235 197.42364276 180.70463754\n",
      " 208.9469567  194.72152808 191.15297334 203.12449438 195.00151378\n",
      " 185.26609743 197.8337945  210.02139992 189.06359238 200.33189731\n",
      " 187.3934436  193.83133363 194.57225719 199.26627937 179.76256141\n",
      " 198.03690324 204.40720273 220.66874313 198.37108137 197.29381407\n",
      " 204.20851414 197.6662412  190.85155883 199.52178599 223.04719658\n",
      " 201.97634606 189.41323332 204.34950849 201.71867616 203.26101303\n",
      " 197.79252071 205.74773327 208.07182727 197.67161785 197.7086573\n",
      " 197.22573478 198.21039667 215.63491061 198.92194617 203.38615934\n",
      " 197.05043431 197.87420309 195.63465792 206.19520049 198.02099494\n",
      " 195.82569513 196.06762309 198.63640957 200.68043884 195.95607066\n",
      " 197.79297714 197.54197651 197.19768668 197.92747933 199.74512782\n",
      " 198.58963816 197.90710456 196.02495824 198.4102531  198.06090942\n",
      " 198.42615332 197.40985719 197.95864076 197.91193023 198.29658653\n",
      " 198.2914485  198.40781937 199.63433074 198.40295435 200.19062846\n",
      " 196.9589736  198.54742154 197.23109743 197.92128871 196.86106914\n",
      " 198.25244961 197.70041515 199.79781499 198.40933345 199.00806211\n",
      " 201.14814928 198.29805788 198.35226174 201.3292255  197.61685105\n",
      " 198.71514625 196.75208631 198.68611056 196.00152301 197.66626302\n",
      " 196.56842564 198.72893255 198.33765006 196.85428224 200.46720868\n",
      " 202.31276247 200.35599893 198.21588448 198.22406189 197.70995543\n",
      " 198.07742465 197.16153595 198.30170728 196.68670985 197.86463324\n",
      " 202.20109699 198.91737002 198.24225532 202.21979345 197.52704756\n",
      " 198.09017169 204.38315115 198.01598767 205.89449872 197.21786727\n",
      " 195.66782439 198.07470966 197.940889   198.23475967 197.81964349\n",
      " 199.50321136 197.94510783 198.03019454 199.61250162 195.8051167\n",
      " 197.93055212 197.63211368 197.69702218 196.94299733 202.55257319\n",
      " 198.62258728 197.63747147 197.64363003 189.78841455 196.09595266\n",
      " 192.0512912  193.05771167 187.76866569 187.3667563  183.89787561\n",
      " 185.76865675 193.38985389 188.75182629 181.91928451 192.71346407\n",
      " 186.6411054  184.77703157 197.29488112 191.59927522 192.80660045\n",
      " 175.41995812 187.97676321 165.86019877 180.72131079 207.32368691\n",
      " 206.42519915 211.01520706 220.4727135  202.91970474 186.42126607\n",
      " 206.49228043 209.89887457 204.67189328 205.17155387 197.32278456\n",
      " 197.71754777 194.03631044 196.22369733 202.47254956 213.47576724\n",
      " 200.2714181  204.1819273  205.14136094 198.21378132 198.24338546\n",
      " 198.1338671  198.97551436 197.55759576 198.24772562 198.88974076\n",
      " 198.07939823 196.23498879 197.86656927 197.05993773 201.44048408\n",
      " 198.31704616 197.68827056 197.96166008 197.36629697 197.56201636\n",
      " 198.20819702 198.17584006 197.44681195 198.21128626 198.36037976\n",
      " 198.04939112 198.31964394 198.15483981 198.19936982 198.91703933\n",
      " 198.82531183 198.35339635 197.64243801 195.08101334 198.19165842\n",
      " 196.04354159 197.82873951 197.74624594 197.86261626 198.33911812\n",
      " 197.82687307 200.28549095 198.17897999 197.01351358 197.11334206\n",
      " 199.24171753 204.25000219 205.04772732 197.79988933 198.40468036\n",
      " 199.25147268 208.16948439 198.87428038 198.46082344 201.83386539\n",
      " 197.88854073 198.02100166 189.37850759 167.84371726 193.74167596\n",
      " 191.41677231 192.96441578 205.7237972  203.12616345 204.67642246\n",
      " 188.14919918 176.74200875 199.43140894 212.89229225 209.95108654\n",
      " 202.38142447 197.38858489 199.77037641 205.79239626 207.68588538\n",
      " 197.42692216 203.44238898 197.68273239 165.58182662 207.4412227\n",
      " 207.95677089 217.07098227 201.70195222 197.59653294 198.40149479\n",
      " 198.48860328 197.31276631 200.39076983 198.29251905 197.75969\n",
      " 142.50555444 197.3759871  197.65202206 197.62901639 199.20328409\n",
      " 198.55152446 197.96932134 197.82886321 197.24665781 197.12977838\n",
      " 197.9005386  199.39146795 197.89418476 198.10165987 198.0049597\n",
      " 198.0070027  197.78639565 198.10637514 198.25891245 198.04112391\n",
      " 198.93692613 198.25580147 197.03823662 197.1569918  196.59416122\n",
      " 196.82457795 198.37876927 197.7689605  200.31849031 195.45391907\n",
      " 198.52564369 197.23817201 198.49419484 175.76972799 199.66981294\n",
      " 197.70094614 199.13314072 198.63841248 198.84818986 197.59497613\n",
      " 200.40620337 198.61185959 197.95066276 198.56536469 191.25540938\n",
      " 179.33668136 192.54758375 186.4242273  190.37714298 188.71138575\n",
      " 193.35211251 193.93711967 159.00750356 183.67252024 182.80514319\n",
      " 165.40062264 175.59941278 141.34420383 182.98428896 174.55666813\n",
      " 188.32329656 179.78159502 184.34853497 179.55220554 182.25859415\n",
      " 200.69450215 198.9849573  190.94583764 197.13440199 180.18642426\n",
      " 208.70650618 206.59998128 183.93140781 203.70492508 194.5649266\n",
      " 199.73574955 204.38326777 214.21124907 198.98044134 198.48249175\n",
      " 198.30154175 198.24191747 197.72207369 196.99650895 198.34466272\n",
      " 199.35483589 196.16316653 198.24874767 198.15655607 197.44273902\n",
      " 197.54928029 196.56472343 197.6057766  197.90036713 197.69196144\n",
      " 197.16436956 202.44010194 197.59254279 198.15716557 198.07484681\n",
      " 198.11942886 197.15247407 198.18929531 200.16256326 198.06875594\n",
      " 198.38717981 199.00607327 198.65819168 199.0751152  198.54006016\n",
      " 196.7230424  197.08507352 197.85098214 202.04801131 196.46638534\n",
      " 198.072697   197.90942798 190.32578983 198.88010869 200.30561803\n",
      " 199.25820631 198.78283369 197.0548674  198.4495288  201.06511628\n",
      " 197.57555236 193.12213742 196.70173703 199.74004109 191.24880445\n",
      " 209.6475964  191.51314424 197.82352379 197.93714976 198.75295076\n",
      " 179.8093714  205.42701784 199.4502605  197.07551018 197.91820177\n",
      " 196.67050765 197.65304701 197.66982699 198.20262719 198.97065138\n",
      " 199.35177293 197.03534552 197.64251351 187.11853438 175.96374856\n",
      " 196.55066315 198.57128456 194.51819944 204.32116243 197.08586888\n",
      " 193.96680542 183.609315   201.52340142 198.07817791 198.4744484\n",
      " 197.67871271 197.67431359 198.66617498 199.2307224  197.46301609\n",
      " 198.00565736 198.1666561  198.07026535 198.47929672 201.87914741\n",
      " 198.83051105 198.7086038  197.90478514 197.64159088 197.4652883\n",
      " 207.10925079 199.60330712 193.5313574  199.53561033 198.59464211\n",
      " 197.38433449 200.70335862 188.53271004 204.89757755 197.05935292\n",
      " 205.25200943 198.27068612 202.05649672 194.57028225 199.77019056\n",
      " 203.43133505 198.43062767 203.6739982  205.91387622 215.38485609\n",
      " 200.36827304 202.76091898 205.09292696 207.26202842 214.99099641\n",
      " 201.56813419 208.8208643  220.47959845 204.04069892 210.76989313\n",
      " 203.91792875 205.61725377 206.82293841 204.7854743  205.36217324\n",
      " 209.78395966 172.38577251 183.1991626  197.74291293 198.41864266\n",
      " 197.11722132 196.93002563 153.51995221 198.8073705  197.79334242\n",
      " 197.49351406 197.23154701 197.98397562 199.00295913 197.8888953\n",
      " 196.65698007 190.50768357 189.90894395 197.67667497 184.37408564\n",
      " 170.64205577 199.21522672 197.55406174 196.76283242 198.67267735\n",
      " 198.84505084 199.28422048 201.12832658 200.14770194 200.15479272\n",
      " 200.70127816 199.86500073 200.41788652 200.8148245  200.19935251\n",
      " 198.5289466  197.54109168 166.34111353 167.38954108 197.45807725\n",
      " 197.81134136 201.6233835  199.22363879 180.03581658 180.16966884\n",
      " 169.90967465 169.5216914  197.7877015  197.03537906 197.88012028\n",
      " 197.08241845 200.67355575 200.22491934 197.71900701 197.71458347\n",
      " 196.99317456 197.36509402 187.77331869 193.25711295 200.57699268\n",
      " 209.91023911 157.4433436  163.82115248 197.82756759 197.29768374\n",
      " 197.39202759 197.51276438 197.20314012 196.62112258 209.08145131\n",
      " 196.94916201 197.71113647 197.11987124 147.15191103 143.84445945\n",
      " 159.18367389 188.47149662 166.33410693 170.30737094 197.48925623\n",
      " 196.16449547 207.16533412 203.40687008 197.29963431 198.09678296\n",
      " 198.4467578  196.2141252  193.63915189 176.56244419 197.09003808\n",
      " 196.39012692 171.30072567 157.76053269 133.3156703  140.80908998\n",
      " 205.89420142 199.03275731 202.27854332 202.41780663 196.60268303\n",
      " 198.03207015 145.59060699 185.42755484 202.01003648 200.1731442\n",
      " 199.83478405 199.84851648 202.53067748 196.96029202 197.07668225\n",
      " 197.25693716 197.65364941 196.71173454 197.34984249 197.09672761\n",
      " 201.2424292  199.3481161  197.86201163 197.28236342 201.45700912\n",
      " 196.86580357 196.55167103 197.79604386 196.57970929 196.73606338\n",
      " 196.76554515 194.66549076 197.97162871 196.9137625  196.4911397\n",
      " 196.51788988 137.45729895 193.5827101  196.64013024 195.69923854\n",
      " 169.94992876 156.0030096  198.39640817 196.64770073 197.32919954\n",
      " 200.52825431 196.40863825 196.79299613 197.4566028  196.70423742\n",
      " 196.76830721 196.55463394 195.21657185 199.60394768 196.23504028\n",
      " 196.28753725 159.2006045  192.79542045 197.79738509 198.62386613\n",
      " 195.58683618 195.46081737 196.4461456  195.43432296 175.8773988\n",
      " 201.41359309 195.98801466 195.53038846 183.59716006 207.1778401\n",
      " 116.5353724  128.00011489 195.52294272 196.58061866 195.45946559\n",
      " 195.77859132 165.26270982 135.68777256 197.49610828 196.93475481\n",
      " 192.32874218 192.09322025 192.25870033 195.01300497 162.33608656\n",
      " 152.0187867  140.71794671 187.84434143 195.20490022 190.5567496\n",
      " 154.78008635 156.24381254 153.72234054 143.26567632 155.02451245\n",
      "  98.3256441  132.24564244 151.02982952 121.85496529 169.36852271\n",
      " 175.5602579  196.79252924 195.52358609 170.06767372 197.94571444\n",
      " 192.40289302 180.82358695 192.14051797 190.64931284 177.14730505\n",
      " 195.85300464 172.48563707 111.61221004  76.92933245 184.05388659\n",
      " 195.27650031 175.41106456 185.43216525 189.74147183 195.4606277\n",
      " 192.0275635  190.92847797 167.96713046 197.80876582 200.95436393\n",
      " 195.65636905 197.3490813  130.4848675  193.22130077 194.86092021\n",
      " 180.09092258 186.56257118 196.21857974 199.65369569 195.3214696\n",
      " 174.84835421 192.62043632 194.17306313 166.38092354 182.69743696\n",
      " 152.41966852 114.61754314 194.98649276 189.66316244 194.74159959\n",
      " 190.79907434 149.34161172 165.20750941 188.27592071 192.27710033\n",
      " 201.32651064 184.2912618  150.07037455  90.84570758 194.85197523\n",
      " 187.89151731 191.54852404 194.90754159 192.04051952 200.96347967\n",
      " 123.36447187 175.57418537 204.16719129 194.7352425  187.07744369\n",
      " 157.04856521 197.44017656 194.78226106  59.79157338 129.04227436\n",
      " 193.98237135 198.37266891 199.37203494 186.52302056 195.59346581\n",
      " 198.21269035 200.06692469 198.46860328 184.95704118 197.86483962\n",
      " 197.94741371 190.47411467 196.21827111 181.41142851 174.22884621\n",
      " 161.53499951 157.94230766 185.20627764 182.98175685 182.6523652\n",
      " 173.29128291]\n"
     ]
    },
    {
     "data": {
      "text/plain": [
       "Text(0.5, 1.0, 'Inferred model')"
      ]
     },
     "execution_count": 15,
     "metadata": {},
     "output_type": "execute_result"
    },
    {
     "data": {
      "image/png": "[encoded data removed]",
      "text/plain": [
       "<Figure size 432x288 with 2 Axes>"
      ]
     },
     "metadata": {
      "needs_background": "light"
     },
     "output_type": "display_data"
    }
   ],
   "source": [
    "# plot inferred model\n",
    "inv_result.summary()\n",
    "ax = pygimli.show(ert_manager.paraDomain, data=inv_result.model, label=r\"$\\Omega m$\")\n",
    "ax[0].set_title(\"Inferred model\")"
   ]
  },
  {
   "cell_type": "code",
   "execution_count": 16,
   "id": "dbdad52e",
   "metadata": {
    "execution": {
     "iopub.execute_input": "2022-07-14T02:40:43.517165Z",
     "iopub.status.busy": "2022-07-14T02:40:43.516951Z",
     "iopub.status.idle": "2022-07-14T02:40:44.015138Z",
     "shell.execute_reply": "2022-07-14T02:40:44.014696Z"
    },
    "papermill": {
     "duration": 0.510525,
     "end_time": "2022-07-14T02:40:44.016231",
     "exception": false,
     "start_time": "2022-07-14T02:40:43.505706",
     "status": "completed"
    },
    "tags": []
   },
   "outputs": [
    {
     "data": {
      "text/plain": [
       "Text(0.5, 1.0, 'Synthetic data from inferred model')"
      ]
     },
     "execution_count": 16,
     "metadata": {},
     "output_type": "execute_result"
    },
    {
     "data": {
      "image/png": "[encoded data removed]",
      "text/plain": [
       "<Figure size 432x288 with 2 Axes>"
      ]
     },
     "metadata": {
      "needs_background": "light"
     },
     "output_type": "display_data"
    }
   ],
   "source": [
    "# plot synthetic data\n",
    "d = forward_oprt.response(inv_result.model)\n",
    "ax = ert.showERTData(scheme, vals=d)\n",
    "ax[0].set_title(\"Synthetic data from inferred model\")"
   ]
  },
  {
   "cell_type": "markdown",
   "id": "e63a135a",
   "metadata": {
    "papermill": {
     "duration": 0.024369,
     "end_time": "2022-07-14T02:40:44.050899",
     "exception": false,
     "start_time": "2022-07-14T02:40:44.026530",
     "status": "completed"
    },
    "tags": []
   },
   "source": [
    "### 2.2 A custom [Newton's optimisation](https://en.wikipedia.org/wiki/Newton%27s_method_in_optimization) approach\n",
    "\n",
    "Now we switch to a Newton's iterative approach written by ourselves, so you'll \n",
    "have a closer look at what's happening in the loop.\n",
    "\n",
    "First of all, define our own solver."
   ]
  },
  {
   "cell_type": "code",
   "execution_count": 17,
   "id": "a21b92a9",
   "metadata": {
    "execution": {
     "iopub.execute_input": "2022-07-14T02:40:44.094451Z",
     "iopub.status.busy": "2022-07-14T02:40:44.094125Z",
     "iopub.status.idle": "2022-07-14T02:40:44.099750Z",
     "shell.execute_reply": "2022-07-14T02:40:44.099356Z"
    },
    "papermill": {
     "duration": 0.038987,
     "end_time": "2022-07-14T02:40:44.100651",
     "exception": false,
     "start_time": "2022-07-14T02:40:44.061664",
     "status": "completed"
    },
    "tags": []
   },
   "outputs": [],
   "source": [
    "class GaussNewton(BaseSolver):\n",
    "    def __init__(self, inv_problem, inv_options):\n",
    "        __params = inv_options.get_params()\n",
    "        self._niter = __params.get(\"niter\", 100)\n",
    "        self._verbose = __params.get(\"verbose\", True)\n",
    "        self._step = __params.get(\"step\", 1)\n",
    "        self._model_0 = inv_problem.initial_model\n",
    "        self._residual = inv_problem.residual\n",
    "        self._jacobian = inv_problem.jacobian\n",
    "        self._gradient = inv_problem.gradient\n",
    "        self._hessian = inv_problem.hessian\n",
    "        self._misfit = inv_problem.data_misfit if inv_problem.data_misfit_defined else None\n",
    "        self._reg = inv_problem.regularisation if inv_problem.regularisation_defined else None\n",
    "        self._obj = inv_problem.objective if inv_problem.objective_defined else None\n",
    "\n",
    "    def __call__(self):\n",
    "        current_model = np.array(self._model_0)\n",
    "        for i in range(self._niter):\n",
    "            if self._verbose:\n",
    "                print(\"-\" * 80)\n",
    "                print(f\"Iteration {i+1}\")\n",
    "                print(\"model min and max:\", np.min(current_model), np.max(current_model))\n",
    "                if self._misfit: print(\"data misfit:\", self._misfit(current_model))\n",
    "                if self._reg: print(\"regularisation:\", self._reg(current_model))\n",
    "            term1 = self._hessian(current_model)\n",
    "            term2 = - self._gradient(current_model)\n",
    "            model_update = np.linalg.solve(term1, term2) * self._step\n",
    "            current_model = np.array(current_model + model_update)\n",
    "        return {\"model\": current_model, \"success\": True}"
   ]
  },
  {
   "cell_type": "markdown",
   "id": "b9623998",
   "metadata": {
    "papermill": {
     "duration": 0.008765,
     "end_time": "2022-07-14T02:40:44.117873",
     "exception": false,
     "start_time": "2022-07-14T02:40:44.109108",
     "status": "completed"
    },
    "tags": []
   },
   "source": [
    "Now, make use of this custom solver and run inversion again:"
   ]
  },
  {
   "cell_type": "code",
   "execution_count": 18,
   "id": "6defb206",
   "metadata": {
    "execution": {
     "iopub.execute_input": "2022-07-14T02:40:44.135586Z",
     "iopub.status.busy": "2022-07-14T02:40:44.135093Z",
     "iopub.status.idle": "2022-07-14T02:46:11.627554Z",
     "shell.execute_reply": "2022-07-14T02:46:11.626593Z"
    },
    "papermill": {
     "duration": 327.50333,
     "end_time": "2022-07-14T02:46:11.629535",
     "exception": false,
     "start_time": "2022-07-14T02:40:44.126205",
     "status": "completed"
    },
    "tags": []
   },
   "outputs": [
    {
     "name": "stdout",
     "output_type": "stream",
     "text": [
      "--------------------------------------------------------------------------------\n",
      "Iteration 1\n",
      "model min and max: 198.60359307964035 198.60359307964035\n",
      "data misfit: 114.25204386526127\n",
      "regularisation: 9.321937762560492e-28\n"
     ]
    },
    {
     "name": "stdout",
     "output_type": "stream",
     "text": [
      "--------------------------------------------------------------------------------\n",
      "Iteration 2\n",
      "model min and max: 193.3724998096491 204.26638012558683\n",
      "data misfit: 111.83308633048894\n",
      "regularisation: 0.09372234111296376\n"
     ]
    },
    {
     "name": "stdout",
     "output_type": "stream",
     "text": [
      "--------------------------------------------------------------------------------\n",
      "Iteration 3\n",
      "model min and max: 188.8466686899677 206.6549104831427\n",
      "data misfit: 109.44315552012856\n",
      "regularisation: 0.14907249357850566\n"
     ]
    },
    {
     "name": "stdout",
     "output_type": "stream",
     "text": [
      "--------------------------------------------------------------------------------\n",
      "Iteration 4\n",
      "model min and max: 184.06207931252177 208.66524526574324\n"
     ]
    },
    {
     "name": "stdout",
     "output_type": "stream",
     "text": [
      "data misfit: 107.20039508808304\n",
      "regularisation: 0.26375446402015124\n"
     ]
    },
    {
     "name": "stdout",
     "output_type": "stream",
     "text": [
      "--------------------------------------------------------------------------------\n",
      "Iteration 5\n",
      "model min and max: 179.47601135540282 210.5893178906895\n"
     ]
    },
    {
     "name": "stdout",
     "output_type": "stream",
     "text": [
      "data misfit: 104.9123735117388\n",
      "regularisation: 0.3631749444952161\n"
     ]
    },
    {
     "name": "stdout",
     "output_type": "stream",
     "text": [
      "--------------------------------------------------------------------------------\n",
      "Iteration 6\n",
      "model min and max: 175.00037430496596 211.7209415601775\n"
     ]
    },
    {
     "name": "stdout",
     "output_type": "stream",
     "text": [
      "data misfit: 102.72261051827316\n",
      "regularisation: 0.4993205241984091\n"
     ]
    },
    {
     "name": "stdout",
     "output_type": "stream",
     "text": [
      "--------------------------------------------------------------------------------\n",
      "Iteration 7\n",
      "model min and max: 170.6215899438995 213.4760566645871\n"
     ]
    },
    {
     "name": "stdout",
     "output_type": "stream",
     "text": [
      "data misfit: 100.49244642292804\n",
      "regularisation: 0.6278430436546707\n"
     ]
    },
    {
     "name": "stdout",
     "output_type": "stream",
     "text": [
      "--------------------------------------------------------------------------------\n",
      "Iteration 8\n",
      "model min and max: 166.39331794027632 214.2840336255118\n"
     ]
    },
    {
     "name": "stdout",
     "output_type": "stream",
     "text": [
      "data misfit: 98.3414358397283\n",
      "regularisation: 0.7826837617542064\n"
     ]
    },
    {
     "name": "stdout",
     "output_type": "stream",
     "text": [
      "--------------------------------------------------------------------------------\n",
      "Iteration 9\n",
      "model min and max: 162.22251700231865 215.8389524029794\n"
     ]
    },
    {
     "name": "stdout",
     "output_type": "stream",
     "text": [
      "data misfit: 96.15530152520198\n",
      "regularisation: 0.9327443768748582\n"
     ]
    },
    {
     "name": "stdout",
     "output_type": "stream",
     "text": [
      "--------------------------------------------------------------------------------\n",
      "Iteration 10\n",
      "model min and max: 158.20886234284367 216.44899859216451\n"
     ]
    },
    {
     "name": "stdout",
     "output_type": "stream",
     "text": [
      "data misfit: 94.03915129187565\n",
      "regularisation: 1.1025710299630151\n"
     ]
    },
    {
     "name": "stdout",
     "output_type": "stream",
     "text": [
      "--------------------------------------------------------------------------------\n",
      "Iteration 11\n",
      "model min and max: 154.23908312867695 217.91501439173857\n"
     ]
    },
    {
     "name": "stdout",
     "output_type": "stream",
     "text": [
      "data misfit: 91.8921567853571\n",
      "regularisation: 1.2688170086035533\n"
     ]
    },
    {
     "name": "stdout",
     "output_type": "stream",
     "text": [
      "--------------------------------------------------------------------------------\n",
      "Iteration 12\n",
      "model min and max: 150.41926123774016 218.39554409986567\n",
      "data misfit: 89.81053897849733\n",
      "regularisation: 1.4503289214120458\n"
     ]
    },
    {
     "name": "stdout",
     "output_type": "stream",
     "text": [
      "--------------------------------------------------------------------------------\n",
      "Iteration 13\n",
      "model min and max: 146.64133448209253 219.83689685242135\n",
      "data misfit: 87.70183994846134\n",
      "regularisation: 1.6287486964227293\n"
     ]
    },
    {
     "name": "stdout",
     "output_type": "stream",
     "text": [
      "--------------------------------------------------------------------------------\n",
      "Iteration 14\n",
      "model min and max: 143.00076191385253 220.22616619526303\n",
      "data misfit: 85.6561610622722\n",
      "regularisation: 1.8191746252850942\n"
     ]
    },
    {
     "name": "stdout",
     "output_type": "stream",
     "text": [
      "--------------------------------------------------------------------------------\n",
      "Iteration 15\n",
      "model min and max: 139.40537728932173 221.68230594922477\n"
     ]
    },
    {
     "name": "stdout",
     "output_type": "stream",
     "text": [
      "data misfit: 83.58688283347672\n",
      "regularisation: 2.0066532515043973\n"
     ]
    },
    {
     "name": "stdout",
     "output_type": "stream",
     "text": [
      "--------------------------------------------------------------------------------\n",
      "Iteration 16\n",
      "model min and max: 135.9331053392947 222.0008788010607\n",
      "data misfit: 81.57943194113318\n",
      "regularisation: 2.2036767205745775\n"
     ]
    },
    {
     "name": "stdout",
     "output_type": "stream",
     "text": [
      "--------------------------------------------------------------------------------\n",
      "Iteration 17\n",
      "model min and max: 132.51155810615305 223.497342916776\n"
     ]
    },
    {
     "name": "stdout",
     "output_type": "stream",
     "text": [
      "data misfit: 79.55167162884456\n",
      "regularisation: 2.3977205155339396\n"
     ]
    },
    {
     "name": "stdout",
     "output_type": "stream",
     "text": [
      "--------------------------------------------------------------------------------\n",
      "Iteration 18\n",
      "model min and max: 129.19891496816254 223.7550289381349\n",
      "data misfit: 77.58515949827512\n",
      "regularisation: 2.5993879652329555\n"
     ]
    },
    {
     "name": "stdout",
     "output_type": "stream",
     "text": [
      "--------------------------------------------------------------------------------\n",
      "Iteration 19\n",
      "model min and max: 125.94330413534831 225.3093254668373\n",
      "data misfit: 75.60147659677034\n",
      "regularisation: 2.797950555838912\n"
     ]
    },
    {
     "name": "stdout",
     "output_type": "stream",
     "text": [
      "--------------------------------------------------------------------------------\n",
      "Iteration 20\n",
      "model min and max: 122.78310384606505 225.5092096850794\n",
      "data misfit: 73.67876567630391\n",
      "regularisation: 3.0025972299590165\n"
     ]
    },
    {
     "name": "stdout",
     "output_type": "stream",
     "text": [
      "--------------------------------------------------------------------------------\n",
      "Iteration 21\n",
      "model min and max: 119.68631208485775 227.134162342283\n",
      "data misfit: 71.74190666464193\n",
      "regularisation: 3.2039680263809225\n"
     ]
    },
    {
     "name": "stdout",
     "output_type": "stream",
     "text": [
      "--------------------------------------------------------------------------------\n",
      "Iteration 22\n",
      "model min and max: 116.6723647351249 227.27501956063134\n",
      "data misfit: 69.86585304270668\n",
      "regularisation: 3.410163554513348\n"
     ]
    },
    {
     "name": "stdout",
     "output_type": "stream",
     "text": [
      "--------------------------------------------------------------------------------\n",
      "Iteration 23\n",
      "model min and max: 113.72796260366648 228.9807129740685\n",
      "data misfit: 67.97859425490981\n",
      "regularisation: 3.612893900741627\n"
     ]
    },
    {
     "name": "stdout",
     "output_type": "stream",
     "text": [
      "--------------------------------------------------------------------------------\n",
      "Iteration 24\n",
      "model min and max: 110.85476427352377 229.05848144820803\n",
      "data misfit: 66.15195032374093\n",
      "regularisation: 3.819402410073127\n"
     ]
    },
    {
     "name": "stdout",
     "output_type": "stream",
     "text": [
      "--------------------------------------------------------------------------------\n",
      "Iteration 25\n",
      "model min and max: 108.05690098537497 230.85344847690283\n",
      "data misfit: 64.31700237373704\n",
      "regularisation: 4.0222547510939055\n"
     ]
    },
    {
     "name": "stdout",
     "output_type": "stream",
     "text": [
      "--------------------------------------------------------------------------------\n",
      "Iteration 26\n",
      "model min and max: 105.31942869549245 230.8621323561984\n",
      "data misfit: 62.542354998231865\n",
      "regularisation: 4.228004906922668\n"
     ]
    },
    {
     "name": "stdout",
     "output_type": "stream",
     "text": [
      "--------------------------------------------------------------------------------\n",
      "Iteration 27\n",
      "model min and max: 102.66272601111199 232.75405936624492\n"
     ]
    },
    {
     "name": "stdout",
     "output_type": "stream",
     "text": [
      "data misfit: 60.76230227546176\n",
      "regularisation: 4.429916380632249\n"
     ]
    },
    {
     "name": "stdout",
     "output_type": "stream",
     "text": [
      "--------------------------------------------------------------------------------\n",
      "Iteration 28\n",
      "model min and max: 100.05630225563478 232.68630845191916\n"
     ]
    },
    {
     "name": "stdout",
     "output_type": "stream",
     "text": [
      "data misfit: 59.042033370894444\n",
      "regularisation: 4.633978543064453\n"
     ]
    },
    {
     "name": "stdout",
     "output_type": "stream",
     "text": [
      "--------------------------------------------------------------------------------\n",
      "Iteration 29\n",
      "model min and max: 97.53576512510865 234.68248341255506\n",
      "data misfit: 57.319289532107696\n",
      "regularisation: 4.8340340255297525\n"
     ]
    },
    {
     "name": "stdout",
     "output_type": "stream",
     "text": [
      "--------------------------------------------------------------------------------\n",
      "Iteration 30\n",
      "model min and max: 95.05596634469845 234.52995474344434\n",
      "data misfit: 55.6555449247172\n",
      "regularisation: 5.035602024921024\n"
     ]
    },
    {
     "name": "stdout",
     "output_type": "stream",
     "text": [
      "--------------------------------------------------------------------------------\n",
      "Iteration 31\n",
      "model min and max: 92.66690723730402 236.63753506200808\n",
      "data misfit: 53.99232652254437\n",
      "regularisation: 5.233013332083052\n"
     ]
    },
    {
     "name": "stdout",
     "output_type": "stream",
     "text": [
      "--------------------------------------------------------------------------------\n",
      "Iteration 32\n",
      "model min and max: 90.30949618618588 236.3911226069633\n",
      "data misfit: 52.38699707632415\n",
      "regularisation: 5.431389991140898\n"
     ]
    },
    {
     "name": "stdout",
     "output_type": "stream",
     "text": [
      "--------------------------------------------------------------------------------\n",
      "Iteration 33\n",
      "model min and max: 88.0474745634783 238.61732604371275\n",
      "data misfit: 50.78529307346227\n",
      "regularisation: 5.625479628886959\n"
     ]
    },
    {
     "name": "stdout",
     "output_type": "stream",
     "text": [
      "--------------------------------------------------------------------------------\n",
      "Iteration 34\n",
      "model min and max: 85.80835572602689 238.26730058045985\n"
     ]
    },
    {
     "name": "stdout",
     "output_type": "stream",
     "text": [
      "data misfit: 49.23999841495352\n",
      "regularisation: 5.8200646145071895\n"
     ]
    },
    {
     "name": "stdout",
     "output_type": "stream",
     "text": [
      "--------------------------------------------------------------------------------\n",
      "Iteration 35\n",
      "model min and max: 83.66912553554572 240.61951745227915\n",
      "data misfit: 47.70155370218237\n",
      "regularisation: 6.010252761065629\n"
     ]
    },
    {
     "name": "stdout",
     "output_type": "stream",
     "text": [
      "--------------------------------------------------------------------------------\n",
      "Iteration 36\n",
      "model min and max: 81.54430928150902 240.15561661540892\n"
     ]
    },
    {
     "name": "stdout",
     "output_type": "stream",
     "text": [
      "data misfit: 46.21763044851211\n",
      "regularisation: 6.200532628924066\n"
     ]
    },
    {
     "name": "stdout",
     "output_type": "stream",
     "text": [
      "--------------------------------------------------------------------------------\n",
      "Iteration 37\n",
      "model min and max: 79.5237793072576 242.64149416825597\n"
     ]
    },
    {
     "name": "stdout",
     "output_type": "stream",
     "text": [
      "data misfit: 44.74392546110231\n",
      "regularisation: 6.386326234386911\n"
     ]
    },
    {
     "name": "stdout",
     "output_type": "stream",
     "text": [
      "--------------------------------------------------------------------------------\n",
      "Iteration 38\n",
      "model min and max: 77.50935796095577 242.05296865093268\n"
     ]
    },
    {
     "name": "stdout",
     "output_type": "stream",
     "text": [
      "data misfit: 43.322415412843036\n",
      "regularisation: 6.571866007609442\n"
     ]
    },
    {
     "name": "stdout",
     "output_type": "stream",
     "text": [
      "--------------------------------------------------------------------------------\n",
      "Iteration 39\n",
      "model min and max: 75.60355803699746 244.68047460344508\n",
      "data misfit: 41.91465487565553\n",
      "regularisation: 6.752849915532312\n"
     ]
    },
    {
     "name": "stdout",
     "output_type": "stream",
     "text": [
      "--------------------------------------------------------------------------------\n",
      "Iteration 40\n",
      "model min and max: 73.6956827835632 243.95610152532473\n"
     ]
    },
    {
     "name": "stdout",
     "output_type": "stream",
     "text": [
      "data misfit: 40.55630029069163\n",
      "regularisation: 6.9332856780504315\n"
     ]
    },
    {
     "name": "stdout",
     "output_type": "stream",
     "text": [
      "--------------------------------------------------------------------------------\n",
      "Iteration 41\n",
      "model min and max: 71.90073790771798 246.733593858826\n"
     ]
    },
    {
     "name": "stdout",
     "output_type": "stream",
     "text": [
      "data misfit: 39.21539637153486\n",
      "regularisation: 7.109114981604068\n"
     ]
    },
    {
     "name": "stdout",
     "output_type": "stream",
     "text": [
      "--------------------------------------------------------------------------------\n",
      "Iteration 42\n",
      "model min and max: 70.09560574249407 245.86167335817257\n",
      "data misfit: 37.92063354966726\n",
      "regularisation: 7.28414758638011\n"
     ]
    },
    {
     "name": "stdout",
     "output_type": "stream",
     "text": [
      "--------------------------------------------------------------------------------\n",
      "Iteration 43\n",
      "model min and max: 68.40771435247775 248.79794112900626\n",
      "data misfit: 36.647198140119364\n",
      "regularisation: 7.454541066761025\n"
     ]
    },
    {
     "name": "stdout",
     "output_type": "stream",
     "text": [
      "--------------------------------------------------------------------------------\n",
      "Iteration 44\n",
      "model min and max: 66.70155352035056 247.76628445374035\n",
      "data misfit: 35.41615661720793\n",
      "regularisation: 7.623930522611098\n"
     ]
    },
    {
     "name": "stdout",
     "output_type": "stream",
     "text": [
      "--------------------------------------------------------------------------------\n",
      "Iteration 45\n",
      "model min and max: 65.11697163294868 250.8706205463993\n"
     ]
    },
    {
     "name": "stdout",
     "output_type": "stream",
     "text": [
      "data misfit: 34.21049222312582\n",
      "regularisation: 7.7886649810124124\n"
     ]
    },
    {
     "name": "stdout",
     "output_type": "stream",
     "text": [
      "--------------------------------------------------------------------------------\n",
      "Iteration 46\n",
      "model min and max: 63.5060335614209 249.6665151940516\n",
      "data misfit: 33.04299310792935\n",
      "regularisation: 7.9522254763297795\n"
     ]
    },
    {
     "name": "stdout",
     "output_type": "stream",
     "text": [
      "--------------------------------------------------------------------------------\n",
      "Iteration 47\n",
      "model min and max: 62.021061080889424 252.94877462650493\n"
     ]
    },
    {
     "name": "stdout",
     "output_type": "stream",
     "text": [
      "data misfit: 31.905089364237014\n",
      "regularisation: 8.111130566397732\n"
     ]
    },
    {
     "name": "stdout",
     "output_type": "stream",
     "text": [
      "--------------------------------------------------------------------------------\n",
      "Iteration 48\n",
      "model min and max: 60.50161263798664 251.55893325987057\n",
      "data misfit: 30.80065058169623\n",
      "regularisation: 8.268725890929284\n"
     ]
    },
    {
     "name": "stdout",
     "output_type": "stream",
     "text": [
      "--------------------------------------------------------------------------------\n",
      "Iteration 49\n",
      "model min and max: 59.11258634204331 255.02960805053286\n",
      "data misfit: 29.73018355887234\n",
      "regularisation: 8.421679595937084\n"
     ]
    },
    {
     "name": "stdout",
     "output_type": "stream",
     "text": [
      "--------------------------------------------------------------------------------\n",
      "Iteration 50\n",
      "model min and max: 57.68090347438274 253.4401243909579\n"
     ]
    },
    {
     "name": "stdout",
     "output_type": "stream",
     "text": [
      "data misfit: 28.68802472169119\n",
      "regularisation: 8.573219002251633\n"
     ]
    }
   ],
   "source": [
    "# hyperparameters\n",
    "niter = 50\n",
    "inv_verbose = True\n",
    "step = 2\n",
    "\n",
    "# CoFI - define InversionOptions\n",
    "inv_options_gauss_newton = InversionOptions()\n",
    "inv_options_gauss_newton.set_tool(GaussNewton)\n",
    "inv_options_gauss_newton.set_params(niter=niter, verbose=inv_verbose, step=step)\n",
    "\n",
    "# CoFI - define Inversion, run it\n",
    "inv = Inversion(ert_problem, inv_options_gauss_newton)\n",
    "inv_result = inv.run()"
   ]
  },
  {
   "cell_type": "code",
   "execution_count": 19,
   "id": "a0146425",
   "metadata": {
    "execution": {
     "iopub.execute_input": "2022-07-14T02:46:11.738273Z",
     "iopub.status.busy": "2022-07-14T02:46:11.737779Z",
     "iopub.status.idle": "2022-07-14T02:46:11.910255Z",
     "shell.execute_reply": "2022-07-14T02:46:11.909864Z"
    },
    "papermill": {
     "duration": 0.215901,
     "end_time": "2022-07-14T02:46:11.911601",
     "exception": false,
     "start_time": "2022-07-14T02:46:11.695700",
     "status": "completed"
    },
    "tags": []
   },
   "outputs": [
    {
     "name": "stdout",
     "output_type": "stream",
     "text": [
      "============================\n",
      "Summary for inversion result\n",
      "============================\n",
      "SUCCESS\n",
      "----------------------------\n",
      "model: [198.53357836 199.81009459 200.7862735  202.80280196 197.68145749\n",
      " 202.55912501 206.09441795 199.90015234 199.65776634 214.54118261\n",
      " 201.77607292 201.35319417 200.02202479 204.16423251 198.45128533\n",
      " 201.53884287 200.62069207 198.85989573 202.12167269 200.09352635\n",
      " 200.70882484 198.19649973 201.96234297 201.11455992 203.09292037\n",
      " 199.0250386  199.10590976 197.78923882 198.53202737 197.2762488\n",
      " 200.13270341 203.92796993 200.4110229  203.13011761 198.34925869\n",
      " 195.99387088 199.17598243 200.08558324 200.31291695 198.67206107\n",
      " 201.72957767 199.71745368 198.87262824 199.4289063  195.09465594\n",
      " 199.39989182 200.1041334  200.95596937 198.50420367 197.13954493\n",
      " 198.66139146 199.91786902 197.85430623 200.12145805 202.11623842\n",
      " 198.58050288 197.960785   178.98505003 198.07940491 193.49151724\n",
      " 203.96793346 197.65633602 198.88215861 199.93297782 200.3045929\n",
      " 201.60112176 196.11421662 195.13294115 198.8317631  191.317315\n",
      " 195.87435848 200.76134754 197.03454658 204.43874041 201.9180571\n",
      " 199.08075167 201.0932469  192.84255737 201.56816045 198.10065334\n",
      " 203.62637898 199.24989891 198.37356507 201.91982183 200.47679375\n",
      " 197.0239294  203.18896473 197.92667694 198.51237121 198.14386177\n",
      " 199.89774773 202.49044822 195.93743314 201.03531738 199.09119348\n",
      " 198.57230921 198.8649822  203.36676416 198.0389793  197.08092773\n",
      " 198.19227115 190.84931915 198.48161258 198.9444564  198.64091739\n",
      " 198.09297504 197.9696477  203.56796872 199.34985525 198.54100323\n",
      " 196.07636564 197.41602491 201.89996174 201.68118423 196.39593004\n",
      " 199.49517463 200.54725064 199.02751453 196.96009443 199.64276731\n",
      " 200.7176557  201.59364908 200.69430505 201.04313797 201.20384207\n",
      " 197.7673803  195.65342733 202.109277   201.38255271 197.93337352\n",
      " 203.73155082 200.99134736 199.11836467 202.73556988 200.1292933\n",
      " 202.32536503 200.0037058  198.03344511 199.28608799 198.84155879\n",
      " 200.43019734 199.83886646 202.82941735 201.98844493 202.54912276\n",
      " 194.1769853  201.04297527 198.60339774 201.51274049 200.21843616\n",
      " 199.95750527 200.68520549 200.57583682 200.67098917 200.34353195\n",
      " 201.54484092 202.14593924 198.29713843 189.29056134 199.39314599\n",
      " 197.16637248 188.52459921 198.46211279 198.43987854 206.86114934\n",
      " 193.96012151 201.06562955 198.12691531 197.9372214  200.07470042\n",
      " 197.55285959 197.28730853 199.71018365 198.56503273 197.83844979\n",
      " 196.37128409 193.92580348 198.59777852 200.6399251  201.30575295\n",
      " 197.84120961 201.14338724 200.07462    198.7922177  204.96199333\n",
      " 199.10669342 197.0868767  199.24994332 200.73668935 200.28185605\n",
      " 199.38515938 198.30598164 201.26025212 209.778733   198.41065663\n",
      " 207.61363312 197.88939919 206.43675653 201.00859995 200.15959924\n",
      " 199.22491918 197.57209268 200.59613588 199.04024354 202.89317775\n",
      " 199.36340659 199.16794128 199.49629647 198.42213486 200.39659499\n",
      " 198.18169808 200.39128237 205.39554893 201.92843263 191.20627713\n",
      " 202.2363879  199.08597216 198.93684186 197.76824825 197.1224047\n",
      " 196.33344364 201.20521889 200.096989   203.21608763 203.71662091\n",
      " 202.08560497 200.56526004 204.99805128 203.73110901 198.10232777\n",
      " 202.47506858 197.31320751 198.9695436  203.38786968 203.12731264\n",
      " 204.81459031 199.62406839 198.74699595 197.03439849 199.15324263\n",
      " 198.91185393 197.87574948 199.36452559 197.35894138 197.70692958\n",
      " 198.89069079 198.25118795 198.40900103 200.16992563 199.77691149\n",
      " 198.33215626 203.100408   202.73375459 200.66749012 199.91018358\n",
      " 198.64925657 199.91813586 200.07397957 198.21323556 200.93121954\n",
      " 200.24228175 201.27424814 200.20865797 198.15602009 199.90294417\n",
      " 197.60212613 198.93341505 199.56271881 201.28013202 199.55422231\n",
      " 197.83842687 198.66059318 197.08790096 199.31558217 201.62721527\n",
      " 198.14266646 200.23328596 199.2454145  200.3601601  199.04098432\n",
      " 211.50932412 202.59591152 200.43443877 194.99738494 199.06986754\n",
      " 200.03293956 200.07232114 198.59946187 199.90646667 201.4283164\n",
      " 199.4388543  195.5229271  196.39501876 200.48256185 199.60902174\n",
      " 201.08926785 198.90916001 199.47816473 199.8126428  196.60823635\n",
      " 199.55050932 198.9198981  206.82697325 204.09535472 203.64446996\n",
      " 202.54607468 204.13745567 204.62039942 204.26753569 199.37290044\n",
      " 204.75935474 195.33991058 207.77868636 198.73132827 198.94064952\n",
      " 206.87656028 203.51207618 200.28539219 198.15177134 201.18671738\n",
      " 196.59367071 201.22040037 201.03735248 171.61633485 197.89317693\n",
      " 198.26131696 199.61415125 201.41773247 199.86142387 200.20953868\n",
      " 201.09831342 201.38538371 201.48561995 198.62744693 199.82507653\n",
      " 101.70992201 199.19136027 199.55643461 199.44899355 199.55890291\n",
      " 200.99045859 203.96255155 204.62816559 198.04876377 195.06907168\n",
      " 199.70868602 202.07304495 201.01543381 198.47880293 198.07522566\n",
      " 199.56521847 200.02659326 200.59220621 192.32500497 194.33286143\n",
      " 205.12063666 194.86411729 193.81324837 192.0864537  202.10607525\n",
      " 199.64622857 203.42009138 202.31501032 196.91427806 202.90874146\n",
      " 200.28312514 197.53171444 200.2203976  217.05703833 197.36847162\n",
      " 198.00163779 199.61359901 200.53176925 197.97566924 201.22457536\n",
      " 198.94277828 199.45594321 201.11368207 200.77982809 213.81427745\n",
      " 206.15454033 197.71283457 207.6103091  199.83713224 217.06693537\n",
      " 207.88549445 204.63931365 194.70099545 197.51769093 204.42382126\n",
      " 195.65895042 198.04629321  67.91760231 205.41283576 203.55422858\n",
      " 203.68341904 206.25943916 211.28676349 203.07704946 174.02709532\n",
      " 202.54024101 203.60623011 202.24604587 199.63304792 163.42891843\n",
      " 200.42625149 205.24445571 188.63507554 199.27582996 201.84393496\n",
      " 199.78752794 198.85902459 198.32255082 201.58113578 200.17595903\n",
      " 199.2579443  198.32761853 199.39974268 197.98239509 198.19962401\n",
      " 199.70811488 201.19635383 198.77862087 201.32992639 198.29743961\n",
      " 198.61959631 197.94555542 195.55734358 204.22979825 197.66120876\n",
      " 198.78160273 200.41628536 201.94752178 200.27976517 198.64924208\n",
      " 204.3595034  198.85286536 199.93125273 195.73882356 193.26568548\n",
      " 206.51900333 198.27401001 203.29368213 204.80396392 194.47390128\n",
      " 197.59503432 196.16321648 199.48502596 199.69263605 195.7208979\n",
      " 204.08995002 198.99618467 209.36182579 200.04161338 198.648864\n",
      " 200.06623204 197.01341775 199.01774257 199.0899861  196.85038746\n",
      " 201.13073207 201.9770162  209.13937762 214.69452669 200.97801226\n",
      " 203.4824093  200.94009108 199.79699947 198.07068704 199.67104953\n",
      " 205.11987757 197.58509872 197.20061494 197.15353496 199.17340638\n",
      " 199.08358894 197.61026783 199.21528907 199.22549336 198.65316153\n",
      " 198.43612213 200.34614399 206.38641855 216.54055861 204.76810502\n",
      " 199.44742414 202.10993545 204.49710262 224.06801609 208.52428521\n",
      " 203.89363698 190.8811091  199.21464283 202.15455252 198.91869163\n",
      " 201.4002033  200.08649024 199.8005923  198.46897703 198.49649543\n",
      " 206.91410644 198.0209363  197.80720918 197.45214961 200.70312372\n",
      " 201.88304626 199.40746262 205.13450889 194.96057178 203.4701616\n",
      " 252.96409914 213.01773536 203.33149631 213.51791634 197.93674567\n",
      " 202.24059647 197.26803033 190.63806263 235.18638146 206.19653087\n",
      " 241.83010453 208.31039715 229.00151699 203.86801958 215.8926256\n",
      " 224.53586191 208.42445498 236.60771279 250.4677465  241.82004096\n",
      " 218.11921657 231.63715732 243.07807574 242.40051259 219.45337935\n",
      " 222.84514222 257.11042008 233.71848702 243.90256416 231.80692458\n",
      " 225.12115539 248.52192232 254.73929485 249.54187216 252.32023341\n",
      " 256.19414991 156.12348024 202.01677002 197.18691005 197.15293779\n",
      " 198.29183297 189.33753825 181.83380572 199.72029632 199.56141935\n",
      " 196.56908342 202.48665681 200.25824509 212.71252841 208.55442616\n",
      " 217.42175509 213.61259719 204.68357162 213.69639322 219.37433203\n",
      " 172.90724566 200.67308195 195.93699287 195.01265347 201.91100258\n",
      " 200.16349642 201.07664141 193.30169007 197.1927183  197.01276663\n",
      " 194.86733236 198.77396556 198.41194986 193.78059161 195.71804257\n",
      " 205.04643674 194.95391926 156.28900964 160.91086729 204.27508526\n",
      " 207.47452138 221.12608449 215.47125346 198.09555564 201.39898575\n",
      " 193.75889508 126.2467549  198.37545654 191.4841582  197.044999\n",
      " 190.5930275  194.48301863 194.55141636 207.52399668 188.83569202\n",
      " 193.92116391 199.0898523  218.84382672 206.90316986 220.97778161\n",
      " 224.78585163 125.62125471 170.54072199 196.55519409 188.01574408\n",
      " 195.72902616 192.80707956 191.90856807 189.11716125 246.97660121\n",
      " 198.32391014 197.652948   198.86043358 130.18454005 171.55252897\n",
      " 122.978855   216.70685558 124.75147032 124.28330805 201.25554845\n",
      " 190.05572773 199.02937215 201.4476211  202.70168654 198.45682672\n",
      " 202.72579612 198.97144798 209.81342552 212.76129641 200.06603012\n",
      " 195.23486127 183.90996871 100.80658265 155.88286751  98.55226358\n",
      " 204.28744501 201.82238677 200.08693237 194.92386051 198.96127265\n",
      " 198.20617737  70.40772711 189.90321463 196.77278574 198.55290675\n",
      " 197.72699829 198.45716981 195.52572334 199.95917283 191.78780686\n",
      " 192.28984721 204.28040676 198.54315517 200.57863189 201.83401249\n",
      " 203.24281416 198.78444531 198.73807518 199.19955084 194.42652759\n",
      " 202.21110209 191.92298452 200.03620715 199.45078498 198.86184912\n",
      " 203.85441656 199.66700622 196.84349008 207.10506817 201.06825444\n",
      " 199.31683151  68.78634552 201.71798398 201.70799646 195.80405324\n",
      " 203.31002295 118.75347097 202.42072604 201.42158461 201.7018106\n",
      " 197.05044064 197.80290977 202.18047112 194.82905315 194.59326728\n",
      " 199.05555854 199.85893565 205.46909167 185.79281033 200.2494367\n",
      " 197.95937411 127.57241598 200.67602784 200.94744557 201.59720432\n",
      " 190.88469665 201.38072527 198.88438037 188.87534838 205.54530102\n",
      " 219.2304455  200.04864404 207.65826069 212.33502439 208.8940346\n",
      "  56.38419065 128.62815648 205.98406627 197.90476729 203.50105689\n",
      " 188.81187129 184.6993537  116.57697929 201.35590854 198.65257025\n",
      " 192.63960821 204.87649113 203.01078838 198.39445741 164.28613922\n",
      " 161.72272703  59.13832425 202.74922193 195.22212592 195.69203718\n",
      " 103.97685814 157.40749074  79.03157456  89.60010717  92.09195764\n",
      "  98.5798223   75.72595606 188.39380289 166.8058604  169.94057063\n",
      " 189.33330873 200.20902994 202.44261284 209.72816171 188.5168639\n",
      " 199.95618962 203.14607102 202.94525168 197.24324028 202.88641243\n",
      " 200.81788976 198.98560922  64.0469431  128.06878572 199.61608554\n",
      " 201.78716021 201.85116092 193.42712537 192.97893598 196.05991704\n",
      " 193.69152631 190.68662125 202.60961313 187.22694711 186.68414377\n",
      " 204.49538263 189.99167315 185.13273792 195.59685226 189.67481378\n",
      " 200.2240537  189.65416815 195.67508492 185.78407724 198.17389761\n",
      " 192.88144122 188.76971054 201.82304415 167.75334954 224.18222933\n",
      " 185.57667184 104.14958309 201.06777211 193.27726085 196.59788088\n",
      " 198.97025371 125.44979071 153.41513586 198.02773358 188.21248647\n",
      " 200.97882454 183.63313883 200.21423863 166.07316403 199.67403936\n",
      " 203.67304345 200.13854665 201.34682413 197.66529392 211.52307745\n",
      " 187.0313505  224.08840787 207.51380442 205.61196356 179.41556917\n",
      " 205.3504642  191.99734717 198.37910004 126.47874662 184.73131005\n",
      " 211.95804415 193.58407111 215.64810522 201.84221643 197.346359\n",
      " 191.59654239 222.66527857 221.40184069 197.31810656 193.41639078\n",
      " 195.41102892 203.71654856 198.33103436 208.45926653 213.87242322\n",
      " 215.77517166 210.1744748  225.0786383  219.86540573 216.16284439\n",
      " 203.61152136]\n"
     ]
    },
    {
     "data": {
      "text/plain": [
       "Text(0.5, 1.0, 'Inferred model')"
      ]
     },
     "execution_count": 19,
     "metadata": {},
     "output_type": "execute_result"
    },
    {
     "data": {
      "image/png": "[encoded data removed]",
      "text/plain": [
       "<Figure size 432x288 with 2 Axes>"
      ]
     },
     "metadata": {
      "needs_background": "light"
     },
     "output_type": "display_data"
    }
   ],
   "source": [
    "# plot inferred model\n",
    "inv_result.summary()\n",
    "ax = pygimli.show(ert_manager.paraDomain, data=inv_result.model, label=r\"$\\Omega m$\")\n",
    "ax[0].set_title(\"Inferred model\")"
   ]
  },
  {
   "cell_type": "code",
   "execution_count": 20,
   "id": "ea8dfa12",
   "metadata": {
    "execution": {
     "iopub.execute_input": "2022-07-14T02:46:11.936745Z",
     "iopub.status.busy": "2022-07-14T02:46:11.936499Z",
     "iopub.status.idle": "2022-07-14T02:46:12.652153Z",
     "shell.execute_reply": "2022-07-14T02:46:12.651560Z"
    },
    "papermill": {
     "duration": 0.730145,
     "end_time": "2022-07-14T02:46:12.654294",
     "exception": false,
     "start_time": "2022-07-14T02:46:11.924149",
     "status": "completed"
    },
    "tags": []
   },
   "outputs": [
    {
     "data": {
      "text/plain": [
       "Text(0.5, 1.0, 'Synthetic data from inferred model')"
      ]
     },
     "execution_count": 20,
     "metadata": {},
     "output_type": "execute_result"
    },
    {
     "data": {
      "image/png": "[encoded data removed]",
      "text/plain": [
       "<Figure size 432x288 with 2 Axes>"
      ]
     },
     "metadata": {
      "needs_background": "light"
     },
     "output_type": "display_data"
    }
   ],
   "source": [
    "# plot synthetic data\n",
    "d = forward_oprt.response(inv_result.model)\n",
    "ax = ert.showERTData(scheme, vals=d)\n",
    "ax[0].set_title(\"Synthetic data from inferred model\")"
   ]
  },
  {
   "cell_type": "markdown",
   "id": "bed86dd3",
   "metadata": {
    "papermill": {
     "duration": 0.028309,
     "end_time": "2022-07-14T02:46:12.706887",
     "exception": false,
     "start_time": "2022-07-14T02:46:12.678578",
     "status": "completed"
    },
    "tags": []
   },
   "source": [
    "<!-- ### 2.3 Bayesian sampling with emcee (exploration)\n",
    "\n",
    "CoFI needs more assumptions about the problem for a sampler to work - these are\n",
    "the log of posterior distribution density and walkers' starting positions.\n",
    "\n",
    "For the log posterior, we define here by specifying `log_prior` and `log_likelihood`.\n",
    "And CoFI will combine them to get the `log_posterior`. -->"
   ]
  },
  {
   "cell_type": "markdown",
   "id": "e80b172a",
   "metadata": {
    "papermill": {
     "duration": 0.02312,
     "end_time": "2022-07-14T02:46:12.752993",
     "exception": false,
     "start_time": "2022-07-14T02:46:12.729873",
     "status": "completed"
    },
    "tags": []
   },
   "source": [
    "---\n",
    "## Watermark"
   ]
  },
  {
   "cell_type": "code",
   "execution_count": 21,
   "id": "6bb00eeb",
   "metadata": {
    "execution": {
     "iopub.execute_input": "2022-07-14T02:46:12.820986Z",
     "iopub.status.busy": "2022-07-14T02:46:12.820655Z",
     "iopub.status.idle": "2022-07-14T02:46:12.828925Z",
     "shell.execute_reply": "2022-07-14T02:46:12.828220Z"
    },
    "papermill": {
     "duration": 0.054835,
     "end_time": "2022-07-14T02:46:12.831022",
     "exception": false,
     "start_time": "2022-07-14T02:46:12.776187",
     "status": "completed"
    },
    "tags": []
   },
   "outputs": [
    {
     "name": "stdout",
     "output_type": "stream",
     "text": [
      "cofi 0.1.2.dev8\n",
      "numpy 1.21.6\n",
      "scipy 1.8.1\n",
      "pygimli 1.2.6\n",
      "matplotlib 3.5.2\n",
      "emcee 3.1.2\n",
      "arviz 0.12.1\n"
     ]
    }
   ],
   "source": [
    "watermark_list = [\"cofi\", \"numpy\", \"scipy\", \"pygimli\", \"matplotlib\", \"emcee\", \"arviz\"]\n",
    "for pkg in watermark_list:\n",
    "    pkg_var = __import__(pkg)\n",
    "    print(pkg, getattr(pkg_var, \"__version__\"))"
   ]
  }
 ],
 "metadata": {
  "kernelspec": {
   "display_name": "Python 3.10.5 ('cofi_env')",
   "language": "python",
   "name": "python3"
  },
  "language_info": {
   "codemirror_mode": {
    "name": "ipython",
    "version": 3
   },
   "file_extension": ".py",
   "mimetype": "text/x-python",
   "name": "python",
   "nbconvert_exporter": "python",
   "pygments_lexer": "ipython3",
   "version": "3.10.5"
  },
  "papermill": {
   "default_parameters": {},
   "duration": 1256.133714,
   "end_time": "2022-07-14T02:46:13.508342",
   "environment_variables": {},
   "exception": null,
   "input_path": "notebooks/pygimli_ert/pygimli_ert.ipynb",
   "output_path": "notebooks/pygimli_ert/pygimli_ert.ipynb",
   "parameters": {},
   "start_time": "2022-07-14T02:25:17.374628",
   "version": "2.3.4"
  },
  "vscode": {
   "interpreter": {
    "hash": "f53af8d4cb0cee79f8d6d6212f461365278bf68c0ce0b4237b6e88ef77d505ea"
   }
  }
 },
 "nbformat": 4,
 "nbformat_minor": 5
}