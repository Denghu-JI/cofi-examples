{
 "cells": [
  {
   "cell_type": "markdown",
   "id": "1a72cc1f-410a-403c-b00e-8d66130413ff",
   "metadata": {},
   "source": [
    "# Gravity Density Model - Interactive Lab"
   ]
  },
  {
   "cell_type": "markdown",
   "id": "d43bcc24-fb3a-44d9-a028-ebc5dd4ee766",
   "metadata": {},
   "source": [
    "<!--<badge>--><a href=\"https://colab.research.google.com/github/inlab-geo/cofi-examples/blob/main/notebooks/gravity/gravity_density_lab.ipynb\" target=\"_parent\"><img src=\"https://colab.research.google.com/assets/colab-badge.svg\" alt=\"Open In Colab\"/></a><!--</badge>-->"
   ]
  },
  {
   "cell_type": "markdown",
   "id": "713700c9-4c1d-49a0-b371-9103e73792a7",
   "metadata": {},
   "source": [
    "> If you are running this notebook locally, make sure you've followed [steps here](https://github.com/inlab-geo/cofi-examples#run-the-examples-with-cofi-locally)\n",
    "to set up the environment. (This [environment.yml](https://github.com/inlab-geo/cofi-examples/blob/main/environment.yml) file\n",
    "specifies a list of packages required to run the notebooks)"
   ]
  },
  {
   "cell_type": "markdown",
   "id": "a4ee200b-ebe4-4968-b502-f38cbe7c5a2e",
   "metadata": {},
   "source": [
    "Adapted from [gravity forward code](https://github.com/inlab-geo/inversion-test-problems/blob/main/contrib/gravityforward/__init__.py) written in inversion-test-problems"
   ]
  },
  {
   "cell_type": "markdown",
   "id": "7a66a3e8",
   "metadata": {},
   "source": [
    "---"
   ]
  },
  {
   "cell_type": "code",
   "execution_count": 1,
   "id": "367d9e49-29be-4c8a-86b2-77016a1c87e1",
   "metadata": {},
   "outputs": [],
   "source": [
    "# -------------------------------------------------------- #\n",
    "#                                                          #\n",
    "#     Uncomment below to set up environment on \"colab\"     #\n",
    "#                                                          #\n",
    "# -------------------------------------------------------- #\n",
    "\n",
    "# !pip install -U cofi"
   ]
  },
  {
   "cell_type": "code",
   "execution_count": 2,
   "id": "137d8a9c-c0e3-4fb1-b522-9c8da05bff89",
   "metadata": {},
   "outputs": [],
   "source": [
    "%%capture\n",
    "%run ./gravity_density.ipynb"
   ]
  },
  {
   "cell_type": "code",
   "execution_count": 3,
   "id": "c90b98c8-945f-405d-b469-acf2bd2e86c7",
   "metadata": {},
   "outputs": [],
   "source": [
    "# ---------------------------------------------------------------- #\n",
    "#                                                                  #\n",
    "#     Auxiliary code for widgets displaying, no need to modify     #\n",
    "#                                                                  #\n",
    "# ---------------------------------------------------------------- #\n",
    "\n",
    "import json\n",
    "from contextlib import contextmanager\n",
    "from cofi.solvers import solvers_table\n",
    "\n",
    "# clear optional parameters\n",
    "grav_problem.set_initial_model(None)\n",
    "grav_problem.set_regularisation(reg_l1)\n",
    "def depth_weight(z,z0,beta):\n",
    "    return ((-z+z0)**(-beta/2))\n",
    "beta=2\n",
    "\n",
    "def adjust_problem(initial_model, z0, regularisation_factor):\n",
    "    grav_problem.set_initial_model(initial_model)\n",
    "    W=depth_weight(z_nodes[:,0],z0,beta)\n",
    "    print(\"Weighting matrix\", W)\n",
    "    W=np.diag(W)\n",
    "    reg_l1 = lambda model: np.linalg.norm(W @ model, 1)\n",
    "    grav_problem.set_regularisation(reg_l1, regularisation_factor)\n",
    "    grav_problem.set_gradient(lambda m: data_misfit_gradient(m) + regularisation_factor*reg_gradient_l1(m))\n",
    "    return grav_problem\n",
    "\n",
    "def adjust_options(solving_method, tool, solver_params):\n",
    "    inv_options = InversionOptions()\n",
    "    inv_options.set_solving_method(solving_method)\n",
    "    inv_options.set_tool(tool)\n",
    "    inv_options.set_params(**solver_params)\n",
    "    return inv_options\n",
    "\n",
    "def plot_from_result(inv_result):\n",
    "    result_model = inv_result.model.reshape(12,12,12)\n",
    "    plt.imshow(result_model[::-1,5,:])\n",
    "    plt.colorbar()\n",
    "\n",
    "tmp_model = np.array(Starting_model1)\n",
    "tmp_model[tmp_model>0] = 10\n",
    "initial_models_table = {\n",
    "    \"Starting_model1\": Starting_model1,\n",
    "    \"Starting_model2\": Starting_model2,\n",
    "    \"Starting_model1(1000->10)\": tmp_model,\n",
    "    \"all zeros\": np.zeros((12**3)),\n",
    "    \"all ones\": np.ones((12**3)),\n",
    "}\n",
    "\n",
    "def inversion(initial_model_id, z0, reg_factor, method, tool, solver_params):\n",
    "    initial_model = initial_models_table[initial_model_id]\n",
    "    grav_problem = adjust_problem(initial_model, z0, reg_factor)\n",
    "    inv_options = adjust_options(method, tool, solver_params)\n",
    "    inv_runner = Inversion(grav_problem, inv_options)\n",
    "    result = inv_runner.run()\n",
    "    # plot_from_result(result)\n",
    "    return result\n",
    "\n",
    "# inversion(\"Starting_model1\", 1, \"optimisation\", \"scipy.optimize.least_squares\")"
   ]
  },
  {
   "cell_type": "code",
   "execution_count": 4,
   "id": "8b7167ba-8b1a-4a3f-b096-f6fa56e6424c",
   "metadata": {},
   "outputs": [
    {
     "data": {
      "application/vnd.jupyter.widget-view+json": {
       "model_id": "ba0a5237e9594b4e82d92705cd337538",
       "version_major": 2,
       "version_minor": 0
      },
      "text/plain": [
       "VBox(children=(ToggleButtons(description='method', options=('optimisation', 'linear least square', 'sampling')…"
      ]
     },
     "metadata": {},
     "output_type": "display_data"
    }
   ],
   "source": [
    "# -------------------------------------------------------------------------------------- #\n",
    "#                                                                                        #\n",
    "# Auxiliary code for widgets displaying, no need to modify                               #\n",
    "#                                                                                        #\n",
    "# Run this cell and start interacting :)                                                 #\n",
    "#                                                                                        #\n",
    "# If you have trouble displaying the interactive widgets locally, check advice here:     #\n",
    "# https://stackoverflow.com/questions/36351109/ipython-notebook-ipywidgets-does-not-show #\n",
    "#                                                                                        #\n",
    "# -------------------------------------------------------------------------------------- #\n",
    "\n",
    "from ipywidgets import interactive\n",
    "import ipywidgets as widgets\n",
    "\n",
    "method_widget = widgets.ToggleButtons(options=solvers_table.keys(), description=\"method\")\n",
    "tool_widget = widgets.RadioButtons(options=solvers_table[\"optimisation\"].keys(), description=\"tool\")\n",
    "initial_model_widget = widgets.RadioButtons(options=initial_models_table.keys(), value=\"all ones\", description=\"intial_model\")\n",
    "z0_widget = widgets.FloatSlider(min=0, max=17, value=3, description=\"z0\")\n",
    "reg_factor_widget = widgets.FloatLogSlider(base=10,value=0.0001,min=-15,max=1,step=0.2, description=\"reg_factor\")\n",
    "solver_specific_params_widget = widgets.VBox(children=[])\n",
    "run_widget = widgets.Button(description=\"Run Inversion\")\n",
    "\n",
    "def update_params_widgets(tool_solver):\n",
    "    params_children = []\n",
    "    required_in_options = tool_solver.required_in_options\n",
    "    for param in required_in_options:\n",
    "        params_children.append(widgets.Text(value=\"\", placeholder=\"required\", description=param))\n",
    "    optional_in_options = tool_solver.optional_in_options\n",
    "    for param, dft in optional_in_options.items():\n",
    "        params_children.append(widgets.Text(value=str(dft), placeholder=\"optional\", description=param))\n",
    "    solver_specific_params_widget.children = params_children\n",
    "\n",
    "def method_updated(*args):\n",
    "    tool_widget.options = solvers_table[method_widget.value].keys()\n",
    "method_widget.observe(method_updated, 'value')\n",
    "\n",
    "def tool_updated(*args):\n",
    "    tool = tool_widget.value\n",
    "    tool_solver = solvers_table[method_widget.value][tool]\n",
    "    required_in_problem = tool_solver.required_in_problem\n",
    "    initial_model_widget.layout.visibility = \"visible\" if \"initial_model\" in required_in_problem else \"hidden\"\n",
    "    reg_factor_widget.layout.visibility = \"visible\" if \"objective\" in required_in_problem else \"hidden\"\n",
    "    update_params_widgets(tool_solver)\n",
    "tool_widget.observe(tool_updated, 'value')\n",
    "update_params_widgets(solvers_table[\"optimisation\"][\"scipy.optimize.minimize\"])\n",
    "\n",
    "def button_on_click(*args): \n",
    "    method = method_widget.value\n",
    "    tool = tool_widget.value\n",
    "    initial_model_id = initial_model_widget.value\n",
    "    z0 = z0_widget.value\n",
    "    reg_factor = reg_factor_widget.value\n",
    "    solver_params = {}\n",
    "    for widget in solver_specific_params_widget.children:\n",
    "        val = widget.value\n",
    "        if val == \"None\": val = None\n",
    "        elif val == \"True\" or val == \"true\": val = True\n",
    "        elif val == \"False\" or val == \"False\": val = False\n",
    "        elif \"{\" in val and \"}\" in val: val = json.loads(val)\n",
    "        else:\n",
    "            try:\n",
    "                val = float(val)\n",
    "            except:\n",
    "                pass\n",
    "        solver_params[widget.description] = val\n",
    "    with show_loading():\n",
    "        res = inversion(initial_model_id, z0, reg_factor, method, tool, solver_params)\n",
    "        args[0].result = res\n",
    "        args[0].settings = {\"initial_model\":initial_model_id, \"reg_factor\":reg_factor, \n",
    "                            \"method\":method, \"tool\":tool, \"solver_params\":solver_params}\n",
    "run_widget.on_click(button_on_click)\n",
    "\n",
    "label = widgets.Label('Ready')\n",
    "@contextmanager\n",
    "def show_loading():\n",
    "    label.value = 'Running...'\n",
    "    yield\n",
    "    label.value = 'Ready'\n",
    "\n",
    "w = widgets.VBox(children=[method_widget, tool_widget, initial_model_widget, z0_widget, reg_factor_widget,\n",
    "                          solver_specific_params_widget, run_widget, label])\n",
    "display(w)"
   ]
  },
  {
   "cell_type": "code",
   "execution_count": 5,
   "id": "f04b3ff8",
   "metadata": {},
   "outputs": [],
   "source": [
    "#####################################################################################\n",
    "#                                                                                   #\n",
    "#    Uncomment below after you've selected parameters and run an inversion above    #\n",
    "#                                                                                   #\n",
    "#####################################################################################\n",
    "\n",
    "# inv_res = run_widget.result\n",
    "# plot_from_result(inv_res)\n",
    "# inv_res.summary()"
   ]
  },
  {
   "cell_type": "markdown",
   "id": "8cf50c1b-3464-41fd-bcda-2b55e6a5d874",
   "metadata": {},
   "source": [
    "---\n",
    "\n",
    "## Watermark"
   ]
  },
  {
   "cell_type": "code",
   "execution_count": 6,
   "id": "605f3f9a",
   "metadata": {},
   "outputs": [
    {
     "name": "stdout",
     "output_type": "stream",
     "text": [
      "cofi 0.1.2.dev6\n",
      "numpy 1.22.3\n",
      "scipy 1.8.0\n",
      "matplotlib 3.5.1\n",
      "emcee 3.1.2\n",
      "arviz 0.12.1\n",
      "ipywidgets 7.7.0\n"
     ]
    }
   ],
   "source": [
    "watermark_list = [\"cofi\", \"numpy\", \"scipy\", \"matplotlib\", \"emcee\", \"arviz\", \"ipywidgets\"]\n",
    "for pkg in watermark_list:\n",
    "    pkg_var = __import__(pkg)\n",
    "    print(pkg, getattr(pkg_var, \"__version__\"))"
   ]
  }
 ],
 "metadata": {
  "interpreter": {
   "hash": "82521f8c6d46dbe13b9e99c6a95164e7b000b3cca9173433679abe48ca711ce5"
  },
  "kernelspec": {
   "display_name": "Python 3 (ipykernel)",
   "language": "python",
   "name": "python3"
  },
  "language_info": {
   "codemirror_mode": {
    "name": "ipython",
    "version": 3
   },
   "file_extension": ".py",
   "mimetype": "text/x-python",
   "name": "python",
   "nbconvert_exporter": "python",
   "pygments_lexer": "ipython3",
   "version": "3.10.4"
  }
 },
 "nbformat": 4,
 "nbformat_minor": 5
}
