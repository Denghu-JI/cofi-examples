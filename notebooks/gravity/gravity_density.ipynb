{
 "cells": [
  {
   "cell_type": "markdown",
   "id": "23590778-855b-45f5-9c70-1956019515b3",
   "metadata": {},
   "source": [
    "# Gravity Density Model\n",
    "\n",
    "Adapted from [gravity forward code](https://github.com/inlab-geo/inversion-test-problems/blob/main/GravityForward.ipynb) written in inversion-test-problems"
   ]
  },
  {
   "cell_type": "markdown",
   "id": "6ef1da27-0b49-4a81-a59c-394166a9636d",
   "metadata": {},
   "source": [
    "<!--<badge>--><a href=\"https://colab.research.google.com/github/inlab-geo/cofi-examples/blob/main/notebooks/gravity/gravity_density.ipynb\" target=\"_parent\"><img src=\"https://colab.research.google.com/assets/colab-badge.svg\" alt=\"Open In Colab\"/></a><!--</badge>-->"
   ]
  },
  {
   "cell_type": "markdown",
   "id": "06b8735f-ef39-428f-b13b-d7c9cf8ac458",
   "metadata": {},
   "source": [
    "---\n",
    "## 0. Import modules"
   ]
  },
  {
   "cell_type": "code",
   "execution_count": 1,
   "id": "f646724c-577b-4b13-a796-6c579ff052b3",
   "metadata": {},
   "outputs": [],
   "source": [
    "# -------------------------------------------------------- #\n",
    "#                                                          #\n",
    "#     Uncomment below to set up environment on \"colab\"     #\n",
    "#                                                          #\n",
    "# -------------------------------------------------------- #\n",
    "\n",
    "# !pip install -U cofi"
   ]
  },
  {
   "cell_type": "code",
   "execution_count": 2,
   "id": "fa709811-0441-42a6-b182-6291f28fece1",
   "metadata": {},
   "outputs": [],
   "source": [
    "import numpy as np\n",
    "import matplotlib.pyplot as plt\n",
    "\n",
    "from cofi import BaseProblem, InversionOptions, Inversion\n",
    "\n",
    "np.random.seed(42)"
   ]
  },
  {
   "cell_type": "markdown",
   "id": "c0390d24-42a8-4287-9e4f-90b9ba60fbd5",
   "metadata": {},
   "source": [
    "## 0. Auxillary functions"
   ]
  },
  {
   "cell_type": "code",
   "execution_count": 3,
   "id": "4762fa07-bacd-46a0-912b-9cae53f6fc18",
   "metadata": {},
   "outputs": [],
   "source": [
    "def kernel(ii,jj,kk,dx,dy,dz,dim):\n",
    "    \n",
    "    r = (dx[:, ii] ** 2 + dy[:, jj] ** 2 + dz[:, kk]** 2) ** (0.50)\n",
    "\n",
    "    dz_r = dz[:, kk] + r\n",
    "    dy_r = dy[:, jj] + r\n",
    "    dx_r = dx[:, ii] + r\n",
    "\n",
    "    dxr = dx[:, ii] * r\n",
    "    dyr = dy[:, jj] * r\n",
    "    dzr = dz[:, kk] * r\n",
    "    \n",
    "    dydz = dy[:, jj] * dz[:, kk]\n",
    "    dxdy = dx[:, ii] * dy[:, jj]\n",
    "    dxdz = dx[:, ii] * dz[:, kk]\n",
    "    \n",
    "    if dim==\"gx\":\n",
    "        g = (-1) ** (ii + jj + kk) * (dy[:, jj] * np.log(dz_r) + dz[:, kk]* np.log(dy_r) - dx[:, ii] * np.arctan(dydz / dxr))\n",
    "    elif dim==\"gy\":\n",
    "        g = (-1) ** (ii + jj + kk) * (dx[:, ii] * np.log(dz_r) + dz[:, kk]* np.log(dx_r) - dy[:, jj] * np.arctan(dxdz / dyr))\n",
    "    elif dim==\"gz\":\n",
    "        g = (-1) ** (ii + jj + kk) * (dx[:, ii] * np.log(dy_r) + dy[:, jj] * np.log(dx_r) - dz[:, kk]* np.arctan(dxdy / dzr))\n",
    "    elif dim==\"gxx\":\n",
    "        arg = dy[:, jj] * dz[:, kk] / dxr\n",
    "        # It said g-= ... - maybe neet to switch vorzeichen?\n",
    "        g = ((-1) ** (ii + jj + kk) * (dxdy / (r * dz_r)+ dxdz / (r * dy_r)- np.arctan(arg)+ dx[:, ii]* (1.0 / (1 + arg ** 2.0))* dydz/ dxr ** 2.0* (r + dx[:, ii] ** 2.0 / r)))\n",
    "    elif dim==\"gxy\":\n",
    "        arg = dy[:, jj] * dz[:, kk] / dxr\n",
    "        g = ((-1) ** (ii + jj + kk) * (np.log(dz_r)+ dy[:, jj] ** 2.0 / (r * dz_r)+ dz[:, kk] / r- 1.0/ (1 + arg ** 2.0)* (dz[:, kk] / r ** 2)* (r - dy[:, jj] ** 2.0 / r)))\n",
    "    elif dim==\"gxz\":\n",
    "        arg = dy[:, jj] * dz[:, kk] / dxr\n",
    "        g = ((-1) ** (ii + jj + kk) * (np.log(dy_r)+ dz[:, kk] ** 2.0 / (r * dy_r)+ dy[:, jj] / r- 1.0/ (1 + arg ** 2.0)* (dy[:, jj] / (r ** 2))* (r - dz[:, kk] ** 2.0 / r)))\n",
    "    elif dim==\"gyy\":\n",
    "        arg = dx[:, ii] * dz[:, kk] / dyr\n",
    "        g = ((-1) ** (ii + jj + kk) * (dxdy / (r * dz_r)+ dydz / (r * dx_r)- np.arctan(arg)+ dy[:, jj]* (1.0 / (1 + arg ** 2.0))* dxdz/ dyr ** 2.0* (r + dy[:, jj] ** 2.0 / r)))\n",
    "    elif dim==\"gyz\":\n",
    "        arg = dx[:, ii] * dz[:, kk] / dyr\n",
    "        g = ((-1) ** (ii + jj + kk) * (np.log(dx_r)+ dz[:, kk] ** 2.0 / (r * (dx_r))+ dx[:, ii] / r- 1.0/ (1 + arg ** 2.0)* (dx[:, ii] / (r ** 2))* (r - dz[:, kk] ** 2.0 / r)))\n",
    "    elif dim==\"gzz\":\n",
    "        arg = dy[:, jj] * dz[:, kk] / dxr\n",
    "        gxx = ((-1) ** (ii + jj + kk) * (dxdy / (r * dz_r)+ dxdz / (r * dy_r)- np.arctan(arg)+ dx[:, ii]* (1.0 / (1 + arg ** 2.0))* dydz/ dxr ** 2.0* (r + dx[:, ii] ** 2.0 / r)))\n",
    "        arg = dx[:, ii] * dz[:, kk] / dyr\n",
    "        gyy = ((-1) ** (ii + jj + kk) * (dxdy / (r * dz_r)+ dydz / (r * dx_r)- np.arctan(arg)+ dy[:, jj]* (1.0 / (1 + arg ** 2.0))* dxdz/ dyr ** 2.0* (r + dy[:, jj] ** 2.0 / r)))\n",
    "        g=-gxx-gyy\n",
    "    return g\n",
    "\n",
    "def calculate_gravity(model, x_final, y_final, z_final, recvec, jacobian=False, return_both=False):\n",
    "    if return_both==True:\n",
    "        jacobian=True\n",
    "    from scipy.constants import G as G    \n",
    "    # Tolerance implementation follows SimPEG, discussed in Nagy et al., 2000\n",
    "    tol=1e-4\n",
    "\n",
    "    gx_rec=np.zeros(len(recvec))\n",
    "    gy_rec=np.zeros(len(recvec))\n",
    "    gz_rec=np.zeros(len(recvec))\n",
    "    \n",
    "    if jacobian==True:\n",
    "        Jx_rec=np.zeros([len(recvec),len(x_final)])\n",
    "        Jy_rec=np.zeros([len(recvec),len(x_final)])\n",
    "        Jz_rec=np.zeros([len(recvec),len(x_final)])\n",
    "\n",
    "    \n",
    "    for recno in range(len(recvec)):\n",
    "\n",
    "        dx=x_final-recvec[recno,0]\n",
    "        dy=y_final-recvec[recno,1]\n",
    "        dz=z_final-recvec[recno,2]\n",
    "\n",
    "        min_x=np.min(np.diff(dx))\n",
    "        min_y=np.min(np.diff(dy))\n",
    "        min_z=np.min(np.diff(dz))\n",
    "\n",
    "        dx[np.abs(dx) / min_x < tol] = tol * min_x\n",
    "        dy[np.abs(dy) / min_y < tol] = tol * min_y\n",
    "        dz[np.abs(dz) / min_z < tol] = tol * min_z\n",
    "\n",
    "        Jx=0\n",
    "        Jy=0\n",
    "        Jz=0\n",
    "\n",
    "        for ii in range(2):\n",
    "            for jj in range(2):\n",
    "                for kk in range(2):\n",
    "\n",
    "                    # gx, gy apppear to work, but need confcirmation.\n",
    "                    # gz is tested and works\n",
    "                    Jx+=kernel(ii,jj,kk,dx,dy,dz,\"gx\")\n",
    "                    Jy+=kernel(ii,jj,kk,dx,dy,dz,\"gy\")\n",
    "                    Jz+=kernel(ii,jj,kk,dx,dy,dz,\"gz\")\n",
    "                        \n",
    "        \n",
    "        # Multiply J (Nx1) with the model density (Nx1) element-wise\n",
    "        gx_rec[recno] = 1e5*G*sum(model*Jx)\n",
    "        gy_rec[recno] = 1e5*G*sum(model*Jy)\n",
    "        gz_rec[recno] = 1e5*G*sum(model*Jz)\n",
    "        \n",
    "        if jacobian==True:\n",
    "            Jx_rec[recno,:] = Jx\n",
    "            Jy_rec[recno,:] = Jy\n",
    "            Jz_rec[recno,:] = Jz\n",
    "            \n",
    "    if jacobian==False:    \n",
    "        return gx_rec, gy_rec, gz_rec\n",
    "    elif return_both==True:\n",
    "        return gx_rec, gy_rec, gz_rec, Jx_rec,  Jy_rec,  Jz_rec\n",
    "    else: \n",
    "        return Jx_rec,  Jy_rec,  Jz_rec\n",
    "    \n",
    "def calculate_gradiometry(model, x_final, y_final, z_final, recvec):\n",
    "\n",
    "    # Tolerance implementation follows SimPEG, discussed in Nagy et al., 2000\n",
    "    tol=1e-4\n",
    "\n",
    "    gxx_rec=np.zeros(len(recvec))\n",
    "    gxy_rec=np.zeros(len(recvec))\n",
    "    gxz_rec=np.zeros(len(recvec))\n",
    "    gyy_rec=np.zeros(len(recvec))\n",
    "    gyz_rec=np.zeros(len(recvec))\n",
    "    gzz_rec=np.zeros(len(recvec))\n",
    "\n",
    "    for recno in range(len(recvec)):\n",
    "\n",
    "        dx=x_final-recvec[recno,0]\n",
    "        dy=y_final-recvec[recno,1]\n",
    "        dz=z_final-recvec[recno,2]\n",
    "\n",
    "        min_x=np.min(np.diff(dx))\n",
    "        min_y=np.min(np.diff(dy))\n",
    "        min_z=np.min(np.diff(dz))\n",
    "\n",
    "        dx[np.abs(dx) / min_x < tol] = tol * min_x\n",
    "        dy[np.abs(dy) / min_y < tol] = tol * min_y\n",
    "        dz[np.abs(dz) / min_z < tol] = tol * min_z\n",
    "\n",
    "        Jxx=0\n",
    "        Jxy=0\n",
    "        Jxz=0\n",
    "        Jyy=0\n",
    "        Jyz=0\n",
    "        Jzz=0\n",
    "        \n",
    "        for ii in range(2):\n",
    "            for jj in range(2):\n",
    "                for kk in range(2):\n",
    "                    \n",
    "                    # Gradiometry kernels NOT checked yet. Just look good.\n",
    "                    Jxx+=kernel(ii,jj,kk,dx,dy,dz,\"gxx\")\n",
    "                    Jxy+=kernel(ii,jj,kk,dx,dy,dz,\"gxy\")\n",
    "                    Jxz+=kernel(ii,jj,kk,dx,dy,dz,\"gxz\")\n",
    "                    Jyy+=kernel(ii,jj,kk,dx,dy,dz,\"gyy\")\n",
    "                    Jyz+=kernel(ii,jj,kk,dx,dy,dz,\"gyz\")\n",
    "                    Jzz+=kernel(ii,jj,kk,dx,dy,dz,\"gzz\")\n",
    "\n",
    "                    \n",
    "        # Multiply J (Nx1) with the model density (Nx1) element-wise\n",
    "        gxx_rec[recno] = 1e8*G*sum(model*Jxx)\n",
    "        gxy_rec[recno] = 1e8*G*sum(model*Jxy)\n",
    "        gxz_rec[recno] = 1e8*G*sum(model*Jxz)\n",
    "        gyy_rec[recno] = 1e8*G*sum(model*Jyy)\n",
    "        gyz_rec[recno] = 1e8*G*sum(model*Jyz)\n",
    "        gzz_rec[recno] = 1e8*G*sum(model*Jzz)\n",
    "    \n",
    "    \n",
    "    return gxx_rec, gxy_rec, gxz_rec, gyy_rec, gyz_rec, gzz_rec \n",
    " \n",
    "# class modelclass(object):\n",
    "#     def __init__(self, **kwargs):\n",
    "#         self.__dict__.update(kwargs)\n",
    "\n",
    "# # Don't know how to use this yet:\n",
    "# class gravity(BaseProblem):\n",
    "#     def __init__(self, x_nodes, y_nodes, z_nodes, recvec):\n",
    "#         self.x_nodes=x_nodes\n",
    "#         self.y_nodes=y_nodes\n",
    "#         self.z_nodes=z_nodes\n",
    "#         self.recvec=recvec\n",
    "\n",
    "\n",
    "# -----------------------------------------------------\n",
    "# Utility loading functions\n",
    "\n",
    "def load(file_name):\n",
    "    data_source = np.DataSource()\n",
    "    url_base = \"https://github.com/inlab-geo/cofi-examples/raw/main/notebooks/gravity\"\n",
    "\n",
    "    if data_source.exists(file_name):\n",
    "        tmp = np.load(file_name)\n",
    "    else:\n",
    "        abs_path = data_source.abspath(f\"{url_base}/{file_name}\")\n",
    "        if data_source.exists(abs_path):\n",
    "            tmp = np.load(abs_path)\n",
    "        else:\n",
    "            print(f\"Downloading models {file_name}...\")\n",
    "            data_source.open(f\"{url_base}/{file_name}\")\n",
    "            tmp = np.load(abs_path)\n",
    "    return tmp\n",
    "\n",
    "\n",
    "def load_gravity_model():\n",
    "    # Load density true model\n",
    "    tmp = load(\"gravity_model.npz\")\n",
    "\n",
    "    # Extract density model\n",
    "    model=tmp['model']\n",
    "    x_nodes = tmp['x_nodes']\n",
    "    y_nodes = tmp['y_nodes']\n",
    "    z_nodes=tmp['z_nodes']\n",
    "    rec_coords=tmp['rec_coords']\n",
    "\n",
    "    return rec_coords, x_nodes, y_nodes, z_nodes, model\n",
    "\n",
    "\n",
    "def load_starting_models():\n",
    "    # Load density true model & starting models\n",
    "    tmp = load(\"gravity_starting_models.npz\")\n",
    "\n",
    "    # Process starting models\n",
    "    Starting_model1=tmp['starting_model1']\n",
    "    Starting_model1[Starting_model1 > 0 ]=10\n",
    "    Starting_model2=tmp['starting_model2']\n",
    "    Starting_model3 = np.zeros((12**3))\n",
    "\n",
    "    return Starting_model1, Starting_model2, Starting_model3\n",
    "    \n",
    "\n",
    "# -----------------------------------------------------\n",
    "# New functions, defined just for CoFI\n",
    "# The ones above are from my forward code. \n",
    "# Only difference between these two is \"jacobian=True\", but necessary here to separate them\n",
    "\n",
    "def get_forward_jacobian():\n",
    "    # Load model geometry \n",
    "    rec_coords, x_nodes, y_nodes, z_nodes, _ = load_gravity_model()\n",
    "\n",
    "    def forward(model):\n",
    "        gx, gy, gz = calculate_gravity(model,x_nodes,y_nodes,z_nodes,rec_coords)\n",
    "        return gz\n",
    "\n",
    "    def get_jacobian(model):\n",
    "        Jx, Jy, Jz = calculate_gravity(model,x_nodes,y_nodes,z_nodes,rec_coords, jacobian=True)\n",
    "        return Jz\n",
    "\n",
    "    return forward, get_jacobian\n",
    "\n",
    "forward, get_jacobian = get_forward_jacobian()\n",
    "\n",
    "def depth_weight(z,z0,beta):\n",
    "    return ((-z[::-1]+z0)**(-beta/2))\n",
    "\n",
    "def reg_l1(model):\n",
    "    return np.linalg.norm(W @ model, 1)\n",
    "\n",
    "def reg_l2(model):\n",
    "    return np.linalg.norm(W @ model, 2)\n",
    "\n",
    "def reg_gradient_l1(model):\n",
    "    return W @ np.sign(model)\n",
    "\n",
    "def reg_gradient_l2(model):\n",
    "    return 2 * model.T @ W.T @ W"
   ]
  },
  {
   "cell_type": "markdown",
   "id": "9e559f26-fdbf-4a22-bae7-1534e8f34180",
   "metadata": {},
   "source": [
    "---\n",
    "## 1. Define the problem\n",
    "\n",
    "I took out gx, gy for now to make it more straight forward. We can add all kinds of things once it is working. "
   ]
  },
  {
   "cell_type": "code",
   "execution_count": 4,
   "id": "36f2a425-6b60-49c9-b2b8-81428024db6e",
   "metadata": {},
   "outputs": [
    {
     "name": "stdout",
     "output_type": "stream",
     "text": [
      "=====================================================================\n",
      "Summary for inversion problem: Gravity\n",
      "=====================================================================\n",
      "Model shape: (1728,)\n",
      "---------------------------------------------------------------------\n",
      "List of functions/properties set by you:\n",
      "['gradient', 'jacobian', 'data_misfit', 'regularisation', 'forward', 'data', 'initial_model', 'model_shape']\n",
      "---------------------------------------------------------------------\n",
      "List of functions/properties created based on what you have provided:\n",
      "['objective', 'residual', 'jacobian_times_vector']\n",
      "---------------------------------------------------------------------\n",
      "List of functions/properties not set by you:\n",
      "['objective', 'log_posterior', 'log_posterior_with_blobs', 'log_likelihood', 'log_prior', 'hessian', 'hessian_times_vector', 'residual', 'jacobian_times_vector', 'data_covariance', 'data_covariance_inv', 'walkers_starting_pos', 'blobs_dtype', 'bounds', 'constraints']\n"
     ]
    }
   ],
   "source": [
    "# Load true model and starting guesses\n",
    "rec_coords, _, _, z_nodes, model = load_gravity_model()\n",
    "Starting_model1, Starting_model2, Starting_model3 = load_starting_models()\n",
    "\n",
    "# Create \"observed\" data by adding noise to forward solution\n",
    "noise_level=0.05\n",
    "gz = forward(model)\n",
    "dataZ_obs= gz + np.random.normal(loc=0,scale=noise_level*np.max(np.abs(gz)),size=np.shape(gz))  \n",
    "\n",
    "# Create jacobian\n",
    "Jz = get_jacobian(model)\n",
    "\n",
    "# Define depth weighting values\n",
    "z0=18.6\n",
    "beta=2\n",
    "# Define regularization parameter\n",
    "epsilon=0.2\n",
    "\n",
    "# Create regularization\n",
    "# Calculate depth weighting fcn - high values at low z, low values at high z, no zeros.\n",
    "# Model is [Nx1] with N: no. of cells; W is [NxN] with weighting values on diagonal\n",
    "W=depth_weight(z_nodes[:,0],z0,beta)\n",
    "W=np.diag(W)\n",
    "\n",
    "# Set CoFI problem:\n",
    "grav_problem = BaseProblem()\n",
    "grav_problem.name = \"Gravity\"\n",
    "grav_problem.set_data(gz)\n",
    "\n",
    "# Here I linked the function, not the result\n",
    "grav_problem.set_forward(forward)\n",
    "\n",
    "# Here I linked to the actual jacobian. Jacobian size is (MxN) with M: receiver and N: model cells\n",
    "grav_problem.set_jacobian(Jz)\n",
    "\n",
    "# Set regularization; reg is a function that takes the model as input\n",
    "grav_problem.set_regularisation(reg_l1, epsilon)\n",
    "\n",
    "# Use default L2 misfit\n",
    "grav_problem.set_data_misfit(\"L2\")\n",
    "grav_problem.set_initial_model(Starting_model3)\n",
    "\n",
    "# Set gradient, in hope of helping optimisers converge better\n",
    "def data_misfit_gradient(model):\n",
    "    return 2* Jz.T @ (forward(model) - gz) / gz.shape[0]\n",
    "grav_problem.set_gradient(lambda m: data_misfit_gradient(m) + epsilon*reg_gradient_l1(m))\n",
    "\n",
    "grav_problem.summary()"
   ]
  },
  {
   "cell_type": "markdown",
   "id": "fe42e416-5c46-44dc-9e9d-74fa44bbe69f",
   "metadata": {},
   "source": [
    "---\n",
    "## 2. Define the inversion"
   ]
  },
  {
   "cell_type": "code",
   "execution_count": 5,
   "id": "37af001f-a783-4a67-8d61-355208e0aa71",
   "metadata": {},
   "outputs": [
    {
     "name": "stdout",
     "output_type": "stream",
     "text": [
      "=============================\n",
      "Summary for inversion options\n",
      "=============================\n",
      "Solving method: None set\n",
      "Use `suggest_solving_methods()` to check available solving methods.\n",
      "-----------------------------\n",
      "Backend tool: `scipy.optimize.least_squares` - SciPy's non-linear least squares solver with bounds on variables, algorithms include 'trf' (default), 'dogbox', and 'lm'\n",
      "References: ['https://docs.scipy.org/doc/scipy/reference/generated/scipy.optimize.least_squares.html']\n",
      "Use `suggest_tools()` to check available backend tools.\n",
      "-----------------------------\n",
      "Solver-specific parameters: None set\n",
      "Use `suggest_solver_params()` to check required/optional solver-specific parameters.\n"
     ]
    }
   ],
   "source": [
    "inv_options = InversionOptions()\n",
    "inv_options.set_tool(\"scipy.optimize.least_squares\")\n",
    "\n",
    "inv_options.summary()"
   ]
  },
  {
   "cell_type": "markdown",
   "id": "20bc5918-af84-48cf-acb4-9ea7cf27434b",
   "metadata": {},
   "source": [
    "---\n",
    "## 3. Start an inversion runner"
   ]
  },
  {
   "cell_type": "code",
   "execution_count": 6,
   "id": "818de5ad-814d-4241-ad03-db4f96efe17b",
   "metadata": {},
   "outputs": [
    {
     "name": "stdout",
     "output_type": "stream",
     "text": [
      "method\n",
      "ftol\n",
      "xtol\n",
      "gtol\n",
      "diff_step\n",
      "tr_solver\n",
      "tr_options\n",
      "jac_sparsity\n",
      "max_nfev\n",
      "verbose\n"
     ]
    }
   ],
   "source": [
    "inv = Inversion(grav_problem, inv_options)\n",
    "# inv.summary()"
   ]
  },
  {
   "cell_type": "code",
   "execution_count": 7,
   "id": "acd1ef01-d9f8-4819-97d0-ff8572b2013c",
   "metadata": {},
   "outputs": [
    {
     "name": "stdout",
     "output_type": "stream",
     "text": [
      "============================\n",
      "Summary for inversion result\n",
      "============================\n",
      "SUCCESS\n",
      "----------------------------\n",
      "cost: 0.003126159510649992\n",
      "fun: [0.00021396 0.00024856 0.00028795 0.00033178 0.00037903 0.00042766\n",
      " 0.00047458 0.0005157  0.00054653 0.00056312 0.00056312 0.00054653\n",
      " 0.0005157  0.00047458 0.00042766 0.00037903 0.00033178 0.00028795\n",
      " 0.00024856 0.00021396 0.00024856 0.0002936  0.00034639 0.00040703\n",
      " 0.00047459 0.00054656 0.00061833 0.00068313 0.00073291 0.00076011\n",
      " 0.00076011 0.00073291 0.00068313 0.00061833 0.00054656 0.00047459\n",
      " 0.00040703 0.00034639 0.0002936  0.00024856 0.00028795 0.00034639\n",
      " 0.00041713 0.00050138 0.00059898 0.00070733 0.0008199  0.0009255\n",
      " 0.00100919 0.00105589 0.00105589 0.00100919 0.0009255  0.0008199\n",
      " 0.00070733 0.00059898 0.00050138 0.00041713 0.00034639 0.00028795\n",
      " 0.00033178 0.00040703 0.00050138 0.00061835 0.00076017 0.00092554\n",
      " 0.00110638 0.00128455 0.00143176 0.00151626 0.00151626 0.00143176\n",
      " 0.00128455 0.00110638 0.00092554 0.00076017 0.00061835 0.00050138\n",
      " 0.00040703 0.00033178 0.00037903 0.00047459 0.00059898 0.00076017\n",
      " 0.00096589 0.00122019 0.00151638 0.00182727 0.00209891 0.00226103\n",
      " 0.00226103 0.00209891 0.00182727 0.00151638 0.00122019 0.00096589\n",
      " 0.00076017 0.00059898 0.00047459 0.00037903 0.00042766 0.00054656\n",
      " 0.00070733 0.00092554 0.00122019 0.00160959 0.00209909 0.00265615\n",
      " 0.0031809  0.00351177 0.00351177 0.0031809  0.00265615 0.00209909\n",
      " 0.00160959 0.00122019 0.00092554 0.00070733 0.00054656 0.00042766\n",
      " 0.00047458 0.00061833 0.0008199  0.00110638 0.00151638 0.00209909\n",
      " 0.00289907 0.00390518 0.0049521  0.00566486 0.00566486 0.0049521\n",
      " 0.00390518 0.00289907 0.00209909 0.00151638 0.00110638 0.0008199\n",
      " 0.00061833 0.00047458 0.0005157  0.00068313 0.0009255  0.00128455\n",
      " 0.00182727 0.00265615 0.00390518 0.00566619 0.00773986 0.00930374\n",
      " 0.00930374 0.00773986 0.00566619 0.00390518 0.00265615 0.00182727\n",
      " 0.00128455 0.0009255  0.00068313 0.0005157  0.00054653 0.00073291\n",
      " 0.00100919 0.00143176 0.00209891 0.0031809  0.0049521  0.00773986\n",
      " 0.01148    0.01464992 0.01464992 0.01148    0.00773986 0.0049521\n",
      " 0.0031809  0.00209891 0.00143176 0.00100919 0.00073291 0.00054653\n",
      " 0.00056312 0.00076011 0.00105589 0.00151626 0.00226103 0.00351177\n",
      " 0.00566486 0.00930374 0.01464992 0.01959005 0.01959005 0.01464992\n",
      " 0.00930374 0.00566486 0.00351177 0.00226103 0.00151626 0.00105589\n",
      " 0.00076011 0.00056312 0.00056312 0.00076011 0.00105589 0.00151626\n",
      " 0.00226103 0.00351177 0.00566486 0.00930374 0.01464992 0.01959005\n",
      " 0.01959005 0.01464992 0.00930374 0.00566486 0.00351177 0.00226103\n",
      " 0.00151626 0.00105589 0.00076011 0.00056312 0.00054653 0.00073291\n",
      " 0.00100919 0.00143176 0.00209891 0.0031809  0.0049521  0.00773986\n",
      " 0.01148    0.01464992 0.01464992 0.01148    0.00773986 0.0049521\n",
      " 0.0031809  0.00209891 0.00143176 0.00100919 0.00073291 0.00054653\n",
      " 0.0005157  0.00068313 0.0009255  0.00128455 0.00182727 0.00265615\n",
      " 0.00390518 0.00566619 0.00773986 0.00930374 0.00930374 0.00773986\n",
      " 0.00566619 0.00390518 0.00265615 0.00182727 0.00128455 0.0009255\n",
      " 0.00068313 0.0005157  0.00047458 0.00061833 0.0008199  0.00110638\n",
      " 0.00151638 0.00209909 0.00289907 0.00390518 0.0049521  0.00566486\n",
      " 0.00566486 0.0049521  0.00390518 0.00289907 0.00209909 0.00151638\n",
      " 0.00110638 0.0008199  0.00061833 0.00047458 0.00042766 0.00054656\n",
      " 0.00070733 0.00092554 0.00122019 0.00160959 0.00209909 0.00265615\n",
      " 0.0031809  0.00351177 0.00351177 0.0031809  0.00265615 0.00209909\n",
      " 0.00160959 0.00122019 0.00092554 0.00070733 0.00054656 0.00042766\n",
      " 0.00037903 0.00047459 0.00059898 0.00076017 0.00096589 0.00122019\n",
      " 0.00151638 0.00182727 0.00209891 0.00226103 0.00226103 0.00209891\n",
      " 0.00182727 0.00151638 0.00122019 0.00096589 0.00076017 0.00059898\n",
      " 0.00047459 0.00037903 0.00033178 0.00040703 0.00050138 0.00061835\n",
      " 0.00076017 0.00092554 0.00110638 0.00128455 0.00143176 0.00151626\n",
      " 0.00151626 0.00143176 0.00128455 0.00110638 0.00092554 0.00076017\n",
      " 0.00061835 0.00050138 0.00040703 0.00033178 0.00028795 0.00034639\n",
      " 0.00041713 0.00050138 0.00059898 0.00070733 0.0008199  0.0009255\n",
      " 0.00100919 0.00105589 0.00105589 0.00100919 0.0009255  0.0008199\n",
      " 0.00070733 0.00059898 0.00050138 0.00041713 0.00034639 0.00028795\n",
      " 0.00024856 0.0002936  0.00034639 0.00040703 0.00047459 0.00054656\n",
      " 0.00061833 0.00068313 0.00073291 0.00076011 0.00076011 0.00073291\n",
      " 0.00068313 0.00061833 0.00054656 0.00047459 0.00040703 0.00034639\n",
      " 0.0002936  0.00024856 0.00021396 0.00024856 0.00028795 0.00033178\n",
      " 0.00037903 0.00042766 0.00047458 0.0005157  0.00054653 0.00056312\n",
      " 0.00056312 0.00054653 0.0005157  0.00047458 0.00042766 0.00037903\n",
      " 0.00033178 0.00028795 0.00024856 0.00021396]\n",
      "jac: [[-1.75321219e+01 -3.38411200e-01 -3.06869858e-01 ... -1.73057631e-03\n",
      "  -1.66588458e-03 -5.48007057e-02]\n",
      " [-1.68840552e+01 -3.24685932e-01 -2.94388644e-01 ... -1.92104264e-03\n",
      "  -1.84266060e-03 -5.75902632e-02]\n",
      " [-1.61228746e+01 -3.08996389e-01 -2.80242344e-01 ... -2.13787381e-03\n",
      "  -2.04259707e-03 -6.05661091e-02]\n",
      " ...\n",
      " [-1.31905803e+00 -4.10155567e-02 -4.26471666e-02 ... -2.42634168e-02\n",
      "  -2.92647846e-02 -3.04424095e+01]\n",
      " [-1.25879932e+00 -3.73995693e-02 -3.87733352e-02 ... -2.54841065e-02\n",
      "  -3.07072725e-02 -3.05477128e+01]\n",
      " [-1.20184620e+00 -3.41459142e-02 -3.53042231e-02 ... -2.64905418e-02\n",
      "  -3.18717157e-02 -3.06185272e+01]]\n",
      "grad: [-3.92571218 -0.20363462 -0.20903253 ... -0.18722734 -0.2629566\n",
      " -1.38417771]\n",
      "optimality: 3.92571218052462\n",
      "active_mask: [0. 0. 0. ... 0. 0. 0.]\n",
      "nfev: 16\n",
      "njev: 16\n",
      "status: 3\n",
      "message: `xtol` termination condition is satisfied.\n",
      "model: [ 0.01607014  0.02558085  0.01417938 ... -0.00105125 -0.00355894\n",
      " -0.00492396]\n"
     ]
    }
   ],
   "source": [
    "inv_result = inv.run()\n",
    "inv_result.summary()"
   ]
  },
  {
   "cell_type": "markdown",
   "id": "19a177b0",
   "metadata": {},
   "source": [
    "Let's see the density image from a vertical plane:"
   ]
  },
  {
   "cell_type": "code",
   "execution_count": 8,
   "id": "6fdae333-f5ca-4df6-bf80-981953b1393e",
   "metadata": {},
   "outputs": [
    {
     "data": {
      "image/png": "[encoded data removed]",
      "text/plain": [
       "<Figure size 432x288 with 2 Axes>"
      ]
     },
     "metadata": {
      "needs_background": "light"
     },
     "output_type": "display_data"
    }
   ],
   "source": [
    "result_model = inv_result.model.reshape(12,12,12)\n",
    "\n",
    "plt.imshow(result_model[::-1,6,:])\n",
    "plt.colorbar();"
   ]
  },
  {
   "cell_type": "markdown",
   "id": "68fc3955",
   "metadata": {},
   "source": [
    "From a different angle:"
   ]
  },
  {
   "cell_type": "code",
   "execution_count": 9,
   "id": "88611123",
   "metadata": {},
   "outputs": [
    {
     "data": {
      "image/png": "[encoded data removed]",
      "text/plain": [
       "<Figure size 432x288 with 2 Axes>"
      ]
     },
     "metadata": {
      "needs_background": "light"
     },
     "output_type": "display_data"
    }
   ],
   "source": [
    "plt.imshow(result_model[6,:,:])\n",
    "plt.colorbar();"
   ]
  },
  {
   "cell_type": "markdown",
   "id": "ac8657c1-ed34-4333-9e25-b068b97f6827",
   "metadata": {},
   "source": [
    "---\n",
    "\n",
    "## Watermark"
   ]
  },
  {
   "cell_type": "code",
   "execution_count": 10,
   "id": "653007fc-da33-4a61-92b4-0fdb819fe6cb",
   "metadata": {},
   "outputs": [
    {
     "name": "stdout",
     "output_type": "stream",
     "text": [
      "Last updated: Sun Jun 12 2022\n",
      "\n",
      "Python implementation: CPython\n",
      "Python version       : 3.10.4\n",
      "IPython version      : 8.3.0\n",
      "\n",
      "cofi : 0.1.2.dev5\n",
      "numpy: 1.22.3\n",
      "scipy: 1.8.0\n",
      "emcee: 3.1.2\n",
      "arviz: 0.12.1\n",
      "\n"
     ]
    }
   ],
   "source": [
    "%load_ext watermark\n",
    "%watermark -n -u -v -p cofi,numpy,scipy,emcee,arviz"
   ]
  },
  {
   "cell_type": "code",
   "execution_count": 11,
   "id": "70442cc4",
   "metadata": {},
   "outputs": [
    {
     "name": "stdout",
     "output_type": "stream",
     "text": [
      "cofi 0.1.2.dev5\n",
      "numpy 1.22.3\n",
      "scipy 1.8.0\n",
      "emcee 3.1.2\n",
      "arviz 0.12.1\n"
     ]
    }
   ],
   "source": [
    "# In case watermark doesn't work (e.g. sphinx-gallery)\n",
    "watermark_list = [\"cofi\", \"numpy\", \"scipy\", \"emcee\", \"arviz\"]\n",
    "for pkg in watermark_list:\n",
    "    pkg_var = __import__(pkg)\n",
    "    print(pkg, getattr(pkg_var, \"__version__\"))"
   ]
  }
 ],
 "metadata": {
  "interpreter": {
   "hash": "499767be8ae29e43453dcfc757e31af799ee5a4091f7ae76be235a3f24bcc476"
  },
  "kernelspec": {
   "display_name": "Python 3.10.4 ('cofi_dev')",
   "language": "python",
   "name": "python3"
  },
  "language_info": {
   "codemirror_mode": {
    "name": "ipython",
    "version": 3
   },
   "file_extension": ".py",
   "mimetype": "text/x-python",
   "name": "python",
   "nbconvert_exporter": "python",
   "pygments_lexer": "ipython3",
   "version": "3.10.4"
  }
 },
 "nbformat": 4,
 "nbformat_minor": 5
}
