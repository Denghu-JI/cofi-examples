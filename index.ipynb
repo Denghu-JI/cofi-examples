{
 "cells": [
  {
   "cell_type": "markdown",
   "metadata": {},
   "source": [
    "# <img src=\"https://raw.githubusercontent.com/inlab-geo/cofi/main/docs/source/_static/latte_art_cropped.png\" width=\"5%\" padding=\"0\" margin=\"0\"/> CoFI Examples\n",
    "\n",
    "👋 Welcome!\n",
    "\n",
    "Here are a series of examples that use CoFI to perform a complete inversion workflow. Examples start from simple linear regression all the way up to practical geoscience applications.\n",
    "\n",
    "- 〰️  Polynomial linear regression \n",
    "    - Start here: [linear_regression.ipynb](notebooks/linear_regression/linear_regression.ipynb)\n",
    "    - A more interactive version: [linear_regression_lab.ipynb](notebooks/linear_regression/linear_regression_lab.ipynb)\n",
    "- ⚡️  Electrical resistivity tomography (ERT) via PyGIMLi\n",
    "    - Click here: [pygimli_ert.ipynb](notebooks/pygimli_ert/pygimli_ert.ipynb)\n",
    "- 🔋  Direct current induced polarization (DCIP) via PyGIMLi\n",
    "    - Start here (synthetic data example): [pygimli_dcip.ipynb](notebooks/pygimli_dcip/pygimli_dcip.ipynb)\n",
    "    - A real dataset example (Century Zinc dataset): \n",
    "        - Rectangular mesh: [pygimli_dcip_century_rect_mesh.ipynb](notebooks/pygimli_dcip/pygimli_dcip_century_rect_mesh.ipynb)\n",
    "        - Triangular mesh: [pygimli_dcip_century_tri_mesh.ipynb](notebooks/pygimli_dcip/pygimli_dcip_century_tri_mesh.ipynb)\n",
    "- 🌏  Gravity\n",
    "    - Start here: [gravity_density.ipynb](notebooks/gravity/gravity_density.ipynb)\n",
    "    - An interactive version: [gravity_density_lab.ipynb](notebooks/gravity/gravity_density_lab.ipynb)\n",
    "- 🔦 Xray tomography\n",
    "    - Click here: [xray_tompgraphy.ipynb](notebooks/xray_tomography/xray_tomography.ipynb)\n",
    "- 〰️ Seismic wave tomography via Fast Marching\n",
    "    - Click here: [fmm_tomography.ipynb](notebooks/fmm_tomography/fmm_tomography.ipynb)\n",
    "\n",
    "Meantime, the CoFI documentation (access it [📄 here](https://cofi.readthedocs.io/en/latest/index.html)) is another useful resource for you to learn more about usages of CoFI.\n",
    "\n",
    "If you have any questions or feedback, please contact us at:\n",
    "- 💬 InLab Community Slack workspace [here](https://join.slack.com/t/inlab-community/shared_invite/zt-1ejny069z-v5ZyvP2tDjBR42OAu~TkHg) \n",
    "- 🔖 Github issues [here](https://github.com/inlab-geo/cofi-examples/issues) \n"
   ]
  }
 ],
 "metadata": {
  "kernelspec": {
   "display_name": "Python 3.10.5 ('cofi_env')",
   "language": "python",
   "name": "python3"
  },
  "language_info": {
   "name": "python",
   "version": "3.10.5"
  },
  "orig_nbformat": 4,
  "vscode": {
   "interpreter": {
    "hash": "f53af8d4cb0cee79f8d6d6212f461365278bf68c0ce0b4237b6e88ef77d505ea"
   }
  }
 },
 "nbformat": 4,
 "nbformat_minor": 2
}
