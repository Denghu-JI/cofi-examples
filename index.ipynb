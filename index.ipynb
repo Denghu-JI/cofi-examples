{
 "cells": [
  {
   "cell_type": "markdown",
   "metadata": {},
   "source": [
    "# CoFI Examples\n",
    "\n",
    "Here are a series of examples that use CoFI to perform a complete inversion workflow. Examples start from simple linear regression all the way up to practical geoscience applications.\n",
    "\n",
    "- [linear_regression.ipynb](notebooks/linear_regression.ipynb)\n",
    "- [gravity_density.ipynb](notebooks/gravity_density.ipynb)\n",
    "\n",
    "If you have any questions or feedback, please contact us at:\n",
    "- InLab Slack workspace [here](https://inlab-geo.slack.com)\n",
    "- Github issues [here](https://github.com/inlab-geo/cofi-examples/issues)\n"
   ]
  }
 ],
 "metadata": {
  "language_info": {
   "name": "python"
  },
  "orig_nbformat": 4
 },
 "nbformat": 4,
 "nbformat_minor": 2
}
