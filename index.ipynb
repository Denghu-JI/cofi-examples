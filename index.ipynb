{
 "cells": [
  {
   "cell_type": "markdown",
   "metadata": {},
   "source": [
    "# <img src=\"https://raw.githubusercontent.com/inlab-geo/cofi/main/docs/_static/latte_art_cropped.png\" width=\"5%\" padding=\"0\" margin=\"0\"/> CoFI Examples\n",
    "\n",
    "👋 Welcome!\n",
    "\n",
    "Here are a series of examples that use CoFI to perform a complete inversion workflow. Examples start from simple linear regression all the way up to practical geoscience applications.\n",
    "\n",
    "- 〰️  Polynomial linear regression \n",
    "    - Start here: [linear_regression.ipynb](notebooks/linear_regression/linear_regression.ipynb)\n",
    "    - A more interactive version: [linear_regression_lab.ipynb](notebooks/linear_regression/linear_regression_lab.ipynb)\n",
    "- ⚡️  PyGIMLi: electrical resistivity tomography\n",
    "    - Click here: [pygimli_ert.ipynb](notebooks/pygimli_ert/pygimli_ert.ipynb)\n",
    "- 🌏  Gravity\n",
    "    - Start here: [gravity_density.ipynb](notebooks/gravity/gravity_density.ipynb)\n",
    "    - An interactive version: [gravity_density_lab.ipynb](notebooks/gravity/gravity_density_lab.ipynb)\n",
    "\n",
    "Meantime, the CoFI documentation (access it [📄 here](https://cofi.readthedocs.io/en/latest/index.html)) is another useful resource for you to learn more about usages of CoFI.\n",
    "\n",
    "If you have any questions or feedback, please contact us at:\n",
    "- 💬 InLab Slack workspace [here](https://inlab-geo.slack.com) \n",
    "- 🔖 Github issues [here](https://github.com/inlab-geo/cofi-examples/issues) \n"
   ]
  }
 ],
 "metadata": {
  "language_info": {
   "name": "python"
  },
  "orig_nbformat": 4
 },
 "nbformat": 4,
 "nbformat_minor": 2
}
