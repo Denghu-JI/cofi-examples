{
 "cells": [
  {
   "cell_type": "markdown",
   "metadata": {},
   "source": [
    "# CoFI Examples\n",
    "\n",
    ":wave: Welcome!\n",
    "\n",
    "Here are a series of examples that use CoFI to perform a complete inversion workflow. Examples start from simple linear regression all the way up to practical geoscience applications.\n",
    "\n",
    "- :wavy_dash: Polynomial linear regression \n",
    "    - Start here: [linear_regression.ipynb](notebooks/linear_regression/linear_regression.ipynb)\n",
    "    - A more interactive version: [linear_regression_lab.ipynb](notebooks/linear_regression/linear_regression_lab.ipynb)\n",
    "- :earth_asia: Gravity\n",
    "    - Start here: [gravity_density.ipynb](notebooks/gravity/gravity_density.ipynb)\n",
    "    - An interactive version: [gravity_density_lab.ipynb](notebooks/gravity/gravity_density_lab.ipynb)\n",
    "\n",
    "If you have any questions or feedback, please contact us at:\n",
    "- InLab Slack workspace [here](https://inlab-geo.slack.com) :speech_balloon:\n",
    "- Github issues [here](https://github.com/inlab-geo/cofi-examples/issues) octocat\n"
   ]
  }
 ],
 "metadata": {
  "language_info": {
   "name": "python"
  },
  "orig_nbformat": 4
 },
 "nbformat": 4,
 "nbformat_minor": 2
}
