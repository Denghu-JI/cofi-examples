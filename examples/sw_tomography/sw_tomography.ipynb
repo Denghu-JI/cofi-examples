{
 "cells": [
  {
   "cell_type": "markdown",
   "id": "243b844a",
   "metadata": {
    "papermill": {
     "duration": 0.005006,
     "end_time": "2023-04-13T07:30:00.103889",
     "exception": false,
     "start_time": "2023-04-13T07:30:00.098883",
     "status": "completed"
    },
    "tags": []
   },
   "source": [
    "# Surface-Wave Tomography"
   ]
  },
  {
   "cell_type": "markdown",
   "id": "6ceb9abf-0c40-43d8-84c0-9a8d3b2be2a2",
   "metadata": {},
   "source": [
    "[![Open In Colab](https://img.shields.io/badge/open%20in-Colab-b5e2fa?logo=googlecolab&style=flat-square&color=ffd670)](https://colab.research.google.com/github/inlab-geo/cofi-examples/blob/main/examples/sw_tomography/sw_tomography.ipynb)"
   ]
  },
  {
   "cell_type": "markdown",
   "id": "c40d62d6",
   "metadata": {
    "papermill": {
     "duration": 0.044191,
     "end_time": "2023-04-13T07:30:00.195677",
     "exception": false,
     "start_time": "2023-04-13T07:30:00.151486",
     "status": "completed"
    },
    "tags": []
   },
   "source": [
    "In this notebook, we will apply [CoFI](https://github.com/inlab-geo/cofi) to real-world measurements of surface-wave velocity collected across the [USArray](http://www.usarray.org/) from the ambient seismic noise. Specifically, we will retrieve, through CoFI and [SeisLib](https://pypi.org/project/seislib/), a Rayleigh-wave phase velocity map of the Conterminous United States at the surface-wave period of 5 s. The employed velocity measurements belong to the data set compiled by [*Magrini et al. (2022)*](https://doi.org/10.1093/gji/ggac236)."
   ]
  },
  {
   "cell_type": "markdown",
   "id": "a4a90591",
   "metadata": {
    "papermill": {
     "duration": 0.003301,
     "end_time": "2023-04-13T07:30:00.202251",
     "exception": false,
     "start_time": "2023-04-13T07:30:00.198950",
     "status": "completed"
    },
    "tags": []
   },
   "source": [
    "> If you are running this notebook locally, make sure you've followed [these steps](https://github.com/inlab-geo/cofi-examples#run-the-examples-with-cofi-locally)\n",
    "> to set up the environment. (This [environment.yml](https://github.com/inlab-geo/cofi-examples/blob/main/envs/environment.yml) file specifies a list of packages required to run the notebooks)"
   ]
  },
  {
   "cell_type": "markdown",
   "id": "f66d4f2c",
   "metadata": {
    "papermill": {
     "duration": 0.003421,
     "end_time": "2023-04-13T07:30:00.209059",
     "exception": false,
     "start_time": "2023-04-13T07:30:00.205638",
     "status": "completed"
    },
    "tags": []
   },
   "source": [
    "## Theoretical Background"
   ]
  },
  {
   "attachments": {},
   "cell_type": "markdown",
   "id": "eac6b26e",
   "metadata": {
    "papermill": {
     "duration": 0.003464,
     "end_time": "2023-04-13T07:30:00.283360",
     "exception": false,
     "start_time": "2023-04-13T07:30:00.279896",
     "status": "completed"
    },
    "tags": []
   },
   "source": [
    "To map lateral variations in surface-wave velocity, SeisLib implements a least-squares inversion scheme based on ray theory. This method rests on the assumption that surface waves propagate, from a given point on the Earth’s surface to another, without deviating from the great-circle path connecting them. Under this assumption, the traveltime along the great-circle path can be written $t = \\int_{\\mathrm{path}}{s(\\phi(l), \\theta(l)) dl}$, \n",
    "where $\\phi$ and $\\theta$ denote longitude and latitude, and $s$ the sought Earth's slowness.\n",
    "\n",
    "Let us consider a discrete parameterization of the Earth's surface, and assume each block \n",
    "(or grid cell) of such parameterization has constant slowness. The above integral expression \n",
    "can then be reformulated in the discrete form\n",
    "\n",
    "$$\n",
    "\\label{eq:forward_problem}\\tag{1}\n",
    "s = \\frac{1}{L} \\sum_{n}{s_n l_n},\n",
    "$$\n",
    "\n",
    "where $L$ is the length of the great-circle path and $l$ the distance traveled by the surface wave through the $n$th block. Equation ($\\ref{eq:forward_problem}$) represents the *forward* calculation that allows for retrieving the average velocity of propagation between two points on the Earth's surface (i.e., the quantity which is typically measured in ambient-noise seismology), provided that the (discrete) spatial variations in velocity (or slowness) are known.\n",
    "\n",
    "If we now define the $m \\times n$ matrix such that $A_{ij} = \\frac{l_j}{L_i}$, where $L_i$ is the length of the great circle associated with $i$th observation, we can switch to matrix notation and write\n",
    "\n",
    "$$\n",
    "\\label{eq:forward_matrix}\\tag{2}\n",
    "{\\bf A \\cdot x} = {\\bf d},\n",
    "$$\n",
    "\n",
    "where $\\bf d$ is an $m$-vector whose $k$th element corresponds to the measured slowness, and $\\bf x$ the sought $n$-vector whose $k$th element corresponds to the model coefficient $s_k$. Matrix $\\bf A$, also known as \"data kernel\" or \"Jacobian\", is computed numerically in a relatively simple fashion. For each pair of receivers for which a velocity measurement is available, its $i$th entries is found by calculating the fraction of great-circle path connecting them through each of the $n$ blocks associated with the parameterization.\n",
    "\n",
    "In geophysical applications, the system of linear equations ($\\ref{eq:forward_matrix}$) is usually ill-conditioned, meaning that it is not possible to find an exact solution for $\\bf x$. (In our case, it is strongly overdetermined, i.e. $m \\gg n$.) We overcome this issue by first assuming that the target slowness model is approximately known, i.e. ${\\bf x}_0 \\sim \\bf{x}$. We then invert for the regularized least-squares solution\n",
    "\n",
    "$$\n",
    "\\label{eq_inverse_prob}\\tag{3}\n",
    "{\\bf x} = {\\bf x}_0 + \\left( {\\bf A}^T \\cdot {\\bf A} + \\mu^2 {\\bf R}^T \\cdot {\\bf R} \\right)^{-1} \\cdot {\\bf A}^T \\cdot ({\\bf d} - {\\bf A} \\cdot {\\bf x}_0),\n",
    "$$\n",
    "\n",
    "where the roughness of the final model is determined by the scalar weight $\\mu$ and the roughness operator $\\bf R$ is dependent on the parameterization (for technical details on its computation, see [*Magrini et al. (2022)*](https://doi.org/10.1093/gji/ggac236))."
   ]
  },
  {
   "cell_type": "markdown",
   "id": "129a758d",
   "metadata": {
    "papermill": {
     "duration": 0.003392,
     "end_time": "2023-04-13T07:30:00.290620",
     "exception": false,
     "start_time": "2023-04-13T07:30:00.287228",
     "status": "completed"
    },
    "tags": []
   },
   "source": [
    "## 1. Data and Parameterization"
   ]
  },
  {
   "cell_type": "markdown",
   "id": "d0789274",
   "metadata": {
    "papermill": {
     "duration": 0.011637,
     "end_time": "2023-04-13T07:30:00.305612",
     "exception": false,
     "start_time": "2023-04-13T07:30:00.293975",
     "status": "completed"
    },
    "tags": []
   },
   "source": [
    "As mentioned earlier, the [data](https://github.com/inlab-geo/cofi-examples/blob/main/examples/sw_tomography/data.txt) used in this notebook consist of inter-station measurements of Rayleigh-wave phase velocity at 5 s period. We parameterize the Earth's surface through equal-area blocks of $1^{\\circ} \\times 1^{\\circ}$."
   ]
  },
  {
   "cell_type": "code",
   "execution_count": 1,
   "id": "50a8fd95",
   "metadata": {
    "execution": {
     "iopub.execute_input": "2023-04-13T07:30:00.313239Z",
     "iopub.status.busy": "2023-04-13T07:30:00.312986Z",
     "iopub.status.idle": "2023-04-13T07:30:01.469384Z",
     "shell.execute_reply": "2023-04-13T07:30:01.468932Z"
    },
    "papermill": {
     "duration": 1.16147,
     "end_time": "2023-04-13T07:30:01.470365",
     "exception": false,
     "start_time": "2023-04-13T07:30:00.308895",
     "status": "completed"
    },
    "tags": []
   },
   "outputs": [
    {
     "name": "stdout",
     "output_type": "stream",
     "text": [
      "-------------------------------------\n",
      "Optimal grid found in 91 iterations\n",
      "-------------------------------------\n",
      "-------------------------------------\n",
      "GRID PARAMETERS\n",
      "Lonmin - Lonmax : -180.000 - 180.000\n",
      "Latmin - Latmax : -90.000 - 90.000\n",
      "Number of cells : 41252\n",
      "Grid cells of 1.000° : 41252\n",
      "-------------------------------------\n",
      "DATA PARAMETERS\n",
      "Lonmin - Lonmax data : -124.566 - -67.312\n",
      "Latmin - Latmax data : 24.727 - 49.098\n",
      "Number of measurements : 171353\n",
      "Source : ./data.txt\n",
      "-------------------------------------\n",
      "\n"
     ]
    }
   ],
   "source": [
    "from seislib.tomography import SeismicTomography\n",
    "\n",
    "tomo = SeismicTomography(cell_size=1) # Parameterization\n",
    "\n",
    "# To reproduce the results locally, download data.txt and change the below path\n",
    "\n",
    "tomo.add_data(src='./data.txt')"
   ]
  },
  {
   "cell_type": "markdown",
   "id": "7a32837e",
   "metadata": {
    "papermill": {
     "duration": 0.003682,
     "end_time": "2023-04-13T07:30:01.478791",
     "exception": false,
     "start_time": "2023-04-13T07:30:01.475109",
     "status": "completed"
    },
    "tags": []
   },
   "source": [
    "Overall, 171,353 velocity measurements are available (check `tomo.velocity`), each associated with a different pair of receveirs (check `tomo.data_coords`, consisting of a matrix of 171,353 rows and 4 columns: $\\theta_1$, $\\phi_1$, $\\theta_2$, and $\\phi_2$)."
   ]
  },
  {
   "cell_type": "markdown",
   "id": "563ebe56",
   "metadata": {
    "papermill": {
     "duration": 0.00369,
     "end_time": "2023-04-13T07:30:01.489242",
     "exception": false,
     "start_time": "2023-04-13T07:30:01.485552",
     "status": "completed"
    },
    "tags": []
   },
   "source": [
    "## 2. Jacobian"
   ]
  },
  {
   "cell_type": "markdown",
   "id": "c8f01399",
   "metadata": {
    "papermill": {
     "duration": 0.003593,
     "end_time": "2023-04-13T07:30:01.496771",
     "exception": false,
     "start_time": "2023-04-13T07:30:01.493178",
     "status": "completed"
    },
    "tags": []
   },
   "source": [
    "We use the information about the data coordinates to calculate the matrix $\\bf A$ (i.e. the Jacobian). In doing so, we will discard all blocks parameterizing the Earth's surface that are not intersected by at least one inter-station great-circle path. These model parameters (referred to as \"grid cells\" in the below output) have no sensitivity to our data."
   ]
  },
  {
   "cell_type": "code",
   "execution_count": 2,
   "id": "d809ab6e",
   "metadata": {
    "execution": {
     "iopub.execute_input": "2023-04-13T07:30:01.504682Z",
     "iopub.status.busy": "2023-04-13T07:30:01.504242Z",
     "iopub.status.idle": "2023-04-13T07:30:01.508820Z",
     "shell.execute_reply": "2023-04-13T07:30:01.508372Z"
    },
    "papermill": {
     "duration": 0.009635,
     "end_time": "2023-04-13T07:30:01.509781",
     "exception": false,
     "start_time": "2023-04-13T07:30:01.500146",
     "status": "completed"
    },
    "tags": []
   },
   "outputs": [
    {
     "name": "stdout",
     "output_type": "stream",
     "text": [
      "*** GRID UPDATED ***\n",
      "-------------------------------------\n",
      "GRID PARAMETERS\n",
      "Lonmin - Lonmax : -125.774 - -65.926\n",
      "Latmin - Latmax : 23.999 - 50.002\n",
      "Number of cells : 1201\n",
      "Grid cells of 1.000° : 1201\n",
      "-------------------------------------\n"
     ]
    }
   ],
   "source": [
    "# This discards all blocks that are far away from the study area\n",
    "\n",
    "tomo.grid.set_boundaries(latmin=tomo.latmin_data, \n",
    "                         latmax=tomo.latmax_data, \n",
    "                         lonmin=tomo.lonmin_data, \n",
    "                         lonmax=tomo.lonmax_data)"
   ]
  },
  {
   "cell_type": "code",
   "execution_count": 3,
   "id": "0ebe6851",
   "metadata": {
    "execution": {
     "iopub.execute_input": "2023-04-13T07:30:01.518163Z",
     "iopub.status.busy": "2023-04-13T07:30:01.517946Z",
     "iopub.status.idle": "2023-04-13T07:30:04.289331Z",
     "shell.execute_reply": "2023-04-13T07:30:04.288626Z"
    },
    "papermill": {
     "duration": 2.777216,
     "end_time": "2023-04-13T07:30:04.291010",
     "exception": false,
     "start_time": "2023-04-13T07:30:01.513794",
     "status": "completed"
    },
    "tags": []
   },
   "outputs": [
    {
     "name": "stdout",
     "output_type": "stream",
     "text": [
      "*** GRID UPDATED ***\n",
      "-------------------------------------\n",
      "GRID PARAMETERS\n",
      "Lonmin - Lonmax : -125.774 - -66.537\n",
      "Latmin - Latmax : 23.999 - 50.002\n",
      "Number of cells : 775\n",
      "Grid cells of 1.000° : 775\n",
      "-------------------------------------\n"
     ]
    }
   ],
   "source": [
    "# Computes the coefficients of the A matrix, while discarding all model parameters that are not constrained by our data.\n",
    "tomo.compile_coefficients(keep_empty_cells=False)"
   ]
  },
  {
   "cell_type": "markdown",
   "id": "c2aacae6",
   "metadata": {
    "papermill": {
     "duration": 0.022734,
     "end_time": "2023-04-13T07:30:04.321356",
     "exception": false,
     "start_time": "2023-04-13T07:30:04.298622",
     "status": "completed"
    },
    "tags": []
   },
   "source": [
    "The Jacobian can now be accessed by typing `tomo.A`, and the associated parameterization can be visualized by typing"
   ]
  },
  {
   "cell_type": "code",
   "execution_count": 4,
   "id": "d202a500",
   "metadata": {
    "execution": {
     "iopub.execute_input": "2023-04-13T07:30:04.370150Z",
     "iopub.status.busy": "2023-04-13T07:30:04.369820Z",
     "iopub.status.idle": "2023-04-13T07:30:07.023473Z",
     "shell.execute_reply": "2023-04-13T07:30:07.022991Z"
    },
    "papermill": {
     "duration": 2.697139,
     "end_time": "2023-04-13T07:30:07.024716",
     "exception": false,
     "start_time": "2023-04-13T07:30:04.327577",
     "status": "completed"
    },
    "scrolled": true,
    "tags": []
   },
   "outputs": [
    {
     "data": {
      "image/png": "[encoded data removed]",
      "text/plain": [
       "<Figure size 640x480 with 1 Axes>"
      ]
     },
     "metadata": {},
     "output_type": "display_data"
    },
    {
     "data": {
      "text/plain": [
       "<GeoAxesSubplot:>"
      ]
     },
     "execution_count": 4,
     "metadata": {},
     "output_type": "execute_result"
    }
   ],
   "source": [
    "tomo.grid.plot()"
   ]
  },
  {
   "cell_type": "markdown",
   "id": "6df34585",
   "metadata": {
    "papermill": {
     "duration": 0.020873,
     "end_time": "2023-04-13T07:30:07.051671",
     "exception": false,
     "start_time": "2023-04-13T07:30:07.030798",
     "status": "completed"
    },
    "tags": []
   },
   "source": [
    "## 3. Inversion -- SeisLib style"
   ]
  },
  {
   "cell_type": "markdown",
   "id": "494b7681",
   "metadata": {
    "papermill": {
     "duration": 0.005079,
     "end_time": "2023-04-13T07:30:07.110578",
     "exception": false,
     "start_time": "2023-04-13T07:30:07.105499",
     "status": "completed"
    },
    "tags": []
   },
   "source": [
    "The lateral variations in phase velocity can now simply be retrieved, via SeisLib, through"
   ]
  },
  {
   "cell_type": "code",
   "execution_count": 5,
   "id": "a63a61fc",
   "metadata": {
    "execution": {
     "iopub.execute_input": "2023-04-13T07:30:07.136678Z",
     "iopub.status.busy": "2023-04-13T07:30:07.136396Z",
     "iopub.status.idle": "2023-04-13T07:30:11.991449Z",
     "shell.execute_reply": "2023-04-13T07:30:11.990380Z"
    },
    "papermill": {
     "duration": 4.878235,
     "end_time": "2023-04-13T07:30:11.993620",
     "exception": false,
     "start_time": "2023-04-13T07:30:07.115385",
     "status": "completed"
    },
    "tags": []
   },
   "outputs": [],
   "source": [
    "mu = 5e-2 # Roughness damping coefficient, arbitrarily chosen\n",
    "\n",
    "# The output of tomo.solve is slowness, hence we take the reciprocal\n",
    "\n",
    "c = 1 / tomo.solve(rdamp=mu) # in km/s"
   ]
  },
  {
   "cell_type": "markdown",
   "id": "8e43407a",
   "metadata": {
    "papermill": {
     "duration": 0.039588,
     "end_time": "2023-04-13T07:30:12.042618",
     "exception": false,
     "start_time": "2023-04-13T07:30:12.003030",
     "status": "completed"
    },
    "tags": []
   },
   "source": [
    "Let's have a look at the results (the colorbar is in km/s)."
   ]
  },
  {
   "cell_type": "code",
   "execution_count": 6,
   "id": "3e6aa7c2",
   "metadata": {
    "execution": {
     "iopub.execute_input": "2023-04-13T07:30:12.082156Z",
     "iopub.status.busy": "2023-04-13T07:30:12.081786Z",
     "iopub.status.idle": "2023-04-13T07:30:12.318514Z",
     "shell.execute_reply": "2023-04-13T07:30:12.318051Z"
    },
    "papermill": {
     "duration": 0.2522,
     "end_time": "2023-04-13T07:30:12.319634",
     "exception": false,
     "start_time": "2023-04-13T07:30:12.067434",
     "status": "completed"
    },
    "tags": []
   },
   "outputs": [
    {
     "data": {
      "image/png": "[encoded data removed]",
      "text/plain": [
       "<Figure size 640x480 with 2 Axes>"
      ]
     },
     "metadata": {},
     "output_type": "display_data"
    }
   ],
   "source": [
    "from seislib.plotting import plot_map\n",
    "import seislib.colormaps as scm\n",
    "\n",
    "plot_map(tomo.grid.mesh, c, cmap=scm.roma)"
   ]
  },
  {
   "cell_type": "markdown",
   "id": "93285b80",
   "metadata": {
    "papermill": {
     "duration": 0.020315,
     "end_time": "2023-04-13T07:30:12.345279",
     "exception": false,
     "start_time": "2023-04-13T07:30:12.324964",
     "status": "completed"
    },
    "tags": []
   },
   "source": [
    "## 4. Inversion -- CoFI style"
   ]
  },
  {
   "cell_type": "markdown",
   "id": "9244c5bd",
   "metadata": {
    "papermill": {
     "duration": 0.004422,
     "end_time": "2023-04-13T07:30:12.354778",
     "exception": false,
     "start_time": "2023-04-13T07:30:12.350356",
     "status": "completed"
    },
    "tags": []
   },
   "source": [
    "Let's now reproduce the above results through CoFI. First, we need to define a starting model ${\\bf x}_0$ to compute the residuals ${\\bf r} = {\\bf d} - {\\bf A} \\cdot {\\bf x}_0$, as in equation (3)."
   ]
  },
  {
   "cell_type": "code",
   "execution_count": 7,
   "id": "be986278",
   "metadata": {
    "execution": {
     "iopub.execute_input": "2023-04-13T07:30:12.364901Z",
     "iopub.status.busy": "2023-04-13T07:30:12.364362Z",
     "iopub.status.idle": "2023-04-13T07:30:12.386876Z",
     "shell.execute_reply": "2023-04-13T07:30:12.386177Z"
    },
    "papermill": {
     "duration": 0.029571,
     "end_time": "2023-04-13T07:30:12.388804",
     "exception": false,
     "start_time": "2023-04-13T07:30:12.359233",
     "status": "completed"
    },
    "tags": []
   },
   "outputs": [],
   "source": [
    "import numpy as np\n",
    "\n",
    "A = tomo.A # Jacobian\n",
    "x0 = np.full(A.shape[1], 1 / tomo.refvel) # tomo.refvel is the average inter-station phase velocity\n",
    "d = 1 / tomo.velocity # measurements of (average) inter-station slowness\n",
    "r = d - A @ x0 # residuals"
   ]
  },
  {
   "cell_type": "markdown",
   "id": "306377d2",
   "metadata": {
    "papermill": {
     "duration": 0.008899,
     "end_time": "2023-04-13T07:30:12.406646",
     "exception": false,
     "start_time": "2023-04-13T07:30:12.397747",
     "status": "completed"
    },
    "tags": []
   },
   "source": [
    "We now need to define the roughness operator $\\bf R$. This is done under the hood by SeisLib through the \"private\" method `_derivatives_lat_lon`."
   ]
  },
  {
   "cell_type": "code",
   "execution_count": 8,
   "id": "511582be",
   "metadata": {
    "execution": {
     "iopub.execute_input": "2023-04-13T07:30:12.426038Z",
     "iopub.status.busy": "2023-04-13T07:30:12.425709Z",
     "iopub.status.idle": "2023-04-13T07:30:12.627917Z",
     "shell.execute_reply": "2023-04-13T07:30:12.627293Z"
    },
    "papermill": {
     "duration": 0.214155,
     "end_time": "2023-04-13T07:30:12.629727",
     "exception": false,
     "start_time": "2023-04-13T07:30:12.415572",
     "status": "completed"
    },
    "tags": []
   },
   "outputs": [],
   "source": [
    "from seislib.tomography._ray_theory._tomography import _derivatives_lat_lon\n",
    "\n",
    "# coordinates of each parameterization block, tomo.grid.mesh, should be in radians\n",
    "\n",
    "R_lat, R_lon = _derivatives_lat_lon(np.radians(tomo.grid.mesh))\n",
    "R = np.row_stack((R_lat, R_lon))"
   ]
  },
  {
   "cell_type": "markdown",
   "id": "0a30b4b9",
   "metadata": {
    "papermill": {
     "duration": 0.007691,
     "end_time": "2023-04-13T07:30:12.645260",
     "exception": false,
     "start_time": "2023-04-13T07:30:12.637569",
     "status": "completed"
    },
    "tags": []
   },
   "source": [
    "Almost everything is ready to carry out the inversion through CoFI. Before doing so, we need to define our inverse problem (through `BaseProblem`) and pass to it the data and the Jacobian (through `set_data` and `set_jacobian`). Finally, we will specify the regularizazion criterion (through `set_regularization`)."
   ]
  },
  {
   "cell_type": "code",
   "execution_count": 9,
   "id": "03e945a0",
   "metadata": {
    "execution": {
     "iopub.execute_input": "2023-04-13T07:30:12.662603Z",
     "iopub.status.busy": "2023-04-13T07:30:12.662364Z",
     "iopub.status.idle": "2023-04-13T07:30:12.672646Z",
     "shell.execute_reply": "2023-04-13T07:30:12.672158Z"
    },
    "papermill": {
     "duration": 0.021223,
     "end_time": "2023-04-13T07:30:12.674085",
     "exception": false,
     "start_time": "2023-04-13T07:30:12.652862",
     "status": "completed"
    },
    "tags": []
   },
   "outputs": [
    {
     "name": "stdout",
     "output_type": "stream",
     "text": [
      "=====================================================================\n",
      "Summary for inversion problem: BaseProblem\n",
      "=====================================================================\n",
      "Model shape: Unknown\n",
      "---------------------------------------------------------------------\n",
      "List of functions/properties set by you:\n",
      "['jacobian', 'regularization', 'regularization_matrix', 'regularization_factor', 'data']\n",
      "---------------------------------------------------------------------\n",
      "List of functions/properties created based on what you have provided:\n",
      "['jacobian_times_vector']\n",
      "---------------------------------------------------------------------\n",
      "List of functions/properties that can be further set for the problem:\n",
      "( not all of these may be relevant to your inversion workflow )\n",
      "['objective', 'log_posterior', 'log_posterior_with_blobs', 'log_likelihood', 'log_prior', 'gradient', 'hessian', 'hessian_times_vector', 'residual', 'jacobian_times_vector', 'data_misfit', 'forward', 'data_covariance', 'data_covariance_inv', 'initial_model', 'model_shape', 'blobs_dtype', 'bounds', 'constraints']\n"
     ]
    }
   ],
   "source": [
    "from cofi import BaseProblem\n",
    "\n",
    "problem = BaseProblem()\n",
    "problem.set_data(r) # our data are now the residuals defined above\n",
    "problem.set_jacobian(A)\n",
    "\n",
    "# As opposed to SeisLib, CoFI does not square the damping coefficient.\n",
    "problem.set_regularization(2, mu**2, R) # L2 norm of R, i.e. R.T @ R\n",
    "\n",
    "problem.summary()"
   ]
  },
  {
   "cell_type": "markdown",
   "id": "237e9109",
   "metadata": {
    "papermill": {
     "duration": 0.007492,
     "end_time": "2023-04-13T07:30:12.689697",
     "exception": false,
     "start_time": "2023-04-13T07:30:12.682205",
     "status": "completed"
    },
    "tags": []
   },
   "source": [
    "We now carry out the inversion through `scipy.linalg.lstsq`."
   ]
  },
  {
   "cell_type": "code",
   "execution_count": 10,
   "id": "f3fadb55",
   "metadata": {
    "execution": {
     "iopub.execute_input": "2023-04-13T07:30:12.707152Z",
     "iopub.status.busy": "2023-04-13T07:30:12.706932Z",
     "iopub.status.idle": "2023-04-13T07:30:13.161814Z",
     "shell.execute_reply": "2023-04-13T07:30:13.161157Z"
    },
    "papermill": {
     "duration": 0.466066,
     "end_time": "2023-04-13T07:30:13.163734",
     "exception": false,
     "start_time": "2023-04-13T07:30:12.697668",
     "status": "completed"
    },
    "tags": []
   },
   "outputs": [
    {
     "name": "stdout",
     "output_type": "stream",
     "text": [
      "=======================================\n",
      "Summary for Inversion\n",
      "=======================================\n",
      "Completed with the following result:\n",
      "\n",
      "Summary for inversion result\n",
      "SUCCESS\n",
      "model: [ 4.91019640e-06 -5.42483949e-06 -9.87312282e-06 -8.99945337e-06\n",
      " -5.64281426e-06 -6.55169900e-08  2.36719033e-06  1.66023144e-06\n",
      "  5.82884508e-06  1.19594814e-05  1.82851743e-05  2.57290323e-05\n",
      "  3.16815854e-05  2.83893247e-05  1.56652442e-05  5.31458272e-06\n",
      "  2.54223559e-05  2.86758871e-05  1.21974243e-05 -9.95310657e-06\n",
      " -1.45298521e-05 -1.12488270e-05 -9.90467082e-06  1.82935708e-06\n",
      "  4.15162002e-06 -5.92316006e-06  1.79456855e-06  8.97821295e-06\n",
      "  1.36032485e-05  2.39861455e-05  3.90209697e-05  3.86295953e-05\n",
      "  1.46093941e-05 -2.76201108e-06 -2.03198521e-05 -2.55546420e-05\n",
      " -2.37289320e-05 -2.26758290e-05 -1.54138602e-05 -5.83698833e-06\n",
      " -2.42261841e-06  3.62427581e-05  4.08604596e-05  1.25608576e-05\n",
      "  2.35619510e-06 -8.73400439e-06 -1.20311651e-05 -9.21781801e-06\n",
      " -9.82486401e-07  2.76647320e-06 -8.67384574e-06 -2.52185713e-06\n",
      "  7.99143099e-06  2.00298250e-05  3.19837404e-05  4.36891989e-05\n",
      "  4.53580564e-05  2.06479149e-05 -2.97746730e-06 -2.19192609e-05\n",
      " -2.73757802e-05 -2.63877925e-05 -2.63859488e-05 -1.41615428e-05\n",
      "  1.58821680e-06  1.04386446e-06 -1.20559603e-06 -3.00796151e-06\n",
      " -9.94442159e-06 -1.99252669e-05 -2.57316003e-05 -2.59283819e-05\n",
      " -2.42940102e-05 -2.35035760e-05 -2.25352496e-05 -2.11802401e-05\n",
      " -1.79461456e-05 -1.40314752e-05 -1.15031330e-05 -1.24990458e-05\n",
      "  3.08749880e-05  2.47866235e-05  3.51911155e-05  5.93920846e-05\n",
      "  1.77370886e-05 -7.42130155e-06 -1.00275832e-05  1.00691021e-06\n",
      "  7.15992908e-06  1.08637630e-05  7.88065269e-06  7.37165737e-06\n",
      "  1.75199399e-05  3.15179458e-05  3.53336663e-05  3.51471556e-05\n",
      "  1.58059467e-05 -1.21230311e-06 -2.06168873e-05 -2.65019741e-05\n",
      " -2.66026510e-05 -2.37306269e-05 -1.27884368e-05 -5.66746298e-06\n",
      " -1.43181620e-05 -1.73759561e-05 -4.49657839e-06 -5.25525136e-06\n",
      " -2.22056712e-05 -2.74162285e-05 -2.74384762e-05 -2.28966082e-05\n",
      " -2.36913873e-05 -2.45282915e-05 -2.40827042e-05 -2.21440383e-05\n",
      " -1.24177259e-05 -1.26427518e-05 -1.76617009e-05 -1.45727162e-05\n",
      "  3.65866884e-05  2.62569766e-05  4.04611427e-05  3.92858376e-05\n",
      "  1.10942513e-05 -1.21039918e-05 -3.57295539e-06  6.31266466e-06\n",
      "  5.24366454e-06  9.31365110e-06  3.67332649e-06  6.65581041e-06\n",
      "  2.94060486e-05  2.95119401e-05  2.32184890e-05  1.83689548e-05\n",
      "  1.87229184e-06 -8.42984778e-06 -1.82765984e-05 -2.24487361e-05\n",
      " -2.29281595e-05 -1.41054318e-05 -9.74067792e-06 -2.71556732e-05\n",
      " -2.81375514e-05 -2.42989852e-05 -1.76279605e-05 -1.31696117e-05\n",
      " -1.84020060e-05 -2.19830294e-05 -2.47873430e-05 -2.65114388e-05\n",
      " -2.53705584e-05 -2.61366702e-05 -2.64175840e-05 -2.29868375e-05\n",
      " -1.94472268e-05 -2.03324476e-05 -2.06920690e-05 -1.93706963e-05\n",
      "  3.17559403e-05  3.50890504e-05  2.71892163e-05  2.29662414e-05\n",
      "  1.37133753e-05  5.53363481e-06  4.88541591e-06  1.09964695e-05\n",
      "  1.09124633e-05  1.94249239e-05  2.57024218e-05  2.13028396e-05\n",
      "  1.77692380e-05  3.64989237e-05  2.05563739e-05 -1.01284260e-07\n",
      "  7.24676859e-06 -1.81347395e-06 -1.39416591e-05 -1.86983735e-05\n",
      " -2.11428957e-05 -2.53603472e-05  1.59387655e-06  3.13964952e-06\n",
      " -2.54663841e-05 -2.45282219e-05 -1.84832393e-05 -1.48477039e-05\n",
      " -2.83159809e-06  1.24132684e-06 -1.18935522e-05 -2.01484162e-05\n",
      " -2.24627861e-05 -2.40326890e-05 -2.58211579e-05 -2.59110833e-05\n",
      " -2.52492034e-05 -2.51527461e-05 -1.91645758e-05 -1.73733593e-05\n",
      " -1.98319565e-05 -1.85517436e-05  4.28699396e-05  2.32756163e-05\n",
      "  5.28702696e-05  3.46783964e-05  2.57356795e-05  2.73838780e-05\n",
      "  2.35082425e-05  1.32642263e-05  2.27545366e-05  2.46382401e-05\n",
      "  2.47650340e-05  2.50998170e-05  3.17881436e-05  3.93947759e-05\n",
      "  3.11232409e-05 -3.65580833e-06  3.97906369e-06  4.29835342e-06\n",
      " -1.15531025e-05 -1.83368947e-05 -2.26645254e-05 -2.01518221e-05\n",
      "  1.96329309e-06 -1.96327491e-06 -2.08361192e-05 -2.17015764e-05\n",
      " -1.85645681e-05 -1.24833306e-05 -2.13103671e-06  5.06315375e-06\n",
      " -1.14619324e-05 -2.07587197e-05 -2.14279795e-05 -2.38109072e-05\n",
      " -2.47832740e-05 -2.24043716e-05 -2.54471713e-05 -2.74699124e-05\n",
      " -1.72504453e-05 -1.81118156e-05 -1.81661910e-05 -2.07617521e-05\n",
      "  2.30101889e-05  1.60003434e-05  3.22978848e-05  3.98004760e-05\n",
      "  3.67904398e-05  2.25546830e-05  1.42299290e-05  1.59915159e-05\n",
      "  1.29848877e-05  1.81457338e-05  2.69204495e-05  5.80181757e-05\n",
      "  4.82795790e-05  3.46163773e-05  1.02343468e-05  6.59363909e-06\n",
      "  8.71927454e-06  1.06228818e-05  9.15110889e-06 -1.53400806e-06\n",
      " -1.41270208e-05 -1.92426168e-05 -7.48589742e-06 -1.05384360e-06\n",
      " -1.57466654e-06 -1.47773892e-05 -1.46647233e-05 -1.26344679e-05\n",
      " -1.32486268e-05 -8.91157507e-06 -9.07528849e-06 -1.92027507e-05\n",
      " -2.24012192e-05 -2.21702295e-05 -1.91258775e-05 -1.16679323e-05\n",
      " -1.08702721e-05 -1.73520829e-05 -2.03974053e-05 -1.74330049e-05\n",
      " -1.62139192e-05 -1.43225732e-05  1.68166061e-05  5.73899961e-06\n",
      "  2.80065756e-05  3.36837155e-05  2.57011089e-05  1.66561899e-05\n",
      "  1.76421050e-05  1.68798474e-05  9.12444279e-06  1.67330143e-05\n",
      "  4.14916029e-05  6.64543741e-05  6.03319661e-05  3.68386811e-05\n",
      "  3.34576710e-06  2.74249406e-05  3.13828658e-05  1.99371110e-05\n",
      "  3.77487150e-06 -6.51131067e-07 -6.52957155e-06 -9.85800925e-06\n",
      " -2.91660094e-06 -2.66250751e-06 -8.33917482e-06 -1.15854567e-05\n",
      " -1.05829812e-05 -8.64387344e-06 -1.41243160e-05 -1.61807177e-05\n",
      " -1.78339190e-05 -2.07005851e-05 -2.06043814e-05 -1.70908063e-05\n",
      " -4.43915686e-06  7.73594947e-06  6.64587852e-06 -7.13204472e-06\n",
      " -2.05655655e-05 -1.78948332e-05 -1.51476707e-05 -1.20824392e-05\n",
      "  2.59568532e-05  2.22873402e-05  2.08641112e-05  1.82837375e-05\n",
      "  1.50599573e-05  1.51272099e-05  1.78406991e-05  1.14415454e-05\n",
      "  1.47471749e-05  2.33400811e-05  4.94856098e-05  5.39326459e-05\n",
      "  4.60360035e-05  1.99046337e-05  3.89635287e-06  3.33399756e-05\n",
      "  3.20518650e-05  1.38837339e-05  4.16703022e-07  4.39448884e-08\n",
      " -2.62376023e-06 -8.18800784e-06 -6.67048240e-06 -1.00788637e-05\n",
      " -1.35915521e-05 -1.41711727e-05 -1.25676798e-05 -1.09316362e-05\n",
      " -1.15510432e-05 -1.29996620e-05 -1.45999093e-05 -2.02402020e-05\n",
      " -2.03935148e-05 -3.26438695e-06  1.78182564e-05  2.62732125e-07\n",
      " -2.92159670e-06 -1.45078308e-05 -1.65001832e-05 -1.12392401e-05\n",
      " -1.04484269e-05 -1.28356129e-05  3.55477071e-05  3.69422352e-05\n",
      "  4.48952297e-06  1.40795275e-05  2.66021332e-05  2.02143213e-05\n",
      "  1.37989607e-05  8.18481658e-06  1.09578265e-05  2.73379108e-05\n",
      "  2.35132348e-05  2.52064645e-05  2.95118713e-05  5.54458863e-06\n",
      "  1.00482411e-05  4.96299393e-05  1.92660671e-05  4.73928619e-06\n",
      "  1.36504277e-06 -9.76836155e-07  2.73322788e-06 -8.40711063e-06\n",
      " -1.13946675e-05 -1.50842844e-05 -1.70687825e-05 -1.74478632e-05\n",
      " -1.52494757e-05 -7.05542054e-06 -1.38030942e-06 -3.76919891e-06\n",
      " -8.84963290e-06 -2.14081669e-05 -1.61451065e-05  1.17090521e-05\n",
      "  1.66824532e-05 -1.36029781e-05 -1.71682061e-05 -1.09674630e-05\n",
      "  2.08727678e-06 -2.10922499e-06 -7.34562949e-06  3.24147713e-05\n",
      "  3.06758613e-05  1.05214342e-06  1.37092761e-05  2.46604911e-05\n",
      "  2.09227732e-05  1.38299146e-05  7.28045021e-06  2.02274591e-05\n",
      "  2.24396456e-05 -1.19510070e-06  3.49303618e-06  9.56318085e-07\n",
      "  3.47815793e-06  7.92592176e-06  1.48430018e-05  5.63661476e-07\n",
      "  5.13343164e-07  4.15242070e-07 -3.76032696e-06  1.49390167e-06\n",
      " -8.50587481e-06 -1.44980492e-05 -1.61209449e-05 -1.77948092e-05\n",
      " -2.02757479e-05 -1.95318406e-05 -9.36930225e-06 -4.20404463e-06\n",
      " -8.66824057e-07 -7.35891404e-06 -1.99045680e-05  4.40913883e-06\n",
      "  1.55613723e-05 -3.84618527e-06 -1.81299025e-05 -9.98417706e-06\n",
      "  1.11475780e-05  1.23509969e-05  5.56146902e-06  3.46692018e-05\n",
      "  4.41166394e-05  2.00999469e-05  1.78476405e-05  2.13622013e-05\n",
      "  2.02475056e-05  1.14187377e-05  1.58552513e-05  2.74576788e-05\n",
      "  1.11042330e-05 -8.97144572e-06 -3.37579346e-07  7.53732625e-06\n",
      "  1.87085990e-05  5.07277396e-06 -6.40589968e-06 -5.55604766e-07\n",
      "  3.79551785e-06 -4.02362281e-07 -2.09908987e-06 -3.86332471e-06\n",
      " -1.04366926e-05 -1.67966738e-05 -1.82721185e-05 -1.72667252e-05\n",
      " -1.89306397e-05 -2.20198256e-05 -1.75471351e-05 -1.84317870e-06\n",
      " -5.53857830e-06 -1.00730023e-05 -5.74458400e-06  8.26531267e-06\n",
      " -7.60055943e-06 -1.86249558e-05 -1.89484813e-05 -1.40693965e-05\n",
      "  4.01673153e-06  1.00251527e-05  4.38151069e-05  5.38971824e-05\n",
      "  3.96476685e-05  2.46510527e-05  1.64341988e-05  9.99094345e-06\n",
      "  8.70239388e-06 -1.17082892e-06 -1.31077788e-06  1.80006849e-06\n",
      " -4.79747324e-06  1.37323697e-05  2.16113003e-05  1.16682410e-05\n",
      " -3.57413440e-06 -3.08500651e-07  7.24793352e-06  1.46320803e-05\n",
      "  2.83790003e-05  1.76835880e-05  1.51021876e-06 -1.28369182e-05\n",
      " -2.03855316e-05 -1.75194180e-05 -1.79475108e-05 -1.78782851e-05\n",
      " -1.35940801e-06 -1.05790668e-05 -2.17961529e-05 -2.04090270e-05\n",
      " -1.50488560e-05 -7.15406169e-06 -1.28339332e-05 -1.45513207e-05\n",
      " -2.27777507e-05 -2.08340018e-05 -1.55421551e-05  3.45697743e-06\n",
      "  6.87124770e-06  5.35949931e-05  4.96596585e-05  3.98430524e-05\n",
      "  2.15162855e-05  1.23433070e-05  5.35102932e-06 -7.54996938e-07\n",
      " -7.17268029e-06 -4.97029793e-06  1.53793868e-07 -2.24864542e-06\n",
      "  1.14871167e-05  3.35492655e-05  7.70550704e-06 -5.78087952e-06\n",
      "  6.36712176e-06  9.99192455e-06  2.37617181e-05  7.00694501e-05\n",
      "  5.25376720e-05  1.66573277e-05 -3.28396855e-06  3.03219065e-06\n",
      "  3.01856845e-06 -5.22099681e-06  1.11115599e-05  6.67152702e-06\n",
      " -1.82440589e-05 -2.64770684e-05 -2.29822172e-05 -1.53685981e-05\n",
      " -1.47715621e-05 -1.46450602e-05 -1.98183304e-05 -2.74798755e-05\n",
      " -2.24843499e-05 -1.50102501e-05  3.79276201e-06  9.98569211e-06\n",
      "  6.61205804e-06  3.19069992e-06 -2.34977418e-06 -7.38684635e-06\n",
      " -7.98223525e-06 -5.63373606e-06  9.01490699e-07  1.38710919e-05\n",
      "  1.53801683e-05 -9.71605758e-06 -9.98694825e-07  1.06799073e-05\n",
      "  1.43781721e-05  6.41119264e-06  1.68206039e-05  2.97641524e-05\n",
      "  2.30163689e-05  4.12574593e-05  4.60504915e-05  3.19172953e-05\n",
      "  3.69807153e-05  4.41580713e-05  7.53222514e-06 -1.52491409e-05\n",
      " -2.19657652e-05 -1.09130567e-05 -1.61647211e-05 -1.47702344e-05\n",
      " -1.44434128e-05 -2.08101434e-05 -1.81803294e-05 -1.71741185e-05\n",
      " -1.91710341e-05  5.81713009e-06  9.45750246e-06  7.56618411e-06\n",
      "  5.50184139e-08 -1.31796604e-06 -2.36621395e-06  1.66168437e-06\n",
      "  1.17260129e-05  1.34850004e-05  5.43475664e-06 -9.62479741e-06\n",
      "  4.56367841e-06  1.37828822e-05  5.94923399e-06 -8.70141580e-07\n",
      "  3.60743716e-06  1.07950459e-05  3.78291684e-05  5.01031031e-05\n",
      "  4.68458318e-05  4.98937967e-05  5.48300685e-05  5.20717765e-05\n",
      "  3.84647330e-05  9.85734857e-07 -2.73827114e-06 -1.03229536e-05\n",
      " -1.69224081e-05 -1.73554952e-05 -1.80833143e-05 -1.32360694e-05\n",
      " -5.34722438e-06 -9.39213634e-06 -1.41238206e-05  1.33916620e-05\n",
      "  1.25294971e-05  1.15270721e-05  5.79838778e-06  6.40267549e-06\n",
      "  5.22574409e-06  1.37236462e-05  1.43680282e-05  1.98344439e-05\n",
      "  9.40302830e-06 -1.54277128e-06  2.29114170e-05  1.69531328e-05\n",
      "  3.27336947e-06 -3.49494530e-06 -3.74589864e-06  7.50677936e-06\n",
      "  4.55071021e-05  5.92812367e-05  5.08417006e-05  4.71154531e-05\n",
      "  4.85312339e-05  5.35875237e-05  5.47395782e-05  3.63155239e-05\n",
      "  1.19119626e-05 -6.17486336e-06 -8.73753650e-06 -4.00886253e-06\n",
      " -2.15995101e-06  4.97311041e-06  7.55231654e-06  4.15242974e-06\n",
      "  8.08189713e-06  7.79504792e-06  8.68632757e-06  1.50913434e-05\n",
      "  1.95100612e-05  1.68660434e-05  4.00061463e-06  1.71840007e-05\n",
      "  4.21134974e-05  1.74414517e-05  2.64705482e-06 -1.00672033e-05\n",
      " -7.36923676e-06  1.58157011e-05  4.95841395e-05  4.36387274e-05\n",
      "  3.71832483e-05  3.17818954e-05  3.14380301e-05  3.76789390e-05\n",
      "  4.57453980e-05  5.40680391e-05  4.40195490e-05  3.02395229e-05\n",
      "  2.71564500e-05  2.00659280e-05  6.93181180e-06  1.33209653e-05\n",
      "  1.58455629e-05  7.87435101e-06  2.04200200e-05  1.81839770e-05\n",
      "  1.34580195e-05  1.14947859e-05  1.43625007e-05  2.78224882e-05\n",
      "  1.46062992e-05 -5.57243711e-07 -1.07002922e-05  6.57544079e-06\n",
      "  3.80329433e-05  3.18854067e-05  2.08352356e-05  1.81611846e-05\n",
      "  1.92396320e-05  2.17749162e-05  2.98393154e-05  3.22950763e-05\n",
      "  4.68712172e-05  4.88656701e-05  4.85370391e-05  4.62607496e-05\n",
      "  1.70381594e-05  8.90777375e-06  1.79130961e-05  2.01467346e-05\n",
      "  1.53339557e-05  1.39315462e-05  1.30832012e-05  1.34761074e-05\n",
      "  7.71655511e-06  1.04929968e-05  2.08087942e-05  2.87331903e-05\n",
      "  2.40230851e-05  2.14915376e-05  1.58498754e-05  1.84214331e-05\n",
      "  2.10224479e-05  2.39252158e-05  2.67750338e-05  4.39805763e-05\n",
      "  2.88940727e-05  9.76171215e-06  2.94698489e-06  1.74168831e-05\n",
      "  1.74419357e-05  1.65298635e-05  1.55112551e-05  1.73374125e-05\n",
      "  2.93607138e-05  3.16496220e-05  2.41010622e-05  1.62614336e-05\n",
      "  1.97816344e-05  1.72550125e-05  7.68803741e-06  3.73534722e-06\n",
      "  1.68058974e-05  1.20322006e-05  2.72323446e-05  2.53317334e-05\n",
      "  2.31801826e-05  1.87722603e-05  1.77885091e-05  1.71453567e-05\n",
      "  1.73224436e-05  2.07936816e-05  2.92037630e-05  2.67414326e-05\n",
      "  2.68530452e-05  3.01819777e-05  1.89369656e-05  3.56797634e-05\n",
      "  3.98335796e-05  4.25615610e-05  4.21396700e-05]\n",
      "sum_of_squared_residuals: []\n",
      "effective_rank: 775\n",
      "singular_values: [374.84094539 348.72441012 328.47611572 302.66104435 301.40780765\n",
      " 290.76913329 282.63445125 272.20073523 266.35421565 254.86329552\n",
      " 247.66824659 244.35253389 236.29515007 231.45482325 224.02049349\n",
      " 218.64976881 217.50846776 214.14854922 211.4812397  208.32055593\n",
      " 204.79517957 198.76555824 195.49763903 191.90923823 191.10073017\n",
      " 184.96407668 184.39034769 182.41613927 179.22955253 177.84504892\n",
      " 177.41040309 174.3297719  171.91240686 169.02119825 168.03689066\n",
      " 166.24891872 165.0236062  162.53076804 159.72905133 158.92537\n",
      " 157.50402992 156.65866448 155.70634198 154.35508608 153.1732245\n",
      " 152.0195022  151.00838698 148.97618    148.65308149 145.97822191\n",
      " 145.62264958 144.57974278 143.66619534 142.46297213 140.69716833\n",
      " 139.848757   139.16870497 138.60556426 137.98981328 136.52204649\n",
      " 136.01294129 135.83212738 134.65904355 133.72304229 132.45854516\n",
      " 132.01537701 131.08173926 130.54487786 129.76407678 129.15335528\n",
      " 127.68676734 127.35280168 126.67176744 126.16471105 125.76024574\n",
      " 125.44239183 124.62097583 123.85687776 123.17115581 122.94549374\n",
      " 122.47984938 121.94175149 121.80253594 121.18246683 120.1174401\n",
      " 119.66538032 119.49438128 119.28914112 118.556818   118.45126051\n",
      " 117.78550999 117.14980096 116.56884379 116.27881587 115.70417289\n",
      " 115.40705137 115.33190222 114.8373819  114.42713371 113.74655563\n",
      " 113.49240134 113.36173466 113.1217051  113.00025491 112.77852066\n",
      " 112.49874233 111.95241327 111.70268258 111.39130912 111.26863438\n",
      " 110.8997336  110.6732446  110.32104934 110.11822459 109.8449371\n",
      " 109.45683761 109.05707334 108.91318059 108.70779314 108.47243435\n",
      " 108.30561585 107.80702215 107.67440591 107.37278911 107.07514057\n",
      " 106.9739081  106.94335458 106.78984777 106.42732048 106.09004779\n",
      " 106.02441136 105.89164844 105.74732338 105.54126617 105.20408729\n",
      " 105.01058936 104.82248568 104.52947541 104.3668216  104.31342777\n",
      " 104.04895654 103.9326068  103.72019239 103.57688559 103.52215884\n",
      " 103.36121073 103.30333545 102.88340836 102.68443976 102.51282908\n",
      " 102.45810066 102.38127624 102.08852565 101.9329585  101.77232234\n",
      " 101.69482329 101.35523989 101.3061137  101.25239815 101.11923357\n",
      " 100.75988998 100.54377857 100.53847843 100.36457768 100.26164016\n",
      " 100.1735117  100.01443898  99.93889854  99.71041141  99.69340176\n",
      "  99.5789241   99.41815119  99.13922961  98.93320036  98.80222549\n",
      "  98.78799956  98.72217553  98.53563478  98.45781286  98.27635877\n",
      "  98.23177255  98.06393001  97.87916473  97.75248041  97.5897731\n",
      "  97.52407944  97.4567465   97.33463419  97.29992418  97.13320357\n",
      "  97.10130444  96.99957301  96.81223406  96.72489408  96.64555339\n",
      "  96.55988358  96.44563872  96.33848404  96.12131568  96.01689292\n",
      "  95.86287415  95.73566468  95.65110956  95.59885373  95.44905937\n",
      "  95.3360532   95.16744959  95.12749369  94.96647823  94.88149643\n",
      "  94.83297171  94.71331126  94.66133319  94.48419552  94.36736539\n",
      "  94.29061228  94.1194427   94.0077829   93.80504746  93.78255433\n",
      "  93.65773878  93.55582628  93.50064856  93.39018464  93.23272714\n",
      "  93.19052549  93.1173033   93.05423315  92.93625223  92.91033124\n",
      "  92.76656268  92.65253129  92.53709188  92.3609343   92.26936486\n",
      "  92.13208795  92.0859029   91.98864115  91.97873474  91.88552762\n",
      "  91.8109583   91.69974669  91.66343899  91.54858575  91.48648386\n",
      "  91.37948655  91.33284872  91.22268045  91.13696607  91.10162105\n",
      "  91.00327944  90.93647789  90.79258952  90.74391037  90.67603491\n",
      "  90.56270182  90.52127555  90.47592678  90.41592069  90.38986864\n",
      "  90.24314308  90.19949672  90.11435941  90.07575752  90.02572125\n",
      "  89.7443815   89.7190213   89.64860826  89.50294013  89.47684274\n",
      "  89.39543842  89.24274941  89.17368972  89.04888169  88.97393204\n",
      "  88.940305    88.81616812  88.75504609  88.69465219  88.66441798\n",
      "  88.59239175  88.56808745  88.51886961  88.47729357  88.40864606\n",
      "  88.32776944  88.28875351  88.19855773  88.11656712  87.99736421\n",
      "  87.98905874  87.91219237  87.76915224  87.69717687  87.59235357\n",
      "  87.47810555  87.37649981  87.25313308  87.18474222  87.09985078\n",
      "  87.02240121  86.92699653  86.77065775  86.72910525  86.64468637\n",
      "  86.598053    86.40726876  86.38987378  86.32904265  86.24141193\n",
      "  86.17796174  85.95626827  85.93651149  85.80817563  85.79079021\n",
      "  85.74535204  85.65618211  85.57314452  85.50658585  85.33401849\n",
      "  85.30244566  85.20240931  85.15160101  85.11138949  85.04018834\n",
      "  84.91055431  84.87615891  84.72359626  84.64446413  84.59609631\n",
      "  84.52197537  84.44752296  84.35374533  84.26494168  84.14958772\n",
      "  83.99880825  83.99370455  83.8838677   83.83529768  83.76570046\n",
      "  83.64713038  83.58361046  83.49055174  83.44346024  83.2941913\n",
      "  83.25426565  83.11232845  82.98840882  82.93728199  82.87865879\n",
      "  82.78200017  82.77503124  82.64755091  82.50309885  82.43788258\n",
      "  82.30125299  82.1813935   82.11414847  82.01293801  81.85805911\n",
      "  81.84725904  81.79495987  81.79104273  81.69073796  81.65216487\n",
      "  81.50780982  81.4100171   81.35760118  81.25148837  81.16490808\n",
      "  81.12934774  80.94129816  80.91070431  80.75415567  80.59501661\n",
      "  80.55764624  80.46503956  80.37808009  80.30827365  80.15380594\n",
      "  80.10441405  79.9488377   79.73720726  79.64289443  79.62053628\n",
      "  79.55816029  79.46214205  79.34143083  79.22549858  79.09842405\n",
      "  79.08259877  79.05155168  78.95312021  78.90260532  78.78543655\n",
      "  78.70103376  78.60636495  78.54364256  78.30608866  78.25872844\n",
      "  78.2489514   78.12595146  78.08731809  77.98368444  77.88061171\n",
      "  77.83974546  77.75841616  77.58137744  77.54397519  77.453436\n",
      "  77.37078963  77.21917926  77.18895697  77.08623544  76.98946629\n",
      "  76.84853463  76.7567182   76.66827399  76.46449982  76.39120952\n",
      "  76.22948146  76.14972949  76.1334236   76.01148253  75.67835913\n",
      "  75.6519157   75.64765981  75.42796628  75.27878555  75.20591613\n",
      "  75.11041372  74.99036433  74.94181166  74.84754747  74.80278222\n",
      "  74.58741896  74.4953951   74.42193723  74.32481442  74.26571906\n",
      "  74.04187767  74.00333658  73.95758765  73.85172754  73.83782991\n",
      "  73.69207352  73.50435831  73.42715004  73.41362534  73.36471948\n",
      "  73.20856268  73.16985217  73.1237059   72.99764174  72.99116312\n",
      "  72.84099812  72.64085887  72.57542246  72.48925759  72.45546336\n",
      "  72.39725154  72.17966932  72.05663058  72.02097484  71.88769019\n",
      "  71.83511961  71.69338262  71.63498938  71.37770783  71.31098849\n",
      "  71.20419618  70.98758561  70.95414748  70.70305369  70.62375249\n",
      "  70.56816814  70.48987904  70.32961756  70.17753015  70.13072369\n",
      "  70.08014308  69.95309023  69.88929169  69.76108579  69.71279437\n",
      "  69.63467733  69.13185209  69.07670807  69.03164354  68.87950668\n",
      "  68.8108603   68.74455367  68.36893542  68.29778477  68.04626516\n",
      "  67.91619287  67.90821     67.84342436  67.69118603  67.6334509\n",
      "  67.40207168  67.22148972  67.08482978  66.79442156  66.74892828\n",
      "  66.67720575  66.45256738  66.20895545  66.06957606  66.02565809\n",
      "  66.01530042  65.81179651  65.53690491  65.49495503  65.43243545\n",
      "  65.05651684  64.97483548  64.94206574  64.67572922  64.2737538\n",
      "  64.24591495  64.03771026  64.03051631  63.92954097  63.92319788\n",
      "  63.7549308   63.60386325  63.48840521  63.30432426  63.27173191\n",
      "  63.1166784   63.06617191  62.93095783  62.86187994  62.84153767\n",
      "  62.36346665  62.26866587  62.19412417  62.01764314  61.95657848\n",
      "  61.5645826   61.55114701  61.24645859  60.99658503  60.9034646\n",
      "  60.25660488  60.07792801  59.97388499  59.94320454  59.77570536\n",
      "  59.76806722  59.7608299   59.15681838  58.86486768  58.84974289\n",
      "  58.75651176  58.25438183  57.9949351   57.82400251  57.68439376\n",
      "  57.66308624  57.63771184  57.41142387  56.69280996  56.43468494\n",
      "  56.17170143  56.03508603  55.96335776  55.62868316  55.33778603\n",
      "  55.25794294  55.242406    55.07864734  55.04048672  55.03197196\n",
      "  54.95111182  54.91023236  54.69575829  54.13236859  52.96450457\n",
      "  52.96261949  52.34873059  52.23725686  52.13651725  51.73543835\n",
      "  51.69875567  51.59044511  51.19280411  51.01090792  50.46856586\n",
      "  50.34476217  50.29448554  50.25075628  50.14625338  49.92137161\n",
      "  49.83159981  49.8011482   49.41023912  49.30717352  48.86800827\n",
      "  48.75791063  48.1914463   47.93266254  47.82723945  46.77707273\n",
      "  46.72006134  46.66950953  46.31921     46.0660965   46.03728174\n",
      "  45.3907847   44.75260822  44.66726879  44.36610515  44.2578793\n",
      "  44.11603628  43.90173539  43.49595823  42.70812738  42.22483525\n",
      "  42.05910958  42.02624411  41.62218779  41.57622873  41.5492654\n",
      "  41.44534592  41.41703828  41.33850753  41.25939717  41.18637368\n",
      "  40.58117572  40.42361723  40.21872995  39.80132832  39.71300468\n",
      "  39.58944537  39.11917777  39.03069057  39.01721437  38.88093043\n",
      "  38.87106572  38.25336211  37.94506179  37.91033481  37.89705646\n",
      "  37.85136367  37.42746879  37.31389189  37.00054494  36.67285381\n",
      "  36.25073651  36.11396234  36.01207602  35.72127829  35.63719644\n",
      "  35.51903521  35.33841655  35.05165266  34.77492345  34.73024922\n",
      "  34.63825061  34.57460495  34.05633239  34.05424256  33.92682721\n",
      "  33.88805901  33.8334493   33.48316973  32.99356602  32.96608543\n",
      "  32.73396271  32.57961745  32.14807396  31.55954771  31.5288891\n",
      "  31.43689579  31.12339074  31.06796961  30.57151188  30.43026425\n",
      "  30.16413722  29.99272707  29.98581697  29.95568493  29.71404343\n",
      "  29.60728725  29.46210052  28.73419644  28.48687163  28.02419329\n",
      "  27.95537302  27.90070987  27.60310761  27.35867616  27.20223008\n",
      "  27.01947475  26.91928142  26.71612471  26.48527284  24.92516615\n",
      "  24.70563829  24.66502995  24.39607582  24.25910857  24.08058682\n",
      "  24.02210615  24.01767785  23.77338874  23.72823051  23.68592964\n",
      "  23.57010157  22.75488916  22.31204597  21.85634583  21.5876832\n",
      "  21.34731704  21.29384574  20.7633375   20.66543695  20.00338571\n",
      "  19.87945121  19.69936932  19.3958792   19.36982977  19.27708936\n",
      "  19.20337085  18.77267365  18.48813067  18.12858087  17.72011858\n",
      "  17.66624695  17.62522068  17.02177738  16.4595791   16.12909277\n",
      "  15.39308623  14.98047731  14.8307064   14.48706847  13.95405105\n",
      "  13.31467487  13.22621678  13.02164207  11.74719265  11.72987206\n",
      "  11.72029285  11.66562503  11.45378537  11.30421665  11.22388063\n",
      "  11.12744323  10.54243793  10.16502254  10.07008401  10.01994291\n",
      "   9.70763994   9.28414094   9.01724557   8.89456496   8.7754902\n",
      "   8.62122306   8.11470393   7.97779268   7.9586278    7.85228021\n",
      "   7.84307623   7.68257365   7.43438008   7.20717453   6.90684827\n",
      "   6.59944704   6.41668515   6.14619119   4.33562217   2.83466366]\n",
      "---------------------------------------\n",
      "With inversion solver defined as below:\n",
      "\n",
      "Summary for inversion options\n",
      "Solving method: None set\n",
      "Use `suggest_solving_methods()` to check available solving methods.\n",
      "Backend tool: `<class 'cofi.tools._scipy_lstsq.ScipyLstSq'>` - SciPy's wrapper function over LAPACK's linear least-squares solver, using 'gelsd', 'gelsy' (default), or 'gelss' as backend driver\n",
      "References: ['https://docs.scipy.org/doc/scipy/reference/generated/scipy.linalg.lstsq.html', 'https://www.netlib.org/lapack/lug/node27.html']\n",
      "Use `suggest_tools()` to check available backend tools.\n",
      "Solver-specific parameters: None set\n",
      "Use `suggest_solver_params()` to check required/optional solver-specific parameters.\n",
      "---------------------------------------\n",
      "For inversion problem defined as below:\n",
      "\n",
      "Summary for inversion problem: BaseProblem\n",
      "Model shape: Unknown\n",
      "List of functions/properties set by you:\n",
      "['jacobian', 'regularization', 'regularization_matrix', 'regularization_factor', 'data']\n",
      "List of functions/properties created based on what you have provided:\n",
      "['jacobian_times_vector']\n",
      "List of functions/properties that can be further set for the problem:\n",
      "( not all of these may be relevant to your inversion workflow )\n",
      "['objective', 'log_posterior', 'log_posterior_with_blobs', 'log_likelihood', 'log_prior', 'gradient', 'hessian', 'hessian_times_vector', 'residual', 'jacobian_times_vector', 'data_misfit', 'forward', 'data_covariance', 'data_covariance_inv', 'initial_model', 'model_shape', 'blobs_dtype', 'bounds', 'constraints']\n",
      "List of functions/properties got used by the backend tool:\n",
      "['jacobian', 'data', 'regularization_matrix']\n"
     ]
    }
   ],
   "source": [
    "from cofi import Inversion, InversionOptions\n",
    "\n",
    "options = InversionOptions()\n",
    "options.set_tool(\"scipy.linalg.lstsq\")\n",
    "\n",
    "inv = Inversion(problem, options)\n",
    "inv_results = inv.run()\n",
    "inv.summary()"
   ]
  },
  {
   "cell_type": "markdown",
   "id": "bf8955ec",
   "metadata": {
    "papermill": {
     "duration": 0.009505,
     "end_time": "2023-04-13T07:30:13.184074",
     "exception": false,
     "start_time": "2023-04-13T07:30:13.174569",
     "status": "completed"
    },
    "tags": []
   },
   "source": [
    "## 5. Cross validation"
   ]
  },
  {
   "cell_type": "markdown",
   "id": "6c40eefa",
   "metadata": {
    "papermill": {
     "duration": 0.009638,
     "end_time": "2023-04-13T07:30:13.203459",
     "exception": false,
     "start_time": "2023-04-13T07:30:13.193821",
     "status": "completed"
    },
    "tags": []
   },
   "source": [
    "The inversion converged. Let's now check whether the results are consistent with those obtained from SeisLib. To do so, remember that we need to add back, to the retrieved model parameters, the initial reference model ${\\bf x}_0$."
   ]
  },
  {
   "cell_type": "code",
   "execution_count": 11,
   "id": "0ca5e88b",
   "metadata": {
    "execution": {
     "iopub.execute_input": "2023-04-13T07:30:13.224532Z",
     "iopub.status.busy": "2023-04-13T07:30:13.224248Z",
     "iopub.status.idle": "2023-04-13T07:30:13.230272Z",
     "shell.execute_reply": "2023-04-13T07:30:13.229581Z"
    },
    "papermill": {
     "duration": 0.019004,
     "end_time": "2023-04-13T07:30:13.232117",
     "exception": false,
     "start_time": "2023-04-13T07:30:13.213113",
     "status": "completed"
    },
    "tags": []
   },
   "outputs": [
    {
     "name": "stdout",
     "output_type": "stream",
     "text": [
      "Are the results obtained from seislib and cofi the same? True\n"
     ]
    }
   ],
   "source": [
    "# the reference model x0 is added back to get absolute values of slowness\n",
    "\n",
    "c_cofi = 1 / ( inv_results.model + x0 )\n",
    "\n",
    "print('Are the results obtained from seislib and cofi the same?', np.allclose(c, c_cofi))\n"
   ]
  },
  {
   "cell_type": "markdown",
   "id": "e1cdaafb",
   "metadata": {
    "papermill": {
     "duration": 0.009728,
     "end_time": "2023-04-13T07:30:13.251302",
     "exception": false,
     "start_time": "2023-04-13T07:30:13.241574",
     "status": "completed"
    },
    "tags": []
   },
   "source": [
    "## Watermark"
   ]
  },
  {
   "cell_type": "code",
   "execution_count": 12,
   "id": "fbf3d067",
   "metadata": {
    "execution": {
     "iopub.execute_input": "2023-04-13T07:30:13.271902Z",
     "iopub.status.busy": "2023-04-13T07:30:13.271661Z",
     "iopub.status.idle": "2023-04-13T07:30:13.274597Z",
     "shell.execute_reply": "2023-04-13T07:30:13.274202Z"
    },
    "papermill": {
     "duration": 0.014367,
     "end_time": "2023-04-13T07:30:13.275486",
     "exception": false,
     "start_time": "2023-04-13T07:30:13.261119",
     "status": "completed"
    },
    "tags": []
   },
   "outputs": [
    {
     "name": "stdout",
     "output_type": "stream",
     "text": [
      "cofi 0.1.3.dev2\n",
      "seislib 0.6.10\n",
      "numpy 1.23.5\n"
     ]
    }
   ],
   "source": [
    "libraries_used = [\"cofi\", \"seislib\", \"numpy\"]\n",
    "for lib in libraries_used:\n",
    "    lib_var = __import__(lib)\n",
    "    print(lib, getattr(lib_var, \"__version__\"))"
   ]
  }
 ],
 "metadata": {
  "kernelspec": {
   "display_name": "Python 3 (ipykernel)",
   "language": "python",
   "name": "python3"
  },
  "language_info": {
   "codemirror_mode": {
    "name": "ipython",
    "version": 3
   },
   "file_extension": ".py",
   "mimetype": "text/x-python",
   "name": "python",
   "nbconvert_exporter": "python",
   "pygments_lexer": "ipython3",
   "version": "3.9.16"
  },
  "papermill": {
   "default_parameters": {},
   "duration": 14.284395,
   "end_time": "2023-04-13T07:30:13.706079",
   "environment_variables": {},
   "exception": null,
   "input_path": "/home/jiawen/cofi-examples/examples/sw_tomography/sw_tomography.ipynb",
   "output_path": "/home/jiawen/cofi-examples/examples/sw_tomography/sw_tomography.ipynb",
   "parameters": {},
   "start_time": "2023-04-13T07:29:59.421684",
   "version": "2.4.0"
  }
 },
 "nbformat": 4,
 "nbformat_minor": 5
}
