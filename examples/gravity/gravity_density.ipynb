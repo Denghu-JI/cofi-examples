{
 "cells": [
  {
   "cell_type": "markdown",
   "id": "23590778-855b-45f5-9c70-1956019515b3",
   "metadata": {
    "papermill": {
     "duration": 0.003174,
     "end_time": "2022-11-23T00:07:29.707591",
     "exception": false,
     "start_time": "2022-11-23T00:07:29.704417",
     "status": "completed"
    },
    "tags": []
   },
   "source": [
    "# Gravity Density Model"
   ]
  },
  {
   "cell_type": "markdown",
   "id": "6ef1da27-0b49-4a81-a59c-394166a9636d",
   "metadata": {
    "papermill": {
     "duration": 0.002265,
     "end_time": "2022-11-23T00:07:29.712408",
     "exception": false,
     "start_time": "2022-11-23T00:07:29.710143",
     "status": "completed"
    },
    "tags": []
   },
   "source": [
    "[![Open In Colab](https://img.shields.io/badge/open%20in-Colab-b5e2fa?logo=googlecolab&style=flat-square&color=ffd670)](https://colab.research.google.com/github/inlab-geo/cofi-examples/blob/main/examples/gravity/gravity_density.ipynb)"
   ]
  },
  {
   "cell_type": "markdown",
   "id": "8d0a1714-8465-4f7e-b6d0-8ac29c713e8d",
   "metadata": {
    "papermill": {
     "duration": 0.002214,
     "end_time": "2022-11-23T00:07:29.716892",
     "exception": false,
     "start_time": "2022-11-23T00:07:29.714678",
     "status": "completed"
    },
    "tags": []
   },
   "source": [
    "> If you are running this notebook locally, make sure you've followed [steps here](https://github.com/inlab-geo/cofi-examples#run-the-examples-with-cofi-locally)\n",
    "to set up the environment. (This [environment.yml](https://github.com/inlab-geo/cofi-examples/blob/main/envs/environment.yml) file\n",
    "specifies a list of packages required to run the notebooks)"
   ]
  },
  {
   "cell_type": "markdown",
   "id": "5665ddca-45ab-4ad9-86d6-2a89f0ae373e",
   "metadata": {
    "papermill": {
     "duration": 0.002246,
     "end_time": "2022-11-23T00:07:29.721376",
     "exception": false,
     "start_time": "2022-11-23T00:07:29.719130",
     "status": "completed"
    },
    "tags": []
   },
   "source": [
    "Adapted from [gravity forward code](https://github.com/inlab-geo/inversion-test-problems/blob/main/contrib/gravityforward/__init__.py) written in inversion-test-problems"
   ]
  },
  {
   "cell_type": "markdown",
   "id": "06b8735f-ef39-428f-b13b-d7c9cf8ac458",
   "metadata": {
    "papermill": {
     "duration": 0.054838,
     "end_time": "2022-11-23T00:07:29.778426",
     "exception": false,
     "start_time": "2022-11-23T00:07:29.723588",
     "status": "completed"
    },
    "tags": []
   },
   "source": [
    "---\n",
    "## 0. Import modules"
   ]
  },
  {
   "cell_type": "code",
   "execution_count": 1,
   "id": "f646724c-577b-4b13-a796-6c579ff052b3",
   "metadata": {
    "execution": {
     "iopub.execute_input": "2022-11-23T00:07:29.784183Z",
     "iopub.status.busy": "2022-11-23T00:07:29.783930Z",
     "iopub.status.idle": "2022-11-23T00:07:29.786814Z",
     "shell.execute_reply": "2022-11-23T00:07:29.786448Z"
    },
    "papermill": {
     "duration": 0.007033,
     "end_time": "2022-11-23T00:07:29.787798",
     "exception": false,
     "start_time": "2022-11-23T00:07:29.780765",
     "status": "completed"
    },
    "tags": []
   },
   "outputs": [],
   "source": [
    "# -------------------------------------------------------- #\n",
    "#                                                          #\n",
    "#     Uncomment below to set up environment on \"colab\"     #\n",
    "#                                                          #\n",
    "# -------------------------------------------------------- #\n",
    "\n",
    "# !pip install -U cofi"
   ]
  },
  {
   "cell_type": "code",
   "execution_count": 2,
   "id": "2fa1090b",
   "metadata": {
    "execution": {
     "iopub.execute_input": "2022-11-23T00:07:29.793504Z",
     "iopub.status.busy": "2022-11-23T00:07:29.793315Z",
     "iopub.status.idle": "2022-11-23T00:07:29.795329Z",
     "shell.execute_reply": "2022-11-23T00:07:29.794978Z"
    },
    "papermill": {
     "duration": 0.005886,
     "end_time": "2022-11-23T00:07:29.796196",
     "exception": false,
     "start_time": "2022-11-23T00:07:29.790310",
     "status": "completed"
    },
    "tags": []
   },
   "outputs": [],
   "source": [
    "# !git clone https://github.com/inlab-geo/cofi-examples.git\n",
    "# %cd cofi-examples/examples/gravity"
   ]
  },
  {
   "cell_type": "code",
   "execution_count": 3,
   "id": "fa709811-0441-42a6-b182-6291f28fece1",
   "metadata": {
    "execution": {
     "iopub.execute_input": "2022-11-23T00:07:29.801310Z",
     "iopub.status.busy": "2022-11-23T00:07:29.801140Z",
     "iopub.status.idle": "2022-11-23T00:07:30.313285Z",
     "shell.execute_reply": "2022-11-23T00:07:30.312868Z"
    },
    "papermill": {
     "duration": 0.516167,
     "end_time": "2022-11-23T00:07:30.314647",
     "exception": false,
     "start_time": "2022-11-23T00:07:29.798480",
     "status": "completed"
    },
    "tags": []
   },
   "outputs": [],
   "source": [
    "import numpy as np\n",
    "import matplotlib.pyplot as plt\n",
    "\n",
    "from cofi import BaseProblem, InversionOptions, Inversion\n",
    "\n",
    "from gravity_density_lib import *\n",
    "\n",
    "np.random.seed(42)"
   ]
  },
  {
   "cell_type": "markdown",
   "id": "9e559f26-fdbf-4a22-bae7-1534e8f34180",
   "metadata": {
    "papermill": {
     "duration": 0.002578,
     "end_time": "2022-11-23T00:07:30.320587",
     "exception": false,
     "start_time": "2022-11-23T00:07:30.318009",
     "status": "completed"
    },
    "tags": []
   },
   "source": [
    "---\n",
    "## 1. Define the problem\n",
    "\n",
    "<!-- I took out gx, gy for now to make it more straight forward. We can add all kinds of things once it is working.  -->\n",
    "\n",
    "This problem explores the gravitational acceleration of a three-dimensional density model onto specified receiver locations. In this example, \n",
    "only the z-component of the gravityational force \n",
    "is calculated. The underlying code itself is capable of calculating all three gravity components \n",
    "and six gradiometry components and could be modified quickly if there is the need. \n",
    "\n",
    "The gravitational acceleration is calculated using Newton's law of universal gravitation: \n",
    "\n",
    "$$\n",
    "    g (r) =- G \\frac{ m} {r^2} \n",
    "$$\n",
    "\n",
    "With G being the gravitational constant, r is the distance of the mass\n",
    "to the receiver and m is the overall mass of the model, which depends on the density $\\rho$ and the volume V:\n",
    "\n",
    "$$\n",
    "    m = \\int_V {\\rho(r) dV}\n",
    "$$\n",
    "\n",
    "Here, we solve volume integral for the vertical component of $g$ analytically, using the approach by Plouff et al., 1976:\n",
    "\n",
    "$$\n",
    "g_z(M,N)=G \\rho \\sum_{i=1}^2 \\sum_{j=1}^2 \\sum_{k=1}^2  (-1)^{i+j+k} [tan^{-1} \\frac{a_ib_j}{z_k R_{ijk}} - a_i ln(R_{ijk} + b_j) - b_j ln(R_{ijk} + a_i)]\n",
    "$$\n",
    "\n",
    "with $R_{ijk}=\\sqrt{a_i^2 + b_j^2 + z_k^2}$ and $a_i, b_j, z_k$ being the distances from receiver N to the \n",
    "nodes of the current prism M (i.e. grid cell) in x, y, and z directions. It is assumed that $\\rho=const.$ within each grid cell. \n",
    "For more information, please see the original paper: \n",
    "\n",
    "Plouff, D., 1976. *Gravity and magnetic fields of polygonal prisms and application to magnetic terrain corrections.* **Geophysics**, 41(4), pp.727-741\n",
    "\n",
    "For further reading, see also Nagy et al., 2000:\n",
    "\n",
    "Nagy, D., Papp, G. and Benedek, J., 2000. *The gravitational potential and its derivatives for the prism.* **Journal of Geodesy**, 74(7), pp.552-560\n",
    "\n",
    "**Example details:**\n",
    "\n",
    " 1. **Model:** Density values on a regularly spaced, rectangular grid. Example-model one is a 3D cube of low density (10 $kgm^{-3}$) containing a centrally located high-density cube (1000 $kgm^{-3}$). Example-model two repeats Figure 2 of Last and Kubik, 1983, which means a pseudo-2D model containing zero-density background cells and centrally high-density cells in the shape of a cross (1000 $kgm^{-3}$).\n",
    "\n",
    "    Last, B.J. and Kubik, K., 1983. *Compact gravity inversion.* **Geophysics**, 48(6), pp.713-721\n",
    "    \n",
    " 2. **Returned data:** Gravitational acceleration (vertical component).\n",
    "    \n",
    " 3. **Forward:**  The volume integral is solved analytically following the above described approach by Plouff et al., 1976.\n"
   ]
  },
  {
   "cell_type": "code",
   "execution_count": 4,
   "id": "36f2a425-6b60-49c9-b2b8-81428024db6e",
   "metadata": {
    "execution": {
     "iopub.execute_input": "2022-11-23T00:07:30.326697Z",
     "iopub.status.busy": "2022-11-23T00:07:30.326409Z",
     "iopub.status.idle": "2022-11-23T00:07:32.161175Z",
     "shell.execute_reply": "2022-11-23T00:07:32.160701Z"
    },
    "papermill": {
     "duration": 1.839021,
     "end_time": "2022-11-23T00:07:32.162116",
     "exception": false,
     "start_time": "2022-11-23T00:07:30.323095",
     "status": "completed"
    },
    "tags": []
   },
   "outputs": [
    {
     "name": "stdout",
     "output_type": "stream",
     "text": [
      "=====================================================================\n",
      "Summary for inversion problem: Gravity\n",
      "=====================================================================\n",
      "Model shape: (1728,)\n",
      "---------------------------------------------------------------------\n",
      "List of functions/properties set by you:\n",
      "['gradient', 'jacobian', 'regularization', 'regularization_factor', 'forward', 'data', 'initial_model', 'model_shape']\n",
      "---------------------------------------------------------------------\n",
      "List of functions/properties created based on what you have provided:\n",
      "['objective', 'residual', 'jacobian_times_vector', 'data_misfit']\n",
      "---------------------------------------------------------------------\n",
      "List of functions/properties that can be further set for the problem:\n",
      "( not all of these may be relevant to your inversion workflow )\n",
      "['objective', 'log_posterior', 'log_posterior_with_blobs', 'log_likelihood', 'log_prior', 'hessian', 'hessian_times_vector', 'residual', 'jacobian_times_vector', 'data_misfit', 'regularization_matrix', 'data_covariance', 'data_covariance_inv', 'walkers_starting_pos', 'blobs_dtype', 'bounds', 'constraints']\n"
     ]
    }
   ],
   "source": [
    "# Load true model and starting guesses\n",
    "rec_coords, _, _, z_nodes, model = load_gravity_model()\n",
    "Starting_model1, Starting_model2, Starting_model3 = load_starting_models()\n",
    "\n",
    "# Create \"observed\" data by adding noise to forward solution\n",
    "noise_level=0.05\n",
    "gz = forward(model)\n",
    "dataZ_obs= gz + np.random.normal(loc=0,scale=noise_level*np.max(np.abs(gz)),size=np.shape(gz))  \n",
    "\n",
    "# Create jacobian\n",
    "Jz = get_jacobian(model)\n",
    "\n",
    "# Define depth weighting values\n",
    "z0=18.6\n",
    "beta=2\n",
    "# Define regularization parameter\n",
    "epsilon=0.2\n",
    "\n",
    "# Create regularization\n",
    "# Calculate depth weighting fcn - high values at low z, low values at high z, no zeros.\n",
    "# Model is [Nx1] with N: no. of cells; W is [NxN] with weighting values on diagonal\n",
    "W=depth_weight(z_nodes[:,0],z0,beta)\n",
    "W=np.diag(W)\n",
    "\n",
    "# Set CoFI problem:\n",
    "grav_problem = BaseProblem()\n",
    "grav_problem.name = \"Gravity\"\n",
    "grav_problem.set_data(gz)\n",
    "\n",
    "# Here I linked the function, not the result\n",
    "grav_problem.set_forward(forward)\n",
    "\n",
    "# Here I linked to the actual jacobian. Jacobian size is (MxN) with M: receiver and N: model cells\n",
    "grav_problem.set_jacobian(Jz)\n",
    "\n",
    "# Set regularization; reg is a function that takes the model as input\n",
    "grav_problem.set_regularization(reg_l1, epsilon, args=[W])\n",
    "\n",
    "# Use default squared error misfit\n",
    "grav_problem.set_data_misfit(\"squared error\")\n",
    "grav_problem.set_initial_model(Starting_model3)\n",
    "\n",
    "# Set gradient, in hope of helping optimizers converge better\n",
    "def data_misfit_gradient(model):\n",
    "    return 2* Jz.T @ (forward(model) - gz) / gz.shape[0]\n",
    "grav_problem.set_gradient(lambda m: data_misfit_gradient(m) + epsilon*reg_gradient_l1(m, W))\n",
    "\n",
    "grav_problem.summary()"
   ]
  },
  {
   "cell_type": "markdown",
   "id": "fe42e416-5c46-44dc-9e9d-74fa44bbe69f",
   "metadata": {
    "papermill": {
     "duration": 0.002754,
     "end_time": "2022-11-23T00:07:32.168303",
     "exception": false,
     "start_time": "2022-11-23T00:07:32.165549",
     "status": "completed"
    },
    "tags": []
   },
   "source": [
    "---\n",
    "## 2. Define the inversion"
   ]
  },
  {
   "cell_type": "code",
   "execution_count": 5,
   "id": "37af001f-a783-4a67-8d61-355208e0aa71",
   "metadata": {
    "execution": {
     "iopub.execute_input": "2022-11-23T00:07:32.174216Z",
     "iopub.status.busy": "2022-11-23T00:07:32.173973Z",
     "iopub.status.idle": "2022-11-23T00:07:32.176987Z",
     "shell.execute_reply": "2022-11-23T00:07:32.176591Z"
    },
    "papermill": {
     "duration": 0.007169,
     "end_time": "2022-11-23T00:07:32.177917",
     "exception": false,
     "start_time": "2022-11-23T00:07:32.170748",
     "status": "completed"
    },
    "tags": []
   },
   "outputs": [
    {
     "name": "stdout",
     "output_type": "stream",
     "text": [
      "=============================\n",
      "Summary for inversion options\n",
      "=============================\n",
      "Solving method: None set\n",
      "Use `suggest_solving_methods()` to check available solving methods.\n",
      "-----------------------------\n",
      "Backend tool: `scipy.optimize.least_squares` - SciPy's non-linear least squares solver with bounds on variables, algorithms include 'trf' (default), 'dogbox', and 'lm'\n",
      "References: ['https://docs.scipy.org/doc/scipy/reference/generated/scipy.optimize.least_squares.html']\n",
      "Use `suggest_tools()` to check available backend tools.\n",
      "-----------------------------\n",
      "Solver-specific parameters: None set\n",
      "Use `suggest_solver_params()` to check required/optional solver-specific parameters.\n"
     ]
    }
   ],
   "source": [
    "inv_options = InversionOptions()\n",
    "inv_options.set_tool(\"scipy.optimize.least_squares\")\n",
    "\n",
    "inv_options.summary()"
   ]
  },
  {
   "cell_type": "markdown",
   "id": "20bc5918-af84-48cf-acb4-9ea7cf27434b",
   "metadata": {
    "papermill": {
     "duration": 0.00262,
     "end_time": "2022-11-23T00:07:32.183189",
     "exception": false,
     "start_time": "2022-11-23T00:07:32.180569",
     "status": "completed"
    },
    "tags": []
   },
   "source": [
    "---\n",
    "## 3. Start an inversion runner"
   ]
  },
  {
   "cell_type": "code",
   "execution_count": 6,
   "id": "818de5ad-814d-4241-ad03-db4f96efe17b",
   "metadata": {
    "execution": {
     "iopub.execute_input": "2022-11-23T00:07:32.189103Z",
     "iopub.status.busy": "2022-11-23T00:07:32.188890Z",
     "iopub.status.idle": "2022-11-23T00:07:32.246705Z",
     "shell.execute_reply": "2022-11-23T00:07:32.246306Z"
    },
    "papermill": {
     "duration": 0.062167,
     "end_time": "2022-11-23T00:07:32.247966",
     "exception": false,
     "start_time": "2022-11-23T00:07:32.185799",
     "status": "completed"
    },
    "tags": []
   },
   "outputs": [],
   "source": [
    "inv = Inversion(grav_problem, inv_options)\n",
    "# inv.summary()"
   ]
  },
  {
   "cell_type": "code",
   "execution_count": 7,
   "id": "acd1ef01-d9f8-4819-97d0-ff8572b2013c",
   "metadata": {
    "execution": {
     "iopub.execute_input": "2022-11-23T00:07:32.253596Z",
     "iopub.status.busy": "2022-11-23T00:07:32.253371Z",
     "iopub.status.idle": "2022-11-23T00:07:49.503474Z",
     "shell.execute_reply": "2022-11-23T00:07:49.502634Z"
    },
    "papermill": {
     "duration": 17.254634,
     "end_time": "2022-11-23T00:07:49.505004",
     "exception": false,
     "start_time": "2022-11-23T00:07:32.250370",
     "status": "completed"
    },
    "tags": []
   },
   "outputs": [
    {
     "name": "stdout",
     "output_type": "stream",
     "text": [
      "============================\n",
      "Summary for inversion result\n",
      "============================\n",
      "SUCCESS\n",
      "----------------------------\n",
      "cost: 0.0031260967846219786\n",
      "fun: [0.00021396 0.00024856 0.00028794 0.00033178 0.00037902 0.00042766\n",
      " 0.00047458 0.00051569 0.00054653 0.00056312 0.00056312 0.00054653\n",
      " 0.00051569 0.00047458 0.00042766 0.00037902 0.00033178 0.00028794\n",
      " 0.00024856 0.00021396 0.00024856 0.0002936  0.00034639 0.00040702\n",
      " 0.00047459 0.00054656 0.00061832 0.00068313 0.0007329  0.0007601\n",
      " 0.0007601  0.0007329  0.00068313 0.00061832 0.00054656 0.00047459\n",
      " 0.00040702 0.00034639 0.0002936  0.00024856 0.00028794 0.00034639\n",
      " 0.00041713 0.00050137 0.00059898 0.00070732 0.00081989 0.00092549\n",
      " 0.00100918 0.00105588 0.00105588 0.00100918 0.00092549 0.00081989\n",
      " 0.00070732 0.00059898 0.00050137 0.00041713 0.00034639 0.00028794\n",
      " 0.00033178 0.00040702 0.00050137 0.00061834 0.00076016 0.00092553\n",
      " 0.00110637 0.00128454 0.00143175 0.00151624 0.00151624 0.00143175\n",
      " 0.00128454 0.00110637 0.00092553 0.00076016 0.00061834 0.00050137\n",
      " 0.00040702 0.00033178 0.00037902 0.00047459 0.00059898 0.00076016\n",
      " 0.00096588 0.00122018 0.00151636 0.00182726 0.00209888 0.00226101\n",
      " 0.00226101 0.00209888 0.00182726 0.00151636 0.00122018 0.00096588\n",
      " 0.00076016 0.00059898 0.00047459 0.00037902 0.00042766 0.00054656\n",
      " 0.00070732 0.00092553 0.00122018 0.00160958 0.00209907 0.00265613\n",
      " 0.00318087 0.00351173 0.00351173 0.00318087 0.00265613 0.00209907\n",
      " 0.00160958 0.00122018 0.00092553 0.00070732 0.00054656 0.00042766\n",
      " 0.00047458 0.00061832 0.00081989 0.00110637 0.00151636 0.00209907\n",
      " 0.00289905 0.00390514 0.00495205 0.0056648  0.0056648  0.00495205\n",
      " 0.00390514 0.00289905 0.00209907 0.00151636 0.00110637 0.00081989\n",
      " 0.00061832 0.00047458 0.00051569 0.00068313 0.00092549 0.00128454\n",
      " 0.00182726 0.00265613 0.00390514 0.00566613 0.00773978 0.00930364\n",
      " 0.00930364 0.00773978 0.00566613 0.00390514 0.00265613 0.00182726\n",
      " 0.00128454 0.00092549 0.00068313 0.00051569 0.00054653 0.0007329\n",
      " 0.00100918 0.00143175 0.00209888 0.00318087 0.00495205 0.00773978\n",
      " 0.01147989 0.01464978 0.01464978 0.01147989 0.00773978 0.00495205\n",
      " 0.00318087 0.00209888 0.00143175 0.00100918 0.0007329  0.00054653\n",
      " 0.00056312 0.0007601  0.00105588 0.00151624 0.00226101 0.00351173\n",
      " 0.0056648  0.00930364 0.01464978 0.01958985 0.01958985 0.01464978\n",
      " 0.00930364 0.0056648  0.00351173 0.00226101 0.00151624 0.00105588\n",
      " 0.0007601  0.00056312 0.00056312 0.0007601  0.00105588 0.00151624\n",
      " 0.00226101 0.00351173 0.0056648  0.00930364 0.01464978 0.01958985\n",
      " 0.01958985 0.01464978 0.00930364 0.0056648  0.00351173 0.00226101\n",
      " 0.00151624 0.00105588 0.0007601  0.00056312 0.00054653 0.0007329\n",
      " 0.00100918 0.00143175 0.00209888 0.00318087 0.00495205 0.00773978\n",
      " 0.01147989 0.01464978 0.01464978 0.01147989 0.00773978 0.00495205\n",
      " 0.00318087 0.00209888 0.00143175 0.00100918 0.0007329  0.00054653\n",
      " 0.00051569 0.00068313 0.00092549 0.00128454 0.00182726 0.00265613\n",
      " 0.00390514 0.00566613 0.00773978 0.00930364 0.00930364 0.00773978\n",
      " 0.00566613 0.00390514 0.00265613 0.00182726 0.00128454 0.00092549\n",
      " 0.00068313 0.00051569 0.00047458 0.00061832 0.00081989 0.00110637\n",
      " 0.00151636 0.00209907 0.00289905 0.00390514 0.00495205 0.0056648\n",
      " 0.0056648  0.00495205 0.00390514 0.00289905 0.00209907 0.00151636\n",
      " 0.00110637 0.00081989 0.00061832 0.00047458 0.00042766 0.00054656\n",
      " 0.00070732 0.00092553 0.00122018 0.00160958 0.00209907 0.00265613\n",
      " 0.00318087 0.00351173 0.00351173 0.00318087 0.00265613 0.00209907\n",
      " 0.00160958 0.00122018 0.00092553 0.00070732 0.00054656 0.00042766\n",
      " 0.00037902 0.00047459 0.00059898 0.00076016 0.00096588 0.00122018\n",
      " 0.00151636 0.00182726 0.00209888 0.00226101 0.00226101 0.00209888\n",
      " 0.00182726 0.00151636 0.00122018 0.00096588 0.00076016 0.00059898\n",
      " 0.00047459 0.00037902 0.00033178 0.00040702 0.00050137 0.00061834\n",
      " 0.00076016 0.00092553 0.00110637 0.00128454 0.00143175 0.00151624\n",
      " 0.00151624 0.00143175 0.00128454 0.00110637 0.00092553 0.00076016\n",
      " 0.00061834 0.00050137 0.00040702 0.00033178 0.00028794 0.00034639\n",
      " 0.00041713 0.00050137 0.00059898 0.00070732 0.00081989 0.00092549\n",
      " 0.00100918 0.00105588 0.00105588 0.00100918 0.00092549 0.00081989\n",
      " 0.00070732 0.00059898 0.00050137 0.00041713 0.00034639 0.00028794\n",
      " 0.00024856 0.0002936  0.00034639 0.00040702 0.00047459 0.00054656\n",
      " 0.00061832 0.00068313 0.0007329  0.0007601  0.0007601  0.0007329\n",
      " 0.00068313 0.00061832 0.00054656 0.00047459 0.00040702 0.00034639\n",
      " 0.0002936  0.00024856 0.00021396 0.00024856 0.00028794 0.00033178\n",
      " 0.00037902 0.00042766 0.00047458 0.00051569 0.00054653 0.00056312\n",
      " 0.00056312 0.00054653 0.00051569 0.00047458 0.00042766 0.00037902\n",
      " 0.00033178 0.00028794 0.00024856 0.00021396]\n",
      "jac: [[-1.75321219e+01 -3.38411200e-01 -3.06869858e-01 ... -1.73057631e-03\n",
      "  -1.66588458e-03 -5.48007057e-02]\n",
      " [-1.68840552e+01 -3.24685932e-01 -2.94388644e-01 ... -1.92104264e-03\n",
      "  -1.84266060e-03 -5.75902632e-02]\n",
      " [-1.61228746e+01 -3.08996389e-01 -2.80242344e-01 ... -2.13787381e-03\n",
      "  -2.04259707e-03 -6.05661091e-02]\n",
      " ...\n",
      " [-1.31905803e+00 -4.10155567e-02 -4.26471666e-02 ... -2.42634168e-02\n",
      "  -2.92647846e-02 -3.04424095e+01]\n",
      " [-1.25879932e+00 -3.73995693e-02 -3.87733352e-02 ... -2.54841065e-02\n",
      "  -3.07072725e-02 -3.05477128e+01]\n",
      " [-1.20184620e+00 -3.41459142e-02 -3.53042231e-02 ... -2.64905418e-02\n",
      "  -3.18717157e-02 -3.06185272e+01]]\n",
      "grad: [-3.9256728  -0.20363257 -0.20903043 ... -0.18722546 -0.26295396\n",
      " -1.38416382]\n",
      "optimality: 3.9256727958393567\n",
      "active_mask: [0. 0. 0. ... 0. 0. 0.]\n",
      "nfev: 16\n",
      "njev: 16\n",
      "status: 3\n",
      "message: `xtol` termination condition is satisfied.\n",
      "model: [ 0.01535233  0.02008624  0.01629606 ...  0.0003716  -0.00419137\n",
      " -0.00445244]\n"
     ]
    }
   ],
   "source": [
    "inv_result = inv.run()\n",
    "inv_result.summary()"
   ]
  },
  {
   "cell_type": "markdown",
   "id": "19a177b0",
   "metadata": {
    "papermill": {
     "duration": 0.024033,
     "end_time": "2022-11-23T00:07:49.577156",
     "exception": false,
     "start_time": "2022-11-23T00:07:49.553123",
     "status": "completed"
    },
    "tags": []
   },
   "source": [
    "Let's see the density image from a vertical plane:"
   ]
  },
  {
   "cell_type": "code",
   "execution_count": 8,
   "id": "6fdae333-f5ca-4df6-bf80-981953b1393e",
   "metadata": {
    "execution": {
     "iopub.execute_input": "2022-11-23T00:07:49.609805Z",
     "iopub.status.busy": "2022-11-23T00:07:49.609458Z",
     "iopub.status.idle": "2022-11-23T00:07:49.813075Z",
     "shell.execute_reply": "2022-11-23T00:07:49.812644Z"
    },
    "papermill": {
     "duration": 0.210825,
     "end_time": "2022-11-23T00:07:49.813990",
     "exception": false,
     "start_time": "2022-11-23T00:07:49.603165",
     "status": "completed"
    },
    "tags": []
   },
   "outputs": [
    {
     "data": {
      "image/png": "[encoded data removed]",
      "text/plain": [
       "<Figure size 640x480 with 2 Axes>"
      ]
     },
     "metadata": {},
     "output_type": "display_data"
    }
   ],
   "source": [
    "result_model = inv_result.model.reshape(12,12,12)\n",
    "\n",
    "plt.imshow(result_model[::-1,6,:])\n",
    "plt.colorbar();"
   ]
  },
  {
   "cell_type": "markdown",
   "id": "68fc3955",
   "metadata": {
    "papermill": {
     "duration": 0.002873,
     "end_time": "2022-11-23T00:07:49.819788",
     "exception": false,
     "start_time": "2022-11-23T00:07:49.816915",
     "status": "completed"
    },
    "tags": []
   },
   "source": [
    "From a different angle:"
   ]
  },
  {
   "cell_type": "code",
   "execution_count": 9,
   "id": "88611123",
   "metadata": {
    "execution": {
     "iopub.execute_input": "2022-11-23T00:07:49.852633Z",
     "iopub.status.busy": "2022-11-23T00:07:49.852407Z",
     "iopub.status.idle": "2022-11-23T00:07:50.004549Z",
     "shell.execute_reply": "2022-11-23T00:07:50.004113Z"
    },
    "papermill": {
     "duration": 0.156422,
     "end_time": "2022-11-23T00:07:50.005555",
     "exception": false,
     "start_time": "2022-11-23T00:07:49.849133",
     "status": "completed"
    },
    "tags": []
   },
   "outputs": [
    {
     "data": {
      "image/png": "[encoded data removed]",
      "text/plain": [
       "<Figure size 640x480 with 2 Axes>"
      ]
     },
     "metadata": {},
     "output_type": "display_data"
    }
   ],
   "source": [
    "plt.imshow(result_model[6,:,:])\n",
    "plt.colorbar();"
   ]
  },
  {
   "cell_type": "markdown",
   "id": "ac8657c1-ed34-4333-9e25-b068b97f6827",
   "metadata": {
    "papermill": {
     "duration": 0.003123,
     "end_time": "2022-11-23T00:07:50.012227",
     "exception": false,
     "start_time": "2022-11-23T00:07:50.009104",
     "status": "completed"
    },
    "tags": []
   },
   "source": [
    "---\n",
    "\n",
    "## Watermark"
   ]
  },
  {
   "cell_type": "code",
   "execution_count": 10,
   "id": "70442cc4",
   "metadata": {
    "execution": {
     "iopub.execute_input": "2022-11-23T00:07:50.032271Z",
     "iopub.status.busy": "2022-11-23T00:07:50.032023Z",
     "iopub.status.idle": "2022-11-23T00:07:50.398694Z",
     "shell.execute_reply": "2022-11-23T00:07:50.398274Z"
    },
    "papermill": {
     "duration": 0.375888,
     "end_time": "2022-11-23T00:07:50.399589",
     "exception": false,
     "start_time": "2022-11-23T00:07:50.023701",
     "status": "completed"
    },
    "tags": []
   },
   "outputs": [
    {
     "name": "stdout",
     "output_type": "stream",
     "text": [
      "cofi 0.1.2.dev22\n",
      "numpy 1.21.6\n",
      "scipy 1.9.1\n",
      "matplotlib 3.5.3\n",
      "emcee 3.1.2\n",
      "arviz 0.12.1\n"
     ]
    }
   ],
   "source": [
    "watermark_list = [\"cofi\", \"numpy\", \"scipy\", \"matplotlib\", \"emcee\", \"arviz\"]\n",
    "for pkg in watermark_list:\n",
    "    pkg_var = __import__(pkg)\n",
    "    print(pkg, getattr(pkg_var, \"__version__\"))"
   ]
  }
 ],
 "metadata": {
  "interpreter": {
   "hash": "82521f8c6d46dbe13b9e99c6a95164e7b000b3cca9173433679abe48ca711ce5"
  },
  "kernelspec": {
   "display_name": "Python 3 (ipykernel)",
   "language": "python",
   "name": "python3"
  },
  "language_info": {
   "codemirror_mode": {
    "name": "ipython",
    "version": 3
   },
   "file_extension": ".py",
   "mimetype": "text/x-python",
   "name": "python",
   "nbconvert_exporter": "python",
   "pygments_lexer": "ipython3",
   "version": "3.10.6"
  },
  "papermill": {
   "default_parameters": {},
   "duration": 21.715423,
   "end_time": "2022-11-23T00:07:50.718445",
   "environment_variables": {},
   "exception": null,
   "input_path": "/home/jiawen/cofi/docs/source/cofi-examples/examples/gravity/gravity_density.ipynb",
   "output_path": "/home/jiawen/cofi/docs/source/cofi-examples/examples/gravity/gravity_density.ipynb",
   "parameters": {},
   "start_time": "2022-11-23T00:07:29.003022",
   "version": "2.3.4"
  }
 },
 "nbformat": 4,
 "nbformat_minor": 5
}
