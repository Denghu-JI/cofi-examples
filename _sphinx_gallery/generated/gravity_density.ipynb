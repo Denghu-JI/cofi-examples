{
  "cells": [
    {
      "cell_type": "code",
      "execution_count": null,
      "metadata": {
        "collapsed": false
      },
      "outputs": [],
      "source": [
        "%matplotlib inline"
      ]
    },
    {
      "cell_type": "markdown",
      "metadata": {},
      "source": [
        "# Gravity Density Model\n"
      ]
    },
    {
      "cell_type": "markdown",
      "metadata": {},
      "source": [
        "```{=html}\n<badge><a href=\"https://colab.research.google.com/github/inlab-geo/cofi-examples/blob/main/notebooks/gravity/gravity_density.ipynb\" target=\"_parent\"><img src=\"https://colab.research.google.com/assets/colab-badge.svg\" alt=\"Open In Colab\"/></a></badge>\n```\n"
      ]
    },
    {
      "cell_type": "markdown",
      "metadata": {},
      "source": [
        "If you are running this notebook locally, make sure you've followed\n[steps\nhere](https://github.com/inlab-geo/cofi-examples#run-the-examples-with-cofi-locally)\nto set up the environment. (This\n[environment.yml](https://github.com/inlab-geo/cofi-examples/blob/main/environment.yml)\nfile specifies a list of packages required to run the notebooks)\n"
      ]
    },
    {
      "cell_type": "markdown",
      "metadata": {},
      "source": [
        "Adapted from [gravity forward\ncode](https://github.com/inlab-geo/inversion-test-problems/blob/main/contrib/gravityforward/__init__.py)\nwritten in inversion-test-problems\n"
      ]
    },
    {
      "cell_type": "markdown",
      "metadata": {},
      "source": [
        "------------------------------------------------------------------------\n\n# 0. Import modules\n"
      ]
    },
    {
      "cell_type": "code",
      "execution_count": null,
      "metadata": {
        "collapsed": false
      },
      "outputs": [],
      "source": [
        "# -------------------------------------------------------- #\n#                                                          #\n#     Uncomment below to set up environment on \"colab\"     #\n#                                                          #\n# -------------------------------------------------------- #\n\n# !pip install -U cofi"
      ]
    },
    {
      "cell_type": "code",
      "execution_count": null,
      "metadata": {
        "collapsed": false
      },
      "outputs": [],
      "source": [
        "import numpy as np\nimport matplotlib.pyplot as plt\n\nfrom cofi import BaseProblem, InversionOptions, Inversion\n\nfrom gravity_density_lib import *\n\nnp.random.seed(42)"
      ]
    },
    {
      "cell_type": "markdown",
      "metadata": {},
      "source": [
        "------------------------------------------------------------------------\n\n# 1. Define the problem\n\n```{=html}\n<!-- I took out gx, gy for now to make it more straight forward. We can add all kinds of things once it is working.  -->\n```\n"
      ]
    },
    {
      "cell_type": "code",
      "execution_count": null,
      "metadata": {
        "collapsed": false
      },
      "outputs": [],
      "source": [
        "# Load true model and starting guesses\nrec_coords, _, _, z_nodes, model = load_gravity_model()\nStarting_model1, Starting_model2, Starting_model3 = load_starting_models()\n\n# Create \"observed\" data by adding noise to forward solution\nnoise_level=0.05\ngz = forward(model)\ndataZ_obs= gz + np.random.normal(loc=0,scale=noise_level*np.max(np.abs(gz)),size=np.shape(gz))  \n\n# Create jacobian\nJz = get_jacobian(model)\n\n# Define depth weighting values\nz0=18.6\nbeta=2\n# Define regularization parameter\nepsilon=0.2\n\n# Create regularization\n# Calculate depth weighting fcn - high values at low z, low values at high z, no zeros.\n# Model is [Nx1] with N: no. of cells; W is [NxN] with weighting values on diagonal\nW=depth_weight(z_nodes[:,0],z0,beta)\nW=np.diag(W)\n\n# Set CoFI problem:\ngrav_problem = BaseProblem()\ngrav_problem.name = \"Gravity\"\ngrav_problem.set_data(gz)\n\n# Here I linked the function, not the result\ngrav_problem.set_forward(forward)\n\n# Here I linked to the actual jacobian. Jacobian size is (MxN) with M: receiver and N: model cells\ngrav_problem.set_jacobian(Jz)\n\n# Set regularization; reg is a function that takes the model as input\ngrav_problem.set_regularisation(reg_l1, epsilon)\n\n# Use default L2 misfit\ngrav_problem.set_data_misfit(\"L2\")\ngrav_problem.set_initial_model(Starting_model3)\n\n# Set gradient, in hope of helping optimisers converge better\ndef data_misfit_gradient(model):\n    return 2* Jz.T @ (forward(model) - gz) / gz.shape[0]\ngrav_problem.set_gradient(lambda m: data_misfit_gradient(m) + epsilon*reg_gradient_l1(m))\n\ngrav_problem.summary()"
      ]
    },
    {
      "cell_type": "markdown",
      "metadata": {},
      "source": [
        "------------------------------------------------------------------------\n\n# 2. Define the inversion\n"
      ]
    },
    {
      "cell_type": "code",
      "execution_count": null,
      "metadata": {
        "collapsed": false
      },
      "outputs": [],
      "source": [
        "inv_options = InversionOptions()\ninv_options.set_tool(\"scipy.optimize.least_squares\")\n\ninv_options.summary()"
      ]
    },
    {
      "cell_type": "markdown",
      "metadata": {},
      "source": [
        "------------------------------------------------------------------------\n\n# 3. Start an inversion runner\n"
      ]
    },
    {
      "cell_type": "code",
      "execution_count": null,
      "metadata": {
        "collapsed": false
      },
      "outputs": [],
      "source": [
        "inv = Inversion(grav_problem, inv_options)\n# inv.summary()"
      ]
    },
    {
      "cell_type": "code",
      "execution_count": null,
      "metadata": {
        "collapsed": false
      },
      "outputs": [],
      "source": [
        "inv_result = inv.run()\ninv_result.summary()"
      ]
    },
    {
      "cell_type": "markdown",
      "metadata": {},
      "source": [
        "Let's see the density image from a vertical plane:\n"
      ]
    },
    {
      "cell_type": "code",
      "execution_count": null,
      "metadata": {
        "collapsed": false
      },
      "outputs": [],
      "source": [
        "result_model = inv_result.model.reshape(12,12,12)\n\nplt.imshow(result_model[::-1,6,:])\nplt.colorbar();"
      ]
    },
    {
      "cell_type": "markdown",
      "metadata": {},
      "source": [
        "From a different angle:\n"
      ]
    },
    {
      "cell_type": "code",
      "execution_count": null,
      "metadata": {
        "collapsed": false
      },
      "outputs": [],
      "source": [
        "plt.imshow(result_model[6,:,:])\nplt.colorbar();"
      ]
    },
    {
      "cell_type": "markdown",
      "metadata": {},
      "source": [
        "------------------------------------------------------------------------\n\n# Watermark\n"
      ]
    },
    {
      "cell_type": "code",
      "execution_count": null,
      "metadata": {
        "collapsed": false
      },
      "outputs": [],
      "source": [
        "watermark_list = [\"cofi\", \"numpy\", \"scipy\", \"matplotlib\", \"emcee\", \"arviz\"]\nfor pkg in watermark_list:\n    pkg_var = __import__(pkg)\n    print(pkg, getattr(pkg_var, \"__version__\"))"
      ]
    }
  ],
  "metadata": {
    "kernelspec": {
      "display_name": "Python 3",
      "language": "python",
      "name": "python3"
    },
    "language_info": {
      "codemirror_mode": {
        "name": "ipython",
        "version": 3
      },
      "file_extension": ".py",
      "mimetype": "text/x-python",
      "name": "python",
      "nbconvert_exporter": "python",
      "pygments_lexer": "ipython3",
      "version": "3.10.5"
    }
  },
  "nbformat": 4,
  "nbformat_minor": 0
}