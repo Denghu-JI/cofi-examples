{
  "cells": [
    {
      "cell_type": "code",
      "execution_count": null,
      "metadata": {
        "collapsed": false
      },
      "outputs": [],
      "source": [
        "%matplotlib inline"
      ]
    },
    {
      "cell_type": "markdown",
      "metadata": {},
      "source": [
        "# PyGIMLi - Complex valued ERT\n\nUsing the ERT solver implemented provided by\n[PyGIMLi](https://www.pygimli.org/), we use different `cofi` solvers to\nsolve the corresponding inverse problem.\n\n```{=html}\n<!-- Please leave the cell below as it is -->\n```\n"
      ]
    },
    {
      "cell_type": "markdown",
      "metadata": {},
      "source": [
        "```{=html}\n<badge><a href=\"https://colab.research.google.com/github/inlab-geo/cofi-examples/blob/main/notebooks/pygimli_dcip/pygimli_dcip.ipynb\" target=\"_parent\"><img src=\"https://colab.research.google.com/assets/colab-badge.svg\" alt=\"Open In Colab\"/></a></badge>\n```\n"
      ]
    },
    {
      "cell_type": "markdown",
      "metadata": {},
      "source": [
        "```{=html}\n<!-- Again, please don't touch the markdown cell above. We'll generate badge \n     automatically from the above cell. -->\n```\n```{=html}\n<!-- This cell describes things related to environment setup, so please add more text \n     if something special (not listed below) is needed to run this notebook -->\n```\n> If you are running this notebook locally, make sure you've followed\n> [steps\n> here](https://github.com/inlab-geo/cofi-examples#run-the-examples-with-cofi-locally)\n> to set up the environment. (This\n> [environment.yml](https://github.com/inlab-geo/cofi-examples/blob/main/environment.yml)\n> file specifies a list of packages required to run the notebooks)\n"
      ]
    },
    {
      "cell_type": "markdown",
      "metadata": {},
      "source": [
        "# 0. Import modules\n"
      ]
    },
    {
      "cell_type": "code",
      "execution_count": null,
      "metadata": {
        "collapsed": false
      },
      "outputs": [],
      "source": [
        "# -------------------------------------------------------- #\n#                                                          #\n#     Uncomment below to set up environment on \"colab\"     #\n#                                                          #\n# -------------------------------------------------------- #\n\n# !pip install -U cofi\n\n# !MINICONDA_INSTALLER_SCRIPT=Miniconda3-4.5.4-Linux-x86_64.sh\n# !MINICONDA_PREFIX=/usr/local\n# !wget https://repo.continuum.io/miniconda/$MINICONDA_INSTALLER_SCRIPT\n# !chmod +x $MINICONDA_INSTALLER_SCRIPT\n# !./$MINICONDA_INSTALLER_SCRIPT -b -f -p $MINICONDA_PREFIX\n# !conda install -c gimli pygimli -y\n\n# import sys\n# _ = (sys.path.append(\"/usr/local/lib/python3.7/site-packages\"))"
      ]
    },
    {
      "cell_type": "markdown",
      "metadata": {},
      "source": [
        "We will need the following packages:\n\n-   `numpy` for matrices and matrix-related functions\n-   `matplotlib` for plotting\n-   `pygimli` for forward modelling of the problem\n-   `cofi` for accessing different inference solvers\n\nAdditionally, we wrap some `pygimli` code in file `pygimli_dcip_lib.py`\nand import it here for conciseness.\n"
      ]
    },
    {
      "cell_type": "code",
      "execution_count": null,
      "metadata": {
        "collapsed": false
      },
      "outputs": [],
      "source": [
        "import numpy as np\nimport matplotlib.pyplot as plt\n\nfrom cofi import BaseProblem, InversionOptions, Inversion\n\nfrom pygimli_dcip_lib import *\n\nnp.random.seed(42)"
      ]
    },
    {
      "cell_type": "markdown",
      "metadata": {},
      "source": [
        "# 1. Define the problem\n\nWe first define the true model, the survey and map it on a computational\nmesh designed for the survey and true anomaly.\n"
      ]
    },
    {
      "cell_type": "code",
      "execution_count": null,
      "metadata": {
        "collapsed": false
      },
      "outputs": [],
      "source": [
        "# PyGIMLi - define measuring scheme, geometry, forward mesh and true model\nscheme = scheme_fwd()\ngeometry = geometry_true()\nfmesh = mesh_fwd(scheme, geometry)\nrhomap = markers_to_resistivity()\nmodel_true = model_vec(rhomap, fmesh)\n\n# plot the compuational mesh and the true model\nax=pygimli.show(fmesh)\nax[0].set_title(\"Computational Mesh\")\nax=pygimli.show(fmesh, data=np.abs(model_true), label=r\"$\\Omega m$\")\nax[0].set_title(\"Resitivity\")\nax=pygimli.show(fmesh, data=np.arctan2(np.imag(model_true), np.real(model_true)) * 1000,label=r\"mrad\",)\nax[0].set_title(\"Chargeability\")"
      ]
    },
    {
      "cell_type": "markdown",
      "metadata": {},
      "source": [
        "Generate the synthetic data as a container with all the necessary\ninformation for plotting.\n"
      ]
    },
    {
      "cell_type": "code",
      "execution_count": null,
      "metadata": {
        "collapsed": false
      },
      "outputs": [],
      "source": [
        "# PyGIMLi - generate data\nsurvey = ert.simulate(fmesh, res=rhomap, scheme=scheme)\n\ny_obs = survey['rhoa'].array() * np.exp(1j * survey['phia'].array())\n\nax=ert.showERTData(survey, vals=np.real(y_obs),label=r\"$\\Omega$m\")\nax[0].set_title(\"Aparent Resitivity\")\nax=ert.showERTData(survey, vals=np.arctan2(np.imag(y_obs), np.real(y_obs)) * 1000, label=r\"mrad\")\nax[0].set_title(\"Aparent Chargeability\");"
      ]
    },
    {
      "cell_type": "markdown",
      "metadata": {},
      "source": [
        "The inversion can use a different mesh and the mesh to be used should\nknow nothing about the mesh that was designed based on the true model.\nWe wrap two kinds of mesh as examples in the library code\n`pygimli_dcip_lib.py`, namely triangular and rectangular mesh.\n\nUse `imesh_tri = mesh_inv_triangular(scheme)` to initialise a triangular\nmesh, with the following optional arguments and corresponding default\nvalues:\n\n-   `start=[-15, 0]`\n-   `end=[65, -30]`\n\nUse `imesh_rect = mesh_inv_rectangular()` to initislise a rectangular\nmesh, with the following optional arguments and corresponding default\nvalues:\n\n-   `x_start=-15`\n-   `x_stop=60`\n-   `x_num=11`\n-   `y_start=-30`\n-   `y_stop=0`\n-   `y_num=5`\n\nHere we first demonstrate how to use a *triangular mesh*. Note that this\nmakes the inversion problem under-determined.\n"
      ]
    },
    {
      "cell_type": "code",
      "execution_count": null,
      "metadata": {
        "collapsed": false
      },
      "outputs": [],
      "source": [
        "# PyGIMLi - quick demo of triangular mesh\nimesh_tri = mesh_inv_triangular(scheme)\n\nax=pygimli.show(imesh_tri)\nax[0].set_title(\"Inversion Mesh (triangular)\");"
      ]
    },
    {
      "cell_type": "markdown",
      "metadata": {},
      "source": [
        "Check\n[here](https://github.com/inlab-geo/cofi-examples/tree/main/notebooks/pygimli_dcip)\nfor inversion examples using triangular mesh.\n\nFor the purpose of this notebook, we use a *rectangular mesh* for a\nsimple demonstration.\n"
      ]
    },
    {
      "cell_type": "code",
      "execution_count": null,
      "metadata": {
        "collapsed": false
      },
      "outputs": [],
      "source": [
        "# PyGIMLi - create mesh for inversion\nimesh = mesh_inv_rectangular()\nax = pygimli.show(imesh)\nax[0].set_title(\"Inversion Mesh (rectangular)\");"
      ]
    },
    {
      "cell_type": "markdown",
      "metadata": {},
      "source": [
        "With the inversion mesh created, we now define a starting model, forward\noperator and weighting matrix for regularisation using PyGIMLi.\n"
      ]
    },
    {
      "cell_type": "code",
      "execution_count": null,
      "metadata": {
        "collapsed": false
      },
      "outputs": [],
      "source": [
        "# PyGIMLi - define the starting model on the inversion mesh\nmodel_0 = starting_model(imesh)\n\n# PyGIMLi - set up a forward operator with the inversion mesh\nforward_operator = forward_oprt(scheme, imesh)\n\n# PyGIMLi - extract the regularisation weighting matrix\nWm = weighting_matrix(forward_operator, imesh)"
      ]
    },
    {
      "cell_type": "markdown",
      "metadata": {},
      "source": [
        "CoFI and other inference packages require a set of functions that\nprovide the misfit, the jacobian the residual within the case of scipy\nstandardised interfaces. All these functions are defined in the library\nfile `pygimli_ert_lib.py`, so open this file if you'd like to find out\nthe details. These functions are:\n\n-   `get_response`\n-   `get_jacobian`\n-   `get_residuals`\n-   `get_misfit`\n-   `get_regularisation`\n-   `get_gradient`\n-   `get_hessian`\n"
      ]
    },
    {
      "cell_type": "markdown",
      "metadata": {},
      "source": [
        "With all the above forward operations set up with PyGIMLi, we now define\nthe problem in `cofi` by setting the problem information for a\n`BaseProblem` object.\n"
      ]
    },
    {
      "cell_type": "code",
      "execution_count": null,
      "metadata": {
        "collapsed": false
      },
      "outputs": [],
      "source": [
        "# hyperparameters\nlamda = 1\n\n# cofi problem definition\nert_problem = BaseProblem()\nert_problem.name = \"Complex valued ERT defined through PyGIMLi\"\nert_problem.set_forward(get_response, args=[forward_operator])\nert_problem.set_jacobian(get_jacobian, args=[forward_operator])\nert_problem.set_residual(get_residuals, args=[y_obs, forward_operator])\nert_problem.set_data_misfit(get_misfit, args=[y_obs, forward_operator, True])\nert_problem.set_regularisation(get_regularisation, lamda=lamda, args=[Wm, True])\nert_problem.set_gradient(get_gradient, args=[y_obs, forward_operator, lamda, Wm])\nert_problem.set_hessian(get_hessian, args=[y_obs, forward_operator, lamda, Wm])\nert_problem.set_initial_model(model_0)"
      ]
    },
    {
      "cell_type": "markdown",
      "metadata": {},
      "source": [
        "Review what information is included in the `BaseProblem` object:\n"
      ]
    },
    {
      "cell_type": "code",
      "execution_count": null,
      "metadata": {
        "collapsed": false
      },
      "outputs": [],
      "source": [
        "ert_problem.summary()"
      ]
    },
    {
      "cell_type": "markdown",
      "metadata": {},
      "source": [
        "# 2. Define the inversion options\n\nAs what\n[pygimli_ert.ipynb](https://github.com/inlab-geo/cofi-examples/blob/main/notebooks/pygimli_ert/pygimli_ert.ipynb)\nexample does, we use a Newton's iterative approach written by ourselves,\nso you'll have a closer look at what's happening in the loop.\n\nFirst of all, define our own solver.\n"
      ]
    },
    {
      "cell_type": "code",
      "execution_count": null,
      "metadata": {
        "collapsed": false
      },
      "outputs": [],
      "source": [
        "from cofi.solvers import BaseSolver\n\nclass MyNewtonSolver(BaseSolver):\n    def __init__(self, inv_problem, inv_options):\n        __params = inv_options.get_params()\n        self._niter = __params[\"niter\"]\n        self._step = __params[\"step\"]\n        self._verbose = __params[\"verbose\"]\n        self._model_0 = inv_problem.initial_model\n        self._gradient = inv_problem.gradient\n        self._hessian = inv_problem.hessian\n        self._misfit = inv_problem.data_misfit if inv_problem.data_misfit_defined else None\n        self._reg = inv_problem.regularisation if inv_problem.regularisation_defined else None\n        self._obj = inv_problem.objective if inv_problem.objective_defined else None\n        \n    def __call__(self):\n        current_model = np.array(self._model_0)\n        for i in range(self._niter):\n            term1 = self._hessian(current_model)\n            term2 = - self._gradient(current_model)\n            model_update = np.linalg.solve(term1, term2)\n            current_model = np.array(current_model + self._step * model_update)\n            if self._verbose:\n                print(\"-\" * 80)\n                print(f\"Iteration {i+1}\")\n                if self._misfit: self._misfit(current_model)\n                if self._reg: self._reg(current_model)\n                # if self._obj: print(\"objective func:\", self._obj(current_model))\n        return {\"model\": current_model, \"success\": True}"
      ]
    },
    {
      "cell_type": "markdown",
      "metadata": {},
      "source": [
        "Now, make use of this custom solver to define inversion options.\n"
      ]
    },
    {
      "cell_type": "code",
      "execution_count": null,
      "metadata": {
        "collapsed": false
      },
      "outputs": [],
      "source": [
        "inv_options_own_solver = InversionOptions()\ninv_options_own_solver.set_tool(MyNewtonSolver)\ninv_options_own_solver.set_params(niter=20, step=1, verbose=True)"
      ]
    },
    {
      "cell_type": "markdown",
      "metadata": {},
      "source": [
        "Review what's been defined for the inversion we are about to run:\n"
      ]
    },
    {
      "cell_type": "code",
      "execution_count": null,
      "metadata": {
        "collapsed": false
      },
      "outputs": [],
      "source": [
        "inv_options_own_solver.summary()"
      ]
    },
    {
      "cell_type": "markdown",
      "metadata": {},
      "source": [
        "# 3. Start an inversion\n"
      ]
    },
    {
      "cell_type": "code",
      "execution_count": null,
      "metadata": {
        "collapsed": false
      },
      "outputs": [],
      "source": [
        "inv_own_solver = Inversion(ert_problem, inv_options_own_solver)\ninv_own_solver_res = inv_own_solver.run()\ninv_own_solver_res.summary()"
      ]
    },
    {
      "cell_type": "markdown",
      "metadata": {},
      "source": [
        "# 4. Plotting\n"
      ]
    },
    {
      "cell_type": "code",
      "execution_count": null,
      "metadata": {
        "collapsed": false
      },
      "outputs": [],
      "source": [
        "ax=pygimli.show(\n    fmesh,\n    data=np.log(np.abs(model_true)),\n    label=r\"$\\Omega m$\"\n)\nax[0].set_title(\"True model\")\n\nax=pygimli.show(\n    fmesh,\n    data=np.arctan2(np.imag(model_true), np.real(model_true)) * 1000,\n    label=r\"mrad\"\n)\nax[0].set_title(\"True model\")\n\nax=pygimli.show(\n    imesh,\n    data=(model_0.real),\n    label=r\"$\\Omega m$\"\n)\nax[0].set_title(\"Starting model\")\n\nax=pygimli.show(\n    imesh,\n    data=np.arctan2(np.imag(model_0), np.real(model_0)) * 1000,\n    label=r\"mrad\"\n)\nax[0].set_title(\"Starting model\")\n\nax=pygimli.show(\n    imesh,\n    data=(inv_own_solver_res.model.real),\n    label=r\"$\\Omega m$\"\n)\nax[0].set_title(\"Inferred model\")\n\nax=pygimli.show(\n    imesh,\n    data=np.arctan2(np.imag(inv_own_solver_res.model), np.real(inv_own_solver_res.model)) * 1000,\n    label=r\"mrad\"\n)\nax[0].set_title(\"Inferred model\")"
      ]
    },
    {
      "cell_type": "markdown",
      "metadata": {},
      "source": [
        "------------------------------------------------------------------------\n\n# Watermark\n\n```{=html}\n<!-- Feel free to add more modules in the watermark_list below, if more packages are used -->\n```\n```{=html}\n<!-- Otherwise please leave the below code cell unchanged -->\n```\n"
      ]
    },
    {
      "cell_type": "code",
      "execution_count": null,
      "metadata": {
        "collapsed": false
      },
      "outputs": [],
      "source": [
        "watermark_list = [\"cofi\", \"numpy\", \"scipy\", \"pygimli\", \"matplotlib\"]\nfor pkg in watermark_list:\n    pkg_var = __import__(pkg)\n    print(pkg, getattr(pkg_var, \"__version__\"))"
      ]
    }
  ],
  "metadata": {
    "kernelspec": {
      "display_name": "Python 3",
      "language": "python",
      "name": "python3"
    },
    "language_info": {
      "codemirror_mode": {
        "name": "ipython",
        "version": 3
      },
      "file_extension": ".py",
      "mimetype": "text/x-python",
      "name": "python",
      "nbconvert_exporter": "python",
      "pygments_lexer": "ipython3",
      "version": "3.10.5"
    }
  },
  "nbformat": 4,
  "nbformat_minor": 0
}