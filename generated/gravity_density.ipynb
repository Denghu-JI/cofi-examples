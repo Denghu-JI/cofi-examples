{
  "cells": [
    {
      "cell_type": "code",
      "execution_count": null,
      "metadata": {
        "collapsed": false
      },
      "outputs": [],
      "source": [
        "%matplotlib inline"
      ]
    },
    {
      "cell_type": "markdown",
      "metadata": {},
      "source": [
        "\n# Gravity Density Model\n\nAdapted from `gravity forward\ncode <https://github.com/inlab-geo/inversion-test-problems/blob/main/GravityForward.ipynb>`__\nwritten in inversion-test-problems\n"
      ]
    },
    {
      "cell_type": "markdown",
      "metadata": {},
      "source": [
        "--------------\n\n## 0. Import modules\n\n\n"
      ]
    },
    {
      "cell_type": "code",
      "execution_count": null,
      "metadata": {
        "collapsed": false
      },
      "outputs": [],
      "source": [
        "import numpy as np\nimport matplotlib.pyplot as plt\n\nfrom cofi import BaseProblem, InversionOptions, Inversion\n\nnp.random.seed(42)"
      ]
    },
    {
      "cell_type": "markdown",
      "metadata": {},
      "source": [
        "## 0. Auxillary functions\n\n\n"
      ]
    },
    {
      "cell_type": "code",
      "execution_count": null,
      "metadata": {
        "collapsed": false
      },
      "outputs": [],
      "source": [
        "def kernel(ii,jj,kk,dx,dy,dz,dim):\n    \n    r = (dx[:, ii] ** 2 + dy[:, jj] ** 2 + dz[:, kk]** 2) ** (0.50)\n\n    dz_r = dz[:, kk] + r\n    dy_r = dy[:, jj] + r\n    dx_r = dx[:, ii] + r\n\n    dxr = dx[:, ii] * r\n    dyr = dy[:, jj] * r\n    dzr = dz[:, kk] * r\n    \n    dydz = dy[:, jj] * dz[:, kk]\n    dxdy = dx[:, ii] * dy[:, jj]\n    dxdz = dx[:, ii] * dz[:, kk]\n    \n    if dim==\"gx\":\n        g = (-1) ** (ii + jj + kk) * (dy[:, jj] * np.log(dz_r) + dz[:, kk]* np.log(dy_r) - dx[:, ii] * np.arctan(dydz / dxr))\n    elif dim==\"gy\":\n        g = (-1) ** (ii + jj + kk) * (dx[:, ii] * np.log(dz_r) + dz[:, kk]* np.log(dx_r) - dy[:, jj] * np.arctan(dxdz / dyr))\n    elif dim==\"gz\":\n        g = (-1) ** (ii + jj + kk) * (dx[:, ii] * np.log(dy_r) + dy[:, jj] * np.log(dx_r) - dz[:, kk]* np.arctan(dxdy / dzr))\n    elif dim==\"gxx\":\n        arg = dy[:, jj] * dz[:, kk] / dxr\n        # It said g-= ... - maybe neet to switch vorzeichen?\n        g = ((-1) ** (ii + jj + kk) * (dxdy / (r * dz_r)+ dxdz / (r * dy_r)- np.arctan(arg)+ dx[:, ii]* (1.0 / (1 + arg ** 2.0))* dydz/ dxr ** 2.0* (r + dx[:, ii] ** 2.0 / r)))\n    elif dim==\"gxy\":\n        arg = dy[:, jj] * dz[:, kk] / dxr\n        g = ((-1) ** (ii + jj + kk) * (np.log(dz_r)+ dy[:, jj] ** 2.0 / (r * dz_r)+ dz[:, kk] / r- 1.0/ (1 + arg ** 2.0)* (dz[:, kk] / r ** 2)* (r - dy[:, jj] ** 2.0 / r)))\n    elif dim==\"gxz\":\n        arg = dy[:, jj] * dz[:, kk] / dxr\n        g = ((-1) ** (ii + jj + kk) * (np.log(dy_r)+ dz[:, kk] ** 2.0 / (r * dy_r)+ dy[:, jj] / r- 1.0/ (1 + arg ** 2.0)* (dy[:, jj] / (r ** 2))* (r - dz[:, kk] ** 2.0 / r)))\n    elif dim==\"gyy\":\n        arg = dx[:, ii] * dz[:, kk] / dyr\n        g = ((-1) ** (ii + jj + kk) * (dxdy / (r * dz_r)+ dydz / (r * dx_r)- np.arctan(arg)+ dy[:, jj]* (1.0 / (1 + arg ** 2.0))* dxdz/ dyr ** 2.0* (r + dy[:, jj] ** 2.0 / r)))\n    elif dim==\"gyz\":\n        arg = dx[:, ii] * dz[:, kk] / dyr\n        g = ((-1) ** (ii + jj + kk) * (np.log(dx_r)+ dz[:, kk] ** 2.0 / (r * (dx_r))+ dx[:, ii] / r- 1.0/ (1 + arg ** 2.0)* (dx[:, ii] / (r ** 2))* (r - dz[:, kk] ** 2.0 / r)))\n    elif dim==\"gzz\":\n        arg = dy[:, jj] * dz[:, kk] / dxr\n        gxx = ((-1) ** (ii + jj + kk) * (dxdy / (r * dz_r)+ dxdz / (r * dy_r)- np.arctan(arg)+ dx[:, ii]* (1.0 / (1 + arg ** 2.0))* dydz/ dxr ** 2.0* (r + dx[:, ii] ** 2.0 / r)))\n        arg = dx[:, ii] * dz[:, kk] / dyr\n        gyy = ((-1) ** (ii + jj + kk) * (dxdy / (r * dz_r)+ dydz / (r * dx_r)- np.arctan(arg)+ dy[:, jj]* (1.0 / (1 + arg ** 2.0))* dxdz/ dyr ** 2.0* (r + dy[:, jj] ** 2.0 / r)))\n        g=-gxx-gyy\n    return g\n\ndef calculate_gravity(model, x_final, y_final, z_final, recvec, jacobian=False, return_both=False):\n    if return_both==True:\n        jacobian=True\n    from scipy.constants import G as G    \n    # Tolerance implementation follows SimPEG, discussed in Nagy et al., 2000\n    tol=1e-4\n\n    gx_rec=np.zeros(len(recvec))\n    gy_rec=np.zeros(len(recvec))\n    gz_rec=np.zeros(len(recvec))\n    \n    if jacobian==True:\n        Jx_rec=np.zeros([len(recvec),len(x_final)])\n        Jy_rec=np.zeros([len(recvec),len(x_final)])\n        Jz_rec=np.zeros([len(recvec),len(x_final)])\n\n    \n    for recno in range(len(recvec)):\n\n        dx=x_final-recvec[recno,0]\n        dy=y_final-recvec[recno,1]\n        dz=z_final-recvec[recno,2]\n\n        min_x=np.min(np.diff(dx))\n        min_y=np.min(np.diff(dy))\n        min_z=np.min(np.diff(dz))\n\n        dx[np.abs(dx) / min_x < tol] = tol * min_x\n        dy[np.abs(dy) / min_y < tol] = tol * min_y\n        dz[np.abs(dz) / min_z < tol] = tol * min_z\n\n        Jx=0\n        Jy=0\n        Jz=0\n\n        for ii in range(2):\n            for jj in range(2):\n                for kk in range(2):\n\n                    # gx, gy apppear to work, but need confcirmation.\n                    # gz is tested and works\n                    Jx+=kernel(ii,jj,kk,dx,dy,dz,\"gx\")\n                    Jy+=kernel(ii,jj,kk,dx,dy,dz,\"gy\")\n                    Jz+=kernel(ii,jj,kk,dx,dy,dz,\"gz\")\n                        \n        \n        # Multiply J (Nx1) with the model density (Nx1) element-wise\n        gx_rec[recno] = 1e5*G*sum(model*Jx)\n        gy_rec[recno] = 1e5*G*sum(model*Jy)\n        gz_rec[recno] = 1e5*G*sum(model*Jz)\n        \n        if jacobian==True:\n            Jx_rec[recno,:] = Jx\n            Jy_rec[recno,:] = Jy\n            Jz_rec[recno,:] = Jz\n            \n    if jacobian==False:    \n        return gx_rec, gy_rec, gz_rec\n    elif return_both==True:\n        return gx_rec, gy_rec, gz_rec, Jx_rec,  Jy_rec,  Jz_rec\n    else: \n        return Jx_rec,  Jy_rec,  Jz_rec\n    \ndef calculate_gradiometry(model, x_final, y_final, z_final, recvec):\n\n    # Tolerance implementation follows SimPEG, discussed in Nagy et al., 2000\n    tol=1e-4\n\n    gxx_rec=np.zeros(len(recvec))\n    gxy_rec=np.zeros(len(recvec))\n    gxz_rec=np.zeros(len(recvec))\n    gyy_rec=np.zeros(len(recvec))\n    gyz_rec=np.zeros(len(recvec))\n    gzz_rec=np.zeros(len(recvec))\n\n    for recno in range(len(recvec)):\n\n        dx=x_final-recvec[recno,0]\n        dy=y_final-recvec[recno,1]\n        dz=z_final-recvec[recno,2]\n\n        min_x=np.min(np.diff(dx))\n        min_y=np.min(np.diff(dy))\n        min_z=np.min(np.diff(dz))\n\n        dx[np.abs(dx) / min_x < tol] = tol * min_x\n        dy[np.abs(dy) / min_y < tol] = tol * min_y\n        dz[np.abs(dz) / min_z < tol] = tol * min_z\n\n        Jxx=0\n        Jxy=0\n        Jxz=0\n        Jyy=0\n        Jyz=0\n        Jzz=0\n        \n        for ii in range(2):\n            for jj in range(2):\n                for kk in range(2):\n                    \n                    # Gradiometry kernels NOT checked yet. Just look good.\n                    Jxx+=kernel(ii,jj,kk,dx,dy,dz,\"gxx\")\n                    Jxy+=kernel(ii,jj,kk,dx,dy,dz,\"gxy\")\n                    Jxz+=kernel(ii,jj,kk,dx,dy,dz,\"gxz\")\n                    Jyy+=kernel(ii,jj,kk,dx,dy,dz,\"gyy\")\n                    Jyz+=kernel(ii,jj,kk,dx,dy,dz,\"gyz\")\n                    Jzz+=kernel(ii,jj,kk,dx,dy,dz,\"gzz\")\n\n                    \n        # Multiply J (Nx1) with the model density (Nx1) element-wise\n        gxx_rec[recno] = 1e8*G*sum(model*Jxx)\n        gxy_rec[recno] = 1e8*G*sum(model*Jxy)\n        gxz_rec[recno] = 1e8*G*sum(model*Jxz)\n        gyy_rec[recno] = 1e8*G*sum(model*Jyy)\n        gyz_rec[recno] = 1e8*G*sum(model*Jyz)\n        gzz_rec[recno] = 1e8*G*sum(model*Jzz)\n    \n    \n    return gxx_rec, gxy_rec, gxz_rec, gyy_rec, gyz_rec, gzz_rec \n \n# class modelclass(object):\n#     def __init__(self, **kwargs):\n#         self.__dict__.update(kwargs)\n\n# # Don't know how to use this yet:\n# class gravity(BaseProblem):\n#     def __init__(self, x_nodes, y_nodes, z_nodes, recvec):\n#         self.x_nodes=x_nodes\n#         self.y_nodes=y_nodes\n#         self.z_nodes=z_nodes\n#         self.recvec=recvec\n        \n    \n# -----------------------------------------------------\n# New functions, defined just for CoFI\n# The ones above are from my forward code. \n# Only difference between these two is \"jacobian=True\", but necessary here to separate them\n\ndef forward(model):\n    # Load model geometry \n    P=np.load('Gravity_model.npz')\n    x_nodes = P['x_nodes']\n    y_nodes = P['y_nodes']\n    z_nodes=P['z_nodes']\n    rec_coords=P['rec_coords']\n    \n    gx, gy, gz = calculate_gravity(model,x_nodes,y_nodes,z_nodes,rec_coords)\n    \n    return gz\n        \n        \ndef get_jacobian(model):\n    # Load model geometry \n    P=np.load('Gravity_model.npz')\n    x_nodes = P['x_nodes']\n    y_nodes = P['y_nodes']\n    z_nodes=P['z_nodes']\n    rec_coords=P['rec_coords']\n    \n    Jx, Jy, Jz = calculate_gravity(model,x_nodes,y_nodes,z_nodes,rec_coords, jacobian=True)\n    \n    return Jz\n\ndef depth_weight(z,z0,beta):\n    return ((-z[::-1]+z0)**(-beta/2))\n\n\ndef reg_l1(model):\n    return np.linalg.norm(W @ model, 1)\n\ndef reg_l2(model):\n    return np.linalg.norm(W @ model, 2)\n\ndef reg_gradient_l1(model):\n    return W @ np.sign(model)\n\ndef reg_gradient_l2(model):\n    return 2 * m.T @ W.T @ W"
      ]
    },
    {
      "cell_type": "markdown",
      "metadata": {},
      "source": [
        "--------------\n\n## 1. Define the problem\n\nI took out gx, gy for now to make it more straight forward. We can add\nall kinds of things once it is working.\n\n\n"
      ]
    },
    {
      "cell_type": "code",
      "execution_count": null,
      "metadata": {
        "collapsed": false
      },
      "outputs": [],
      "source": [
        "# Load density model\ntmp=np.load('Gravity_model.npz')\nrec_coords=tmp['rec_coords']\nz_nodes=tmp['z_nodes']\nmodel=tmp['model']\ndel tmp\n\n# Load starting models\ntmp=np.load('Starting_models.npz')\nStarting_model1=tmp['starting_model1']\n# Starting_model1[Starting_model1 > 0 ]=10\nStarting_model2=tmp['starting_model2']\n# Starting_model2 = np.zeros((12**3))\n\n# Create \"observed\" data by adding noise to forward solution\nnoise_level=0.05\ngz = forward(model)\ndataZ_obs= gz + np.random.normal(loc=0,scale=noise_level*np.max(np.abs(gz)),size=np.shape(gz))  \n\n# Create jacobian\nJz = get_jacobian(model)\n\n# Define depth weighting values\nz0=18.6\nbeta=2\n# Define regularization parameter\nepsilon=0.2\n\n# Create regularization\n# Calculate depth weighting fcn - high values at low z, low values at high z, no zeros.\n# Model is [Nx1] with N: no. of cells; W is [NxN] with weighting values on diagonal\nW=depth_weight(z_nodes[:,0],z0,beta)\nW=np.diag(W)\n\n# Set CoFI problem:\ngrav_problem = BaseProblem()\ngrav_problem.name = \"Gravity\"\ngrav_problem.set_dataset(rec_coords, gz)\n\n# Here I linked the function, not the result\ngrav_problem.set_forward(forward)\n\n# Here I linked to the actual jacobian. Jacobian size is (MxN) with M: receiver and N: model cells\ngrav_problem.set_jacobian(Jz)\n\n# Set regularization; reg is a function that takes the model as input\ngrav_problem.set_regularisation(reg_l1, epsilon)\n\n# Use default L2 misfit\ngrav_problem.set_data_misfit(\"L2\")\ngrav_problem.set_initial_model(Starting_model1)\n\n# Set gradient, in hope of helping optimisers converge better\ndef data_misfit_gradient(model):\n    return 2* Jz.T @ (forward(model) - gz) / gz.shape[0]\ngrav_problem.set_gradient(lambda m: data_misfit_gradient(m) + epsilon*reg_gradient_l1(m))\n\ngrav_problem.summary()"
      ]
    },
    {
      "cell_type": "markdown",
      "metadata": {},
      "source": [
        "--------------\n\n## 2. Define the inversion\n\n\n"
      ]
    },
    {
      "cell_type": "code",
      "execution_count": null,
      "metadata": {
        "collapsed": false
      },
      "outputs": [],
      "source": [
        "inv_options = InversionOptions()\n# inv_options.set_tool()\n# inv_options.set_params()\n# inv_options.set_tool(\"scipy.optimize.least_squares\")\n\ninv_options.summary()"
      ]
    },
    {
      "cell_type": "markdown",
      "metadata": {},
      "source": [
        "--------------\n\n### 3. Start an inversion runner\n\n\n"
      ]
    },
    {
      "cell_type": "code",
      "execution_count": null,
      "metadata": {
        "collapsed": false
      },
      "outputs": [],
      "source": [
        "inv = Inversion(grav_problem, inv_options)\n# inv.summary()\n\n# inv_result = inv.run()\n# inv_result.summary()\n\n# result_model = inv_result.model.reshape(12,12,12)\n# plt.subplot(1,2,1)\n# plt.imshow(result_model[:,6,:])\n# plt.colorbar()\n\n# a=gz.reshape(20,20)\n# plt.subplot(1,2,2)\n# plt.imshow(a)\n# plt.colorbar()"
      ]
    },
    {
      "cell_type": "markdown",
      "metadata": {},
      "source": [
        "--------------\n\n"
      ]
    }
  ],
  "metadata": {
    "kernelspec": {
      "display_name": "Python 3",
      "language": "python",
      "name": "python3"
    },
    "language_info": {
      "codemirror_mode": {
        "name": "ipython",
        "version": 3
      },
      "file_extension": ".py",
      "mimetype": "text/x-python",
      "name": "python",
      "nbconvert_exporter": "python",
      "pygments_lexer": "ipython3",
      "version": "3.10.4"
    }
  },
  "nbformat": 4,
  "nbformat_minor": 0
}