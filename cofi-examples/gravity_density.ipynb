{
 "cells": [
  {
   "cell_type": "markdown",
   "id": "23590778-855b-45f5-9c70-1956019515b3",
   "metadata": {},
   "source": [
    "# Gravity Density Model\n",
    "\n",
    "Adapted from [gravity forward code](https://github.com/inlab-geo/inversion-test-problems/blob/main/GravityForward.ipynb) written in inversion-test-problems"
   ]
  },
  {
   "cell_type": "markdown",
   "id": "06b8735f-ef39-428f-b13b-d7c9cf8ac458",
   "metadata": {},
   "source": [
    "---\n",
    "### 0. Import modules"
   ]
  },
  {
   "cell_type": "code",
   "execution_count": 1,
   "id": "fa709811-0441-42a6-b182-6291f28fece1",
   "metadata": {},
   "outputs": [],
   "source": [
    "import numpy as np\n",
    "import matplotlib.pyplot as plt\n",
    "\n",
    "from cofi import BaseProblem, InversionOptions, InversionRunner"
   ]
  },
  {
   "cell_type": "markdown",
   "id": "9e559f26-fdbf-4a22-bae7-1534e8f34180",
   "metadata": {},
   "source": [
    "---\n",
    "### 1. Define the problem"
   ]
  },
  {
   "cell_type": "code",
   "execution_count": 2,
   "id": "36f2a425-6b60-49c9-b2b8-81428024db6e",
   "metadata": {},
   "outputs": [
    {
     "name": "stdout",
     "output_type": "stream",
     "text": [
      "Summary for inversion problem: Gravity\n",
      "=======================================\n",
      "Model shape: Unknown\n",
      "---------------------------------------\n",
      "List of functions / properties defined:\n",
      "set()\n"
     ]
    }
   ],
   "source": [
    "grav_problem = BaseProblem()\n",
    "grav_problem.name = \"Gravity\"\n",
    "# grav_problem.set_dataset(x, y_observed)\n",
    "# grav_problem.set_forward(grav_fwd_func)\n",
    "# grav_problem.set_jacobian(kernel)\n",
    "# grav_problem.set_regularisation(\"L1\")\n",
    "\n",
    "grav_problem.summary()"
   ]
  },
  {
   "cell_type": "markdown",
   "id": "fe42e416-5c46-44dc-9e9d-74fa44bbe69f",
   "metadata": {},
   "source": [
    "---\n",
    "### 2. Define the inversion"
   ]
  },
  {
   "cell_type": "code",
   "execution_count": 3,
   "id": "37af001f-a783-4a67-8d61-355208e0aa71",
   "metadata": {},
   "outputs": [
    {
     "name": "stdout",
     "output_type": "stream",
     "text": [
      "Summary for inversion options\n",
      "=============================\n",
      "Solving method: Not set yet\n",
      "Backend tool: scipy.optimize.minimize (by default)\n",
      "-----------------------------\n",
      "Solver-specific parameters: Not set yet\n"
     ]
    }
   ],
   "source": [
    "inv_options = InversionOptions()\n",
    "# inv_options.set_tool()\n",
    "# inv_options.set_params()\n",
    "\n",
    "inv_options.summary()"
   ]
  },
  {
   "cell_type": "markdown",
   "id": "20bc5918-af84-48cf-acb4-9ea7cf27434b",
   "metadata": {},
   "source": [
    "---\n",
    "## 3. Start an inversion runner"
   ]
  },
  {
   "cell_type": "code",
   "execution_count": 4,
   "id": "818de5ad-814d-4241-ad03-db4f96efe17b",
   "metadata": {},
   "outputs": [
    {
     "ename": "ValueError",
     "evalue": "you've chosen ScipyOptMinSolver to be your solving tool, but not enough information is provided in the BaseProblem object - required: {'initial_model', 'objective'}; provided: set()",
     "output_type": "error",
     "traceback": [
      "\u001b[0;31m---------------------------------------------------------------------------\u001b[0m",
      "\u001b[0;31mValueError\u001b[0m                                Traceback (most recent call last)",
      "\u001b[1;32m/Users/jiawenhe/Documents/lab/cofi-examples/cofi-examples/gravity_density.ipynb Cell 9'\u001b[0m in \u001b[0;36m<cell line: 1>\u001b[0;34m()\u001b[0m\n\u001b[0;32m----> <a href='vscode-notebook-cell:/Users/jiawenhe/Documents/lab/cofi-examples/cofi-examples/gravity_density.ipynb#ch0000008?line=0'>1</a>\u001b[0m inv_runner \u001b[39m=\u001b[39m InversionRunner(grav_problem, inv_options)\n\u001b[1;32m      <a href='vscode-notebook-cell:/Users/jiawenhe/Documents/lab/cofi-examples/cofi-examples/gravity_density.ipynb#ch0000008?line=1'>2</a>\u001b[0m inv_runner\u001b[39m.\u001b[39msummary()\n",
      "File \u001b[0;32m/usr/local/anaconda3/envs/cofi_env/lib/python3.8/site-packages/cofi/runner.py:45\u001b[0m, in \u001b[0;36mInversionRunner.__init__\u001b[0;34m(self, inv_problem, inv_options)\u001b[0m\n\u001b[1;32m     <a href='file:///usr/local/anaconda3/envs/cofi_env/lib/python3.8/site-packages/cofi/runner.py?line=42'>43</a>\u001b[0m \u001b[39mself\u001b[39m\u001b[39m.\u001b[39minv_options \u001b[39m=\u001b[39m inv_options\n\u001b[1;32m     <a href='file:///usr/local/anaconda3/envs/cofi_env/lib/python3.8/site-packages/cofi/runner.py?line=43'>44</a>\u001b[0m \u001b[39m# dispatch inversion_solver from self.inv_options, validation is done by solver\u001b[39;00m\n\u001b[0;32m---> <a href='file:///usr/local/anaconda3/envs/cofi_env/lib/python3.8/site-packages/cofi/runner.py?line=44'>45</a>\u001b[0m \u001b[39mself\u001b[39m\u001b[39m.\u001b[39minv_solve \u001b[39m=\u001b[39m \u001b[39mself\u001b[39;49m\u001b[39m.\u001b[39;49m_dispatch_solver()(inv_problem, inv_options)\n",
      "File \u001b[0;32m/usr/local/anaconda3/envs/cofi_env/lib/python3.8/site-packages/cofi/solvers/scipy_opt_min.py:43\u001b[0m, in \u001b[0;36mScipyOptMinSolver.__init__\u001b[0;34m(self, inv_problem, inv_options)\u001b[0m\n\u001b[1;32m     <a href='file:///usr/local/anaconda3/envs/cofi_env/lib/python3.8/site-packages/cofi/solvers/scipy_opt_min.py?line=41'>42</a>\u001b[0m \u001b[39mdef\u001b[39;00m \u001b[39m__init__\u001b[39m(\u001b[39mself\u001b[39m, inv_problem, inv_options):\n\u001b[0;32m---> <a href='file:///usr/local/anaconda3/envs/cofi_env/lib/python3.8/site-packages/cofi/solvers/scipy_opt_min.py?line=42'>43</a>\u001b[0m     \u001b[39msuper\u001b[39;49m()\u001b[39m.\u001b[39;49m\u001b[39m__init__\u001b[39;49m(inv_problem, inv_options)\n\u001b[1;32m     <a href='file:///usr/local/anaconda3/envs/cofi_env/lib/python3.8/site-packages/cofi/solvers/scipy_opt_min.py?line=43'>44</a>\u001b[0m     \u001b[39mself\u001b[39m\u001b[39m.\u001b[39m_assign_args()\n",
      "File \u001b[0;32m/usr/local/anaconda3/envs/cofi_env/lib/python3.8/site-packages/cofi/solvers/base_solver.py:13\u001b[0m, in \u001b[0;36mBaseSolver.__init__\u001b[0;34m(self, inv_problem, inv_options)\u001b[0m\n\u001b[1;32m     <a href='file:///usr/local/anaconda3/envs/cofi_env/lib/python3.8/site-packages/cofi/solvers/base_solver.py?line=10'>11</a>\u001b[0m \u001b[39mself\u001b[39m\u001b[39m.\u001b[39minv_problem \u001b[39m=\u001b[39m inv_problem\n\u001b[1;32m     <a href='file:///usr/local/anaconda3/envs/cofi_env/lib/python3.8/site-packages/cofi/solvers/base_solver.py?line=11'>12</a>\u001b[0m \u001b[39mself\u001b[39m\u001b[39m.\u001b[39minv_options \u001b[39m=\u001b[39m inv_options\n\u001b[0;32m---> <a href='file:///usr/local/anaconda3/envs/cofi_env/lib/python3.8/site-packages/cofi/solvers/base_solver.py?line=12'>13</a>\u001b[0m \u001b[39mself\u001b[39;49m\u001b[39m.\u001b[39;49m_validate_inv_problem()\n\u001b[1;32m     <a href='file:///usr/local/anaconda3/envs/cofi_env/lib/python3.8/site-packages/cofi/solvers/base_solver.py?line=13'>14</a>\u001b[0m \u001b[39mself\u001b[39m\u001b[39m.\u001b[39m_validate_inv_options()\n",
      "File \u001b[0;32m/usr/local/anaconda3/envs/cofi_env/lib/python3.8/site-packages/cofi/solvers/base_solver.py:27\u001b[0m, in \u001b[0;36mBaseSolver._validate_inv_problem\u001b[0;34m(self)\u001b[0m\n\u001b[1;32m     <a href='file:///usr/local/anaconda3/envs/cofi_env/lib/python3.8/site-packages/cofi/solvers/base_solver.py?line=24'>25</a>\u001b[0m     \u001b[39mreturn\u001b[39;00m \u001b[39mTrue\u001b[39;00m\n\u001b[1;32m     <a href='file:///usr/local/anaconda3/envs/cofi_env/lib/python3.8/site-packages/cofi/solvers/base_solver.py?line=25'>26</a>\u001b[0m \u001b[39melse\u001b[39;00m:\n\u001b[0;32m---> <a href='file:///usr/local/anaconda3/envs/cofi_env/lib/python3.8/site-packages/cofi/solvers/base_solver.py?line=26'>27</a>\u001b[0m     \u001b[39mraise\u001b[39;00m \u001b[39mValueError\u001b[39;00m(\n\u001b[1;32m     <a href='file:///usr/local/anaconda3/envs/cofi_env/lib/python3.8/site-packages/cofi/solvers/base_solver.py?line=27'>28</a>\u001b[0m         \u001b[39mf\u001b[39m\u001b[39m\"\u001b[39m\u001b[39myou\u001b[39m\u001b[39m'\u001b[39m\u001b[39mve chosen \u001b[39m\u001b[39m{\u001b[39;00m\u001b[39mself\u001b[39m\u001b[39m.\u001b[39m\u001b[39m__class__\u001b[39m\u001b[39m.\u001b[39m\u001b[39m__name__\u001b[39m\u001b[39m}\u001b[39;00m\u001b[39m to be your solving tool, but \u001b[39m\u001b[39m\"\u001b[39m\n\u001b[1;32m     <a href='file:///usr/local/anaconda3/envs/cofi_env/lib/python3.8/site-packages/cofi/solvers/base_solver.py?line=28'>29</a>\u001b[0m         \u001b[39mf\u001b[39m\u001b[39m\"\u001b[39m\u001b[39mnot enough information is provided in the BaseProblem object - \u001b[39m\u001b[39m\"\u001b[39m\n\u001b[1;32m     <a href='file:///usr/local/anaconda3/envs/cofi_env/lib/python3.8/site-packages/cofi/solvers/base_solver.py?line=29'>30</a>\u001b[0m         \u001b[39mf\u001b[39m\u001b[39m\"\u001b[39m\u001b[39mrequired: \u001b[39m\u001b[39m{\u001b[39;00mrequired\u001b[39m}\u001b[39;00m\u001b[39m; provided: \u001b[39m\u001b[39m{\u001b[39;00mdefined\u001b[39m}\u001b[39;00m\u001b[39m\"\u001b[39m\n\u001b[1;32m     <a href='file:///usr/local/anaconda3/envs/cofi_env/lib/python3.8/site-packages/cofi/solvers/base_solver.py?line=30'>31</a>\u001b[0m     )\n",
      "\u001b[0;31mValueError\u001b[0m: you've chosen ScipyOptMinSolver to be your solving tool, but not enough information is provided in the BaseProblem object - required: {'initial_model', 'objective'}; provided: set()"
     ]
    }
   ],
   "source": [
    "inv_runner = InversionRunner(grav_problem, inv_options)\n",
    "inv_runner.summary()"
   ]
  },
  {
   "cell_type": "code",
   "execution_count": null,
   "id": "acd1ef01-d9f8-4819-97d0-ff8572b2013c",
   "metadata": {},
   "outputs": [],
   "source": [
    "inv_result = inv_runner.run()\n",
    "inv_result.summary()"
   ]
  },
  {
   "cell_type": "markdown",
   "id": "d5cc1c29-4cd9-4c6b-9ad8-57f282592732",
   "metadata": {},
   "source": [
    "---"
   ]
  }
 ],
 "metadata": {
  "kernelspec": {
   "display_name": "Python 3 (ipykernel)",
   "language": "python",
   "name": "python3"
  },
  "language_info": {
   "codemirror_mode": {
    "name": "ipython",
    "version": 3
   },
   "file_extension": ".py",
   "mimetype": "text/x-python",
   "name": "python",
   "nbconvert_exporter": "python",
   "pygments_lexer": "ipython3",
   "version": "3.8.13"
  }
 },
 "nbformat": 4,
 "nbformat_minor": 5
}
