{
 "cells": [
  {
   "cell_type": "markdown",
   "id": "23590778-855b-45f5-9c70-1956019515b3",
   "metadata": {},
   "source": [
    "# Gravity Density Model\n",
    "\n",
    "Adapted from [gravity forward code](https://github.com/inlab-geo/inversion-test-problems/blob/main/GravityForward.ipynb) written in inversion-test-problems"
   ]
  },
  {
   "cell_type": "markdown",
   "id": "06b8735f-ef39-428f-b13b-d7c9cf8ac458",
   "metadata": {},
   "source": [
    "---\n",
    "### 0. Import modules"
   ]
  },
  {
   "cell_type": "code",
   "execution_count": 1,
   "id": "fa709811-0441-42a6-b182-6291f28fece1",
   "metadata": {},
   "outputs": [],
   "source": [
    "import numpy as np\n",
    "import matplotlib.pyplot as plt\n",
    "\n",
    "from cofi import BaseProblem, InversionOptions, InversionRunner"
   ]
  },
  {
   "cell_type": "markdown",
   "id": "9e559f26-fdbf-4a22-bae7-1534e8f34180",
   "metadata": {},
   "source": [
    "---\n",
    "### 1. Define the problem"
   ]
  },
  {
   "cell_type": "code",
   "execution_count": 2,
   "id": "36f2a425-6b60-49c9-b2b8-81428024db6e",
   "metadata": {},
   "outputs": [
    {
     "name": "stdout",
     "output_type": "stream",
     "text": [
      "Summary for inversion problem: BaseProblem\n",
      "==========================================\n",
      "Model shape: Unknown\n",
      "------------------------------------------\n",
      "List of functions / properties defined:\n",
      "[]\n"
     ]
    }
   ],
   "source": [
    "grav_problem = BaseProblem()\n",
    "# grav_problem.set_dataset(x, y_observed)\n",
    "# grav_problem.set_forward(grav_fwd_func)\n",
    "# grav_problem.set_jacobian(kernel)\n",
    "# grav_problem.set_regularisation(\"L1\")\n",
    "\n",
    "grav_problem.summary()"
   ]
  },
  {
   "cell_type": "markdown",
   "id": "fe42e416-5c46-44dc-9e9d-74fa44bbe69f",
   "metadata": {},
   "source": [
    "---\n",
    "### 2. Define the inversion"
   ]
  },
  {
   "cell_type": "code",
   "execution_count": 4,
   "id": "37af001f-a783-4a67-8d61-355208e0aa71",
   "metadata": {},
   "outputs": [
    {
     "name": "stdout",
     "output_type": "stream",
     "text": [
      "Summary for inversion options\n",
      "=============================\n",
      "Solving method: Not set yet\n",
      "Backend tool: scipy.optimize.minimize (by default)\n",
      "-----------------------------\n",
      "Solver-specific parameters: Not set yet\n"
     ]
    }
   ],
   "source": [
    "inv_options = InversionOptions()\n",
    "# inv_options.set_tool()\n",
    "# inv_options.set_params()\n",
    "\n",
    "inv_options.summary()"
   ]
  },
  {
   "cell_type": "markdown",
   "id": "20bc5918-af84-48cf-acb4-9ea7cf27434b",
   "metadata": {},
   "source": [
    "---\n",
    "## 3. Start an inversion runner"
   ]
  },
  {
   "cell_type": "code",
   "execution_count": 6,
   "id": "818de5ad-814d-4241-ad03-db4f96efe17b",
   "metadata": {},
   "outputs": [
    {
     "ename": "NotImplementedError",
     "evalue": "",
     "output_type": "error",
     "traceback": [
      "\u001b[0;31m---------------------------------------------------------------------------\u001b[0m",
      "\u001b[0;31mNotImplementedError\u001b[0m                       Traceback (most recent call last)",
      "Input \u001b[0;32mIn [6]\u001b[0m, in \u001b[0;36m<cell line: 1>\u001b[0;34m()\u001b[0m\n\u001b[0;32m----> 1\u001b[0m inv_runner \u001b[38;5;241m=\u001b[39m \u001b[43mInversionRunner\u001b[49m\u001b[43m(\u001b[49m\u001b[43mgrav_problem\u001b[49m\u001b[43m,\u001b[49m\u001b[43m \u001b[49m\u001b[43minv_options\u001b[49m\u001b[43m)\u001b[49m\n\u001b[1;32m      2\u001b[0m inv_runner\u001b[38;5;241m.\u001b[39msummary()\n",
      "File \u001b[0;32m/usr/local/anaconda3/envs/cofi_env/lib/python3.9/site-packages/cofi/runner.py:45\u001b[0m, in \u001b[0;36mInversionRunner.__init__\u001b[0;34m(self, inv_problem, inv_options)\u001b[0m\n\u001b[1;32m     43\u001b[0m \u001b[38;5;28mself\u001b[39m\u001b[38;5;241m.\u001b[39minv_options \u001b[38;5;241m=\u001b[39m inv_options\n\u001b[1;32m     44\u001b[0m \u001b[38;5;66;03m# dispatch inversion_solver from self.inv_options, validation is done by solver\u001b[39;00m\n\u001b[0;32m---> 45\u001b[0m \u001b[38;5;28mself\u001b[39m\u001b[38;5;241m.\u001b[39minv_solve \u001b[38;5;241m=\u001b[39m \u001b[38;5;28;43mself\u001b[39;49m\u001b[38;5;241;43m.\u001b[39;49m\u001b[43m_dispatch_solver\u001b[49m\u001b[43m(\u001b[49m\u001b[43m)\u001b[49m\u001b[43m(\u001b[49m\u001b[43minv_problem\u001b[49m\u001b[43m,\u001b[49m\u001b[43m \u001b[49m\u001b[43minv_options\u001b[49m\u001b[43m)\u001b[49m\n",
      "File \u001b[0;32m/usr/local/anaconda3/envs/cofi_env/lib/python3.9/site-packages/cofi/solvers/scipy_opt.py:8\u001b[0m, in \u001b[0;36mScipyOptMinSolver.__init__\u001b[0;34m(self, inv_problem, inv_options)\u001b[0m\n\u001b[1;32m      6\u001b[0m \u001b[38;5;28;01mdef\u001b[39;00m \u001b[38;5;21m__init__\u001b[39m(\u001b[38;5;28mself\u001b[39m, inv_problem, inv_options):\n\u001b[1;32m      7\u001b[0m     \u001b[38;5;66;03m# TODO\u001b[39;00m\n\u001b[0;32m----> 8\u001b[0m     \u001b[38;5;28;43msuper\u001b[39;49m\u001b[43m(\u001b[49m\u001b[43m)\u001b[49m\u001b[38;5;241;43m.\u001b[39;49m\u001b[38;5;21;43m__init__\u001b[39;49m\u001b[43m(\u001b[49m\u001b[43minv_problem\u001b[49m\u001b[43m,\u001b[49m\u001b[43m \u001b[49m\u001b[43minv_options\u001b[49m\u001b[43m)\u001b[49m\n\u001b[1;32m      9\u001b[0m     \u001b[38;5;28;01mraise\u001b[39;00m \u001b[38;5;167;01mNotImplementedError\u001b[39;00m\n",
      "File \u001b[0;32m/usr/local/anaconda3/envs/cofi_env/lib/python3.9/site-packages/cofi/solvers/base_solver.py:10\u001b[0m, in \u001b[0;36mBaseSolver.__init__\u001b[0;34m(self, inv_problem, inv_options)\u001b[0m\n\u001b[1;32m      8\u001b[0m \u001b[38;5;28mself\u001b[39m\u001b[38;5;241m.\u001b[39minv_problem \u001b[38;5;241m=\u001b[39m inv_problem\n\u001b[1;32m      9\u001b[0m \u001b[38;5;28mself\u001b[39m\u001b[38;5;241m.\u001b[39minv_options \u001b[38;5;241m=\u001b[39m inv_options\n\u001b[0;32m---> 10\u001b[0m \u001b[38;5;28;43mself\u001b[39;49m\u001b[38;5;241;43m.\u001b[39;49m\u001b[43m_validate_inv_problem\u001b[49m\u001b[43m(\u001b[49m\u001b[43m)\u001b[49m\n\u001b[1;32m     11\u001b[0m \u001b[38;5;28mself\u001b[39m\u001b[38;5;241m.\u001b[39m_validate_inv_options()\n",
      "File \u001b[0;32m/usr/local/anaconda3/envs/cofi_env/lib/python3.9/site-packages/cofi/solvers/scipy_opt.py:19\u001b[0m, in \u001b[0;36mScipyOptMinSolver._validate_inv_problem\u001b[0;34m(self)\u001b[0m\n\u001b[1;32m     18\u001b[0m \u001b[38;5;28;01mdef\u001b[39;00m \u001b[38;5;21m_validate_inv_problem\u001b[39m(\u001b[38;5;28mself\u001b[39m):\n\u001b[0;32m---> 19\u001b[0m     \u001b[38;5;28;01mraise\u001b[39;00m \u001b[38;5;167;01mNotImplementedError\u001b[39;00m\n",
      "\u001b[0;31mNotImplementedError\u001b[0m: "
     ]
    }
   ],
   "source": [
    "inv_runner = InversionRunner(grav_problem, inv_options)\n",
    "inv_runner.summary()"
   ]
  },
  {
   "cell_type": "code",
   "execution_count": null,
   "id": "acd1ef01-d9f8-4819-97d0-ff8572b2013c",
   "metadata": {},
   "outputs": [],
   "source": [
    "inv_result = inv_runner.run()\n",
    "inv_result.summary()"
   ]
  },
  {
   "cell_type": "markdown",
   "id": "d5cc1c29-4cd9-4c6b-9ad8-57f282592732",
   "metadata": {},
   "source": [
    "---"
   ]
  }
 ],
 "metadata": {
  "kernelspec": {
   "display_name": "Python 3 (ipykernel)",
   "language": "python",
   "name": "python3"
  },
  "language_info": {
   "codemirror_mode": {
    "name": "ipython",
    "version": 3
   },
   "file_extension": ".py",
   "mimetype": "text/x-python",
   "name": "python",
   "nbconvert_exporter": "python",
   "pygments_lexer": "ipython3",
   "version": "3.9.11"
  }
 },
 "nbformat": 4,
 "nbformat_minor": 5
}
