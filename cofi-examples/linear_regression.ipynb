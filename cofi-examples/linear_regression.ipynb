{
 "cells": [
  {
   "cell_type": "markdown",
   "metadata": {},
   "source": [
    "# Polynomial Linear Regression\n",
    "\n",
    "To get started, we look at a simple linear regression example with `cofi`.\n",
    "\n",
    "We assume a linear problem, for which we know a dataset X, Y and a polynomial forward function with a degree of 3."
   ]
  },
  {
   "cell_type": "markdown",
   "metadata": {},
   "source": [
    "---\n",
    "## 0. Import modules"
   ]
  },
  {
   "cell_type": "code",
   "execution_count": 1,
   "metadata": {},
   "outputs": [],
   "source": [
    "import numpy as np\n",
    "import matplotlib.pyplot as plt\n",
    "\n",
    "from cofi import BaseProblem, InversionOptions, InversionRunner"
   ]
  },
  {
   "cell_type": "markdown",
   "metadata": {},
   "source": [
    "---\n",
    "## 1. Define the problem"
   ]
  },
  {
   "cell_type": "code",
   "execution_count": 2,
   "metadata": {},
   "outputs": [
    {
     "data": {
      "text/plain": [
       "<matplotlib.collections.PathCollection at 0x7f83043c6ac0>"
      ]
     },
     "execution_count": 2,
     "metadata": {},
     "output_type": "execute_result"
    },
    {
     "data": {
      "image/png": "[encoded data removed]",
      "text/plain": [
       "<Figure size 864x576 with 1 Axes>"
      ]
     },
     "metadata": {
      "needs_background": "light"
     },
     "output_type": "display_data"
    }
   ],
   "source": [
    "# generate data with random Gaussian noise\n",
    "basis_func = lambda x: np.array([x**i for i in range(4)]).T               # x -> G\n",
    "_m_true = np.array([-6,-5,2,1])                                           # m\n",
    "\n",
    "sample_size = 20                                                          # N\n",
    "x = np.random.choice(np.linspace(-3.5,2.5), size=sample_size)             # x\n",
    "forward_func = lambda m: basis_func(x) @ m                                # m -> y_synthesis\n",
    "y_observed = forward_func(_m_true) + np.random.normal(0,1,sample_size)    # d\n",
    "\n",
    "############## PLOTTING ###############################################################\n",
    "_x_plot = np.linspace(-3.5,2.5)\n",
    "_G_plot = basis_func(_x_plot)\n",
    "_y_plot = _G_plot @ _m_true\n",
    "plt.figure(figsize=(12,8))\n",
    "plt.plot(_x_plot, _y_plot, color=\"darkorange\")\n",
    "plt.scatter(x, y_observed, color=\"lightcoral\")"
   ]
  },
  {
   "cell_type": "code",
   "execution_count": 3,
   "metadata": {},
   "outputs": [
    {
     "name": "stdout",
     "output_type": "stream",
     "text": [
      "Summary for inversion problem: BaseProblem\n",
      "==========================================\n",
      "Model shape: Unknown\n",
      "------------------------------------------\n",
      "List of functions / properties defined:\n",
      "['residual', 'jacobian', 'forward', 'dataset']\n"
     ]
    }
   ],
   "source": [
    "# define the problem\n",
    "inv_problem = BaseProblem()\n",
    "inv_problem.set_dataset(x, y_observed)\n",
    "inv_problem.set_forward(forward_func)\n",
    "inv_problem.set_jacobian(basis_func(x))\n",
    "\n",
    "inv_problem.summary()"
   ]
  },
  {
   "cell_type": "markdown",
   "metadata": {},
   "source": [
    "---\n",
    "## 2. Define the inversion"
   ]
  },
  {
   "cell_type": "code",
   "execution_count": 4,
   "metadata": {},
   "outputs": [
    {
     "name": "stdout",
     "output_type": "stream",
     "text": [
      "Summary for inversion options\n",
      "=============================\n",
      "Solving method: Not set yet\n",
      "Backend tool: scipy.optimize.minimize (by default)\n",
      "-----------------------------\n",
      "Solver-specific parameters: Not set yet\n"
     ]
    }
   ],
   "source": [
    "inv_options = InversionOptions()\n",
    "inv_options.summary()"
   ]
  },
  {
   "cell_type": "code",
   "execution_count": 5,
   "metadata": {},
   "outputs": [
    {
     "name": "stdout",
     "output_type": "stream",
     "text": [
      "Here's a complete list of inversion solvers supported by CoFI (grouped by methods):\n",
      "{\n",
      "    \"optimisation\": [\n",
      "        \"scipy.optimize.minimize\"\n",
      "    ],\n",
      "    \"least square\": [\n",
      "        \"numpy.linalg.lstsq\"\n",
      "    ]\n",
      "}\n"
     ]
    }
   ],
   "source": [
    "inv_options.suggest_tools()"
   ]
  },
  {
   "cell_type": "code",
   "execution_count": 6,
   "metadata": {},
   "outputs": [
    {
     "name": "stdout",
     "output_type": "stream",
     "text": [
      "Summary for inversion options\n",
      "=============================\n",
      "Solving method: least square\n",
      "Backend tool: numpy.linalg.lstsq (by default)\n",
      "-----------------------------\n",
      "Solver-specific parameters: Not set yet\n"
     ]
    }
   ],
   "source": [
    "inv_options.set_solving_method(\"least square\")\n",
    "inv_options.summary()"
   ]
  },
  {
   "cell_type": "markdown",
   "metadata": {},
   "source": [
    "---\n",
    "\n",
    "As the \"summary\" suggested, you've set the solving method, so you can skip the step of\n",
    "setting a backend tool because there's a default one.\n",
    "\n",
    "If there are more backend tool options, then use the following function to see available\n",
    "options and set your desired backend solver."
   ]
  },
  {
   "cell_type": "code",
   "execution_count": 7,
   "metadata": {},
   "outputs": [
    {
     "name": "stdout",
     "output_type": "stream",
     "text": [
      "Based on the solving method you've set, the following tools are suggested:\n",
      "['numpy.linalg.lstsq']\n",
      "\n",
      "Use `InversionOptions.set_tool(tool_name)` to set a specific tool from above\n",
      "Use `InversionOptions.set_solving_method(tool_name)` to change solving method\n",
      "Use `InversionOptions.unset_solving_method()` if you'd like to see more options\n",
      "Check CoFI documentation 'Advanced Usage' section for how to plug in your own solver\n"
     ]
    }
   ],
   "source": [
    "inv_options.suggest_tools()"
   ]
  },
  {
   "cell_type": "code",
   "execution_count": 14,
   "metadata": {},
   "outputs": [
    {
     "name": "stdout",
     "output_type": "stream",
     "text": [
      "Summary for inversion options\n",
      "=============================\n",
      "Solving method: least square\n",
      "Backend tool: numpy.linalg.lstsq\n",
      "-----------------------------\n",
      "Solver-specific parameters: Not set yet\n"
     ]
    }
   ],
   "source": [
    "inv_options.set_tool(\"numpy.linalg.lstsq\")\n",
    "inv_options.summary()"
   ]
  },
  {
   "cell_type": "markdown",
   "metadata": {},
   "source": [
    "---\n",
    "## 3. Start an inversion runner"
   ]
  },
  {
   "cell_type": "code",
   "execution_count": 9,
   "metadata": {},
   "outputs": [
    {
     "name": "stdout",
     "output_type": "stream",
     "text": [
      "Summary for inversion runner\n",
      "=======================================\n",
      "Inversion hasn't started, try `runner.run()` to see result\n",
      "---------------------------------------\n",
      "With inversion solver defined as below:\n",
      "\n",
      "Summary for inversion options\n",
      "Solving method: least square\n",
      "Backend tool: numpy.linalg.lstsq\n",
      "Solver-specific parameters: Not set yet\n",
      "---------------------------------------\n",
      "For inversion problem defined as below:\n",
      "\n",
      "Summary for inversion problem: BaseProblem\n",
      "Model shape: Unknown\n",
      "List of functions / properties defined:\n",
      "['residual', 'jacobian', 'forward', 'dataset']\n"
     ]
    }
   ],
   "source": [
    "inv_runner = InversionRunner(inv_problem, inv_options)\n",
    "inv_runner.summary()"
   ]
  },
  {
   "cell_type": "code",
   "execution_count": 10,
   "metadata": {},
   "outputs": [
    {
     "data": {
      "text/plain": [
       "True"
      ]
     },
     "execution_count": 10,
     "metadata": {},
     "output_type": "execute_result"
    }
   ],
   "source": [
    "inv_result = inv_runner.run()\n",
    "inv_result.ok"
   ]
  },
  {
   "cell_type": "code",
   "execution_count": 11,
   "metadata": {},
   "outputs": [
    {
     "name": "stdout",
     "output_type": "stream",
     "text": [
      "Summary for inversion result\n",
      "============================\n",
      "SUCCESS\n",
      "----------------------------\n",
      "model: [-5.65075328 -4.89920453  2.00071224  0.98958859]\n",
      "residuals: [12.64333816]\n",
      "rank: 4\n",
      "singular_values: [61.61917544 11.11706045  3.33512846  3.04255617]\n"
     ]
    }
   ],
   "source": [
    "inv_result.summary()"
   ]
  },
  {
   "cell_type": "markdown",
   "metadata": {},
   "source": [
    "---\n",
    "## 4. Check back your problem setting, inversion setting & result"
   ]
  },
  {
   "cell_type": "code",
   "execution_count": 13,
   "metadata": {},
   "outputs": [
    {
     "name": "stdout",
     "output_type": "stream",
     "text": [
      "Summary for inversion runner\n",
      "=======================================\n",
      "Trained with the following result:\n",
      "\n",
      "Summary for inversion result\n",
      "SUCCESS\n",
      "model: [-5.65075328 -4.89920453  2.00071224  0.98958859]\n",
      "residuals: [12.64333816]\n",
      "rank: 4\n",
      "singular_values: [61.61917544 11.11706045  3.33512846  3.04255617]\n",
      "---------------------------------------\n",
      "With inversion solver defined as below:\n",
      "\n",
      "Summary for inversion options\n",
      "Solving method: least square\n",
      "Backend tool: numpy.linalg.lstsq\n",
      "Solver-specific parameters: Not set yet\n",
      "---------------------------------------\n",
      "For inversion problem defined as below:\n",
      "\n",
      "Summary for inversion problem: BaseProblem\n",
      "Model shape: Unknown\n",
      "List of functions / properties defined:\n",
      "['residual', 'jacobian', 'forward', 'dataset']\n"
     ]
    }
   ],
   "source": [
    "inv_runner.summary()"
   ]
  },
  {
   "cell_type": "code",
   "execution_count": 15,
   "metadata": {},
   "outputs": [
    {
     "data": {
      "text/plain": [
       "<matplotlib.collections.PathCollection at 0x7f8304947f40>"
      ]
     },
     "execution_count": 15,
     "metadata": {},
     "output_type": "execute_result"
    },
    {
     "data": {
      "image/png": "[encoded data removed]",
      "text/plain": [
       "<Figure size 864x576 with 1 Axes>"
      ]
     },
     "metadata": {
      "needs_background": "light"
     },
     "output_type": "display_data"
    }
   ],
   "source": [
    "y_synthesis = inv_problem.forward(inv_result.model)\n",
    "\n",
    "############## PLOTTING ###############################################################\n",
    "_x_plot = np.linspace(-3.5,2.5)\n",
    "_G_plot = basis_func(_x_plot)\n",
    "_y_plot = _G_plot @ _m_true\n",
    "plt.figure(figsize=(12,8))\n",
    "plt.plot(_x_plot, _y_plot, color=\"darkorange\")\n",
    "plt.scatter(x, y_synthesis, color=\"lightcoral\")"
   ]
  },
  {
   "cell_type": "markdown",
   "metadata": {},
   "source": [
    "---"
   ]
  }
 ],
 "metadata": {
  "interpreter": {
   "hash": "82521f8c6d46dbe13b9e99c6a95164e7b000b3cca9173433679abe48ca711ce5"
  },
  "kernelspec": {
   "display_name": "Python 3 (ipykernel)",
   "language": "python",
   "name": "python3"
  },
  "language_info": {
   "codemirror_mode": {
    "name": "ipython",
    "version": 3
   },
   "file_extension": ".py",
   "mimetype": "text/x-python",
   "name": "python",
   "nbconvert_exporter": "python",
   "pygments_lexer": "ipython3",
   "version": "3.9.11"
  }
 },
 "nbformat": 4,
 "nbformat_minor": 4
}
