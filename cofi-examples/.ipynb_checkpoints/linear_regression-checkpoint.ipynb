{
 "cells": [
  {
   "cell_type": "markdown",
   "metadata": {},
   "source": [
    "# Polynomial Linear Regression\n",
    "\n",
    "To get started, we look at a simple linear regression example with `cofi`.\n",
    "\n",
    "We assume a linear problem, for which we know a dataset X, Y and the basis function to be polynomial with a degree of 3."
   ]
  },
  {
   "cell_type": "markdown",
   "metadata": {},
   "source": [
    "### 1. Import modules"
   ]
  },
  {
   "cell_type": "code",
   "execution_count": 3,
   "metadata": {},
   "outputs": [],
   "source": [
    "import numpy as np\n",
    "import matplotlib.pyplot as plt\n",
    "\n",
    "from cofi import BaseProblem, InversionOptions, InversionRunner"
   ]
  },
  {
   "cell_type": "markdown",
   "metadata": {},
   "source": [
    "### 2. Define the problem"
   ]
  },
  {
   "cell_type": "code",
   "execution_count": 23,
   "metadata": {},
   "outputs": [
    {
     "name": "stdout",
     "output_type": "stream",
     "text": [
      "[44. 98. 17. 29. 58.  5. 29. 43. 27. 27. 68. 79. 20. 91. 10. 27. 90. 93.\n",
      " 46. 42.]\n",
      "(100,) (100,) (20,) (20,)\n"
     ]
    },
    {
     "data": {
      "text/plain": [
       "<matplotlib.collections.PathCollection at 0x7fe65e388850>"
      ]
     },
     "execution_count": 23,
     "metadata": {},
     "output_type": "execute_result"
    },
    {
     "data": {
      "image/png": "[encoded data removed]",
      "text/plain": [
       "<Figure size 432x288 with 1 Axes>"
      ]
     },
     "metadata": {
      "needs_background": "light"
     },
     "output_type": "display_data"
    }
   ],
   "source": [
    "# generate data with random Gaussian noise\n",
    "basis_func = lambda x: np.array([x**i for i in range(5)]).T\n",
    "_m_true = np.array([2,1,3,2,1])\n",
    "\n",
    "sample_size = 20\n",
    "x = np.random.choice(np.linspace(1,100,100), size=sample_size)\n",
    "print(x)\n",
    "y_observed = basis_func(x) @ _m_true + np.random.normal(0,300,sample_size)\n",
    "\n",
    "#\n",
    "\n",
    "#### BELOW CODE FOR PLOTTING, NVM #################################\n",
    "_x_plot = np.linspace(1,100,100)\n",
    "_G_plot = basis_func(_x_plot)\n",
    "_y_plot = _G_plot @ _m_true\n",
    "print(_x_plot.shape, _y_plot.shape, x.shape, y_observed.shape)\n",
    "plt.plot(_x_plot, _y_plot)\n",
    "plt.scatter(x, y_observed)"
   ]
  },
  {
   "cell_type": "code",
   "execution_count": null,
   "metadata": {},
   "outputs": [],
   "source": []
  }
 ],
 "metadata": {
  "interpreter": {
   "hash": "82521f8c6d46dbe13b9e99c6a95164e7b000b3cca9173433679abe48ca711ce5"
  },
  "kernelspec": {
   "display_name": "Python 3.9.7 ('cofi_dev')",
   "language": "python",
   "name": "python3"
  },
  "language_info": {
   "codemirror_mode": {
    "name": "ipython",
    "version": 3
   },
   "file_extension": ".py",
   "mimetype": "text/x-python",
   "name": "python",
   "nbconvert_exporter": "python",
   "pygments_lexer": "ipython3",
   "version": "3.9.7"
  },
  "orig_nbformat": 4
 },
 "nbformat": 4,
 "nbformat_minor": 2
}
