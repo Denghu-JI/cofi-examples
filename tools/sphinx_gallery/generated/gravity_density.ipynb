{
  "cells": [
    {
      "cell_type": "code",
      "execution_count": null,
      "metadata": {
        "collapsed": false
      },
      "outputs": [],
      "source": [
        "%matplotlib inline"
      ]
    },
    {
      "cell_type": "markdown",
      "metadata": {},
      "source": [
        "# Gravity Density Model\n"
      ]
    },
    {
      "cell_type": "markdown",
      "metadata": {},
      "source": [
        "```{=html}\n<badge><a href=\"https://colab.research.google.com/github/inlab-geo/cofi-examples/blob/main/notebooks/gravity/gravity_density.ipynb\" target=\"_parent\"><img src=\"https://colab.research.google.com/assets/colab-badge.svg\" alt=\"Open In Colab\"/></a></badge>\n```\n"
      ]
    },
    {
      "cell_type": "markdown",
      "metadata": {},
      "source": [
        "If you are running this notebook locally, make sure you've followed\n[steps\nhere](https://github.com/inlab-geo/cofi-examples#run-the-examples-with-cofi-locally)\nto set up the environment. (This\n[environment.yml](https://github.com/inlab-geo/cofi-examples/blob/main/envs/environment.yml)\nfile specifies a list of packages required to run the notebooks)\n"
      ]
    },
    {
      "cell_type": "markdown",
      "metadata": {},
      "source": [
        "Adapted from [gravity forward\ncode](https://github.com/inlab-geo/inversion-test-problems/blob/main/contrib/gravityforward/__init__.py)\nwritten in inversion-test-problems\n"
      ]
    },
    {
      "cell_type": "markdown",
      "metadata": {},
      "source": [
        "------------------------------------------------------------------------\n\n# 0. Import modules\n"
      ]
    },
    {
      "cell_type": "code",
      "execution_count": null,
      "metadata": {
        "collapsed": false
      },
      "outputs": [],
      "source": [
        "# -------------------------------------------------------- #\n#                                                          #\n#     Uncomment below to set up environment on \"colab\"     #\n#                                                          #\n# -------------------------------------------------------- #\n\n# !pip install -U cofi"
      ]
    },
    {
      "cell_type": "code",
      "execution_count": null,
      "metadata": {
        "collapsed": false
      },
      "outputs": [],
      "source": [
        "import numpy as np\nimport matplotlib.pyplot as plt\n\nfrom cofi import BaseProblem, InversionOptions, Inversion\n\nfrom gravity_density_lib import *\n\nnp.random.seed(42)"
      ]
    },
    {
      "cell_type": "markdown",
      "metadata": {},
      "source": [
        "------------------------------------------------------------------------\n\n# 1. Define the problem\n\n```{=html}\n<!-- I took out gx, gy for now to make it more straight forward. We can add all kinds of things once it is working.  -->\n```\nThis problem explores the gravitational acceleration of a\nthree-dimensional density model onto specified receiver locations. In\nthis example, only the z-component of the gravityational force is\ncalculated. The underlying code itself is capable of calculating all\nthree gravity components and six gradiometry components and could be\nmodified quickly if there is the need.\n\nThe gravitational acceleration is calculated using Newton's law of\nuniversal gravitation:\n\n$$g (r) =- G \\frac{ m} {r^2}$$\n\nWith G being the gravitational constant, r is the distance of the mass\nto the receiver and m is the overall mass of the model, which depends on\nthe density $\\rho$ and the volume V:\n\n$$m = \\int_V {\\rho(r) dV}$$\n\nHere, we solve volume integral for the vertical component of $g$\nanalytically, using the approach by Plouff et al., 1976:\n\n$$g_z(M,N)=G \\rho \\sum_{i=1}^2 \\sum_{j=1}^2 \\sum_{k=1}^2  (-1)^{i+j+k} [tan^{-1} \\frac{a_ib_j}{z_k R_{ijk}} - a_i ln(R_{ijk} + b_j) - b_j ln(R_{ijk} + a_i)]$$\n\nwith $R_{ijk}=\\sqrt{a_i^2 + b_j^2 + z_k^2}$ and $a_i, b_j, z_k$ being\nthe distances from receiver N to the nodes of the current prism M\n(i.e.\u00a0grid cell) in x, y, and z directions. It is assumed that\n$\\rho=const.$ within each grid cell. For more information, please see\nthe original paper:\n\nPlouff, D., 1976. *Gravity and magnetic fields of polygonal prisms and\napplication to magnetic terrain corrections.* **Geophysics**, 41(4),\npp.727-741\n\nFor further reading, see also Nagy et al., 2000:\n\nNagy, D., Papp, G. and Benedek, J., 2000. *The gravitational potential\nand its derivatives for the prism.* **Journal of Geodesy**, 74(7),\npp.552-560\n\n**Example details:**\n\n1.  **Model:** Density values on a regularly spaced, rectangular grid.\n    Example-model one is a 3D cube of low density (10 $kgm^{-3}$)\n    containing a centrally located high-density cube (1000 $kgm^{-3}$).\n    Example-model two repeats Figure 2 of Last and Kubik, 1983, which\n    means a pseudo-2D model containing zero-density background cells and\n    centrally high-density cells in the shape of a cross (1000\n    $kgm^{-3}$).\n\n    Last, B.J. and Kubik, K., 1983. *Compact gravity inversion.*\n    **Geophysics**, 48(6), pp.713-721\n\n2.  **Returned data:** Gravitational acceleration (vertical component).\n\n3.  **Forward:** The volume integral is solved analytically following\n    the above described approach by Plouff et al., 1976.\n"
      ]
    },
    {
      "cell_type": "code",
      "execution_count": null,
      "metadata": {
        "collapsed": false
      },
      "outputs": [],
      "source": [
        "# Load true model and starting guesses\nrec_coords, _, _, z_nodes, model = load_gravity_model()\nStarting_model1, Starting_model2, Starting_model3 = load_starting_models()\n\n# Create \"observed\" data by adding noise to forward solution\nnoise_level=0.05\ngz = forward(model)\ndataZ_obs= gz + np.random.normal(loc=0,scale=noise_level*np.max(np.abs(gz)),size=np.shape(gz))  \n\n# Create jacobian\nJz = get_jacobian(model)\n\n# Define depth weighting values\nz0=18.6\nbeta=2\n# Define regularization parameter\nepsilon=0.2\n\n# Create regularization\n# Calculate depth weighting fcn - high values at low z, low values at high z, no zeros.\n# Model is [Nx1] with N: no. of cells; W is [NxN] with weighting values on diagonal\nW=depth_weight(z_nodes[:,0],z0,beta)\nW=np.diag(W)\n\n# Set CoFI problem:\ngrav_problem = BaseProblem()\ngrav_problem.name = \"Gravity\"\ngrav_problem.set_data(gz)\n\n# Here I linked the function, not the result\ngrav_problem.set_forward(forward)\n\n# Here I linked to the actual jacobian. Jacobian size is (MxN) with M: receiver and N: model cells\ngrav_problem.set_jacobian(Jz)\n\n# Set regularization; reg is a function that takes the model as input\ngrav_problem.set_regularisation(reg_l1, epsilon, args=[W])\n\n# Use default L2 misfit\ngrav_problem.set_data_misfit(\"L2\")\ngrav_problem.set_initial_model(Starting_model3)\n\n# Set gradient, in hope of helping optimisers converge better\ndef data_misfit_gradient(model):\n    return 2* Jz.T @ (forward(model) - gz) / gz.shape[0]\ngrav_problem.set_gradient(lambda m: data_misfit_gradient(m) + epsilon*reg_gradient_l1(m, W))\n\ngrav_problem.summary()"
      ]
    },
    {
      "cell_type": "markdown",
      "metadata": {},
      "source": [
        "------------------------------------------------------------------------\n\n# 2. Define the inversion\n"
      ]
    },
    {
      "cell_type": "code",
      "execution_count": null,
      "metadata": {
        "collapsed": false
      },
      "outputs": [],
      "source": [
        "inv_options = InversionOptions()\ninv_options.set_tool(\"scipy.optimize.least_squares\")\n\ninv_options.summary()"
      ]
    },
    {
      "cell_type": "markdown",
      "metadata": {},
      "source": [
        "------------------------------------------------------------------------\n\n# 3. Start an inversion runner\n"
      ]
    },
    {
      "cell_type": "code",
      "execution_count": null,
      "metadata": {
        "collapsed": false
      },
      "outputs": [],
      "source": [
        "inv = Inversion(grav_problem, inv_options)\n# inv.summary()"
      ]
    },
    {
      "cell_type": "code",
      "execution_count": null,
      "metadata": {
        "collapsed": false
      },
      "outputs": [],
      "source": [
        "inv_result = inv.run()\ninv_result.summary()"
      ]
    },
    {
      "cell_type": "markdown",
      "metadata": {},
      "source": [
        "Let's see the density image from a vertical plane:\n"
      ]
    },
    {
      "cell_type": "code",
      "execution_count": null,
      "metadata": {
        "collapsed": false
      },
      "outputs": [],
      "source": [
        "result_model = inv_result.model.reshape(12,12,12)\n\nplt.imshow(result_model[::-1,6,:])\nplt.colorbar();"
      ]
    },
    {
      "cell_type": "markdown",
      "metadata": {},
      "source": [
        "From a different angle:\n"
      ]
    },
    {
      "cell_type": "code",
      "execution_count": null,
      "metadata": {
        "collapsed": false
      },
      "outputs": [],
      "source": [
        "plt.imshow(result_model[6,:,:])\nplt.colorbar();"
      ]
    },
    {
      "cell_type": "markdown",
      "metadata": {},
      "source": [
        "------------------------------------------------------------------------\n\n# Watermark\n"
      ]
    },
    {
      "cell_type": "code",
      "execution_count": null,
      "metadata": {
        "collapsed": false
      },
      "outputs": [],
      "source": [
        "watermark_list = [\"cofi\", \"numpy\", \"scipy\", \"matplotlib\", \"emcee\", \"arviz\"]\nfor pkg in watermark_list:\n    pkg_var = __import__(pkg)\n    print(pkg, getattr(pkg_var, \"__version__\"))"
      ]
    }
  ],
  "metadata": {
    "kernelspec": {
      "display_name": "Python 3",
      "language": "python",
      "name": "python3"
    },
    "language_info": {
      "codemirror_mode": {
        "name": "ipython",
        "version": 3
      },
      "file_extension": ".py",
      "mimetype": "text/x-python",
      "name": "python",
      "nbconvert_exporter": "python",
      "pygments_lexer": "ipython3",
      "version": "3.10.6"
    }
  },
  "nbformat": 4,
  "nbformat_minor": 0
}